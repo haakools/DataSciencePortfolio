{
 "cells": [
  {
   "cell_type": "code",
   "execution_count": 97,
   "metadata": {},
   "outputs": [],
   "source": [
    "import requests\n",
    "from bs4 import BeautifulSoup\n",
    "\n"
   ]
  },
  {
   "cell_type": "code",
   "execution_count": 107,
   "metadata": {},
   "outputs": [],
   "source": [
    "URL = 'https://www.whoscored.com/Regions/252/Tournaments/2/Seasons/8618/Stages/19793/PlayerStatistics/England-Premier-League-2021-2022'\n",
    "\n",
    "# Headers to mimic a browser visit\n",
    "headers = {'User-Agent': 'Mozilla/5.0'}\n",
    "\n",
    "# Returns a requests.models.Response object\n",
    "page = requests.get(URL, headers=headers)"
   ]
  },
  {
   "cell_type": "code",
   "execution_count": 110,
   "metadata": {},
   "outputs": [
    {
     "name": "stdout",
     "output_type": "stream",
     "text": [
      "<html style=\"height:100%\">\n",
      " <head>\n",
      "  <meta content=\"NOINDEX, NOFOLLOW\" name=\"ROBOTS\"/>\n",
      "  <meta content=\"telephone=no\" name=\"format-detection\"/>\n",
      "  <meta content=\"initial-scale=1.0\" name=\"viewport\"/>\n",
      "  <meta content=\"IE=edge,chrome=1\" http-equiv=\"X-UA-Compatible\"/>\n",
      "  <script src=\"/_Incapsula_Resource?SWJIYLWA=719d34d31c8e3a6e6fffd425f7e032f3\" type=\"text/javascript\">\n",
      "  </script>\n",
      " </head>\n",
      " <body style=\"margin:0px;height:100%\">\n",
      "  <iframe frameborder=\"0\" height=\"100%\" id=\"main-iframe\" marginheight=\"0px\" marginwidth=\"0px\" src=\"/_Incapsula_Resource?SWUDNSAI=31&amp;xinfo=13-40867807-0%200NNN%20RT%281648500910852%2020%29%20q%280%20-1%20-1%200%29%20r%280%20-1%29%20B12%2811%2c8628%2c0%29%20U18&amp;incident_id=275000360060828698-158013088083413261&amp;edet=12&amp;cinfo=0b000000&amp;rpinfo=0&amp;cts=ZbdJzPFRg7Ry%2fnG5V5TYEp%2fdILsJxuvmJoH%2b9qZRLjaHb4VPQmjWe847WFe5seBN&amp;mth=GET\" width=\"100%\">\n",
      "   Request unsuccessful. Incapsula incident ID: 275000360060828698-158013088083413261\n",
      "  </iframe>\n",
      " </body>\n",
      "</html>\n"
     ]
    }
   ],
   "source": [
    "# creating a syntax tree\n",
    "soup = BeautifulSoup(page.text, 'html.parser')\n",
    "print(soup.prettify())"
   ]
  },
  {
   "cell_type": "code",
   "execution_count": 101,
   "metadata": {},
   "outputs": [],
   "source": [
    "# find_all : looks at all the ancor tags with \"span\". Usage of \"class_\" is because class in python is a separate thing.\n",
    "domains = soup.find_all(\"span\", class_=\"iconize iconize-icon-left\")"
   ]
  },
  {
   "cell_type": "code",
   "execution_count": 95,
   "metadata": {},
   "outputs": [],
   "source": [
    "from selenium import webdriver\n",
    "from selenium.webdriver.chrome.service import Service as ChromeService\n",
    "import time\n",
    "from bs4 import BeautifulSoup"
   ]
  },
  {
   "cell_type": "code",
   "execution_count": 96,
   "metadata": {},
   "outputs": [
    {
     "ename": "SessionNotCreatedException",
     "evalue": "Message: session not created: This version of ChromeDriver only supports Chrome version 80\nStacktrace:\nBacktrace:\n\tOrdinal0 [0x00C40AE3+1706723]\n\tOrdinal0 [0x00BA68C1+1075393]\n\tOrdinal0 [0x00B1DFA9+516009]\n\tOrdinal0 [0x00AB0554+66900]\n\tOrdinal0 [0x00AACCE2+52450]\n\tOrdinal0 [0x00ACBFD7+180183]\n\tOrdinal0 [0x00ACBDDD+179677]\n\tOrdinal0 [0x00AC9D4B+171339]\n\tOrdinal0 [0x00AB1D4A+73034]\n\tOrdinal0 [0x00AB2DC0+77248]\n\tOrdinal0 [0x00AB2D59+77145]\n\tOrdinal0 [0x00BBBB37+1162039]\n\tGetHandleVerifier [0x00CDA7C6+508998]\n\tGetHandleVerifier [0x00CDA504+508292]\n\tGetHandleVerifier [0x00CEF617+594583]\n\tGetHandleVerifier [0x00CDB036+511158]\n\tOrdinal0 [0x00BB3FFC+1130492]\n\tOrdinal0 [0x00BBD49B+1168539]\n\tOrdinal0 [0x00BBD603+1168899]\n\tOrdinal0 [0x00BD5B05+1268485]\n\tBaseThreadInitThunk [0x7697FA29+25]\n\tRtlGetAppContainerNamedObjectPath [0x77D07A7E+286]\n\tRtlGetAppContainerNamedObjectPath [0x77D07A4E+238]\n",
     "output_type": "error",
     "traceback": [
      "\u001b[1;31m---------------------------------------------------------------------------\u001b[0m",
      "\u001b[1;31mSessionNotCreatedException\u001b[0m                Traceback (most recent call last)",
      "\u001b[1;32m<ipython-input-96-e59f8cc7783a>\u001b[0m in \u001b[0;36m<module>\u001b[1;34m\u001b[0m\n\u001b[0;32m      3\u001b[0m \u001b[0mchrome_driver_path\u001b[0m \u001b[1;33m=\u001b[0m \u001b[1;34mr'F:\\chromedriver_win32\\chromedriver.exe'\u001b[0m\u001b[1;33m\u001b[0m\u001b[1;33m\u001b[0m\u001b[0m\n\u001b[0;32m      4\u001b[0m \u001b[0mservice\u001b[0m \u001b[1;33m=\u001b[0m \u001b[0mChromeService\u001b[0m\u001b[1;33m(\u001b[0m\u001b[0mexecutable_path\u001b[0m\u001b[1;33m=\u001b[0m\u001b[0mchrome_driver_path\u001b[0m\u001b[1;33m)\u001b[0m\u001b[1;33m\u001b[0m\u001b[1;33m\u001b[0m\u001b[0m\n\u001b[1;32m----> 5\u001b[1;33m \u001b[0mdriver\u001b[0m \u001b[1;33m=\u001b[0m \u001b[0mwebdriver\u001b[0m\u001b[1;33m.\u001b[0m\u001b[0mChrome\u001b[0m\u001b[1;33m(\u001b[0m\u001b[0mservice\u001b[0m\u001b[1;33m=\u001b[0m\u001b[0mservice\u001b[0m\u001b[1;33m)\u001b[0m\u001b[1;33m\u001b[0m\u001b[1;33m\u001b[0m\u001b[0m\n\u001b[0m\u001b[0;32m      6\u001b[0m \u001b[0mwebsite\u001b[0m \u001b[1;33m=\u001b[0m \u001b[1;34m\"https://www.amazon.com\"\u001b[0m\u001b[1;33m\u001b[0m\u001b[1;33m\u001b[0m\u001b[0m\n\u001b[0;32m      7\u001b[0m \u001b[0mdriver\u001b[0m\u001b[1;33m.\u001b[0m\u001b[0mget\u001b[0m\u001b[1;33m(\u001b[0m\u001b[0mwebsite\u001b[0m\u001b[1;33m)\u001b[0m\u001b[1;33m\u001b[0m\u001b[1;33m\u001b[0m\u001b[0m\n",
      "\u001b[1;32m~\\Anaconda3\\envs\\tensorflow\\lib\\site-packages\\selenium\\webdriver\\chrome\\webdriver.py\u001b[0m in \u001b[0;36m__init__\u001b[1;34m(self, executable_path, port, options, service_args, desired_capabilities, service_log_path, chrome_options, service, keep_alive)\u001b[0m\n",
      "\u001b[1;32m~\\Anaconda3\\envs\\tensorflow\\lib\\site-packages\\selenium\\webdriver\\chromium\\webdriver.py\u001b[0m in \u001b[0;36m__init__\u001b[1;34m(self, browser_name, vendor_prefix, port, options, service_args, desired_capabilities, service_log_path, service, keep_alive)\u001b[0m\n",
      "\u001b[1;32m~\\Anaconda3\\envs\\tensorflow\\lib\\site-packages\\selenium\\webdriver\\remote\\webdriver.py\u001b[0m in \u001b[0;36m__init__\u001b[1;34m(self, command_executor, desired_capabilities, browser_profile, proxy, keep_alive, file_detector, options)\u001b[0m\n",
      "\u001b[1;32m~\\Anaconda3\\envs\\tensorflow\\lib\\site-packages\\selenium\\webdriver\\remote\\webdriver.py\u001b[0m in \u001b[0;36mstart_session\u001b[1;34m(self, capabilities, browser_profile)\u001b[0m\n",
      "\u001b[1;32m~\\Anaconda3\\envs\\tensorflow\\lib\\site-packages\\selenium\\webdriver\\remote\\webdriver.py\u001b[0m in \u001b[0;36mexecute\u001b[1;34m(self, driver_command, params)\u001b[0m\n",
      "\u001b[1;32m~\\Anaconda3\\envs\\tensorflow\\lib\\site-packages\\selenium\\webdriver\\remote\\errorhandler.py\u001b[0m in \u001b[0;36mcheck_response\u001b[1;34m(self, response)\u001b[0m\n",
      "\u001b[1;31mSessionNotCreatedException\u001b[0m: Message: session not created: This version of ChromeDriver only supports Chrome version 80\nStacktrace:\nBacktrace:\n\tOrdinal0 [0x00C40AE3+1706723]\n\tOrdinal0 [0x00BA68C1+1075393]\n\tOrdinal0 [0x00B1DFA9+516009]\n\tOrdinal0 [0x00AB0554+66900]\n\tOrdinal0 [0x00AACCE2+52450]\n\tOrdinal0 [0x00ACBFD7+180183]\n\tOrdinal0 [0x00ACBDDD+179677]\n\tOrdinal0 [0x00AC9D4B+171339]\n\tOrdinal0 [0x00AB1D4A+73034]\n\tOrdinal0 [0x00AB2DC0+77248]\n\tOrdinal0 [0x00AB2D59+77145]\n\tOrdinal0 [0x00BBBB37+1162039]\n\tGetHandleVerifier [0x00CDA7C6+508998]\n\tGetHandleVerifier [0x00CDA504+508292]\n\tGetHandleVerifier [0x00CEF617+594583]\n\tGetHandleVerifier [0x00CDB036+511158]\n\tOrdinal0 [0x00BB3FFC+1130492]\n\tOrdinal0 [0x00BBD49B+1168539]\n\tOrdinal0 [0x00BBD603+1168899]\n\tOrdinal0 [0x00BD5B05+1268485]\n\tBaseThreadInitThunk [0x7697FA29+25]\n\tRtlGetAppContainerNamedObjectPath [0x77D07A7E+286]\n\tRtlGetAppContainerNamedObjectPath [0x77D07A4E+238]\n"
     ]
    }
   ],
   "source": [
    "url = 'https://www.whoscored.com/Regions/252/Tournaments/2/Seasons/8618/Stages/19793/PlayerStatistics/England-Premier-League-2021-2022'\n",
    "\n",
    "chrome_driver_path = r'F:\\chromedriver_win32\\chromedriver.exe'\n",
    "service = ChromeService(executable_path=chrome_driver_path)\n",
    "driver = webdriver.Chrome(service=service)\n",
    "website = \"https://www.amazon.com\"\n",
    "driver.get(website)\n",
    "\n",
    "\n",
    "\n",
    "driver.maximize_window()\n",
    "driver.get(url)"
   ]
  }
 ],
 "metadata": {
  "kernelspec": {
   "display_name": "Python 3",
   "language": "python",
   "name": "python3"
  },
  "language_info": {
   "codemirror_mode": {
    "name": "ipython",
    "version": 3
   },
   "file_extension": ".py",
   "mimetype": "text/x-python",
   "name": "python",
   "nbconvert_exporter": "python",
   "pygments_lexer": "ipython3",
   "version": "3.7.1"
  }
 },
 "nbformat": 4,
 "nbformat_minor": 4
}
