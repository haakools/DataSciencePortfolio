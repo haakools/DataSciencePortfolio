{
 "cells": [
  {
   "cell_type": "code",
   "execution_count": 199,
   "metadata": {},
   "outputs": [],
   "source": [
    "import pandas as pd\n",
    "import numpy as np\n",
    "import matplotlib.pyplot as plt\n",
    "import seaborn as sns\n",
    "import tqdm\n",
    "\n",
    "# Show all columns\n",
    "pd.set_option('display.max_columns', None)\n"
   ]
  },
  {
   "cell_type": "markdown",
   "metadata": {},
   "source": [
    "# Reading in the dataframes"
   ]
  },
  {
   "cell_type": "code",
   "execution_count": 200,
   "metadata": {},
   "outputs": [],
   "source": [
    "# Player stats data\n",
    "df_stats = pd.read_csv(\"stats_data.csv\")\n",
    "\n",
    "# Player transfer data\n",
    "df_transfer = pd.read_csv(\"transfer_data.csv\")\n",
    "df_transfer = df_transfer.drop(columns=\"Unnamed: 0\")"
   ]
  },
  {
   "cell_type": "code",
   "execution_count": 201,
   "metadata": {},
   "outputs": [
    {
     "name": "stdout",
     "output_type": "stream",
     "text": [
      "Players with transfers since 2016\n",
      " ['Riyad Mahrez' 'Philippe Sandler' 'Daniel Arzani' ... 'George Bello'\n",
      " 'Burak Ince' 'Tobias Raschl'] \n",
      "Amount:  1852\n"
     ]
    }
   ],
   "source": [
    "# Taking out data needed for the model\n",
    "df_y = df_transfer[[\"club_name\", \"position\",\"player_name\", \"age\", \"fee_infladj\", \"league_name\", \"year\"]]\n",
    "df_y = df_y[df_y[\"year\"]>2017] # getting 2018 and onwards\n",
    "\n",
    "\n",
    "# Getting all the unique players\n",
    "player_names = df_y[\"player_name\"].unique()\n",
    "print(\"Players with transfers since 2016\\n\", player_names, \"\\nAmount: \",len(df_y[\"player_name\"].unique()) )"
   ]
  },
  {
   "cell_type": "markdown",
   "metadata": {},
   "source": [
    "### Merging datasets"
   ]
  },
  {
   "cell_type": "code",
   "execution_count": 202,
   "metadata": {
    "scrolled": true
   },
   "outputs": [],
   "source": [
    "\n",
    "# Renaming column to combine on\n",
    "df_stats = df_stats.rename(columns={'player':'player_name'})\n",
    "\n",
    "# Removing duplicate columns before merging\n",
    "df_stats = df_stats.drop(columns=['position', 'age', 'nationality', 'season', 'squad', 'league'] )\n",
    "\n"
   ]
  },
  {
   "cell_type": "code",
   "execution_count": 203,
   "metadata": {},
   "outputs": [
    {
     "data": {
      "text/plain": [
       "<matplotlib.axes._subplots.AxesSubplot at 0x2b7aa467550>"
      ]
     },
     "execution_count": 203,
     "metadata": {},
     "output_type": "execute_result"
    },
    {
     "data": {
      "image/png": "[encoded data removed]",
      "text/plain": [
       "<Figure size 432x288 with 1 Axes>"
      ]
     },
     "metadata": {
      "needs_background": "light"
     },
     "output_type": "display_data"
    }
   ],
   "source": [
    "df_stats[\"minutes_90s\"].hist(bins=38)\n"
   ]
  },
  {
   "cell_type": "code",
   "execution_count": 204,
   "metadata": {},
   "outputs": [],
   "source": [
    "df_stats = df_stats[df_stats[\"minutes_90s\"] >3] # three minutes per 90 games seems like the \"elbow\" of the histogram"
   ]
  },
  {
   "cell_type": "code",
   "execution_count": 205,
   "metadata": {},
   "outputs": [
    {
     "name": "stdout",
     "output_type": "stream",
     "text": [
      "['minutes_90s', 'goals_against_gk', 'pens_allowed', 'free_kick_goals_against_gk', 'corner_kick_goals_against_gk', 'own_goals_against_gk', 'psxg_gk', 'psnpxg_per_shot_on_target_against', 'psxg_net_gk', 'psxg_net_per90_gk', 'passes_completed_launched_gk', 'passes_launched_gk', 'passes_pct_launched_gk', 'passes_gk', 'passes_throws_gk', 'pct_passes_launched_gk', 'passes_length_avg_gk', 'goal_kicks', 'pct_goal_kicks_launched', 'goal_kick_length_avg', 'crosses_gk', 'crosses_stopped_gk', 'crosses_stopped_pct_gk', 'def_actions_outside_pen_area_gk', 'def_actions_outside_pen_area_per90_gk', 'avg_distance_def_actions_gk', 'goals', 'shots_total', 'shots_on_target', 'shots_on_target_pct', 'shots_total_per90', 'shots_on_target_per90', 'goals_per_shot', 'goals_per_shot_on_target', 'average_shot_distance', 'shots_free_kicks', 'pens_made', 'pens_att', 'xg', 'npxg', 'npxg_per_shot', 'xg_net', 'npxg_net', 'passes_completed', 'passes', 'passes_pct', 'passes_total_distance', 'passes_progressive_distance', 'passes_completed_short', 'passes_short', 'passes_pct_short', 'passes_completed_medium', 'passes_medium', 'passes_pct_medium', 'passes_completed_long', 'passes_long', 'passes_pct_long', 'assists', 'xa', 'xa_net', 'assisted_shots', 'passes_into_final_third', 'passes_into_penalty_area', 'crosses_into_penalty_area', 'progressive_passes', 'passes_live', 'passes_dead', 'passes_free_kicks', 'through_balls', 'passes_pressure', 'passes_switches', 'crosses', 'corner_kicks', 'corner_kicks_in', 'corner_kicks_out', 'corner_kicks_straight', 'passes_ground', 'passes_low', 'passes_high', 'passes_left_foot', 'passes_right_foot', 'passes_head', 'throw_ins', 'passes_other_body', 'passes_offsides', 'passes_oob', 'passes_intercepted', 'passes_blocked', 'sca', 'sca_per90', 'sca_passes_live', 'sca_passes_dead', 'sca_dribbles', 'sca_shots', 'sca_fouled', 'sca_defense', 'gca', 'gca_per90', 'gca_passes_live', 'gca_passes_dead', 'gca_dribbles', 'gca_shots', 'gca_fouled', 'gca_defense', 'tackles', 'tackles_won', 'tackles_def_3rd', 'tackles_mid_3rd', 'tackles_att_3rd', 'dribble_tackles', 'dribbles_vs', 'dribble_tackles_pct', 'dribbled_past', 'pressures', 'pressure_regains', 'pressure_regain_pct', 'pressures_def_3rd', 'pressures_mid_3rd', 'pressures_att_3rd', 'blocks', 'blocked_shots', 'blocked_shots_saves', 'blocked_passes', 'interceptions', 'tackles_interceptions', 'clearances', 'errors', 'touches', 'touches_def_pen_area', 'touches_def_3rd', 'touches_mid_3rd', 'touches_att_3rd', 'touches_att_pen_area', 'touches_live_ball', 'dribbles_completed', 'dribbles', 'dribbles_completed_pct', 'players_dribbled_past', 'nutmegs', 'carries', 'carry_distance', 'carry_progressive_distance', 'progressive_carries', 'carries_into_final_third', 'carries_into_penalty_area', 'miscontrols', 'dispossessed', 'pass_targets', 'passes_received', 'passes_received_pct', 'progressive_passes_received']\n"
     ]
    }
   ],
   "source": [
    "features = []\n",
    "for col in df_stats.columns:\n",
    "    if df_stats[col].dtype == 'float64':\n",
    "        features.append(col)\n",
    "        \n",
    "features.remove('birth_year')\n",
    "print(features)"
   ]
  },
  {
   "cell_type": "code",
   "execution_count": 206,
   "metadata": {},
   "outputs": [],
   "source": [
    "df = pd.merge(df_y,df_stats, how='outer', on=['player_name', 'year'])"
   ]
  },
  {
   "cell_type": "code",
   "execution_count": 207,
   "metadata": {},
   "outputs": [
    {
     "data": {
      "text/html": [
       "<div>\n",
       "<style scoped>\n",
       "    .dataframe tbody tr th:only-of-type {\n",
       "        vertical-align: middle;\n",
       "    }\n",
       "\n",
       "    .dataframe tbody tr th {\n",
       "        vertical-align: top;\n",
       "    }\n",
       "\n",
       "    .dataframe thead th {\n",
       "        text-align: right;\n",
       "    }\n",
       "</style>\n",
       "<table border=\"1\" class=\"dataframe\">\n",
       "  <thead>\n",
       "    <tr style=\"text-align: right;\">\n",
       "      <th></th>\n",
       "      <th>club_name</th>\n",
       "      <th>position</th>\n",
       "      <th>player_name</th>\n",
       "      <th>age</th>\n",
       "      <th>fee_infladj</th>\n",
       "      <th>league_name</th>\n",
       "      <th>year</th>\n",
       "      <th>birth_year</th>\n",
       "      <th>minutes_90s</th>\n",
       "      <th>goals_against_gk</th>\n",
       "      <th>pens_allowed</th>\n",
       "      <th>free_kick_goals_against_gk</th>\n",
       "      <th>corner_kick_goals_against_gk</th>\n",
       "      <th>own_goals_against_gk</th>\n",
       "      <th>psxg_gk</th>\n",
       "      <th>psnpxg_per_shot_on_target_against</th>\n",
       "      <th>psxg_net_gk</th>\n",
       "      <th>psxg_net_per90_gk</th>\n",
       "      <th>passes_completed_launched_gk</th>\n",
       "      <th>passes_launched_gk</th>\n",
       "      <th>passes_pct_launched_gk</th>\n",
       "      <th>passes_gk</th>\n",
       "      <th>passes_throws_gk</th>\n",
       "      <th>pct_passes_launched_gk</th>\n",
       "      <th>passes_length_avg_gk</th>\n",
       "      <th>goal_kicks</th>\n",
       "      <th>pct_goal_kicks_launched</th>\n",
       "      <th>goal_kick_length_avg</th>\n",
       "      <th>crosses_gk</th>\n",
       "      <th>crosses_stopped_gk</th>\n",
       "      <th>crosses_stopped_pct_gk</th>\n",
       "      <th>def_actions_outside_pen_area_gk</th>\n",
       "      <th>def_actions_outside_pen_area_per90_gk</th>\n",
       "      <th>avg_distance_def_actions_gk</th>\n",
       "      <th>matches</th>\n",
       "      <th>season.1</th>\n",
       "      <th>goals</th>\n",
       "      <th>shots_total</th>\n",
       "      <th>shots_on_target</th>\n",
       "      <th>shots_on_target_pct</th>\n",
       "      <th>shots_total_per90</th>\n",
       "      <th>shots_on_target_per90</th>\n",
       "      <th>goals_per_shot</th>\n",
       "      <th>goals_per_shot_on_target</th>\n",
       "      <th>average_shot_distance</th>\n",
       "      <th>shots_free_kicks</th>\n",
       "      <th>pens_made</th>\n",
       "      <th>pens_att</th>\n",
       "      <th>xg</th>\n",
       "      <th>npxg</th>\n",
       "      <th>npxg_per_shot</th>\n",
       "      <th>xg_net</th>\n",
       "      <th>npxg_net</th>\n",
       "      <th>passes_completed</th>\n",
       "      <th>passes</th>\n",
       "      <th>passes_pct</th>\n",
       "      <th>passes_total_distance</th>\n",
       "      <th>passes_progressive_distance</th>\n",
       "      <th>passes_completed_short</th>\n",
       "      <th>passes_short</th>\n",
       "      <th>passes_pct_short</th>\n",
       "      <th>passes_completed_medium</th>\n",
       "      <th>passes_medium</th>\n",
       "      <th>passes_pct_medium</th>\n",
       "      <th>passes_completed_long</th>\n",
       "      <th>passes_long</th>\n",
       "      <th>passes_pct_long</th>\n",
       "      <th>assists</th>\n",
       "      <th>xa</th>\n",
       "      <th>xa_net</th>\n",
       "      <th>assisted_shots</th>\n",
       "      <th>passes_into_final_third</th>\n",
       "      <th>passes_into_penalty_area</th>\n",
       "      <th>crosses_into_penalty_area</th>\n",
       "      <th>progressive_passes</th>\n",
       "      <th>passes_live</th>\n",
       "      <th>passes_dead</th>\n",
       "      <th>passes_free_kicks</th>\n",
       "      <th>through_balls</th>\n",
       "      <th>passes_pressure</th>\n",
       "      <th>passes_switches</th>\n",
       "      <th>crosses</th>\n",
       "      <th>corner_kicks</th>\n",
       "      <th>corner_kicks_in</th>\n",
       "      <th>corner_kicks_out</th>\n",
       "      <th>corner_kicks_straight</th>\n",
       "      <th>passes_ground</th>\n",
       "      <th>passes_low</th>\n",
       "      <th>passes_high</th>\n",
       "      <th>passes_left_foot</th>\n",
       "      <th>passes_right_foot</th>\n",
       "      <th>passes_head</th>\n",
       "      <th>throw_ins</th>\n",
       "      <th>passes_other_body</th>\n",
       "      <th>passes_offsides</th>\n",
       "      <th>passes_oob</th>\n",
       "      <th>passes_intercepted</th>\n",
       "      <th>passes_blocked</th>\n",
       "      <th>sca</th>\n",
       "      <th>sca_per90</th>\n",
       "      <th>sca_passes_live</th>\n",
       "      <th>sca_passes_dead</th>\n",
       "      <th>sca_dribbles</th>\n",
       "      <th>sca_shots</th>\n",
       "      <th>sca_fouled</th>\n",
       "      <th>sca_defense</th>\n",
       "      <th>gca</th>\n",
       "      <th>gca_per90</th>\n",
       "      <th>gca_passes_live</th>\n",
       "      <th>gca_passes_dead</th>\n",
       "      <th>gca_dribbles</th>\n",
       "      <th>gca_shots</th>\n",
       "      <th>gca_fouled</th>\n",
       "      <th>gca_defense</th>\n",
       "      <th>tackles</th>\n",
       "      <th>tackles_won</th>\n",
       "      <th>tackles_def_3rd</th>\n",
       "      <th>tackles_mid_3rd</th>\n",
       "      <th>tackles_att_3rd</th>\n",
       "      <th>dribble_tackles</th>\n",
       "      <th>dribbles_vs</th>\n",
       "      <th>dribble_tackles_pct</th>\n",
       "      <th>dribbled_past</th>\n",
       "      <th>pressures</th>\n",
       "      <th>pressure_regains</th>\n",
       "      <th>pressure_regain_pct</th>\n",
       "      <th>pressures_def_3rd</th>\n",
       "      <th>pressures_mid_3rd</th>\n",
       "      <th>pressures_att_3rd</th>\n",
       "      <th>blocks</th>\n",
       "      <th>blocked_shots</th>\n",
       "      <th>blocked_shots_saves</th>\n",
       "      <th>blocked_passes</th>\n",
       "      <th>interceptions</th>\n",
       "      <th>tackles_interceptions</th>\n",
       "      <th>clearances</th>\n",
       "      <th>errors</th>\n",
       "      <th>touches</th>\n",
       "      <th>touches_def_pen_area</th>\n",
       "      <th>touches_def_3rd</th>\n",
       "      <th>touches_mid_3rd</th>\n",
       "      <th>touches_att_3rd</th>\n",
       "      <th>touches_att_pen_area</th>\n",
       "      <th>touches_live_ball</th>\n",
       "      <th>dribbles_completed</th>\n",
       "      <th>dribbles</th>\n",
       "      <th>dribbles_completed_pct</th>\n",
       "      <th>players_dribbled_past</th>\n",
       "      <th>nutmegs</th>\n",
       "      <th>carries</th>\n",
       "      <th>carry_distance</th>\n",
       "      <th>carry_progressive_distance</th>\n",
       "      <th>progressive_carries</th>\n",
       "      <th>carries_into_final_third</th>\n",
       "      <th>carries_into_penalty_area</th>\n",
       "      <th>miscontrols</th>\n",
       "      <th>dispossessed</th>\n",
       "      <th>pass_targets</th>\n",
       "      <th>passes_received</th>\n",
       "      <th>passes_received_pct</th>\n",
       "      <th>progressive_passes_received</th>\n",
       "    </tr>\n",
       "  </thead>\n",
       "  <tbody>\n",
       "    <tr>\n",
       "      <th>3074</th>\n",
       "      <td>NaN</td>\n",
       "      <td>NaN</td>\n",
       "      <td>Antonín Barák</td>\n",
       "      <td>NaN</td>\n",
       "      <td>NaN</td>\n",
       "      <td>NaN</td>\n",
       "      <td>2022</td>\n",
       "      <td>1994.0</td>\n",
       "      <td>24.3</td>\n",
       "      <td>0.0</td>\n",
       "      <td>0.0</td>\n",
       "      <td>0.0</td>\n",
       "      <td>0.0</td>\n",
       "      <td>0.0</td>\n",
       "      <td>0.0</td>\n",
       "      <td>0.0</td>\n",
       "      <td>0.0</td>\n",
       "      <td>0.0</td>\n",
       "      <td>0.0</td>\n",
       "      <td>0.0</td>\n",
       "      <td>0.0</td>\n",
       "      <td>0.0</td>\n",
       "      <td>0.0</td>\n",
       "      <td>0.0</td>\n",
       "      <td>0.0</td>\n",
       "      <td>0.0</td>\n",
       "      <td>0.0</td>\n",
       "      <td>0.0</td>\n",
       "      <td>0.0</td>\n",
       "      <td>0.0</td>\n",
       "      <td>0.0</td>\n",
       "      <td>0.0</td>\n",
       "      <td>0.0</td>\n",
       "      <td>0.0</td>\n",
       "      <td>Matches</td>\n",
       "      <td>2021-2022</td>\n",
       "      <td>10.0</td>\n",
       "      <td>47.0</td>\n",
       "      <td>19.0</td>\n",
       "      <td>40.4</td>\n",
       "      <td>1.94</td>\n",
       "      <td>0.78</td>\n",
       "      <td>0.13</td>\n",
       "      <td>0.32</td>\n",
       "      <td>15.0</td>\n",
       "      <td>2.0</td>\n",
       "      <td>4.0</td>\n",
       "      <td>4.0</td>\n",
       "      <td>9.2</td>\n",
       "      <td>6.1</td>\n",
       "      <td>0.13</td>\n",
       "      <td>0.8</td>\n",
       "      <td>-0.1</td>\n",
       "      <td>855.0</td>\n",
       "      <td>1063.0</td>\n",
       "      <td>80.4</td>\n",
       "      <td>12915.0</td>\n",
       "      <td>3610.0</td>\n",
       "      <td>466.0</td>\n",
       "      <td>542.0</td>\n",
       "      <td>86.0</td>\n",
       "      <td>306.0</td>\n",
       "      <td>367.0</td>\n",
       "      <td>83.4</td>\n",
       "      <td>48.0</td>\n",
       "      <td>74.0</td>\n",
       "      <td>64.9</td>\n",
       "      <td>3.0</td>\n",
       "      <td>3.1</td>\n",
       "      <td>-0.1</td>\n",
       "      <td>26.0</td>\n",
       "      <td>69.0</td>\n",
       "      <td>23.0</td>\n",
       "      <td>1.0</td>\n",
       "      <td>103.0</td>\n",
       "      <td>1048.0</td>\n",
       "      <td>15.0</td>\n",
       "      <td>3.0</td>\n",
       "      <td>2.0</td>\n",
       "      <td>285.0</td>\n",
       "      <td>14.0</td>\n",
       "      <td>17.0</td>\n",
       "      <td>0.0</td>\n",
       "      <td>0.0</td>\n",
       "      <td>0.0</td>\n",
       "      <td>0.0</td>\n",
       "      <td>793.0</td>\n",
       "      <td>152.0</td>\n",
       "      <td>118.0</td>\n",
       "      <td>832.0</td>\n",
       "      <td>139.0</td>\n",
       "      <td>47.0</td>\n",
       "      <td>5.0</td>\n",
       "      <td>6.0</td>\n",
       "      <td>7.0</td>\n",
       "      <td>16.0</td>\n",
       "      <td>46.0</td>\n",
       "      <td>37.0</td>\n",
       "      <td>59.0</td>\n",
       "      <td>2.43</td>\n",
       "      <td>49.0</td>\n",
       "      <td>0.0</td>\n",
       "      <td>4.0</td>\n",
       "      <td>4.0</td>\n",
       "      <td>2.0</td>\n",
       "      <td>0.0</td>\n",
       "      <td>10.0</td>\n",
       "      <td>0.41</td>\n",
       "      <td>7.0</td>\n",
       "      <td>0.0</td>\n",
       "      <td>1.0</td>\n",
       "      <td>1.0</td>\n",
       "      <td>1.0</td>\n",
       "      <td>0.0</td>\n",
       "      <td>25.0</td>\n",
       "      <td>16.0</td>\n",
       "      <td>15.0</td>\n",
       "      <td>8.0</td>\n",
       "      <td>2.0</td>\n",
       "      <td>5.0</td>\n",
       "      <td>21.0</td>\n",
       "      <td>23.8</td>\n",
       "      <td>16.0</td>\n",
       "      <td>390.0</td>\n",
       "      <td>118.0</td>\n",
       "      <td>30.3</td>\n",
       "      <td>97.0</td>\n",
       "      <td>190.0</td>\n",
       "      <td>103.0</td>\n",
       "      <td>44.0</td>\n",
       "      <td>6.0</td>\n",
       "      <td>0.0</td>\n",
       "      <td>38.0</td>\n",
       "      <td>11.0</td>\n",
       "      <td>36.0</td>\n",
       "      <td>27.0</td>\n",
       "      <td>0.0</td>\n",
       "      <td>1351.0</td>\n",
       "      <td>42.0</td>\n",
       "      <td>207.0</td>\n",
       "      <td>750.0</td>\n",
       "      <td>508.0</td>\n",
       "      <td>96.0</td>\n",
       "      <td>1330.0</td>\n",
       "      <td>24.0</td>\n",
       "      <td>43.0</td>\n",
       "      <td>55.8</td>\n",
       "      <td>26.0</td>\n",
       "      <td>0.0</td>\n",
       "      <td>975.0</td>\n",
       "      <td>5714.0</td>\n",
       "      <td>3108.0</td>\n",
       "      <td>167.0</td>\n",
       "      <td>65.0</td>\n",
       "      <td>14.0</td>\n",
       "      <td>42.0</td>\n",
       "      <td>47.0</td>\n",
       "      <td>1314.0</td>\n",
       "      <td>1017.0</td>\n",
       "      <td>77.4</td>\n",
       "      <td>146.0</td>\n",
       "    </tr>\n",
       "    <tr>\n",
       "      <th>2166</th>\n",
       "      <td>Valencia CF</td>\n",
       "      <td>Centre-Forward</td>\n",
       "      <td>Marcos André</td>\n",
       "      <td>24.0</td>\n",
       "      <td>8.5</td>\n",
       "      <td>Primera Division</td>\n",
       "      <td>2021</td>\n",
       "      <td>NaN</td>\n",
       "      <td>NaN</td>\n",
       "      <td>NaN</td>\n",
       "      <td>NaN</td>\n",
       "      <td>NaN</td>\n",
       "      <td>NaN</td>\n",
       "      <td>NaN</td>\n",
       "      <td>NaN</td>\n",
       "      <td>NaN</td>\n",
       "      <td>NaN</td>\n",
       "      <td>NaN</td>\n",
       "      <td>NaN</td>\n",
       "      <td>NaN</td>\n",
       "      <td>NaN</td>\n",
       "      <td>NaN</td>\n",
       "      <td>NaN</td>\n",
       "      <td>NaN</td>\n",
       "      <td>NaN</td>\n",
       "      <td>NaN</td>\n",
       "      <td>NaN</td>\n",
       "      <td>NaN</td>\n",
       "      <td>NaN</td>\n",
       "      <td>NaN</td>\n",
       "      <td>NaN</td>\n",
       "      <td>NaN</td>\n",
       "      <td>NaN</td>\n",
       "      <td>NaN</td>\n",
       "      <td>NaN</td>\n",
       "      <td>NaN</td>\n",
       "      <td>NaN</td>\n",
       "      <td>NaN</td>\n",
       "      <td>NaN</td>\n",
       "      <td>NaN</td>\n",
       "      <td>NaN</td>\n",
       "      <td>NaN</td>\n",
       "      <td>NaN</td>\n",
       "      <td>NaN</td>\n",
       "      <td>NaN</td>\n",
       "      <td>NaN</td>\n",
       "      <td>NaN</td>\n",
       "      <td>NaN</td>\n",
       "      <td>NaN</td>\n",
       "      <td>NaN</td>\n",
       "      <td>NaN</td>\n",
       "      <td>NaN</td>\n",
       "      <td>NaN</td>\n",
       "      <td>NaN</td>\n",
       "      <td>NaN</td>\n",
       "      <td>NaN</td>\n",
       "      <td>NaN</td>\n",
       "      <td>NaN</td>\n",
       "      <td>NaN</td>\n",
       "      <td>NaN</td>\n",
       "      <td>NaN</td>\n",
       "      <td>NaN</td>\n",
       "      <td>NaN</td>\n",
       "      <td>NaN</td>\n",
       "      <td>NaN</td>\n",
       "      <td>NaN</td>\n",
       "      <td>NaN</td>\n",
       "      <td>NaN</td>\n",
       "      <td>NaN</td>\n",
       "      <td>NaN</td>\n",
       "      <td>NaN</td>\n",
       "      <td>NaN</td>\n",
       "      <td>NaN</td>\n",
       "      <td>NaN</td>\n",
       "      <td>NaN</td>\n",
       "      <td>NaN</td>\n",
       "      <td>NaN</td>\n",
       "      <td>NaN</td>\n",
       "      <td>NaN</td>\n",
       "      <td>NaN</td>\n",
       "      <td>NaN</td>\n",
       "      <td>NaN</td>\n",
       "      <td>NaN</td>\n",
       "      <td>NaN</td>\n",
       "      <td>NaN</td>\n",
       "      <td>NaN</td>\n",
       "      <td>NaN</td>\n",
       "      <td>NaN</td>\n",
       "      <td>NaN</td>\n",
       "      <td>NaN</td>\n",
       "      <td>NaN</td>\n",
       "      <td>NaN</td>\n",
       "      <td>NaN</td>\n",
       "      <td>NaN</td>\n",
       "      <td>NaN</td>\n",
       "      <td>NaN</td>\n",
       "      <td>NaN</td>\n",
       "      <td>NaN</td>\n",
       "      <td>NaN</td>\n",
       "      <td>NaN</td>\n",
       "      <td>NaN</td>\n",
       "      <td>NaN</td>\n",
       "      <td>NaN</td>\n",
       "      <td>NaN</td>\n",
       "      <td>NaN</td>\n",
       "      <td>NaN</td>\n",
       "      <td>NaN</td>\n",
       "      <td>NaN</td>\n",
       "      <td>NaN</td>\n",
       "      <td>NaN</td>\n",
       "      <td>NaN</td>\n",
       "      <td>NaN</td>\n",
       "      <td>NaN</td>\n",
       "      <td>NaN</td>\n",
       "      <td>NaN</td>\n",
       "      <td>NaN</td>\n",
       "      <td>NaN</td>\n",
       "      <td>NaN</td>\n",
       "      <td>NaN</td>\n",
       "      <td>NaN</td>\n",
       "      <td>NaN</td>\n",
       "      <td>NaN</td>\n",
       "      <td>NaN</td>\n",
       "      <td>NaN</td>\n",
       "      <td>NaN</td>\n",
       "      <td>NaN</td>\n",
       "      <td>NaN</td>\n",
       "      <td>NaN</td>\n",
       "      <td>NaN</td>\n",
       "      <td>NaN</td>\n",
       "      <td>NaN</td>\n",
       "      <td>NaN</td>\n",
       "      <td>NaN</td>\n",
       "      <td>NaN</td>\n",
       "      <td>NaN</td>\n",
       "      <td>NaN</td>\n",
       "      <td>NaN</td>\n",
       "      <td>NaN</td>\n",
       "      <td>NaN</td>\n",
       "      <td>NaN</td>\n",
       "      <td>NaN</td>\n",
       "      <td>NaN</td>\n",
       "      <td>NaN</td>\n",
       "      <td>NaN</td>\n",
       "      <td>NaN</td>\n",
       "      <td>NaN</td>\n",
       "      <td>NaN</td>\n",
       "      <td>NaN</td>\n",
       "      <td>NaN</td>\n",
       "      <td>NaN</td>\n",
       "      <td>NaN</td>\n",
       "      <td>NaN</td>\n",
       "      <td>NaN</td>\n",
       "      <td>NaN</td>\n",
       "      <td>NaN</td>\n",
       "      <td>NaN</td>\n",
       "      <td>NaN</td>\n",
       "      <td>NaN</td>\n",
       "      <td>NaN</td>\n",
       "      <td>NaN</td>\n",
       "      <td>NaN</td>\n",
       "    </tr>\n",
       "    <tr>\n",
       "      <th>10198</th>\n",
       "      <td>NaN</td>\n",
       "      <td>NaN</td>\n",
       "      <td>Sead Kolašinac</td>\n",
       "      <td>NaN</td>\n",
       "      <td>NaN</td>\n",
       "      <td>NaN</td>\n",
       "      <td>2022</td>\n",
       "      <td>1993.0</td>\n",
       "      <td>3.8</td>\n",
       "      <td>0.0</td>\n",
       "      <td>0.0</td>\n",
       "      <td>0.0</td>\n",
       "      <td>0.0</td>\n",
       "      <td>0.0</td>\n",
       "      <td>0.0</td>\n",
       "      <td>0.0</td>\n",
       "      <td>0.0</td>\n",
       "      <td>0.0</td>\n",
       "      <td>0.0</td>\n",
       "      <td>0.0</td>\n",
       "      <td>0.0</td>\n",
       "      <td>0.0</td>\n",
       "      <td>0.0</td>\n",
       "      <td>0.0</td>\n",
       "      <td>0.0</td>\n",
       "      <td>0.0</td>\n",
       "      <td>0.0</td>\n",
       "      <td>0.0</td>\n",
       "      <td>0.0</td>\n",
       "      <td>0.0</td>\n",
       "      <td>0.0</td>\n",
       "      <td>0.0</td>\n",
       "      <td>0.0</td>\n",
       "      <td>0.0</td>\n",
       "      <td>Matches</td>\n",
       "      <td>2021-2022</td>\n",
       "      <td>0.0</td>\n",
       "      <td>0.0</td>\n",
       "      <td>0.0</td>\n",
       "      <td>0.0</td>\n",
       "      <td>0.00</td>\n",
       "      <td>0.00</td>\n",
       "      <td>0.00</td>\n",
       "      <td>0.00</td>\n",
       "      <td>0.0</td>\n",
       "      <td>0.0</td>\n",
       "      <td>0.0</td>\n",
       "      <td>0.0</td>\n",
       "      <td>0.0</td>\n",
       "      <td>0.0</td>\n",
       "      <td>0.00</td>\n",
       "      <td>0.0</td>\n",
       "      <td>0.0</td>\n",
       "      <td>151.0</td>\n",
       "      <td>191.0</td>\n",
       "      <td>79.1</td>\n",
       "      <td>2291.0</td>\n",
       "      <td>717.0</td>\n",
       "      <td>83.0</td>\n",
       "      <td>93.0</td>\n",
       "      <td>89.2</td>\n",
       "      <td>58.0</td>\n",
       "      <td>79.0</td>\n",
       "      <td>73.4</td>\n",
       "      <td>6.0</td>\n",
       "      <td>11.0</td>\n",
       "      <td>54.5</td>\n",
       "      <td>1.0</td>\n",
       "      <td>0.2</td>\n",
       "      <td>0.8</td>\n",
       "      <td>4.0</td>\n",
       "      <td>9.0</td>\n",
       "      <td>5.0</td>\n",
       "      <td>2.0</td>\n",
       "      <td>11.0</td>\n",
       "      <td>167.0</td>\n",
       "      <td>24.0</td>\n",
       "      <td>2.0</td>\n",
       "      <td>0.0</td>\n",
       "      <td>18.0</td>\n",
       "      <td>2.0</td>\n",
       "      <td>8.0</td>\n",
       "      <td>0.0</td>\n",
       "      <td>0.0</td>\n",
       "      <td>0.0</td>\n",
       "      <td>0.0</td>\n",
       "      <td>127.0</td>\n",
       "      <td>44.0</td>\n",
       "      <td>20.0</td>\n",
       "      <td>129.0</td>\n",
       "      <td>16.0</td>\n",
       "      <td>20.0</td>\n",
       "      <td>22.0</td>\n",
       "      <td>0.0</td>\n",
       "      <td>2.0</td>\n",
       "      <td>5.0</td>\n",
       "      <td>7.0</td>\n",
       "      <td>3.0</td>\n",
       "      <td>7.0</td>\n",
       "      <td>1.85</td>\n",
       "      <td>6.0</td>\n",
       "      <td>1.0</td>\n",
       "      <td>0.0</td>\n",
       "      <td>0.0</td>\n",
       "      <td>0.0</td>\n",
       "      <td>0.0</td>\n",
       "      <td>1.0</td>\n",
       "      <td>0.26</td>\n",
       "      <td>1.0</td>\n",
       "      <td>0.0</td>\n",
       "      <td>0.0</td>\n",
       "      <td>0.0</td>\n",
       "      <td>0.0</td>\n",
       "      <td>0.0</td>\n",
       "      <td>5.0</td>\n",
       "      <td>4.0</td>\n",
       "      <td>3.0</td>\n",
       "      <td>1.0</td>\n",
       "      <td>1.0</td>\n",
       "      <td>4.0</td>\n",
       "      <td>7.0</td>\n",
       "      <td>57.1</td>\n",
       "      <td>3.0</td>\n",
       "      <td>50.0</td>\n",
       "      <td>19.0</td>\n",
       "      <td>38.0</td>\n",
       "      <td>17.0</td>\n",
       "      <td>15.0</td>\n",
       "      <td>18.0</td>\n",
       "      <td>3.0</td>\n",
       "      <td>0.0</td>\n",
       "      <td>0.0</td>\n",
       "      <td>3.0</td>\n",
       "      <td>3.0</td>\n",
       "      <td>8.0</td>\n",
       "      <td>7.0</td>\n",
       "      <td>1.0</td>\n",
       "      <td>220.0</td>\n",
       "      <td>10.0</td>\n",
       "      <td>54.0</td>\n",
       "      <td>100.0</td>\n",
       "      <td>78.0</td>\n",
       "      <td>8.0</td>\n",
       "      <td>197.0</td>\n",
       "      <td>1.0</td>\n",
       "      <td>2.0</td>\n",
       "      <td>50.0</td>\n",
       "      <td>1.0</td>\n",
       "      <td>0.0</td>\n",
       "      <td>135.0</td>\n",
       "      <td>584.0</td>\n",
       "      <td>345.0</td>\n",
       "      <td>21.0</td>\n",
       "      <td>8.0</td>\n",
       "      <td>3.0</td>\n",
       "      <td>5.0</td>\n",
       "      <td>6.0</td>\n",
       "      <td>153.0</td>\n",
       "      <td>137.0</td>\n",
       "      <td>89.5</td>\n",
       "      <td>12.0</td>\n",
       "    </tr>\n",
       "    <tr>\n",
       "      <th>5883</th>\n",
       "      <td>NaN</td>\n",
       "      <td>NaN</td>\n",
       "      <td>Jacob Barrett Laursen</td>\n",
       "      <td>NaN</td>\n",
       "      <td>NaN</td>\n",
       "      <td>NaN</td>\n",
       "      <td>2022</td>\n",
       "      <td>1994.0</td>\n",
       "      <td>15.5</td>\n",
       "      <td>0.0</td>\n",
       "      <td>0.0</td>\n",
       "      <td>0.0</td>\n",
       "      <td>0.0</td>\n",
       "      <td>0.0</td>\n",
       "      <td>0.0</td>\n",
       "      <td>0.0</td>\n",
       "      <td>0.0</td>\n",
       "      <td>0.0</td>\n",
       "      <td>0.0</td>\n",
       "      <td>0.0</td>\n",
       "      <td>0.0</td>\n",
       "      <td>0.0</td>\n",
       "      <td>0.0</td>\n",
       "      <td>0.0</td>\n",
       "      <td>0.0</td>\n",
       "      <td>0.0</td>\n",
       "      <td>0.0</td>\n",
       "      <td>0.0</td>\n",
       "      <td>0.0</td>\n",
       "      <td>0.0</td>\n",
       "      <td>0.0</td>\n",
       "      <td>0.0</td>\n",
       "      <td>0.0</td>\n",
       "      <td>0.0</td>\n",
       "      <td>Matches</td>\n",
       "      <td>2021-2022</td>\n",
       "      <td>2.0</td>\n",
       "      <td>8.0</td>\n",
       "      <td>4.0</td>\n",
       "      <td>50.0</td>\n",
       "      <td>0.52</td>\n",
       "      <td>0.26</td>\n",
       "      <td>0.25</td>\n",
       "      <td>0.50</td>\n",
       "      <td>24.0</td>\n",
       "      <td>0.0</td>\n",
       "      <td>0.0</td>\n",
       "      <td>0.0</td>\n",
       "      <td>0.3</td>\n",
       "      <td>0.3</td>\n",
       "      <td>0.03</td>\n",
       "      <td>1.7</td>\n",
       "      <td>1.7</td>\n",
       "      <td>491.0</td>\n",
       "      <td>688.0</td>\n",
       "      <td>71.4</td>\n",
       "      <td>9264.0</td>\n",
       "      <td>3898.0</td>\n",
       "      <td>210.0</td>\n",
       "      <td>246.0</td>\n",
       "      <td>85.4</td>\n",
       "      <td>205.0</td>\n",
       "      <td>265.0</td>\n",
       "      <td>77.4</td>\n",
       "      <td>69.0</td>\n",
       "      <td>137.0</td>\n",
       "      <td>50.4</td>\n",
       "      <td>0.0</td>\n",
       "      <td>0.5</td>\n",
       "      <td>-0.5</td>\n",
       "      <td>5.0</td>\n",
       "      <td>29.0</td>\n",
       "      <td>3.0</td>\n",
       "      <td>1.0</td>\n",
       "      <td>42.0</td>\n",
       "      <td>505.0</td>\n",
       "      <td>183.0</td>\n",
       "      <td>21.0</td>\n",
       "      <td>0.0</td>\n",
       "      <td>101.0</td>\n",
       "      <td>15.0</td>\n",
       "      <td>24.0</td>\n",
       "      <td>15.0</td>\n",
       "      <td>7.0</td>\n",
       "      <td>1.0</td>\n",
       "      <td>0.0</td>\n",
       "      <td>341.0</td>\n",
       "      <td>165.0</td>\n",
       "      <td>182.0</td>\n",
       "      <td>356.0</td>\n",
       "      <td>130.0</td>\n",
       "      <td>37.0</td>\n",
       "      <td>147.0</td>\n",
       "      <td>6.0</td>\n",
       "      <td>0.0</td>\n",
       "      <td>17.0</td>\n",
       "      <td>21.0</td>\n",
       "      <td>39.0</td>\n",
       "      <td>12.0</td>\n",
       "      <td>0.77</td>\n",
       "      <td>7.0</td>\n",
       "      <td>5.0</td>\n",
       "      <td>0.0</td>\n",
       "      <td>0.0</td>\n",
       "      <td>0.0</td>\n",
       "      <td>0.0</td>\n",
       "      <td>1.0</td>\n",
       "      <td>0.06</td>\n",
       "      <td>1.0</td>\n",
       "      <td>0.0</td>\n",
       "      <td>0.0</td>\n",
       "      <td>0.0</td>\n",
       "      <td>0.0</td>\n",
       "      <td>0.0</td>\n",
       "      <td>21.0</td>\n",
       "      <td>14.0</td>\n",
       "      <td>12.0</td>\n",
       "      <td>7.0</td>\n",
       "      <td>2.0</td>\n",
       "      <td>6.0</td>\n",
       "      <td>15.0</td>\n",
       "      <td>40.0</td>\n",
       "      <td>9.0</td>\n",
       "      <td>181.0</td>\n",
       "      <td>59.0</td>\n",
       "      <td>32.6</td>\n",
       "      <td>82.0</td>\n",
       "      <td>68.0</td>\n",
       "      <td>31.0</td>\n",
       "      <td>31.0</td>\n",
       "      <td>7.0</td>\n",
       "      <td>0.0</td>\n",
       "      <td>24.0</td>\n",
       "      <td>24.0</td>\n",
       "      <td>45.0</td>\n",
       "      <td>41.0</td>\n",
       "      <td>1.0</td>\n",
       "      <td>832.0</td>\n",
       "      <td>58.0</td>\n",
       "      <td>268.0</td>\n",
       "      <td>381.0</td>\n",
       "      <td>219.0</td>\n",
       "      <td>8.0</td>\n",
       "      <td>652.0</td>\n",
       "      <td>14.0</td>\n",
       "      <td>25.0</td>\n",
       "      <td>56.0</td>\n",
       "      <td>15.0</td>\n",
       "      <td>0.0</td>\n",
       "      <td>398.0</td>\n",
       "      <td>1850.0</td>\n",
       "      <td>913.0</td>\n",
       "      <td>33.0</td>\n",
       "      <td>10.0</td>\n",
       "      <td>2.0</td>\n",
       "      <td>8.0</td>\n",
       "      <td>7.0</td>\n",
       "      <td>411.0</td>\n",
       "      <td>361.0</td>\n",
       "      <td>87.8</td>\n",
       "      <td>12.0</td>\n",
       "    </tr>\n",
       "    <tr>\n",
       "      <th>4349</th>\n",
       "      <td>NaN</td>\n",
       "      <td>NaN</td>\n",
       "      <td>Dimitri Foulquier</td>\n",
       "      <td>NaN</td>\n",
       "      <td>NaN</td>\n",
       "      <td>NaN</td>\n",
       "      <td>2018</td>\n",
       "      <td>1993.0</td>\n",
       "      <td>13.8</td>\n",
       "      <td>0.0</td>\n",
       "      <td>0.0</td>\n",
       "      <td>0.0</td>\n",
       "      <td>0.0</td>\n",
       "      <td>0.0</td>\n",
       "      <td>0.0</td>\n",
       "      <td>0.0</td>\n",
       "      <td>0.0</td>\n",
       "      <td>0.0</td>\n",
       "      <td>0.0</td>\n",
       "      <td>0.0</td>\n",
       "      <td>0.0</td>\n",
       "      <td>0.0</td>\n",
       "      <td>0.0</td>\n",
       "      <td>0.0</td>\n",
       "      <td>0.0</td>\n",
       "      <td>0.0</td>\n",
       "      <td>0.0</td>\n",
       "      <td>0.0</td>\n",
       "      <td>0.0</td>\n",
       "      <td>0.0</td>\n",
       "      <td>0.0</td>\n",
       "      <td>0.0</td>\n",
       "      <td>0.0</td>\n",
       "      <td>0.0</td>\n",
       "      <td>Matches</td>\n",
       "      <td>2017-2018</td>\n",
       "      <td>0.0</td>\n",
       "      <td>2.0</td>\n",
       "      <td>0.0</td>\n",
       "      <td>0.0</td>\n",
       "      <td>0.15</td>\n",
       "      <td>0.00</td>\n",
       "      <td>0.00</td>\n",
       "      <td>0.00</td>\n",
       "      <td>20.0</td>\n",
       "      <td>0.0</td>\n",
       "      <td>0.0</td>\n",
       "      <td>0.0</td>\n",
       "      <td>0.0</td>\n",
       "      <td>0.0</td>\n",
       "      <td>0.02</td>\n",
       "      <td>0.0</td>\n",
       "      <td>0.0</td>\n",
       "      <td>505.0</td>\n",
       "      <td>654.0</td>\n",
       "      <td>77.2</td>\n",
       "      <td>9157.0</td>\n",
       "      <td>3704.0</td>\n",
       "      <td>213.0</td>\n",
       "      <td>243.0</td>\n",
       "      <td>87.7</td>\n",
       "      <td>231.0</td>\n",
       "      <td>283.0</td>\n",
       "      <td>81.6</td>\n",
       "      <td>55.0</td>\n",
       "      <td>102.0</td>\n",
       "      <td>53.9</td>\n",
       "      <td>2.0</td>\n",
       "      <td>1.0</td>\n",
       "      <td>1.0</td>\n",
       "      <td>8.0</td>\n",
       "      <td>36.0</td>\n",
       "      <td>9.0</td>\n",
       "      <td>5.0</td>\n",
       "      <td>39.0</td>\n",
       "      <td>532.0</td>\n",
       "      <td>122.0</td>\n",
       "      <td>5.0</td>\n",
       "      <td>1.0</td>\n",
       "      <td>91.0</td>\n",
       "      <td>6.0</td>\n",
       "      <td>21.0</td>\n",
       "      <td>0.0</td>\n",
       "      <td>0.0</td>\n",
       "      <td>0.0</td>\n",
       "      <td>0.0</td>\n",
       "      <td>392.0</td>\n",
       "      <td>85.0</td>\n",
       "      <td>177.0</td>\n",
       "      <td>61.0</td>\n",
       "      <td>437.0</td>\n",
       "      <td>33.0</td>\n",
       "      <td>116.0</td>\n",
       "      <td>5.0</td>\n",
       "      <td>0.0</td>\n",
       "      <td>16.0</td>\n",
       "      <td>17.0</td>\n",
       "      <td>21.0</td>\n",
       "      <td>15.0</td>\n",
       "      <td>1.09</td>\n",
       "      <td>13.0</td>\n",
       "      <td>1.0</td>\n",
       "      <td>0.0</td>\n",
       "      <td>1.0</td>\n",
       "      <td>0.0</td>\n",
       "      <td>0.0</td>\n",
       "      <td>2.0</td>\n",
       "      <td>0.15</td>\n",
       "      <td>2.0</td>\n",
       "      <td>0.0</td>\n",
       "      <td>0.0</td>\n",
       "      <td>0.0</td>\n",
       "      <td>0.0</td>\n",
       "      <td>0.0</td>\n",
       "      <td>21.0</td>\n",
       "      <td>16.0</td>\n",
       "      <td>17.0</td>\n",
       "      <td>3.0</td>\n",
       "      <td>1.0</td>\n",
       "      <td>7.0</td>\n",
       "      <td>15.0</td>\n",
       "      <td>46.7</td>\n",
       "      <td>8.0</td>\n",
       "      <td>177.0</td>\n",
       "      <td>55.0</td>\n",
       "      <td>31.1</td>\n",
       "      <td>94.0</td>\n",
       "      <td>65.0</td>\n",
       "      <td>18.0</td>\n",
       "      <td>27.0</td>\n",
       "      <td>4.0</td>\n",
       "      <td>1.0</td>\n",
       "      <td>23.0</td>\n",
       "      <td>19.0</td>\n",
       "      <td>40.0</td>\n",
       "      <td>16.0</td>\n",
       "      <td>1.0</td>\n",
       "      <td>791.0</td>\n",
       "      <td>30.0</td>\n",
       "      <td>264.0</td>\n",
       "      <td>398.0</td>\n",
       "      <td>209.0</td>\n",
       "      <td>12.0</td>\n",
       "      <td>671.0</td>\n",
       "      <td>21.0</td>\n",
       "      <td>36.0</td>\n",
       "      <td>58.3</td>\n",
       "      <td>24.0</td>\n",
       "      <td>3.0</td>\n",
       "      <td>492.0</td>\n",
       "      <td>3243.0</td>\n",
       "      <td>2032.0</td>\n",
       "      <td>66.0</td>\n",
       "      <td>21.0</td>\n",
       "      <td>4.0</td>\n",
       "      <td>18.0</td>\n",
       "      <td>17.0</td>\n",
       "      <td>460.0</td>\n",
       "      <td>435.0</td>\n",
       "      <td>94.6</td>\n",
       "      <td>17.0</td>\n",
       "    </tr>\n",
       "  </tbody>\n",
       "</table>\n",
       "</div>"
      ],
      "text/plain": [
       "         club_name        position            player_name   age  fee_infladj  \\\n",
       "3074           NaN             NaN          Antonín Barák   NaN          NaN   \n",
       "2166   Valencia CF  Centre-Forward           Marcos André  24.0          8.5   \n",
       "10198          NaN             NaN         Sead Kolašinac   NaN          NaN   \n",
       "5883           NaN             NaN  Jacob Barrett Laursen   NaN          NaN   \n",
       "4349           NaN             NaN      Dimitri Foulquier   NaN          NaN   \n",
       "\n",
       "            league_name  year  birth_year  minutes_90s  goals_against_gk  \\\n",
       "3074                NaN  2022      1994.0         24.3               0.0   \n",
       "2166   Primera Division  2021         NaN          NaN               NaN   \n",
       "10198               NaN  2022      1993.0          3.8               0.0   \n",
       "5883                NaN  2022      1994.0         15.5               0.0   \n",
       "4349                NaN  2018      1993.0         13.8               0.0   \n",
       "\n",
       "       pens_allowed  free_kick_goals_against_gk  corner_kick_goals_against_gk  \\\n",
       "3074            0.0                         0.0                           0.0   \n",
       "2166            NaN                         NaN                           NaN   \n",
       "10198           0.0                         0.0                           0.0   \n",
       "5883            0.0                         0.0                           0.0   \n",
       "4349            0.0                         0.0                           0.0   \n",
       "\n",
       "       own_goals_against_gk  psxg_gk  psnpxg_per_shot_on_target_against  \\\n",
       "3074                    0.0      0.0                                0.0   \n",
       "2166                    NaN      NaN                                NaN   \n",
       "10198                   0.0      0.0                                0.0   \n",
       "5883                    0.0      0.0                                0.0   \n",
       "4349                    0.0      0.0                                0.0   \n",
       "\n",
       "       psxg_net_gk  psxg_net_per90_gk  passes_completed_launched_gk  \\\n",
       "3074           0.0                0.0                           0.0   \n",
       "2166           NaN                NaN                           NaN   \n",
       "10198          0.0                0.0                           0.0   \n",
       "5883           0.0                0.0                           0.0   \n",
       "4349           0.0                0.0                           0.0   \n",
       "\n",
       "       passes_launched_gk  passes_pct_launched_gk  passes_gk  \\\n",
       "3074                  0.0                     0.0        0.0   \n",
       "2166                  NaN                     NaN        NaN   \n",
       "10198                 0.0                     0.0        0.0   \n",
       "5883                  0.0                     0.0        0.0   \n",
       "4349                  0.0                     0.0        0.0   \n",
       "\n",
       "       passes_throws_gk  pct_passes_launched_gk  passes_length_avg_gk  \\\n",
       "3074                0.0                     0.0                   0.0   \n",
       "2166                NaN                     NaN                   NaN   \n",
       "10198               0.0                     0.0                   0.0   \n",
       "5883                0.0                     0.0                   0.0   \n",
       "4349                0.0                     0.0                   0.0   \n",
       "\n",
       "       goal_kicks  pct_goal_kicks_launched  goal_kick_length_avg  crosses_gk  \\\n",
       "3074          0.0                      0.0                   0.0         0.0   \n",
       "2166          NaN                      NaN                   NaN         NaN   \n",
       "10198         0.0                      0.0                   0.0         0.0   \n",
       "5883          0.0                      0.0                   0.0         0.0   \n",
       "4349          0.0                      0.0                   0.0         0.0   \n",
       "\n",
       "       crosses_stopped_gk  crosses_stopped_pct_gk  \\\n",
       "3074                  0.0                     0.0   \n",
       "2166                  NaN                     NaN   \n",
       "10198                 0.0                     0.0   \n",
       "5883                  0.0                     0.0   \n",
       "4349                  0.0                     0.0   \n",
       "\n",
       "       def_actions_outside_pen_area_gk  def_actions_outside_pen_area_per90_gk  \\\n",
       "3074                               0.0                                    0.0   \n",
       "2166                               NaN                                    NaN   \n",
       "10198                              0.0                                    0.0   \n",
       "5883                               0.0                                    0.0   \n",
       "4349                               0.0                                    0.0   \n",
       "\n",
       "       avg_distance_def_actions_gk  matches   season.1  goals  shots_total  \\\n",
       "3074                           0.0  Matches  2021-2022   10.0         47.0   \n",
       "2166                           NaN      NaN        NaN    NaN          NaN   \n",
       "10198                          0.0  Matches  2021-2022    0.0          0.0   \n",
       "5883                           0.0  Matches  2021-2022    2.0          8.0   \n",
       "4349                           0.0  Matches  2017-2018    0.0          2.0   \n",
       "\n",
       "       shots_on_target  shots_on_target_pct  shots_total_per90  \\\n",
       "3074              19.0                 40.4               1.94   \n",
       "2166               NaN                  NaN                NaN   \n",
       "10198              0.0                  0.0               0.00   \n",
       "5883               4.0                 50.0               0.52   \n",
       "4349               0.0                  0.0               0.15   \n",
       "\n",
       "       shots_on_target_per90  goals_per_shot  goals_per_shot_on_target  \\\n",
       "3074                    0.78            0.13                      0.32   \n",
       "2166                     NaN             NaN                       NaN   \n",
       "10198                   0.00            0.00                      0.00   \n",
       "5883                    0.26            0.25                      0.50   \n",
       "4349                    0.00            0.00                      0.00   \n",
       "\n",
       "       average_shot_distance  shots_free_kicks  pens_made  pens_att   xg  \\\n",
       "3074                    15.0               2.0        4.0       4.0  9.2   \n",
       "2166                     NaN               NaN        NaN       NaN  NaN   \n",
       "10198                    0.0               0.0        0.0       0.0  0.0   \n",
       "5883                    24.0               0.0        0.0       0.0  0.3   \n",
       "4349                    20.0               0.0        0.0       0.0  0.0   \n",
       "\n",
       "       npxg  npxg_per_shot  xg_net  npxg_net  passes_completed  passes  \\\n",
       "3074    6.1           0.13     0.8      -0.1             855.0  1063.0   \n",
       "2166    NaN            NaN     NaN       NaN               NaN     NaN   \n",
       "10198   0.0           0.00     0.0       0.0             151.0   191.0   \n",
       "5883    0.3           0.03     1.7       1.7             491.0   688.0   \n",
       "4349    0.0           0.02     0.0       0.0             505.0   654.0   \n",
       "\n",
       "       passes_pct  passes_total_distance  passes_progressive_distance  \\\n",
       "3074         80.4                12915.0                       3610.0   \n",
       "2166          NaN                    NaN                          NaN   \n",
       "10198        79.1                 2291.0                        717.0   \n",
       "5883         71.4                 9264.0                       3898.0   \n",
       "4349         77.2                 9157.0                       3704.0   \n",
       "\n",
       "       passes_completed_short  passes_short  passes_pct_short  \\\n",
       "3074                    466.0         542.0              86.0   \n",
       "2166                      NaN           NaN               NaN   \n",
       "10198                    83.0          93.0              89.2   \n",
       "5883                    210.0         246.0              85.4   \n",
       "4349                    213.0         243.0              87.7   \n",
       "\n",
       "       passes_completed_medium  passes_medium  passes_pct_medium  \\\n",
       "3074                     306.0          367.0               83.4   \n",
       "2166                       NaN            NaN                NaN   \n",
       "10198                     58.0           79.0               73.4   \n",
       "5883                     205.0          265.0               77.4   \n",
       "4349                     231.0          283.0               81.6   \n",
       "\n",
       "       passes_completed_long  passes_long  passes_pct_long  assists   xa  \\\n",
       "3074                    48.0         74.0             64.9      3.0  3.1   \n",
       "2166                     NaN          NaN              NaN      NaN  NaN   \n",
       "10198                    6.0         11.0             54.5      1.0  0.2   \n",
       "5883                    69.0        137.0             50.4      0.0  0.5   \n",
       "4349                    55.0        102.0             53.9      2.0  1.0   \n",
       "\n",
       "       xa_net  assisted_shots  passes_into_final_third  \\\n",
       "3074     -0.1            26.0                     69.0   \n",
       "2166      NaN             NaN                      NaN   \n",
       "10198     0.8             4.0                      9.0   \n",
       "5883     -0.5             5.0                     29.0   \n",
       "4349      1.0             8.0                     36.0   \n",
       "\n",
       "       passes_into_penalty_area  crosses_into_penalty_area  \\\n",
       "3074                       23.0                        1.0   \n",
       "2166                        NaN                        NaN   \n",
       "10198                       5.0                        2.0   \n",
       "5883                        3.0                        1.0   \n",
       "4349                        9.0                        5.0   \n",
       "\n",
       "       progressive_passes  passes_live  passes_dead  passes_free_kicks  \\\n",
       "3074                103.0       1048.0         15.0                3.0   \n",
       "2166                  NaN          NaN          NaN                NaN   \n",
       "10198                11.0        167.0         24.0                2.0   \n",
       "5883                 42.0        505.0        183.0               21.0   \n",
       "4349                 39.0        532.0        122.0                5.0   \n",
       "\n",
       "       through_balls  passes_pressure  passes_switches  crosses  corner_kicks  \\\n",
       "3074             2.0            285.0             14.0     17.0           0.0   \n",
       "2166             NaN              NaN              NaN      NaN           NaN   \n",
       "10198            0.0             18.0              2.0      8.0           0.0   \n",
       "5883             0.0            101.0             15.0     24.0          15.0   \n",
       "4349             1.0             91.0              6.0     21.0           0.0   \n",
       "\n",
       "       corner_kicks_in  corner_kicks_out  corner_kicks_straight  \\\n",
       "3074               0.0               0.0                    0.0   \n",
       "2166               NaN               NaN                    NaN   \n",
       "10198              0.0               0.0                    0.0   \n",
       "5883               7.0               1.0                    0.0   \n",
       "4349               0.0               0.0                    0.0   \n",
       "\n",
       "       passes_ground  passes_low  passes_high  passes_left_foot  \\\n",
       "3074           793.0       152.0        118.0             832.0   \n",
       "2166             NaN         NaN          NaN               NaN   \n",
       "10198          127.0        44.0         20.0             129.0   \n",
       "5883           341.0       165.0        182.0             356.0   \n",
       "4349           392.0        85.0        177.0              61.0   \n",
       "\n",
       "       passes_right_foot  passes_head  throw_ins  passes_other_body  \\\n",
       "3074               139.0         47.0        5.0                6.0   \n",
       "2166                 NaN          NaN        NaN                NaN   \n",
       "10198               16.0         20.0       22.0                0.0   \n",
       "5883               130.0         37.0      147.0                6.0   \n",
       "4349               437.0         33.0      116.0                5.0   \n",
       "\n",
       "       passes_offsides  passes_oob  passes_intercepted  passes_blocked   sca  \\\n",
       "3074               7.0        16.0                46.0            37.0  59.0   \n",
       "2166               NaN         NaN                 NaN             NaN   NaN   \n",
       "10198              2.0         5.0                 7.0             3.0   7.0   \n",
       "5883               0.0        17.0                21.0            39.0  12.0   \n",
       "4349               0.0        16.0                17.0            21.0  15.0   \n",
       "\n",
       "       sca_per90  sca_passes_live  sca_passes_dead  sca_dribbles  sca_shots  \\\n",
       "3074        2.43             49.0              0.0           4.0        4.0   \n",
       "2166         NaN              NaN              NaN           NaN        NaN   \n",
       "10198       1.85              6.0              1.0           0.0        0.0   \n",
       "5883        0.77              7.0              5.0           0.0        0.0   \n",
       "4349        1.09             13.0              1.0           0.0        1.0   \n",
       "\n",
       "       sca_fouled  sca_defense   gca  gca_per90  gca_passes_live  \\\n",
       "3074          2.0          0.0  10.0       0.41              7.0   \n",
       "2166          NaN          NaN   NaN        NaN              NaN   \n",
       "10198         0.0          0.0   1.0       0.26              1.0   \n",
       "5883          0.0          0.0   1.0       0.06              1.0   \n",
       "4349          0.0          0.0   2.0       0.15              2.0   \n",
       "\n",
       "       gca_passes_dead  gca_dribbles  gca_shots  gca_fouled  gca_defense  \\\n",
       "3074               0.0           1.0        1.0         1.0          0.0   \n",
       "2166               NaN           NaN        NaN         NaN          NaN   \n",
       "10198              0.0           0.0        0.0         0.0          0.0   \n",
       "5883               0.0           0.0        0.0         0.0          0.0   \n",
       "4349               0.0           0.0        0.0         0.0          0.0   \n",
       "\n",
       "       tackles  tackles_won  tackles_def_3rd  tackles_mid_3rd  \\\n",
       "3074      25.0         16.0             15.0              8.0   \n",
       "2166       NaN          NaN              NaN              NaN   \n",
       "10198      5.0          4.0              3.0              1.0   \n",
       "5883      21.0         14.0             12.0              7.0   \n",
       "4349      21.0         16.0             17.0              3.0   \n",
       "\n",
       "       tackles_att_3rd  dribble_tackles  dribbles_vs  dribble_tackles_pct  \\\n",
       "3074               2.0              5.0         21.0                 23.8   \n",
       "2166               NaN              NaN          NaN                  NaN   \n",
       "10198              1.0              4.0          7.0                 57.1   \n",
       "5883               2.0              6.0         15.0                 40.0   \n",
       "4349               1.0              7.0         15.0                 46.7   \n",
       "\n",
       "       dribbled_past  pressures  pressure_regains  pressure_regain_pct  \\\n",
       "3074            16.0      390.0             118.0                 30.3   \n",
       "2166             NaN        NaN               NaN                  NaN   \n",
       "10198            3.0       50.0              19.0                 38.0   \n",
       "5883             9.0      181.0              59.0                 32.6   \n",
       "4349             8.0      177.0              55.0                 31.1   \n",
       "\n",
       "       pressures_def_3rd  pressures_mid_3rd  pressures_att_3rd  blocks  \\\n",
       "3074                97.0              190.0              103.0    44.0   \n",
       "2166                 NaN                NaN                NaN     NaN   \n",
       "10198               17.0               15.0               18.0     3.0   \n",
       "5883                82.0               68.0               31.0    31.0   \n",
       "4349                94.0               65.0               18.0    27.0   \n",
       "\n",
       "       blocked_shots  blocked_shots_saves  blocked_passes  interceptions  \\\n",
       "3074             6.0                  0.0            38.0           11.0   \n",
       "2166             NaN                  NaN             NaN            NaN   \n",
       "10198            0.0                  0.0             3.0            3.0   \n",
       "5883             7.0                  0.0            24.0           24.0   \n",
       "4349             4.0                  1.0            23.0           19.0   \n",
       "\n",
       "       tackles_interceptions  clearances  errors  touches  \\\n",
       "3074                    36.0        27.0     0.0   1351.0   \n",
       "2166                     NaN         NaN     NaN      NaN   \n",
       "10198                    8.0         7.0     1.0    220.0   \n",
       "5883                    45.0        41.0     1.0    832.0   \n",
       "4349                    40.0        16.0     1.0    791.0   \n",
       "\n",
       "       touches_def_pen_area  touches_def_3rd  touches_mid_3rd  \\\n",
       "3074                   42.0            207.0            750.0   \n",
       "2166                    NaN              NaN              NaN   \n",
       "10198                  10.0             54.0            100.0   \n",
       "5883                   58.0            268.0            381.0   \n",
       "4349                   30.0            264.0            398.0   \n",
       "\n",
       "       touches_att_3rd  touches_att_pen_area  touches_live_ball  \\\n",
       "3074             508.0                  96.0             1330.0   \n",
       "2166               NaN                   NaN                NaN   \n",
       "10198             78.0                   8.0              197.0   \n",
       "5883             219.0                   8.0              652.0   \n",
       "4349             209.0                  12.0              671.0   \n",
       "\n",
       "       dribbles_completed  dribbles  dribbles_completed_pct  \\\n",
       "3074                 24.0      43.0                    55.8   \n",
       "2166                  NaN       NaN                     NaN   \n",
       "10198                 1.0       2.0                    50.0   \n",
       "5883                 14.0      25.0                    56.0   \n",
       "4349                 21.0      36.0                    58.3   \n",
       "\n",
       "       players_dribbled_past  nutmegs  carries  carry_distance  \\\n",
       "3074                    26.0      0.0    975.0          5714.0   \n",
       "2166                     NaN      NaN      NaN             NaN   \n",
       "10198                    1.0      0.0    135.0           584.0   \n",
       "5883                    15.0      0.0    398.0          1850.0   \n",
       "4349                    24.0      3.0    492.0          3243.0   \n",
       "\n",
       "       carry_progressive_distance  progressive_carries  \\\n",
       "3074                       3108.0                167.0   \n",
       "2166                          NaN                  NaN   \n",
       "10198                       345.0                 21.0   \n",
       "5883                        913.0                 33.0   \n",
       "4349                       2032.0                 66.0   \n",
       "\n",
       "       carries_into_final_third  carries_into_penalty_area  miscontrols  \\\n",
       "3074                       65.0                       14.0         42.0   \n",
       "2166                        NaN                        NaN          NaN   \n",
       "10198                       8.0                        3.0          5.0   \n",
       "5883                       10.0                        2.0          8.0   \n",
       "4349                       21.0                        4.0         18.0   \n",
       "\n",
       "       dispossessed  pass_targets  passes_received  passes_received_pct  \\\n",
       "3074           47.0        1314.0           1017.0                 77.4   \n",
       "2166            NaN           NaN              NaN                  NaN   \n",
       "10198           6.0         153.0            137.0                 89.5   \n",
       "5883            7.0         411.0            361.0                 87.8   \n",
       "4349           17.0         460.0            435.0                 94.6   \n",
       "\n",
       "       progressive_passes_received  \n",
       "3074                         146.0  \n",
       "2166                           NaN  \n",
       "10198                         12.0  \n",
       "5883                          12.0  \n",
       "4349                          17.0  "
      ]
     },
     "execution_count": 207,
     "metadata": {},
     "output_type": "execute_result"
    }
   ],
   "source": [
    "df.sample(5)"
   ]
  },
  {
   "cell_type": "code",
   "execution_count": 208,
   "metadata": {},
   "outputs": [],
   "source": [
    "# Filling seasons with missing data\n",
    "df[features] = df[features].fillna(0)"
   ]
  },
  {
   "cell_type": "code",
   "execution_count": 209,
   "metadata": {},
   "outputs": [
    {
     "data": {
      "text/html": [
       "<div>\n",
       "<style scoped>\n",
       "    .dataframe tbody tr th:only-of-type {\n",
       "        vertical-align: middle;\n",
       "    }\n",
       "\n",
       "    .dataframe tbody tr th {\n",
       "        vertical-align: top;\n",
       "    }\n",
       "\n",
       "    .dataframe thead th {\n",
       "        text-align: right;\n",
       "    }\n",
       "</style>\n",
       "<table border=\"1\" class=\"dataframe\">\n",
       "  <thead>\n",
       "    <tr style=\"text-align: right;\">\n",
       "      <th></th>\n",
       "      <th>club_name</th>\n",
       "      <th>position</th>\n",
       "      <th>player_name</th>\n",
       "      <th>age</th>\n",
       "      <th>fee_infladj</th>\n",
       "      <th>league_name</th>\n",
       "      <th>year</th>\n",
       "      <th>birth_year</th>\n",
       "      <th>minutes_90s</th>\n",
       "      <th>goals_against_gk</th>\n",
       "      <th>pens_allowed</th>\n",
       "      <th>free_kick_goals_against_gk</th>\n",
       "      <th>corner_kick_goals_against_gk</th>\n",
       "      <th>own_goals_against_gk</th>\n",
       "      <th>psxg_gk</th>\n",
       "      <th>psnpxg_per_shot_on_target_against</th>\n",
       "      <th>psxg_net_gk</th>\n",
       "      <th>psxg_net_per90_gk</th>\n",
       "      <th>passes_completed_launched_gk</th>\n",
       "      <th>passes_launched_gk</th>\n",
       "      <th>passes_pct_launched_gk</th>\n",
       "      <th>passes_gk</th>\n",
       "      <th>passes_throws_gk</th>\n",
       "      <th>pct_passes_launched_gk</th>\n",
       "      <th>passes_length_avg_gk</th>\n",
       "      <th>goal_kicks</th>\n",
       "      <th>pct_goal_kicks_launched</th>\n",
       "      <th>goal_kick_length_avg</th>\n",
       "      <th>crosses_gk</th>\n",
       "      <th>crosses_stopped_gk</th>\n",
       "      <th>crosses_stopped_pct_gk</th>\n",
       "      <th>def_actions_outside_pen_area_gk</th>\n",
       "      <th>def_actions_outside_pen_area_per90_gk</th>\n",
       "      <th>avg_distance_def_actions_gk</th>\n",
       "      <th>matches</th>\n",
       "      <th>season.1</th>\n",
       "      <th>goals</th>\n",
       "      <th>shots_total</th>\n",
       "      <th>shots_on_target</th>\n",
       "      <th>shots_on_target_pct</th>\n",
       "      <th>shots_total_per90</th>\n",
       "      <th>shots_on_target_per90</th>\n",
       "      <th>goals_per_shot</th>\n",
       "      <th>goals_per_shot_on_target</th>\n",
       "      <th>average_shot_distance</th>\n",
       "      <th>shots_free_kicks</th>\n",
       "      <th>pens_made</th>\n",
       "      <th>pens_att</th>\n",
       "      <th>xg</th>\n",
       "      <th>npxg</th>\n",
       "      <th>npxg_per_shot</th>\n",
       "      <th>xg_net</th>\n",
       "      <th>npxg_net</th>\n",
       "      <th>passes_completed</th>\n",
       "      <th>passes</th>\n",
       "      <th>passes_pct</th>\n",
       "      <th>passes_total_distance</th>\n",
       "      <th>passes_progressive_distance</th>\n",
       "      <th>passes_completed_short</th>\n",
       "      <th>passes_short</th>\n",
       "      <th>passes_pct_short</th>\n",
       "      <th>passes_completed_medium</th>\n",
       "      <th>passes_medium</th>\n",
       "      <th>passes_pct_medium</th>\n",
       "      <th>passes_completed_long</th>\n",
       "      <th>passes_long</th>\n",
       "      <th>passes_pct_long</th>\n",
       "      <th>assists</th>\n",
       "      <th>xa</th>\n",
       "      <th>xa_net</th>\n",
       "      <th>assisted_shots</th>\n",
       "      <th>passes_into_final_third</th>\n",
       "      <th>passes_into_penalty_area</th>\n",
       "      <th>crosses_into_penalty_area</th>\n",
       "      <th>progressive_passes</th>\n",
       "      <th>passes_live</th>\n",
       "      <th>passes_dead</th>\n",
       "      <th>passes_free_kicks</th>\n",
       "      <th>through_balls</th>\n",
       "      <th>passes_pressure</th>\n",
       "      <th>passes_switches</th>\n",
       "      <th>crosses</th>\n",
       "      <th>corner_kicks</th>\n",
       "      <th>corner_kicks_in</th>\n",
       "      <th>corner_kicks_out</th>\n",
       "      <th>corner_kicks_straight</th>\n",
       "      <th>passes_ground</th>\n",
       "      <th>passes_low</th>\n",
       "      <th>passes_high</th>\n",
       "      <th>passes_left_foot</th>\n",
       "      <th>passes_right_foot</th>\n",
       "      <th>passes_head</th>\n",
       "      <th>throw_ins</th>\n",
       "      <th>passes_other_body</th>\n",
       "      <th>passes_offsides</th>\n",
       "      <th>passes_oob</th>\n",
       "      <th>passes_intercepted</th>\n",
       "      <th>passes_blocked</th>\n",
       "      <th>sca</th>\n",
       "      <th>sca_per90</th>\n",
       "      <th>sca_passes_live</th>\n",
       "      <th>sca_passes_dead</th>\n",
       "      <th>sca_dribbles</th>\n",
       "      <th>sca_shots</th>\n",
       "      <th>sca_fouled</th>\n",
       "      <th>sca_defense</th>\n",
       "      <th>gca</th>\n",
       "      <th>gca_per90</th>\n",
       "      <th>gca_passes_live</th>\n",
       "      <th>gca_passes_dead</th>\n",
       "      <th>gca_dribbles</th>\n",
       "      <th>gca_shots</th>\n",
       "      <th>gca_fouled</th>\n",
       "      <th>gca_defense</th>\n",
       "      <th>tackles</th>\n",
       "      <th>tackles_won</th>\n",
       "      <th>tackles_def_3rd</th>\n",
       "      <th>tackles_mid_3rd</th>\n",
       "      <th>tackles_att_3rd</th>\n",
       "      <th>dribble_tackles</th>\n",
       "      <th>dribbles_vs</th>\n",
       "      <th>dribble_tackles_pct</th>\n",
       "      <th>dribbled_past</th>\n",
       "      <th>pressures</th>\n",
       "      <th>pressure_regains</th>\n",
       "      <th>pressure_regain_pct</th>\n",
       "      <th>pressures_def_3rd</th>\n",
       "      <th>pressures_mid_3rd</th>\n",
       "      <th>pressures_att_3rd</th>\n",
       "      <th>blocks</th>\n",
       "      <th>blocked_shots</th>\n",
       "      <th>blocked_shots_saves</th>\n",
       "      <th>blocked_passes</th>\n",
       "      <th>interceptions</th>\n",
       "      <th>tackles_interceptions</th>\n",
       "      <th>clearances</th>\n",
       "      <th>errors</th>\n",
       "      <th>touches</th>\n",
       "      <th>touches_def_pen_area</th>\n",
       "      <th>touches_def_3rd</th>\n",
       "      <th>touches_mid_3rd</th>\n",
       "      <th>touches_att_3rd</th>\n",
       "      <th>touches_att_pen_area</th>\n",
       "      <th>touches_live_ball</th>\n",
       "      <th>dribbles_completed</th>\n",
       "      <th>dribbles</th>\n",
       "      <th>dribbles_completed_pct</th>\n",
       "      <th>players_dribbled_past</th>\n",
       "      <th>nutmegs</th>\n",
       "      <th>carries</th>\n",
       "      <th>carry_distance</th>\n",
       "      <th>carry_progressive_distance</th>\n",
       "      <th>progressive_carries</th>\n",
       "      <th>carries_into_final_third</th>\n",
       "      <th>carries_into_penalty_area</th>\n",
       "      <th>miscontrols</th>\n",
       "      <th>dispossessed</th>\n",
       "      <th>pass_targets</th>\n",
       "      <th>passes_received</th>\n",
       "      <th>passes_received_pct</th>\n",
       "      <th>progressive_passes_received</th>\n",
       "    </tr>\n",
       "  </thead>\n",
       "  <tbody>\n",
       "    <tr>\n",
       "      <th>2284</th>\n",
       "      <td>SpVgg Greuther Fürth</td>\n",
       "      <td>Central Midfield</td>\n",
       "      <td>Tobias Raschl</td>\n",
       "      <td>21.0</td>\n",
       "      <td>0.1</td>\n",
       "      <td>1 Bundesliga</td>\n",
       "      <td>2021</td>\n",
       "      <td>NaN</td>\n",
       "      <td>0.0</td>\n",
       "      <td>0.0</td>\n",
       "      <td>0.0</td>\n",
       "      <td>0.0</td>\n",
       "      <td>0.0</td>\n",
       "      <td>0.0</td>\n",
       "      <td>0.0</td>\n",
       "      <td>0.0</td>\n",
       "      <td>0.0</td>\n",
       "      <td>0.0</td>\n",
       "      <td>0.0</td>\n",
       "      <td>0.0</td>\n",
       "      <td>0.0</td>\n",
       "      <td>0.0</td>\n",
       "      <td>0.0</td>\n",
       "      <td>0.0</td>\n",
       "      <td>0.0</td>\n",
       "      <td>0.0</td>\n",
       "      <td>0.0</td>\n",
       "      <td>0.0</td>\n",
       "      <td>0.0</td>\n",
       "      <td>0.0</td>\n",
       "      <td>0.0</td>\n",
       "      <td>0.0</td>\n",
       "      <td>0.0</td>\n",
       "      <td>0.0</td>\n",
       "      <td>NaN</td>\n",
       "      <td>NaN</td>\n",
       "      <td>0.0</td>\n",
       "      <td>0.0</td>\n",
       "      <td>0.0</td>\n",
       "      <td>0.0</td>\n",
       "      <td>0.00</td>\n",
       "      <td>0.0</td>\n",
       "      <td>0.0</td>\n",
       "      <td>0.0</td>\n",
       "      <td>0.0</td>\n",
       "      <td>0.0</td>\n",
       "      <td>0.0</td>\n",
       "      <td>0.0</td>\n",
       "      <td>0.0</td>\n",
       "      <td>0.0</td>\n",
       "      <td>0.00</td>\n",
       "      <td>0.0</td>\n",
       "      <td>0.0</td>\n",
       "      <td>0.0</td>\n",
       "      <td>0.0</td>\n",
       "      <td>0.0</td>\n",
       "      <td>0.0</td>\n",
       "      <td>0.0</td>\n",
       "      <td>0.0</td>\n",
       "      <td>0.0</td>\n",
       "      <td>0.0</td>\n",
       "      <td>0.0</td>\n",
       "      <td>0.0</td>\n",
       "      <td>0.0</td>\n",
       "      <td>0.0</td>\n",
       "      <td>0.0</td>\n",
       "      <td>0.0</td>\n",
       "      <td>0.0</td>\n",
       "      <td>0.0</td>\n",
       "      <td>0.0</td>\n",
       "      <td>0.0</td>\n",
       "      <td>0.0</td>\n",
       "      <td>0.0</td>\n",
       "      <td>0.0</td>\n",
       "      <td>0.0</td>\n",
       "      <td>0.0</td>\n",
       "      <td>0.0</td>\n",
       "      <td>0.0</td>\n",
       "      <td>0.0</td>\n",
       "      <td>0.0</td>\n",
       "      <td>0.0</td>\n",
       "      <td>0.0</td>\n",
       "      <td>0.0</td>\n",
       "      <td>0.0</td>\n",
       "      <td>0.0</td>\n",
       "      <td>0.0</td>\n",
       "      <td>0.0</td>\n",
       "      <td>0.0</td>\n",
       "      <td>0.0</td>\n",
       "      <td>0.0</td>\n",
       "      <td>0.0</td>\n",
       "      <td>0.0</td>\n",
       "      <td>0.0</td>\n",
       "      <td>0.0</td>\n",
       "      <td>0.0</td>\n",
       "      <td>0.0</td>\n",
       "      <td>0.0</td>\n",
       "      <td>0.0</td>\n",
       "      <td>0.0</td>\n",
       "      <td>0.0</td>\n",
       "      <td>0.0</td>\n",
       "      <td>0.0</td>\n",
       "      <td>0.0</td>\n",
       "      <td>0.0</td>\n",
       "      <td>0.0</td>\n",
       "      <td>0.0</td>\n",
       "      <td>0.0</td>\n",
       "      <td>0.0</td>\n",
       "      <td>0.0</td>\n",
       "      <td>0.0</td>\n",
       "      <td>0.0</td>\n",
       "      <td>0.0</td>\n",
       "      <td>0.0</td>\n",
       "      <td>0.0</td>\n",
       "      <td>0.0</td>\n",
       "      <td>0.0</td>\n",
       "      <td>0.0</td>\n",
       "      <td>0.0</td>\n",
       "      <td>0.0</td>\n",
       "      <td>0.0</td>\n",
       "      <td>0.0</td>\n",
       "      <td>0.0</td>\n",
       "      <td>0.0</td>\n",
       "      <td>0.0</td>\n",
       "      <td>0.0</td>\n",
       "      <td>0.0</td>\n",
       "      <td>0.0</td>\n",
       "      <td>0.0</td>\n",
       "      <td>0.0</td>\n",
       "      <td>0.0</td>\n",
       "      <td>0.0</td>\n",
       "      <td>0.0</td>\n",
       "      <td>0.0</td>\n",
       "      <td>0.0</td>\n",
       "      <td>0.0</td>\n",
       "      <td>0.0</td>\n",
       "      <td>0.0</td>\n",
       "      <td>0.0</td>\n",
       "      <td>0.0</td>\n",
       "      <td>0.0</td>\n",
       "      <td>0.0</td>\n",
       "      <td>0.0</td>\n",
       "      <td>0.0</td>\n",
       "      <td>0.0</td>\n",
       "      <td>0.0</td>\n",
       "      <td>0.0</td>\n",
       "      <td>0.0</td>\n",
       "      <td>0.0</td>\n",
       "      <td>0.0</td>\n",
       "      <td>0.0</td>\n",
       "      <td>0.0</td>\n",
       "      <td>0.0</td>\n",
       "      <td>0.0</td>\n",
       "      <td>0.0</td>\n",
       "      <td>0.0</td>\n",
       "      <td>0.0</td>\n",
       "      <td>0.0</td>\n",
       "      <td>0.0</td>\n",
       "      <td>0.0</td>\n",
       "      <td>0.0</td>\n",
       "      <td>0.0</td>\n",
       "    </tr>\n",
       "    <tr>\n",
       "      <th>10848</th>\n",
       "      <td>NaN</td>\n",
       "      <td>NaN</td>\n",
       "      <td>Tobias Raschl</td>\n",
       "      <td>NaN</td>\n",
       "      <td>NaN</td>\n",
       "      <td>NaN</td>\n",
       "      <td>2022</td>\n",
       "      <td>2000.0</td>\n",
       "      <td>4.1</td>\n",
       "      <td>0.0</td>\n",
       "      <td>0.0</td>\n",
       "      <td>0.0</td>\n",
       "      <td>0.0</td>\n",
       "      <td>0.0</td>\n",
       "      <td>0.0</td>\n",
       "      <td>0.0</td>\n",
       "      <td>0.0</td>\n",
       "      <td>0.0</td>\n",
       "      <td>0.0</td>\n",
       "      <td>0.0</td>\n",
       "      <td>0.0</td>\n",
       "      <td>0.0</td>\n",
       "      <td>0.0</td>\n",
       "      <td>0.0</td>\n",
       "      <td>0.0</td>\n",
       "      <td>0.0</td>\n",
       "      <td>0.0</td>\n",
       "      <td>0.0</td>\n",
       "      <td>0.0</td>\n",
       "      <td>0.0</td>\n",
       "      <td>0.0</td>\n",
       "      <td>0.0</td>\n",
       "      <td>0.0</td>\n",
       "      <td>0.0</td>\n",
       "      <td>Matches</td>\n",
       "      <td>2021-2022</td>\n",
       "      <td>0.0</td>\n",
       "      <td>3.0</td>\n",
       "      <td>0.0</td>\n",
       "      <td>0.0</td>\n",
       "      <td>0.74</td>\n",
       "      <td>0.0</td>\n",
       "      <td>0.0</td>\n",
       "      <td>0.0</td>\n",
       "      <td>26.0</td>\n",
       "      <td>0.0</td>\n",
       "      <td>0.0</td>\n",
       "      <td>0.0</td>\n",
       "      <td>0.1</td>\n",
       "      <td>0.1</td>\n",
       "      <td>0.02</td>\n",
       "      <td>-0.1</td>\n",
       "      <td>-0.1</td>\n",
       "      <td>141.0</td>\n",
       "      <td>178.0</td>\n",
       "      <td>79.2</td>\n",
       "      <td>2483.0</td>\n",
       "      <td>550.0</td>\n",
       "      <td>63.0</td>\n",
       "      <td>69.0</td>\n",
       "      <td>91.3</td>\n",
       "      <td>56.0</td>\n",
       "      <td>69.0</td>\n",
       "      <td>81.2</td>\n",
       "      <td>16.0</td>\n",
       "      <td>26.0</td>\n",
       "      <td>61.5</td>\n",
       "      <td>0.0</td>\n",
       "      <td>0.0</td>\n",
       "      <td>0.0</td>\n",
       "      <td>0.0</td>\n",
       "      <td>12.0</td>\n",
       "      <td>1.0</td>\n",
       "      <td>0.0</td>\n",
       "      <td>5.0</td>\n",
       "      <td>171.0</td>\n",
       "      <td>7.0</td>\n",
       "      <td>7.0</td>\n",
       "      <td>0.0</td>\n",
       "      <td>32.0</td>\n",
       "      <td>3.0</td>\n",
       "      <td>0.0</td>\n",
       "      <td>0.0</td>\n",
       "      <td>0.0</td>\n",
       "      <td>0.0</td>\n",
       "      <td>0.0</td>\n",
       "      <td>146.0</td>\n",
       "      <td>12.0</td>\n",
       "      <td>20.0</td>\n",
       "      <td>15.0</td>\n",
       "      <td>162.0</td>\n",
       "      <td>1.0</td>\n",
       "      <td>0.0</td>\n",
       "      <td>0.0</td>\n",
       "      <td>0.0</td>\n",
       "      <td>0.0</td>\n",
       "      <td>9.0</td>\n",
       "      <td>8.0</td>\n",
       "      <td>0.0</td>\n",
       "      <td>0.0</td>\n",
       "      <td>0.0</td>\n",
       "      <td>0.0</td>\n",
       "      <td>0.0</td>\n",
       "      <td>0.0</td>\n",
       "      <td>0.0</td>\n",
       "      <td>0.0</td>\n",
       "      <td>0.0</td>\n",
       "      <td>0.0</td>\n",
       "      <td>0.0</td>\n",
       "      <td>0.0</td>\n",
       "      <td>0.0</td>\n",
       "      <td>0.0</td>\n",
       "      <td>0.0</td>\n",
       "      <td>0.0</td>\n",
       "      <td>10.0</td>\n",
       "      <td>7.0</td>\n",
       "      <td>5.0</td>\n",
       "      <td>5.0</td>\n",
       "      <td>0.0</td>\n",
       "      <td>2.0</td>\n",
       "      <td>6.0</td>\n",
       "      <td>33.3</td>\n",
       "      <td>4.0</td>\n",
       "      <td>81.0</td>\n",
       "      <td>22.0</td>\n",
       "      <td>27.2</td>\n",
       "      <td>23.0</td>\n",
       "      <td>45.0</td>\n",
       "      <td>13.0</td>\n",
       "      <td>8.0</td>\n",
       "      <td>1.0</td>\n",
       "      <td>0.0</td>\n",
       "      <td>7.0</td>\n",
       "      <td>5.0</td>\n",
       "      <td>15.0</td>\n",
       "      <td>2.0</td>\n",
       "      <td>0.0</td>\n",
       "      <td>227.0</td>\n",
       "      <td>5.0</td>\n",
       "      <td>59.0</td>\n",
       "      <td>150.0</td>\n",
       "      <td>43.0</td>\n",
       "      <td>5.0</td>\n",
       "      <td>221.0</td>\n",
       "      <td>5.0</td>\n",
       "      <td>9.0</td>\n",
       "      <td>55.6</td>\n",
       "      <td>5.0</td>\n",
       "      <td>0.0</td>\n",
       "      <td>160.0</td>\n",
       "      <td>981.0</td>\n",
       "      <td>604.0</td>\n",
       "      <td>25.0</td>\n",
       "      <td>7.0</td>\n",
       "      <td>1.0</td>\n",
       "      <td>7.0</td>\n",
       "      <td>8.0</td>\n",
       "      <td>169.0</td>\n",
       "      <td>153.0</td>\n",
       "      <td>90.5</td>\n",
       "      <td>6.0</td>\n",
       "    </tr>\n",
       "  </tbody>\n",
       "</table>\n",
       "</div>"
      ],
      "text/plain": [
       "                  club_name          position    player_name   age  \\\n",
       "2284   SpVgg Greuther Fürth  Central Midfield  Tobias Raschl  21.0   \n",
       "10848                   NaN               NaN  Tobias Raschl   NaN   \n",
       "\n",
       "       fee_infladj   league_name  year  birth_year  minutes_90s  \\\n",
       "2284           0.1  1 Bundesliga  2021         NaN          0.0   \n",
       "10848          NaN           NaN  2022      2000.0          4.1   \n",
       "\n",
       "       goals_against_gk  pens_allowed  free_kick_goals_against_gk  \\\n",
       "2284                0.0           0.0                         0.0   \n",
       "10848               0.0           0.0                         0.0   \n",
       "\n",
       "       corner_kick_goals_against_gk  own_goals_against_gk  psxg_gk  \\\n",
       "2284                            0.0                   0.0      0.0   \n",
       "10848                           0.0                   0.0      0.0   \n",
       "\n",
       "       psnpxg_per_shot_on_target_against  psxg_net_gk  psxg_net_per90_gk  \\\n",
       "2284                                 0.0          0.0                0.0   \n",
       "10848                                0.0          0.0                0.0   \n",
       "\n",
       "       passes_completed_launched_gk  passes_launched_gk  \\\n",
       "2284                            0.0                 0.0   \n",
       "10848                           0.0                 0.0   \n",
       "\n",
       "       passes_pct_launched_gk  passes_gk  passes_throws_gk  \\\n",
       "2284                      0.0        0.0               0.0   \n",
       "10848                     0.0        0.0               0.0   \n",
       "\n",
       "       pct_passes_launched_gk  passes_length_avg_gk  goal_kicks  \\\n",
       "2284                      0.0                   0.0         0.0   \n",
       "10848                     0.0                   0.0         0.0   \n",
       "\n",
       "       pct_goal_kicks_launched  goal_kick_length_avg  crosses_gk  \\\n",
       "2284                       0.0                   0.0         0.0   \n",
       "10848                      0.0                   0.0         0.0   \n",
       "\n",
       "       crosses_stopped_gk  crosses_stopped_pct_gk  \\\n",
       "2284                  0.0                     0.0   \n",
       "10848                 0.0                     0.0   \n",
       "\n",
       "       def_actions_outside_pen_area_gk  def_actions_outside_pen_area_per90_gk  \\\n",
       "2284                               0.0                                    0.0   \n",
       "10848                              0.0                                    0.0   \n",
       "\n",
       "       avg_distance_def_actions_gk  matches   season.1  goals  shots_total  \\\n",
       "2284                           0.0      NaN        NaN    0.0          0.0   \n",
       "10848                          0.0  Matches  2021-2022    0.0          3.0   \n",
       "\n",
       "       shots_on_target  shots_on_target_pct  shots_total_per90  \\\n",
       "2284               0.0                  0.0               0.00   \n",
       "10848              0.0                  0.0               0.74   \n",
       "\n",
       "       shots_on_target_per90  goals_per_shot  goals_per_shot_on_target  \\\n",
       "2284                     0.0             0.0                       0.0   \n",
       "10848                    0.0             0.0                       0.0   \n",
       "\n",
       "       average_shot_distance  shots_free_kicks  pens_made  pens_att   xg  \\\n",
       "2284                     0.0               0.0        0.0       0.0  0.0   \n",
       "10848                   26.0               0.0        0.0       0.0  0.1   \n",
       "\n",
       "       npxg  npxg_per_shot  xg_net  npxg_net  passes_completed  passes  \\\n",
       "2284    0.0           0.00     0.0       0.0               0.0     0.0   \n",
       "10848   0.1           0.02    -0.1      -0.1             141.0   178.0   \n",
       "\n",
       "       passes_pct  passes_total_distance  passes_progressive_distance  \\\n",
       "2284          0.0                    0.0                          0.0   \n",
       "10848        79.2                 2483.0                        550.0   \n",
       "\n",
       "       passes_completed_short  passes_short  passes_pct_short  \\\n",
       "2284                      0.0           0.0               0.0   \n",
       "10848                    63.0          69.0              91.3   \n",
       "\n",
       "       passes_completed_medium  passes_medium  passes_pct_medium  \\\n",
       "2284                       0.0            0.0                0.0   \n",
       "10848                     56.0           69.0               81.2   \n",
       "\n",
       "       passes_completed_long  passes_long  passes_pct_long  assists   xa  \\\n",
       "2284                     0.0          0.0              0.0      0.0  0.0   \n",
       "10848                   16.0         26.0             61.5      0.0  0.0   \n",
       "\n",
       "       xa_net  assisted_shots  passes_into_final_third  \\\n",
       "2284      0.0             0.0                      0.0   \n",
       "10848     0.0             0.0                     12.0   \n",
       "\n",
       "       passes_into_penalty_area  crosses_into_penalty_area  \\\n",
       "2284                        0.0                        0.0   \n",
       "10848                       1.0                        0.0   \n",
       "\n",
       "       progressive_passes  passes_live  passes_dead  passes_free_kicks  \\\n",
       "2284                  0.0          0.0          0.0                0.0   \n",
       "10848                 5.0        171.0          7.0                7.0   \n",
       "\n",
       "       through_balls  passes_pressure  passes_switches  crosses  corner_kicks  \\\n",
       "2284             0.0              0.0              0.0      0.0           0.0   \n",
       "10848            0.0             32.0              3.0      0.0           0.0   \n",
       "\n",
       "       corner_kicks_in  corner_kicks_out  corner_kicks_straight  \\\n",
       "2284               0.0               0.0                    0.0   \n",
       "10848              0.0               0.0                    0.0   \n",
       "\n",
       "       passes_ground  passes_low  passes_high  passes_left_foot  \\\n",
       "2284             0.0         0.0          0.0               0.0   \n",
       "10848          146.0        12.0         20.0              15.0   \n",
       "\n",
       "       passes_right_foot  passes_head  throw_ins  passes_other_body  \\\n",
       "2284                 0.0          0.0        0.0                0.0   \n",
       "10848              162.0          1.0        0.0                0.0   \n",
       "\n",
       "       passes_offsides  passes_oob  passes_intercepted  passes_blocked  sca  \\\n",
       "2284               0.0         0.0                 0.0             0.0  0.0   \n",
       "10848              0.0         0.0                 9.0             8.0  0.0   \n",
       "\n",
       "       sca_per90  sca_passes_live  sca_passes_dead  sca_dribbles  sca_shots  \\\n",
       "2284         0.0              0.0              0.0           0.0        0.0   \n",
       "10848        0.0              0.0              0.0           0.0        0.0   \n",
       "\n",
       "       sca_fouled  sca_defense  gca  gca_per90  gca_passes_live  \\\n",
       "2284          0.0          0.0  0.0        0.0              0.0   \n",
       "10848         0.0          0.0  0.0        0.0              0.0   \n",
       "\n",
       "       gca_passes_dead  gca_dribbles  gca_shots  gca_fouled  gca_defense  \\\n",
       "2284               0.0           0.0        0.0         0.0          0.0   \n",
       "10848              0.0           0.0        0.0         0.0          0.0   \n",
       "\n",
       "       tackles  tackles_won  tackles_def_3rd  tackles_mid_3rd  \\\n",
       "2284       0.0          0.0              0.0              0.0   \n",
       "10848     10.0          7.0              5.0              5.0   \n",
       "\n",
       "       tackles_att_3rd  dribble_tackles  dribbles_vs  dribble_tackles_pct  \\\n",
       "2284               0.0              0.0          0.0                  0.0   \n",
       "10848              0.0              2.0          6.0                 33.3   \n",
       "\n",
       "       dribbled_past  pressures  pressure_regains  pressure_regain_pct  \\\n",
       "2284             0.0        0.0               0.0                  0.0   \n",
       "10848            4.0       81.0              22.0                 27.2   \n",
       "\n",
       "       pressures_def_3rd  pressures_mid_3rd  pressures_att_3rd  blocks  \\\n",
       "2284                 0.0                0.0                0.0     0.0   \n",
       "10848               23.0               45.0               13.0     8.0   \n",
       "\n",
       "       blocked_shots  blocked_shots_saves  blocked_passes  interceptions  \\\n",
       "2284             0.0                  0.0             0.0            0.0   \n",
       "10848            1.0                  0.0             7.0            5.0   \n",
       "\n",
       "       tackles_interceptions  clearances  errors  touches  \\\n",
       "2284                     0.0         0.0     0.0      0.0   \n",
       "10848                   15.0         2.0     0.0    227.0   \n",
       "\n",
       "       touches_def_pen_area  touches_def_3rd  touches_mid_3rd  \\\n",
       "2284                    0.0              0.0              0.0   \n",
       "10848                   5.0             59.0            150.0   \n",
       "\n",
       "       touches_att_3rd  touches_att_pen_area  touches_live_ball  \\\n",
       "2284               0.0                   0.0                0.0   \n",
       "10848             43.0                   5.0              221.0   \n",
       "\n",
       "       dribbles_completed  dribbles  dribbles_completed_pct  \\\n",
       "2284                  0.0       0.0                     0.0   \n",
       "10848                 5.0       9.0                    55.6   \n",
       "\n",
       "       players_dribbled_past  nutmegs  carries  carry_distance  \\\n",
       "2284                     0.0      0.0      0.0             0.0   \n",
       "10848                    5.0      0.0    160.0           981.0   \n",
       "\n",
       "       carry_progressive_distance  progressive_carries  \\\n",
       "2284                          0.0                  0.0   \n",
       "10848                       604.0                 25.0   \n",
       "\n",
       "       carries_into_final_third  carries_into_penalty_area  miscontrols  \\\n",
       "2284                        0.0                        0.0          0.0   \n",
       "10848                       7.0                        1.0          7.0   \n",
       "\n",
       "       dispossessed  pass_targets  passes_received  passes_received_pct  \\\n",
       "2284            0.0           0.0              0.0                  0.0   \n",
       "10848           8.0         169.0            153.0                 90.5   \n",
       "\n",
       "       progressive_passes_received  \n",
       "2284                           0.0  \n",
       "10848                          6.0  "
      ]
     },
     "execution_count": 209,
     "metadata": {},
     "output_type": "execute_result"
    }
   ],
   "source": [
    "df[df[\"player_name\"] == 'Tobias Raschl']"
   ]
  },
  {
   "cell_type": "markdown",
   "metadata": {},
   "source": [
    "### Applying weighted mean function on all season before a transfer"
   ]
  },
  {
   "cell_type": "code",
   "execution_count": 227,
   "metadata": {},
   "outputs": [
    {
     "name": "stderr",
     "output_type": "stream",
     "text": [
      "100%|█████████████████████████████████████████████████████████████████████████████| 1852/1852 [00:05<00:00, 323.00it/s]\n"
     ]
    }
   ],
   "source": [
    "# Grouping everything by transfer\n",
    "player_df = df.groupby([\"player_name\"])[features]\n",
    "\n",
    "# Defining lambda function for weighted average\n",
    "wm = lambda x: np.average(x, weights=x.index+1)\n",
    "\n",
    "# Initializing X and y lists\n",
    "\n",
    "X = []\n",
    "y = []\n",
    "\n",
    "for player in tqdm.tqdm(player_names):\n",
    "    # Getting dataframe for specific player\n",
    "    temp_df = df.loc[player_df.groups[player]].sort_values(\"year\")\n",
    "    temp_df = temp_df.reset_index(drop=True) # resetting index \n",
    "    \n",
    "    # Getting indicies for transfers\n",
    "    idx_transfer = temp_df[temp_df[\"fee_infladj\"].notna()].index\n",
    "    \n",
    "    for i in idx_transfer:\n",
    "        #X.append(temp_df.loc[:i, features].apply(wm).to_numpy())\n",
    "        X.append(temp_df.loc[:i, features].mean().to_numpy())\n",
    "        y.append(temp_df.loc[i, df_y.columns.to_list()].to_numpy())"
   ]
  },
  {
   "cell_type": "code",
   "execution_count": 241,
   "metadata": {},
   "outputs": [],
   "source": [
    "X_df = pd.DataFrame(X)\n",
    "X_df.columns = features\n",
    "Y_df = pd.DataFrame(y)\n",
    "Y_df.columns = df_y.columns"
   ]
  },
  {
   "cell_type": "code",
   "execution_count": 242,
   "metadata": {},
   "outputs": [
    {
     "data": {
      "text/html": [
       "<div>\n",
       "<style scoped>\n",
       "    .dataframe tbody tr th:only-of-type {\n",
       "        vertical-align: middle;\n",
       "    }\n",
       "\n",
       "    .dataframe tbody tr th {\n",
       "        vertical-align: top;\n",
       "    }\n",
       "\n",
       "    .dataframe thead th {\n",
       "        text-align: right;\n",
       "    }\n",
       "</style>\n",
       "<table border=\"1\" class=\"dataframe\">\n",
       "  <thead>\n",
       "    <tr style=\"text-align: right;\">\n",
       "      <th></th>\n",
       "      <th>club_name</th>\n",
       "      <th>position</th>\n",
       "      <th>player_name</th>\n",
       "      <th>age</th>\n",
       "      <th>fee_infladj</th>\n",
       "      <th>league_name</th>\n",
       "      <th>year</th>\n",
       "    </tr>\n",
       "  </thead>\n",
       "  <tbody>\n",
       "    <tr>\n",
       "      <th>0</th>\n",
       "      <td>Manchester City</td>\n",
       "      <td>Right Winger</td>\n",
       "      <td>Riyad Mahrez</td>\n",
       "      <td>27.0</td>\n",
       "      <td>70.562744</td>\n",
       "      <td>Premier League</td>\n",
       "      <td>2018</td>\n",
       "    </tr>\n",
       "    <tr>\n",
       "      <th>1</th>\n",
       "      <td>Manchester City</td>\n",
       "      <td>Centre-Back</td>\n",
       "      <td>Philippe Sandler</td>\n",
       "      <td>21.0</td>\n",
       "      <td>2.601871</td>\n",
       "      <td>Premier League</td>\n",
       "      <td>2018</td>\n",
       "    </tr>\n",
       "    <tr>\n",
       "      <th>2</th>\n",
       "      <td>Manchester City</td>\n",
       "      <td>Left Winger</td>\n",
       "      <td>Daniel Arzani</td>\n",
       "      <td>19.0</td>\n",
       "      <td>0.926266</td>\n",
       "      <td>Premier League</td>\n",
       "      <td>2018</td>\n",
       "    </tr>\n",
       "    <tr>\n",
       "      <th>3</th>\n",
       "      <td>Manchester United</td>\n",
       "      <td>Central Midfield</td>\n",
       "      <td>Fred</td>\n",
       "      <td>25.0</td>\n",
       "      <td>61.404158</td>\n",
       "      <td>Premier League</td>\n",
       "      <td>2018</td>\n",
       "    </tr>\n",
       "    <tr>\n",
       "      <th>4</th>\n",
       "      <td>Manchester United</td>\n",
       "      <td>Right-Back</td>\n",
       "      <td>Diogo Dalot</td>\n",
       "      <td>19.0</td>\n",
       "      <td>22.896466</td>\n",
       "      <td>Premier League</td>\n",
       "      <td>2018</td>\n",
       "    </tr>\n",
       "    <tr>\n",
       "      <th>...</th>\n",
       "      <td>...</td>\n",
       "      <td>...</td>\n",
       "      <td>...</td>\n",
       "      <td>...</td>\n",
       "      <td>...</td>\n",
       "      <td>...</td>\n",
       "      <td>...</td>\n",
       "    </tr>\n",
       "    <tr>\n",
       "      <th>2280</th>\n",
       "      <td>Hertha BSC</td>\n",
       "      <td>Centre-Back</td>\n",
       "      <td>Marc Oliver Kempf</td>\n",
       "      <td>26.0</td>\n",
       "      <td>0.500000</td>\n",
       "      <td>1 Bundesliga</td>\n",
       "      <td>2021</td>\n",
       "    </tr>\n",
       "    <tr>\n",
       "      <th>2281</th>\n",
       "      <td>Hertha BSC</td>\n",
       "      <td>Right Winger</td>\n",
       "      <td>Kelian Nsona</td>\n",
       "      <td>19.0</td>\n",
       "      <td>0.500000</td>\n",
       "      <td>1 Bundesliga</td>\n",
       "      <td>2021</td>\n",
       "    </tr>\n",
       "    <tr>\n",
       "      <th>2282</th>\n",
       "      <td>Arminia Bielefeld</td>\n",
       "      <td>Left-Back</td>\n",
       "      <td>George Bello</td>\n",
       "      <td>20.0</td>\n",
       "      <td>1.800000</td>\n",
       "      <td>1 Bundesliga</td>\n",
       "      <td>2021</td>\n",
       "    </tr>\n",
       "    <tr>\n",
       "      <th>2283</th>\n",
       "      <td>Arminia Bielefeld</td>\n",
       "      <td>Central Midfield</td>\n",
       "      <td>Burak Ince</td>\n",
       "      <td>18.0</td>\n",
       "      <td>0.500000</td>\n",
       "      <td>1 Bundesliga</td>\n",
       "      <td>2021</td>\n",
       "    </tr>\n",
       "    <tr>\n",
       "      <th>2284</th>\n",
       "      <td>SpVgg Greuther Fürth</td>\n",
       "      <td>Central Midfield</td>\n",
       "      <td>Tobias Raschl</td>\n",
       "      <td>21.0</td>\n",
       "      <td>0.100000</td>\n",
       "      <td>1 Bundesliga</td>\n",
       "      <td>2021</td>\n",
       "    </tr>\n",
       "  </tbody>\n",
       "</table>\n",
       "<p>2285 rows × 7 columns</p>\n",
       "</div>"
      ],
      "text/plain": [
       "                 club_name          position        player_name   age  \\\n",
       "0          Manchester City      Right Winger       Riyad Mahrez  27.0   \n",
       "1          Manchester City       Centre-Back   Philippe Sandler  21.0   \n",
       "2          Manchester City       Left Winger      Daniel Arzani  19.0   \n",
       "3        Manchester United  Central Midfield               Fred  25.0   \n",
       "4        Manchester United        Right-Back        Diogo Dalot  19.0   \n",
       "...                    ...               ...                ...   ...   \n",
       "2280            Hertha BSC       Centre-Back  Marc Oliver Kempf  26.0   \n",
       "2281            Hertha BSC      Right Winger       Kelian Nsona  19.0   \n",
       "2282     Arminia Bielefeld         Left-Back       George Bello  20.0   \n",
       "2283     Arminia Bielefeld  Central Midfield         Burak Ince  18.0   \n",
       "2284  SpVgg Greuther Fürth  Central Midfield      Tobias Raschl  21.0   \n",
       "\n",
       "      fee_infladj     league_name  year  \n",
       "0       70.562744  Premier League  2018  \n",
       "1        2.601871  Premier League  2018  \n",
       "2        0.926266  Premier League  2018  \n",
       "3       61.404158  Premier League  2018  \n",
       "4       22.896466  Premier League  2018  \n",
       "...           ...             ...   ...  \n",
       "2280     0.500000    1 Bundesliga  2021  \n",
       "2281     0.500000    1 Bundesliga  2021  \n",
       "2282     1.800000    1 Bundesliga  2021  \n",
       "2283     0.500000    1 Bundesliga  2021  \n",
       "2284     0.100000    1 Bundesliga  2021  \n",
       "\n",
       "[2285 rows x 7 columns]"
      ]
     },
     "execution_count": 242,
     "metadata": {},
     "output_type": "execute_result"
    }
   ],
   "source": [
    "Y_df"
   ]
  },
  {
   "cell_type": "code",
   "execution_count": 245,
   "metadata": {},
   "outputs": [
    {
     "data": {
      "text/plain": [
       "<matplotlib.axes._subplots.AxesSubplot at 0x2b7aa32b198>"
      ]
     },
     "execution_count": 245,
     "metadata": {},
     "output_type": "execute_result"
    },
    {
     "data": {
      "image/png": "[encoded data removed]",
      "text/plain": [
       "<Figure size 432x288 with 1 Axes>"
      ]
     },
     "metadata": {
      "needs_background": "light"
     },
     "output_type": "display_data"
    }
   ],
   "source": [
    "X_df[\"minutes_90s\"].hist(bins=38)"
   ]
  },
  {
   "cell_type": "code",
   "execution_count": 244,
   "metadata": {},
   "outputs": [],
   "source": [
    "# Remvoing players with insufficient playing time\n",
    "X_df = X_df.iloc[X_df[X_df[\"minutes_90s\"]>1].index]\n",
    "Y_df = Y_df.iloc[X_df[X_df[\"minutes_90s\"]>1].index]"
   ]
  },
  {
   "cell_type": "markdown",
   "metadata": {},
   "source": [
    "### Feature engineering\n",
    "\n",
    "With 150 different features, there are many ways of shrinking down the amount of parameters. This number should ideally be halfed. One option is removing all the p90 measures, as they are based upon other features. Another is to do Principal Component Analysis. Dummy variables for positions should also be included as to hopefully give some context when feeding all the data through the model."
   ]
  },
  {
   "cell_type": "code",
   "execution_count": 247,
   "metadata": {},
   "outputs": [],
   "source": [
    "for feat in features:\n",
    "    if '90' in feat:\n",
    "        features.remove(feat)"
   ]
  },
  {
   "cell_type": "markdown",
   "metadata": {},
   "source": [
    "Workflow for better features\n",
    "1. Create encoding for positions\n",
    "2. Add contract data (to be started)\n",
    "3. Split data into train and test split\n",
    "4. Scale the train/test split wrt. scaler fitted on training data\n",
    "5. Fit principal component analysis on the training data, then transform both training and test\n",
    "6. Fit a desired model on the data and evaluate the test data"
   ]
  },
  {
   "cell_type": "code",
   "execution_count": 424,
   "metadata": {},
   "outputs": [
    {
     "name": "stderr",
     "output_type": "stream",
     "text": [
      "C:\\Users\\Jesterbtw\\Anaconda3\\envs\\tensorflow\\lib\\site-packages\\ipykernel_launcher.py:1: SettingWithCopyWarning:\n",
      "\n",
      "\n",
      "A value is trying to be set on a copy of a slice from a DataFrame.\n",
      "Try using .loc[row_indexer,col_indexer] = value instead\n",
      "\n",
      "See the caveats in the documentation: https://pandas.pydata.org/pandas-docs/stable/user_guide/indexing.html#returning-a-view-versus-a-copy\n",
      "\n",
      "C:\\Users\\Jesterbtw\\Anaconda3\\envs\\tensorflow\\lib\\site-packages\\ipykernel_launcher.py:2: SettingWithCopyWarning:\n",
      "\n",
      "\n",
      "A value is trying to be set on a copy of a slice from a DataFrame.\n",
      "Try using .loc[row_indexer,col_indexer] = value instead\n",
      "\n",
      "See the caveats in the documentation: https://pandas.pydata.org/pandas-docs/stable/user_guide/indexing.html#returning-a-view-versus-a-copy\n",
      "\n"
     ]
    }
   ],
   "source": [
    "Y_df[\"position\"] = Y_df[\"position\"].astype('category')\n",
    "Y_df[\"pos_cat\"] = Y_df[\"position\"].cat.codes"
   ]
  },
  {
   "cell_type": "code",
   "execution_count": 426,
   "metadata": {
    "scrolled": false
   },
   "outputs": [],
   "source": [
    "from sklearn.model_selection import train_test_split\n",
    "from sklearn.preprocessing import StandardScaler\n",
    "# Train Test Split\n",
    "\n",
    "X_train, X_test, y_train, y_test = train_test_split(X_df, Y_df, test_size=0.2)\n",
    "\n",
    "scaler = StandardScaler()\n",
    "scaler.fit(X_train)\n",
    "Xtr_S = scaler.transform(X_train)\n",
    "Xte_S = scaler.transform(X_test)\n",
    "\n",
    "y_train = y_train.reset_index(drop=True)\n",
    "y_test = y_test.reset_index(drop=True)"
   ]
  },
  {
   "cell_type": "markdown",
   "metadata": {},
   "source": [
    "Principal Component Analysis"
   ]
  },
  {
   "cell_type": "code",
   "execution_count": 427,
   "metadata": {},
   "outputs": [
    {
     "data": {
      "text/plain": [
       "Text(0, 0.5, '(%) explained variance')"
      ]
     },
     "execution_count": 427,
     "metadata": {},
     "output_type": "execute_result"
    },
    {
     "data": {
      "image/png": "[encoded data removed]",
      "text/plain": [
       "<Figure size 432x288 with 1 Axes>"
      ]
     },
     "metadata": {
      "needs_background": "light"
     },
     "output_type": "display_data"
    }
   ],
   "source": [
    "from sklearn.decomposition import PCA\n",
    "pca = PCA(n_components=6)\n",
    "pca.fit(Xtr_S)\n",
    "plt.plot(pca.explained_variance_ratio_)\n",
    "plt.title(\"Scree plot of Explained Variance\", fontsize=16)\n",
    "plt.xlabel(\"n components\", fontsize=12)\n",
    "plt.ylabel(\"(%) explained variance\", fontsize=12)"
   ]
  },
  {
   "cell_type": "code",
   "execution_count": 474,
   "metadata": {},
   "outputs": [],
   "source": [
    "# Transforming Scaled train and testing set to PCA dimensions\n",
    "Xpca_tr = pca.transform(Xtr_S)\n",
    "Xpca_te = pca.transform(Xte_S)"
   ]
  },
  {
   "cell_type": "code",
   "execution_count": 475,
   "metadata": {},
   "outputs": [
    {
     "data": {
      "text/html": [
       "<div>\n",
       "<style scoped>\n",
       "    .dataframe tbody tr th:only-of-type {\n",
       "        vertical-align: middle;\n",
       "    }\n",
       "\n",
       "    .dataframe tbody tr th {\n",
       "        vertical-align: top;\n",
       "    }\n",
       "\n",
       "    .dataframe thead th {\n",
       "        text-align: right;\n",
       "    }\n",
       "</style>\n",
       "<table border=\"1\" class=\"dataframe\">\n",
       "  <thead>\n",
       "    <tr style=\"text-align: right;\">\n",
       "      <th></th>\n",
       "      <th>PC1</th>\n",
       "      <th>PC2</th>\n",
       "      <th>PC3</th>\n",
       "      <th>PC4</th>\n",
       "      <th>PC5</th>\n",
       "      <th>PC6</th>\n",
       "    </tr>\n",
       "  </thead>\n",
       "  <tbody>\n",
       "    <tr>\n",
       "      <th>minutes_90s</th>\n",
       "      <td>0.093271</td>\n",
       "      <td>0.104166</td>\n",
       "      <td>0.052074</td>\n",
       "      <td>-0.104506</td>\n",
       "      <td>-0.064860</td>\n",
       "      <td>0.083393</td>\n",
       "    </tr>\n",
       "    <tr>\n",
       "      <th>goals_against_gk</th>\n",
       "      <td>-0.060154</td>\n",
       "      <td>0.133895</td>\n",
       "      <td>0.112553</td>\n",
       "      <td>-0.012701</td>\n",
       "      <td>-0.035830</td>\n",
       "      <td>-0.019708</td>\n",
       "    </tr>\n",
       "    <tr>\n",
       "      <th>pens_allowed</th>\n",
       "      <td>-0.055248</td>\n",
       "      <td>0.127997</td>\n",
       "      <td>0.106478</td>\n",
       "      <td>-0.015448</td>\n",
       "      <td>-0.034688</td>\n",
       "      <td>-0.021460</td>\n",
       "    </tr>\n",
       "    <tr>\n",
       "      <th>free_kick_goals_against_gk</th>\n",
       "      <td>-0.045409</td>\n",
       "      <td>0.107877</td>\n",
       "      <td>0.090955</td>\n",
       "      <td>-0.014363</td>\n",
       "      <td>-0.031936</td>\n",
       "      <td>-0.008896</td>\n",
       "    </tr>\n",
       "    <tr>\n",
       "      <th>corner_kick_goals_against_gk</th>\n",
       "      <td>-0.057836</td>\n",
       "      <td>0.124946</td>\n",
       "      <td>0.105751</td>\n",
       "      <td>-0.009898</td>\n",
       "      <td>-0.035975</td>\n",
       "      <td>-0.019837</td>\n",
       "    </tr>\n",
       "    <tr>\n",
       "      <th>...</th>\n",
       "      <td>...</td>\n",
       "      <td>...</td>\n",
       "      <td>...</td>\n",
       "      <td>...</td>\n",
       "      <td>...</td>\n",
       "      <td>...</td>\n",
       "    </tr>\n",
       "    <tr>\n",
       "      <th>sca_defense</th>\n",
       "      <td>0.071470</td>\n",
       "      <td>-0.011527</td>\n",
       "      <td>0.018481</td>\n",
       "      <td>-0.000241</td>\n",
       "      <td>-0.129888</td>\n",
       "      <td>-0.062384</td>\n",
       "    </tr>\n",
       "    <tr>\n",
       "      <th>gca</th>\n",
       "      <td>0.104127</td>\n",
       "      <td>-0.037285</td>\n",
       "      <td>0.117258</td>\n",
       "      <td>0.015957</td>\n",
       "      <td>0.046077</td>\n",
       "      <td>-0.009947</td>\n",
       "    </tr>\n",
       "    <tr>\n",
       "      <th>gca_per90</th>\n",
       "      <td>0.064152</td>\n",
       "      <td>-0.072089</td>\n",
       "      <td>0.102990</td>\n",
       "      <td>0.019394</td>\n",
       "      <td>0.092428</td>\n",
       "      <td>-0.117346</td>\n",
       "    </tr>\n",
       "    <tr>\n",
       "      <th>gca_passes_live</th>\n",
       "      <td>0.103430</td>\n",
       "      <td>-0.027508</td>\n",
       "      <td>0.098790</td>\n",
       "      <td>0.014536</td>\n",
       "      <td>0.028915</td>\n",
       "      <td>-0.040196</td>\n",
       "    </tr>\n",
       "    <tr>\n",
       "      <th>gca_passes_dead</th>\n",
       "      <td>0.063598</td>\n",
       "      <td>0.018800</td>\n",
       "      <td>0.046567</td>\n",
       "      <td>0.184258</td>\n",
       "      <td>0.189326</td>\n",
       "      <td>0.051825</td>\n",
       "    </tr>\n",
       "  </tbody>\n",
       "</table>\n",
       "<p>100 rows × 6 columns</p>\n",
       "</div>"
      ],
      "text/plain": [
       "                                   PC1       PC2       PC3       PC4  \\\n",
       "minutes_90s                   0.093271  0.104166  0.052074 -0.104506   \n",
       "goals_against_gk             -0.060154  0.133895  0.112553 -0.012701   \n",
       "pens_allowed                 -0.055248  0.127997  0.106478 -0.015448   \n",
       "free_kick_goals_against_gk   -0.045409  0.107877  0.090955 -0.014363   \n",
       "corner_kick_goals_against_gk -0.057836  0.124946  0.105751 -0.009898   \n",
       "...                                ...       ...       ...       ...   \n",
       "sca_defense                   0.071470 -0.011527  0.018481 -0.000241   \n",
       "gca                           0.104127 -0.037285  0.117258  0.015957   \n",
       "gca_per90                     0.064152 -0.072089  0.102990  0.019394   \n",
       "gca_passes_live               0.103430 -0.027508  0.098790  0.014536   \n",
       "gca_passes_dead               0.063598  0.018800  0.046567  0.184258   \n",
       "\n",
       "                                   PC5       PC6  \n",
       "minutes_90s                  -0.064860  0.083393  \n",
       "goals_against_gk             -0.035830 -0.019708  \n",
       "pens_allowed                 -0.034688 -0.021460  \n",
       "free_kick_goals_against_gk   -0.031936 -0.008896  \n",
       "corner_kick_goals_against_gk -0.035975 -0.019837  \n",
       "...                                ...       ...  \n",
       "sca_defense                  -0.129888 -0.062384  \n",
       "gca                           0.046077 -0.009947  \n",
       "gca_per90                     0.092428 -0.117346  \n",
       "gca_passes_live               0.028915 -0.040196  \n",
       "gca_passes_dead               0.189326  0.051825  \n",
       "\n",
       "[100 rows x 6 columns]"
      ]
     },
     "execution_count": 475,
     "metadata": {},
     "output_type": "execute_result"
    }
   ],
   "source": [
    "col_name = columns=['PC'+str(i) for i in range(1,Xpca_tr.shape[1]+1)]\n",
    "loadings_PCA = pd.DataFrame(pca.components_.T, \n",
    "                            columns=col_name,\n",
    "                            index=X_df.columns)\n",
    "loadings_PCA.head(100)"
   ]
  },
  {
   "cell_type": "markdown",
   "metadata": {},
   "source": [
    "Interactive plot of Principle Components"
   ]
  },
  {
   "cell_type": "code",
   "execution_count": 476,
   "metadata": {
    "scrolled": false
   },
   "outputs": [
    {
     "data": {
      "application/vnd.plotly.v1+json": {
       "config": {
        "plotlyServerURL": "https://plot.ly"
       },
       "data": [
        {
         "customdata": [
          [
           "Thiago Mendes",
           "Olympique Lyon",
           "Defensive Midfield"
          ],
          [
           "Lucas Tousart",
           "Hertha BSC",
           "Defensive Midfield"
          ],
          [
           "Omar Mascarell",
           "FC Schalke 04",
           "Defensive Midfield"
          ],
          [
           "Steven Nzonzi",
           "AS Roma",
           "Defensive Midfield"
          ],
          [
           "Ibrahim Amadou",
           "Sevilla FC",
           "Defensive Midfield"
          ],
          [
           "Facundo Píriz",
           "Montpellier HSC",
           "Defensive Midfield"
          ],
          [
           "Francis Coquelin",
           "Villarreal CF",
           "Defensive Midfield"
          ],
          [
           "Douglas Luiz",
           "Aston Villa",
           "Defensive Midfield"
          ],
          [
           "Habib Maïga",
           "FC Metz",
           "Defensive Midfield"
          ],
          [
           "Marc Roca",
           "Bayern Munich",
           "Defensive Midfield"
          ],
          [
           "Fabinho",
           "Liverpool FC",
           "Defensive Midfield"
          ],
          [
           "Jorginho",
           "Chelsea FC",
           "Defensive Midfield"
          ],
          [
           "Tomás Rincón",
           "Torino FC",
           "Defensive Midfield"
          ],
          [
           "Esteban Rolón",
           "Genoa CFC",
           "Defensive Midfield"
          ],
          [
           "Ellyes Skhiri",
           "1. FC Köln",
           "Defensive Midfield"
          ],
          [
           "Bryan Cristante",
           "AS Roma",
           "Defensive Midfield"
          ],
          [
           "Santiago Ascacíbar",
           "Hertha BSC",
           "Defensive Midfield"
          ],
          [
           "Emre Can",
           "Borussia Dortmund",
           "Defensive Midfield"
          ],
          [
           "Sebastian Rudy",
           "TSG 1899 Hoffenheim",
           "Defensive Midfield"
          ],
          [
           "Lucas Torreira",
           "ACF Fiorentina",
           "Defensive Midfield"
          ],
          [
           "Denis Zakaria",
           "Juventus FC",
           "Defensive Midfield"
          ],
          [
           "Prince Oniangué",
           "SM Caen",
           "Defensive Midfield"
          ],
          [
           "Erick Pulgar",
           "ACF Fiorentina",
           "Defensive Midfield"
          ],
          [
           "Baptiste Santamaria",
           "SC Freiburg",
           "Defensive Midfield"
          ],
          [
           "Maxime Gonalons",
           "Granada CF",
           "Defensive Midfield"
          ],
          [
           "Étienne Capoue",
           "Villarreal CF",
           "Defensive Midfield"
          ],
          [
           "Bryan Cristante",
           "Atalanta BC",
           "Defensive Midfield"
          ],
          [
           "Diego Demme",
           "SSC Napoli",
           "Defensive Midfield"
          ],
          [
           "Emre Can",
           "Borussia Dortmund",
           "Defensive Midfield"
          ],
          [
           "Allan",
           "Everton FC",
           "Defensive Midfield"
          ],
          [
           "Milan Badelj",
           "ACF Fiorentina",
           "Defensive Midfield"
          ],
          [
           "Federico Viviani",
           "Frosinone Calcio",
           "Defensive Midfield"
          ],
          [
           "Geoffrey Kondogbia",
           "Atlético de Madrid",
           "Defensive Midfield"
          ],
          [
           "Mirko Valdifiori",
           "SPAL",
           "Defensive Midfield"
          ],
          [
           "Amadou Diawara",
           "AS Roma",
           "Defensive Midfield"
          ],
          [
           "Cheikhou Kouyaté",
           "Crystal Palace",
           "Defensive Midfield"
          ],
          [
           "Boubakary Soumaré",
           "Leicester City",
           "Defensive Midfield"
          ],
          [
           "Vincent Pajot",
           "FC Metz",
           "Defensive Midfield"
          ],
          [
           "Danilo Pereira",
           "Paris Saint-Germain",
           "Defensive Midfield"
          ],
          [
           "Tiemoué Bakayoko",
           "AC Milan",
           "Defensive Midfield"
          ],
          [
           "Mario Lemina",
           "OGC Nice",
           "Defensive Midfield"
          ],
          [
           "Stanislav Lobotka",
           "SSC Napoli",
           "Defensive Midfield"
          ],
          [
           "Sebastian Griesbeck",
           "SpVgg Greuther Fürth",
           "Defensive Midfield"
          ],
          [
           "Federico Viviani",
           "SPAL",
           "Defensive Midfield"
          ],
          [
           "Tiemoué Bakayoko",
           "AC Milan",
           "Defensive Midfield"
          ],
          [
           "Lucas Torreira",
           "Arsenal FC",
           "Defensive Midfield"
          ],
          [
           "Thomas Delaney",
           "Sevilla FC",
           "Defensive Midfield"
          ],
          [
           "Abdoulaye Touré",
           "Genoa CFC",
           "Defensive Midfield"
          ],
          [
           "Jacopo Petriccione",
           "FC Crotone",
           "Defensive Midfield"
          ],
          [
           "Tiemoué Bakayoko",
           "AS Monaco",
           "Defensive Midfield"
          ],
          [
           "Thomas Partey",
           "Arsenal FC",
           "Defensive Midfield"
          ],
          [
           "Vincent Pajot",
           "SCO Angers",
           "Defensive Midfield"
          ],
          [
           "Léo Sena",
           "Spezia Calcio",
           "Defensive Midfield"
          ],
          [
           "Mario Lemina",
           "Fulham FC",
           "Defensive Midfield"
          ],
          [
           "Rodri",
           "Atlético de Madrid",
           "Defensive Midfield"
          ],
          [
           "Kévin N'Doram",
           "FC Metz",
           "Defensive Midfield"
          ],
          [
           "Manuel Locatelli",
           "US Sassuolo",
           "Defensive Midfield"
          ],
          [
           "Sandro Tonali",
           "AC Milan",
           "Defensive Midfield"
          ],
          [
           "Walace",
           "Udinese Calcio",
           "Defensive Midfield"
          ],
          [
           "Thomas Monconduit",
           "FC Lorient",
           "Defensive Midfield"
          ],
          [
           "Omar Mascarell",
           "Real Madrid",
           "Defensive Midfield"
          ],
          [
           "Jefferson Lerma",
           "AFC Bournemouth",
           "Defensive Midfield"
          ],
          [
           "Jean-Philippe Gbamin",
           "Everton FC",
           "Defensive Midfield"
          ],
          [
           "Rolando Mandragora",
           "Udinese Calcio",
           "Defensive Midfield"
          ],
          [
           "Albin Ekdal",
           "UC Sampdoria",
           "Defensive Midfield"
          ],
          [
           "Bryan Cristante",
           "AS Roma",
           "Defensive Midfield"
          ],
          [
           "Geoffrey Kondogbia",
           "Valencia CF",
           "Defensive Midfield"
          ],
          [
           "Pere Pons",
           "Deportivo Alavés",
           "Defensive Midfield"
          ],
          [
           "Ismaël Bennacer",
           "AC Milan",
           "Defensive Midfield"
          ]
         ],
         "hovertemplate": "position=%{customdata[2]}<br>PC1=%{x}<br>PC5=%{y}<br>player_name=%{customdata[0]}<br>club_name=%{customdata[1]}<br>fee_infladj=%{marker.color}<extra></extra>",
         "legendgroup": "Defensive Midfield",
         "marker": {
          "color": [
           22.624992663027527,
           25.71021893525856,
           10.407484407484407,
           27.735945945945947,
           14.98677754677755,
           1.0407484407484409,
           7.28374612096727,
           17.27726712449375,
           1.0284087574103422,
           9.232917618127528,
           46.83367983367984,
           59.32266112266113,
           6.140415800415801,
           0.104074844074844,
           6.170452544462053,
           5.2037422037422045,
           10.284087574103422,
           25.646993383687573,
           0.8741474437987908,
           1.5,
           8.6,
           0.5203742203742204,
           12.64942771614721,
           10.258797353475028,
           4.103518941390012,
           2.0517594706950057,
           9.887110187110189,
           10.541189763456009,
           1.0284087574103422,
           24.21076175420107,
           0.7198861301872395,
           0.3122245322245322,
           15.388196030212542,
           1.0407484407484409,
           21.596583905617187,
           11.136008316008317,
           20,
           0.7181158147432519,
           16,
           2,
           5.5,
           21.596583905617187,
           0.25,
           3.434469854469855,
           5.2037422037422045,
           29.81744282744283,
           6,
           3.5,
           1.5388196030212544,
           3.085226272231026,
           51.293986767375145,
           1.0407484407484409,
           2,
           2.2569354177645065,
           20.814968814968815,
           4.616458809063763,
           14.397722603744793,
           10.258797353475028,
           6.170452544462053,
           2.0517594706950057,
           4.1629937629937634,
           29.140956340956343,
           25.71021893525856,
           20.814968814968815,
           2.7059459459459463,
           22.624992663027527,
           22.8964656964657,
           2.0568175148206844,
           17.688630627457886
          ],
          "coloraxis": "coloraxis",
          "symbol": "circle"
         },
         "mode": "markers",
         "name": "Defensive Midfield",
         "orientation": "v",
         "showlegend": true,
         "type": "scatter",
         "x": [
          12.136517640994127,
          5.190835844433876,
          -3.935882955893464,
          6.3025833345358455,
          3.6353098264856643,
          -5.4451881824542525,
          -1.3491259317126212,
          -3.658616946353983,
          -7.901886959041605,
          11.393525871315276,
          15.999953677405827,
          20.371731154317324,
          8.693538163375957,
          -8.206614383429704,
          11.367190134606126,
          13.989971314114879,
          4.563373900574101,
          3.9384853609487265,
          0.6296822721584795,
          4.942489736314947,
          2.125016614768198,
          -4.8625595920096405,
          10.788496608645193,
          8.048367981097208,
          -2.8352678992691382,
          6.852135542093361,
          13.989971314114879,
          9.707836770951108,
          7.025227331779398,
          10.184154648263828,
          5.533552911614867,
          12.34740153277598,
          4.693930228176062,
          -6.062601646491931,
          -4.010132301749944,
          4.682630161781115,
          -2.0927036471358065,
          -7.056720137513938,
          -5.981035575766009,
          5.406555383733605,
          -1.2979311574959875,
          7.8845317070599865,
          -6.504826060831534,
          12.34740153277598,
          5.128412882221355,
          16.553508933337913,
          2.4826578156017014,
          6.350259503282091,
          6.124385299043174,
          7.114359005147861,
          8.752687289039013,
          -3.1926595810448006,
          -7.104525970557365,
          -2.2405189983342906,
          15.14194671845577,
          -2.3410216949893448,
          0.7624286535925597,
          13.82458097783189,
          1.1473323074162152,
          5.513216821093886,
          -3.935882955893464,
          2.657260863407572,
          7.251525023696031,
          8.496537445746652,
          -3.014288066835455,
          12.486285566868354,
          11.023005741877345,
          6.5408218615474665,
          15.899618826404712
         ],
         "xaxis": "x",
         "y": [
          2.033851093455544,
          -2.9076922971589005,
          2.5071506697358674,
          1.3642986784112874,
          0.9690562376194576,
          0.3819673974976513,
          0.7369592860200433,
          0.7611085262936528,
          -0.6023834971346889,
          -1.053219325922445,
          -1.719620246171817,
          0.7714891820158569,
          -2.8192822420505568,
          1.3058956247744482,
          -3.2599386441493863,
          -4.253208628363223,
          -3.7182591331074275,
          0.3578699015491258,
          1.2131102708594081,
          2.3219875023456997,
          -0.6395565427888712,
          -0.40554085243342464,
          2.9225807669039536,
          -4.021259304439709,
          0.09670947424345322,
          -2.050188485404483,
          -4.253208628363223,
          -1.3357029738887936,
          -0.7404646731155204,
          -3.465377674534823,
          -0.8522484892024119,
          7.413490405682812,
          -0.5614022479973739,
          1.7736850191521916,
          2.916935720075911,
          -4.306982220756781,
          1.5360235124504333,
          -0.31601405030917396,
          0.2932327902557186,
          -2.283082420263465,
          -1.4557721410774116,
          -0.9645187774897869,
          -0.6478992051524842,
          7.413490405682812,
          -2.9691428000874938,
          3.6188692503572435,
          -0.7142052135316564,
          -1.6544428896314778,
          2.2736091468004815,
          -3.3675216975818785,
          0.28989059370468473,
          1.1185958240928784,
          -0.7048475000413239,
          -1.567598742914507,
          -1.5734466374820468,
          0.5436788583055683,
          1.9077579177267117,
          9.971204329305507,
          -0.7898231216589454,
          -1.5073818518027087,
          2.5071506697358674,
          -2.1228126705890675,
          -1.7001132927023284,
          -2.7324384124536296,
          -0.5694305231202568,
          -3.9055915313186675,
          -1.0498145258740892,
          -4.4745884472119535,
          0.5939501484690979
         ],
         "yaxis": "y"
        },
        {
         "customdata": [
          [
           "Grégoire Defrel",
           "UC Sampdoria",
           "Centre-Forward"
          ],
          [
           "Jhon Córdoba",
           "Hertha BSC",
           "Centre-Forward"
          ],
          [
           "Enric Gallego",
           "CA Osasuna",
           "Centre-Forward"
          ],
          [
           "Wahbi Khazri",
           "AS Saint-Étienne",
           "Centre-Forward"
          ],
          [
           "Roberto Soldado",
           "Levante UD",
           "Centre-Forward"
          ],
          [
           "Boulaye Dia",
           "Villarreal CF",
           "Centre-Forward"
          ],
          [
           "Lys Mousset",
           "Sheffield United",
           "Centre-Forward"
          ],
          [
           "Álvaro Morata",
           "Atlético de Madrid",
           "Centre-Forward"
          ],
          [
           "Marco Sau",
           "UC Sampdoria",
           "Centre-Forward"
          ],
          [
           "Moussa Konaté",
           "Dijon FCO",
           "Centre-Forward"
          ],
          [
           "André Silva",
           "Eintracht Frankfurt",
           "Centre-Forward"
          ],
          [
           "Manolo Gabbiadini",
           "UC Sampdoria",
           "Centre-Forward"
          ],
          [
           "Diogo Jota",
           "Liverpool FC",
           "Centre-Forward"
          ],
          [
           "Ignacio Pussetto",
           "Watford FC",
           "Centre-Forward"
          ],
          [
           "Sergio León",
           "Levante UD",
           "Centre-Forward"
          ],
          [
           "Thierry Ambrose",
           "FC Metz",
           "Centre-Forward"
          ],
          [
           "Dawid Kownacki",
           "Fortuna Düsseldorf",
           "Centre-Forward"
          ],
          [
           "Roger Assalé",
           "Dijon FCO",
           "Centre-Forward"
          ],
          [
           "Taiwo Awoniyi",
           "1.FC Union Berlin",
           "Centre-Forward"
          ],
          [
           "Martin Braithwaite",
           "FC Barcelona",
           "Centre-Forward"
          ],
          [
           "Khouma Babacar",
           "US Lecce",
           "Centre-Forward"
          ],
          [
           "Stefano Okaka",
           "Udinese Calcio",
           "Centre-Forward"
          ],
          [
           "Michy Batshuayi",
           "Crystal Palace",
           "Centre-Forward"
          ],
          [
           "Rubén Sobrino",
           "Valencia CF",
           "Centre-Forward"
          ],
          [
           "João Pedro",
           "Watford FC",
           "Centre-Forward"
          ],
          [
           "Christian Kouamé",
           "ACF Fiorentina",
           "Centre-Forward"
          ],
          [
           "Lucas Pérez",
           "West Ham United",
           "Centre-Forward"
          ],
          [
           "Sebastian Andersson",
           "1. FC Köln",
           "Centre-Forward"
          ],
          [
           "Federico Bonazzoli",
           "Torino FC",
           "Centre-Forward"
          ],
          [
           "Landry Dimata",
           "RCD Espanyol Barcelona",
           "Centre-Forward"
          ],
          [
           "Francesco Caputo",
           "UC Sampdoria",
           "Centre-Forward"
          ],
          [
           "Sven Michel",
           "1.FC Union Berlin",
           "Centre-Forward"
          ],
          [
           "Raúl de Tomás",
           "RCD Espanyol Barcelona",
           "Centre-Forward"
          ],
          [
           "Borja Mayoral",
           "AS Roma",
           "Centre-Forward"
          ],
          [
           "Cristiano Ronaldo",
           "Manchester United",
           "Centre-Forward"
          ],
          [
           "Romelu Lukaku",
           "Chelsea FC",
           "Centre-Forward"
          ],
          [
           "M'Baye Niang",
           "Torino FC",
           "Centre-Forward"
          ],
          [
           "Álvaro Morata",
           "Atlético de Madrid",
           "Centre-Forward"
          ],
          [
           "Keita Baldé",
           "UC Sampdoria",
           "Centre-Forward"
          ],
          [
           "Luis Suárez",
           "Granada CF",
           "Centre-Forward"
          ],
          [
           "Ante Budimir",
           "CA Osasuna",
           "Centre-Forward"
          ],
          [
           "Victor Osimhen",
           "SSC Napoli",
           "Centre-Forward"
          ],
          [
           "Rafa Mir",
           "Sevilla FC",
           "Centre-Forward"
          ],
          [
           "Borja Mayoral",
           "Getafe CF",
           "Centre-Forward"
          ],
          [
           "Enric Gallego",
           "Getafe CF",
           "Centre-Forward"
          ],
          [
           "Diego Rolán",
           "CD Leganés",
           "Centre-Forward"
          ],
          [
           "Maxi Gómez",
           "Valencia CF",
           "Centre-Forward"
          ],
          [
           "Keita Baldé",
           "Inter Milan",
           "Centre-Forward"
          ],
          [
           "Enzo Crivelli",
           "SM Caen",
           "Centre-Forward"
          ],
          [
           "Emiliano Sala",
           "Cardiff City",
           "Centre-Forward"
          ],
          [
           "Gianluca Lapadula",
           "Benevento Calcio",
           "Centre-Forward"
          ],
          [
           "Carlos Vinícius",
           "Tottenham Hotspur",
           "Centre-Forward"
          ],
          [
           "Romelu Lukaku",
           "Inter Milan",
           "Centre-Forward"
          ],
          [
           "Duván Zapata",
           "Atalanta BC",
           "Centre-Forward"
          ],
          [
           "Simone Zaza",
           "Torino FC",
           "Centre-Forward"
          ],
          [
           "Matthew Hoppe",
           "RCD Mallorca",
           "Centre-Forward"
          ],
          [
           "Álvaro Morata",
           "Juventus FC",
           "Centre-Forward"
          ],
          [
           "Lucas Pérez",
           "Deportivo Alavés",
           "Centre-Forward"
          ],
          [
           "Patrick Cutrone",
           "ACF Fiorentina",
           "Centre-Forward"
          ],
          [
           "André Silva",
           "RB Leipzig",
           "Centre-Forward"
          ],
          [
           "Paco Alcácer",
           "Borussia Dortmund",
           "Centre-Forward"
          ],
          [
           "Marcus Ingvartsen",
           "1.FSV Mainz 05",
           "Centre-Forward"
          ],
          [
           "Anthony Ujah",
           "1.FC Union Berlin",
           "Centre-Forward"
          ],
          [
           "Bobby Wood",
           "Hannover 96",
           "Centre-Forward"
          ],
          [
           "Breel Embolo",
           "Borussia Mönchengladbach",
           "Centre-Forward"
          ],
          [
           "Sébastien Haller",
           "West Ham United",
           "Centre-Forward"
          ],
          [
           "Anastasios Donis",
           "Stade Reims",
           "Centre-Forward"
          ],
          [
           "Salomón Rondón",
           "Newcastle United",
           "Centre-Forward"
          ],
          [
           "Dawid Kownacki",
           "Fortuna Düsseldorf",
           "Centre-Forward"
          ],
          [
           "Jean-Philippe Mateta",
           "Crystal Palace",
           "Centre-Forward"
          ],
          [
           "Grégoire Defrel",
           "AS Roma",
           "Centre-Forward"
          ],
          [
           "Paco Alcácer",
           "Borussia Dortmund",
           "Centre-Forward"
          ],
          [
           "M'Baye Niang",
           "Stade Rennais FC",
           "Centre-Forward"
          ],
          [
           "Borja Mayoral",
           "Levante UD",
           "Centre-Forward"
          ],
          [
           "Arkadiusz Milik",
           "Olympique Marseille",
           "Centre-Forward"
          ],
          [
           "Andy Delort",
           "Montpellier HSC",
           "Centre-Forward"
          ],
          [
           "Habib Diallo",
           "RC Strasbourg Alsace",
           "Centre-Forward"
          ],
          [
           "Karlan Grant",
           "West Bromwich Albion",
           "Centre-Forward"
          ],
          [
           "Borja Mayoral",
           "Levante UD",
           "Centre-Forward"
          ],
          [
           "Wissam Ben Yedder",
           "AS Monaco",
           "Centre-Forward"
          ],
          [
           "Patrick Cutrone",
           "Wolverhampton Wanderers",
           "Centre-Forward"
          ],
          [
           "Cristiano Ronaldo",
           "Juventus FC",
           "Centre-Forward"
          ],
          [
           "Jordan Ayew",
           "Crystal Palace",
           "Centre-Forward"
          ],
          [
           "Andrea Petagna",
           "SPAL",
           "Centre-Forward"
          ],
          [
           "Roberto Inglese",
           "Parma Calcio 1913",
           "Centre-Forward"
          ],
          [
           "Luis Muriel",
           "Atalanta BC",
           "Centre-Forward"
          ],
          [
           "Moise Kean",
           "Everton FC",
           "Centre-Forward"
          ],
          [
           "Vedat Muriqi",
           "RCD Mallorca",
           "Centre-Forward"
          ],
          [
           "Callum Wilson",
           "Newcastle United",
           "Centre-Forward"
          ],
          [
           "Davie Selke",
           "SV Werder Bremen",
           "Centre-Forward"
          ],
          [
           "Youssef En-Nesyri",
           "CD Leganés",
           "Centre-Forward"
          ],
          [
           "Andy Delort",
           "OGC Nice",
           "Centre-Forward"
          ],
          [
           "Andrea Pinamonti",
           "Genoa CFC",
           "Centre-Forward"
          ],
          [
           "Olivier Giroud",
           "AC Milan",
           "Centre-Forward"
          ],
          [
           "Patrik Schick",
           "AS Roma",
           "Centre-Forward"
          ],
          [
           "Luis Muriel",
           "ACF Fiorentina",
           "Centre-Forward"
          ],
          [
           "Chris Wood",
           "Newcastle United",
           "Centre-Forward"
          ],
          [
           "Lucas Boyé",
           "Elche CF",
           "Centre-Forward"
          ],
          [
           "Lebo Mothiba",
           "RC Strasbourg Alsace",
           "Centre-Forward"
          ],
          [
           "Ishak Belfodil",
           "Hertha BSC",
           "Centre-Forward"
          ],
          [
           "Giovanni Simeone",
           "Hellas Verona",
           "Centre-Forward"
          ],
          [
           "Joselu",
           "Deportivo Alavés",
           "Centre-Forward"
          ],
          [
           "Eldor Shomurodov",
           "AS Roma",
           "Centre-Forward"
          ],
          [
           "Roberto Inglese",
           "Parma Calcio 1913",
           "Centre-Forward"
          ],
          [
           "Francesco Caputo",
           "US Sassuolo",
           "Centre-Forward"
          ],
          [
           "Ihlas Bebou",
           "TSG 1899 Hoffenheim",
           "Centre-Forward"
          ],
          [
           "Felipe Caicedo",
           "Genoa CFC",
           "Centre-Forward"
          ],
          [
           "Ernesto Torregrossa",
           "UC Sampdoria",
           "Centre-Forward"
          ],
          [
           "Christian Kouamé",
           "ACF Fiorentina",
           "Centre-Forward"
          ],
          [
           "Khouma Babacar",
           "US Sassuolo",
           "Centre-Forward"
          ],
          [
           "Marcello Trotta",
           "Frosinone Calcio",
           "Centre-Forward"
          ],
          [
           "Grégoire Defrel",
           "US Sassuolo",
           "Centre-Forward"
          ],
          [
           "Oliver Burke",
           "Sheffield United",
           "Centre-Forward"
          ],
          [
           "Michael Gregoritsch",
           "FC Schalke 04",
           "Centre-Forward"
          ],
          [
           "Tammy Abraham",
           "AS Roma",
           "Centre-Forward"
          ],
          [
           "Patrik Schick",
           "Bayer 04 Leverkusen",
           "Centre-Forward"
          ],
          [
           "Niclas Füllkrug",
           "SV Werder Bremen",
           "Centre-Forward"
          ],
          [
           "Benito Raman",
           "FC Schalke 04",
           "Centre-Forward"
          ],
          [
           "Borja Iglesias",
           "Real Betis Balompié",
           "Centre-Forward"
          ],
          [
           "Alberto Cerri",
           "Cagliari Calcio",
           "Centre-Forward"
          ],
          [
           "Emmanuel Dennis",
           "Watford FC",
           "Centre-Forward"
          ],
          [
           "Loïc Rémy",
           "LOSC Lille",
           "Centre-Forward"
          ],
          [
           "Benik Afobe",
           "Wolverhampton Wanderers",
           "Centre-Forward"
          ],
          [
           "Anastasios Donis",
           "Stade Reims",
           "Centre-Forward"
          ],
          [
           "Danny Ings",
           "Aston Villa",
           "Centre-Forward"
          ],
          [
           "Yuya Osako",
           "SV Werder Bremen",
           "Centre-Forward"
          ],
          [
           "Oliver McBurnie",
           "Sheffield United",
           "Centre-Forward"
          ],
          [
           "Matheus Cunha",
           "Atlético de Madrid",
           "Centre-Forward"
          ],
          [
           "Gianluca Lapadula",
           "Genoa CFC",
           "Centre-Forward"
          ],
          [
           "Ernesto Torregrossa",
           "UC Sampdoria",
           "Centre-Forward"
          ],
          [
           "Simone Zaza",
           "Torino FC",
           "Centre-Forward"
          ],
          [
           "Duván Zapata",
           "Atalanta BC",
           "Centre-Forward"
          ],
          [
           "Kévin Gameiro",
           "Valencia CF",
           "Centre-Forward"
          ],
          [
           "Sandro Ramírez",
           "Getafe CF",
           "Centre-Forward"
          ],
          [
           "Duván Zapata",
           "UC Sampdoria",
           "Centre-Forward"
          ],
          [
           "Florian Niederlechner",
           "FC Augsburg",
           "Centre-Forward"
          ],
          [
           "Moise Kean",
           "Juventus FC",
           "Centre-Forward"
          ],
          [
           "Antonio Sanabria",
           "Genoa CFC",
           "Centre-Forward"
          ],
          [
           "Martin Braithwaite",
           "CD Leganés",
           "Centre-Forward"
          ],
          [
           "Diego Falcinelli",
           "Bologna FC 1909",
           "Centre-Forward"
          ],
          [
           "Raúl Jiménez",
           "Wolverhampton Wanderers",
           "Centre-Forward"
          ],
          [
           "Youssef En-Nesyri",
           "Sevilla FC",
           "Centre-Forward"
          ],
          [
           "Enes Ünal",
           "Getafe CF",
           "Centre-Forward"
          ],
          [
           "Mauro Icardi",
           "Paris Saint-Germain",
           "Centre-Forward"
          ],
          [
           "Jean-Philippe Mateta",
           "Crystal Palace",
           "Centre-Forward"
          ],
          [
           "Marc Cardona",
           "CA Osasuna",
           "Centre-Forward"
          ],
          [
           "Yacine Bammou",
           "SM Caen",
           "Centre-Forward"
          ],
          [
           "Andrea Pinamonti",
           "Genoa CFC",
           "Centre-Forward"
          ],
          [
           "Matheus Cunha",
           "Hertha BSC",
           "Centre-Forward"
          ],
          [
           "Alberto Paloschi",
           "SPAL",
           "Centre-Forward"
          ],
          [
           "Gonzalo Higuaín",
           "Chelsea FC",
           "Centre-Forward"
          ],
          [
           "Gaëtan Laborde",
           "Stade Rennais FC",
           "Centre-Forward"
          ],
          [
           "Pedro",
           "ACF Fiorentina",
           "Centre-Forward"
          ],
          [
           "Michy Batshuayi",
           "Valencia CF",
           "Centre-Forward"
          ],
          [
           "Timo Werner",
           "Chelsea FC",
           "Centre-Forward"
          ],
          [
           "Antonino La Gumina",
           "UC Sampdoria",
           "Centre-Forward"
          ],
          [
           "Gaëtan Laborde",
           "Montpellier HSC",
           "Centre-Forward"
          ],
          [
           "Daniel Ginczek",
           "VfL Wolfsburg",
           "Centre-Forward"
          ],
          [
           "Richarlison",
           "Everton FC",
           "Centre-Forward"
          ],
          [
           "Florin Andone",
           "Brighton & Hove Albion",
           "Centre-Forward"
          ],
          [
           "Giovanni Simeone",
           "Cagliari Calcio",
           "Centre-Forward"
          ]
         ],
         "hovertemplate": "position=%{customdata[2]}<br>PC1=%{x}<br>PC5=%{y}<br>player_name=%{customdata[0]}<br>club_name=%{customdata[1]}<br>fee_infladj=%{marker.color}<extra></extra>",
         "legendgroup": "Centre-Forward",
         "marker": {
          "color": [
           1.5611226611226612,
           15.388196030212542,
           3.077639206042509,
           7.285239085239086,
           0.5,
           12,
           11.415337207254796,
           18.733471933471936,
           0.104074844074844,
           2.4621113648340067,
           3.077639206042509,
           12.384906444906449,
           45.85682417003338,
           8.74147443798791,
           4.113635029641369,
           2.0517594706950057,
           1.3009355509355511,
           4.103518941390012,
           6.5,
           18.51135763338616,
           1.0284087574103422,
           0.5203742203742204,
           1.196860706860707,
           5.2037422037422045,
           4.113635029641369,
           1.0284087574103422,
           4.57929313929314,
           6.668218279758769,
           1.5388196030212544,
           2.2,
           0.5,
           2.5,
           23.1391970417327,
           2.564699338368757,
           15,
           113,
           12.48898128898129,
           35.9057907371626,
           1.0258797353475029,
           7.18115814743252,
           8,
           76.94098015106272,
           16,
           0.5,
           6.170452544462053,
           1.0407484407484409,
           14.911926982449964,
           5.2037422037422045,
           3.1222453222453224,
           17.692723492723495,
           4.103518941390012,
           3.077639206042509,
           76.10224804836533,
           12.340905088924108,
           12.340905088924108,
           3.5,
           20.517594706950057,
           2.3653401420437867,
           3.085226272231026,
           23,
           21.596583905617187,
           0.6,
           2.0568175148206844,
           1.248898128898129,
           13.36931384633445,
           51.42043787051711,
           4.103518941390012,
           2.28964656964657,
           6.94175911251981,
           3.59057907371626,
           15.611226611226613,
           2.0814968814968817,
           15.426131361155132,
           2.0568175148206844,
           4.031707359915687,
           4.62783940834654,
           10.258797353475028,
           16.927015633233797,
           2.0814968814968817,
           41.13635029641369,
           18.51135763338616,
           121.76756756756758,
           2.879544520748958,
           12.340905088924108,
           3.1222453222453224,
           21.80226565709925,
           28.28124082878441,
           0.5,
           22.82582411148194,
           1.0284087574103422,
           6.244490644490645,
           10,
           20.004654839276306,
           1,
           43.71143451143452,
           1.0407484407484409,
           30,
           3,
           4.1629937629937634,
           0.5,
           1.5,
           2.3036356165991667,
           18,
           22.364178230575565,
           7.970167869930152,
           8.74147443798791,
           2,
           0.5129398676737514,
           11.284677088822532,
           7.285239085239086,
           1.144823284823285,
           10.258797353475028,
           6.668218279758769,
           0.5142043787051711,
           40,
           27.185812986708825,
           6.684656923167225,
           10.284087574103422,
           28.795445207489585,
           9.25567881669308,
           4,
           1.4570478170478172,
           11.864532224532226,
           1.0284087574103422,
           29.42,
           4.683367983367984,
           19.64260726653754,
           26,
           11.44823284823285,
           6,
           2.0814968814968817,
           14.570478170478172,
           16.651975051975054,
           1,
           19.253846153846155,
           2.5710218935258555,
           7,
           0.5724116424116426,
           5.142043787051711,
           7.285239085239086,
           39.079532781593,
           20.568175148206844,
           9.232917618127528,
           51.293986767375145,
           11,
           2.5710218935258555,
           2.8100207900207903,
           0.5142043787051711,
           18.51135763338616,
           4.1629937629937634,
           8.117837837837838,
           15,
           11.312496331513763,
           3.1222453222453224,
           54.37162597341765,
           5.5,
           3.1222453222453224,
           10.407484407484407,
           40.79733887733889,
           6.244490644490645,
           3.085226272231026
          ],
          "coloraxis": "coloraxis",
          "symbol": "diamond"
         },
         "mode": "markers",
         "name": "Centre-Forward",
         "orientation": "v",
         "showlegend": true,
         "type": "scatter",
         "x": [
          -6.06025241479789,
          -2.0358048938155386,
          -6.6123318186957025,
          4.196114963815361,
          -1.566446140613506,
          -0.5218927548252368,
          -6.7190502631171904,
          3.46869198638217,
          -2.915706562353182,
          -2.3652975815870603,
          -0.9460001832932302,
          -6.210260699949303,
          1.382612082733928,
          -2.507950543888623,
          -4.297513016635227,
          -5.830301938650495,
          -4.352452563509543,
          -6.322258980544562,
          -7.5176070204859995,
          -4.312481584694152,
          -4.341496947923113,
          -6.344577516897337,
          -5.5316435466381435,
          -0.8093925004803079,
          1.399000934742705,
          -1.390404899193036,
          8.932280185061739,
          4.682291467563576,
          -4.748102560338533,
          -8.977171954740175,
          3.6275719572748546,
          -6.568000522342505,
          -4.501644628592483,
          -2.9450184046260386,
          12.22119118916929,
          5.803380471435643,
          1.0882583278137437,
          0.5635583514364169,
          -2.830453574174749,
          8.17923669795852,
          -3.301735787689025,
          -6.758281542035288,
          1.2611308440868183,
          -5.220463692385534,
          -7.168418441139121,
          2.814034596142761,
          3.6470550200177168,
          -1.3883113947837418,
          -5.686808353626213,
          5.477338609921755,
          -3.9394776339984015,
          -10.22433777960441,
          3.6114646141180824,
          5.1230892268966235,
          -1.210823829256737,
          -4.596055625254117,
          0.3999847483389738,
          0.8883702749409161,
          -2.712345675752613,
          1.0931069938235654,
          -3.6389558605081653,
          -3.5464689828571214,
          -6.399534285088771,
          -2.957974209569186,
          -2.46944458552332,
          4.397701287149751,
          -4.807291668844853,
          6.060780709740168,
          -5.362776692824706,
          -5.132553975962917,
          -6.06025241479789,
          -5.138770752957014,
          1.008096050605224,
          -4.83338096299889,
          -1.4228643586802519,
          8.145932134171858,
          0.986170728296876,
          -9.947232485671659,
          -7.400011440807253,
          4.204718467034318,
          -2.688177583734137,
          8.118959645686074,
          4.685526745123661,
          3.4347440115109737,
          2.919889820806332,
          -6.060859089625183,
          -5.975746213460264,
          -8.988521256223537,
          2.1136629234190734,
          0.09251833237465737,
          -2.115284454172187,
          7.30969701304711,
          0.16898090741989635,
          -5.607145489536376,
          -3.878376948863645,
          -0.07491862358633702,
          0.1724702538399169,
          -1.4998605836780263,
          -5.278520987465565,
          -2.308997575241799,
          2.3525074920903415,
          -4.101097927417106,
          -5.930629071486477,
          -1.1263848515440988,
          7.520647799107172,
          2.4205677708955666,
          -3.3198586695158516,
          2.169991707632402,
          -3.439926688650124,
          -6.181255317297298,
          4.6575346418319254,
          -2.5651950195429527,
          -5.19732460795342,
          5.187983835280612,
          -2.401074379314225,
          -3.2292659872114555,
          0.13398301210790686,
          -4.318599922752097,
          -2.941718259543796,
          -9.391814721109405,
          -9.583964841827285,
          -7.169966063760879,
          -7.4244442067552505,
          -3.6002371734380927,
          5.034736573833485,
          0.46149299131211297,
          -10.26164895733697,
          -2.297572087871651,
          -3.1433843441555105,
          -4.93840392401581,
          0.23615021907870815,
          2.2755981559242167,
          -4.024334846995273,
          -3.286481142573799,
          2.2755981559242167,
          -6.042766549750954,
          -4.801383041640372,
          -6.288748671222109,
          -4.5754484799765525,
          -7.270738698788774,
          -0.9607051879912853,
          -0.45478668799143973,
          -1.5851903400102887,
          -0.39301181762486603,
          -5.028265064577477,
          -5.804054229187361,
          -5.418596137649559,
          -0.9191631402728117,
          -7.990316407563471,
          -2.457480978636916,
          6.861090804797456,
          4.505011622233638,
          3.6401964711635992,
          -5.5316435466381435,
          9.204385557028447,
          -8.667832127422251,
          -5.312967409655394,
          -2.4173940072867057,
          10.607070368434377,
          -2.632518369607767,
          4.270126475656031
         ],
         "xaxis": "x",
         "y": [
          0.5856121066312497,
          -0.1812052000230348,
          -1.286603270357062,
          1.0196430433193795,
          0.32165075597876014,
          -0.4679271485011373,
          1.0231540676512976,
          -0.673300611907482,
          -0.9119386692256662,
          0.011117990992860372,
          -0.19029618956812616,
          1.3407328053362149,
          -2.9795773012984137,
          -4.455555149391314,
          0.38418620337457243,
          0.17118084042905712,
          2.080529435654028,
          2.838421419400534,
          -0.4260598552387591,
          1.220190498612058,
          0.5527487250589957,
          1.4785679172314588,
          1.8602595617960833,
          -1.6097613628426357,
          0.6582515135055703,
          -4.038113400720108,
          3.4439633312401376,
          -3.4286631190830628,
          1.8982811186047686,
          -1.1940657767562137,
          1.485423481687477,
          -1.937449471409852,
          -1.2161843742407852,
          1.4049409812165048,
          2.801080853597913,
          0.8373595850452752,
          -1.302367667688644,
          -0.5724695840931179,
          1.775578310914879,
          1.7669990812664982,
          -1.4534826017387612,
          -1.170597721444121,
          -2.414868929771646,
          0.479031484344689,
          -1.888700724044763,
          -2.2130515465706915,
          0.6979706877293853,
          1.9818138119984712,
          0.09686067486562533,
          -4.035425198971348,
          -0.17413390874540602,
          -1.0990325485590535,
          0.08624261341718764,
          0.2752661419917075,
          -0.7546540389107963,
          1.4189050379392314,
          -0.4921500607590963,
          3.053387281792901,
          -0.6809685702129815,
          0.26276265588028835,
          4.4853959793654665,
          -1.3766858435335276,
          1.484182352339923,
          -2.2701092245833108,
          -0.39869881436880356,
          -0.9463019091271354,
          0.07503984073866288,
          -4.087683246051281,
          2.3118870103053517,
          -1.2683018185342636,
          0.5856121066312497,
          3.318547519876243,
          -0.3810747600767971,
          1.7086562655471567,
          1.4349869838025113,
          -2.601494130271708,
          0.34828413094492405,
          -1.1835399791741006,
          2.761342662465936,
          -0.29707811169138704,
          -0.34583076832497384,
          3.7537158209295436,
          -6.05745673927891,
          -0.16867555587094452,
          -2.4542984867303366,
          -1.4797963654551853,
          1.4898830452214191,
          -1.3735103149244476,
          -1.701897675875574,
          -1.2622086947920743,
          -3.012692050677642,
          -1.471607579425302,
          -1.9827693806002316,
          1.330101543426711,
          -0.34807253842172003,
          -0.660895724639612,
          -1.027897895902456,
          -2.0481462672887067,
          1.3280748938853368,
          0.7352192831458171,
          -3.513745770165489,
          -0.8476981876314451,
          -1.3552291069089315,
          -1.0384639065098262,
          -1.208687848312941,
          -1.5736088570773574,
          1.781363630634284,
          -0.8285813466289081,
          -1.9955790242035274,
          0.696564009401578,
          -3.695486687858058,
          0.5242084826895943,
          -0.5672320334989118,
          -1.18225429039222,
          -0.31102399206620335,
          0.06392937685382816,
          -0.37482088446674494,
          -1.4963690514681378,
          -2.5606878439313965,
          -1.4489987573029204,
          -1.1444209030886316,
          2.608151216057244,
          0.7916261624407954,
          0.12335999678143961,
          -2.240501387588888,
          -0.27026179129095,
          -0.4763689896780243,
          0.40816765198753224,
          -1.7922128478114558,
          -1.5636391764498336,
          -0.4978928222759321,
          0.14826173051058533,
          1.7407565647587662,
          0.49949585590895196,
          0.14826173051058533,
          0.6709420585638155,
          1.1464965234686688,
          2.8903297827464276,
          1.485887728060382,
          0.8573299274162121,
          -2.7062163122687117,
          -2.834632204249636,
          -1.2284598917748788,
          1.7498913442032746,
          -0.42835130690991596,
          0.8972345390002933,
          1.0112867873586389,
          -0.9960215603866469,
          -1.1579789962454474,
          0.12956772672574102,
          0.449157327726176,
          -2.4727654889086326,
          0.8495893901789607,
          1.8602595617960833,
          -0.46843451785395684,
          -0.7467850510124834,
          -0.4321317253162468,
          -0.7805457969249413,
          -8.197056692760306,
          -2.0482839399938415,
          -4.721786802220853
         ],
         "yaxis": "y"
        },
        {
         "customdata": [
          [
           "Moi Gómez",
           "Villarreal CF",
           "Left Winger"
          ],
          [
           "Ramadan Sobhi",
           "Huddersfield Town",
           "Left Winger"
          ],
          [
           "Naïm Sliti",
           "Dijon FCO",
           "Left Winger"
          ],
          [
           "Jadon Sancho",
           "Manchester United",
           "Left Winger"
          ],
          [
           "Casimir Ninga",
           "SCO Angers",
           "Left Winger"
          ],
          [
           "Musa Barrow",
           "Bologna FC 1909",
           "Left Winger"
          ],
          [
           "Stephy Mavididi",
           "Montpellier HSC",
           "Left Winger"
          ],
          [
           "Rafael Leão",
           "AC Milan",
           "Left Winger"
          ],
          [
           "Antonino Ragusa",
           "Hellas Verona",
           "Left Winger"
          ],
          [
           "Moussa Diaby",
           "Bayer 04 Leverkusen",
           "Left Winger"
          ],
          [
           "Leroy Sané",
           "Bayern Munich",
           "Left Winger"
          ],
          [
           "Yann Karamoh",
           "Inter Milan",
           "Left Winger"
          ],
          [
           "Demarai Gray",
           "Bayer 04 Leverkusen",
           "Left Winger"
          ],
          [
           "Thorgan Hazard",
           "Borussia Dortmund",
           "Left Winger"
          ],
          [
           "Karl Toko Ekambi",
           "Villarreal CF",
           "Left Winger"
          ],
          [
           "Nicola Sansone",
           "Bologna FC 1909",
           "Left Winger"
          ],
          [
           "Darwin Machís",
           "Granada CF",
           "Left Winger"
          ],
          [
           "Steven Zuber",
           "VfB Stuttgart",
           "Left Winger"
          ],
          [
           "Vincenzo Grifo",
           "SC Freiburg",
           "Left Winger"
          ],
          [
           "Demarai Gray",
           "Everton FC",
           "Left Winger"
          ],
          [
           "Takashi Inui",
           "SD Eibar",
           "Left Winger"
          ],
          [
           "Paulinho",
           "Bayer 04 Leverkusen",
           "Left Winger"
          ],
          [
           "Daniel James",
           "Leeds United",
           "Left Winger"
          ],
          [
           "Vincenzo Grifo",
           "SC Freiburg",
           "Left Winger"
          ],
          [
           "Marcus Thuram",
           "Borussia Mönchengladbach",
           "Left Winger"
          ],
          [
           "Allan Saint-Maximin",
           "Newcastle United",
           "Left Winger"
          ],
          [
           "Karl Toko Ekambi",
           "Olympique Lyon",
           "Left Winger"
          ],
          [
           "Bebé",
           "Rayo Vallecano",
           "Left Winger"
          ],
          [
           "Ademola Lookman",
           "RB Leipzig",
           "Left Winger"
          ],
          [
           "Jacob Bruun Larsen",
           "TSG 1899 Hoffenheim",
           "Left Winger"
          ],
          [
           "Pablo de Blasis",
           "SD Eibar",
           "Left Winger"
          ],
          [
           "Myziane Maolida",
           "OGC Nice",
           "Left Winger"
          ],
          [
           "Casimir Ninga",
           "SM Caen",
           "Left Winger"
          ],
          [
           "Yann Karamoh",
           "Parma Calcio 1913",
           "Left Winger"
          ],
          [
           "Yannick Carrasco",
           "Atlético de Madrid",
           "Left Winger"
          ],
          [
           "Jack Harrison",
           "Leeds United",
           "Left Winger"
          ],
          [
           "Eden Hazard",
           "Real Madrid",
           "Left Winger"
          ],
          [
           "Nicolás González",
           "ACF Fiorentina",
           "Left Winger"
          ],
          [
           "Josip Brekalo",
           "Torino FC",
           "Left Winger"
          ],
          [
           "Jack Grealish",
           "Manchester City",
           "Left Winger"
          ],
          [
           "Keita Endo",
           "1.FC Union Berlin",
           "Left Winger"
          ],
          [
           "Philippe Coutinho",
           "Bayern Munich",
           "Left Winger"
          ],
          [
           "Martin Terrier",
           "Stade Rennais FC",
           "Left Winger"
          ],
          [
           "Alex Iwobi",
           "Everton FC",
           "Left Winger"
          ],
          [
           "Gerard Deulofeu",
           "Watford FC",
           "Left Winger"
          ],
          [
           "Leon Bailey",
           "Aston Villa",
           "Left Winger"
          ],
          [
           "Álvaro Vadillo",
           "RCD Espanyol Barcelona",
           "Left Winger"
          ],
          [
           "Yoane Wissa",
           "Brentford FC",
           "Left Winger"
          ],
          [
           "Ademola Lookman",
           "Fulham FC",
           "Left Winger"
          ],
          [
           "Adama Diakhaby",
           "Huddersfield Town",
           "Left Winger"
          ],
          [
           "Max Gradel",
           "FC Toulouse",
           "Left Winger"
          ],
          [
           "Wesley Saïd",
           "FC Toulouse",
           "Left Winger"
          ],
          [
           "Valentin Mihaila",
           "Atalanta BC",
           "Left Winger"
          ],
          [
           "Gonçalo Guedes",
           "Valencia CF",
           "Left Winger"
          ],
          [
           "Lucas Ocampos",
           "Sevilla FC",
           "Left Winger"
          ],
          [
           "Denis Cheryshev",
           "Valencia CF",
           "Left Winger"
          ],
          [
           "Justin Kluivert",
           "RB Leipzig",
           "Left Winger"
          ],
          [
           "Álex Berenguer",
           "Athletic Bilbao",
           "Left Winger"
          ],
          [
           "Fabio Borini",
           "AC Milan",
           "Left Winger"
          ]
         ],
         "hovertemplate": "position=%{customdata[2]}<br>PC1=%{x}<br>PC5=%{y}<br>player_name=%{customdata[0]}<br>club_name=%{customdata[1]}<br>fee_infladj=%{marker.color}<extra></extra>",
         "legendgroup": "Left Winger",
         "marker": {
          "color": [
           1.336931384633445,
           6.764864864864865,
           2.0814968814968817,
           85,
           3.085226272231026,
           14.5,
           6.463042332689268,
           30.33805834360509,
           1.0284087574103422,
           15.426131361155132,
           61.55278412085017,
           6.764864864864865,
           2.0517594706950057,
           26.22442331396373,
           18.733471933471936,
           8.227270059282738,
           5.142043787051711,
           0.6244490644490645,
           0.6244490644490645,
           2,
           2.0568175148206844,
           19.253846153846155,
           29.1,
           7.198861301872396,
           9.25567881669308,
           18.51135763338616,
           11.797616956496285,
           0.7805613305613306,
           18.51135763338616,
           9.25567881669308,
           2.0814968814968817,
           10.407484407484407,
           2.0814968814968817,
           8.207037882780023,
           27.698752854382576,
           12.8,
           118.26700710218935,
           23.5,
           1,
           117.5,
           0.9,
           8.74147443798791,
           12.310556824170035,
           31.2636262252744,
           13.52972972972973,
           32,
           1.8,
           10,
           2.0517594706950057,
           10.407484407484407,
           2.0814968814968817,
           8.227270059282738,
           1,
           41.62993762993764,
           15.426131361155132,
           6.170452544462053,
           1.0258797353475029,
           12.310556824170035,
           5.724116424116425
          ],
          "coloraxis": "coloraxis",
          "symbol": "square"
         },
         "mode": "markers",
         "name": "Left Winger",
         "orientation": "v",
         "showlegend": true,
         "type": "scatter",
         "x": [
          10.870995979998826,
          -1.4313327298006953,
          11.330938327949305,
          11.6334994107389,
          0.7799364806659279,
          0.15722506758765198,
          -1.8737064964746177,
          -3.66034260491936,
          -7.984372823234246,
          0.2612911890714814,
          3.3123144245645495,
          -5.0658996440343325,
          0.6954204304631968,
          16.443527527458727,
          9.834965506521517,
          -8.327372919890559,
          -6.291469483738331,
          0.9036956362250701,
          -2.8830927329478446,
          -1.0497735980685394,
          1.106770530853093,
          5.534573083419387,
          -3.5360189499525085,
          -4.082438576259539,
          4.900955504383359,
          10.136450033109565,
          2.574145061677866,
          -6.851689555253175,
          -4.050970556184593,
          -1.6366929890075719,
          2.3761625456499926,
          -6.620787512976876,
          -3.6720850630263837,
          -3.432763476898991,
          -2.7347023440580864,
          12.98753079533255,
          22.068075618977954,
          -4.173981608715131,
          2.138013809623507,
          15.555847111757409,
          -7.211929766682054,
          7.113402503053808,
          -0.7847871409917315,
          7.589988704487794,
          -5.357460632318663,
          6.524141854089226,
          -6.740923404533043,
          6.780964994769022,
          -5.148392641587336,
          -4.6251974473579445,
          10.664797732412108,
          1.7980333790815166,
          -8.719664131293902,
          10.824985433481281,
          8.82290044137551,
          0.8346530007169789,
          -3.8379609241135864,
          2.9486046717858945,
          1.5889760455709403
         ],
         "xaxis": "x",
         "y": [
          1.8523237131116872,
          -0.8749531437428744,
          1.1274801622986548,
          5.046940333715501,
          -3.133771219486876,
          2.203201597242359,
          0.167248952767304,
          1.8549483361412882,
          -1.907921973524788,
          0.9881040064012921,
          1.945077791370567,
          1.67179992626372,
          0.9664578067806804,
          1.6090197455407576,
          -0.621407848596933,
          0.708829464939094,
          0.8535865578127684,
          -0.14201300532959885,
          2.0950352270876347,
          1.3836931390643068,
          -0.8594181133675032,
          -0.14572097262295802,
          -1.1953555298906173,
          2.250852665112626,
          -3.7267755434342877,
          -1.4657829415940606,
          -0.0265285048774081,
          0.7245572531333295,
          2.7509828279953163,
          -0.11161478822382154,
          -1.0378805409567826,
          2.5729567070251647,
          -1.345508483056026,
          0.9280935998173186,
          1.678969453819328,
          -1.6832658633654662,
          5.687323680175211,
          -2.028237744209901,
          1.9450538581356394,
          3.9399767828611454,
          0.9302513388722088,
          2.767907426169374,
          0.898647445223248,
          0.10883899104082856,
          2.341409172593111,
          3.760237333519579,
          1.0404417323500377,
          -1.2390739609951338,
          2.132442640543547,
          0.1509091916275972,
          -2.7423122099389454,
          -0.4226176214525509,
          -0.2606280367089493,
          -1.099703405005754,
          -5.761759587943419,
          -2.813220177902308,
          -0.7965346539753414,
          0.4204559904665307,
          -0.5037617268756251
         ],
         "yaxis": "y"
        },
        {
         "customdata": [
          [
           "Mattia Sprocati",
           "Parma Calcio 1913",
           "Right Winger"
          ],
          [
           "Iván Alejo",
           "Getafe CF",
           "Right Winger"
          ],
          [
           "Anwar El Ghazi",
           "Aston Villa",
           "Right Winger"
          ],
          [
           "Hélder Costa",
           "Leeds United",
           "Right Winger"
          ],
          [
           "Rony Lopes",
           "Sevilla FC",
           "Right Winger"
          ],
          [
           "Mathieu Dossevi",
           "FC Toulouse",
           "Right Winger"
          ],
          [
           "Riccardo Orsolini",
           "Bologna FC 1909",
           "Right Winger"
          ],
          [
           "Emanuel Vignato",
           "Bologna FC 1909",
           "Right Winger"
          ],
          [
           "Marco Richter",
           "Hertha BSC",
           "Right Winger"
          ],
          [
           "Adam Ounas",
           "OGC Nice",
           "Right Winger"
          ],
          [
           "Francisco Trincão",
           "Wolverhampton Wanderers",
           "Right Winger"
          ],
          [
           "Cengiz Ünder",
           "Olympique Marseille",
           "Right Winger"
          ],
          [
           "Felipe Anderson",
           "West Ham United",
           "Right Winger"
          ],
          [
           "Milot Rashica",
           "Norwich City",
           "Right Winger"
          ],
          [
           "Marius Wolf",
           "Hertha BSC",
           "Right Winger"
          ],
          [
           "Felipe Anderson",
           "SS Lazio",
           "Right Winger"
          ],
          [
           "Alexis Saelemaekers",
           "AC Milan",
           "Right Winger"
          ],
          [
           "Riyad Mahrez",
           "Manchester City",
           "Right Winger"
          ],
          [
           "Douglas Costa",
           "Juventus FC",
           "Right Winger"
          ],
          [
           "Samuel Kalu",
           "Watford FC",
           "Right Winger"
          ],
          [
           "Martin Harnik",
           "SV Werder Bremen",
           "Right Winger"
          ],
          [
           "Malcom",
           "FC Barcelona",
           "Right Winger"
          ],
          [
           "Franck Honorat",
           "Stade Brestois 29",
           "Right Winger"
          ],
          [
           "Isaac Mbenza",
           "Huddersfield Town",
           "Right Winger"
          ],
          [
           "Emiliano Rigoni",
           "UC Sampdoria",
           "Right Winger"
          ],
          [
           "Alexander Esswein",
           "VfB Stuttgart",
           "Right Winger"
          ],
          [
           "Suso",
           "Sevilla FC",
           "Right Winger"
          ],
          [
           "Suso",
           "Sevilla FC",
           "Right Winger"
          ],
          [
           "Mehdi Léris",
           "UC Sampdoria",
           "Right Winger"
          ],
          [
           "André Hahn",
           "FC Augsburg",
           "Right Winger"
          ],
          [
           "Takuma Asano",
           "Hannover 96",
           "Right Winger"
          ],
          [
           "Daniele Verde",
           "Spezia Calcio",
           "Right Winger"
          ],
          [
           "Nicolas Pépé",
           "Arsenal FC",
           "Right Winger"
          ],
          [
           "Takefusa Kubo",
           "Villarreal CF",
           "Right Winger"
          ],
          [
           "Matteo Politano",
           "SSC Napoli",
           "Right Winger"
          ],
          [
           "Matteo Politano",
           "Inter Milan",
           "Right Winger"
          ],
          [
           "Junior Messias",
           "AC Milan",
           "Right Winger"
          ],
          [
           "Samuel Grandsir",
           "AS Monaco",
           "Right Winger"
          ],
          [
           "Anthony Knockaert",
           "Fulham FC",
           "Right Winger"
          ],
          [
           "Andriy Yarmolenko",
           "West Ham United",
           "Right Winger"
          ],
          [
           "Federico Chiesa",
           "Juventus FC",
           "Right Winger"
          ],
          [
           "Rachid Ghezzal",
           "Leicester City",
           "Right Winger"
          ],
          [
           "Matteo Politano",
           "SSC Napoli",
           "Right Winger"
          ],
          [
           "Carles Pérez",
           "AS Roma",
           "Right Winger"
          ],
          [
           "Chadrac Akolo",
           "Amiens SC",
           "Right Winger"
          ],
          [
           "Yannis Salibur",
           "RCD Mallorca",
           "Right Winger"
          ],
          [
           "Xherdan Shaqiri",
           "Olympique Lyon",
           "Right Winger"
          ],
          [
           "Pablo Sarabia",
           "Paris Saint-Germain",
           "Right Winger"
          ],
          [
           "Daniele Verde",
           "Spezia Calcio",
           "Right Winger"
          ],
          [
           "Cengiz Ünder",
           "Leicester City",
           "Right Winger"
          ],
          [
           "Harrison Manzala",
           "SCO Angers",
           "Right Winger"
          ],
          [
           "Romain Del Castillo",
           "Stade Brestois 29",
           "Right Winger"
          ],
          [
           "Fabián Orellana",
           "SD Eibar",
           "Right Winger"
          ],
          [
           "Robert Snodgrass",
           "West Bromwich Albion",
           "Right Winger"
          ],
          [
           "Sada Thioub",
           "SCO Angers",
           "Right Winger"
          ],
          [
           "Takefusa Kubo",
           "Getafe CF",
           "Right Winger"
          ],
          [
           "Samu Castillejo",
           "AC Milan",
           "Right Winger"
          ],
          [
           "Felix Klaus",
           "VfL Wolfsburg",
           "Right Winger"
          ],
          [
           "Marcus Coco",
           "FC Nantes",
           "Right Winger"
          ],
          [
           "Bertrand Traoré",
           "Aston Villa",
           "Right Winger"
          ]
         ],
         "hovertemplate": "position=%{customdata[2]}<br>PC1=%{x}<br>PC5=%{y}<br>player_name=%{customdata[0]}<br>club_name=%{customdata[1]}<br>fee_infladj=%{marker.color}<extra></extra>",
         "legendgroup": "Right Winger",
         "marker": {
          "color": [
           3.085226272231026,
           4.1629937629937634,
           9.25567881669308,
           18.1580713156508,
           25.71021893525856,
           2.6018711018711023,
           15.426131361155132,
           1.1312496331513766,
           7.1,
           2.262499266302753,
           6,
           0.5,
           39.548440748440754,
           11,
           2.0568175148206844,
           3,
           5.385868610574391,
           70.56274428274429,
           41.62993762993764,
           3,
           2.341683991683992,
           42.67068607068608,
           5.129398676737514,
           2.6018711018711023,
           0.5142043787051711,
           0.4162993762993763,
           1.0078405822621352,
           21.54347444229756,
           2.879544520748958,
           3.1222453222453224,
           1.0407484407484409,
           0.2051759470695006,
           82.27270059282738,
           1.2823496691843783,
           21,
           5.2037422037422045,
           2.6,
           3.1222453222453224,
           12.002792903565783,
           20.814968814968815,
           12.926084665378536,
           14.570478170478172,
           2.5710218935258555,
           13.336436559517535,
           0.5142043787051711,
           2.0568175148206844,
           6,
           18.51135763338616,
           0.6,
           3.59057907371626,
           1.0407484407484409,
           1.5,
           2.0814968814968817,
           0.1128467708882253,
           3.5994306509361977,
           1.2823496691843783,
           22.167941787941796,
           3.1222453222453224,
           3.085226272231026,
           18.87618713039405
          ],
          "coloraxis": "coloraxis",
          "symbol": "x"
         },
         "mode": "markers",
         "name": "Right Winger",
         "orientation": "v",
         "showlegend": true,
         "type": "scatter",
         "x": [
          -9.066702786596014,
          -2.3700817594149837,
          -5.088665431992673,
          -6.318760001145962,
          7.513225842054583,
          12.130550381899976,
          6.085828268374703,
          -5.480284280241532,
          0.11536096990601105,
          -3.102523805984524,
          -8.014732112996782,
          -1.9192929149955005,
          5.130490172048946,
          0.8869447455543924,
          4.987244465229942,
          5.305092321805208,
          -8.550180504063366,
          18.403487965623274,
          9.564554216148231,
          -3.016112415008866,
          0.6693122986627,
          16.53425998546727,
          -7.719549670407362,
          1.8208595293551029,
          -8.597411933812507,
          -5.5344863661862185,
          19.65138997622598,
          12.059346712625654,
          2.8405178407321925,
          -2.3403995002563596,
          -6.006745893440879,
          -5.193528115752116,
          15.535171938777381,
          8.653024206459316,
          8.311639551830403,
          12.984783292043158,
          16.196665486159816,
          9.223783892974762,
          0.04072130762459153,
          -1.1427679736180876,
          13.24001194259887,
          0.7899513234601102,
          12.842393275771492,
          -8.624407455818783,
          -4.812227069249754,
          -0.7279857239504892,
          3.112445253949685,
          12.974524395628517,
          -4.822819532925898,
          -0.26423640801768333,
          1.674204198752355,
          -2.7086661069083213,
          0.06632021487185213,
          5.942770745726786,
          10.238745156599945,
          8.653024206459316,
          10.301557242846968,
          5.352774269230705,
          1.6914027643783225,
          6.238934473804968
         ],
         "xaxis": "x",
         "y": [
          -0.4448642426528433,
          -1.1279452030940593,
          -0.30969087547642116,
          -1.812558032449446,
          -0.5204481829018412,
          -0.6753034668589343,
          2.4525066064612417,
          2.3618776782127573,
          -0.7544048198911658,
          2.3368202356696544,
          0.029961064349569577,
          1.975714003892584,
          2.4213029712627243,
          0.7926176730564265,
          0.010485114709261723,
          -0.8268015295329348,
          -0.4835255635408182,
          7.633651805990075,
          2.2036344776732406,
          -0.5212704062739082,
          -0.734928615138327,
          6.476222785199531,
          -1.4826560592674771,
          1.1133088141601875,
          -0.13784104260109098,
          1.3581506593599815,
          3.2471302071612893,
          3.16549076647737,
          -4.180998042411929,
          -2.419047560438047,
          0.13139965837564227,
          0.4913490843705751,
          0.1557024218528884,
          -1.257940969294802,
          2.639231461502348,
          0.3963032937491473,
          -1.7505349232287832,
          -4.886331335517366,
          -0.5064505236940458,
          0.70043122356653,
          -5.174847601413783,
          0.9418143300201507,
          1.7975472712605698,
          0.1365737249625396,
          0.4537999908724356,
          1.6295364111706856,
          5.3080428752218545,
          0.761092009327331,
          1.3038049947761385,
          2.0164165005844783,
          -0.8840068297475026,
          -1.208594303517756,
          0.3405401149513055,
          6.505571489963204,
          -3.9400908368744156,
          -1.257940969294802,
          0.9356011187731099,
          0.4411189491987457,
          -3.202714166124105,
          0.4583360256075746
         ],
         "yaxis": "y"
        },
        {
         "customdata": [
          [
           "Alfred Duncan",
           "ACF Fiorentina",
           "Central Midfield"
          ],
          [
           "Víctor Camarasa",
           "Crystal Palace",
           "Central Midfield"
          ],
          [
           "Rafinha",
           "Celta de Vigo",
           "Central Midfield"
          ],
          [
           "Francesco Cassata",
           "Genoa CFC",
           "Central Midfield"
          ],
          [
           "Marco Benassi",
           "Hellas Verona",
           "Central Midfield"
          ],
          [
           "Lukas Rupp",
           "Norwich City",
           "Central Midfield"
          ],
          [
           "Fabian Delph",
           "Everton FC",
           "Central Midfield"
          ],
          [
           "Ilaix Moriba",
           "RB Leipzig",
           "Central Midfield"
          ],
          [
           "Florent Mollet",
           "Montpellier HSC",
           "Central Midfield"
          ],
          [
           "Flavien Tait",
           "Stade Rennais FC",
           "Central Midfield"
          ],
          [
           "Tristan Dingomé",
           "Stade Reims",
           "Central Midfield"
          ],
          [
           "Emil Hallfreðsson",
           "Frosinone Calcio",
           "Central Midfield"
          ],
          [
           "Stefano Sensi",
           "Inter Milan",
           "Central Midfield"
          ],
          [
           "Weston McKennie",
           "Juventus FC",
           "Central Midfield"
          ],
          [
           "Franck Kessié",
           "AC Milan",
           "Central Midfield"
          ],
          [
           "Dennis Praet",
           "Torino FC",
           "Central Midfield"
          ],
          [
           "Dominik Kohr",
           "Eintracht Frankfurt",
           "Central Midfield"
          ],
          [
           "Fayçal Fajr",
           "SM Caen",
           "Central Midfield"
          ],
          [
           "Wylan Cyprien",
           "Parma Calcio 1913",
           "Central Midfield"
          ],
          [
           "Vicente Iborra",
           "Villarreal CF",
           "Central Midfield"
          ],
          [
           "Raman Chibsah",
           "Frosinone Calcio",
           "Central Midfield"
          ],
          [
           "Suat Serdar",
           "FC Schalke 04",
           "Central Midfield"
          ],
          [
           "Marcos Llorente",
           "Atlético de Madrid",
           "Central Midfield"
          ],
          [
           "Nabil Bentaleb",
           "Newcastle United",
           "Central Midfield"
          ],
          [
           "Sofian Kiyine",
           "SS Lazio",
           "Central Midfield"
          ],
          [
           "Jordan Veretout",
           "AS Roma",
           "Central Midfield"
          ],
          [
           "Marko Rog",
           "Cagliari Calcio",
           "Central Midfield"
          ],
          [
           "Marko Rog",
           "Sevilla FC",
           "Central Midfield"
          ],
          [
           "Soualiho Meïté",
           "Torino FC",
           "Central Midfield"
          ],
          [
           "Rafinha",
           "Paris Saint-Germain",
           "Central Midfield"
          ],
          [
           "Morgan Sanson",
           "Aston Villa",
           "Central Midfield"
          ],
          [
           "Alberto Grassi",
           "Parma Calcio 1913",
           "Central Midfield"
          ],
          [
           "Alfred Duncan",
           "ACF Fiorentina",
           "Central Midfield"
          ],
          [
           "Soualiho Meïté",
           "AC Milan",
           "Central Midfield"
          ],
          [
           "Kevin Strootman",
           "Olympique Marseille",
           "Central Midfield"
          ],
          [
           "Pierre Lees-Melou",
           "Norwich City",
           "Central Midfield"
          ],
          [
           "Ronaldo Vieira",
           "Hellas Verona",
           "Central Midfield"
          ],
          [
           "Arturo Vidal",
           "FC Barcelona",
           "Central Midfield"
          ],
          [
           "Sebastian Rode",
           "Eintracht Frankfurt",
           "Central Midfield"
          ],
          [
           "Kouadio Koné",
           "Borussia Mönchengladbach",
           "Central Midfield"
          ],
          [
           "Zaydou Youssouf",
           "AS Saint-Étienne",
           "Central Midfield"
          ],
          [
           "Roque Mesa",
           "Sevilla FC",
           "Central Midfield"
          ],
          [
           "Mikel Merino",
           "Real Sociedad",
           "Central Midfield"
          ],
          [
           "Mattia Valoti",
           "SPAL",
           "Central Midfield"
          ],
          [
           "André Gomes",
           "Everton FC",
           "Central Midfield"
          ],
          [
           "Antonin Bobichon",
           "SCO Angers",
           "Central Midfield"
          ],
          [
           "Guessouma Fofana",
           "EA Guingamp",
           "Central Midfield"
          ],
          [
           "Jordan Veretout",
           "AS Roma",
           "Central Midfield"
          ],
          [
           "Marko Rog",
           "Cagliari Calcio",
           "Central Midfield"
          ],
          [
           "Edimilson Fernandes",
           "ACF Fiorentina",
           "Central Midfield"
          ],
          [
           "Arne Maier",
           "Arminia Bielefeld",
           "Central Midfield"
          ],
          [
           "Cesc Fàbregas",
           "AS Monaco",
           "Central Midfield"
          ],
          [
           "Youssouf Fofana",
           "AS Monaco",
           "Central Midfield"
          ],
          [
           "Giovani Lo Celso",
           "Tottenham Hotspur",
           "Central Midfield"
          ],
          [
           "Luca Mazzitelli",
           "Genoa CFC",
           "Central Midfield"
          ],
          [
           "Afriyie Acquah",
           "Empoli FC",
           "Central Midfield"
          ],
          [
           "Carles Aleñá",
           "Getafe CF",
           "Central Midfield"
          ],
          [
           "Recio",
           "CD Leganés",
           "Central Midfield"
          ],
          [
           "Bryan Dabo",
           "Benevento Calcio",
           "Central Midfield"
          ],
          [
           "Joel Obi",
           "Chievo Verona",
           "Central Midfield"
          ],
          [
           "Jordan Ferri",
           "Montpellier HSC",
           "Central Midfield"
          ],
          [
           "Manu Morlanes",
           "Villarreal CF",
           "Central Midfield"
          ],
          [
           "Jonas Martin",
           "Stade Rennais FC",
           "Central Midfield"
          ],
          [
           "Giovanni Crociata",
           "FC Empoli",
           "Central Midfield"
          ],
          [
           "Eduardo Camavinga",
           "Real Madrid",
           "Central Midfield"
          ],
          [
           "Valentin Rongier",
           "Olympique Marseille",
           "Central Midfield"
          ],
          [
           "Dennis Praet",
           "Leicester City",
           "Central Midfield"
          ],
          [
           "Yves Bissouma",
           "Brighton & Hove Albion",
           "Central Midfield"
          ],
          [
           "Sergi Darder",
           "RCD Espanyol Barcelona",
           "Central Midfield"
          ],
          [
           "Robert Andrich",
           "Bayer 04 Leverkusen",
           "Central Midfield"
          ],
          [
           "Moussa Sissoko",
           "Watford FC",
           "Central Midfield"
          ],
          [
           "João Moutinho",
           "Wolverhampton Wanderers",
           "Central Midfield"
          ],
          [
           "Rodrigo Bentancur",
           "Tottenham Hotspur",
           "Central Midfield"
          ],
          [
           "Suat Serdar",
           "Hertha BSC",
           "Central Midfield"
          ],
          [
           "Lukas Lerager",
           "Genoa CFC",
           "Central Midfield"
          ],
          [
           "Stefano Sturaro",
           "Genoa CFC",
           "Central Midfield"
          ],
          [
           "Xavier Chavalerin",
           "ESTAC Troyes",
           "Central Midfield"
          ],
          [
           "Aaron Mooy",
           "Brighton & Hove Albion",
           "Central Midfield"
          ],
          [
           "Kevin Möhwald",
           "1.FC Union Berlin",
           "Central Midfield"
          ],
          [
           "Gerson",
           "ACF Fiorentina",
           "Central Midfield"
          ],
          [
           "Stefano Sturaro",
           "Genoa CFC",
           "Central Midfield"
          ],
          [
           "Philip Billing",
           "AFC Bournemouth",
           "Central Midfield"
          ],
          [
           "Giovani Lo Celso",
           "Real Betis Balompié",
           "Central Midfield"
          ],
          [
           "Sergio Álvarez",
           "SD Eibar",
           "Central Midfield"
          ],
          [
           "Alessandro Murgia",
           "SPAL",
           "Central Midfield"
          ],
          [
           "Abdoulaye Doucouré",
           "Everton FC",
           "Central Midfield"
          ],
          [
           "Sofian Kiyine",
           "Venezia FC",
           "Central Midfield"
          ],
          [
           "Jérôme Gondorf",
           "SC Freiburg",
           "Central Midfield"
          ],
          [
           "Mehdi Bourabia",
           "Spezia Calcio",
           "Central Midfield"
          ],
          [
           "Valon Berisha",
           "Stade Reims",
           "Central Midfield"
          ],
          [
           "Weston McKennie",
           "Juventus FC",
           "Central Midfield"
          ],
          [
           "Joan Jordán",
           "Sevilla FC",
           "Central Midfield"
          ],
          [
           "Dale Stephens",
           "Burnley FC",
           "Central Midfield"
          ],
          [
           "Maximilian Eggestein",
           "SC Freiburg",
           "Central Midfield"
          ],
          [
           "Mikel Merino",
           "Newcastle United",
           "Central Midfield"
          ],
          [
           "Saúl Ñíguez",
           "Chelsea FC",
           "Central Midfield"
          ],
          [
           "Mauro Arambarri",
           "Getafe CF",
           "Central Midfield"
          ],
          [
           "Mattéo Guendouzi",
           "Hertha BSC",
           "Central Midfield"
          ],
          [
           "Daniel Wass",
           "Atlético de Madrid",
           "Central Midfield"
          ],
          [
           "Karol Linetty",
           "Torino FC",
           "Central Midfield"
          ],
          [
           "Eddy Gnahoré",
           "Amiens SC",
           "Central Midfield"
          ],
          [
           "Naby Keïta",
           "Liverpool FC",
           "Central Midfield"
          ],
          [
           "Daniel Wass",
           "Valencia CF",
           "Central Midfield"
          ],
          [
           "Renato Sanches",
           "LOSC Lille",
           "Central Midfield"
          ],
          [
           "Pedro Obiang",
           "US Sassuolo",
           "Central Midfield"
          ],
          [
           "Gonzalo Castro",
           "VfB Stuttgart",
           "Central Midfield"
          ],
          [
           "Téji Savanier",
           "Montpellier HSC",
           "Central Midfield"
          ],
          [
           "Alfred Duncan",
           "Cagliari Calcio",
           "Central Midfield"
          ]
         ],
         "hovertemplate": "position=%{customdata[2]}<br>PC1=%{x}<br>PC5=%{y}<br>player_name=%{customdata[0]}<br>club_name=%{customdata[1]}<br>fee_infladj=%{marker.color}<extra></extra>",
         "legendgroup": "Central Midfield",
         "marker": {
          "color": [
           15.388196030212542,
           1.542613136115513,
           1.542613136115513,
           7.18115814743252,
           0.8207037882780024,
           0.5142043787051711,
           9.76988319539825,
           16,
           2.7059459459459463,
           9.25567881669308,
           1.0407484407484409,
           0.5203742203742204,
           25.646993383687573,
           20.5,
           24.681810177848213,
           1,
           8.74147443798791,
           1.5611226611226612,
           1.5388196030212544,
           10.407484407484407,
           1.0407484407484409,
           11.44823284823285,
           30.852262722310265,
           1.0284087574103422,
           1.0284087574103422,
           17.9528953685813,
           2.0568175148206844,
           0.5203742203742204,
           11.96860706860707,
           1.5388196030212544,
           16.208899818490547,
           8.6686837636864,
           2.0568175148206844,
           0.5129398676737514,
           26.01871101871102,
           3.9,
           0.7694098015106272,
           18.733471933471936,
           4.113635029641369,
           9.232917618127528,
           2.0568175148206844,
           6.244490644490645,
           12.48898128898129,
           3.085226272231026,
           25.71021893525856,
           1.542613136115513,
           1.0407484407484409,
           1.0284087574103422,
           15.388196030212542,
           0.9002474012474013,
           0.5129398676737514,
           9.366735966735968,
           15.426131361155132,
           16.454540118565475,
           1.0407484407484409,
           1.0407484407484409,
           5,
           1.5611226611226612,
           0.5129398676737514,
           2.0814968814968817,
           2.0568175148206844,
           4,
           4.113635029641369,
           1,
           31,
           13.36931384633445,
           19.74544814227857,
           17.484573804573806,
           8.325987525987527,
           6.5,
           3.5,
           5.828191268191269,
           19,
           8,
           6.170452544462053,
           1.5611226611226612,
           1,
           3.393748899454129,
           1,
           0.0957488565488565,
           16.968744497270645,
           16.968744497270645,
           22.624992663027527,
           4.1629937629937634,
           4.113635029641369,
           22.569354177645064,
           0.4,
           1.3529729729729731,
           0.5,
           4.616458809063763,
           4.616458809063763,
           14.397722603744793,
           1.1284677088822532,
           5,
           7.285239085239086,
           5,
           2.237609147609148,
           1.0258797353475029,
           2.7,
           7.694098015106271,
           2.5710218935258555,
           62.44490644490645,
           6.244490644490645,
           20.568175148206844,
           7.455963491224981,
           5.2037422037422045,
           9.76988319539825,
           1.0258797353475029
          ],
          "coloraxis": "coloraxis",
          "symbol": "cross"
         },
         "mode": "markers",
         "name": "Central Midfield",
         "orientation": "v",
         "showlegend": true,
         "type": "scatter",
         "x": [
          1.1827634106401774,
          2.825423455965658,
          2.103174526650567,
          -3.850193861053106,
          3.069070278721007,
          -6.315539120489369,
          1.7121949367016467,
          -4.572402301799034,
          0.8662042606669147,
          13.94232148739104,
          -3.134905202874926,
          -3.900894983356001,
          1.98532312607266,
          1.0938151477548699,
          13.901343236185841,
          5.003873991728889,
          -0.1992994416101947,
          6.416561177057673,
          5.885487161077561,
          -0.5952569208341685,
          -3.965131436789358,
          1.2630708801321995,
          -6.0807370982946995,
          -0.5450456617437971,
          -2.1498219646965206,
          14.162781976380932,
          -6.59346604598834,
          -6.078730949734743,
          0.03339189930425768,
          4.43336989727135,
          8.702361101978768,
          -3.9721533550087855,
          3.684274708061121,
          4.320895780156144,
          7.601482511724734,
          10.082867163164469,
          -5.017394037765794,
          5.353427842829031,
          -2.309840711054261,
          -3.8443034000383056,
          -7.427448351547669,
          -7.347526410603723,
          3.148628472511884,
          -0.5326349719167472,
          -0.14364933998949364,
          4.392753360789222,
          -6.7366450809804554,
          16.281209556418652,
          -1.2611308892165556,
          -5.155847179263731,
          -1.2911971144572951,
          19.82062529276934,
          -3.713961431038971,
          11.835743026294708,
          -2.886360716856899,
          -4.679726312100864,
          -1.6960267202052064,
          3.9061218321302844,
          -2.861359600751813,
          -1.8067477271093455,
          0.8820537588143802,
          -8.617310902761846,
          8.639014315197446,
          -9.82234801102501,
          3.031708210581413,
          13.488439620786824,
          13.662711247480015,
          4.212621459984144,
          8.57771408866064,
          1.428247519397986,
          2.569121540222678,
          14.981365072472236,
          6.052974734473179,
          1.3196568750199336,
          4.950231245937812,
          -5.772140367048049,
          7.628852232045503,
          13.637059621447005,
          -1.1127691262564237,
          -2.841354405801902,
          -8.909469961356038,
          1.9550848389450104,
          12.525932703827984,
          -12.575568017722674,
          -8.533987101004454,
          14.605198551165689,
          -7.098310760180272,
          -5.261060397141145,
          -3.446485713576647,
          -8.073069596466098,
          0.7443995202697307,
          12.834500891392498,
          8.320855176948667,
          9.065590362087757,
          3.148628472511884,
          11.257477038920975,
          0.46826039172346295,
          -0.26901619053418996,
          8.415852270982663,
          7.311184796377329,
          -3.357405759603629,
          10.34361071746629,
          12.154763355134966,
          -4.367838523698856,
          -0.653648653763971,
          0.3372978245937064,
          21.80409500237218,
          -0.06799223807029484
         ],
         "xaxis": "x",
         "y": [
          0.008830205684242864,
          2.5413880355367757,
          2.9688483625913333,
          1.0683169937359072,
          -1.4508057120432047,
          -1.1642284490780528,
          1.6711579745194265,
          2.256101483876028,
          3.8609873521813225,
          -0.90586992456736,
          0.3812752027973102,
          0.8502805657282665,
          3.4861006496222338,
          -1.3809905835703424,
          -2.910870567213378,
          -1.521842646235585,
          -0.7241949243945677,
          1.5972761671116356,
          6.540948662092594,
          2.0367684032419535,
          0.019144809308489164,
          -2.6857000975704968,
          2.409110024865576,
          0.7630728707487988,
          -0.5363553094407221,
          3.579274758916816,
          1.7403572130316947,
          2.1155204892500583,
          -0.23684543211384057,
          1.4807809099798395,
          -2.048307406867856,
          0.3979024166080757,
          -0.7624951704395116,
          -1.8473625086824854,
          -2.481475043224805,
          -1.6450104421052794,
          -0.35350234171712225,
          1.2770792274600793,
          0.4374208923435576,
          -0.7046665082358197,
          1.593039132993824,
          2.220881615741006,
          -2.3609092661589486,
          -1.3306660384352158,
          -0.25423933158686823,
          2.333227366057409,
          -0.011025774877418293,
          3.062995657436037,
          0.3284624791881926,
          0.4082575901073249,
          0.4212707881193677,
          8.305077887541337,
          0.9807474402996862,
          -0.700003965373825,
          -1.8038975837347575,
          1.611764229664051,
          2.6258752102297187,
          0.49128843358538044,
          1.1070836602959637,
          1.0412526825308455,
          0.3483054005532219,
          -0.4898799138586669,
          -0.0678876147140941,
          -0.44578881508207635,
          -1.812895857371866,
          -2.0361265859929487,
          -3.4184999978896204,
          -1.041178929870667,
          -1.3708280029656903,
          -2.214391607612005,
          -0.6710060336332602,
          2.1874175971887677,
          0.23748091502994328,
          -2.2955248589465618,
          -3.225007871716443,
          0.5876686600685503,
          -1.3863971188057675,
          1.40180717161856,
          3.03018909432155,
          1.9370992289205646,
          -0.8555141731011038,
          -2.3113366383751663,
          -0.8282679918361149,
          0.33890082584676406,
          -1.0695258938287486,
          -3.5166396037588825,
          -1.4175261578557394,
          -0.12245542495752004,
          0.19991896562491418,
          -1.057880649786311,
          -1.8503466017656107,
          3.021762484066261,
          -2.1542391417702076,
          -2.6858562549190017,
          -2.3609092661589486,
          -5.203556859125789,
          -2.5521271590627537,
          -0.8123170715435818,
          0.4187814532456178,
          -2.9499949937164027,
          -1.3426600694169601,
          -0.6309816425855712,
          4.104895746793632,
          1.865177192869441,
          -0.7102093723413374,
          1.423522614224631,
          9.271214649202353,
          0.39449289374611973
         ],
         "yaxis": "y"
        },
        {
         "customdata": [
          [
           "Mattia Bani",
           "Parma Calcio 1913",
           "Centre-Back"
          ],
          [
           "Mohamed Simakan",
           "RB Leipzig",
           "Centre-Back"
          ],
          [
           "Germán Pezzella",
           "Real Betis Balompié",
           "Centre-Back"
          ],
          [
           "Federico Ceccherini",
           "Hellas Verona",
           "Centre-Back"
          ],
          [
           "Lamine Koné",
           "RC Strasbourg Alsace",
           "Centre-Back"
          ],
          [
           "Ibrahima Konaté",
           "Liverpool FC",
           "Centre-Back"
          ],
          [
           "Harry Maguire",
           "Manchester United",
           "Centre-Back"
          ],
          [
           "Mattia Caldara",
           "Atalanta BC",
           "Centre-Back"
          ],
          [
           "Craig Dawson",
           "Watford FC",
           "Centre-Back"
          ],
          [
           "Cristian Romero",
           "Atalanta BC",
           "Centre-Back"
          ],
          [
           "Dan Burn",
           "Newcastle United",
           "Centre-Back"
          ],
          [
           "Jeison Murillo",
           "Valencia CF",
           "Centre-Back"
          ],
          [
           "Sergi Gómez",
           "RCD Espanyol Barcelona",
           "Centre-Back"
          ],
          [
           "Jonás Ramalho",
           "CA Osasuna",
           "Centre-Back"
          ],
          [
           "Maximilian Wöber",
           "Sevilla FC",
           "Centre-Back"
          ],
          [
           "Lucas Hernández",
           "Bayern Munich",
           "Centre-Back"
          ],
          [
           "Chris Smalling",
           "AS Roma",
           "Centre-Back"
          ],
          [
           "Dayot Upamecano",
           "Bayern Munich",
           "Centre-Back"
          ],
          [
           "Gianluca Mancini",
           "AS Roma",
           "Centre-Back"
          ],
          [
           "Marcel Tisserand",
           "VfL Wolfsburg",
           "Centre-Back"
          ],
          [
           "Issa Diop",
           "West Ham United",
           "Centre-Back"
          ],
          [
           "Timothée Kolodziejczak",
           "AS Saint-Étienne",
           "Centre-Back"
          ],
          [
           "Fikayo Tomori",
           "AC Milan",
           "Centre-Back"
          ],
          [
           "Mattia Caldara",
           "AC Milan",
           "Centre-Back"
          ],
          [
           "Kevin Akpoguma",
           "Hannover 96",
           "Centre-Back"
          ],
          [
           "Leonardo Balerdi",
           "Olympique Marseille",
           "Centre-Back"
          ],
          [
           "Mats Hummels",
           "Borussia Dortmund",
           "Centre-Back"
          ],
          [
           "Naldo",
           "AS Monaco",
           "Centre-Back"
          ],
          [
           "Wesley Fofana",
           "Leicester City",
           "Centre-Back"
          ],
          [
           "Alfie Mawson",
           "Fulham FC",
           "Centre-Back"
          ],
          [
           "Merih Demiral",
           "Atalanta BC",
           "Centre-Back"
          ],
          [
           "Carlos Salcedo",
           "Eintracht Frankfurt",
           "Centre-Back"
          ],
          [
           "Ozan Kabak",
           "FC Schalke 04",
           "Centre-Back"
          ],
          [
           "Yerry Mina",
           "Everton FC",
           "Centre-Back"
          ],
          [
           "Jules Koundé",
           "Sevilla FC",
           "Centre-Back"
          ],
          [
           "Gabriel",
           "Arsenal FC",
           "Centre-Back"
          ],
          [
           "Joris Gnagnon",
           "Sevilla FC",
           "Centre-Back"
          ],
          [
           "Laurent Koscielny",
           "FC Girondins Bordeaux",
           "Centre-Back"
          ],
          [
           "Marvin Friedrich",
           "Borussia Mönchengladbach",
           "Centre-Back"
          ],
          [
           "Martin Erlic",
           "US Sassuolo",
           "Centre-Back"
          ],
          [
           "Kevin Danso",
           "Southampton FC",
           "Centre-Back"
          ],
          [
           "Ömer Toprak",
           "SV Werder Bremen",
           "Centre-Back"
          ],
          [
           "Craig Dawson",
           "West Ham United",
           "Centre-Back"
          ],
          [
           "Jonny Evans",
           "Leicester City",
           "Centre-Back"
          ],
          [
           "Karim Rekik",
           "Sevilla FC",
           "Centre-Back"
          ],
          [
           "Chris Smalling",
           "AS Roma",
           "Centre-Back"
          ],
          [
           "Salif Sané",
           "FC Schalke 04",
           "Centre-Back"
          ],
          [
           "Philipp Lienhart",
           "SC Freiburg",
           "Centre-Back"
          ],
          [
           "Felipe",
           "Atlético de Madrid",
           "Centre-Back"
          ],
          [
           "Fernando Calero",
           "RCD Espanyol Barcelona",
           "Centre-Back"
          ],
          [
           "Koray Günter",
           "Hellas Verona",
           "Centre-Back"
          ],
          [
           "Danilo",
           "Bologna FC 1909",
           "Centre-Back"
          ],
          [
           "Martín Cáceres",
           "Juventus FC",
           "Centre-Back"
          ],
          [
           "Armando Izzo",
           "Torino FC",
           "Centre-Back"
          ],
          [
           "Lilian Brassier",
           "Stade Brestois 29",
           "Centre-Back"
          ],
          [
           "Jeison Murillo",
           "FC Barcelona",
           "Centre-Back"
          ],
          [
           "Cristian Romero",
           "Atalanta BC",
           "Centre-Back"
          ],
          [
           "Joachim Andersen",
           "Olympique Lyon",
           "Centre-Back"
          ],
          [
           "Luca Rossettini",
           "US Lecce",
           "Centre-Back"
          ],
          [
           "Kenneth Omeruo",
           "CD Leganés",
           "Centre-Back"
          ],
          [
           "Marash Kumbulla",
           "AS Roma",
           "Centre-Back"
          ],
          [
           "Cristian Romero",
           "Juventus FC",
           "Centre-Back"
          ],
          [
           "Sebastien De Maio",
           "Udinese Calcio",
           "Centre-Back"
          ],
          [
           "Pascal Stenzel",
           "VfB Stuttgart",
           "Centre-Back"
          ],
          [
           "Ozan Kabak",
           "Norwich City",
           "Centre-Back"
          ],
          [
           "Molla Wagué",
           "FC Nantes",
           "Centre-Back"
          ],
          [
           "Ben White",
           "Arsenal FC",
           "Centre-Back"
          ],
          [
           "Adama Soumaoro",
           "Bologna FC 1909",
           "Centre-Back"
          ],
          [
           "Daniele Rugani",
           "Stade Rennais FC",
           "Centre-Back"
          ],
          [
           "Marco Friedl",
           "SV Werder Bremen",
           "Centre-Back"
          ],
          [
           "Kevin Vogt",
           "SV Werder Bremen",
           "Centre-Back"
          ],
          [
           "Marash Kumbulla",
           "AS Roma",
           "Centre-Back"
          ],
          [
           "Guillermo Maripán",
           "AS Monaco",
           "Centre-Back"
          ],
          [
           "Nathan Aké",
           "Manchester City",
           "Centre-Back"
          ],
          [
           "Robin Koch",
           "Leeds United",
           "Centre-Back"
          ],
          [
           "Federico Ceccherini",
           "ACF Fiorentina",
           "Centre-Back"
          ],
          [
           "William Saliba",
           "Arsenal FC",
           "Centre-Back"
          ],
          [
           "Jannik Vestergaard",
           "Leicester City",
           "Centre-Back"
          ],
          [
           "Ozan Kabak",
           "Liverpool FC",
           "Centre-Back"
          ],
          [
           "Raphaël Varane",
           "Manchester United",
           "Centre-Back"
          ],
          [
           "Martin Hinteregger",
           "Eintracht Frankfurt",
           "Centre-Back"
          ],
          [
           "Riccardo Gagliolo",
           "US Salernitana 1919",
           "Centre-Back"
          ],
          [
           "Martin Hinteregger",
           "Eintracht Frankfurt",
           "Centre-Back"
          ],
          [
           "Christophe Hérelle",
           "Stade Brestois 29",
           "Centre-Back"
          ],
          [
           "Álvaro González",
           "Olympique Marseille",
           "Centre-Back"
          ],
          [
           "Kevin Wimmer",
           "Hannover 96",
           "Centre-Back"
          ],
          [
           "Gianluca Mancini",
           "AS Roma",
           "Centre-Back"
          ],
          [
           "Dominique Heintz",
           "1.FC Union Berlin",
           "Centre-Back"
          ],
          [
           "Julian Chabot",
           "Spezia Calcio",
           "Centre-Back"
          ],
          [
           "Ragnar Klavan",
           "Cagliari Calcio",
           "Centre-Back"
          ],
          [
           "Giangiacomo Magnani",
           "Hellas Verona",
           "Centre-Back"
          ],
          [
           "Lorenzo Tonelli",
           "UC Sampdoria",
           "Centre-Back"
          ],
          [
           "Leandro Cabrera",
           "RCD Espanyol Barcelona",
           "Centre-Back"
          ],
          [
           "Jean-Clair Todibo",
           "OGC Nice",
           "Centre-Back"
          ],
          [
           "Ardian Ismajli",
           "FC Empoli",
           "Centre-Back"
          ],
          [
           "Fabian Schär",
           "Newcastle United",
           "Centre-Back"
          ],
          [
           "Wesley Hoedt",
           "SS Lazio",
           "Centre-Back"
          ],
          [
           "Björn Engels",
           "Stade Reims",
           "Centre-Back"
          ],
          [
           "Joachim Andersen",
           "Fulham FC",
           "Centre-Back"
          ],
          [
           "Rick van Drongelen",
           "1.FC Union Berlin",
           "Centre-Back"
          ],
          [
           "Josip Elez",
           "Hannover 96",
           "Centre-Back"
          ],
          [
           "Francesco Acerbi",
           "SS Lazio",
           "Centre-Back"
          ],
          [
           "Thilo Kehrer",
           "Paris Saint-Germain",
           "Centre-Back"
          ],
          [
           "Danilo",
           "Bologna FC 1909",
           "Centre-Back"
          ],
          [
           "Joachim Andersen",
           "Crystal Palace",
           "Centre-Back"
          ],
          [
           "Ben Godfrey",
           "Everton FC",
           "Centre-Back"
          ],
          [
           "Kurt Zouma",
           "West Ham United",
           "Centre-Back"
          ],
          [
           "Luca Kilian",
           "1. FC Köln",
           "Centre-Back"
          ],
          [
           "Sokratis Papastathopoulos",
           "Arsenal FC",
           "Centre-Back"
          ],
          [
           "Alex Ferrari",
           "UC Sampdoria",
           "Centre-Back"
          ],
          [
           "Craig Dawson",
           "West Ham United",
           "Centre-Back"
          ],
          [
           "Björn Engels",
           "Aston Villa",
           "Centre-Back"
          ],
          [
           "Matteo Lovato",
           "Atalanta BC",
           "Centre-Back"
          ],
          [
           "Daniele Rugani",
           "Cagliari Calcio",
           "Centre-Back"
          ],
          [
           "Dominique Heintz",
           "SC Freiburg",
           "Centre-Back"
          ],
          [
           "Kurt Zouma",
           "Everton FC",
           "Centre-Back"
          ],
          [
           "Lorenzo Tonelli",
           "FC Empoli",
           "Centre-Back"
          ],
          [
           "Pablo Insua",
           "SD Huesca",
           "Centre-Back"
          ],
          [
           "Ignasi Miquel",
           "Getafe CF",
           "Centre-Back"
          ],
          [
           "Mattia Bani",
           "Genoa CFC",
           "Centre-Back"
          ],
          [
           "Kevin Danso",
           "RC Lens",
           "Centre-Back"
          ],
          [
           "Bartosz Salamon",
           "SPAL",
           "Centre-Back"
          ],
          [
           "Mattia Bani",
           "Bologna FC 1909",
           "Centre-Back"
          ],
          [
           "Koffi Djidji",
           "Torino FC",
           "Centre-Back"
          ],
          [
           "Leandro Cabrera",
           "Getafe CF",
           "Centre-Back"
          ],
          [
           "Nayef Aguerd",
           "Stade Rennais FC",
           "Centre-Back"
          ],
          [
           "Reece Oxford",
           "FC Augsburg",
           "Centre-Back"
          ],
          [
           "Leonardo Bonucci",
           "Juventus FC",
           "Centre-Back"
          ],
          [
           "Diego Llorente",
           "Leeds United",
           "Centre-Back"
          ],
          [
           "Sidnei",
           "Real Betis Balompié",
           "Centre-Back"
          ],
          [
           "Clément Lenglet",
           "FC Barcelona",
           "Centre-Back"
          ],
          [
           "Ben Davies",
           "Liverpool FC",
           "Centre-Back"
          ],
          [
           "Merih Demiral",
           "Juventus FC",
           "Centre-Back"
          ],
          [
           "Julian Chabot",
           "1. FC Köln",
           "Centre-Back"
          ],
          [
           "Gerzino Nyamsi",
           "RC Strasbourg Alsace",
           "Centre-Back"
          ],
          [
           "Christophe Hérelle",
           "OGC Nice",
           "Centre-Back"
          ],
          [
           "Filippo Romagna",
           "US Sassuolo",
           "Centre-Back"
          ],
          [
           "Mario Hermoso",
           "Atlético de Madrid",
           "Centre-Back"
          ],
          [
           "Terence Kongolo",
           "Fulham FC",
           "Centre-Back"
          ],
          [
           "Sebastiano Luperto",
           "FC Empoli",
           "Centre-Back"
          ],
          [
           "Kaan Ayhan",
           "US Sassuolo",
           "Centre-Back"
          ],
          [
           "Kevin Bonifazi",
           "Bologna FC 1909",
           "Centre-Back"
          ],
          [
           "Marco Capuano",
           "Frosinone Calcio",
           "Centre-Back"
          ],
          [
           "Kevin Bonifazi",
           "Udinese Calcio",
           "Centre-Back"
          ],
          [
           "Marlon",
           "US Sassuolo",
           "Centre-Back"
          ],
          [
           "Facundo Roncaglia",
           "CA Osasuna",
           "Centre-Back"
          ],
          [
           "Adama Soumaoro",
           "Bologna FC 1909",
           "Centre-Back"
          ],
          [
           "Erick Cabaco",
           "Getafe CF",
           "Centre-Back"
          ],
          [
           "Federico Fernández",
           "Newcastle United",
           "Centre-Back"
          ],
          [
           "Edoardo Goldaniga",
           "Cagliari Calcio",
           "Centre-Back"
          ],
          [
           "Mouctar Diakhaby",
           "Valencia CF",
           "Centre-Back"
          ],
          [
           "Jeison Murillo",
           "Celta de Vigo",
           "Centre-Back"
          ],
          [
           "Merih Demiral",
           "US Sassuolo",
           "Centre-Back"
          ]
         ],
         "hovertemplate": "position=%{customdata[2]}<br>PC1=%{x}<br>PC5=%{y}<br>player_name=%{customdata[0]}<br>club_name=%{customdata[1]}<br>fee_infladj=%{marker.color}<extra></extra>",
         "legendgroup": "Centre-Back",
         "marker": {
          "color": [
           1.5388196030212544,
           15,
           3.5,
           3,
           1.542613136115513,
           40,
           89.47156189469978,
           0.925567881669308,
           6.170452544462053,
           16,
           15,
           12.48898128898129,
           1,
           0.7,
           10.798291952808594,
           82.27270059282738,
           15.388196030212542,
           42.5,
           2.0568175148206844,
           7.285239085239086,
           26.01871101871102,
           4.616458809063763,
           28.8,
           38.37239501039501,
           0.2289646569646569,
           11,
           31.36646710101544,
           2.0814968814968817,
           35.9057907371626,
           17.53661122661123,
           3,
           5.2037422037422045,
           15.426131361155132,
           31.482640332640337,
           25.71021893525856,
           26.672873119035074,
           14.050103950103953,
           5.142043787051711,
           5.5,
           3.5,
           4.113635029641369,
           1.0284087574103422,
           2.3,
           4.1629937629937634,
           2.0517594706950057,
           3.085226272231026,
           7.285239085239086,
           2.0814968814968817,
           20.568175148206844,
           8.227270059282738,
           2.0517594706950057,
           0.426789634325292,
           0.6244490644490645,
           11.136008316008317,
           2,
           1.248898128898129,
           2.3800409860062066,
           24.681810177848213,
           0.5142043787051711,
           5.142043787051711,
           26.5,
           32.39487585842578,
           1.542613136115513,
           1.3336436559517535,
           4,
           1.2340905088924106,
           58.5,
           0.1795289536858129,
           1.0874325194683532,
           3.5994306509361977,
           0.7713065680577567,
           3.077639206042509,
           18.51135763338616,
           46.472352011241874,
           13.336436559517535,
           3.7466943866943874,
           30.852262722310265,
           17.6,
           1.1284677088822532,
           40,
           0.8325987525987527,
           2,
           9.25567881669308,
           4.103518941390012,
           4.103518941390012,
           1.5611226611226612,
           21.54347444229756,
           0.15,
           0.2051759470695006,
           1.5819376299376302,
           4,
           0.5203742203742204,
           9.25567881669308,
           8.5,
           2,
           4.1629937629937634,
           1.0258797353475029,
           4.113635029641369,
           1.0258797353475029,
           0.5,
           2.6018711018711023,
           12.48898128898129,
           38.50769230769231,
           0.4319106029106029,
           17.5,
           28.21169272205633,
           35,
           0.25,
           16.651975051975054,
           3.702271526677232,
           1.1284677088822532,
           8.227270059282738,
           8,
           0.8207037882780024,
           3.1222453222453224,
           8.221912681912682,
           1,
           0.2564699338368757,
           5.2037422037422045,
           5.129398676737514,
           5.5,
           2.0814968814968817,
           2.7767036450079243,
           3.085226272231026,
           0.6244490644490645,
           4.103518941390012,
           2.0568175148206844,
           36.42619542619543,
           20.517594706950057,
           4.683367983367984,
           37.36286902286903,
           1.8978775103928804,
           20.053970769501674,
           0.3,
           1.5,
           5.2037422037422045,
           4.103518941390012,
           25.71021893525856,
           4.513870835529013,
           0.5,
           2.564699338368757,
           6,
           0.5203742203742204,
           1.0258797353475029,
           12.48898128898129,
           0.2571021893525855,
           2.5,
           8.227270059282738,
           6.973014553014554,
           0.4,
           15.611226611226613,
           1.0284087574103422,
           8.227270059282738
          ],
          "coloraxis": "coloraxis",
          "symbol": "circle"
         },
         "mode": "markers",
         "name": "Centre-Back",
         "orientation": "v",
         "showlegend": true,
         "type": "scatter",
         "x": [
          -0.0017763859370859003,
          0.06413665861980844,
          3.3269028685999915,
          -2.6360484515400424,
          -0.04803741199221989,
          -3.832517989260513,
          7.910793088134479,
          -5.835465521507706,
          -4.255010177448442,
          -0.20106427499460663,
          -0.04665106602295241,
          -3.8283039623671833,
          -1.857393674081623,
          -4.512393816691272,
          -6.9629102422394125,
          -0.5875007473731471,
          0.47019629989974676,
          4.188539765492749,
          -0.7842465850770952,
          -3.196233523646743,
          1.8212637686170674,
          2.4233938432696682,
          -6.6941732925091655,
          0.3758685126486101,
          0.1925974634682403,
          -8.190968223605342,
          5.9533027322412915,
          4.86645544605383,
          -3.6447067349052853,
          5.20248258911364,
          -6.3019196731962435,
          -1.3601465412329876,
          -7.402035616435264,
          -7.6912525825718925,
          2.635262492184113,
          -2.3396612314356675,
          1.1388061491949133,
          1.2280293830189877,
          -3.2123569654418267,
          -0.7795659534368696,
          -4.1107229285682365,
          -4.058671009308471,
          -3.1726112256041397,
          -0.23953583734830558,
          -1.0201857722453562,
          -0.6429055409453939,
          7.5910940356796015,
          -6.960927485032193,
          -6.441701722811332,
          3.032561156791668,
          -2.4023412165983045,
          0.2843714062072401,
          -7.358159199161427,
          -1.7403695864467172,
          -3.379943824636219,
          -3.8283039623671833,
          -1.832904738879805,
          -0.6738084524840081,
          -2.686775862745814,
          -6.3805248770528715,
          -1.4642399432199569,
          -5.416007586071466,
          -3.7955848190887207,
          -2.7140381065313557,
          -4.325055145446731,
          -10.308183037611144,
          7.17483508754569,
          -5.4394294603694355,
          -3.515143610480431,
          -7.452792808416044,
          5.016103440112962,
          0.4192920848162524,
          -3.332940979919735,
          4.12043530810897,
          0.3735060911007012,
          2.4562301641603668,
          -3.8090863831226747,
          2.191260103708543,
          -4.5637825757636605,
          2.8065273554906063,
          3.4340791397649477,
          1.1565154344963149,
          -0.05250780119446676,
          1.9205022026713405,
          0.8853629419758002,
          -4.202995406908483,
          1.2954931673238095,
          2.869515529676709,
          -9.475121159333511,
          -0.41401278192015334,
          -7.662089755802899,
          -8.072537633567906,
          -2.350897273675477,
          -7.813334038289371,
          -7.887014914238588,
          1.0886304131463296,
          -4.106881668545797,
          0.9220597360022112,
          -0.6373433170351237,
          -7.535652652084215,
          -6.59508210879479,
          5.780882130329755,
          3.5003862659126854,
          2.492733471113757,
          -3.48970737669235,
          2.804263232438341,
          3.031838566480391,
          -5.958910156782895,
          5.848739781543761,
          -1.8467088710147128,
          -2.993575751168261,
          0.9220597360022112,
          -8.102527390975913,
          -4.3483312808327605,
          4.897500038133094,
          3.246249835448856,
          -4.075874944006101,
          -9.685220050022949,
          -3.7321442009602244,
          -0.4159987071928894,
          -7.160366820283388,
          -1.122752480625357,
          -1.2444433497044947,
          -5.6496776480851665,
          -6.877032434942846,
          -7.092562676771091,
          -7.428955380385926,
          7.195626416426389,
          1.904577885335582,
          -1.6465157097178598,
          4.652980577080094,
          4.618606305540552,
          -7.829767517002047,
          -6.124921620963869,
          -6.441802772421717,
          1.4680306921575028,
          -2.8346517889966925,
          1.250914342343829,
          -6.573746064062752,
          -5.036046939010141,
          5.722403969138047,
          -1.8097848380623422,
          -6.544217462496581,
          -2.913383223864981,
          0.018183008195607808,
          -4.157625128985589,
          -7.091271984193081,
          -4.561287094684372,
          0.7067711587883837,
          -2.813280188207806,
          -6.332106599863841,
          -7.937551759015603,
          -6.42409017078139
         ],
         "xaxis": "x",
         "y": [
          0.6428759838469391,
          0.09688630330798122,
          0.7026126695000633,
          1.2587204116701094,
          2.2975223923552837,
          1.8426666839870405,
          1.7725178188182258,
          -0.04997805604736949,
          -2.1615352047674783,
          -0.9642710727475056,
          -2.965718556756485,
          1.9819135717958531,
          2.3580187763473095,
          1.0362114221179484,
          0.8850479575579315,
          -0.8390597899670249,
          2.6473482821862255,
          1.9149662960474099,
          1.435644012873365,
          1.1249735002947348,
          1.8449589336486942,
          0.7426615175069422,
          0.25451519327599437,
          2.19874089417602,
          0.38553416478240365,
          -0.9947720696976399,
          2.6362094099118347,
          3.638353960354438,
          2.3854761505071727,
          2.5708940991776155,
          2.1103882617275476,
          1.388476041215676,
          -0.061489723003555596,
          2.4560120794131994,
          1.9396121351252635,
          -3.7842924511496303,
          1.6983235265949739,
          4.504675427101005,
          -0.7519387261692394,
          4.465230358339425,
          2.031642815712333,
          0.23467972680803184,
          0.0251387596289554,
          2.074018522751853,
          2.6210727472011817,
          2.269610150501716,
          2.7331533003168067,
          1.6497833127910986,
          2.0543820747230863,
          1.3766791283854318,
          0.8686336271082674,
          1.8753536600306109,
          3.290645653767321,
          2.0946104849741904,
          3.2565300196279567,
          1.9819135717958531,
          -1.2527176954826114,
          2.9759503386695867,
          1.7848561347739271,
          -0.79856795577012,
          1.3234884680581727,
          -1.5024633595462489,
          2.715642273693599,
          -1.229271108445253,
          0.7805148789339367,
          0.4476077481592404,
          -1.5689571797280253,
          3.109168877493093,
          3.447339037977068,
          1.1725152083294674,
          3.398125189243971,
          -0.33957323797220207,
          0.9604801542044985,
          1.0948234735464588,
          1.617566190205813,
          0.4668280305230458,
          0.8268324626198194,
          1.5646522704623698,
          0.6255588792438233,
          3.365090651678935,
          -0.537793313786193,
          -1.7116044074348706,
          0.12233792936785629,
          2.2262497940356,
          1.4596005143214852,
          -0.057475263072523264,
          1.1078719928243064,
          1.7475539020508566,
          1.5464183964465028,
          4.875631433386227,
          -0.41201220290181384,
          3.668865190070404,
          -0.7050958161984049,
          0.1334118619587612,
          0.4109255734713413,
          0.7620350581925192,
          -0.24165175180401266,
          3.449046110144935,
          3.502783538107149,
          -1.2156408467849775,
          1.3870127326571042,
          -0.6569402540537961,
          -0.21439483053560182,
          1.8276039650513543,
          2.052413402012672,
          2.127231182010504,
          2.570076301218026,
          1.2160683414855673,
          3.0526578703707603,
          -0.8349719688444752,
          -0.9404893179356636,
          3.449046110144935,
          -0.8669054573666513,
          3.135212863114075,
          0.9267006946380694,
          -1.364626460546884,
          2.470683026548474,
          -0.14649997094850598,
          0.09574922724916757,
          0.36663691708107293,
          0.724416482337549,
          0.4487916319459225,
          -0.18584121645066032,
          -1.891439460800389,
          -0.2673716938145232,
          1.4182747615107696,
          1.80054959606117,
          3.5939897037844055,
          2.5210920332570446,
          1.7688300347673618,
          1.500379324015793,
          -0.6175150500116122,
          0.3618766946755545,
          1.6702030504483818,
          2.8246289291376043,
          1.0047448331249154,
          1.77133171842025,
          2.9967524548068605,
          -2.315305961688605,
          1.3957681324610771,
          2.9362215381597463,
          1.4904760362637395,
          0.24903178890676458,
          1.777225588234277,
          2.535493744272096,
          1.6958909930700052,
          1.7572024065521297,
          1.7881013181151537,
          1.694590692361059,
          1.2710836953600841,
          4.657939316684235,
          -0.15839171723745205,
          1.2487345949909918
         ],
         "yaxis": "y"
        },
        {
         "customdata": [
          [
           "Arkadiusz Reca",
           "FC Crotone",
           "Left-Back"
          ],
          [
           "Jetro Willems",
           "Newcastle United",
           "Left-Back"
          ],
          [
           "Aarón Martín",
           "1.FSV Mainz 05",
           "Left-Back"
          ],
          [
           "Luca Netz",
           "Borussia Mönchengladbach",
           "Left-Back"
          ],
          [
           "Marc Cucurella",
           "Getafe CF",
           "Left-Back"
          ],
          [
           "Ludwig Augustinsson",
           "Sevilla FC",
           "Left-Back"
          ],
          [
           "Pervis Estupiñán",
           "Villarreal CF",
           "Left-Back"
          ],
          [
           "Danny Rose",
           "Newcastle United",
           "Left-Back"
          ],
          [
           "Aleksandar Kolarov",
           "Inter Milan",
           "Left-Back"
          ],
          [
           "Jérôme Roussillon",
           "VfL Wolfsburg",
           "Left-Back"
          ],
          [
           "Antonio Barreca",
           "AS Monaco",
           "Left-Back"
          ],
          [
           "Bernardo",
           "Brighton & Hove Albion",
           "Left-Back"
          ],
          [
           "Junior Firpo",
           "Leeds United",
           "Left-Back"
          ],
          [
           "Nacho Monreal",
           "Real Sociedad",
           "Left-Back"
          ],
          [
           "Cristian Ansaldi",
           "Torino FC",
           "Left-Back"
          ],
          [
           "Cristian Dell'Orco",
           "US Lecce",
           "Left-Back"
          ],
          [
           "Johan Mojica",
           "Atalanta BC",
           "Left-Back"
          ],
          [
           "Souleyman Doumbia",
           "SCO Angers",
           "Left-Back"
          ],
          [
           "Leonardo Spinazzola",
           "AS Roma",
           "Left-Back"
          ],
          [
           "Junior Firpo",
           "FC Barcelona",
           "Left-Back"
          ],
          [
           "Melvin Bard",
           "OGC Nice",
           "Left-Back"
          ],
          [
           "Nico Schulz",
           "Borussia Dortmund",
           "Left-Back"
          ],
          [
           "Antonio Barreca",
           "Newcastle United",
           "Left-Back"
          ],
          [
           "Youssouf Koné",
           "Olympique Lyon",
           "Left-Back"
          ],
          [
           "Ismail Jakobs",
           "AS Monaco",
           "Left-Back"
          ],
          [
           "Emerson",
           "Olympique Lyon",
           "Left-Back"
          ],
          [
           "Erik Pieters",
           "Burnley FC",
           "Left-Back"
          ],
          [
           "Marc Cucurella",
           "SD Eibar",
           "Left-Back"
          ],
          [
           "Hamza Mendyl",
           "FC Schalke 04",
           "Left-Back"
          ],
          [
           "Aarón Martín",
           "1.FSV Mainz 05",
           "Left-Back"
          ],
          [
           "Mitchel Bakker",
           "Bayer 04 Leverkusen",
           "Left-Back"
          ],
          [
           "Ferland Mendy",
           "Real Madrid",
           "Left-Back"
          ],
          [
           "Jonathan Silva",
           "Getafe CF",
           "Left-Back"
          ],
          [
           "Diego Laxalt",
           "AC Milan",
           "Left-Back"
          ],
          [
           "Ashley Young",
           "Inter Milan",
           "Left-Back"
          ],
          [
           "Johan Mojica",
           "Girona FC",
           "Left-Back"
          ],
          [
           "Jamal Lewis",
           "Newcastle United",
           "Left-Back"
          ],
          [
           "Juan Bernat",
           "Paris Saint-Germain",
           "Left-Back"
          ],
          [
           "Hassane Kamara",
           "OGC Nice",
           "Left-Back"
          ],
          [
           "Diego Laxalt",
           "Torino FC",
           "Left-Back"
          ],
          [
           "Ramy Bensebaini",
           "Borussia Mönchengladbach",
           "Left-Back"
          ],
          [
           "Lionel Carole",
           "RC Strasbourg Alsace",
           "Left-Back"
          ],
          [
           "Diego Rico",
           "AFC Bournemouth",
           "Left-Back"
          ],
          [
           "Fodé Ballo-Touré",
           "AS Monaco",
           "Left-Back"
          ],
          [
           "Abdou Diallo",
           "Borussia Dortmund",
           "Left-Back"
          ],
          [
           "Matt Targett",
           "Aston Villa",
           "Left-Back"
          ],
          [
           "Diego Rico",
           "Real Sociedad",
           "Left-Back"
          ],
          [
           "Vitorino Antunes",
           "Getafe CF",
           "Left-Back"
          ],
          [
           "Hassane Kamara",
           "Watford FC",
           "Left-Back"
          ],
          [
           "Rogério",
           "US Sassuolo",
           "Left-Back"
          ],
          [
           "Bruno Martella",
           "Brescia Calcio",
           "Left-Back"
          ],
          [
           "Theo Hernández",
           "AC Milan",
           "Left-Back"
          ],
          [
           "Jonathan Silva",
           "CD Leganés",
           "Left-Back"
          ],
          [
           "Ben Chilwell",
           "Chelsea FC",
           "Left-Back"
          ],
          [
           "Adam Masina",
           "Watford FC",
           "Left-Back"
          ],
          [
           "Johan Mojica",
           "Elche CF",
           "Left-Back"
          ],
          [
           "Ricardo Rodríguez",
           "Torino FC",
           "Left-Back"
          ],
          [
           "Fodé Ballo-Touré",
           "AC Milan",
           "Left-Back"
          ],
          [
           "Marc Cucurella",
           "FC Barcelona",
           "Left-Back"
          ],
          [
           "Marvin Zeegelaar",
           "Udinese Calcio",
           "Left-Back"
          ],
          [
           "Lucas Digne",
           "Everton FC",
           "Left-Back"
          ],
          [
           "Jordan Amavi",
           "Olympique Marseille",
           "Left-Back"
          ]
         ],
         "hovertemplate": "position=%{customdata[2]}<br>PC1=%{x}<br>PC5=%{y}<br>player_name=%{customdata[0]}<br>club_name=%{customdata[1]}<br>fee_infladj=%{marker.color}<extra></extra>",
         "legendgroup": "Left-Back",
         "marker": {
          "color": [
           0.1025879735347503,
           1.0284087574103422,
           6.170452544462053,
           2,
           12.105380877100536,
           5.5,
           16.824427659699047,
           2.0568175148206844,
           1.5388196030212544,
           5.2037422037422045,
           10.407484407484407,
           10.407484407484407,
           15,
           0.2571021893525855,
           2.5710218935258555,
           0.2571021893525855,
           0.5334574623807015,
           3.077639206042509,
           30.33805834360509,
           20.568175148206844,
           3,
           26.22442331396373,
           1.196860706860707,
           9.25567881669308,
           6.5,
           0.5,
           1.1312496331513766,
           2.0568175148206844,
           6.244490644490645,
           3.1222453222453224,
           7,
           49.363620355696426,
           2.5,
           19.774220374220377,
           1.7482948875975817,
           5.2037422037422045,
           16.927015633233797,
           5.2037422037422045,
           4.103518941390012,
           0.5142043787051711,
           8.227270059282738,
           0.7805613305613306,
           15.611226611226613,
           11.44823284823285,
           29.140956340956343,
           15.940335739860304,
           0.5,
           2.6018711018711023,
           4,
           7.147440864001879,
           0.8227270059282739,
           22.11078828432236,
           2.7767036450079243,
           51.49916271444464,
           5.2037422037422045,
           1.2,
           2.0004654839276306,
           5,
           4.113635029641369,
           0.3122245322245322,
           21.023118503118503,
           10.407484407484407
          ],
          "coloraxis": "coloraxis",
          "symbol": "diamond"
         },
         "mode": "markers",
         "name": "Left-Back",
         "orientation": "v",
         "showlegend": true,
         "type": "scatter",
         "x": [
          -6.979062017078078,
          0.3506773662636249,
          8.96764440073396,
          -7.0410415019232016,
          8.639568962026852,
          4.960502596995079,
          15.147576615955897,
          1.5123339905043212,
          16.635021036936703,
          4.161870077395356,
          -7.388718450201035,
          0.07434069574035249,
          -1.6402578347395467,
          5.157371712049899,
          5.367190006710897,
          -6.737828418154601,
          -2.679177868346522,
          -8.63447467360595,
          -1.5828950724204072,
          0.6540355265179906,
          -5.614216932037964,
          8.237747371271379,
          -7.388718450201035,
          3.485250974673536,
          -0.31287312659282185,
          5.629988352998894,
          3.096915002918978,
          5.803316724769829,
          -5.35820113963601,
          7.107973562158916,
          2.953093389796898,
          10.145599005501873,
          -2.322661757553016,
          9.185797689168513,
          11.56031929682189,
          6.688443818970978,
          5.192829123267449,
          -3.404644947820612,
          0.07516178848386026,
          2.4591239449759366,
          4.646659800592574,
          -6.193712392424993,
          8.404431925811036,
          1.6057634026450363,
          4.285235900434223,
          -0.7930171792941603,
          0.18091760722222566,
          7.460854378273584,
          3.965808477565223,
          2.3992572537328134,
          -3.26880630029172,
          1.7215689637618865,
          -1.8101765644765755,
          10.944301198582771,
          11.252217183790533,
          -2.4931111896844267,
          5.119912965532752,
          -0.01613800188811227,
          5.803316724769829,
          -3.5933631047915147,
          -3.7338998297896655,
          5.89540979556581
         ],
         "xaxis": "x",
         "y": [
          -2.5699907086081124,
          1.191618094437546,
          -1.2968905306590837,
          2.4922877203520697,
          -6.153667384784961,
          0.030767464374655273,
          -5.271155924645283,
          -0.6638575324524424,
          4.335500084008787,
          0.0248644788561333,
          0.8158203861837674,
          -0.9078337385708606,
          2.200800967036197,
          0.8155754643250649,
          -1.6339552301513622,
          1.7557073740955977,
          -3.2478958419747066,
          -0.2267971720910813,
          0.19658554100439773,
          0.2301129973773383,
          0.9099638805527142,
          -2.3648002044859253,
          0.8158203861837674,
          -2.703494651560917,
          -2.3580942452069693,
          -2.503959710709777,
          -3.161726459374262,
          -5.086155852408335,
          0.05529461752165643,
          -2.7600873701903326,
          -0.06939213133354838,
          -0.6393695618310329,
          -1.8465154102930899,
          -4.737692097840882,
          2.9966173276917387,
          -4.197094677678656,
          -2.5488728761395354,
          0.5698147511532808,
          -1.2564482618603479,
          -2.4625957611622775,
          -2.179187559812552,
          1.2701437183831716,
          -3.2664445882055375,
          -1.7084439493122638,
          -0.7361928441283517,
          0.6335507063086636,
          -0.8898846324917097,
          -1.9422344463187704,
          -1.831189900935935,
          -1.8967262247324415,
          -1.972165814331292,
          -1.139459001156841,
          -1.7586860310542363,
          -3.2724937271890524,
          -7.247866745160588,
          -2.4665576766324095,
          -0.2887115764833546,
          -1.2649180949174923,
          -5.086155852408335,
          -0.9073534127130432,
          1.289894165533818,
          -1.3993241561875855
         ],
         "yaxis": "y"
        },
        {
         "customdata": [
          [
           "Roberto Rosales",
           "CD Leganés",
           "Right-Back"
          ],
          [
           "Emil Krafth",
           "Amiens SC",
           "Right-Back"
          ],
          [
           "Ola Aina",
           "Fulham FC",
           "Right-Back"
          ],
          [
           "Allan Nyom",
           "Getafe CF",
           "Right-Back"
          ],
          [
           "Matteo Darmian",
           "Inter Milan",
           "Right-Back"
          ],
          [
           "Giovanni Di Lorenzo",
           "SSC Napoli",
           "Right-Back"
          ],
          [
           "Kieran Trippier",
           "Atlético de Madrid",
           "Right-Back"
          ],
          [
           "Juan Foyth",
           "Villarreal CF",
           "Right-Back"
          ],
          [
           "Alessandro Florenzi",
           "AC Milan",
           "Right-Back"
          ],
          [
           "Emil Krafth",
           "Newcastle United",
           "Right-Back"
          ],
          [
           "Arnaud Souquet",
           "Montpellier HSC",
           "Right-Back"
          ],
          [
           "Pablo Maffeo",
           "RCD Mallorca",
           "Right-Back"
          ],
          [
           "Davide Zappacosta",
           "Atalanta BC",
           "Right-Back"
          ],
          [
           "Djibril Sidibé",
           "Everton FC",
           "Right-Back"
          ],
          [
           "Michael Lang",
           "SV Werder Bremen",
           "Right-Back"
          ],
          [
           "Fabio Depaoli",
           "UC Sampdoria",
           "Right-Back"
          ],
          [
           "Sergi Palencia",
           "AS Saint-Étienne",
           "Right-Back"
          ],
          [
           "Vincent Laurini",
           "ACF Fiorentina",
           "Right-Back"
          ],
          [
           "Álvaro Odriozola",
           "Real Madrid",
           "Right-Back"
          ],
          [
           "Achraf Hakimi",
           "Inter Milan",
           "Right-Back"
          ],
          [
           "Danilo",
           "Juventus FC",
           "Right-Back"
          ],
          [
           "Pol Lirola",
           "Olympique Marseille",
           "Right-Back"
          ],
          [
           "Almamy Touré",
           "Eintracht Frankfurt",
           "Right-Back"
          ],
          [
           "Takehiro Tomiyasu",
           "Arsenal FC",
           "Right-Back"
          ],
          [
           "Pol Lirola",
           "ACF Fiorentina",
           "Right-Back"
          ],
          [
           "Fabrizio Cacciatore",
           "Cagliari Calcio",
           "Right-Back"
          ],
          [
           "Martín Montoya",
           "Brighton & Hove Albion",
           "Right-Back"
          ],
          [
           "Diogo Dalot",
           "AC Milan",
           "Right-Back"
          ],
          [
           "Federico Mattiello",
           "Cagliari Calcio",
           "Right-Back"
          ],
          [
           "Marc Navarro",
           "Watford FC",
           "Right-Back"
          ],
          [
           "Fabrizio Cacciatore",
           "Cagliari Calcio",
           "Right-Back"
          ],
          [
           "Patrick Burner",
           "Nîmes Olympique",
           "Right-Back"
          ],
          [
           "Davide Santon",
           "AS Roma",
           "Right-Back"
          ],
          [
           "Mitchell Weiser",
           "Bayer 04 Leverkusen",
           "Right-Back"
          ],
          [
           "Dimitri Foulquier",
           "Granada CF",
           "Right-Back"
          ],
          [
           "Nordi Mukiele",
           "RB Leipzig",
           "Right-Back"
          ],
          [
           "Brandon Soppy",
           "Udinese Calcio",
           "Right-Back"
          ],
          [
           "Timothy Castagne",
           "Leicester City",
           "Right-Back"
          ],
          [
           "Miguel Layún",
           "Villarreal CF",
           "Right-Back"
          ],
          [
           "Pedro Porro",
           "Manchester City",
           "Right-Back"
          ],
          [
           "Achraf Hakimi",
           "Paris Saint-Germain",
           "Right-Back"
          ],
          [
           "Dimitri Foulquier",
           "Valencia CF",
           "Right-Back"
          ],
          [
           "Bryan Reynolds",
           "AS Roma",
           "Right-Back"
          ],
          [
           "Benjamin Henrichs",
           "AS Monaco",
           "Right-Back"
          ],
          [
           "Vincent Laurini",
           "Parma Calcio 1913",
           "Right-Back"
          ],
          [
           "Manuel Lazzari",
           "SS Lazio",
           "Right-Back"
          ],
          [
           "Alessandro Florenzi",
           "Paris Saint-Germain",
           "Right-Back"
          ],
          [
           "Ola Aina",
           "Torino FC",
           "Right-Back"
          ],
          [
           "Silvan Widmer",
           "1.FSV Mainz 05",
           "Right-Back"
          ],
          [
           "Ezequiel Schelotto",
           "Chievo Verona",
           "Right-Back"
          ],
          [
           "Jeremy Toljan",
           "US Sassuolo",
           "Right-Back"
          ],
          [
           "Ximo Navarro",
           "Deportivo Alavés",
           "Right-Back"
          ],
          [
           "Matteo Darmian",
           "Parma Calcio 1913",
           "Right-Back"
          ],
          [
           "Santiago Arias",
           "Bayer 04 Leverkusen",
           "Right-Back"
          ],
          [
           "Davide Faraoni",
           "Hellas Verona",
           "Right-Back"
          ],
          [
           "Cédric Soares",
           "Inter Milan",
           "Right-Back"
          ],
          [
           "Timothy Fosu-Mensah",
           "Bayer 04 Leverkusen",
           "Right-Back"
          ],
          [
           "Valentino Lazaro",
           "Inter Milan",
           "Right-Back"
          ],
          [
           "Aleix Vidal",
           "Sevilla FC",
           "Right-Back"
          ],
          [
           "Ronaël Pierre-Gabriel",
           "AS Monaco",
           "Right-Back"
          ],
          [
           "João Cancelo",
           "Manchester City",
           "Right-Back"
          ],
          [
           "Pablo Maffeo",
           "VfB Stuttgart",
           "Right-Back"
          ],
          [
           "Matt Doherty",
           "Tottenham Hotspur",
           "Right-Back"
          ],
          [
           "Lukas Klünter",
           "Hertha BSC",
           "Right-Back"
          ],
          [
           "Benjamin Henrichs",
           "RB Leipzig",
           "Right-Back"
          ],
          [
           "Federico Mattiello",
           "Bologna FC 1909",
           "Right-Back"
          ],
          [
           "Pol Lirola",
           "ACF Fiorentina",
           "Right-Back"
          ],
          [
           "Ronaël Pierre-Gabriel",
           "1.FSV Mainz 05",
           "Right-Back"
          ],
          [
           "Saidy Janko",
           "Real Valladolid CF",
           "Right-Back"
          ],
          [
           "Kieran Trippier",
           "Newcastle United",
           "Right-Back"
          ],
          [
           "Junior Sambia",
           "Montpellier HSC",
           "Right-Back"
          ],
          [
           "Juanfran",
           "CD Leganés",
           "Right-Back"
          ],
          [
           "Kelvin Amian",
           "Spezia Calcio",
           "Right-Back"
          ]
         ],
         "hovertemplate": "position=%{customdata[2]}<br>PC1=%{x}<br>PC5=%{y}<br>player_name=%{customdata[0]}<br>club_name=%{customdata[1]}<br>fee_infladj=%{marker.color}<extra></extra>",
         "legendgroup": "Right-Back",
         "marker": {
          "color": [
           1.2340905088924106,
           2.0568175148206844,
           2.564699338368757,
           3.085226272231026,
           3.3,
           8.227270059282738,
           22.624992663027527,
           15,
           1,
           5.553407290015849,
           2.879544520748958,
           0.5,
           9,
           2.5710218935258555,
           0.6170452544462053,
           4.62783940834654,
           2.0568175148206844,
           1.6651975051975054,
           31.222453222453225,
           44.11282861994263,
           38.05112402418266,
           6.5,
           0.7805613305613306,
           18.6,
           11.284677088822532,
           0.104074844074844,
           7.285239085239086,
           0.5129398676737514,
           0.6170452544462053,
           2.0814968814968817,
           0.8227270059282739,
           1.5388196030212544,
           9.887110187110189,
           12.48898128898129,
           2.0517594706950057,
           16.651975051975054,
           2,
           20.517594706950057,
           4.1629937629937634,
           12.340905088924108,
           66.5,
           2.5,
           6.75,
           20.814968814968815,
           0.4524998532605506,
           15.426131361155132,
           0.5129398676737514,
           10.078405822621354,
           2.5,
           0.2289646569646569,
           3.5,
           1.5611226611226612,
           2.550453718377649,
           3.077639206042509,
           0.3085226272231026,
           0.5203742203742204,
           1.743995550090755,
           23.036356165991663,
           9.6789604989605,
           6.244490644490645,
           66.84656923167225,
           9.366735966735968,
           17.23477955383805,
           2.0814968814968817,
           15,
           1.0407484407484409,
           2.0568175148206844,
           5.656248165756882,
           1.9491714971602556,
           15,
           2.0814968814968817,
           0.3122245322245322,
           3.2
          ],
          "coloraxis": "coloraxis",
          "symbol": "square"
         },
         "mode": "markers",
         "name": "Right-Back",
         "orientation": "v",
         "showlegend": true,
         "type": "scatter",
         "x": [
          8.669138940275952,
          2.7750635021908665,
          0.233635449350585,
          1.7478538547540186,
          -5.091586843443348,
          16.92321022167792,
          10.862954882034517,
          -2.566364044793448,
          3.592666306098425,
          0.9360298698580478,
          -2.3328212456178363,
          1.797093909561908,
          -1.0007877591336447,
          8.2180916474747,
          -7.660683123308742,
          2.028265716010111,
          4.892780535063446,
          1.1807497741750144,
          11.345870663747355,
          7.653684748545108,
          -0.4517492820949325,
          4.896645124530039,
          -0.6673913222946544,
          0.630729458047528,
          6.09725004274092,
          11.101641775675535,
          5.281440977748485,
          -8.967264512010034,
          1.4644873078612235,
          -3.0907492726155024,
          2.518544412157088,
          -1.6729339715741003,
          -4.079641336267524,
          6.116771876961531,
          -2.0999917812942384,
          10.082202266088633,
          -5.478492196072497,
          4.0071181699494405,
          -1.722811359631251,
          7.93701204266514,
          8.886112908578038,
          -0.769748148425057,
          -10.46451275684112,
          0.5771793123927961,
          -1.0451486911778907,
          12.383597258882913,
          4.559738564016985,
          -2.7282667669548943,
          -5.063969145112872,
          -2.865366741907934,
          -2.2662737150908803,
          2.9896897516573864,
          -7.514668682286445,
          -4.257466437890369,
          -4.732951069398502,
          9.178915673840702,
          -6.263848888616495,
          9.358538297171421,
          -6.006482461825081,
          -2.5894536365715517,
          -0.9659620055383589,
          8.017542885094201,
          12.698721275276057,
          -2.2162273712615463,
          -2.887667772966758,
          3.884994252549524,
          6.093555671159488,
          -5.423005441109971,
          -6.402627487486621,
          9.743119161739587,
          2.7426683011203403,
          -1.9010763440935423,
          -1.5633450491219283
         ],
         "xaxis": "x",
         "y": [
          -2.045590446086842,
          -2.220980582362332,
          -3.1507410881124027,
          -2.407515555516081,
          -0.7513341469924021,
          -3.3778538951037,
          1.537184163173663,
          1.1495075772688805,
          0.14159956364911075,
          -1.5830051943505483,
          -2.7908177138481145,
          -2.2558556749520013,
          -0.5211662500074653,
          -1.7961407934339897,
          -0.5130538586823339,
          -3.3197586175281213,
          -3.0710691311332177,
          -0.6876126637285885,
          -2.5021893931163,
          0.35949316775106066,
          1.891270225023698,
          -1.143000980105574,
          0.3545052915587059,
          -1.222079617731397,
          -1.5743726723813571,
          -1.3462582786037456,
          -2.250318870394088,
          -1.6467025683671088,
          -2.8047006988399725,
          0.22099954239092057,
          0.23763840228688682,
          0.48851232096424996,
          0.5908960687379385,
          -0.5804403096962867,
          -0.891182365238162,
          -2.0796959610812493,
          0.5594849162053663,
          -1.5789530020204279,
          1.0776692136026083,
          -4.540734760408845,
          -0.04747123273792386,
          -1.3592272592958854,
          -0.6761446785765246,
          -1.4595472467305635,
          0.012844476336256294,
          -4.32183742228546,
          0.07512112500277848,
          -3.4617197968816695,
          -1.0668140113367666,
          -0.7645130299986551,
          -1.0508990347420668,
          -0.22717947113977177,
          0.9236230165670725,
          -0.8518932769772803,
          -1.2766595610838511,
          -3.528939927790633,
          -0.9154938953513885,
          0.2444733472208953,
          2.0836245840391143,
          0.28856929500375816,
          -1.9304487216822417,
          -5.919761433438269,
          -4.483534897804645,
          -1.135086420353965,
          -0.21639605308499588,
          -5.0542619804147115,
          -1.407747292511627,
          0.6579989160650195,
          -1.8679365895385436,
          1.3472251227597605,
          3.0768199899850446,
          -1.3347394054833532,
          -1.748899782966026
         ],
         "yaxis": "y"
        },
        {
         "customdata": [
          [
           "Philipp Tschauner",
           "RB Leipzig",
           "Goalkeeper"
          ],
          [
           "Gerónimo Rulli",
           "Montpellier HSC",
           "Goalkeeper"
          ],
          [
           "Joe Hart",
           "Burnley FC",
           "Goalkeeper"
          ],
          [
           "Gerónimo Rulli",
           "Villarreal CF",
           "Goalkeeper"
          ],
          [
           "Emiliano Martínez",
           "Aston Villa",
           "Goalkeeper"
          ],
          [
           "Alex Meret",
           "SSC Napoli",
           "Goalkeeper"
          ],
          [
           "Sergio Rico",
           "Paris Saint-Germain",
           "Goalkeeper"
          ],
          [
           "Mike Maignan",
           "AC Milan",
           "Goalkeeper"
          ],
          [
           "Alisson",
           "Liverpool FC",
           "Goalkeeper"
          ],
          [
           "Alfred Gomis",
           "Stade Rennais FC",
           "Goalkeeper"
          ],
          [
           "Rúnar Alex Rúnarsson",
           "Arsenal FC",
           "Goalkeeper"
          ],
          [
           "Benjamin Lecomte",
           "AS Monaco",
           "Goalkeeper"
          ],
          [
           "Pierluigi Gollini",
           "Atalanta BC",
           "Goalkeeper"
          ],
          [
           "Pau López",
           "AS Roma",
           "Goalkeeper"
          ],
          [
           "Marco Sportiello",
           "Frosinone Calcio",
           "Goalkeeper"
          ],
          [
           "Marco Silvestri",
           "Udinese Calcio",
           "Goalkeeper"
          ],
          [
           "Antonio Mirante",
           "AS Roma",
           "Goalkeeper"
          ],
          [
           "Mattia Perin",
           "Genoa CFC",
           "Goalkeeper"
          ],
          [
           "Mattia Perin",
           "Juventus FC",
           "Goalkeeper"
          ],
          [
           "Keylor Navas",
           "Paris Saint-Germain",
           "Goalkeeper"
          ],
          [
           "Edouard Mendy",
           "Chelsea FC",
           "Goalkeeper"
          ],
          [
           "Angus Gunn",
           "Norwich City",
           "Goalkeeper"
          ],
          [
           "Aaron Ramsdale",
           "Sheffield United",
           "Goalkeeper"
          ],
          [
           "Alfred Gomis",
           "Dijon FCO",
           "Goalkeeper"
          ],
          [
           "Alban Lafont",
           "FC Nantes",
           "Goalkeeper"
          ],
          [
           "Gregor Kobel",
           "VfB Stuttgart",
           "Goalkeeper"
          ],
          [
           "David Soria",
           "Getafe CF",
           "Goalkeeper"
          ],
          [
           "Bernd Leno",
           "Arsenal FC",
           "Goalkeeper"
          ],
          [
           "Jack Butland",
           "Crystal Palace",
           "Goalkeeper"
          ],
          [
           "Thibaut Courtois",
           "Real Madrid",
           "Goalkeeper"
          ],
          [
           "Gregor Kobel",
           "Borussia Dortmund",
           "Goalkeeper"
          ],
          [
           "Orestis Karnezis",
           "SSC Napoli",
           "Goalkeeper"
          ],
          [
           "Julian Pollersbeck",
           "Olympique Lyon",
           "Goalkeeper"
          ],
          [
           "Aaron Ramsdale",
           "Arsenal FC",
           "Goalkeeper"
          ],
          [
           "David Ospina",
           "SSC Napoli",
           "Goalkeeper"
          ],
          [
           "Álvaro Fernández",
           "Brentford FC",
           "Goalkeeper"
          ],
          [
           "Luigi Sepe",
           "Parma Calcio 1913",
           "Goalkeeper"
          ],
          [
           "Alexander Schwolow",
           "Hertha BSC",
           "Goalkeeper"
          ],
          [
           "Kepa Arrizabalaga",
           "Chelsea FC",
           "Goalkeeper"
          ],
          [
           "Christian Mathenia",
           "1.FC Nuremberg",
           "Goalkeeper"
          ],
          [
           "Paul Bernardoni",
           "SCO Angers",
           "Goalkeeper"
          ],
          [
           "Pepe Reina",
           "Aston Villa",
           "Goalkeeper"
          ],
          [
           "Alban Lafont",
           "ACF Fiorentina",
           "Goalkeeper"
          ],
          [
           "Alphonse Areola",
           "Real Madrid",
           "Goalkeeper"
          ],
          [
           "Ralf Fährmann",
           "Norwich City",
           "Goalkeeper"
          ],
          [
           "Pau López",
           "Olympique Marseille",
           "Goalkeeper"
          ],
          [
           "Alban Lafont",
           "FC Nantes",
           "Goalkeeper"
          ],
          [
           "Alphonse Areola",
           "West Ham United",
           "Goalkeeper"
          ],
          [
           "Edouard Mendy",
           "Stade Rennais FC",
           "Goalkeeper"
          ]
         ],
         "hovertemplate": "position=%{customdata[2]}<br>PC1=%{x}<br>PC5=%{y}<br>player_name=%{customdata[0]}<br>club_name=%{customdata[1]}<br>fee_infladj=%{marker.color}<extra></extra>",
         "legendgroup": "Goalkeeper",
         "marker": {
          "color": [
           0.3599430650936197,
           1.542613136115513,
           4.058918918918919,
           5.129398676737514,
           17.85030739504655,
           26.7386276926689,
           6.155278412085018,
           14.3,
           65.04677754677755,
           10.258797353475028,
           2.0517594706950057,
           13.88351822503962,
           4.57929313929314,
           24.167605799143043,
           0.3122245322245322,
           2.5,
           4.1629937629937634,
           0.5358009626107884,
           14.77862785862786,
           15.426131361155132,
           24.62111364834007,
           5.85,
           21.030534574623807,
           1.0284087574103422,
           7.5,
           7.386334094502021,
           3.1222453222453224,
           26.01871101871102,
           1.1284677088822532,
           36.42619542619543,
           15,
           1.542613136115513,
           0.2564699338368757,
           28,
           3.5994306509361977,
           1,
           4.698529187891563,
           7.18115814743252,
           83.25987525987527,
           0.5203742203742204,
           7.694098015106271,
           0.4113635029641369,
           8.325987525987527,
           2.0568175148206844,
           3.085226272231026,
           0.72,
           0.8227270059282739,
           2,
           7.8159065563186
          ],
          "coloraxis": "coloraxis",
          "symbol": "x"
         },
         "mode": "markers",
         "name": "Goalkeeper",
         "orientation": "v",
         "showlegend": true,
         "type": "scatter",
         "x": [
          -12.16512885984649,
          -12.68219141902174,
          -13.526091047003472,
          -12.806476612864191,
          -13.707704939506144,
          -13.228850408801488,
          -13.37196225649156,
          -12.84985854211864,
          -11.717002532810376,
          -13.115322755465652,
          -12.725279775218677,
          -12.93282182532915,
          -12.880745063017642,
          -12.959913922775053,
          -13.013528695383545,
          -13.669237310842606,
          -12.442819157490552,
          -12.567343605157431,
          -12.756946963938859,
          -13.089218345255242,
          -13.07007728255504,
          -13.092883214179013,
          -13.554567185305368,
          -13.10463309222009,
          -13.749812712224193,
          -13.207292491429525,
          -13.524318145464832,
          -12.325391928525576,
          -12.94990226700569,
          -12.009030606775362,
          -12.709789548700243,
          -13.088900224953651,
          -12.627092472612398,
          -13.60045788569192,
          -13.02019379450676,
          -11.885038959463454,
          -12.949136598276873,
          -12.534293975784863,
          -13.961818070195797,
          -13.245671106284593,
          -13.207088829365723,
          -12.42926923608271,
          -14.740367960417682,
          -12.933671772886882,
          -13.560390107758888,
          -12.88459199409529,
          -13.95382356405246,
          -13.115762564347506,
          -13.368407237669135
         ],
         "xaxis": "x",
         "y": [
          -1.0979648231713552,
          -0.49188160829950967,
          -0.31976018418653673,
          -0.4671067226977108,
          -0.8048559565664992,
          -0.5294950729975558,
          -1.6653862336050813,
          -0.36187335291165956,
          0.3103300180575639,
          0.04571872597677107,
          -0.9343221939226121,
          -0.2255494666944382,
          0.23263791567473735,
          -1.1269132880570072,
          -1.0860615884962175,
          -1.4535744605503549,
          1.3505644443423148,
          -0.04248466820568986,
          -0.6616770695414518,
          -0.4069404466535924,
          -0.08542407391551565,
          -1.6998296782715037,
          -1.4014484167453158,
          0.1321741453298011,
          -1.094159385544026,
          -1.996427327140819,
          -0.7576304346193155,
          -0.8566542970355231,
          -1.7740228014261286,
          -0.6931032541438844,
          -1.306614306713712,
          0.15391241964662727,
          -1.355944513264971,
          -0.9671618754713793,
          0.029427715341243665,
          0.4959250381877296,
          -0.1873138063707902,
          -0.20699904247668188,
          -1.094857663587932,
          -0.7837002047737123,
          -0.6705722951196544,
          0.18682067843452188,
          -1.7902136341209784,
          -0.5066769208951025,
          -0.8570276766166405,
          -0.9298872051491447,
          -1.230510691635199,
          -0.5491026739086249,
          -0.6496822155547282
         ],
         "yaxis": "y"
        },
        {
         "customdata": [
          [
           "Yacine Adli",
           "AC Milan",
           "Attacking Midfield"
          ],
          [
           "Simone Verdi",
           "SSC Napoli",
           "Attacking Midfield"
          ],
          [
           "Brahim Díaz",
           "AC Milan",
           "Attacking Midfield"
          ],
          [
           "Yassine Benzia",
           "Dijon FCO",
           "Attacking Midfield"
          ],
          [
           "Ludovic Blas",
           "FC Nantes",
           "Attacking Midfield"
          ],
          [
           "Gaël Kakuta",
           "Amiens SC",
           "Attacking Midfield"
          ],
          [
           "Hamed Junior Traorè",
           "US Sassuolo",
           "Attacking Midfield"
          ],
          [
           "Ryad Boudebouz",
           "AS Saint-Étienne",
           "Attacking Midfield"
          ],
          [
           "Renaud Ripart",
           "ESTAC Troyes",
           "Attacking Midfield"
          ],
          [
           "Matheus Pereira",
           "West Bromwich Albion",
           "Attacking Midfield"
          ],
          [
           "Julian Brandt",
           "Borussia Dortmund",
           "Attacking Midfield"
          ],
          [
           "Lucas Paquetá",
           "Olympique Lyon",
           "Attacking Midfield"
          ],
          [
           "Martin Ødegaard",
           "Arsenal FC",
           "Attacking Midfield"
          ],
          [
           "Quentin Boisgard",
           "FC Lorient",
           "Attacking Midfield"
          ],
          [
           "Mattia Zaccagni",
           "SS Lazio",
           "Attacking Midfield"
          ],
          [
           "Martin Ødegaard",
           "Arsenal FC",
           "Attacking Midfield"
          ],
          [
           "Leonardo Bittencourt",
           "SV Werder Bremen",
           "Attacking Midfield"
          ],
          [
           "Christopher Nkunku",
           "RB Leipzig",
           "Attacking Midfield"
          ],
          [
           "Aymen Barkok",
           "Fortuna Düsseldorf",
           "Attacking Midfield"
          ],
          [
           "Kai Havertz",
           "Chelsea FC",
           "Attacking Midfield"
          ],
          [
           "Riccardo Saponara",
           "UC Sampdoria",
           "Attacking Midfield"
          ],
          [
           "Kevin-Prince Boateng",
           "FC Barcelona",
           "Attacking Midfield"
          ],
          [
           "Thomas Lemar",
           "Atlético de Madrid",
           "Attacking Midfield"
          ],
          [
           "Javier Pastore",
           "AS Roma",
           "Attacking Midfield"
          ],
          [
           "Lucas Castro",
           "Cagliari Calcio",
           "Attacking Midfield"
          ],
          [
           "Jesse Lingard",
           "West Ham United",
           "Attacking Midfield"
          ],
          [
           "Steven Skrzybski",
           "Fortuna Düsseldorf",
           "Attacking Midfield"
          ],
          [
           "Leonardo Bittencourt",
           "SV Werder Bremen",
           "Attacking Midfield"
          ],
          [
           "Christian Eriksen",
           "Inter Milan",
           "Attacking Midfield"
          ],
          [
           "Pablo Fornals",
           "West Ham United",
           "Attacking Midfield"
          ],
          [
           "Amin Younes",
           "Eintracht Frankfurt",
           "Attacking Midfield"
          ],
          [
           "Rémy Cabella",
           "AS Saint-Étienne",
           "Attacking Midfield"
          ],
          [
           "Kevin-Prince Boateng",
           "ACF Fiorentina",
           "Attacking Midfield"
          ],
          [
           "Roberto Soriano",
           "Bologna FC 1909",
           "Attacking Midfield"
          ],
          [
           "Henrikh Mkhitaryan",
           "AS Roma",
           "Attacking Midfield"
          ],
          [
           "Leonardo Bittencourt",
           "TSG 1899 Hoffenheim",
           "Attacking Midfield"
          ],
          [
           "Simone Verdi",
           "Torino FC",
           "Attacking Midfield"
          ],
          [
           "Roberto Soriano",
           "Torino FC",
           "Attacking Midfield"
          ]
         ],
         "hovertemplate": "position=%{customdata[2]}<br>PC1=%{x}<br>PC5=%{y}<br>player_name=%{customdata[0]}<br>club_name=%{customdata[1]}<br>fee_infladj=%{marker.color}<extra></extra>",
         "legendgroup": "Attacking Midfield",
         "marker": {
          "color": [
           8,
           25.4983367983368,
           3,
           1.542613136115513,
           8.227270059282738,
           3.085226272231026,
           16,
           3.5994306509361977,
           3.3,
           8.463507816616898,
           25.71021893525856,
           20.517594706950057,
           2.0517594706950057,
           2.0517594706950057,
           0.2,
           35,
           0.6170452544462053,
           13.36931384633445,
           0.8325987525987527,
           82.07037882780023,
           2.0814968814968817,
           1.0407484407484409,
           74.93388773388774,
           25.70648648648649,
           6.140415800415801,
           2.3595233912992564,
           0.2056817514820684,
           7.18115814743252,
           27.76703645007924,
           28.795445207489585,
           0.7694098015106272,
           6.244490644490645,
           1.542613136115513,
           8.227270059282738,
           3.188067147972061,
           6.244490644490645,
           22.569354177645064,
           1.0407484407484409
          ],
          "coloraxis": "coloraxis",
          "symbol": "cross"
         },
         "mode": "markers",
         "name": "Attacking Midfield",
         "orientation": "v",
         "showlegend": true,
         "type": "scatter",
         "x": [
          0.7208915053659904,
          14.839558486355337,
          -7.407752284940433,
          -0.07875145802193378,
          5.1932890936366345,
          4.0621678757025705,
          6.085349150768145,
          -1.5152493443698214,
          7.2086541473027665,
          -8.332675725414504,
          15.188838678494612,
          -4.954520096094507,
          0.9877936426285924,
          -0.9357310306022932,
          7.335693866394115,
          -3.357070756802279,
          1.4071868010967292,
          -2.1408973437471217,
          -7.674576448647038,
          11.854958036950647,
          -1.7031497070889454,
          5.096754422107466,
          12.070684287590769,
          3.8657516003597556,
          6.224187134527515,
          1.9026725444843815,
          -8.876258449847487,
          -3.077475317823522,
          21.901955219564954,
          11.243762565673377,
          -7.461271858408972,
          13.804007686540533,
          -3.4750225667782777,
          -4.086584509747643,
          1.934402075979655,
          3.1862014412641666,
          6.333904901816018,
          -2.340202715639555
         ],
         "xaxis": "x",
         "y": [
          -0.15139015974132386,
          6.930378140132382,
          0.16433507611910203,
          -1.4405361915944277,
          -2.1663173505909703,
          -0.22849697242056077,
          0.49467918973068725,
          1.1404918958900374,
          -4.788265323918799,
          -1.2258284099217176,
          4.23453500600591,
          -1.1723425666667777,
          2.0267192464706336,
          0.6851594510146588,
          -1.6785961475194007,
          0.5849138288901697,
          -1.0377527868576302,
          2.117507344019749,
          0.5828492872512223,
          0.04569544251459057,
          1.8018334977177402,
          -0.18010127200878467,
          2.3819808213116067,
          1.376086591293819,
          -2.191731104094501,
          -0.09545916270893956,
          -0.8815808382596662,
          -1.458067526662007,
          7.439697737298924,
          -2.6538167717948395,
          0.7493468017888711,
          -0.47414692339443776,
          -1.2393991391397718,
          -0.038155227405893166,
          1.9869171722738168,
          -1.23625398551351,
          4.648434029348712,
          -1.0296186511038352
         ],
         "yaxis": "y"
        },
        {
         "customdata": [
          [
           "Joaquín Correa",
           "SS Lazio",
           "Second Striker"
          ],
          [
           "Rodrigo",
           "Leeds United",
           "Second Striker"
          ],
          [
           "Papu Gómez",
           "Sevilla FC",
           "Second Striker"
          ],
          [
           "Diego Farias",
           "Spezia Calcio",
           "Second Striker"
          ],
          [
           "Joaquín Correa",
           "Inter Milan",
           "Second Striker"
          ],
          [
           "Antoine Griezmann",
           "FC Barcelona",
           "Second Striker"
          ],
          [
           "Luca Waldschmidt",
           "SC Freiburg",
           "Second Striker"
          ],
          [
           "Diego Farias",
           "Empoli FC",
           "Second Striker"
          ],
          [
           "Maximilian Philipp",
           "VfL Wolfsburg",
           "Second Striker"
          ],
          [
           "Gianluca Caprari",
           "Parma Calcio 1913",
           "Second Striker"
          ],
          [
           "Gianluca Caprari",
           "Benevento Calcio",
           "Second Striker"
          ],
          [
           "Maximilian Philipp",
           "VfL Wolfsburg",
           "Second Striker"
          ],
          [
           "Diego Farias",
           "US Lecce",
           "Second Striker"
          ],
          [
           "Kevin Volland",
           "AS Monaco",
           "Second Striker"
          ],
          [
           "Enrico Brignola",
           "US Sassuolo",
           "Second Striker"
          ],
          [
           "Ayoze Pérez",
           "Leicester City",
           "Second Striker"
          ],
          [
           "Luca Waldschmidt",
           "VfL Wolfsburg",
           "Second Striker"
          ]
         ],
         "hovertemplate": "position=%{customdata[2]}<br>PC1=%{x}<br>PC5=%{y}<br>player_name=%{customdata[0]}<br>club_name=%{customdata[1]}<br>fee_infladj=%{marker.color}<extra></extra>",
         "legendgroup": "Second Striker",
         "marker": {
          "color": [
           18.57735966735967,
           30.776392060425085,
           5.129398676737514,
           0.5129398676737514,
           5,
           123.40905088924106,
           5.2037422037422045,
           2.6018711018711023,
           2.0517594706950057,
           2.159658390561719,
           1.3336436559517535,
           7.5,
           1.0798291952808594,
           11.284677088822532,
           3.1222453222453224,
           34.348852497505426,
           12
          ],
          "coloraxis": "coloraxis",
          "symbol": "circle"
         },
         "mode": "markers",
         "name": "Second Striker",
         "orientation": "v",
         "showlegend": true,
         "type": "scatter",
         "x": [
          -0.4336451098020321,
          5.509482194530285,
          22.81535907333453,
          -2.5683687004054967,
          4.717663919906397,
          13.193542674015346,
          -4.65591524093866,
          1.0615076383321438,
          -6.748057157610868,
          1.673161746382486,
          -0.6598121874807502,
          -5.7476144059852174,
          -2.3636205691252536,
          6.507519864894123,
          -0.23654481934655128,
          8.536814542016955,
          -4.297743443010239
         ],
         "xaxis": "x",
         "y": [
          -0.40527679513342035,
          -0.5958874171279742,
          7.61330860445028,
          0.2804050391138795,
          0.2849331194897059,
          2.7275923954359738,
          0.5821501879493866,
          -2.0248472691818753,
          0.3336658896069076,
          1.0792062324266827,
          1.6396147938857515,
          0.8229694280122964,
          -0.4374320710122088,
          -0.6404953767274713,
          -0.3901209877831702,
          -4.113579411239086,
          0.502522883977973
         ],
         "yaxis": "y"
        },
        {
         "customdata": [
          [
           "Romain Faivre",
           "Olympique Lyon",
           "Right Midfield"
          ],
          [
           "Antonio Candreva",
           "UC Sampdoria",
           "Right Midfield"
          ],
          [
           "Victor Moses",
           "Inter Milan",
           "Right Midfield"
          ]
         ],
         "hovertemplate": "position=%{customdata[2]}<br>PC1=%{x}<br>PC5=%{y}<br>player_name=%{customdata[0]}<br>club_name=%{customdata[1]}<br>fee_infladj=%{marker.color}<extra></extra>",
         "legendgroup": "Right Midfield",
         "marker": {
          "color": [
           15,
           2.5,
           0.2221362916006339
          ],
          "coloraxis": "coloraxis",
          "symbol": "diamond"
         },
         "mode": "markers",
         "name": "Right Midfield",
         "orientation": "v",
         "showlegend": true,
         "type": "scatter",
         "x": [
          2.557233787401472,
          8.27756444043749,
          -3.6071594942985925
         ],
         "xaxis": "x",
         "y": [
          0.6583798317922561,
          4.6861983043157895,
          -2.1464539949694283
         ],
         "yaxis": "y"
        },
        {
         "customdata": [
          [
           "Erik Thommy",
           "Fortuna Düsseldorf",
           "Left Midfield"
          ],
          [
           "Mohamed Fares",
           "SPAL",
           "Left Midfield"
          ],
          [
           "Ryan Sessegnon",
           "Tottenham Hotspur",
           "Left Midfield"
          ],
          [
           "Jakub Jankto",
           "UC Sampdoria",
           "Left Midfield"
          ],
          [
           "Mohamed Fares",
           "SS Lazio",
           "Left Midfield"
          ],
          [
           "Jakub Jankto",
           "Getafe CF",
           "Left Midfield"
          ]
         ],
         "hovertemplate": "position=%{customdata[2]}<br>PC1=%{x}<br>PC5=%{y}<br>player_name=%{customdata[0]}<br>club_name=%{customdata[1]}<br>fee_infladj=%{marker.color}<extra></extra>",
         "legendgroup": "Left Midfield",
         "marker": {
          "color": [
           0.5142043787051711,
           3.5994306509361977,
           27.76703645007924,
           14.911926982449964,
           8.207037882780023,
           6
          ],
          "coloraxis": "coloraxis",
          "symbol": "square"
         },
         "mode": "markers",
         "name": "Left Midfield",
         "orientation": "v",
         "showlegend": true,
         "type": "scatter",
         "x": [
          -2.7802904331257823,
          8.862099894114616,
          5.328030474251344,
          2.729498291054777,
          3.383547520695196,
          3.0101772970337035
         ],
         "xaxis": "x",
         "y": [
          2.631016700266901,
          -5.067702354122795,
          -1.4383821930421834,
          0.48302017853683793,
          -3.1079456948122077,
          0.16119101893661653
         ],
         "yaxis": "y"
        }
       ],
       "layout": {
        "coloraxis": {
         "colorbar": {
          "title": {
           "text": "fee_infladj"
          }
         },
         "colorscale": [
          [
           0,
           "#0d0887"
          ],
          [
           0.1111111111111111,
           "#46039f"
          ],
          [
           0.2222222222222222,
           "#7201a8"
          ],
          [
           0.3333333333333333,
           "#9c179e"
          ],
          [
           0.4444444444444444,
           "#bd3786"
          ],
          [
           0.5555555555555556,
           "#d8576b"
          ],
          [
           0.6666666666666666,
           "#ed7953"
          ],
          [
           0.7777777777777778,
           "#fb9f3a"
          ],
          [
           0.8888888888888888,
           "#fdca26"
          ],
          [
           1,
           "#f0f921"
          ]
         ]
        },
        "legend": {
         "title": {
          "text": "position"
         },
         "tracegroupgap": 0
        },
        "margin": {
         "t": 60
        },
        "template": {
         "data": {
          "bar": [
           {
            "error_x": {
             "color": "#2a3f5f"
            },
            "error_y": {
             "color": "#2a3f5f"
            },
            "marker": {
             "line": {
              "color": "#E5ECF6",
              "width": 0.5
             }
            },
            "type": "bar"
           }
          ],
          "barpolar": [
           {
            "marker": {
             "line": {
              "color": "#E5ECF6",
              "width": 0.5
             }
            },
            "type": "barpolar"
           }
          ],
          "carpet": [
           {
            "aaxis": {
             "endlinecolor": "#2a3f5f",
             "gridcolor": "white",
             "linecolor": "white",
             "minorgridcolor": "white",
             "startlinecolor": "#2a3f5f"
            },
            "baxis": {
             "endlinecolor": "#2a3f5f",
             "gridcolor": "white",
             "linecolor": "white",
             "minorgridcolor": "white",
             "startlinecolor": "#2a3f5f"
            },
            "type": "carpet"
           }
          ],
          "choropleth": [
           {
            "colorbar": {
             "outlinewidth": 0,
             "ticks": ""
            },
            "type": "choropleth"
           }
          ],
          "contour": [
           {
            "colorbar": {
             "outlinewidth": 0,
             "ticks": ""
            },
            "colorscale": [
             [
              0,
              "#0d0887"
             ],
             [
              0.1111111111111111,
              "#46039f"
             ],
             [
              0.2222222222222222,
              "#7201a8"
             ],
             [
              0.3333333333333333,
              "#9c179e"
             ],
             [
              0.4444444444444444,
              "#bd3786"
             ],
             [
              0.5555555555555556,
              "#d8576b"
             ],
             [
              0.6666666666666666,
              "#ed7953"
             ],
             [
              0.7777777777777778,
              "#fb9f3a"
             ],
             [
              0.8888888888888888,
              "#fdca26"
             ],
             [
              1,
              "#f0f921"
             ]
            ],
            "type": "contour"
           }
          ],
          "contourcarpet": [
           {
            "colorbar": {
             "outlinewidth": 0,
             "ticks": ""
            },
            "type": "contourcarpet"
           }
          ],
          "heatmap": [
           {
            "colorbar": {
             "outlinewidth": 0,
             "ticks": ""
            },
            "colorscale": [
             [
              0,
              "#0d0887"
             ],
             [
              0.1111111111111111,
              "#46039f"
             ],
             [
              0.2222222222222222,
              "#7201a8"
             ],
             [
              0.3333333333333333,
              "#9c179e"
             ],
             [
              0.4444444444444444,
              "#bd3786"
             ],
             [
              0.5555555555555556,
              "#d8576b"
             ],
             [
              0.6666666666666666,
              "#ed7953"
             ],
             [
              0.7777777777777778,
              "#fb9f3a"
             ],
             [
              0.8888888888888888,
              "#fdca26"
             ],
             [
              1,
              "#f0f921"
             ]
            ],
            "type": "heatmap"
           }
          ],
          "heatmapgl": [
           {
            "colorbar": {
             "outlinewidth": 0,
             "ticks": ""
            },
            "colorscale": [
             [
              0,
              "#0d0887"
             ],
             [
              0.1111111111111111,
              "#46039f"
             ],
             [
              0.2222222222222222,
              "#7201a8"
             ],
             [
              0.3333333333333333,
              "#9c179e"
             ],
             [
              0.4444444444444444,
              "#bd3786"
             ],
             [
              0.5555555555555556,
              "#d8576b"
             ],
             [
              0.6666666666666666,
              "#ed7953"
             ],
             [
              0.7777777777777778,
              "#fb9f3a"
             ],
             [
              0.8888888888888888,
              "#fdca26"
             ],
             [
              1,
              "#f0f921"
             ]
            ],
            "type": "heatmapgl"
           }
          ],
          "histogram": [
           {
            "marker": {
             "colorbar": {
              "outlinewidth": 0,
              "ticks": ""
             }
            },
            "type": "histogram"
           }
          ],
          "histogram2d": [
           {
            "colorbar": {
             "outlinewidth": 0,
             "ticks": ""
            },
            "colorscale": [
             [
              0,
              "#0d0887"
             ],
             [
              0.1111111111111111,
              "#46039f"
             ],
             [
              0.2222222222222222,
              "#7201a8"
             ],
             [
              0.3333333333333333,
              "#9c179e"
             ],
             [
              0.4444444444444444,
              "#bd3786"
             ],
             [
              0.5555555555555556,
              "#d8576b"
             ],
             [
              0.6666666666666666,
              "#ed7953"
             ],
             [
              0.7777777777777778,
              "#fb9f3a"
             ],
             [
              0.8888888888888888,
              "#fdca26"
             ],
             [
              1,
              "#f0f921"
             ]
            ],
            "type": "histogram2d"
           }
          ],
          "histogram2dcontour": [
           {
            "colorbar": {
             "outlinewidth": 0,
             "ticks": ""
            },
            "colorscale": [
             [
              0,
              "#0d0887"
             ],
             [
              0.1111111111111111,
              "#46039f"
             ],
             [
              0.2222222222222222,
              "#7201a8"
             ],
             [
              0.3333333333333333,
              "#9c179e"
             ],
             [
              0.4444444444444444,
              "#bd3786"
             ],
             [
              0.5555555555555556,
              "#d8576b"
             ],
             [
              0.6666666666666666,
              "#ed7953"
             ],
             [
              0.7777777777777778,
              "#fb9f3a"
             ],
             [
              0.8888888888888888,
              "#fdca26"
             ],
             [
              1,
              "#f0f921"
             ]
            ],
            "type": "histogram2dcontour"
           }
          ],
          "mesh3d": [
           {
            "colorbar": {
             "outlinewidth": 0,
             "ticks": ""
            },
            "type": "mesh3d"
           }
          ],
          "parcoords": [
           {
            "line": {
             "colorbar": {
              "outlinewidth": 0,
              "ticks": ""
             }
            },
            "type": "parcoords"
           }
          ],
          "pie": [
           {
            "automargin": true,
            "type": "pie"
           }
          ],
          "scatter": [
           {
            "marker": {
             "colorbar": {
              "outlinewidth": 0,
              "ticks": ""
             }
            },
            "type": "scatter"
           }
          ],
          "scatter3d": [
           {
            "line": {
             "colorbar": {
              "outlinewidth": 0,
              "ticks": ""
             }
            },
            "marker": {
             "colorbar": {
              "outlinewidth": 0,
              "ticks": ""
             }
            },
            "type": "scatter3d"
           }
          ],
          "scattercarpet": [
           {
            "marker": {
             "colorbar": {
              "outlinewidth": 0,
              "ticks": ""
             }
            },
            "type": "scattercarpet"
           }
          ],
          "scattergeo": [
           {
            "marker": {
             "colorbar": {
              "outlinewidth": 0,
              "ticks": ""
             }
            },
            "type": "scattergeo"
           }
          ],
          "scattergl": [
           {
            "marker": {
             "colorbar": {
              "outlinewidth": 0,
              "ticks": ""
             }
            },
            "type": "scattergl"
           }
          ],
          "scattermapbox": [
           {
            "marker": {
             "colorbar": {
              "outlinewidth": 0,
              "ticks": ""
             }
            },
            "type": "scattermapbox"
           }
          ],
          "scatterpolar": [
           {
            "marker": {
             "colorbar": {
              "outlinewidth": 0,
              "ticks": ""
             }
            },
            "type": "scatterpolar"
           }
          ],
          "scatterpolargl": [
           {
            "marker": {
             "colorbar": {
              "outlinewidth": 0,
              "ticks": ""
             }
            },
            "type": "scatterpolargl"
           }
          ],
          "scatterternary": [
           {
            "marker": {
             "colorbar": {
              "outlinewidth": 0,
              "ticks": ""
             }
            },
            "type": "scatterternary"
           }
          ],
          "surface": [
           {
            "colorbar": {
             "outlinewidth": 0,
             "ticks": ""
            },
            "colorscale": [
             [
              0,
              "#0d0887"
             ],
             [
              0.1111111111111111,
              "#46039f"
             ],
             [
              0.2222222222222222,
              "#7201a8"
             ],
             [
              0.3333333333333333,
              "#9c179e"
             ],
             [
              0.4444444444444444,
              "#bd3786"
             ],
             [
              0.5555555555555556,
              "#d8576b"
             ],
             [
              0.6666666666666666,
              "#ed7953"
             ],
             [
              0.7777777777777778,
              "#fb9f3a"
             ],
             [
              0.8888888888888888,
              "#fdca26"
             ],
             [
              1,
              "#f0f921"
             ]
            ],
            "type": "surface"
           }
          ],
          "table": [
           {
            "cells": {
             "fill": {
              "color": "#EBF0F8"
             },
             "line": {
              "color": "white"
             }
            },
            "header": {
             "fill": {
              "color": "#C8D4E3"
             },
             "line": {
              "color": "white"
             }
            },
            "type": "table"
           }
          ]
         },
         "layout": {
          "annotationdefaults": {
           "arrowcolor": "#2a3f5f",
           "arrowhead": 0,
           "arrowwidth": 1
          },
          "coloraxis": {
           "colorbar": {
            "outlinewidth": 0,
            "ticks": ""
           }
          },
          "colorscale": {
           "diverging": [
            [
             0,
             "#8e0152"
            ],
            [
             0.1,
             "#c51b7d"
            ],
            [
             0.2,
             "#de77ae"
            ],
            [
             0.3,
             "#f1b6da"
            ],
            [
             0.4,
             "#fde0ef"
            ],
            [
             0.5,
             "#f7f7f7"
            ],
            [
             0.6,
             "#e6f5d0"
            ],
            [
             0.7,
             "#b8e186"
            ],
            [
             0.8,
             "#7fbc41"
            ],
            [
             0.9,
             "#4d9221"
            ],
            [
             1,
             "#276419"
            ]
           ],
           "sequential": [
            [
             0,
             "#0d0887"
            ],
            [
             0.1111111111111111,
             "#46039f"
            ],
            [
             0.2222222222222222,
             "#7201a8"
            ],
            [
             0.3333333333333333,
             "#9c179e"
            ],
            [
             0.4444444444444444,
             "#bd3786"
            ],
            [
             0.5555555555555556,
             "#d8576b"
            ],
            [
             0.6666666666666666,
             "#ed7953"
            ],
            [
             0.7777777777777778,
             "#fb9f3a"
            ],
            [
             0.8888888888888888,
             "#fdca26"
            ],
            [
             1,
             "#f0f921"
            ]
           ],
           "sequentialminus": [
            [
             0,
             "#0d0887"
            ],
            [
             0.1111111111111111,
             "#46039f"
            ],
            [
             0.2222222222222222,
             "#7201a8"
            ],
            [
             0.3333333333333333,
             "#9c179e"
            ],
            [
             0.4444444444444444,
             "#bd3786"
            ],
            [
             0.5555555555555556,
             "#d8576b"
            ],
            [
             0.6666666666666666,
             "#ed7953"
            ],
            [
             0.7777777777777778,
             "#fb9f3a"
            ],
            [
             0.8888888888888888,
             "#fdca26"
            ],
            [
             1,
             "#f0f921"
            ]
           ]
          },
          "colorway": [
           "#636efa",
           "#EF553B",
           "#00cc96",
           "#ab63fa",
           "#FFA15A",
           "#19d3f3",
           "#FF6692",
           "#B6E880",
           "#FF97FF",
           "#FECB52"
          ],
          "font": {
           "color": "#2a3f5f"
          },
          "geo": {
           "bgcolor": "white",
           "lakecolor": "white",
           "landcolor": "#E5ECF6",
           "showlakes": true,
           "showland": true,
           "subunitcolor": "white"
          },
          "hoverlabel": {
           "align": "left"
          },
          "hovermode": "closest",
          "mapbox": {
           "style": "light"
          },
          "paper_bgcolor": "white",
          "plot_bgcolor": "#E5ECF6",
          "polar": {
           "angularaxis": {
            "gridcolor": "white",
            "linecolor": "white",
            "ticks": ""
           },
           "bgcolor": "#E5ECF6",
           "radialaxis": {
            "gridcolor": "white",
            "linecolor": "white",
            "ticks": ""
           }
          },
          "scene": {
           "xaxis": {
            "backgroundcolor": "#E5ECF6",
            "gridcolor": "white",
            "gridwidth": 2,
            "linecolor": "white",
            "showbackground": true,
            "ticks": "",
            "zerolinecolor": "white"
           },
           "yaxis": {
            "backgroundcolor": "#E5ECF6",
            "gridcolor": "white",
            "gridwidth": 2,
            "linecolor": "white",
            "showbackground": true,
            "ticks": "",
            "zerolinecolor": "white"
           },
           "zaxis": {
            "backgroundcolor": "#E5ECF6",
            "gridcolor": "white",
            "gridwidth": 2,
            "linecolor": "white",
            "showbackground": true,
            "ticks": "",
            "zerolinecolor": "white"
           }
          },
          "shapedefaults": {
           "line": {
            "color": "#2a3f5f"
           }
          },
          "ternary": {
           "aaxis": {
            "gridcolor": "white",
            "linecolor": "white",
            "ticks": ""
           },
           "baxis": {
            "gridcolor": "white",
            "linecolor": "white",
            "ticks": ""
           },
           "bgcolor": "#E5ECF6",
           "caxis": {
            "gridcolor": "white",
            "linecolor": "white",
            "ticks": ""
           }
          },
          "title": {
           "x": 0.05
          },
          "xaxis": {
           "automargin": true,
           "gridcolor": "white",
           "linecolor": "white",
           "ticks": "",
           "title": {
            "standoff": 15
           },
           "zerolinecolor": "white",
           "zerolinewidth": 2
          },
          "yaxis": {
           "automargin": true,
           "gridcolor": "white",
           "linecolor": "white",
           "ticks": "",
           "title": {
            "standoff": 15
           },
           "zerolinecolor": "white",
           "zerolinewidth": 2
          }
         }
        },
        "xaxis": {
         "anchor": "y",
         "domain": [
          0,
          1
         ],
         "title": {
          "text": "PC1"
         }
        },
        "yaxis": {
         "anchor": "x",
         "domain": [
          0,
          1
         ],
         "title": {
          "text": "PC5"
         }
        }
       }
      },
      "text/html": [
       "<div>                            <div id=\"2f11a416-2d85-4e6a-9d71-ed01494dd0fa\" class=\"plotly-graph-div\" style=\"height:525px; width:100%;\"></div>            <script type=\"text/javascript\">                require([\"plotly\"], function(Plotly) {                    window.PLOTLYENV=window.PLOTLYENV || {};                                    if (document.getElementById(\"2f11a416-2d85-4e6a-9d71-ed01494dd0fa\")) {                    Plotly.newPlot(                        \"2f11a416-2d85-4e6a-9d71-ed01494dd0fa\",                        [{\"customdata\": [[\"Thiago Mendes\", \"Olympique Lyon\", \"Defensive Midfield\"], [\"Lucas Tousart\", \"Hertha BSC\", \"Defensive Midfield\"], [\"Omar Mascarell\", \"FC Schalke 04\", \"Defensive Midfield\"], [\"Steven Nzonzi\", \"AS Roma\", \"Defensive Midfield\"], [\"Ibrahim Amadou\", \"Sevilla FC\", \"Defensive Midfield\"], [\"Facundo P\\u00edriz\", \"Montpellier HSC\", \"Defensive Midfield\"], [\"Francis Coquelin\", \"Villarreal CF\", \"Defensive Midfield\"], [\"Douglas Luiz\", \"Aston Villa\", \"Defensive Midfield\"], [\"Habib Ma\\u00efga\", \"FC Metz\", \"Defensive Midfield\"], [\"Marc Roca\", \"Bayern Munich\", \"Defensive Midfield\"], [\"Fabinho\", \"Liverpool FC\", \"Defensive Midfield\"], [\"Jorginho\", \"Chelsea FC\", \"Defensive Midfield\"], [\"Tom\\u00e1s Rinc\\u00f3n\", \"Torino FC\", \"Defensive Midfield\"], [\"Esteban Rol\\u00f3n\", \"Genoa CFC\", \"Defensive Midfield\"], [\"Ellyes Skhiri\", \"1. FC K\\u00f6ln\", \"Defensive Midfield\"], [\"Bryan Cristante\", \"AS Roma\", \"Defensive Midfield\"], [\"Santiago Ascac\\u00edbar\", \"Hertha BSC\", \"Defensive Midfield\"], [\"Emre Can\", \"Borussia Dortmund\", \"Defensive Midfield\"], [\"Sebastian Rudy\", \"TSG 1899 Hoffenheim\", \"Defensive Midfield\"], [\"Lucas Torreira\", \"ACF Fiorentina\", \"Defensive Midfield\"], [\"Denis Zakaria\", \"Juventus FC\", \"Defensive Midfield\"], [\"Prince Oniangu\\u00e9\", \"SM Caen\", \"Defensive Midfield\"], [\"Erick Pulgar\", \"ACF Fiorentina\", \"Defensive Midfield\"], [\"Baptiste Santamaria\", \"SC Freiburg\", \"Defensive Midfield\"], [\"Maxime Gonalons\", \"Granada CF\", \"Defensive Midfield\"], [\"\\u00c9tienne Capoue\", \"Villarreal CF\", \"Defensive Midfield\"], [\"Bryan Cristante\", \"Atalanta BC\", \"Defensive Midfield\"], [\"Diego Demme\", \"SSC Napoli\", \"Defensive Midfield\"], [\"Emre Can\", \"Borussia Dortmund\", \"Defensive Midfield\"], [\"Allan\", \"Everton FC\", \"Defensive Midfield\"], [\"Milan Badelj\", \"ACF Fiorentina\", \"Defensive Midfield\"], [\"Federico Viviani\", \"Frosinone Calcio\", \"Defensive Midfield\"], [\"Geoffrey Kondogbia\", \"Atl\\u00e9tico de Madrid\", \"Defensive Midfield\"], [\"Mirko Valdifiori\", \"SPAL\", \"Defensive Midfield\"], [\"Amadou Diawara\", \"AS Roma\", \"Defensive Midfield\"], [\"Cheikhou Kouyat\\u00e9\", \"Crystal Palace\", \"Defensive Midfield\"], [\"Boubakary Soumar\\u00e9\", \"Leicester City\", \"Defensive Midfield\"], [\"Vincent Pajot\", \"FC Metz\", \"Defensive Midfield\"], [\"Danilo Pereira\", \"Paris Saint-Germain\", \"Defensive Midfield\"], [\"Tiemou\\u00e9 Bakayoko\", \"AC Milan\", \"Defensive Midfield\"], [\"Mario Lemina\", \"OGC Nice\", \"Defensive Midfield\"], [\"Stanislav Lobotka\", \"SSC Napoli\", \"Defensive Midfield\"], [\"Sebastian Griesbeck\", \"SpVgg Greuther F\\u00fcrth\", \"Defensive Midfield\"], [\"Federico Viviani\", \"SPAL\", \"Defensive Midfield\"], [\"Tiemou\\u00e9 Bakayoko\", \"AC Milan\", \"Defensive Midfield\"], [\"Lucas Torreira\", \"Arsenal FC\", \"Defensive Midfield\"], [\"Thomas Delaney\", \"Sevilla FC\", \"Defensive Midfield\"], [\"Abdoulaye Tour\\u00e9\", \"Genoa CFC\", \"Defensive Midfield\"], [\"Jacopo Petriccione\", \"FC Crotone\", \"Defensive Midfield\"], [\"Tiemou\\u00e9 Bakayoko\", \"AS Monaco\", \"Defensive Midfield\"], [\"Thomas Partey\", \"Arsenal FC\", \"Defensive Midfield\"], [\"Vincent Pajot\", \"SCO Angers\", \"Defensive Midfield\"], [\"L\\u00e9o Sena\", \"Spezia Calcio\", \"Defensive Midfield\"], [\"Mario Lemina\", \"Fulham FC\", \"Defensive Midfield\"], [\"Rodri\", \"Atl\\u00e9tico de Madrid\", \"Defensive Midfield\"], [\"K\\u00e9vin N'Doram\", \"FC Metz\", \"Defensive Midfield\"], [\"Manuel Locatelli\", \"US Sassuolo\", \"Defensive Midfield\"], [\"Sandro Tonali\", \"AC Milan\", \"Defensive Midfield\"], [\"Walace\", \"Udinese Calcio\", \"Defensive Midfield\"], [\"Thomas Monconduit\", \"FC Lorient\", \"Defensive Midfield\"], [\"Omar Mascarell\", \"Real Madrid\", \"Defensive Midfield\"], [\"Jefferson Lerma\", \"AFC Bournemouth\", \"Defensive Midfield\"], [\"Jean-Philippe Gbamin\", \"Everton FC\", \"Defensive Midfield\"], [\"Rolando Mandragora\", \"Udinese Calcio\", \"Defensive Midfield\"], [\"Albin Ekdal\", \"UC Sampdoria\", \"Defensive Midfield\"], [\"Bryan Cristante\", \"AS Roma\", \"Defensive Midfield\"], [\"Geoffrey Kondogbia\", \"Valencia CF\", \"Defensive Midfield\"], [\"Pere Pons\", \"Deportivo Alav\\u00e9s\", \"Defensive Midfield\"], [\"Isma\\u00ebl Bennacer\", \"AC Milan\", \"Defensive Midfield\"]], \"hovertemplate\": \"position=%{customdata[2]}<br>PC1=%{x}<br>PC5=%{y}<br>player_name=%{customdata[0]}<br>club_name=%{customdata[1]}<br>fee_infladj=%{marker.color}<extra></extra>\", \"legendgroup\": \"Defensive Midfield\", \"marker\": {\"color\": [22.624992663027527, 25.71021893525856, 10.407484407484407, 27.735945945945947, 14.98677754677755, 1.0407484407484409, 7.28374612096727, 17.27726712449375, 1.0284087574103422, 9.232917618127528, 46.83367983367984, 59.32266112266113, 6.140415800415801, 0.104074844074844, 6.170452544462053, 5.2037422037422045, 10.284087574103422, 25.646993383687573, 0.8741474437987908, 1.5, 8.6, 0.5203742203742204, 12.64942771614721, 10.258797353475028, 4.103518941390012, 2.0517594706950057, 9.887110187110189, 10.541189763456009, 1.0284087574103422, 24.21076175420107, 0.7198861301872395, 0.3122245322245322, 15.388196030212542, 1.0407484407484409, 21.596583905617187, 11.136008316008317, 20.0, 0.7181158147432519, 16.0, 2.0, 5.5, 21.596583905617187, 0.25, 3.434469854469855, 5.2037422037422045, 29.81744282744283, 6.0, 3.5, 1.5388196030212544, 3.085226272231026, 51.293986767375145, 1.0407484407484409, 2.0, 2.2569354177645065, 20.814968814968815, 4.616458809063763, 14.397722603744793, 10.258797353475028, 6.170452544462053, 2.0517594706950057, 4.1629937629937634, 29.140956340956343, 25.71021893525856, 20.814968814968815, 2.7059459459459463, 22.624992663027527, 22.8964656964657, 2.0568175148206844, 17.688630627457886], \"coloraxis\": \"coloraxis\", \"symbol\": \"circle\"}, \"mode\": \"markers\", \"name\": \"Defensive Midfield\", \"orientation\": \"v\", \"showlegend\": true, \"type\": \"scatter\", \"x\": [12.136517640994127, 5.190835844433876, -3.935882955893464, 6.3025833345358455, 3.6353098264856643, -5.4451881824542525, -1.3491259317126212, -3.658616946353983, -7.901886959041605, 11.393525871315276, 15.999953677405827, 20.371731154317324, 8.693538163375957, -8.206614383429704, 11.367190134606126, 13.989971314114879, 4.563373900574101, 3.9384853609487265, 0.6296822721584795, 4.942489736314947, 2.125016614768198, -4.8625595920096405, 10.788496608645193, 8.048367981097208, -2.8352678992691382, 6.852135542093361, 13.989971314114879, 9.707836770951108, 7.025227331779398, 10.184154648263828, 5.533552911614867, 12.34740153277598, 4.693930228176062, -6.062601646491931, -4.010132301749944, 4.682630161781115, -2.0927036471358065, -7.056720137513938, -5.981035575766009, 5.406555383733605, -1.2979311574959875, 7.8845317070599865, -6.504826060831534, 12.34740153277598, 5.128412882221355, 16.553508933337913, 2.4826578156017014, 6.350259503282091, 6.124385299043174, 7.114359005147861, 8.752687289039013, -3.1926595810448006, -7.104525970557365, -2.2405189983342906, 15.14194671845577, -2.3410216949893448, 0.7624286535925597, 13.82458097783189, 1.1473323074162152, 5.513216821093886, -3.935882955893464, 2.657260863407572, 7.251525023696031, 8.496537445746652, -3.014288066835455, 12.486285566868354, 11.023005741877345, 6.5408218615474665, 15.899618826404712], \"xaxis\": \"x\", \"y\": [2.033851093455544, -2.9076922971589005, 2.5071506697358674, 1.3642986784112874, 0.9690562376194576, 0.3819673974976513, 0.7369592860200433, 0.7611085262936528, -0.6023834971346889, -1.053219325922445, -1.719620246171817, 0.7714891820158569, -2.8192822420505568, 1.3058956247744482, -3.2599386441493863, -4.253208628363223, -3.7182591331074275, 0.3578699015491258, 1.2131102708594081, 2.3219875023456997, -0.6395565427888712, -0.40554085243342464, 2.9225807669039536, -4.021259304439709, 0.09670947424345322, -2.050188485404483, -4.253208628363223, -1.3357029738887936, -0.7404646731155204, -3.465377674534823, -0.8522484892024119, 7.413490405682812, -0.5614022479973739, 1.7736850191521916, 2.916935720075911, -4.306982220756781, 1.5360235124504333, -0.31601405030917396, 0.2932327902557186, -2.283082420263465, -1.4557721410774116, -0.9645187774897869, -0.6478992051524842, 7.413490405682812, -2.9691428000874938, 3.6188692503572435, -0.7142052135316564, -1.6544428896314778, 2.2736091468004815, -3.3675216975818785, 0.28989059370468473, 1.1185958240928784, -0.7048475000413239, -1.567598742914507, -1.5734466374820468, 0.5436788583055683, 1.9077579177267117, 9.971204329305507, -0.7898231216589454, -1.5073818518027087, 2.5071506697358674, -2.1228126705890675, -1.7001132927023284, -2.7324384124536296, -0.5694305231202568, -3.9055915313186675, -1.0498145258740892, -4.4745884472119535, 0.5939501484690979], \"yaxis\": \"y\"}, {\"customdata\": [[\"Gr\\u00e9goire Defrel\", \"UC Sampdoria\", \"Centre-Forward\"], [\"Jhon C\\u00f3rdoba\", \"Hertha BSC\", \"Centre-Forward\"], [\"Enric Gallego\", \"CA Osasuna\", \"Centre-Forward\"], [\"Wahbi Khazri\", \"AS Saint-\\u00c9tienne\", \"Centre-Forward\"], [\"Roberto Soldado\", \"Levante UD\", \"Centre-Forward\"], [\"Boulaye Dia\", \"Villarreal CF\", \"Centre-Forward\"], [\"Lys Mousset\", \"Sheffield United\", \"Centre-Forward\"], [\"\\u00c1lvaro Morata\", \"Atl\\u00e9tico de Madrid\", \"Centre-Forward\"], [\"Marco Sau\", \"UC Sampdoria\", \"Centre-Forward\"], [\"Moussa Konat\\u00e9\", \"Dijon FCO\", \"Centre-Forward\"], [\"Andr\\u00e9 Silva\", \"Eintracht Frankfurt\", \"Centre-Forward\"], [\"Manolo Gabbiadini\", \"UC Sampdoria\", \"Centre-Forward\"], [\"Diogo Jota\", \"Liverpool FC\", \"Centre-Forward\"], [\"Ignacio Pussetto\", \"Watford FC\", \"Centre-Forward\"], [\"Sergio Le\\u00f3n\", \"Levante UD\", \"Centre-Forward\"], [\"Thierry Ambrose\", \"FC Metz\", \"Centre-Forward\"], [\"Dawid Kownacki\", \"Fortuna D\\u00fcsseldorf\", \"Centre-Forward\"], [\"Roger Assal\\u00e9\", \"Dijon FCO\", \"Centre-Forward\"], [\"Taiwo Awoniyi\", \"1.FC Union Berlin\", \"Centre-Forward\"], [\"Martin Braithwaite\", \"FC Barcelona\", \"Centre-Forward\"], [\"Khouma Babacar\", \"US Lecce\", \"Centre-Forward\"], [\"Stefano Okaka\", \"Udinese Calcio\", \"Centre-Forward\"], [\"Michy Batshuayi\", \"Crystal Palace\", \"Centre-Forward\"], [\"Rub\\u00e9n Sobrino\", \"Valencia CF\", \"Centre-Forward\"], [\"Jo\\u00e3o Pedro\", \"Watford FC\", \"Centre-Forward\"], [\"Christian Kouam\\u00e9\", \"ACF Fiorentina\", \"Centre-Forward\"], [\"Lucas P\\u00e9rez\", \"West Ham United\", \"Centre-Forward\"], [\"Sebastian Andersson\", \"1. FC K\\u00f6ln\", \"Centre-Forward\"], [\"Federico Bonazzoli\", \"Torino FC\", \"Centre-Forward\"], [\"Landry Dimata\", \"RCD Espanyol Barcelona\", \"Centre-Forward\"], [\"Francesco Caputo\", \"UC Sampdoria\", \"Centre-Forward\"], [\"Sven Michel\", \"1.FC Union Berlin\", \"Centre-Forward\"], [\"Ra\\u00fal de Tom\\u00e1s\", \"RCD Espanyol Barcelona\", \"Centre-Forward\"], [\"Borja Mayoral\", \"AS Roma\", \"Centre-Forward\"], [\"Cristiano Ronaldo\", \"Manchester United\", \"Centre-Forward\"], [\"Romelu Lukaku\", \"Chelsea FC\", \"Centre-Forward\"], [\"M'Baye Niang\", \"Torino FC\", \"Centre-Forward\"], [\"\\u00c1lvaro Morata\", \"Atl\\u00e9tico de Madrid\", \"Centre-Forward\"], [\"Keita Bald\\u00e9\", \"UC Sampdoria\", \"Centre-Forward\"], [\"Luis Su\\u00e1rez\", \"Granada CF\", \"Centre-Forward\"], [\"Ante Budimir\", \"CA Osasuna\", \"Centre-Forward\"], [\"Victor Osimhen\", \"SSC Napoli\", \"Centre-Forward\"], [\"Rafa Mir\", \"Sevilla FC\", \"Centre-Forward\"], [\"Borja Mayoral\", \"Getafe CF\", \"Centre-Forward\"], [\"Enric Gallego\", \"Getafe CF\", \"Centre-Forward\"], [\"Diego Rol\\u00e1n\", \"CD Legan\\u00e9s\", \"Centre-Forward\"], [\"Maxi G\\u00f3mez\", \"Valencia CF\", \"Centre-Forward\"], [\"Keita Bald\\u00e9\", \"Inter Milan\", \"Centre-Forward\"], [\"Enzo Crivelli\", \"SM Caen\", \"Centre-Forward\"], [\"Emiliano Sala\", \"Cardiff City\", \"Centre-Forward\"], [\"Gianluca Lapadula\", \"Benevento Calcio\", \"Centre-Forward\"], [\"Carlos Vin\\u00edcius\", \"Tottenham Hotspur\", \"Centre-Forward\"], [\"Romelu Lukaku\", \"Inter Milan\", \"Centre-Forward\"], [\"Duv\\u00e1n Zapata\", \"Atalanta BC\", \"Centre-Forward\"], [\"Simone Zaza\", \"Torino FC\", \"Centre-Forward\"], [\"Matthew Hoppe\", \"RCD Mallorca\", \"Centre-Forward\"], [\"\\u00c1lvaro Morata\", \"Juventus FC\", \"Centre-Forward\"], [\"Lucas P\\u00e9rez\", \"Deportivo Alav\\u00e9s\", \"Centre-Forward\"], [\"Patrick Cutrone\", \"ACF Fiorentina\", \"Centre-Forward\"], [\"Andr\\u00e9 Silva\", \"RB Leipzig\", \"Centre-Forward\"], [\"Paco Alc\\u00e1cer\", \"Borussia Dortmund\", \"Centre-Forward\"], [\"Marcus Ingvartsen\", \"1.FSV Mainz 05\", \"Centre-Forward\"], [\"Anthony Ujah\", \"1.FC Union Berlin\", \"Centre-Forward\"], [\"Bobby Wood\", \"Hannover 96\", \"Centre-Forward\"], [\"Breel Embolo\", \"Borussia M\\u00f6nchengladbach\", \"Centre-Forward\"], [\"S\\u00e9bastien Haller\", \"West Ham United\", \"Centre-Forward\"], [\"Anastasios Donis\", \"Stade Reims\", \"Centre-Forward\"], [\"Salom\\u00f3n Rond\\u00f3n\", \"Newcastle United\", \"Centre-Forward\"], [\"Dawid Kownacki\", \"Fortuna D\\u00fcsseldorf\", \"Centre-Forward\"], [\"Jean-Philippe Mateta\", \"Crystal Palace\", \"Centre-Forward\"], [\"Gr\\u00e9goire Defrel\", \"AS Roma\", \"Centre-Forward\"], [\"Paco Alc\\u00e1cer\", \"Borussia Dortmund\", \"Centre-Forward\"], [\"M'Baye Niang\", \"Stade Rennais FC\", \"Centre-Forward\"], [\"Borja Mayoral\", \"Levante UD\", \"Centre-Forward\"], [\"Arkadiusz Milik\", \"Olympique Marseille\", \"Centre-Forward\"], [\"Andy Delort\", \"Montpellier HSC\", \"Centre-Forward\"], [\"Habib Diallo\", \"RC Strasbourg Alsace\", \"Centre-Forward\"], [\"Karlan Grant\", \"West Bromwich Albion\", \"Centre-Forward\"], [\"Borja Mayoral\", \"Levante UD\", \"Centre-Forward\"], [\"Wissam Ben Yedder\", \"AS Monaco\", \"Centre-Forward\"], [\"Patrick Cutrone\", \"Wolverhampton Wanderers\", \"Centre-Forward\"], [\"Cristiano Ronaldo\", \"Juventus FC\", \"Centre-Forward\"], [\"Jordan Ayew\", \"Crystal Palace\", \"Centre-Forward\"], [\"Andrea Petagna\", \"SPAL\", \"Centre-Forward\"], [\"Roberto Inglese\", \"Parma Calcio 1913\", \"Centre-Forward\"], [\"Luis Muriel\", \"Atalanta BC\", \"Centre-Forward\"], [\"Moise Kean\", \"Everton FC\", \"Centre-Forward\"], [\"Vedat Muriqi\", \"RCD Mallorca\", \"Centre-Forward\"], [\"Callum Wilson\", \"Newcastle United\", \"Centre-Forward\"], [\"Davie Selke\", \"SV Werder Bremen\", \"Centre-Forward\"], [\"Youssef En-Nesyri\", \"CD Legan\\u00e9s\", \"Centre-Forward\"], [\"Andy Delort\", \"OGC Nice\", \"Centre-Forward\"], [\"Andrea Pinamonti\", \"Genoa CFC\", \"Centre-Forward\"], [\"Olivier Giroud\", \"AC Milan\", \"Centre-Forward\"], [\"Patrik Schick\", \"AS Roma\", \"Centre-Forward\"], [\"Luis Muriel\", \"ACF Fiorentina\", \"Centre-Forward\"], [\"Chris Wood\", \"Newcastle United\", \"Centre-Forward\"], [\"Lucas Boy\\u00e9\", \"Elche CF\", \"Centre-Forward\"], [\"Lebo Mothiba\", \"RC Strasbourg Alsace\", \"Centre-Forward\"], [\"Ishak Belfodil\", \"Hertha BSC\", \"Centre-Forward\"], [\"Giovanni Simeone\", \"Hellas Verona\", \"Centre-Forward\"], [\"Joselu\", \"Deportivo Alav\\u00e9s\", \"Centre-Forward\"], [\"Eldor Shomurodov\", \"AS Roma\", \"Centre-Forward\"], [\"Roberto Inglese\", \"Parma Calcio 1913\", \"Centre-Forward\"], [\"Francesco Caputo\", \"US Sassuolo\", \"Centre-Forward\"], [\"Ihlas Bebou\", \"TSG 1899 Hoffenheim\", \"Centre-Forward\"], [\"Felipe Caicedo\", \"Genoa CFC\", \"Centre-Forward\"], [\"Ernesto Torregrossa\", \"UC Sampdoria\", \"Centre-Forward\"], [\"Christian Kouam\\u00e9\", \"ACF Fiorentina\", \"Centre-Forward\"], [\"Khouma Babacar\", \"US Sassuolo\", \"Centre-Forward\"], [\"Marcello Trotta\", \"Frosinone Calcio\", \"Centre-Forward\"], [\"Gr\\u00e9goire Defrel\", \"US Sassuolo\", \"Centre-Forward\"], [\"Oliver Burke\", \"Sheffield United\", \"Centre-Forward\"], [\"Michael Gregoritsch\", \"FC Schalke 04\", \"Centre-Forward\"], [\"Tammy Abraham\", \"AS Roma\", \"Centre-Forward\"], [\"Patrik Schick\", \"Bayer 04 Leverkusen\", \"Centre-Forward\"], [\"Niclas F\\u00fcllkrug\", \"SV Werder Bremen\", \"Centre-Forward\"], [\"Benito Raman\", \"FC Schalke 04\", \"Centre-Forward\"], [\"Borja Iglesias\", \"Real Betis Balompi\\u00e9\", \"Centre-Forward\"], [\"Alberto Cerri\", \"Cagliari Calcio\", \"Centre-Forward\"], [\"Emmanuel Dennis\", \"Watford FC\", \"Centre-Forward\"], [\"Lo\\u00efc R\\u00e9my\", \"LOSC Lille\", \"Centre-Forward\"], [\"Benik Afobe\", \"Wolverhampton Wanderers\", \"Centre-Forward\"], [\"Anastasios Donis\", \"Stade Reims\", \"Centre-Forward\"], [\"Danny Ings\", \"Aston Villa\", \"Centre-Forward\"], [\"Yuya Osako\", \"SV Werder Bremen\", \"Centre-Forward\"], [\"Oliver McBurnie\", \"Sheffield United\", \"Centre-Forward\"], [\"Matheus Cunha\", \"Atl\\u00e9tico de Madrid\", \"Centre-Forward\"], [\"Gianluca Lapadula\", \"Genoa CFC\", \"Centre-Forward\"], [\"Ernesto Torregrossa\", \"UC Sampdoria\", \"Centre-Forward\"], [\"Simone Zaza\", \"Torino FC\", \"Centre-Forward\"], [\"Duv\\u00e1n Zapata\", \"Atalanta BC\", \"Centre-Forward\"], [\"K\\u00e9vin Gameiro\", \"Valencia CF\", \"Centre-Forward\"], [\"Sandro Ram\\u00edrez\", \"Getafe CF\", \"Centre-Forward\"], [\"Duv\\u00e1n Zapata\", \"UC Sampdoria\", \"Centre-Forward\"], [\"Florian Niederlechner\", \"FC Augsburg\", \"Centre-Forward\"], [\"Moise Kean\", \"Juventus FC\", \"Centre-Forward\"], [\"Antonio Sanabria\", \"Genoa CFC\", \"Centre-Forward\"], [\"Martin Braithwaite\", \"CD Legan\\u00e9s\", \"Centre-Forward\"], [\"Diego Falcinelli\", \"Bologna FC 1909\", \"Centre-Forward\"], [\"Ra\\u00fal Jim\\u00e9nez\", \"Wolverhampton Wanderers\", \"Centre-Forward\"], [\"Youssef En-Nesyri\", \"Sevilla FC\", \"Centre-Forward\"], [\"Enes \\u00dcnal\", \"Getafe CF\", \"Centre-Forward\"], [\"Mauro Icardi\", \"Paris Saint-Germain\", \"Centre-Forward\"], [\"Jean-Philippe Mateta\", \"Crystal Palace\", \"Centre-Forward\"], [\"Marc Cardona\", \"CA Osasuna\", \"Centre-Forward\"], [\"Yacine Bammou\", \"SM Caen\", \"Centre-Forward\"], [\"Andrea Pinamonti\", \"Genoa CFC\", \"Centre-Forward\"], [\"Matheus Cunha\", \"Hertha BSC\", \"Centre-Forward\"], [\"Alberto Paloschi\", \"SPAL\", \"Centre-Forward\"], [\"Gonzalo Higua\\u00edn\", \"Chelsea FC\", \"Centre-Forward\"], [\"Ga\\u00ebtan Laborde\", \"Stade Rennais FC\", \"Centre-Forward\"], [\"Pedro\", \"ACF Fiorentina\", \"Centre-Forward\"], [\"Michy Batshuayi\", \"Valencia CF\", \"Centre-Forward\"], [\"Timo Werner\", \"Chelsea FC\", \"Centre-Forward\"], [\"Antonino La Gumina\", \"UC Sampdoria\", \"Centre-Forward\"], [\"Ga\\u00ebtan Laborde\", \"Montpellier HSC\", \"Centre-Forward\"], [\"Daniel Ginczek\", \"VfL Wolfsburg\", \"Centre-Forward\"], [\"Richarlison\", \"Everton FC\", \"Centre-Forward\"], [\"Florin Andone\", \"Brighton & Hove Albion\", \"Centre-Forward\"], [\"Giovanni Simeone\", \"Cagliari Calcio\", \"Centre-Forward\"]], \"hovertemplate\": \"position=%{customdata[2]}<br>PC1=%{x}<br>PC5=%{y}<br>player_name=%{customdata[0]}<br>club_name=%{customdata[1]}<br>fee_infladj=%{marker.color}<extra></extra>\", \"legendgroup\": \"Centre-Forward\", \"marker\": {\"color\": [1.5611226611226612, 15.388196030212542, 3.077639206042509, 7.285239085239086, 0.5, 12.0, 11.415337207254796, 18.733471933471936, 0.104074844074844, 2.4621113648340067, 3.077639206042509, 12.384906444906449, 45.85682417003338, 8.74147443798791, 4.113635029641369, 2.0517594706950057, 1.3009355509355511, 4.103518941390012, 6.5, 18.51135763338616, 1.0284087574103422, 0.5203742203742204, 1.196860706860707, 5.2037422037422045, 4.113635029641369, 1.0284087574103422, 4.57929313929314, 6.668218279758769, 1.5388196030212544, 2.2, 0.5, 2.5, 23.1391970417327, 2.564699338368757, 15.0, 113.0, 12.48898128898129, 35.9057907371626, 1.0258797353475029, 7.18115814743252, 8.0, 76.94098015106272, 16.0, 0.5, 6.170452544462053, 1.0407484407484409, 14.911926982449964, 5.2037422037422045, 3.1222453222453224, 17.692723492723495, 4.103518941390012, 3.077639206042509, 76.10224804836533, 12.340905088924108, 12.340905088924108, 3.5, 20.517594706950057, 2.3653401420437867, 3.085226272231026, 23.0, 21.596583905617187, 0.6, 2.0568175148206844, 1.248898128898129, 13.36931384633445, 51.42043787051711, 4.103518941390012, 2.28964656964657, 6.94175911251981, 3.59057907371626, 15.611226611226613, 2.0814968814968817, 15.426131361155132, 2.0568175148206844, 4.031707359915687, 4.62783940834654, 10.258797353475028, 16.927015633233797, 2.0814968814968817, 41.13635029641369, 18.51135763338616, 121.76756756756758, 2.879544520748958, 12.340905088924108, 3.1222453222453224, 21.80226565709925, 28.28124082878441, 0.5, 22.82582411148194, 1.0284087574103422, 6.244490644490645, 10.0, 20.004654839276306, 1.0, 43.71143451143452, 1.0407484407484409, 30.0, 3.0, 4.1629937629937634, 0.5, 1.5, 2.3036356165991667, 18.0, 22.364178230575565, 7.970167869930152, 8.74147443798791, 2.0, 0.5129398676737514, 11.284677088822532, 7.285239085239086, 1.144823284823285, 10.258797353475028, 6.668218279758769, 0.5142043787051711, 40.0, 27.185812986708825, 6.684656923167225, 10.284087574103422, 28.795445207489585, 9.25567881669308, 4.0, 1.4570478170478172, 11.864532224532226, 1.0284087574103422, 29.42, 4.683367983367984, 19.64260726653754, 26.0, 11.44823284823285, 6.0, 2.0814968814968817, 14.570478170478172, 16.651975051975054, 1.0, 19.253846153846155, 2.5710218935258555, 7.0, 0.5724116424116426, 5.142043787051711, 7.285239085239086, 39.079532781593, 20.568175148206844, 9.232917618127528, 51.293986767375145, 11.0, 2.5710218935258555, 2.8100207900207903, 0.5142043787051711, 18.51135763338616, 4.1629937629937634, 8.117837837837838, 15.0, 11.312496331513763, 3.1222453222453224, 54.37162597341765, 5.5, 3.1222453222453224, 10.407484407484407, 40.79733887733889, 6.244490644490645, 3.085226272231026], \"coloraxis\": \"coloraxis\", \"symbol\": \"diamond\"}, \"mode\": \"markers\", \"name\": \"Centre-Forward\", \"orientation\": \"v\", \"showlegend\": true, \"type\": \"scatter\", \"x\": [-6.06025241479789, -2.0358048938155386, -6.6123318186957025, 4.196114963815361, -1.566446140613506, -0.5218927548252368, -6.7190502631171904, 3.46869198638217, -2.915706562353182, -2.3652975815870603, -0.9460001832932302, -6.210260699949303, 1.382612082733928, -2.507950543888623, -4.297513016635227, -5.830301938650495, -4.352452563509543, -6.322258980544562, -7.5176070204859995, -4.312481584694152, -4.341496947923113, -6.344577516897337, -5.5316435466381435, -0.8093925004803079, 1.399000934742705, -1.390404899193036, 8.932280185061739, 4.682291467563576, -4.748102560338533, -8.977171954740175, 3.6275719572748546, -6.568000522342505, -4.501644628592483, -2.9450184046260386, 12.22119118916929, 5.803380471435643, 1.0882583278137437, 0.5635583514364169, -2.830453574174749, 8.17923669795852, -3.301735787689025, -6.758281542035288, 1.2611308440868183, -5.220463692385534, -7.168418441139121, 2.814034596142761, 3.6470550200177168, -1.3883113947837418, -5.686808353626213, 5.477338609921755, -3.9394776339984015, -10.22433777960441, 3.6114646141180824, 5.1230892268966235, -1.210823829256737, -4.596055625254117, 0.3999847483389738, 0.8883702749409161, -2.712345675752613, 1.0931069938235654, -3.6389558605081653, -3.5464689828571214, -6.399534285088771, -2.957974209569186, -2.46944458552332, 4.397701287149751, -4.807291668844853, 6.060780709740168, -5.362776692824706, -5.132553975962917, -6.06025241479789, -5.138770752957014, 1.008096050605224, -4.83338096299889, -1.4228643586802519, 8.145932134171858, 0.986170728296876, -9.947232485671659, -7.400011440807253, 4.204718467034318, -2.688177583734137, 8.118959645686074, 4.685526745123661, 3.4347440115109737, 2.919889820806332, -6.060859089625183, -5.975746213460264, -8.988521256223537, 2.1136629234190734, 0.09251833237465737, -2.115284454172187, 7.30969701304711, 0.16898090741989635, -5.607145489536376, -3.878376948863645, -0.07491862358633702, 0.1724702538399169, -1.4998605836780263, -5.278520987465565, -2.308997575241799, 2.3525074920903415, -4.101097927417106, -5.930629071486477, -1.1263848515440988, 7.520647799107172, 2.4205677708955666, -3.3198586695158516, 2.169991707632402, -3.439926688650124, -6.181255317297298, 4.6575346418319254, -2.5651950195429527, -5.19732460795342, 5.187983835280612, -2.401074379314225, -3.2292659872114555, 0.13398301210790686, -4.318599922752097, -2.941718259543796, -9.391814721109405, -9.583964841827285, -7.169966063760879, -7.4244442067552505, -3.6002371734380927, 5.034736573833485, 0.46149299131211297, -10.26164895733697, -2.297572087871651, -3.1433843441555105, -4.93840392401581, 0.23615021907870815, 2.2755981559242167, -4.024334846995273, -3.286481142573799, 2.2755981559242167, -6.042766549750954, -4.801383041640372, -6.288748671222109, -4.5754484799765525, -7.270738698788774, -0.9607051879912853, -0.45478668799143973, -1.5851903400102887, -0.39301181762486603, -5.028265064577477, -5.804054229187361, -5.418596137649559, -0.9191631402728117, -7.990316407563471, -2.457480978636916, 6.861090804797456, 4.505011622233638, 3.6401964711635992, -5.5316435466381435, 9.204385557028447, -8.667832127422251, -5.312967409655394, -2.4173940072867057, 10.607070368434377, -2.632518369607767, 4.270126475656031], \"xaxis\": \"x\", \"y\": [0.5856121066312497, -0.1812052000230348, -1.286603270357062, 1.0196430433193795, 0.32165075597876014, -0.4679271485011373, 1.0231540676512976, -0.673300611907482, -0.9119386692256662, 0.011117990992860372, -0.19029618956812616, 1.3407328053362149, -2.9795773012984137, -4.455555149391314, 0.38418620337457243, 0.17118084042905712, 2.080529435654028, 2.838421419400534, -0.4260598552387591, 1.220190498612058, 0.5527487250589957, 1.4785679172314588, 1.8602595617960833, -1.6097613628426357, 0.6582515135055703, -4.038113400720108, 3.4439633312401376, -3.4286631190830628, 1.8982811186047686, -1.1940657767562137, 1.485423481687477, -1.937449471409852, -1.2161843742407852, 1.4049409812165048, 2.801080853597913, 0.8373595850452752, -1.302367667688644, -0.5724695840931179, 1.775578310914879, 1.7669990812664982, -1.4534826017387612, -1.170597721444121, -2.414868929771646, 0.479031484344689, -1.888700724044763, -2.2130515465706915, 0.6979706877293853, 1.9818138119984712, 0.09686067486562533, -4.035425198971348, -0.17413390874540602, -1.0990325485590535, 0.08624261341718764, 0.2752661419917075, -0.7546540389107963, 1.4189050379392314, -0.4921500607590963, 3.053387281792901, -0.6809685702129815, 0.26276265588028835, 4.4853959793654665, -1.3766858435335276, 1.484182352339923, -2.2701092245833108, -0.39869881436880356, -0.9463019091271354, 0.07503984073866288, -4.087683246051281, 2.3118870103053517, -1.2683018185342636, 0.5856121066312497, 3.318547519876243, -0.3810747600767971, 1.7086562655471567, 1.4349869838025113, -2.601494130271708, 0.34828413094492405, -1.1835399791741006, 2.761342662465936, -0.29707811169138704, -0.34583076832497384, 3.7537158209295436, -6.05745673927891, -0.16867555587094452, -2.4542984867303366, -1.4797963654551853, 1.4898830452214191, -1.3735103149244476, -1.701897675875574, -1.2622086947920743, -3.012692050677642, -1.471607579425302, -1.9827693806002316, 1.330101543426711, -0.34807253842172003, -0.660895724639612, -1.027897895902456, -2.0481462672887067, 1.3280748938853368, 0.7352192831458171, -3.513745770165489, -0.8476981876314451, -1.3552291069089315, -1.0384639065098262, -1.208687848312941, -1.5736088570773574, 1.781363630634284, -0.8285813466289081, -1.9955790242035274, 0.696564009401578, -3.695486687858058, 0.5242084826895943, -0.5672320334989118, -1.18225429039222, -0.31102399206620335, 0.06392937685382816, -0.37482088446674494, -1.4963690514681378, -2.5606878439313965, -1.4489987573029204, -1.1444209030886316, 2.608151216057244, 0.7916261624407954, 0.12335999678143961, -2.240501387588888, -0.27026179129095, -0.4763689896780243, 0.40816765198753224, -1.7922128478114558, -1.5636391764498336, -0.4978928222759321, 0.14826173051058533, 1.7407565647587662, 0.49949585590895196, 0.14826173051058533, 0.6709420585638155, 1.1464965234686688, 2.8903297827464276, 1.485887728060382, 0.8573299274162121, -2.7062163122687117, -2.834632204249636, -1.2284598917748788, 1.7498913442032746, -0.42835130690991596, 0.8972345390002933, 1.0112867873586389, -0.9960215603866469, -1.1579789962454474, 0.12956772672574102, 0.449157327726176, -2.4727654889086326, 0.8495893901789607, 1.8602595617960833, -0.46843451785395684, -0.7467850510124834, -0.4321317253162468, -0.7805457969249413, -8.197056692760306, -2.0482839399938415, -4.721786802220853], \"yaxis\": \"y\"}, {\"customdata\": [[\"Moi G\\u00f3mez\", \"Villarreal CF\", \"Left Winger\"], [\"Ramadan Sobhi\", \"Huddersfield Town\", \"Left Winger\"], [\"Na\\u00efm Sliti\", \"Dijon FCO\", \"Left Winger\"], [\"Jadon Sancho\", \"Manchester United\", \"Left Winger\"], [\"Casimir Ninga\", \"SCO Angers\", \"Left Winger\"], [\"Musa Barrow\", \"Bologna FC 1909\", \"Left Winger\"], [\"Stephy Mavididi\", \"Montpellier HSC\", \"Left Winger\"], [\"Rafael Le\\u00e3o\", \"AC Milan\", \"Left Winger\"], [\"Antonino Ragusa\", \"Hellas Verona\", \"Left Winger\"], [\"Moussa Diaby\", \"Bayer 04 Leverkusen\", \"Left Winger\"], [\"Leroy San\\u00e9\", \"Bayern Munich\", \"Left Winger\"], [\"Yann Karamoh\", \"Inter Milan\", \"Left Winger\"], [\"Demarai Gray\", \"Bayer 04 Leverkusen\", \"Left Winger\"], [\"Thorgan Hazard\", \"Borussia Dortmund\", \"Left Winger\"], [\"Karl Toko Ekambi\", \"Villarreal CF\", \"Left Winger\"], [\"Nicola Sansone\", \"Bologna FC 1909\", \"Left Winger\"], [\"Darwin Mach\\u00eds\", \"Granada CF\", \"Left Winger\"], [\"Steven Zuber\", \"VfB Stuttgart\", \"Left Winger\"], [\"Vincenzo Grifo\", \"SC Freiburg\", \"Left Winger\"], [\"Demarai Gray\", \"Everton FC\", \"Left Winger\"], [\"Takashi Inui\", \"SD Eibar\", \"Left Winger\"], [\"Paulinho\", \"Bayer 04 Leverkusen\", \"Left Winger\"], [\"Daniel James\", \"Leeds United\", \"Left Winger\"], [\"Vincenzo Grifo\", \"SC Freiburg\", \"Left Winger\"], [\"Marcus Thuram\", \"Borussia M\\u00f6nchengladbach\", \"Left Winger\"], [\"Allan Saint-Maximin\", \"Newcastle United\", \"Left Winger\"], [\"Karl Toko Ekambi\", \"Olympique Lyon\", \"Left Winger\"], [\"Beb\\u00e9\", \"Rayo Vallecano\", \"Left Winger\"], [\"Ademola Lookman\", \"RB Leipzig\", \"Left Winger\"], [\"Jacob Bruun Larsen\", \"TSG 1899 Hoffenheim\", \"Left Winger\"], [\"Pablo de Blasis\", \"SD Eibar\", \"Left Winger\"], [\"Myziane Maolida\", \"OGC Nice\", \"Left Winger\"], [\"Casimir Ninga\", \"SM Caen\", \"Left Winger\"], [\"Yann Karamoh\", \"Parma Calcio 1913\", \"Left Winger\"], [\"Yannick Carrasco\", \"Atl\\u00e9tico de Madrid\", \"Left Winger\"], [\"Jack Harrison\", \"Leeds United\", \"Left Winger\"], [\"Eden Hazard\", \"Real Madrid\", \"Left Winger\"], [\"Nicol\\u00e1s Gonz\\u00e1lez\", \"ACF Fiorentina\", \"Left Winger\"], [\"Josip Brekalo\", \"Torino FC\", \"Left Winger\"], [\"Jack Grealish\", \"Manchester City\", \"Left Winger\"], [\"Keita Endo\", \"1.FC Union Berlin\", \"Left Winger\"], [\"Philippe Coutinho\", \"Bayern Munich\", \"Left Winger\"], [\"Martin Terrier\", \"Stade Rennais FC\", \"Left Winger\"], [\"Alex Iwobi\", \"Everton FC\", \"Left Winger\"], [\"Gerard Deulofeu\", \"Watford FC\", \"Left Winger\"], [\"Leon Bailey\", \"Aston Villa\", \"Left Winger\"], [\"\\u00c1lvaro Vadillo\", \"RCD Espanyol Barcelona\", \"Left Winger\"], [\"Yoane Wissa\", \"Brentford FC\", \"Left Winger\"], [\"Ademola Lookman\", \"Fulham FC\", \"Left Winger\"], [\"Adama Diakhaby\", \"Huddersfield Town\", \"Left Winger\"], [\"Max Gradel\", \"FC Toulouse\", \"Left Winger\"], [\"Wesley Sa\\u00efd\", \"FC Toulouse\", \"Left Winger\"], [\"Valentin Mihaila\", \"Atalanta BC\", \"Left Winger\"], [\"Gon\\u00e7alo Guedes\", \"Valencia CF\", \"Left Winger\"], [\"Lucas Ocampos\", \"Sevilla FC\", \"Left Winger\"], [\"Denis Cheryshev\", \"Valencia CF\", \"Left Winger\"], [\"Justin Kluivert\", \"RB Leipzig\", \"Left Winger\"], [\"\\u00c1lex Berenguer\", \"Athletic Bilbao\", \"Left Winger\"], [\"Fabio Borini\", \"AC Milan\", \"Left Winger\"]], \"hovertemplate\": \"position=%{customdata[2]}<br>PC1=%{x}<br>PC5=%{y}<br>player_name=%{customdata[0]}<br>club_name=%{customdata[1]}<br>fee_infladj=%{marker.color}<extra></extra>\", \"legendgroup\": \"Left Winger\", \"marker\": {\"color\": [1.336931384633445, 6.764864864864865, 2.0814968814968817, 85.0, 3.085226272231026, 14.5, 6.463042332689268, 30.33805834360509, 1.0284087574103422, 15.426131361155132, 61.55278412085017, 6.764864864864865, 2.0517594706950057, 26.22442331396373, 18.733471933471936, 8.227270059282738, 5.142043787051711, 0.6244490644490645, 0.6244490644490645, 2.0, 2.0568175148206844, 19.253846153846155, 29.1, 7.198861301872396, 9.25567881669308, 18.51135763338616, 11.797616956496285, 0.7805613305613306, 18.51135763338616, 9.25567881669308, 2.0814968814968817, 10.407484407484407, 2.0814968814968817, 8.207037882780023, 27.698752854382576, 12.8, 118.26700710218935, 23.5, 1.0, 117.5, 0.9, 8.74147443798791, 12.310556824170035, 31.2636262252744, 13.52972972972973, 32.0, 1.8, 10.0, 2.0517594706950057, 10.407484407484407, 2.0814968814968817, 8.227270059282738, 1.0, 41.62993762993764, 15.426131361155132, 6.170452544462053, 1.0258797353475029, 12.310556824170035, 5.724116424116425], \"coloraxis\": \"coloraxis\", \"symbol\": \"square\"}, \"mode\": \"markers\", \"name\": \"Left Winger\", \"orientation\": \"v\", \"showlegend\": true, \"type\": \"scatter\", \"x\": [10.870995979998826, -1.4313327298006953, 11.330938327949305, 11.6334994107389, 0.7799364806659279, 0.15722506758765198, -1.8737064964746177, -3.66034260491936, -7.984372823234246, 0.2612911890714814, 3.3123144245645495, -5.0658996440343325, 0.6954204304631968, 16.443527527458727, 9.834965506521517, -8.327372919890559, -6.291469483738331, 0.9036956362250701, -2.8830927329478446, -1.0497735980685394, 1.106770530853093, 5.534573083419387, -3.5360189499525085, -4.082438576259539, 4.900955504383359, 10.136450033109565, 2.574145061677866, -6.851689555253175, -4.050970556184593, -1.6366929890075719, 2.3761625456499926, -6.620787512976876, -3.6720850630263837, -3.432763476898991, -2.7347023440580864, 12.98753079533255, 22.068075618977954, -4.173981608715131, 2.138013809623507, 15.555847111757409, -7.211929766682054, 7.113402503053808, -0.7847871409917315, 7.589988704487794, -5.357460632318663, 6.524141854089226, -6.740923404533043, 6.780964994769022, -5.148392641587336, -4.6251974473579445, 10.664797732412108, 1.7980333790815166, -8.719664131293902, 10.824985433481281, 8.82290044137551, 0.8346530007169789, -3.8379609241135864, 2.9486046717858945, 1.5889760455709403], \"xaxis\": \"x\", \"y\": [1.8523237131116872, -0.8749531437428744, 1.1274801622986548, 5.046940333715501, -3.133771219486876, 2.203201597242359, 0.167248952767304, 1.8549483361412882, -1.907921973524788, 0.9881040064012921, 1.945077791370567, 1.67179992626372, 0.9664578067806804, 1.6090197455407576, -0.621407848596933, 0.708829464939094, 0.8535865578127684, -0.14201300532959885, 2.0950352270876347, 1.3836931390643068, -0.8594181133675032, -0.14572097262295802, -1.1953555298906173, 2.250852665112626, -3.7267755434342877, -1.4657829415940606, -0.0265285048774081, 0.7245572531333295, 2.7509828279953163, -0.11161478822382154, -1.0378805409567826, 2.5729567070251647, -1.345508483056026, 0.9280935998173186, 1.678969453819328, -1.6832658633654662, 5.687323680175211, -2.028237744209901, 1.9450538581356394, 3.9399767828611454, 0.9302513388722088, 2.767907426169374, 0.898647445223248, 0.10883899104082856, 2.341409172593111, 3.760237333519579, 1.0404417323500377, -1.2390739609951338, 2.132442640543547, 0.1509091916275972, -2.7423122099389454, -0.4226176214525509, -0.2606280367089493, -1.099703405005754, -5.761759587943419, -2.813220177902308, -0.7965346539753414, 0.4204559904665307, -0.5037617268756251], \"yaxis\": \"y\"}, {\"customdata\": [[\"Mattia Sprocati\", \"Parma Calcio 1913\", \"Right Winger\"], [\"Iv\\u00e1n Alejo\", \"Getafe CF\", \"Right Winger\"], [\"Anwar El Ghazi\", \"Aston Villa\", \"Right Winger\"], [\"H\\u00e9lder Costa\", \"Leeds United\", \"Right Winger\"], [\"Rony Lopes\", \"Sevilla FC\", \"Right Winger\"], [\"Mathieu Dossevi\", \"FC Toulouse\", \"Right Winger\"], [\"Riccardo Orsolini\", \"Bologna FC 1909\", \"Right Winger\"], [\"Emanuel Vignato\", \"Bologna FC 1909\", \"Right Winger\"], [\"Marco Richter\", \"Hertha BSC\", \"Right Winger\"], [\"Adam Ounas\", \"OGC Nice\", \"Right Winger\"], [\"Francisco Trinc\\u00e3o\", \"Wolverhampton Wanderers\", \"Right Winger\"], [\"Cengiz \\u00dcnder\", \"Olympique Marseille\", \"Right Winger\"], [\"Felipe Anderson\", \"West Ham United\", \"Right Winger\"], [\"Milot Rashica\", \"Norwich City\", \"Right Winger\"], [\"Marius Wolf\", \"Hertha BSC\", \"Right Winger\"], [\"Felipe Anderson\", \"SS Lazio\", \"Right Winger\"], [\"Alexis Saelemaekers\", \"AC Milan\", \"Right Winger\"], [\"Riyad Mahrez\", \"Manchester City\", \"Right Winger\"], [\"Douglas Costa\", \"Juventus FC\", \"Right Winger\"], [\"Samuel Kalu\", \"Watford FC\", \"Right Winger\"], [\"Martin Harnik\", \"SV Werder Bremen\", \"Right Winger\"], [\"Malcom\", \"FC Barcelona\", \"Right Winger\"], [\"Franck Honorat\", \"Stade Brestois 29\", \"Right Winger\"], [\"Isaac Mbenza\", \"Huddersfield Town\", \"Right Winger\"], [\"Emiliano Rigoni\", \"UC Sampdoria\", \"Right Winger\"], [\"Alexander Esswein\", \"VfB Stuttgart\", \"Right Winger\"], [\"Suso\", \"Sevilla FC\", \"Right Winger\"], [\"Suso\", \"Sevilla FC\", \"Right Winger\"], [\"Mehdi L\\u00e9ris\", \"UC Sampdoria\", \"Right Winger\"], [\"Andr\\u00e9 Hahn\", \"FC Augsburg\", \"Right Winger\"], [\"Takuma Asano\", \"Hannover 96\", \"Right Winger\"], [\"Daniele Verde\", \"Spezia Calcio\", \"Right Winger\"], [\"Nicolas P\\u00e9p\\u00e9\", \"Arsenal FC\", \"Right Winger\"], [\"Takefusa Kubo\", \"Villarreal CF\", \"Right Winger\"], [\"Matteo Politano\", \"SSC Napoli\", \"Right Winger\"], [\"Matteo Politano\", \"Inter Milan\", \"Right Winger\"], [\"Junior Messias\", \"AC Milan\", \"Right Winger\"], [\"Samuel Grandsir\", \"AS Monaco\", \"Right Winger\"], [\"Anthony Knockaert\", \"Fulham FC\", \"Right Winger\"], [\"Andriy Yarmolenko\", \"West Ham United\", \"Right Winger\"], [\"Federico Chiesa\", \"Juventus FC\", \"Right Winger\"], [\"Rachid Ghezzal\", \"Leicester City\", \"Right Winger\"], [\"Matteo Politano\", \"SSC Napoli\", \"Right Winger\"], [\"Carles P\\u00e9rez\", \"AS Roma\", \"Right Winger\"], [\"Chadrac Akolo\", \"Amiens SC\", \"Right Winger\"], [\"Yannis Salibur\", \"RCD Mallorca\", \"Right Winger\"], [\"Xherdan Shaqiri\", \"Olympique Lyon\", \"Right Winger\"], [\"Pablo Sarabia\", \"Paris Saint-Germain\", \"Right Winger\"], [\"Daniele Verde\", \"Spezia Calcio\", \"Right Winger\"], [\"Cengiz \\u00dcnder\", \"Leicester City\", \"Right Winger\"], [\"Harrison Manzala\", \"SCO Angers\", \"Right Winger\"], [\"Romain Del Castillo\", \"Stade Brestois 29\", \"Right Winger\"], [\"Fabi\\u00e1n Orellana\", \"SD Eibar\", \"Right Winger\"], [\"Robert Snodgrass\", \"West Bromwich Albion\", \"Right Winger\"], [\"Sada Thioub\", \"SCO Angers\", \"Right Winger\"], [\"Takefusa Kubo\", \"Getafe CF\", \"Right Winger\"], [\"Samu Castillejo\", \"AC Milan\", \"Right Winger\"], [\"Felix Klaus\", \"VfL Wolfsburg\", \"Right Winger\"], [\"Marcus Coco\", \"FC Nantes\", \"Right Winger\"], [\"Bertrand Traor\\u00e9\", \"Aston Villa\", \"Right Winger\"]], \"hovertemplate\": \"position=%{customdata[2]}<br>PC1=%{x}<br>PC5=%{y}<br>player_name=%{customdata[0]}<br>club_name=%{customdata[1]}<br>fee_infladj=%{marker.color}<extra></extra>\", \"legendgroup\": \"Right Winger\", \"marker\": {\"color\": [3.085226272231026, 4.1629937629937634, 9.25567881669308, 18.1580713156508, 25.71021893525856, 2.6018711018711023, 15.426131361155132, 1.1312496331513766, 7.1, 2.262499266302753, 6.0, 0.5, 39.548440748440754, 11.0, 2.0568175148206844, 3.0, 5.385868610574391, 70.56274428274429, 41.62993762993764, 3.0, 2.341683991683992, 42.67068607068608, 5.129398676737514, 2.6018711018711023, 0.5142043787051711, 0.4162993762993763, 1.0078405822621352, 21.54347444229756, 2.879544520748958, 3.1222453222453224, 1.0407484407484409, 0.2051759470695006, 82.27270059282738, 1.2823496691843783, 21.0, 5.2037422037422045, 2.6, 3.1222453222453224, 12.002792903565783, 20.814968814968815, 12.926084665378536, 14.570478170478172, 2.5710218935258555, 13.336436559517535, 0.5142043787051711, 2.0568175148206844, 6.0, 18.51135763338616, 0.6, 3.59057907371626, 1.0407484407484409, 1.5, 2.0814968814968817, 0.1128467708882253, 3.5994306509361977, 1.2823496691843783, 22.167941787941796, 3.1222453222453224, 3.085226272231026, 18.87618713039405], \"coloraxis\": \"coloraxis\", \"symbol\": \"x\"}, \"mode\": \"markers\", \"name\": \"Right Winger\", \"orientation\": \"v\", \"showlegend\": true, \"type\": \"scatter\", \"x\": [-9.066702786596014, -2.3700817594149837, -5.088665431992673, -6.318760001145962, 7.513225842054583, 12.130550381899976, 6.085828268374703, -5.480284280241532, 0.11536096990601105, -3.102523805984524, -8.014732112996782, -1.9192929149955005, 5.130490172048946, 0.8869447455543924, 4.987244465229942, 5.305092321805208, -8.550180504063366, 18.403487965623274, 9.564554216148231, -3.016112415008866, 0.6693122986627, 16.53425998546727, -7.719549670407362, 1.8208595293551029, -8.597411933812507, -5.5344863661862185, 19.65138997622598, 12.059346712625654, 2.8405178407321925, -2.3403995002563596, -6.006745893440879, -5.193528115752116, 15.535171938777381, 8.653024206459316, 8.311639551830403, 12.984783292043158, 16.196665486159816, 9.223783892974762, 0.04072130762459153, -1.1427679736180876, 13.24001194259887, 0.7899513234601102, 12.842393275771492, -8.624407455818783, -4.812227069249754, -0.7279857239504892, 3.112445253949685, 12.974524395628517, -4.822819532925898, -0.26423640801768333, 1.674204198752355, -2.7086661069083213, 0.06632021487185213, 5.942770745726786, 10.238745156599945, 8.653024206459316, 10.301557242846968, 5.352774269230705, 1.6914027643783225, 6.238934473804968], \"xaxis\": \"x\", \"y\": [-0.4448642426528433, -1.1279452030940593, -0.30969087547642116, -1.812558032449446, -0.5204481829018412, -0.6753034668589343, 2.4525066064612417, 2.3618776782127573, -0.7544048198911658, 2.3368202356696544, 0.029961064349569577, 1.975714003892584, 2.4213029712627243, 0.7926176730564265, 0.010485114709261723, -0.8268015295329348, -0.4835255635408182, 7.633651805990075, 2.2036344776732406, -0.5212704062739082, -0.734928615138327, 6.476222785199531, -1.4826560592674771, 1.1133088141601875, -0.13784104260109098, 1.3581506593599815, 3.2471302071612893, 3.16549076647737, -4.180998042411929, -2.419047560438047, 0.13139965837564227, 0.4913490843705751, 0.1557024218528884, -1.257940969294802, 2.639231461502348, 0.3963032937491473, -1.7505349232287832, -4.886331335517366, -0.5064505236940458, 0.70043122356653, -5.174847601413783, 0.9418143300201507, 1.7975472712605698, 0.1365737249625396, 0.4537999908724356, 1.6295364111706856, 5.3080428752218545, 0.761092009327331, 1.3038049947761385, 2.0164165005844783, -0.8840068297475026, -1.208594303517756, 0.3405401149513055, 6.505571489963204, -3.9400908368744156, -1.257940969294802, 0.9356011187731099, 0.4411189491987457, -3.202714166124105, 0.4583360256075746], \"yaxis\": \"y\"}, {\"customdata\": [[\"Alfred Duncan\", \"ACF Fiorentina\", \"Central Midfield\"], [\"V\\u00edctor Camarasa\", \"Crystal Palace\", \"Central Midfield\"], [\"Rafinha\", \"Celta de Vigo\", \"Central Midfield\"], [\"Francesco Cassata\", \"Genoa CFC\", \"Central Midfield\"], [\"Marco Benassi\", \"Hellas Verona\", \"Central Midfield\"], [\"Lukas Rupp\", \"Norwich City\", \"Central Midfield\"], [\"Fabian Delph\", \"Everton FC\", \"Central Midfield\"], [\"Ilaix Moriba\", \"RB Leipzig\", \"Central Midfield\"], [\"Florent Mollet\", \"Montpellier HSC\", \"Central Midfield\"], [\"Flavien Tait\", \"Stade Rennais FC\", \"Central Midfield\"], [\"Tristan Dingom\\u00e9\", \"Stade Reims\", \"Central Midfield\"], [\"Emil Hallfre\\u00f0sson\", \"Frosinone Calcio\", \"Central Midfield\"], [\"Stefano Sensi\", \"Inter Milan\", \"Central Midfield\"], [\"Weston McKennie\", \"Juventus FC\", \"Central Midfield\"], [\"Franck Kessi\\u00e9\", \"AC Milan\", \"Central Midfield\"], [\"Dennis Praet\", \"Torino FC\", \"Central Midfield\"], [\"Dominik Kohr\", \"Eintracht Frankfurt\", \"Central Midfield\"], [\"Fay\\u00e7al Fajr\", \"SM Caen\", \"Central Midfield\"], [\"Wylan Cyprien\", \"Parma Calcio 1913\", \"Central Midfield\"], [\"Vicente Iborra\", \"Villarreal CF\", \"Central Midfield\"], [\"Raman Chibsah\", \"Frosinone Calcio\", \"Central Midfield\"], [\"Suat Serdar\", \"FC Schalke 04\", \"Central Midfield\"], [\"Marcos Llorente\", \"Atl\\u00e9tico de Madrid\", \"Central Midfield\"], [\"Nabil Bentaleb\", \"Newcastle United\", \"Central Midfield\"], [\"Sofian Kiyine\", \"SS Lazio\", \"Central Midfield\"], [\"Jordan Veretout\", \"AS Roma\", \"Central Midfield\"], [\"Marko Rog\", \"Cagliari Calcio\", \"Central Midfield\"], [\"Marko Rog\", \"Sevilla FC\", \"Central Midfield\"], [\"Soualiho Me\\u00eft\\u00e9\", \"Torino FC\", \"Central Midfield\"], [\"Rafinha\", \"Paris Saint-Germain\", \"Central Midfield\"], [\"Morgan Sanson\", \"Aston Villa\", \"Central Midfield\"], [\"Alberto Grassi\", \"Parma Calcio 1913\", \"Central Midfield\"], [\"Alfred Duncan\", \"ACF Fiorentina\", \"Central Midfield\"], [\"Soualiho Me\\u00eft\\u00e9\", \"AC Milan\", \"Central Midfield\"], [\"Kevin Strootman\", \"Olympique Marseille\", \"Central Midfield\"], [\"Pierre Lees-Melou\", \"Norwich City\", \"Central Midfield\"], [\"Ronaldo Vieira\", \"Hellas Verona\", \"Central Midfield\"], [\"Arturo Vidal\", \"FC Barcelona\", \"Central Midfield\"], [\"Sebastian Rode\", \"Eintracht Frankfurt\", \"Central Midfield\"], [\"Kouadio Kon\\u00e9\", \"Borussia M\\u00f6nchengladbach\", \"Central Midfield\"], [\"Zaydou Youssouf\", \"AS Saint-\\u00c9tienne\", \"Central Midfield\"], [\"Roque Mesa\", \"Sevilla FC\", \"Central Midfield\"], [\"Mikel Merino\", \"Real Sociedad\", \"Central Midfield\"], [\"Mattia Valoti\", \"SPAL\", \"Central Midfield\"], [\"Andr\\u00e9 Gomes\", \"Everton FC\", \"Central Midfield\"], [\"Antonin Bobichon\", \"SCO Angers\", \"Central Midfield\"], [\"Guessouma Fofana\", \"EA Guingamp\", \"Central Midfield\"], [\"Jordan Veretout\", \"AS Roma\", \"Central Midfield\"], [\"Marko Rog\", \"Cagliari Calcio\", \"Central Midfield\"], [\"Edimilson Fernandes\", \"ACF Fiorentina\", \"Central Midfield\"], [\"Arne Maier\", \"Arminia Bielefeld\", \"Central Midfield\"], [\"Cesc F\\u00e0bregas\", \"AS Monaco\", \"Central Midfield\"], [\"Youssouf Fofana\", \"AS Monaco\", \"Central Midfield\"], [\"Giovani Lo Celso\", \"Tottenham Hotspur\", \"Central Midfield\"], [\"Luca Mazzitelli\", \"Genoa CFC\", \"Central Midfield\"], [\"Afriyie Acquah\", \"Empoli FC\", \"Central Midfield\"], [\"Carles Ale\\u00f1\\u00e1\", \"Getafe CF\", \"Central Midfield\"], [\"Recio\", \"CD Legan\\u00e9s\", \"Central Midfield\"], [\"Bryan Dabo\", \"Benevento Calcio\", \"Central Midfield\"], [\"Joel Obi\", \"Chievo Verona\", \"Central Midfield\"], [\"Jordan Ferri\", \"Montpellier HSC\", \"Central Midfield\"], [\"Manu Morlanes\", \"Villarreal CF\", \"Central Midfield\"], [\"Jonas Martin\", \"Stade Rennais FC\", \"Central Midfield\"], [\"Giovanni Crociata\", \"FC Empoli\", \"Central Midfield\"], [\"Eduardo Camavinga\", \"Real Madrid\", \"Central Midfield\"], [\"Valentin Rongier\", \"Olympique Marseille\", \"Central Midfield\"], [\"Dennis Praet\", \"Leicester City\", \"Central Midfield\"], [\"Yves Bissouma\", \"Brighton & Hove Albion\", \"Central Midfield\"], [\"Sergi Darder\", \"RCD Espanyol Barcelona\", \"Central Midfield\"], [\"Robert Andrich\", \"Bayer 04 Leverkusen\", \"Central Midfield\"], [\"Moussa Sissoko\", \"Watford FC\", \"Central Midfield\"], [\"Jo\\u00e3o Moutinho\", \"Wolverhampton Wanderers\", \"Central Midfield\"], [\"Rodrigo Bentancur\", \"Tottenham Hotspur\", \"Central Midfield\"], [\"Suat Serdar\", \"Hertha BSC\", \"Central Midfield\"], [\"Lukas Lerager\", \"Genoa CFC\", \"Central Midfield\"], [\"Stefano Sturaro\", \"Genoa CFC\", \"Central Midfield\"], [\"Xavier Chavalerin\", \"ESTAC Troyes\", \"Central Midfield\"], [\"Aaron Mooy\", \"Brighton & Hove Albion\", \"Central Midfield\"], [\"Kevin M\\u00f6hwald\", \"1.FC Union Berlin\", \"Central Midfield\"], [\"Gerson\", \"ACF Fiorentina\", \"Central Midfield\"], [\"Stefano Sturaro\", \"Genoa CFC\", \"Central Midfield\"], [\"Philip Billing\", \"AFC Bournemouth\", \"Central Midfield\"], [\"Giovani Lo Celso\", \"Real Betis Balompi\\u00e9\", \"Central Midfield\"], [\"Sergio \\u00c1lvarez\", \"SD Eibar\", \"Central Midfield\"], [\"Alessandro Murgia\", \"SPAL\", \"Central Midfield\"], [\"Abdoulaye Doucour\\u00e9\", \"Everton FC\", \"Central Midfield\"], [\"Sofian Kiyine\", \"Venezia FC\", \"Central Midfield\"], [\"J\\u00e9r\\u00f4me Gondorf\", \"SC Freiburg\", \"Central Midfield\"], [\"Mehdi Bourabia\", \"Spezia Calcio\", \"Central Midfield\"], [\"Valon Berisha\", \"Stade Reims\", \"Central Midfield\"], [\"Weston McKennie\", \"Juventus FC\", \"Central Midfield\"], [\"Joan Jord\\u00e1n\", \"Sevilla FC\", \"Central Midfield\"], [\"Dale Stephens\", \"Burnley FC\", \"Central Midfield\"], [\"Maximilian Eggestein\", \"SC Freiburg\", \"Central Midfield\"], [\"Mikel Merino\", \"Newcastle United\", \"Central Midfield\"], [\"Sa\\u00fal \\u00d1\\u00edguez\", \"Chelsea FC\", \"Central Midfield\"], [\"Mauro Arambarri\", \"Getafe CF\", \"Central Midfield\"], [\"Matt\\u00e9o Guendouzi\", \"Hertha BSC\", \"Central Midfield\"], [\"Daniel Wass\", \"Atl\\u00e9tico de Madrid\", \"Central Midfield\"], [\"Karol Linetty\", \"Torino FC\", \"Central Midfield\"], [\"Eddy Gnahor\\u00e9\", \"Amiens SC\", \"Central Midfield\"], [\"Naby Ke\\u00efta\", \"Liverpool FC\", \"Central Midfield\"], [\"Daniel Wass\", \"Valencia CF\", \"Central Midfield\"], [\"Renato Sanches\", \"LOSC Lille\", \"Central Midfield\"], [\"Pedro Obiang\", \"US Sassuolo\", \"Central Midfield\"], [\"Gonzalo Castro\", \"VfB Stuttgart\", \"Central Midfield\"], [\"T\\u00e9ji Savanier\", \"Montpellier HSC\", \"Central Midfield\"], [\"Alfred Duncan\", \"Cagliari Calcio\", \"Central Midfield\"]], \"hovertemplate\": \"position=%{customdata[2]}<br>PC1=%{x}<br>PC5=%{y}<br>player_name=%{customdata[0]}<br>club_name=%{customdata[1]}<br>fee_infladj=%{marker.color}<extra></extra>\", \"legendgroup\": \"Central Midfield\", \"marker\": {\"color\": [15.388196030212542, 1.542613136115513, 1.542613136115513, 7.18115814743252, 0.8207037882780024, 0.5142043787051711, 9.76988319539825, 16.0, 2.7059459459459463, 9.25567881669308, 1.0407484407484409, 0.5203742203742204, 25.646993383687573, 20.5, 24.681810177848213, 1.0, 8.74147443798791, 1.5611226611226612, 1.5388196030212544, 10.407484407484407, 1.0407484407484409, 11.44823284823285, 30.852262722310265, 1.0284087574103422, 1.0284087574103422, 17.9528953685813, 2.0568175148206844, 0.5203742203742204, 11.96860706860707, 1.5388196030212544, 16.208899818490547, 8.6686837636864, 2.0568175148206844, 0.5129398676737514, 26.01871101871102, 3.9, 0.7694098015106272, 18.733471933471936, 4.113635029641369, 9.232917618127528, 2.0568175148206844, 6.244490644490645, 12.48898128898129, 3.085226272231026, 25.71021893525856, 1.542613136115513, 1.0407484407484409, 1.0284087574103422, 15.388196030212542, 0.9002474012474013, 0.5129398676737514, 9.366735966735968, 15.426131361155132, 16.454540118565475, 1.0407484407484409, 1.0407484407484409, 5.0, 1.5611226611226612, 0.5129398676737514, 2.0814968814968817, 2.0568175148206844, 4.0, 4.113635029641369, 1.0, 31.0, 13.36931384633445, 19.74544814227857, 17.484573804573806, 8.325987525987527, 6.5, 3.5, 5.828191268191269, 19.0, 8.0, 6.170452544462053, 1.5611226611226612, 1.0, 3.393748899454129, 1.0, 0.0957488565488565, 16.968744497270645, 16.968744497270645, 22.624992663027527, 4.1629937629937634, 4.113635029641369, 22.569354177645064, 0.4, 1.3529729729729731, 0.5, 4.616458809063763, 4.616458809063763, 14.397722603744793, 1.1284677088822532, 5.0, 7.285239085239086, 5.0, 2.237609147609148, 1.0258797353475029, 2.7, 7.694098015106271, 2.5710218935258555, 62.44490644490645, 6.244490644490645, 20.568175148206844, 7.455963491224981, 5.2037422037422045, 9.76988319539825, 1.0258797353475029], \"coloraxis\": \"coloraxis\", \"symbol\": \"cross\"}, \"mode\": \"markers\", \"name\": \"Central Midfield\", \"orientation\": \"v\", \"showlegend\": true, \"type\": \"scatter\", \"x\": [1.1827634106401774, 2.825423455965658, 2.103174526650567, -3.850193861053106, 3.069070278721007, -6.315539120489369, 1.7121949367016467, -4.572402301799034, 0.8662042606669147, 13.94232148739104, -3.134905202874926, -3.900894983356001, 1.98532312607266, 1.0938151477548699, 13.901343236185841, 5.003873991728889, -0.1992994416101947, 6.416561177057673, 5.885487161077561, -0.5952569208341685, -3.965131436789358, 1.2630708801321995, -6.0807370982946995, -0.5450456617437971, -2.1498219646965206, 14.162781976380932, -6.59346604598834, -6.078730949734743, 0.03339189930425768, 4.43336989727135, 8.702361101978768, -3.9721533550087855, 3.684274708061121, 4.320895780156144, 7.601482511724734, 10.082867163164469, -5.017394037765794, 5.353427842829031, -2.309840711054261, -3.8443034000383056, -7.427448351547669, -7.347526410603723, 3.148628472511884, -0.5326349719167472, -0.14364933998949364, 4.392753360789222, -6.7366450809804554, 16.281209556418652, -1.2611308892165556, -5.155847179263731, -1.2911971144572951, 19.82062529276934, -3.713961431038971, 11.835743026294708, -2.886360716856899, -4.679726312100864, -1.6960267202052064, 3.9061218321302844, -2.861359600751813, -1.8067477271093455, 0.8820537588143802, -8.617310902761846, 8.639014315197446, -9.82234801102501, 3.031708210581413, 13.488439620786824, 13.662711247480015, 4.212621459984144, 8.57771408866064, 1.428247519397986, 2.569121540222678, 14.981365072472236, 6.052974734473179, 1.3196568750199336, 4.950231245937812, -5.772140367048049, 7.628852232045503, 13.637059621447005, -1.1127691262564237, -2.841354405801902, -8.909469961356038, 1.9550848389450104, 12.525932703827984, -12.575568017722674, -8.533987101004454, 14.605198551165689, -7.098310760180272, -5.261060397141145, -3.446485713576647, -8.073069596466098, 0.7443995202697307, 12.834500891392498, 8.320855176948667, 9.065590362087757, 3.148628472511884, 11.257477038920975, 0.46826039172346295, -0.26901619053418996, 8.415852270982663, 7.311184796377329, -3.357405759603629, 10.34361071746629, 12.154763355134966, -4.367838523698856, -0.653648653763971, 0.3372978245937064, 21.80409500237218, -0.06799223807029484], \"xaxis\": \"x\", \"y\": [0.008830205684242864, 2.5413880355367757, 2.9688483625913333, 1.0683169937359072, -1.4508057120432047, -1.1642284490780528, 1.6711579745194265, 2.256101483876028, 3.8609873521813225, -0.90586992456736, 0.3812752027973102, 0.8502805657282665, 3.4861006496222338, -1.3809905835703424, -2.910870567213378, -1.521842646235585, -0.7241949243945677, 1.5972761671116356, 6.540948662092594, 2.0367684032419535, 0.019144809308489164, -2.6857000975704968, 2.409110024865576, 0.7630728707487988, -0.5363553094407221, 3.579274758916816, 1.7403572130316947, 2.1155204892500583, -0.23684543211384057, 1.4807809099798395, -2.048307406867856, 0.3979024166080757, -0.7624951704395116, -1.8473625086824854, -2.481475043224805, -1.6450104421052794, -0.35350234171712225, 1.2770792274600793, 0.4374208923435576, -0.7046665082358197, 1.593039132993824, 2.220881615741006, -2.3609092661589486, -1.3306660384352158, -0.25423933158686823, 2.333227366057409, -0.011025774877418293, 3.062995657436037, 0.3284624791881926, 0.4082575901073249, 0.4212707881193677, 8.305077887541337, 0.9807474402996862, -0.700003965373825, -1.8038975837347575, 1.611764229664051, 2.6258752102297187, 0.49128843358538044, 1.1070836602959637, 1.0412526825308455, 0.3483054005532219, -0.4898799138586669, -0.0678876147140941, -0.44578881508207635, -1.812895857371866, -2.0361265859929487, -3.4184999978896204, -1.041178929870667, -1.3708280029656903, -2.214391607612005, -0.6710060336332602, 2.1874175971887677, 0.23748091502994328, -2.2955248589465618, -3.225007871716443, 0.5876686600685503, -1.3863971188057675, 1.40180717161856, 3.03018909432155, 1.9370992289205646, -0.8555141731011038, -2.3113366383751663, -0.8282679918361149, 0.33890082584676406, -1.0695258938287486, -3.5166396037588825, -1.4175261578557394, -0.12245542495752004, 0.19991896562491418, -1.057880649786311, -1.8503466017656107, 3.021762484066261, -2.1542391417702076, -2.6858562549190017, -2.3609092661589486, -5.203556859125789, -2.5521271590627537, -0.8123170715435818, 0.4187814532456178, -2.9499949937164027, -1.3426600694169601, -0.6309816425855712, 4.104895746793632, 1.865177192869441, -0.7102093723413374, 1.423522614224631, 9.271214649202353, 0.39449289374611973], \"yaxis\": \"y\"}, {\"customdata\": [[\"Mattia Bani\", \"Parma Calcio 1913\", \"Centre-Back\"], [\"Mohamed Simakan\", \"RB Leipzig\", \"Centre-Back\"], [\"Germ\\u00e1n Pezzella\", \"Real Betis Balompi\\u00e9\", \"Centre-Back\"], [\"Federico Ceccherini\", \"Hellas Verona\", \"Centre-Back\"], [\"Lamine Kon\\u00e9\", \"RC Strasbourg Alsace\", \"Centre-Back\"], [\"Ibrahima Konat\\u00e9\", \"Liverpool FC\", \"Centre-Back\"], [\"Harry Maguire\", \"Manchester United\", \"Centre-Back\"], [\"Mattia Caldara\", \"Atalanta BC\", \"Centre-Back\"], [\"Craig Dawson\", \"Watford FC\", \"Centre-Back\"], [\"Cristian Romero\", \"Atalanta BC\", \"Centre-Back\"], [\"Dan Burn\", \"Newcastle United\", \"Centre-Back\"], [\"Jeison Murillo\", \"Valencia CF\", \"Centre-Back\"], [\"Sergi G\\u00f3mez\", \"RCD Espanyol Barcelona\", \"Centre-Back\"], [\"Jon\\u00e1s Ramalho\", \"CA Osasuna\", \"Centre-Back\"], [\"Maximilian W\\u00f6ber\", \"Sevilla FC\", \"Centre-Back\"], [\"Lucas Hern\\u00e1ndez\", \"Bayern Munich\", \"Centre-Back\"], [\"Chris Smalling\", \"AS Roma\", \"Centre-Back\"], [\"Dayot Upamecano\", \"Bayern Munich\", \"Centre-Back\"], [\"Gianluca Mancini\", \"AS Roma\", \"Centre-Back\"], [\"Marcel Tisserand\", \"VfL Wolfsburg\", \"Centre-Back\"], [\"Issa Diop\", \"West Ham United\", \"Centre-Back\"], [\"Timoth\\u00e9e Kolodziejczak\", \"AS Saint-\\u00c9tienne\", \"Centre-Back\"], [\"Fikayo Tomori\", \"AC Milan\", \"Centre-Back\"], [\"Mattia Caldara\", \"AC Milan\", \"Centre-Back\"], [\"Kevin Akpoguma\", \"Hannover 96\", \"Centre-Back\"], [\"Leonardo Balerdi\", \"Olympique Marseille\", \"Centre-Back\"], [\"Mats Hummels\", \"Borussia Dortmund\", \"Centre-Back\"], [\"Naldo\", \"AS Monaco\", \"Centre-Back\"], [\"Wesley Fofana\", \"Leicester City\", \"Centre-Back\"], [\"Alfie Mawson\", \"Fulham FC\", \"Centre-Back\"], [\"Merih Demiral\", \"Atalanta BC\", \"Centre-Back\"], [\"Carlos Salcedo\", \"Eintracht Frankfurt\", \"Centre-Back\"], [\"Ozan Kabak\", \"FC Schalke 04\", \"Centre-Back\"], [\"Yerry Mina\", \"Everton FC\", \"Centre-Back\"], [\"Jules Kound\\u00e9\", \"Sevilla FC\", \"Centre-Back\"], [\"Gabriel\", \"Arsenal FC\", \"Centre-Back\"], [\"Joris Gnagnon\", \"Sevilla FC\", \"Centre-Back\"], [\"Laurent Koscielny\", \"FC Girondins Bordeaux\", \"Centre-Back\"], [\"Marvin Friedrich\", \"Borussia M\\u00f6nchengladbach\", \"Centre-Back\"], [\"Martin Erlic\", \"US Sassuolo\", \"Centre-Back\"], [\"Kevin Danso\", \"Southampton FC\", \"Centre-Back\"], [\"\\u00d6mer Toprak\", \"SV Werder Bremen\", \"Centre-Back\"], [\"Craig Dawson\", \"West Ham United\", \"Centre-Back\"], [\"Jonny Evans\", \"Leicester City\", \"Centre-Back\"], [\"Karim Rekik\", \"Sevilla FC\", \"Centre-Back\"], [\"Chris Smalling\", \"AS Roma\", \"Centre-Back\"], [\"Salif San\\u00e9\", \"FC Schalke 04\", \"Centre-Back\"], [\"Philipp Lienhart\", \"SC Freiburg\", \"Centre-Back\"], [\"Felipe\", \"Atl\\u00e9tico de Madrid\", \"Centre-Back\"], [\"Fernando Calero\", \"RCD Espanyol Barcelona\", \"Centre-Back\"], [\"Koray G\\u00fcnter\", \"Hellas Verona\", \"Centre-Back\"], [\"Danilo\", \"Bologna FC 1909\", \"Centre-Back\"], [\"Mart\\u00edn C\\u00e1ceres\", \"Juventus FC\", \"Centre-Back\"], [\"Armando Izzo\", \"Torino FC\", \"Centre-Back\"], [\"Lilian Brassier\", \"Stade Brestois 29\", \"Centre-Back\"], [\"Jeison Murillo\", \"FC Barcelona\", \"Centre-Back\"], [\"Cristian Romero\", \"Atalanta BC\", \"Centre-Back\"], [\"Joachim Andersen\", \"Olympique Lyon\", \"Centre-Back\"], [\"Luca Rossettini\", \"US Lecce\", \"Centre-Back\"], [\"Kenneth Omeruo\", \"CD Legan\\u00e9s\", \"Centre-Back\"], [\"Marash Kumbulla\", \"AS Roma\", \"Centre-Back\"], [\"Cristian Romero\", \"Juventus FC\", \"Centre-Back\"], [\"Sebastien De Maio\", \"Udinese Calcio\", \"Centre-Back\"], [\"Pascal Stenzel\", \"VfB Stuttgart\", \"Centre-Back\"], [\"Ozan Kabak\", \"Norwich City\", \"Centre-Back\"], [\"Molla Wagu\\u00e9\", \"FC Nantes\", \"Centre-Back\"], [\"Ben White\", \"Arsenal FC\", \"Centre-Back\"], [\"Adama Soumaoro\", \"Bologna FC 1909\", \"Centre-Back\"], [\"Daniele Rugani\", \"Stade Rennais FC\", \"Centre-Back\"], [\"Marco Friedl\", \"SV Werder Bremen\", \"Centre-Back\"], [\"Kevin Vogt\", \"SV Werder Bremen\", \"Centre-Back\"], [\"Marash Kumbulla\", \"AS Roma\", \"Centre-Back\"], [\"Guillermo Marip\\u00e1n\", \"AS Monaco\", \"Centre-Back\"], [\"Nathan Ak\\u00e9\", \"Manchester City\", \"Centre-Back\"], [\"Robin Koch\", \"Leeds United\", \"Centre-Back\"], [\"Federico Ceccherini\", \"ACF Fiorentina\", \"Centre-Back\"], [\"William Saliba\", \"Arsenal FC\", \"Centre-Back\"], [\"Jannik Vestergaard\", \"Leicester City\", \"Centre-Back\"], [\"Ozan Kabak\", \"Liverpool FC\", \"Centre-Back\"], [\"Rapha\\u00ebl Varane\", \"Manchester United\", \"Centre-Back\"], [\"Martin Hinteregger\", \"Eintracht Frankfurt\", \"Centre-Back\"], [\"Riccardo Gagliolo\", \"US Salernitana 1919\", \"Centre-Back\"], [\"Martin Hinteregger\", \"Eintracht Frankfurt\", \"Centre-Back\"], [\"Christophe H\\u00e9relle\", \"Stade Brestois 29\", \"Centre-Back\"], [\"\\u00c1lvaro Gonz\\u00e1lez\", \"Olympique Marseille\", \"Centre-Back\"], [\"Kevin Wimmer\", \"Hannover 96\", \"Centre-Back\"], [\"Gianluca Mancini\", \"AS Roma\", \"Centre-Back\"], [\"Dominique Heintz\", \"1.FC Union Berlin\", \"Centre-Back\"], [\"Julian Chabot\", \"Spezia Calcio\", \"Centre-Back\"], [\"Ragnar Klavan\", \"Cagliari Calcio\", \"Centre-Back\"], [\"Giangiacomo Magnani\", \"Hellas Verona\", \"Centre-Back\"], [\"Lorenzo Tonelli\", \"UC Sampdoria\", \"Centre-Back\"], [\"Leandro Cabrera\", \"RCD Espanyol Barcelona\", \"Centre-Back\"], [\"Jean-Clair Todibo\", \"OGC Nice\", \"Centre-Back\"], [\"Ardian Ismajli\", \"FC Empoli\", \"Centre-Back\"], [\"Fabian Sch\\u00e4r\", \"Newcastle United\", \"Centre-Back\"], [\"Wesley Hoedt\", \"SS Lazio\", \"Centre-Back\"], [\"Bj\\u00f6rn Engels\", \"Stade Reims\", \"Centre-Back\"], [\"Joachim Andersen\", \"Fulham FC\", \"Centre-Back\"], [\"Rick van Drongelen\", \"1.FC Union Berlin\", \"Centre-Back\"], [\"Josip Elez\", \"Hannover 96\", \"Centre-Back\"], [\"Francesco Acerbi\", \"SS Lazio\", \"Centre-Back\"], [\"Thilo Kehrer\", \"Paris Saint-Germain\", \"Centre-Back\"], [\"Danilo\", \"Bologna FC 1909\", \"Centre-Back\"], [\"Joachim Andersen\", \"Crystal Palace\", \"Centre-Back\"], [\"Ben Godfrey\", \"Everton FC\", \"Centre-Back\"], [\"Kurt Zouma\", \"West Ham United\", \"Centre-Back\"], [\"Luca Kilian\", \"1. FC K\\u00f6ln\", \"Centre-Back\"], [\"Sokratis Papastathopoulos\", \"Arsenal FC\", \"Centre-Back\"], [\"Alex Ferrari\", \"UC Sampdoria\", \"Centre-Back\"], [\"Craig Dawson\", \"West Ham United\", \"Centre-Back\"], [\"Bj\\u00f6rn Engels\", \"Aston Villa\", \"Centre-Back\"], [\"Matteo Lovato\", \"Atalanta BC\", \"Centre-Back\"], [\"Daniele Rugani\", \"Cagliari Calcio\", \"Centre-Back\"], [\"Dominique Heintz\", \"SC Freiburg\", \"Centre-Back\"], [\"Kurt Zouma\", \"Everton FC\", \"Centre-Back\"], [\"Lorenzo Tonelli\", \"FC Empoli\", \"Centre-Back\"], [\"Pablo Insua\", \"SD Huesca\", \"Centre-Back\"], [\"Ignasi Miquel\", \"Getafe CF\", \"Centre-Back\"], [\"Mattia Bani\", \"Genoa CFC\", \"Centre-Back\"], [\"Kevin Danso\", \"RC Lens\", \"Centre-Back\"], [\"Bartosz Salamon\", \"SPAL\", \"Centre-Back\"], [\"Mattia Bani\", \"Bologna FC 1909\", \"Centre-Back\"], [\"Koffi Djidji\", \"Torino FC\", \"Centre-Back\"], [\"Leandro Cabrera\", \"Getafe CF\", \"Centre-Back\"], [\"Nayef Aguerd\", \"Stade Rennais FC\", \"Centre-Back\"], [\"Reece Oxford\", \"FC Augsburg\", \"Centre-Back\"], [\"Leonardo Bonucci\", \"Juventus FC\", \"Centre-Back\"], [\"Diego Llorente\", \"Leeds United\", \"Centre-Back\"], [\"Sidnei\", \"Real Betis Balompi\\u00e9\", \"Centre-Back\"], [\"Cl\\u00e9ment Lenglet\", \"FC Barcelona\", \"Centre-Back\"], [\"Ben Davies\", \"Liverpool FC\", \"Centre-Back\"], [\"Merih Demiral\", \"Juventus FC\", \"Centre-Back\"], [\"Julian Chabot\", \"1. FC K\\u00f6ln\", \"Centre-Back\"], [\"Gerzino Nyamsi\", \"RC Strasbourg Alsace\", \"Centre-Back\"], [\"Christophe H\\u00e9relle\", \"OGC Nice\", \"Centre-Back\"], [\"Filippo Romagna\", \"US Sassuolo\", \"Centre-Back\"], [\"Mario Hermoso\", \"Atl\\u00e9tico de Madrid\", \"Centre-Back\"], [\"Terence Kongolo\", \"Fulham FC\", \"Centre-Back\"], [\"Sebastiano Luperto\", \"FC Empoli\", \"Centre-Back\"], [\"Kaan Ayhan\", \"US Sassuolo\", \"Centre-Back\"], [\"Kevin Bonifazi\", \"Bologna FC 1909\", \"Centre-Back\"], [\"Marco Capuano\", \"Frosinone Calcio\", \"Centre-Back\"], [\"Kevin Bonifazi\", \"Udinese Calcio\", \"Centre-Back\"], [\"Marlon\", \"US Sassuolo\", \"Centre-Back\"], [\"Facundo Roncaglia\", \"CA Osasuna\", \"Centre-Back\"], [\"Adama Soumaoro\", \"Bologna FC 1909\", \"Centre-Back\"], [\"Erick Cabaco\", \"Getafe CF\", \"Centre-Back\"], [\"Federico Fern\\u00e1ndez\", \"Newcastle United\", \"Centre-Back\"], [\"Edoardo Goldaniga\", \"Cagliari Calcio\", \"Centre-Back\"], [\"Mouctar Diakhaby\", \"Valencia CF\", \"Centre-Back\"], [\"Jeison Murillo\", \"Celta de Vigo\", \"Centre-Back\"], [\"Merih Demiral\", \"US Sassuolo\", \"Centre-Back\"]], \"hovertemplate\": \"position=%{customdata[2]}<br>PC1=%{x}<br>PC5=%{y}<br>player_name=%{customdata[0]}<br>club_name=%{customdata[1]}<br>fee_infladj=%{marker.color}<extra></extra>\", \"legendgroup\": \"Centre-Back\", \"marker\": {\"color\": [1.5388196030212544, 15.0, 3.5, 3.0, 1.542613136115513, 40.0, 89.47156189469978, 0.925567881669308, 6.170452544462053, 16.0, 15.0, 12.48898128898129, 1.0, 0.7, 10.798291952808594, 82.27270059282738, 15.388196030212542, 42.5, 2.0568175148206844, 7.285239085239086, 26.01871101871102, 4.616458809063763, 28.8, 38.37239501039501, 0.2289646569646569, 11.0, 31.36646710101544, 2.0814968814968817, 35.9057907371626, 17.53661122661123, 3.0, 5.2037422037422045, 15.426131361155132, 31.482640332640337, 25.71021893525856, 26.672873119035074, 14.050103950103953, 5.142043787051711, 5.5, 3.5, 4.113635029641369, 1.0284087574103422, 2.3, 4.1629937629937634, 2.0517594706950057, 3.085226272231026, 7.285239085239086, 2.0814968814968817, 20.568175148206844, 8.227270059282738, 2.0517594706950057, 0.426789634325292, 0.6244490644490645, 11.136008316008317, 2.0, 1.248898128898129, 2.3800409860062066, 24.681810177848213, 0.5142043787051711, 5.142043787051711, 26.5, 32.39487585842578, 1.542613136115513, 1.3336436559517535, 4.0, 1.2340905088924106, 58.5, 0.1795289536858129, 1.0874325194683532, 3.5994306509361977, 0.7713065680577567, 3.077639206042509, 18.51135763338616, 46.472352011241874, 13.336436559517535, 3.7466943866943874, 30.852262722310265, 17.6, 1.1284677088822532, 40.0, 0.8325987525987527, 2.0, 9.25567881669308, 4.103518941390012, 4.103518941390012, 1.5611226611226612, 21.54347444229756, 0.15, 0.2051759470695006, 1.5819376299376302, 4.0, 0.5203742203742204, 9.25567881669308, 8.5, 2.0, 4.1629937629937634, 1.0258797353475029, 4.113635029641369, 1.0258797353475029, 0.5, 2.6018711018711023, 12.48898128898129, 38.50769230769231, 0.4319106029106029, 17.5, 28.21169272205633, 35.0, 0.25, 16.651975051975054, 3.702271526677232, 1.1284677088822532, 8.227270059282738, 8.0, 0.8207037882780024, 3.1222453222453224, 8.221912681912682, 1.0, 0.2564699338368757, 5.2037422037422045, 5.129398676737514, 5.5, 2.0814968814968817, 2.7767036450079243, 3.085226272231026, 0.6244490644490645, 4.103518941390012, 2.0568175148206844, 36.42619542619543, 20.517594706950057, 4.683367983367984, 37.36286902286903, 1.8978775103928804, 20.053970769501674, 0.3, 1.5, 5.2037422037422045, 4.103518941390012, 25.71021893525856, 4.513870835529013, 0.5, 2.564699338368757, 6.0, 0.5203742203742204, 1.0258797353475029, 12.48898128898129, 0.2571021893525855, 2.5, 8.227270059282738, 6.973014553014554, 0.4, 15.611226611226613, 1.0284087574103422, 8.227270059282738], \"coloraxis\": \"coloraxis\", \"symbol\": \"circle\"}, \"mode\": \"markers\", \"name\": \"Centre-Back\", \"orientation\": \"v\", \"showlegend\": true, \"type\": \"scatter\", \"x\": [-0.0017763859370859003, 0.06413665861980844, 3.3269028685999915, -2.6360484515400424, -0.04803741199221989, -3.832517989260513, 7.910793088134479, -5.835465521507706, -4.255010177448442, -0.20106427499460663, -0.04665106602295241, -3.8283039623671833, -1.857393674081623, -4.512393816691272, -6.9629102422394125, -0.5875007473731471, 0.47019629989974676, 4.188539765492749, -0.7842465850770952, -3.196233523646743, 1.8212637686170674, 2.4233938432696682, -6.6941732925091655, 0.3758685126486101, 0.1925974634682403, -8.190968223605342, 5.9533027322412915, 4.86645544605383, -3.6447067349052853, 5.20248258911364, -6.3019196731962435, -1.3601465412329876, -7.402035616435264, -7.6912525825718925, 2.635262492184113, -2.3396612314356675, 1.1388061491949133, 1.2280293830189877, -3.2123569654418267, -0.7795659534368696, -4.1107229285682365, -4.058671009308471, -3.1726112256041397, -0.23953583734830558, -1.0201857722453562, -0.6429055409453939, 7.5910940356796015, -6.960927485032193, -6.441701722811332, 3.032561156791668, -2.4023412165983045, 0.2843714062072401, -7.358159199161427, -1.7403695864467172, -3.379943824636219, -3.8283039623671833, -1.832904738879805, -0.6738084524840081, -2.686775862745814, -6.3805248770528715, -1.4642399432199569, -5.416007586071466, -3.7955848190887207, -2.7140381065313557, -4.325055145446731, -10.308183037611144, 7.17483508754569, -5.4394294603694355, -3.515143610480431, -7.452792808416044, 5.016103440112962, 0.4192920848162524, -3.332940979919735, 4.12043530810897, 0.3735060911007012, 2.4562301641603668, -3.8090863831226747, 2.191260103708543, -4.5637825757636605, 2.8065273554906063, 3.4340791397649477, 1.1565154344963149, -0.05250780119446676, 1.9205022026713405, 0.8853629419758002, -4.202995406908483, 1.2954931673238095, 2.869515529676709, -9.475121159333511, -0.41401278192015334, -7.662089755802899, -8.072537633567906, -2.350897273675477, -7.813334038289371, -7.887014914238588, 1.0886304131463296, -4.106881668545797, 0.9220597360022112, -0.6373433170351237, -7.535652652084215, -6.59508210879479, 5.780882130329755, 3.5003862659126854, 2.492733471113757, -3.48970737669235, 2.804263232438341, 3.031838566480391, -5.958910156782895, 5.848739781543761, -1.8467088710147128, -2.993575751168261, 0.9220597360022112, -8.102527390975913, -4.3483312808327605, 4.897500038133094, 3.246249835448856, -4.075874944006101, -9.685220050022949, -3.7321442009602244, -0.4159987071928894, -7.160366820283388, -1.122752480625357, -1.2444433497044947, -5.6496776480851665, -6.877032434942846, -7.092562676771091, -7.428955380385926, 7.195626416426389, 1.904577885335582, -1.6465157097178598, 4.652980577080094, 4.618606305540552, -7.829767517002047, -6.124921620963869, -6.441802772421717, 1.4680306921575028, -2.8346517889966925, 1.250914342343829, -6.573746064062752, -5.036046939010141, 5.722403969138047, -1.8097848380623422, -6.544217462496581, -2.913383223864981, 0.018183008195607808, -4.157625128985589, -7.091271984193081, -4.561287094684372, 0.7067711587883837, -2.813280188207806, -6.332106599863841, -7.937551759015603, -6.42409017078139], \"xaxis\": \"x\", \"y\": [0.6428759838469391, 0.09688630330798122, 0.7026126695000633, 1.2587204116701094, 2.2975223923552837, 1.8426666839870405, 1.7725178188182258, -0.04997805604736949, -2.1615352047674783, -0.9642710727475056, -2.965718556756485, 1.9819135717958531, 2.3580187763473095, 1.0362114221179484, 0.8850479575579315, -0.8390597899670249, 2.6473482821862255, 1.9149662960474099, 1.435644012873365, 1.1249735002947348, 1.8449589336486942, 0.7426615175069422, 0.25451519327599437, 2.19874089417602, 0.38553416478240365, -0.9947720696976399, 2.6362094099118347, 3.638353960354438, 2.3854761505071727, 2.5708940991776155, 2.1103882617275476, 1.388476041215676, -0.061489723003555596, 2.4560120794131994, 1.9396121351252635, -3.7842924511496303, 1.6983235265949739, 4.504675427101005, -0.7519387261692394, 4.465230358339425, 2.031642815712333, 0.23467972680803184, 0.0251387596289554, 2.074018522751853, 2.6210727472011817, 2.269610150501716, 2.7331533003168067, 1.6497833127910986, 2.0543820747230863, 1.3766791283854318, 0.8686336271082674, 1.8753536600306109, 3.290645653767321, 2.0946104849741904, 3.2565300196279567, 1.9819135717958531, -1.2527176954826114, 2.9759503386695867, 1.7848561347739271, -0.79856795577012, 1.3234884680581727, -1.5024633595462489, 2.715642273693599, -1.229271108445253, 0.7805148789339367, 0.4476077481592404, -1.5689571797280253, 3.109168877493093, 3.447339037977068, 1.1725152083294674, 3.398125189243971, -0.33957323797220207, 0.9604801542044985, 1.0948234735464588, 1.617566190205813, 0.4668280305230458, 0.8268324626198194, 1.5646522704623698, 0.6255588792438233, 3.365090651678935, -0.537793313786193, -1.7116044074348706, 0.12233792936785629, 2.2262497940356, 1.4596005143214852, -0.057475263072523264, 1.1078719928243064, 1.7475539020508566, 1.5464183964465028, 4.875631433386227, -0.41201220290181384, 3.668865190070404, -0.7050958161984049, 0.1334118619587612, 0.4109255734713413, 0.7620350581925192, -0.24165175180401266, 3.449046110144935, 3.502783538107149, -1.2156408467849775, 1.3870127326571042, -0.6569402540537961, -0.21439483053560182, 1.8276039650513543, 2.052413402012672, 2.127231182010504, 2.570076301218026, 1.2160683414855673, 3.0526578703707603, -0.8349719688444752, -0.9404893179356636, 3.449046110144935, -0.8669054573666513, 3.135212863114075, 0.9267006946380694, -1.364626460546884, 2.470683026548474, -0.14649997094850598, 0.09574922724916757, 0.36663691708107293, 0.724416482337549, 0.4487916319459225, -0.18584121645066032, -1.891439460800389, -0.2673716938145232, 1.4182747615107696, 1.80054959606117, 3.5939897037844055, 2.5210920332570446, 1.7688300347673618, 1.500379324015793, -0.6175150500116122, 0.3618766946755545, 1.6702030504483818, 2.8246289291376043, 1.0047448331249154, 1.77133171842025, 2.9967524548068605, -2.315305961688605, 1.3957681324610771, 2.9362215381597463, 1.4904760362637395, 0.24903178890676458, 1.777225588234277, 2.535493744272096, 1.6958909930700052, 1.7572024065521297, 1.7881013181151537, 1.694590692361059, 1.2710836953600841, 4.657939316684235, -0.15839171723745205, 1.2487345949909918], \"yaxis\": \"y\"}, {\"customdata\": [[\"Arkadiusz Reca\", \"FC Crotone\", \"Left-Back\"], [\"Jetro Willems\", \"Newcastle United\", \"Left-Back\"], [\"Aar\\u00f3n Mart\\u00edn\", \"1.FSV Mainz 05\", \"Left-Back\"], [\"Luca Netz\", \"Borussia M\\u00f6nchengladbach\", \"Left-Back\"], [\"Marc Cucurella\", \"Getafe CF\", \"Left-Back\"], [\"Ludwig Augustinsson\", \"Sevilla FC\", \"Left-Back\"], [\"Pervis Estupi\\u00f1\\u00e1n\", \"Villarreal CF\", \"Left-Back\"], [\"Danny Rose\", \"Newcastle United\", \"Left-Back\"], [\"Aleksandar Kolarov\", \"Inter Milan\", \"Left-Back\"], [\"J\\u00e9r\\u00f4me Roussillon\", \"VfL Wolfsburg\", \"Left-Back\"], [\"Antonio Barreca\", \"AS Monaco\", \"Left-Back\"], [\"Bernardo\", \"Brighton & Hove Albion\", \"Left-Back\"], [\"Junior Firpo\", \"Leeds United\", \"Left-Back\"], [\"Nacho Monreal\", \"Real Sociedad\", \"Left-Back\"], [\"Cristian Ansaldi\", \"Torino FC\", \"Left-Back\"], [\"Cristian Dell'Orco\", \"US Lecce\", \"Left-Back\"], [\"Johan Mojica\", \"Atalanta BC\", \"Left-Back\"], [\"Souleyman Doumbia\", \"SCO Angers\", \"Left-Back\"], [\"Leonardo Spinazzola\", \"AS Roma\", \"Left-Back\"], [\"Junior Firpo\", \"FC Barcelona\", \"Left-Back\"], [\"Melvin Bard\", \"OGC Nice\", \"Left-Back\"], [\"Nico Schulz\", \"Borussia Dortmund\", \"Left-Back\"], [\"Antonio Barreca\", \"Newcastle United\", \"Left-Back\"], [\"Youssouf Kon\\u00e9\", \"Olympique Lyon\", \"Left-Back\"], [\"Ismail Jakobs\", \"AS Monaco\", \"Left-Back\"], [\"Emerson\", \"Olympique Lyon\", \"Left-Back\"], [\"Erik Pieters\", \"Burnley FC\", \"Left-Back\"], [\"Marc Cucurella\", \"SD Eibar\", \"Left-Back\"], [\"Hamza Mendyl\", \"FC Schalke 04\", \"Left-Back\"], [\"Aar\\u00f3n Mart\\u00edn\", \"1.FSV Mainz 05\", \"Left-Back\"], [\"Mitchel Bakker\", \"Bayer 04 Leverkusen\", \"Left-Back\"], [\"Ferland Mendy\", \"Real Madrid\", \"Left-Back\"], [\"Jonathan Silva\", \"Getafe CF\", \"Left-Back\"], [\"Diego Laxalt\", \"AC Milan\", \"Left-Back\"], [\"Ashley Young\", \"Inter Milan\", \"Left-Back\"], [\"Johan Mojica\", \"Girona FC\", \"Left-Back\"], [\"Jamal Lewis\", \"Newcastle United\", \"Left-Back\"], [\"Juan Bernat\", \"Paris Saint-Germain\", \"Left-Back\"], [\"Hassane Kamara\", \"OGC Nice\", \"Left-Back\"], [\"Diego Laxalt\", \"Torino FC\", \"Left-Back\"], [\"Ramy Bensebaini\", \"Borussia M\\u00f6nchengladbach\", \"Left-Back\"], [\"Lionel Carole\", \"RC Strasbourg Alsace\", \"Left-Back\"], [\"Diego Rico\", \"AFC Bournemouth\", \"Left-Back\"], [\"Fod\\u00e9 Ballo-Tour\\u00e9\", \"AS Monaco\", \"Left-Back\"], [\"Abdou Diallo\", \"Borussia Dortmund\", \"Left-Back\"], [\"Matt Targett\", \"Aston Villa\", \"Left-Back\"], [\"Diego Rico\", \"Real Sociedad\", \"Left-Back\"], [\"Vitorino Antunes\", \"Getafe CF\", \"Left-Back\"], [\"Hassane Kamara\", \"Watford FC\", \"Left-Back\"], [\"Rog\\u00e9rio\", \"US Sassuolo\", \"Left-Back\"], [\"Bruno Martella\", \"Brescia Calcio\", \"Left-Back\"], [\"Theo Hern\\u00e1ndez\", \"AC Milan\", \"Left-Back\"], [\"Jonathan Silva\", \"CD Legan\\u00e9s\", \"Left-Back\"], [\"Ben Chilwell\", \"Chelsea FC\", \"Left-Back\"], [\"Adam Masina\", \"Watford FC\", \"Left-Back\"], [\"Johan Mojica\", \"Elche CF\", \"Left-Back\"], [\"Ricardo Rodr\\u00edguez\", \"Torino FC\", \"Left-Back\"], [\"Fod\\u00e9 Ballo-Tour\\u00e9\", \"AC Milan\", \"Left-Back\"], [\"Marc Cucurella\", \"FC Barcelona\", \"Left-Back\"], [\"Marvin Zeegelaar\", \"Udinese Calcio\", \"Left-Back\"], [\"Lucas Digne\", \"Everton FC\", \"Left-Back\"], [\"Jordan Amavi\", \"Olympique Marseille\", \"Left-Back\"]], \"hovertemplate\": \"position=%{customdata[2]}<br>PC1=%{x}<br>PC5=%{y}<br>player_name=%{customdata[0]}<br>club_name=%{customdata[1]}<br>fee_infladj=%{marker.color}<extra></extra>\", \"legendgroup\": \"Left-Back\", \"marker\": {\"color\": [0.1025879735347503, 1.0284087574103422, 6.170452544462053, 2.0, 12.105380877100536, 5.5, 16.824427659699047, 2.0568175148206844, 1.5388196030212544, 5.2037422037422045, 10.407484407484407, 10.407484407484407, 15.0, 0.2571021893525855, 2.5710218935258555, 0.2571021893525855, 0.5334574623807015, 3.077639206042509, 30.33805834360509, 20.568175148206844, 3.0, 26.22442331396373, 1.196860706860707, 9.25567881669308, 6.5, 0.5, 1.1312496331513766, 2.0568175148206844, 6.244490644490645, 3.1222453222453224, 7.0, 49.363620355696426, 2.5, 19.774220374220377, 1.7482948875975817, 5.2037422037422045, 16.927015633233797, 5.2037422037422045, 4.103518941390012, 0.5142043787051711, 8.227270059282738, 0.7805613305613306, 15.611226611226613, 11.44823284823285, 29.140956340956343, 15.940335739860304, 0.5, 2.6018711018711023, 4.0, 7.147440864001879, 0.8227270059282739, 22.11078828432236, 2.7767036450079243, 51.49916271444464, 5.2037422037422045, 1.2, 2.0004654839276306, 5.0, 4.113635029641369, 0.3122245322245322, 21.023118503118503, 10.407484407484407], \"coloraxis\": \"coloraxis\", \"symbol\": \"diamond\"}, \"mode\": \"markers\", \"name\": \"Left-Back\", \"orientation\": \"v\", \"showlegend\": true, \"type\": \"scatter\", \"x\": [-6.979062017078078, 0.3506773662636249, 8.96764440073396, -7.0410415019232016, 8.639568962026852, 4.960502596995079, 15.147576615955897, 1.5123339905043212, 16.635021036936703, 4.161870077395356, -7.388718450201035, 0.07434069574035249, -1.6402578347395467, 5.157371712049899, 5.367190006710897, -6.737828418154601, -2.679177868346522, -8.63447467360595, -1.5828950724204072, 0.6540355265179906, -5.614216932037964, 8.237747371271379, -7.388718450201035, 3.485250974673536, -0.31287312659282185, 5.629988352998894, 3.096915002918978, 5.803316724769829, -5.35820113963601, 7.107973562158916, 2.953093389796898, 10.145599005501873, -2.322661757553016, 9.185797689168513, 11.56031929682189, 6.688443818970978, 5.192829123267449, -3.404644947820612, 0.07516178848386026, 2.4591239449759366, 4.646659800592574, -6.193712392424993, 8.404431925811036, 1.6057634026450363, 4.285235900434223, -0.7930171792941603, 0.18091760722222566, 7.460854378273584, 3.965808477565223, 2.3992572537328134, -3.26880630029172, 1.7215689637618865, -1.8101765644765755, 10.944301198582771, 11.252217183790533, -2.4931111896844267, 5.119912965532752, -0.01613800188811227, 5.803316724769829, -3.5933631047915147, -3.7338998297896655, 5.89540979556581], \"xaxis\": \"x\", \"y\": [-2.5699907086081124, 1.191618094437546, -1.2968905306590837, 2.4922877203520697, -6.153667384784961, 0.030767464374655273, -5.271155924645283, -0.6638575324524424, 4.335500084008787, 0.0248644788561333, 0.8158203861837674, -0.9078337385708606, 2.200800967036197, 0.8155754643250649, -1.6339552301513622, 1.7557073740955977, -3.2478958419747066, -0.2267971720910813, 0.19658554100439773, 0.2301129973773383, 0.9099638805527142, -2.3648002044859253, 0.8158203861837674, -2.703494651560917, -2.3580942452069693, -2.503959710709777, -3.161726459374262, -5.086155852408335, 0.05529461752165643, -2.7600873701903326, -0.06939213133354838, -0.6393695618310329, -1.8465154102930899, -4.737692097840882, 2.9966173276917387, -4.197094677678656, -2.5488728761395354, 0.5698147511532808, -1.2564482618603479, -2.4625957611622775, -2.179187559812552, 1.2701437183831716, -3.2664445882055375, -1.7084439493122638, -0.7361928441283517, 0.6335507063086636, -0.8898846324917097, -1.9422344463187704, -1.831189900935935, -1.8967262247324415, -1.972165814331292, -1.139459001156841, -1.7586860310542363, -3.2724937271890524, -7.247866745160588, -2.4665576766324095, -0.2887115764833546, -1.2649180949174923, -5.086155852408335, -0.9073534127130432, 1.289894165533818, -1.3993241561875855], \"yaxis\": \"y\"}, {\"customdata\": [[\"Roberto Rosales\", \"CD Legan\\u00e9s\", \"Right-Back\"], [\"Emil Krafth\", \"Amiens SC\", \"Right-Back\"], [\"Ola Aina\", \"Fulham FC\", \"Right-Back\"], [\"Allan Nyom\", \"Getafe CF\", \"Right-Back\"], [\"Matteo Darmian\", \"Inter Milan\", \"Right-Back\"], [\"Giovanni Di Lorenzo\", \"SSC Napoli\", \"Right-Back\"], [\"Kieran Trippier\", \"Atl\\u00e9tico de Madrid\", \"Right-Back\"], [\"Juan Foyth\", \"Villarreal CF\", \"Right-Back\"], [\"Alessandro Florenzi\", \"AC Milan\", \"Right-Back\"], [\"Emil Krafth\", \"Newcastle United\", \"Right-Back\"], [\"Arnaud Souquet\", \"Montpellier HSC\", \"Right-Back\"], [\"Pablo Maffeo\", \"RCD Mallorca\", \"Right-Back\"], [\"Davide Zappacosta\", \"Atalanta BC\", \"Right-Back\"], [\"Djibril Sidib\\u00e9\", \"Everton FC\", \"Right-Back\"], [\"Michael Lang\", \"SV Werder Bremen\", \"Right-Back\"], [\"Fabio Depaoli\", \"UC Sampdoria\", \"Right-Back\"], [\"Sergi Palencia\", \"AS Saint-\\u00c9tienne\", \"Right-Back\"], [\"Vincent Laurini\", \"ACF Fiorentina\", \"Right-Back\"], [\"\\u00c1lvaro Odriozola\", \"Real Madrid\", \"Right-Back\"], [\"Achraf Hakimi\", \"Inter Milan\", \"Right-Back\"], [\"Danilo\", \"Juventus FC\", \"Right-Back\"], [\"Pol Lirola\", \"Olympique Marseille\", \"Right-Back\"], [\"Almamy Tour\\u00e9\", \"Eintracht Frankfurt\", \"Right-Back\"], [\"Takehiro Tomiyasu\", \"Arsenal FC\", \"Right-Back\"], [\"Pol Lirola\", \"ACF Fiorentina\", \"Right-Back\"], [\"Fabrizio Cacciatore\", \"Cagliari Calcio\", \"Right-Back\"], [\"Mart\\u00edn Montoya\", \"Brighton & Hove Albion\", \"Right-Back\"], [\"Diogo Dalot\", \"AC Milan\", \"Right-Back\"], [\"Federico Mattiello\", \"Cagliari Calcio\", \"Right-Back\"], [\"Marc Navarro\", \"Watford FC\", \"Right-Back\"], [\"Fabrizio Cacciatore\", \"Cagliari Calcio\", \"Right-Back\"], [\"Patrick Burner\", \"N\\u00eemes Olympique\", \"Right-Back\"], [\"Davide Santon\", \"AS Roma\", \"Right-Back\"], [\"Mitchell Weiser\", \"Bayer 04 Leverkusen\", \"Right-Back\"], [\"Dimitri Foulquier\", \"Granada CF\", \"Right-Back\"], [\"Nordi Mukiele\", \"RB Leipzig\", \"Right-Back\"], [\"Brandon Soppy\", \"Udinese Calcio\", \"Right-Back\"], [\"Timothy Castagne\", \"Leicester City\", \"Right-Back\"], [\"Miguel Lay\\u00fan\", \"Villarreal CF\", \"Right-Back\"], [\"Pedro Porro\", \"Manchester City\", \"Right-Back\"], [\"Achraf Hakimi\", \"Paris Saint-Germain\", \"Right-Back\"], [\"Dimitri Foulquier\", \"Valencia CF\", \"Right-Back\"], [\"Bryan Reynolds\", \"AS Roma\", \"Right-Back\"], [\"Benjamin Henrichs\", \"AS Monaco\", \"Right-Back\"], [\"Vincent Laurini\", \"Parma Calcio 1913\", \"Right-Back\"], [\"Manuel Lazzari\", \"SS Lazio\", \"Right-Back\"], [\"Alessandro Florenzi\", \"Paris Saint-Germain\", \"Right-Back\"], [\"Ola Aina\", \"Torino FC\", \"Right-Back\"], [\"Silvan Widmer\", \"1.FSV Mainz 05\", \"Right-Back\"], [\"Ezequiel Schelotto\", \"Chievo Verona\", \"Right-Back\"], [\"Jeremy Toljan\", \"US Sassuolo\", \"Right-Back\"], [\"Ximo Navarro\", \"Deportivo Alav\\u00e9s\", \"Right-Back\"], [\"Matteo Darmian\", \"Parma Calcio 1913\", \"Right-Back\"], [\"Santiago Arias\", \"Bayer 04 Leverkusen\", \"Right-Back\"], [\"Davide Faraoni\", \"Hellas Verona\", \"Right-Back\"], [\"C\\u00e9dric Soares\", \"Inter Milan\", \"Right-Back\"], [\"Timothy Fosu-Mensah\", \"Bayer 04 Leverkusen\", \"Right-Back\"], [\"Valentino Lazaro\", \"Inter Milan\", \"Right-Back\"], [\"Aleix Vidal\", \"Sevilla FC\", \"Right-Back\"], [\"Rona\\u00ebl Pierre-Gabriel\", \"AS Monaco\", \"Right-Back\"], [\"Jo\\u00e3o Cancelo\", \"Manchester City\", \"Right-Back\"], [\"Pablo Maffeo\", \"VfB Stuttgart\", \"Right-Back\"], [\"Matt Doherty\", \"Tottenham Hotspur\", \"Right-Back\"], [\"Lukas Kl\\u00fcnter\", \"Hertha BSC\", \"Right-Back\"], [\"Benjamin Henrichs\", \"RB Leipzig\", \"Right-Back\"], [\"Federico Mattiello\", \"Bologna FC 1909\", \"Right-Back\"], [\"Pol Lirola\", \"ACF Fiorentina\", \"Right-Back\"], [\"Rona\\u00ebl Pierre-Gabriel\", \"1.FSV Mainz 05\", \"Right-Back\"], [\"Saidy Janko\", \"Real Valladolid CF\", \"Right-Back\"], [\"Kieran Trippier\", \"Newcastle United\", \"Right-Back\"], [\"Junior Sambia\", \"Montpellier HSC\", \"Right-Back\"], [\"Juanfran\", \"CD Legan\\u00e9s\", \"Right-Back\"], [\"Kelvin Amian\", \"Spezia Calcio\", \"Right-Back\"]], \"hovertemplate\": \"position=%{customdata[2]}<br>PC1=%{x}<br>PC5=%{y}<br>player_name=%{customdata[0]}<br>club_name=%{customdata[1]}<br>fee_infladj=%{marker.color}<extra></extra>\", \"legendgroup\": \"Right-Back\", \"marker\": {\"color\": [1.2340905088924106, 2.0568175148206844, 2.564699338368757, 3.085226272231026, 3.3, 8.227270059282738, 22.624992663027527, 15.0, 1.0, 5.553407290015849, 2.879544520748958, 0.5, 9.0, 2.5710218935258555, 0.6170452544462053, 4.62783940834654, 2.0568175148206844, 1.6651975051975054, 31.222453222453225, 44.11282861994263, 38.05112402418266, 6.5, 0.7805613305613306, 18.6, 11.284677088822532, 0.104074844074844, 7.285239085239086, 0.5129398676737514, 0.6170452544462053, 2.0814968814968817, 0.8227270059282739, 1.5388196030212544, 9.887110187110189, 12.48898128898129, 2.0517594706950057, 16.651975051975054, 2.0, 20.517594706950057, 4.1629937629937634, 12.340905088924108, 66.5, 2.5, 6.75, 20.814968814968815, 0.4524998532605506, 15.426131361155132, 0.5129398676737514, 10.078405822621354, 2.5, 0.2289646569646569, 3.5, 1.5611226611226612, 2.550453718377649, 3.077639206042509, 0.3085226272231026, 0.5203742203742204, 1.743995550090755, 23.036356165991663, 9.6789604989605, 6.244490644490645, 66.84656923167225, 9.366735966735968, 17.23477955383805, 2.0814968814968817, 15.0, 1.0407484407484409, 2.0568175148206844, 5.656248165756882, 1.9491714971602556, 15.0, 2.0814968814968817, 0.3122245322245322, 3.2], \"coloraxis\": \"coloraxis\", \"symbol\": \"square\"}, \"mode\": \"markers\", \"name\": \"Right-Back\", \"orientation\": \"v\", \"showlegend\": true, \"type\": \"scatter\", \"x\": [8.669138940275952, 2.7750635021908665, 0.233635449350585, 1.7478538547540186, -5.091586843443348, 16.92321022167792, 10.862954882034517, -2.566364044793448, 3.592666306098425, 0.9360298698580478, -2.3328212456178363, 1.797093909561908, -1.0007877591336447, 8.2180916474747, -7.660683123308742, 2.028265716010111, 4.892780535063446, 1.1807497741750144, 11.345870663747355, 7.653684748545108, -0.4517492820949325, 4.896645124530039, -0.6673913222946544, 0.630729458047528, 6.09725004274092, 11.101641775675535, 5.281440977748485, -8.967264512010034, 1.4644873078612235, -3.0907492726155024, 2.518544412157088, -1.6729339715741003, -4.079641336267524, 6.116771876961531, -2.0999917812942384, 10.082202266088633, -5.478492196072497, 4.0071181699494405, -1.722811359631251, 7.93701204266514, 8.886112908578038, -0.769748148425057, -10.46451275684112, 0.5771793123927961, -1.0451486911778907, 12.383597258882913, 4.559738564016985, -2.7282667669548943, -5.063969145112872, -2.865366741907934, -2.2662737150908803, 2.9896897516573864, -7.514668682286445, -4.257466437890369, -4.732951069398502, 9.178915673840702, -6.263848888616495, 9.358538297171421, -6.006482461825081, -2.5894536365715517, -0.9659620055383589, 8.017542885094201, 12.698721275276057, -2.2162273712615463, -2.887667772966758, 3.884994252549524, 6.093555671159488, -5.423005441109971, -6.402627487486621, 9.743119161739587, 2.7426683011203403, -1.9010763440935423, -1.5633450491219283], \"xaxis\": \"x\", \"y\": [-2.045590446086842, -2.220980582362332, -3.1507410881124027, -2.407515555516081, -0.7513341469924021, -3.3778538951037, 1.537184163173663, 1.1495075772688805, 0.14159956364911075, -1.5830051943505483, -2.7908177138481145, -2.2558556749520013, -0.5211662500074653, -1.7961407934339897, -0.5130538586823339, -3.3197586175281213, -3.0710691311332177, -0.6876126637285885, -2.5021893931163, 0.35949316775106066, 1.891270225023698, -1.143000980105574, 0.3545052915587059, -1.222079617731397, -1.5743726723813571, -1.3462582786037456, -2.250318870394088, -1.6467025683671088, -2.8047006988399725, 0.22099954239092057, 0.23763840228688682, 0.48851232096424996, 0.5908960687379385, -0.5804403096962867, -0.891182365238162, -2.0796959610812493, 0.5594849162053663, -1.5789530020204279, 1.0776692136026083, -4.540734760408845, -0.04747123273792386, -1.3592272592958854, -0.6761446785765246, -1.4595472467305635, 0.012844476336256294, -4.32183742228546, 0.07512112500277848, -3.4617197968816695, -1.0668140113367666, -0.7645130299986551, -1.0508990347420668, -0.22717947113977177, 0.9236230165670725, -0.8518932769772803, -1.2766595610838511, -3.528939927790633, -0.9154938953513885, 0.2444733472208953, 2.0836245840391143, 0.28856929500375816, -1.9304487216822417, -5.919761433438269, -4.483534897804645, -1.135086420353965, -0.21639605308499588, -5.0542619804147115, -1.407747292511627, 0.6579989160650195, -1.8679365895385436, 1.3472251227597605, 3.0768199899850446, -1.3347394054833532, -1.748899782966026], \"yaxis\": \"y\"}, {\"customdata\": [[\"Philipp Tschauner\", \"RB Leipzig\", \"Goalkeeper\"], [\"Ger\\u00f3nimo Rulli\", \"Montpellier HSC\", \"Goalkeeper\"], [\"Joe Hart\", \"Burnley FC\", \"Goalkeeper\"], [\"Ger\\u00f3nimo Rulli\", \"Villarreal CF\", \"Goalkeeper\"], [\"Emiliano Mart\\u00ednez\", \"Aston Villa\", \"Goalkeeper\"], [\"Alex Meret\", \"SSC Napoli\", \"Goalkeeper\"], [\"Sergio Rico\", \"Paris Saint-Germain\", \"Goalkeeper\"], [\"Mike Maignan\", \"AC Milan\", \"Goalkeeper\"], [\"Alisson\", \"Liverpool FC\", \"Goalkeeper\"], [\"Alfred Gomis\", \"Stade Rennais FC\", \"Goalkeeper\"], [\"R\\u00fanar Alex R\\u00fanarsson\", \"Arsenal FC\", \"Goalkeeper\"], [\"Benjamin Lecomte\", \"AS Monaco\", \"Goalkeeper\"], [\"Pierluigi Gollini\", \"Atalanta BC\", \"Goalkeeper\"], [\"Pau L\\u00f3pez\", \"AS Roma\", \"Goalkeeper\"], [\"Marco Sportiello\", \"Frosinone Calcio\", \"Goalkeeper\"], [\"Marco Silvestri\", \"Udinese Calcio\", \"Goalkeeper\"], [\"Antonio Mirante\", \"AS Roma\", \"Goalkeeper\"], [\"Mattia Perin\", \"Genoa CFC\", \"Goalkeeper\"], [\"Mattia Perin\", \"Juventus FC\", \"Goalkeeper\"], [\"Keylor Navas\", \"Paris Saint-Germain\", \"Goalkeeper\"], [\"Edouard Mendy\", \"Chelsea FC\", \"Goalkeeper\"], [\"Angus Gunn\", \"Norwich City\", \"Goalkeeper\"], [\"Aaron Ramsdale\", \"Sheffield United\", \"Goalkeeper\"], [\"Alfred Gomis\", \"Dijon FCO\", \"Goalkeeper\"], [\"Alban Lafont\", \"FC Nantes\", \"Goalkeeper\"], [\"Gregor Kobel\", \"VfB Stuttgart\", \"Goalkeeper\"], [\"David Soria\", \"Getafe CF\", \"Goalkeeper\"], [\"Bernd Leno\", \"Arsenal FC\", \"Goalkeeper\"], [\"Jack Butland\", \"Crystal Palace\", \"Goalkeeper\"], [\"Thibaut Courtois\", \"Real Madrid\", \"Goalkeeper\"], [\"Gregor Kobel\", \"Borussia Dortmund\", \"Goalkeeper\"], [\"Orestis Karnezis\", \"SSC Napoli\", \"Goalkeeper\"], [\"Julian Pollersbeck\", \"Olympique Lyon\", \"Goalkeeper\"], [\"Aaron Ramsdale\", \"Arsenal FC\", \"Goalkeeper\"], [\"David Ospina\", \"SSC Napoli\", \"Goalkeeper\"], [\"\\u00c1lvaro Fern\\u00e1ndez\", \"Brentford FC\", \"Goalkeeper\"], [\"Luigi Sepe\", \"Parma Calcio 1913\", \"Goalkeeper\"], [\"Alexander Schwolow\", \"Hertha BSC\", \"Goalkeeper\"], [\"Kepa Arrizabalaga\", \"Chelsea FC\", \"Goalkeeper\"], [\"Christian Mathenia\", \"1.FC Nuremberg\", \"Goalkeeper\"], [\"Paul Bernardoni\", \"SCO Angers\", \"Goalkeeper\"], [\"Pepe Reina\", \"Aston Villa\", \"Goalkeeper\"], [\"Alban Lafont\", \"ACF Fiorentina\", \"Goalkeeper\"], [\"Alphonse Areola\", \"Real Madrid\", \"Goalkeeper\"], [\"Ralf F\\u00e4hrmann\", \"Norwich City\", \"Goalkeeper\"], [\"Pau L\\u00f3pez\", \"Olympique Marseille\", \"Goalkeeper\"], [\"Alban Lafont\", \"FC Nantes\", \"Goalkeeper\"], [\"Alphonse Areola\", \"West Ham United\", \"Goalkeeper\"], [\"Edouard Mendy\", \"Stade Rennais FC\", \"Goalkeeper\"]], \"hovertemplate\": \"position=%{customdata[2]}<br>PC1=%{x}<br>PC5=%{y}<br>player_name=%{customdata[0]}<br>club_name=%{customdata[1]}<br>fee_infladj=%{marker.color}<extra></extra>\", \"legendgroup\": \"Goalkeeper\", \"marker\": {\"color\": [0.3599430650936197, 1.542613136115513, 4.058918918918919, 5.129398676737514, 17.85030739504655, 26.7386276926689, 6.155278412085018, 14.3, 65.04677754677755, 10.258797353475028, 2.0517594706950057, 13.88351822503962, 4.57929313929314, 24.167605799143043, 0.3122245322245322, 2.5, 4.1629937629937634, 0.5358009626107884, 14.77862785862786, 15.426131361155132, 24.62111364834007, 5.85, 21.030534574623807, 1.0284087574103422, 7.5, 7.386334094502021, 3.1222453222453224, 26.01871101871102, 1.1284677088822532, 36.42619542619543, 15.0, 1.542613136115513, 0.2564699338368757, 28.0, 3.5994306509361977, 1.0, 4.698529187891563, 7.18115814743252, 83.25987525987527, 0.5203742203742204, 7.694098015106271, 0.4113635029641369, 8.325987525987527, 2.0568175148206844, 3.085226272231026, 0.72, 0.8227270059282739, 2.0, 7.8159065563186], \"coloraxis\": \"coloraxis\", \"symbol\": \"x\"}, \"mode\": \"markers\", \"name\": \"Goalkeeper\", \"orientation\": \"v\", \"showlegend\": true, \"type\": \"scatter\", \"x\": [-12.16512885984649, -12.68219141902174, -13.526091047003472, -12.806476612864191, -13.707704939506144, -13.228850408801488, -13.37196225649156, -12.84985854211864, -11.717002532810376, -13.115322755465652, -12.725279775218677, -12.93282182532915, -12.880745063017642, -12.959913922775053, -13.013528695383545, -13.669237310842606, -12.442819157490552, -12.567343605157431, -12.756946963938859, -13.089218345255242, -13.07007728255504, -13.092883214179013, -13.554567185305368, -13.10463309222009, -13.749812712224193, -13.207292491429525, -13.524318145464832, -12.325391928525576, -12.94990226700569, -12.009030606775362, -12.709789548700243, -13.088900224953651, -12.627092472612398, -13.60045788569192, -13.02019379450676, -11.885038959463454, -12.949136598276873, -12.534293975784863, -13.961818070195797, -13.245671106284593, -13.207088829365723, -12.42926923608271, -14.740367960417682, -12.933671772886882, -13.560390107758888, -12.88459199409529, -13.95382356405246, -13.115762564347506, -13.368407237669135], \"xaxis\": \"x\", \"y\": [-1.0979648231713552, -0.49188160829950967, -0.31976018418653673, -0.4671067226977108, -0.8048559565664992, -0.5294950729975558, -1.6653862336050813, -0.36187335291165956, 0.3103300180575639, 0.04571872597677107, -0.9343221939226121, -0.2255494666944382, 0.23263791567473735, -1.1269132880570072, -1.0860615884962175, -1.4535744605503549, 1.3505644443423148, -0.04248466820568986, -0.6616770695414518, -0.4069404466535924, -0.08542407391551565, -1.6998296782715037, -1.4014484167453158, 0.1321741453298011, -1.094159385544026, -1.996427327140819, -0.7576304346193155, -0.8566542970355231, -1.7740228014261286, -0.6931032541438844, -1.306614306713712, 0.15391241964662727, -1.355944513264971, -0.9671618754713793, 0.029427715341243665, 0.4959250381877296, -0.1873138063707902, -0.20699904247668188, -1.094857663587932, -0.7837002047737123, -0.6705722951196544, 0.18682067843452188, -1.7902136341209784, -0.5066769208951025, -0.8570276766166405, -0.9298872051491447, -1.230510691635199, -0.5491026739086249, -0.6496822155547282], \"yaxis\": \"y\"}, {\"customdata\": [[\"Yacine Adli\", \"AC Milan\", \"Attacking Midfield\"], [\"Simone Verdi\", \"SSC Napoli\", \"Attacking Midfield\"], [\"Brahim D\\u00edaz\", \"AC Milan\", \"Attacking Midfield\"], [\"Yassine Benzia\", \"Dijon FCO\", \"Attacking Midfield\"], [\"Ludovic Blas\", \"FC Nantes\", \"Attacking Midfield\"], [\"Ga\\u00ebl Kakuta\", \"Amiens SC\", \"Attacking Midfield\"], [\"Hamed Junior Traor\\u00e8\", \"US Sassuolo\", \"Attacking Midfield\"], [\"Ryad Boudebouz\", \"AS Saint-\\u00c9tienne\", \"Attacking Midfield\"], [\"Renaud Ripart\", \"ESTAC Troyes\", \"Attacking Midfield\"], [\"Matheus Pereira\", \"West Bromwich Albion\", \"Attacking Midfield\"], [\"Julian Brandt\", \"Borussia Dortmund\", \"Attacking Midfield\"], [\"Lucas Paquet\\u00e1\", \"Olympique Lyon\", \"Attacking Midfield\"], [\"Martin \\u00d8degaard\", \"Arsenal FC\", \"Attacking Midfield\"], [\"Quentin Boisgard\", \"FC Lorient\", \"Attacking Midfield\"], [\"Mattia Zaccagni\", \"SS Lazio\", \"Attacking Midfield\"], [\"Martin \\u00d8degaard\", \"Arsenal FC\", \"Attacking Midfield\"], [\"Leonardo Bittencourt\", \"SV Werder Bremen\", \"Attacking Midfield\"], [\"Christopher Nkunku\", \"RB Leipzig\", \"Attacking Midfield\"], [\"Aymen Barkok\", \"Fortuna D\\u00fcsseldorf\", \"Attacking Midfield\"], [\"Kai Havertz\", \"Chelsea FC\", \"Attacking Midfield\"], [\"Riccardo Saponara\", \"UC Sampdoria\", \"Attacking Midfield\"], [\"Kevin-Prince Boateng\", \"FC Barcelona\", \"Attacking Midfield\"], [\"Thomas Lemar\", \"Atl\\u00e9tico de Madrid\", \"Attacking Midfield\"], [\"Javier Pastore\", \"AS Roma\", \"Attacking Midfield\"], [\"Lucas Castro\", \"Cagliari Calcio\", \"Attacking Midfield\"], [\"Jesse Lingard\", \"West Ham United\", \"Attacking Midfield\"], [\"Steven Skrzybski\", \"Fortuna D\\u00fcsseldorf\", \"Attacking Midfield\"], [\"Leonardo Bittencourt\", \"SV Werder Bremen\", \"Attacking Midfield\"], [\"Christian Eriksen\", \"Inter Milan\", \"Attacking Midfield\"], [\"Pablo Fornals\", \"West Ham United\", \"Attacking Midfield\"], [\"Amin Younes\", \"Eintracht Frankfurt\", \"Attacking Midfield\"], [\"R\\u00e9my Cabella\", \"AS Saint-\\u00c9tienne\", \"Attacking Midfield\"], [\"Kevin-Prince Boateng\", \"ACF Fiorentina\", \"Attacking Midfield\"], [\"Roberto Soriano\", \"Bologna FC 1909\", \"Attacking Midfield\"], [\"Henrikh Mkhitaryan\", \"AS Roma\", \"Attacking Midfield\"], [\"Leonardo Bittencourt\", \"TSG 1899 Hoffenheim\", \"Attacking Midfield\"], [\"Simone Verdi\", \"Torino FC\", \"Attacking Midfield\"], [\"Roberto Soriano\", \"Torino FC\", \"Attacking Midfield\"]], \"hovertemplate\": \"position=%{customdata[2]}<br>PC1=%{x}<br>PC5=%{y}<br>player_name=%{customdata[0]}<br>club_name=%{customdata[1]}<br>fee_infladj=%{marker.color}<extra></extra>\", \"legendgroup\": \"Attacking Midfield\", \"marker\": {\"color\": [8.0, 25.4983367983368, 3.0, 1.542613136115513, 8.227270059282738, 3.085226272231026, 16.0, 3.5994306509361977, 3.3, 8.463507816616898, 25.71021893525856, 20.517594706950057, 2.0517594706950057, 2.0517594706950057, 0.2, 35.0, 0.6170452544462053, 13.36931384633445, 0.8325987525987527, 82.07037882780023, 2.0814968814968817, 1.0407484407484409, 74.93388773388774, 25.70648648648649, 6.140415800415801, 2.3595233912992564, 0.2056817514820684, 7.18115814743252, 27.76703645007924, 28.795445207489585, 0.7694098015106272, 6.244490644490645, 1.542613136115513, 8.227270059282738, 3.188067147972061, 6.244490644490645, 22.569354177645064, 1.0407484407484409], \"coloraxis\": \"coloraxis\", \"symbol\": \"cross\"}, \"mode\": \"markers\", \"name\": \"Attacking Midfield\", \"orientation\": \"v\", \"showlegend\": true, \"type\": \"scatter\", \"x\": [0.7208915053659904, 14.839558486355337, -7.407752284940433, -0.07875145802193378, 5.1932890936366345, 4.0621678757025705, 6.085349150768145, -1.5152493443698214, 7.2086541473027665, -8.332675725414504, 15.188838678494612, -4.954520096094507, 0.9877936426285924, -0.9357310306022932, 7.335693866394115, -3.357070756802279, 1.4071868010967292, -2.1408973437471217, -7.674576448647038, 11.854958036950647, -1.7031497070889454, 5.096754422107466, 12.070684287590769, 3.8657516003597556, 6.224187134527515, 1.9026725444843815, -8.876258449847487, -3.077475317823522, 21.901955219564954, 11.243762565673377, -7.461271858408972, 13.804007686540533, -3.4750225667782777, -4.086584509747643, 1.934402075979655, 3.1862014412641666, 6.333904901816018, -2.340202715639555], \"xaxis\": \"x\", \"y\": [-0.15139015974132386, 6.930378140132382, 0.16433507611910203, -1.4405361915944277, -2.1663173505909703, -0.22849697242056077, 0.49467918973068725, 1.1404918958900374, -4.788265323918799, -1.2258284099217176, 4.23453500600591, -1.1723425666667777, 2.0267192464706336, 0.6851594510146588, -1.6785961475194007, 0.5849138288901697, -1.0377527868576302, 2.117507344019749, 0.5828492872512223, 0.04569544251459057, 1.8018334977177402, -0.18010127200878467, 2.3819808213116067, 1.376086591293819, -2.191731104094501, -0.09545916270893956, -0.8815808382596662, -1.458067526662007, 7.439697737298924, -2.6538167717948395, 0.7493468017888711, -0.47414692339443776, -1.2393991391397718, -0.038155227405893166, 1.9869171722738168, -1.23625398551351, 4.648434029348712, -1.0296186511038352], \"yaxis\": \"y\"}, {\"customdata\": [[\"Joaqu\\u00edn Correa\", \"SS Lazio\", \"Second Striker\"], [\"Rodrigo\", \"Leeds United\", \"Second Striker\"], [\"Papu G\\u00f3mez\", \"Sevilla FC\", \"Second Striker\"], [\"Diego Farias\", \"Spezia Calcio\", \"Second Striker\"], [\"Joaqu\\u00edn Correa\", \"Inter Milan\", \"Second Striker\"], [\"Antoine Griezmann\", \"FC Barcelona\", \"Second Striker\"], [\"Luca Waldschmidt\", \"SC Freiburg\", \"Second Striker\"], [\"Diego Farias\", \"Empoli FC\", \"Second Striker\"], [\"Maximilian Philipp\", \"VfL Wolfsburg\", \"Second Striker\"], [\"Gianluca Caprari\", \"Parma Calcio 1913\", \"Second Striker\"], [\"Gianluca Caprari\", \"Benevento Calcio\", \"Second Striker\"], [\"Maximilian Philipp\", \"VfL Wolfsburg\", \"Second Striker\"], [\"Diego Farias\", \"US Lecce\", \"Second Striker\"], [\"Kevin Volland\", \"AS Monaco\", \"Second Striker\"], [\"Enrico Brignola\", \"US Sassuolo\", \"Second Striker\"], [\"Ayoze P\\u00e9rez\", \"Leicester City\", \"Second Striker\"], [\"Luca Waldschmidt\", \"VfL Wolfsburg\", \"Second Striker\"]], \"hovertemplate\": \"position=%{customdata[2]}<br>PC1=%{x}<br>PC5=%{y}<br>player_name=%{customdata[0]}<br>club_name=%{customdata[1]}<br>fee_infladj=%{marker.color}<extra></extra>\", \"legendgroup\": \"Second Striker\", \"marker\": {\"color\": [18.57735966735967, 30.776392060425085, 5.129398676737514, 0.5129398676737514, 5.0, 123.40905088924106, 5.2037422037422045, 2.6018711018711023, 2.0517594706950057, 2.159658390561719, 1.3336436559517535, 7.5, 1.0798291952808594, 11.284677088822532, 3.1222453222453224, 34.348852497505426, 12.0], \"coloraxis\": \"coloraxis\", \"symbol\": \"circle\"}, \"mode\": \"markers\", \"name\": \"Second Striker\", \"orientation\": \"v\", \"showlegend\": true, \"type\": \"scatter\", \"x\": [-0.4336451098020321, 5.509482194530285, 22.81535907333453, -2.5683687004054967, 4.717663919906397, 13.193542674015346, -4.65591524093866, 1.0615076383321438, -6.748057157610868, 1.673161746382486, -0.6598121874807502, -5.7476144059852174, -2.3636205691252536, 6.507519864894123, -0.23654481934655128, 8.536814542016955, -4.297743443010239], \"xaxis\": \"x\", \"y\": [-0.40527679513342035, -0.5958874171279742, 7.61330860445028, 0.2804050391138795, 0.2849331194897059, 2.7275923954359738, 0.5821501879493866, -2.0248472691818753, 0.3336658896069076, 1.0792062324266827, 1.6396147938857515, 0.8229694280122964, -0.4374320710122088, -0.6404953767274713, -0.3901209877831702, -4.113579411239086, 0.502522883977973], \"yaxis\": \"y\"}, {\"customdata\": [[\"Romain Faivre\", \"Olympique Lyon\", \"Right Midfield\"], [\"Antonio Candreva\", \"UC Sampdoria\", \"Right Midfield\"], [\"Victor Moses\", \"Inter Milan\", \"Right Midfield\"]], \"hovertemplate\": \"position=%{customdata[2]}<br>PC1=%{x}<br>PC5=%{y}<br>player_name=%{customdata[0]}<br>club_name=%{customdata[1]}<br>fee_infladj=%{marker.color}<extra></extra>\", \"legendgroup\": \"Right Midfield\", \"marker\": {\"color\": [15.0, 2.5, 0.2221362916006339], \"coloraxis\": \"coloraxis\", \"symbol\": \"diamond\"}, \"mode\": \"markers\", \"name\": \"Right Midfield\", \"orientation\": \"v\", \"showlegend\": true, \"type\": \"scatter\", \"x\": [2.557233787401472, 8.27756444043749, -3.6071594942985925], \"xaxis\": \"x\", \"y\": [0.6583798317922561, 4.6861983043157895, -2.1464539949694283], \"yaxis\": \"y\"}, {\"customdata\": [[\"Erik Thommy\", \"Fortuna D\\u00fcsseldorf\", \"Left Midfield\"], [\"Mohamed Fares\", \"SPAL\", \"Left Midfield\"], [\"Ryan Sessegnon\", \"Tottenham Hotspur\", \"Left Midfield\"], [\"Jakub Jankto\", \"UC Sampdoria\", \"Left Midfield\"], [\"Mohamed Fares\", \"SS Lazio\", \"Left Midfield\"], [\"Jakub Jankto\", \"Getafe CF\", \"Left Midfield\"]], \"hovertemplate\": \"position=%{customdata[2]}<br>PC1=%{x}<br>PC5=%{y}<br>player_name=%{customdata[0]}<br>club_name=%{customdata[1]}<br>fee_infladj=%{marker.color}<extra></extra>\", \"legendgroup\": \"Left Midfield\", \"marker\": {\"color\": [0.5142043787051711, 3.5994306509361977, 27.76703645007924, 14.911926982449964, 8.207037882780023, 6.0], \"coloraxis\": \"coloraxis\", \"symbol\": \"square\"}, \"mode\": \"markers\", \"name\": \"Left Midfield\", \"orientation\": \"v\", \"showlegend\": true, \"type\": \"scatter\", \"x\": [-2.7802904331257823, 8.862099894114616, 5.328030474251344, 2.729498291054777, 3.383547520695196, 3.0101772970337035], \"xaxis\": \"x\", \"y\": [2.631016700266901, -5.067702354122795, -1.4383821930421834, 0.48302017853683793, -3.1079456948122077, 0.16119101893661653], \"yaxis\": \"y\"}],                        {\"coloraxis\": {\"colorbar\": {\"title\": {\"text\": \"fee_infladj\"}}, \"colorscale\": [[0.0, \"#0d0887\"], [0.1111111111111111, \"#46039f\"], [0.2222222222222222, \"#7201a8\"], [0.3333333333333333, \"#9c179e\"], [0.4444444444444444, \"#bd3786\"], [0.5555555555555556, \"#d8576b\"], [0.6666666666666666, \"#ed7953\"], [0.7777777777777778, \"#fb9f3a\"], [0.8888888888888888, \"#fdca26\"], [1.0, \"#f0f921\"]]}, \"legend\": {\"title\": {\"text\": \"position\"}, \"tracegroupgap\": 0}, \"margin\": {\"t\": 60}, \"template\": {\"data\": {\"bar\": [{\"error_x\": {\"color\": \"#2a3f5f\"}, \"error_y\": {\"color\": \"#2a3f5f\"}, \"marker\": {\"line\": {\"color\": \"#E5ECF6\", \"width\": 0.5}}, \"type\": \"bar\"}], \"barpolar\": [{\"marker\": {\"line\": {\"color\": \"#E5ECF6\", \"width\": 0.5}}, \"type\": \"barpolar\"}], \"carpet\": [{\"aaxis\": {\"endlinecolor\": \"#2a3f5f\", \"gridcolor\": \"white\", \"linecolor\": \"white\", \"minorgridcolor\": \"white\", \"startlinecolor\": \"#2a3f5f\"}, \"baxis\": {\"endlinecolor\": \"#2a3f5f\", \"gridcolor\": \"white\", \"linecolor\": \"white\", \"minorgridcolor\": \"white\", \"startlinecolor\": \"#2a3f5f\"}, \"type\": \"carpet\"}], \"choropleth\": [{\"colorbar\": {\"outlinewidth\": 0, \"ticks\": \"\"}, \"type\": \"choropleth\"}], \"contour\": [{\"colorbar\": {\"outlinewidth\": 0, \"ticks\": \"\"}, \"colorscale\": [[0.0, \"#0d0887\"], [0.1111111111111111, \"#46039f\"], [0.2222222222222222, \"#7201a8\"], [0.3333333333333333, \"#9c179e\"], [0.4444444444444444, \"#bd3786\"], [0.5555555555555556, \"#d8576b\"], [0.6666666666666666, \"#ed7953\"], [0.7777777777777778, \"#fb9f3a\"], [0.8888888888888888, \"#fdca26\"], [1.0, \"#f0f921\"]], \"type\": \"contour\"}], \"contourcarpet\": [{\"colorbar\": {\"outlinewidth\": 0, \"ticks\": \"\"}, \"type\": \"contourcarpet\"}], \"heatmap\": [{\"colorbar\": {\"outlinewidth\": 0, \"ticks\": \"\"}, \"colorscale\": [[0.0, \"#0d0887\"], [0.1111111111111111, \"#46039f\"], [0.2222222222222222, \"#7201a8\"], [0.3333333333333333, \"#9c179e\"], [0.4444444444444444, \"#bd3786\"], [0.5555555555555556, \"#d8576b\"], [0.6666666666666666, \"#ed7953\"], [0.7777777777777778, \"#fb9f3a\"], [0.8888888888888888, \"#fdca26\"], [1.0, \"#f0f921\"]], \"type\": \"heatmap\"}], \"heatmapgl\": [{\"colorbar\": {\"outlinewidth\": 0, \"ticks\": \"\"}, \"colorscale\": [[0.0, \"#0d0887\"], [0.1111111111111111, \"#46039f\"], [0.2222222222222222, \"#7201a8\"], [0.3333333333333333, \"#9c179e\"], [0.4444444444444444, \"#bd3786\"], [0.5555555555555556, \"#d8576b\"], [0.6666666666666666, \"#ed7953\"], [0.7777777777777778, \"#fb9f3a\"], [0.8888888888888888, \"#fdca26\"], [1.0, \"#f0f921\"]], \"type\": \"heatmapgl\"}], \"histogram\": [{\"marker\": {\"colorbar\": {\"outlinewidth\": 0, \"ticks\": \"\"}}, \"type\": \"histogram\"}], \"histogram2d\": [{\"colorbar\": {\"outlinewidth\": 0, \"ticks\": \"\"}, \"colorscale\": [[0.0, \"#0d0887\"], [0.1111111111111111, \"#46039f\"], [0.2222222222222222, \"#7201a8\"], [0.3333333333333333, \"#9c179e\"], [0.4444444444444444, \"#bd3786\"], [0.5555555555555556, \"#d8576b\"], [0.6666666666666666, \"#ed7953\"], [0.7777777777777778, \"#fb9f3a\"], [0.8888888888888888, \"#fdca26\"], [1.0, \"#f0f921\"]], \"type\": \"histogram2d\"}], \"histogram2dcontour\": [{\"colorbar\": {\"outlinewidth\": 0, \"ticks\": \"\"}, \"colorscale\": [[0.0, \"#0d0887\"], [0.1111111111111111, \"#46039f\"], [0.2222222222222222, \"#7201a8\"], [0.3333333333333333, \"#9c179e\"], [0.4444444444444444, \"#bd3786\"], [0.5555555555555556, \"#d8576b\"], [0.6666666666666666, \"#ed7953\"], [0.7777777777777778, \"#fb9f3a\"], [0.8888888888888888, \"#fdca26\"], [1.0, \"#f0f921\"]], \"type\": \"histogram2dcontour\"}], \"mesh3d\": [{\"colorbar\": {\"outlinewidth\": 0, \"ticks\": \"\"}, \"type\": \"mesh3d\"}], \"parcoords\": [{\"line\": {\"colorbar\": {\"outlinewidth\": 0, \"ticks\": \"\"}}, \"type\": \"parcoords\"}], \"pie\": [{\"automargin\": true, \"type\": \"pie\"}], \"scatter\": [{\"marker\": {\"colorbar\": {\"outlinewidth\": 0, \"ticks\": \"\"}}, \"type\": \"scatter\"}], \"scatter3d\": [{\"line\": {\"colorbar\": {\"outlinewidth\": 0, \"ticks\": \"\"}}, \"marker\": {\"colorbar\": {\"outlinewidth\": 0, \"ticks\": \"\"}}, \"type\": \"scatter3d\"}], \"scattercarpet\": [{\"marker\": {\"colorbar\": {\"outlinewidth\": 0, \"ticks\": \"\"}}, \"type\": \"scattercarpet\"}], \"scattergeo\": [{\"marker\": {\"colorbar\": {\"outlinewidth\": 0, \"ticks\": \"\"}}, \"type\": \"scattergeo\"}], \"scattergl\": [{\"marker\": {\"colorbar\": {\"outlinewidth\": 0, \"ticks\": \"\"}}, \"type\": \"scattergl\"}], \"scattermapbox\": [{\"marker\": {\"colorbar\": {\"outlinewidth\": 0, \"ticks\": \"\"}}, \"type\": \"scattermapbox\"}], \"scatterpolar\": [{\"marker\": {\"colorbar\": {\"outlinewidth\": 0, \"ticks\": \"\"}}, \"type\": \"scatterpolar\"}], \"scatterpolargl\": [{\"marker\": {\"colorbar\": {\"outlinewidth\": 0, \"ticks\": \"\"}}, \"type\": \"scatterpolargl\"}], \"scatterternary\": [{\"marker\": {\"colorbar\": {\"outlinewidth\": 0, \"ticks\": \"\"}}, \"type\": \"scatterternary\"}], \"surface\": [{\"colorbar\": {\"outlinewidth\": 0, \"ticks\": \"\"}, \"colorscale\": [[0.0, \"#0d0887\"], [0.1111111111111111, \"#46039f\"], [0.2222222222222222, \"#7201a8\"], [0.3333333333333333, \"#9c179e\"], [0.4444444444444444, \"#bd3786\"], [0.5555555555555556, \"#d8576b\"], [0.6666666666666666, \"#ed7953\"], [0.7777777777777778, \"#fb9f3a\"], [0.8888888888888888, \"#fdca26\"], [1.0, \"#f0f921\"]], \"type\": \"surface\"}], \"table\": [{\"cells\": {\"fill\": {\"color\": \"#EBF0F8\"}, \"line\": {\"color\": \"white\"}}, \"header\": {\"fill\": {\"color\": \"#C8D4E3\"}, \"line\": {\"color\": \"white\"}}, \"type\": \"table\"}]}, \"layout\": {\"annotationdefaults\": {\"arrowcolor\": \"#2a3f5f\", \"arrowhead\": 0, \"arrowwidth\": 1}, \"coloraxis\": {\"colorbar\": {\"outlinewidth\": 0, \"ticks\": \"\"}}, \"colorscale\": {\"diverging\": [[0, \"#8e0152\"], [0.1, \"#c51b7d\"], [0.2, \"#de77ae\"], [0.3, \"#f1b6da\"], [0.4, \"#fde0ef\"], [0.5, \"#f7f7f7\"], [0.6, \"#e6f5d0\"], [0.7, \"#b8e186\"], [0.8, \"#7fbc41\"], [0.9, \"#4d9221\"], [1, \"#276419\"]], \"sequential\": [[0.0, \"#0d0887\"], [0.1111111111111111, \"#46039f\"], [0.2222222222222222, \"#7201a8\"], [0.3333333333333333, \"#9c179e\"], [0.4444444444444444, \"#bd3786\"], [0.5555555555555556, \"#d8576b\"], [0.6666666666666666, \"#ed7953\"], [0.7777777777777778, \"#fb9f3a\"], [0.8888888888888888, \"#fdca26\"], [1.0, \"#f0f921\"]], \"sequentialminus\": [[0.0, \"#0d0887\"], [0.1111111111111111, \"#46039f\"], [0.2222222222222222, \"#7201a8\"], [0.3333333333333333, \"#9c179e\"], [0.4444444444444444, \"#bd3786\"], [0.5555555555555556, \"#d8576b\"], [0.6666666666666666, \"#ed7953\"], [0.7777777777777778, \"#fb9f3a\"], [0.8888888888888888, \"#fdca26\"], [1.0, \"#f0f921\"]]}, \"colorway\": [\"#636efa\", \"#EF553B\", \"#00cc96\", \"#ab63fa\", \"#FFA15A\", \"#19d3f3\", \"#FF6692\", \"#B6E880\", \"#FF97FF\", \"#FECB52\"], \"font\": {\"color\": \"#2a3f5f\"}, \"geo\": {\"bgcolor\": \"white\", \"lakecolor\": \"white\", \"landcolor\": \"#E5ECF6\", \"showlakes\": true, \"showland\": true, \"subunitcolor\": \"white\"}, \"hoverlabel\": {\"align\": \"left\"}, \"hovermode\": \"closest\", \"mapbox\": {\"style\": \"light\"}, \"paper_bgcolor\": \"white\", \"plot_bgcolor\": \"#E5ECF6\", \"polar\": {\"angularaxis\": {\"gridcolor\": \"white\", \"linecolor\": \"white\", \"ticks\": \"\"}, \"bgcolor\": \"#E5ECF6\", \"radialaxis\": {\"gridcolor\": \"white\", \"linecolor\": \"white\", \"ticks\": \"\"}}, \"scene\": {\"xaxis\": {\"backgroundcolor\": \"#E5ECF6\", \"gridcolor\": \"white\", \"gridwidth\": 2, \"linecolor\": \"white\", \"showbackground\": true, \"ticks\": \"\", \"zerolinecolor\": \"white\"}, \"yaxis\": {\"backgroundcolor\": \"#E5ECF6\", \"gridcolor\": \"white\", \"gridwidth\": 2, \"linecolor\": \"white\", \"showbackground\": true, \"ticks\": \"\", \"zerolinecolor\": \"white\"}, \"zaxis\": {\"backgroundcolor\": \"#E5ECF6\", \"gridcolor\": \"white\", \"gridwidth\": 2, \"linecolor\": \"white\", \"showbackground\": true, \"ticks\": \"\", \"zerolinecolor\": \"white\"}}, \"shapedefaults\": {\"line\": {\"color\": \"#2a3f5f\"}}, \"ternary\": {\"aaxis\": {\"gridcolor\": \"white\", \"linecolor\": \"white\", \"ticks\": \"\"}, \"baxis\": {\"gridcolor\": \"white\", \"linecolor\": \"white\", \"ticks\": \"\"}, \"bgcolor\": \"#E5ECF6\", \"caxis\": {\"gridcolor\": \"white\", \"linecolor\": \"white\", \"ticks\": \"\"}}, \"title\": {\"x\": 0.05}, \"xaxis\": {\"automargin\": true, \"gridcolor\": \"white\", \"linecolor\": \"white\", \"ticks\": \"\", \"title\": {\"standoff\": 15}, \"zerolinecolor\": \"white\", \"zerolinewidth\": 2}, \"yaxis\": {\"automargin\": true, \"gridcolor\": \"white\", \"linecolor\": \"white\", \"ticks\": \"\", \"title\": {\"standoff\": 15}, \"zerolinecolor\": \"white\", \"zerolinewidth\": 2}}}, \"xaxis\": {\"anchor\": \"y\", \"domain\": [0.0, 1.0], \"title\": {\"text\": \"PC1\"}}, \"yaxis\": {\"anchor\": \"x\", \"domain\": [0.0, 1.0], \"title\": {\"text\": \"PC5\"}}},                        {\"responsive\": true}                    ).then(function(){\n",
       "                            \n",
       "var gd = document.getElementById('2f11a416-2d85-4e6a-9d71-ed01494dd0fa');\n",
       "var x = new MutationObserver(function (mutations, observer) {{\n",
       "        var display = window.getComputedStyle(gd).display;\n",
       "        if (!display || display === 'none') {{\n",
       "            console.log([gd, 'removed!']);\n",
       "            Plotly.purge(gd);\n",
       "            observer.disconnect();\n",
       "        }}\n",
       "}});\n",
       "\n",
       "// Listen for the removal of the full notebook cells\n",
       "var notebookContainer = gd.closest('#notebook-container');\n",
       "if (notebookContainer) {{\n",
       "    x.observe(notebookContainer, {childList: true});\n",
       "}}\n",
       "\n",
       "// Listen for the clearing of the current output cell\n",
       "var outputEl = gd.closest('.output');\n",
       "if (outputEl) {{\n",
       "    x.observe(outputEl, {childList: true});\n",
       "}}\n",
       "\n",
       "                        })                };                });            </script>        </div>"
      ]
     },
     "metadata": {},
     "output_type": "display_data"
    }
   ],
   "source": [
    "import plotly.express as px\n",
    "\n",
    "PCA_train = pd.concat([pd.DataFrame(Xpca_tr, columns = col_name), y_train], axis=1)\n",
    "\n",
    "fig = px.scatter(PCA_train,\n",
    "                 x=\"PC1\",\n",
    "                 y=\"PC5\",\n",
    "                 color=\"fee_infladj\",\n",
    "                 hover_data=['player_name', 'club_name', 'position'],\n",
    "                symbol='position')\n",
    "fig.show()\n",
    "\n",
    "\n"
   ]
  },
  {
   "cell_type": "code",
   "execution_count": 563,
   "metadata": {},
   "outputs": [],
   "source": [
    "# Adding categorical position column to data\n",
    "Xpca_tr = np.c_[Xpca_tr,y_train[[\"age\", \"pos_cat\"]].to_numpy()]\n",
    "Xpca_te = np.c_[Xpca_te,y_test[[\"age\", \"pos_cat\"]].to_numpy()]\n",
    "\n",
    "# Numpy arrays of train/test targets\n",
    "ynp_tr = y_train[\"fee_infladj\"].to_numpy()\n",
    "ynp_te = y_test[\"fee_infladj\"].to_numpy()"
   ]
  },
  {
   "cell_type": "markdown",
   "metadata": {},
   "source": [
    "### XGBoost on all the data"
   ]
  },
  {
   "cell_type": "code",
   "execution_count": 565,
   "metadata": {},
   "outputs": [],
   "source": [
    "import xgboost as xgb\n",
    "\n",
    "dtrain = xgb.DMatrix(Xpca_tr, \n",
    "                     label=ynp_tr)\n",
    "dtest = xgb.DMatrix(Xpca_te,\n",
    "                    label=ynp_te)\n",
    "\n",
    "evallist = [(dtest, 'eval'), (dtrain, 'train')]\n",
    "\n",
    "\n",
    "param = {'max_depth': 20, # typical 3-10\n",
    "         'eta': 0.15, # typical 0.01 - 0.20\n",
    "         'validate_parameters' : True,\n",
    "         'n_estimators' : 1000,\n",
    "         'colsample_bytree' : 0.7, # typical values 0.5-1 (must be between 0-1)\n",
    "         'subsample' : 1,\n",
    "         'objective': 'reg:squarederror',\n",
    "         'alpha' : 1,\n",
    "         'lambda' : 2,\n",
    "         'eval_metric' : 'rmse',\n",
    "         'verbosity' : 0\n",
    "        }"
   ]
  },
  {
   "cell_type": "markdown",
   "metadata": {},
   "source": [
    "Fitting the model on the training data"
   ]
  },
  {
   "cell_type": "code",
   "execution_count": 566,
   "metadata": {},
   "outputs": [
    {
     "name": "stdout",
     "output_type": "stream",
     "text": [
      "Training score:  0.997110792404834\n"
     ]
    }
   ],
   "source": [
    "xgbr = xgb.XGBRegressor(verbosity=0) \n",
    "\n",
    "xgbr.fit(Xpca_tr, ynp_tr)\n",
    "score = xgbr.score(Xpca_tr, ynp_tr)\n",
    "print(\"Training score: \", score)\n",
    "y_hat = xgbr.predict(Xpca_tr)\n",
    "#, y_train[\"fee_infladj\"].to_numpy())"
   ]
  },
  {
   "cell_type": "markdown",
   "metadata": {},
   "source": [
    "Plot of the training data showing possible overfit"
   ]
  },
  {
   "cell_type": "code",
   "execution_count": 567,
   "metadata": {},
   "outputs": [
    {
     "data": {
      "application/vnd.plotly.v1+json": {
       "config": {
        "plotlyServerURL": "https://plot.ly"
       },
       "data": [
        {
         "customdata": [
          [
           "Thiago Mendes",
           "Olympique Lyon",
           "Defensive Midfield"
          ],
          [
           "Lucas Tousart",
           "Hertha BSC",
           "Defensive Midfield"
          ],
          [
           "Omar Mascarell",
           "FC Schalke 04",
           "Defensive Midfield"
          ],
          [
           "Steven Nzonzi",
           "AS Roma",
           "Defensive Midfield"
          ],
          [
           "Ibrahim Amadou",
           "Sevilla FC",
           "Defensive Midfield"
          ],
          [
           "Facundo Píriz",
           "Montpellier HSC",
           "Defensive Midfield"
          ],
          [
           "Francis Coquelin",
           "Villarreal CF",
           "Defensive Midfield"
          ],
          [
           "Douglas Luiz",
           "Aston Villa",
           "Defensive Midfield"
          ],
          [
           "Habib Maïga",
           "FC Metz",
           "Defensive Midfield"
          ],
          [
           "Marc Roca",
           "Bayern Munich",
           "Defensive Midfield"
          ],
          [
           "Fabinho",
           "Liverpool FC",
           "Defensive Midfield"
          ],
          [
           "Jorginho",
           "Chelsea FC",
           "Defensive Midfield"
          ],
          [
           "Tomás Rincón",
           "Torino FC",
           "Defensive Midfield"
          ],
          [
           "Esteban Rolón",
           "Genoa CFC",
           "Defensive Midfield"
          ],
          [
           "Ellyes Skhiri",
           "1. FC Köln",
           "Defensive Midfield"
          ],
          [
           "Bryan Cristante",
           "AS Roma",
           "Defensive Midfield"
          ],
          [
           "Santiago Ascacíbar",
           "Hertha BSC",
           "Defensive Midfield"
          ],
          [
           "Emre Can",
           "Borussia Dortmund",
           "Defensive Midfield"
          ],
          [
           "Sebastian Rudy",
           "TSG 1899 Hoffenheim",
           "Defensive Midfield"
          ],
          [
           "Lucas Torreira",
           "ACF Fiorentina",
           "Defensive Midfield"
          ],
          [
           "Denis Zakaria",
           "Juventus FC",
           "Defensive Midfield"
          ],
          [
           "Prince Oniangué",
           "SM Caen",
           "Defensive Midfield"
          ],
          [
           "Erick Pulgar",
           "ACF Fiorentina",
           "Defensive Midfield"
          ],
          [
           "Baptiste Santamaria",
           "SC Freiburg",
           "Defensive Midfield"
          ],
          [
           "Maxime Gonalons",
           "Granada CF",
           "Defensive Midfield"
          ],
          [
           "Étienne Capoue",
           "Villarreal CF",
           "Defensive Midfield"
          ],
          [
           "Bryan Cristante",
           "Atalanta BC",
           "Defensive Midfield"
          ],
          [
           "Diego Demme",
           "SSC Napoli",
           "Defensive Midfield"
          ],
          [
           "Emre Can",
           "Borussia Dortmund",
           "Defensive Midfield"
          ],
          [
           "Allan",
           "Everton FC",
           "Defensive Midfield"
          ],
          [
           "Milan Badelj",
           "ACF Fiorentina",
           "Defensive Midfield"
          ],
          [
           "Federico Viviani",
           "Frosinone Calcio",
           "Defensive Midfield"
          ],
          [
           "Geoffrey Kondogbia",
           "Atlético de Madrid",
           "Defensive Midfield"
          ],
          [
           "Mirko Valdifiori",
           "SPAL",
           "Defensive Midfield"
          ],
          [
           "Amadou Diawara",
           "AS Roma",
           "Defensive Midfield"
          ],
          [
           "Cheikhou Kouyaté",
           "Crystal Palace",
           "Defensive Midfield"
          ],
          [
           "Boubakary Soumaré",
           "Leicester City",
           "Defensive Midfield"
          ],
          [
           "Vincent Pajot",
           "FC Metz",
           "Defensive Midfield"
          ],
          [
           "Danilo Pereira",
           "Paris Saint-Germain",
           "Defensive Midfield"
          ],
          [
           "Tiemoué Bakayoko",
           "AC Milan",
           "Defensive Midfield"
          ],
          [
           "Mario Lemina",
           "OGC Nice",
           "Defensive Midfield"
          ],
          [
           "Stanislav Lobotka",
           "SSC Napoli",
           "Defensive Midfield"
          ],
          [
           "Sebastian Griesbeck",
           "SpVgg Greuther Fürth",
           "Defensive Midfield"
          ],
          [
           "Federico Viviani",
           "SPAL",
           "Defensive Midfield"
          ],
          [
           "Tiemoué Bakayoko",
           "AC Milan",
           "Defensive Midfield"
          ],
          [
           "Lucas Torreira",
           "Arsenal FC",
           "Defensive Midfield"
          ],
          [
           "Thomas Delaney",
           "Sevilla FC",
           "Defensive Midfield"
          ],
          [
           "Abdoulaye Touré",
           "Genoa CFC",
           "Defensive Midfield"
          ],
          [
           "Jacopo Petriccione",
           "FC Crotone",
           "Defensive Midfield"
          ],
          [
           "Tiemoué Bakayoko",
           "AS Monaco",
           "Defensive Midfield"
          ],
          [
           "Thomas Partey",
           "Arsenal FC",
           "Defensive Midfield"
          ],
          [
           "Vincent Pajot",
           "SCO Angers",
           "Defensive Midfield"
          ],
          [
           "Léo Sena",
           "Spezia Calcio",
           "Defensive Midfield"
          ],
          [
           "Mario Lemina",
           "Fulham FC",
           "Defensive Midfield"
          ],
          [
           "Rodri",
           "Atlético de Madrid",
           "Defensive Midfield"
          ],
          [
           "Kévin N'Doram",
           "FC Metz",
           "Defensive Midfield"
          ],
          [
           "Manuel Locatelli",
           "US Sassuolo",
           "Defensive Midfield"
          ],
          [
           "Sandro Tonali",
           "AC Milan",
           "Defensive Midfield"
          ],
          [
           "Walace",
           "Udinese Calcio",
           "Defensive Midfield"
          ],
          [
           "Thomas Monconduit",
           "FC Lorient",
           "Defensive Midfield"
          ],
          [
           "Omar Mascarell",
           "Real Madrid",
           "Defensive Midfield"
          ],
          [
           "Jefferson Lerma",
           "AFC Bournemouth",
           "Defensive Midfield"
          ],
          [
           "Jean-Philippe Gbamin",
           "Everton FC",
           "Defensive Midfield"
          ],
          [
           "Rolando Mandragora",
           "Udinese Calcio",
           "Defensive Midfield"
          ],
          [
           "Albin Ekdal",
           "UC Sampdoria",
           "Defensive Midfield"
          ],
          [
           "Bryan Cristante",
           "AS Roma",
           "Defensive Midfield"
          ],
          [
           "Geoffrey Kondogbia",
           "Valencia CF",
           "Defensive Midfield"
          ],
          [
           "Pere Pons",
           "Deportivo Alavés",
           "Defensive Midfield"
          ],
          [
           "Ismaël Bennacer",
           "AC Milan",
           "Defensive Midfield"
          ]
         ],
         "hovertemplate": "position=%{customdata[2]}<br>prediction=%{x}<br>True Price=%{y}<br>player_name=%{customdata[0]}<br>club_name=%{customdata[1]}<extra></extra>",
         "legendgroup": "Defensive Midfield",
         "marker": {
          "color": "#636efa",
          "symbol": "circle"
         },
         "mode": "markers",
         "name": "Defensive Midfield",
         "orientation": "v",
         "showlegend": true,
         "type": "scatter",
         "x": [
          21.819738388061523,
          25.353708267211914,
          7.404417991638184,
          27.289655685424805,
          14.521036148071289,
          1.7657729387283325,
          6.856921195983887,
          15.315435409545898,
          1.1207144260406494,
          9.567091941833496,
          46.62555694580078,
          59.10274887084961,
          6.280040740966797,
          0.10391682386398315,
          6.535569190979004,
          7.5242204666137695,
          10.499659538269043,
          24.05621337890625,
          2.9468483924865723,
          2.0989232063293457,
          9.094311714172363,
          1.1745880842208862,
          12.450379371643066,
          10.173352241516113,
          4.274877548217773,
          2.2870078086853027,
          7.5242204666137695,
          11.660557746887207,
          1.770058274269104,
          24.326885223388672,
          1.7018221616744995,
          1.869215965270996,
          15.005260467529297,
          1.2922606468200684,
          21.71125602722168,
          11.035061836242676,
          18.915481567382812,
          0.4872601628303528,
          15.406505584716797,
          2.24617862701416,
          5.367703437805176,
          21.49071502685547,
          0.23677188158035278,
          1.869215965270996,
          5.420934200286865,
          29.81361198425293,
          6.311048984527588,
          3.254629373550415,
          1.688341498374939,
          3.0057387351989746,
          49.96783447265625,
          1.4547908306121826,
          1.9438072443008423,
          2.9995951652526855,
          21.05155372619629,
          5.864603042602539,
          13.360456466674805,
          10.341170310974121,
          7.161043643951416,
          2.176802396774292,
          7.404417991638184,
          28.779640197753906,
          26.26803970336914,
          20.35956382751465,
          2.738429546356201,
          22.472797393798828,
          22.811019897460938,
          2.175544261932373,
          17.93444061279297
         ],
         "xaxis": "x",
         "y": [
          22.624992663027527,
          25.71021893525856,
          10.407484407484407,
          27.735945945945947,
          14.98677754677755,
          1.0407484407484409,
          7.28374612096727,
          17.27726712449375,
          1.0284087574103422,
          9.232917618127528,
          46.83367983367984,
          59.32266112266113,
          6.140415800415801,
          0.104074844074844,
          6.170452544462053,
          5.2037422037422045,
          10.284087574103422,
          25.646993383687573,
          0.8741474437987908,
          1.5,
          8.6,
          0.5203742203742204,
          12.64942771614721,
          10.258797353475028,
          4.103518941390012,
          2.0517594706950057,
          9.887110187110189,
          10.541189763456009,
          1.0284087574103422,
          24.21076175420107,
          0.7198861301872395,
          0.3122245322245322,
          15.388196030212542,
          1.0407484407484409,
          21.596583905617187,
          11.136008316008317,
          20,
          0.7181158147432519,
          16,
          2,
          5.5,
          21.596583905617187,
          0.25,
          3.434469854469855,
          5.2037422037422045,
          29.81744282744283,
          6,
          3.5,
          1.5388196030212544,
          3.085226272231026,
          51.293986767375145,
          1.0407484407484409,
          2,
          2.2569354177645065,
          20.814968814968815,
          4.616458809063763,
          14.397722603744793,
          10.258797353475028,
          6.170452544462053,
          2.0517594706950057,
          4.1629937629937634,
          29.140956340956343,
          25.71021893525856,
          20.814968814968815,
          2.7059459459459463,
          22.624992663027527,
          22.8964656964657,
          2.0568175148206844,
          17.688630627457886
         ],
         "yaxis": "y"
        },
        {
         "customdata": [
          [
           "Grégoire Defrel",
           "UC Sampdoria",
           "Centre-Forward"
          ],
          [
           "Jhon Córdoba",
           "Hertha BSC",
           "Centre-Forward"
          ],
          [
           "Enric Gallego",
           "CA Osasuna",
           "Centre-Forward"
          ],
          [
           "Wahbi Khazri",
           "AS Saint-Étienne",
           "Centre-Forward"
          ],
          [
           "Roberto Soldado",
           "Levante UD",
           "Centre-Forward"
          ],
          [
           "Boulaye Dia",
           "Villarreal CF",
           "Centre-Forward"
          ],
          [
           "Lys Mousset",
           "Sheffield United",
           "Centre-Forward"
          ],
          [
           "Álvaro Morata",
           "Atlético de Madrid",
           "Centre-Forward"
          ],
          [
           "Marco Sau",
           "UC Sampdoria",
           "Centre-Forward"
          ],
          [
           "Moussa Konaté",
           "Dijon FCO",
           "Centre-Forward"
          ],
          [
           "André Silva",
           "Eintracht Frankfurt",
           "Centre-Forward"
          ],
          [
           "Manolo Gabbiadini",
           "UC Sampdoria",
           "Centre-Forward"
          ],
          [
           "Diogo Jota",
           "Liverpool FC",
           "Centre-Forward"
          ],
          [
           "Ignacio Pussetto",
           "Watford FC",
           "Centre-Forward"
          ],
          [
           "Sergio León",
           "Levante UD",
           "Centre-Forward"
          ],
          [
           "Thierry Ambrose",
           "FC Metz",
           "Centre-Forward"
          ],
          [
           "Dawid Kownacki",
           "Fortuna Düsseldorf",
           "Centre-Forward"
          ],
          [
           "Roger Assalé",
           "Dijon FCO",
           "Centre-Forward"
          ],
          [
           "Taiwo Awoniyi",
           "1.FC Union Berlin",
           "Centre-Forward"
          ],
          [
           "Martin Braithwaite",
           "FC Barcelona",
           "Centre-Forward"
          ],
          [
           "Khouma Babacar",
           "US Lecce",
           "Centre-Forward"
          ],
          [
           "Stefano Okaka",
           "Udinese Calcio",
           "Centre-Forward"
          ],
          [
           "Michy Batshuayi",
           "Crystal Palace",
           "Centre-Forward"
          ],
          [
           "Rubén Sobrino",
           "Valencia CF",
           "Centre-Forward"
          ],
          [
           "João Pedro",
           "Watford FC",
           "Centre-Forward"
          ],
          [
           "Christian Kouamé",
           "ACF Fiorentina",
           "Centre-Forward"
          ],
          [
           "Lucas Pérez",
           "West Ham United",
           "Centre-Forward"
          ],
          [
           "Sebastian Andersson",
           "1. FC Köln",
           "Centre-Forward"
          ],
          [
           "Federico Bonazzoli",
           "Torino FC",
           "Centre-Forward"
          ],
          [
           "Landry Dimata",
           "RCD Espanyol Barcelona",
           "Centre-Forward"
          ],
          [
           "Francesco Caputo",
           "UC Sampdoria",
           "Centre-Forward"
          ],
          [
           "Sven Michel",
           "1.FC Union Berlin",
           "Centre-Forward"
          ],
          [
           "Raúl de Tomás",
           "RCD Espanyol Barcelona",
           "Centre-Forward"
          ],
          [
           "Borja Mayoral",
           "AS Roma",
           "Centre-Forward"
          ],
          [
           "Cristiano Ronaldo",
           "Manchester United",
           "Centre-Forward"
          ],
          [
           "Romelu Lukaku",
           "Chelsea FC",
           "Centre-Forward"
          ],
          [
           "M'Baye Niang",
           "Torino FC",
           "Centre-Forward"
          ],
          [
           "Álvaro Morata",
           "Atlético de Madrid",
           "Centre-Forward"
          ],
          [
           "Keita Baldé",
           "UC Sampdoria",
           "Centre-Forward"
          ],
          [
           "Luis Suárez",
           "Granada CF",
           "Centre-Forward"
          ],
          [
           "Ante Budimir",
           "CA Osasuna",
           "Centre-Forward"
          ],
          [
           "Victor Osimhen",
           "SSC Napoli",
           "Centre-Forward"
          ],
          [
           "Rafa Mir",
           "Sevilla FC",
           "Centre-Forward"
          ],
          [
           "Borja Mayoral",
           "Getafe CF",
           "Centre-Forward"
          ],
          [
           "Enric Gallego",
           "Getafe CF",
           "Centre-Forward"
          ],
          [
           "Diego Rolán",
           "CD Leganés",
           "Centre-Forward"
          ],
          [
           "Maxi Gómez",
           "Valencia CF",
           "Centre-Forward"
          ],
          [
           "Keita Baldé",
           "Inter Milan",
           "Centre-Forward"
          ],
          [
           "Enzo Crivelli",
           "SM Caen",
           "Centre-Forward"
          ],
          [
           "Emiliano Sala",
           "Cardiff City",
           "Centre-Forward"
          ],
          [
           "Gianluca Lapadula",
           "Benevento Calcio",
           "Centre-Forward"
          ],
          [
           "Carlos Vinícius",
           "Tottenham Hotspur",
           "Centre-Forward"
          ],
          [
           "Romelu Lukaku",
           "Inter Milan",
           "Centre-Forward"
          ],
          [
           "Duván Zapata",
           "Atalanta BC",
           "Centre-Forward"
          ],
          [
           "Simone Zaza",
           "Torino FC",
           "Centre-Forward"
          ],
          [
           "Matthew Hoppe",
           "RCD Mallorca",
           "Centre-Forward"
          ],
          [
           "Álvaro Morata",
           "Juventus FC",
           "Centre-Forward"
          ],
          [
           "Lucas Pérez",
           "Deportivo Alavés",
           "Centre-Forward"
          ],
          [
           "Patrick Cutrone",
           "ACF Fiorentina",
           "Centre-Forward"
          ],
          [
           "André Silva",
           "RB Leipzig",
           "Centre-Forward"
          ],
          [
           "Paco Alcácer",
           "Borussia Dortmund",
           "Centre-Forward"
          ],
          [
           "Marcus Ingvartsen",
           "1.FSV Mainz 05",
           "Centre-Forward"
          ],
          [
           "Anthony Ujah",
           "1.FC Union Berlin",
           "Centre-Forward"
          ],
          [
           "Bobby Wood",
           "Hannover 96",
           "Centre-Forward"
          ],
          [
           "Breel Embolo",
           "Borussia Mönchengladbach",
           "Centre-Forward"
          ],
          [
           "Sébastien Haller",
           "West Ham United",
           "Centre-Forward"
          ],
          [
           "Anastasios Donis",
           "Stade Reims",
           "Centre-Forward"
          ],
          [
           "Salomón Rondón",
           "Newcastle United",
           "Centre-Forward"
          ],
          [
           "Dawid Kownacki",
           "Fortuna Düsseldorf",
           "Centre-Forward"
          ],
          [
           "Jean-Philippe Mateta",
           "Crystal Palace",
           "Centre-Forward"
          ],
          [
           "Grégoire Defrel",
           "AS Roma",
           "Centre-Forward"
          ],
          [
           "Paco Alcácer",
           "Borussia Dortmund",
           "Centre-Forward"
          ],
          [
           "M'Baye Niang",
           "Stade Rennais FC",
           "Centre-Forward"
          ],
          [
           "Borja Mayoral",
           "Levante UD",
           "Centre-Forward"
          ],
          [
           "Arkadiusz Milik",
           "Olympique Marseille",
           "Centre-Forward"
          ],
          [
           "Andy Delort",
           "Montpellier HSC",
           "Centre-Forward"
          ],
          [
           "Habib Diallo",
           "RC Strasbourg Alsace",
           "Centre-Forward"
          ],
          [
           "Karlan Grant",
           "West Bromwich Albion",
           "Centre-Forward"
          ],
          [
           "Borja Mayoral",
           "Levante UD",
           "Centre-Forward"
          ],
          [
           "Wissam Ben Yedder",
           "AS Monaco",
           "Centre-Forward"
          ],
          [
           "Patrick Cutrone",
           "Wolverhampton Wanderers",
           "Centre-Forward"
          ],
          [
           "Cristiano Ronaldo",
           "Juventus FC",
           "Centre-Forward"
          ],
          [
           "Jordan Ayew",
           "Crystal Palace",
           "Centre-Forward"
          ],
          [
           "Andrea Petagna",
           "SPAL",
           "Centre-Forward"
          ],
          [
           "Roberto Inglese",
           "Parma Calcio 1913",
           "Centre-Forward"
          ],
          [
           "Luis Muriel",
           "Atalanta BC",
           "Centre-Forward"
          ],
          [
           "Moise Kean",
           "Everton FC",
           "Centre-Forward"
          ],
          [
           "Vedat Muriqi",
           "RCD Mallorca",
           "Centre-Forward"
          ],
          [
           "Callum Wilson",
           "Newcastle United",
           "Centre-Forward"
          ],
          [
           "Davie Selke",
           "SV Werder Bremen",
           "Centre-Forward"
          ],
          [
           "Youssef En-Nesyri",
           "CD Leganés",
           "Centre-Forward"
          ],
          [
           "Andy Delort",
           "OGC Nice",
           "Centre-Forward"
          ],
          [
           "Andrea Pinamonti",
           "Genoa CFC",
           "Centre-Forward"
          ],
          [
           "Olivier Giroud",
           "AC Milan",
           "Centre-Forward"
          ],
          [
           "Patrik Schick",
           "AS Roma",
           "Centre-Forward"
          ],
          [
           "Luis Muriel",
           "ACF Fiorentina",
           "Centre-Forward"
          ],
          [
           "Chris Wood",
           "Newcastle United",
           "Centre-Forward"
          ],
          [
           "Lucas Boyé",
           "Elche CF",
           "Centre-Forward"
          ],
          [
           "Lebo Mothiba",
           "RC Strasbourg Alsace",
           "Centre-Forward"
          ],
          [
           "Ishak Belfodil",
           "Hertha BSC",
           "Centre-Forward"
          ],
          [
           "Giovanni Simeone",
           "Hellas Verona",
           "Centre-Forward"
          ],
          [
           "Joselu",
           "Deportivo Alavés",
           "Centre-Forward"
          ],
          [
           "Eldor Shomurodov",
           "AS Roma",
           "Centre-Forward"
          ],
          [
           "Roberto Inglese",
           "Parma Calcio 1913",
           "Centre-Forward"
          ],
          [
           "Francesco Caputo",
           "US Sassuolo",
           "Centre-Forward"
          ],
          [
           "Ihlas Bebou",
           "TSG 1899 Hoffenheim",
           "Centre-Forward"
          ],
          [
           "Felipe Caicedo",
           "Genoa CFC",
           "Centre-Forward"
          ],
          [
           "Ernesto Torregrossa",
           "UC Sampdoria",
           "Centre-Forward"
          ],
          [
           "Christian Kouamé",
           "ACF Fiorentina",
           "Centre-Forward"
          ],
          [
           "Khouma Babacar",
           "US Sassuolo",
           "Centre-Forward"
          ],
          [
           "Marcello Trotta",
           "Frosinone Calcio",
           "Centre-Forward"
          ],
          [
           "Grégoire Defrel",
           "US Sassuolo",
           "Centre-Forward"
          ],
          [
           "Oliver Burke",
           "Sheffield United",
           "Centre-Forward"
          ],
          [
           "Michael Gregoritsch",
           "FC Schalke 04",
           "Centre-Forward"
          ],
          [
           "Tammy Abraham",
           "AS Roma",
           "Centre-Forward"
          ],
          [
           "Patrik Schick",
           "Bayer 04 Leverkusen",
           "Centre-Forward"
          ],
          [
           "Niclas Füllkrug",
           "SV Werder Bremen",
           "Centre-Forward"
          ],
          [
           "Benito Raman",
           "FC Schalke 04",
           "Centre-Forward"
          ],
          [
           "Borja Iglesias",
           "Real Betis Balompié",
           "Centre-Forward"
          ],
          [
           "Alberto Cerri",
           "Cagliari Calcio",
           "Centre-Forward"
          ],
          [
           "Emmanuel Dennis",
           "Watford FC",
           "Centre-Forward"
          ],
          [
           "Loïc Rémy",
           "LOSC Lille",
           "Centre-Forward"
          ],
          [
           "Benik Afobe",
           "Wolverhampton Wanderers",
           "Centre-Forward"
          ],
          [
           "Anastasios Donis",
           "Stade Reims",
           "Centre-Forward"
          ],
          [
           "Danny Ings",
           "Aston Villa",
           "Centre-Forward"
          ],
          [
           "Yuya Osako",
           "SV Werder Bremen",
           "Centre-Forward"
          ],
          [
           "Oliver McBurnie",
           "Sheffield United",
           "Centre-Forward"
          ],
          [
           "Matheus Cunha",
           "Atlético de Madrid",
           "Centre-Forward"
          ],
          [
           "Gianluca Lapadula",
           "Genoa CFC",
           "Centre-Forward"
          ],
          [
           "Ernesto Torregrossa",
           "UC Sampdoria",
           "Centre-Forward"
          ],
          [
           "Simone Zaza",
           "Torino FC",
           "Centre-Forward"
          ],
          [
           "Duván Zapata",
           "Atalanta BC",
           "Centre-Forward"
          ],
          [
           "Kévin Gameiro",
           "Valencia CF",
           "Centre-Forward"
          ],
          [
           "Sandro Ramírez",
           "Getafe CF",
           "Centre-Forward"
          ],
          [
           "Duván Zapata",
           "UC Sampdoria",
           "Centre-Forward"
          ],
          [
           "Florian Niederlechner",
           "FC Augsburg",
           "Centre-Forward"
          ],
          [
           "Moise Kean",
           "Juventus FC",
           "Centre-Forward"
          ],
          [
           "Antonio Sanabria",
           "Genoa CFC",
           "Centre-Forward"
          ],
          [
           "Martin Braithwaite",
           "CD Leganés",
           "Centre-Forward"
          ],
          [
           "Diego Falcinelli",
           "Bologna FC 1909",
           "Centre-Forward"
          ],
          [
           "Raúl Jiménez",
           "Wolverhampton Wanderers",
           "Centre-Forward"
          ],
          [
           "Youssef En-Nesyri",
           "Sevilla FC",
           "Centre-Forward"
          ],
          [
           "Enes Ünal",
           "Getafe CF",
           "Centre-Forward"
          ],
          [
           "Mauro Icardi",
           "Paris Saint-Germain",
           "Centre-Forward"
          ],
          [
           "Jean-Philippe Mateta",
           "Crystal Palace",
           "Centre-Forward"
          ],
          [
           "Marc Cardona",
           "CA Osasuna",
           "Centre-Forward"
          ],
          [
           "Yacine Bammou",
           "SM Caen",
           "Centre-Forward"
          ],
          [
           "Andrea Pinamonti",
           "Genoa CFC",
           "Centre-Forward"
          ],
          [
           "Matheus Cunha",
           "Hertha BSC",
           "Centre-Forward"
          ],
          [
           "Alberto Paloschi",
           "SPAL",
           "Centre-Forward"
          ],
          [
           "Gonzalo Higuaín",
           "Chelsea FC",
           "Centre-Forward"
          ],
          [
           "Gaëtan Laborde",
           "Stade Rennais FC",
           "Centre-Forward"
          ],
          [
           "Pedro",
           "ACF Fiorentina",
           "Centre-Forward"
          ],
          [
           "Michy Batshuayi",
           "Valencia CF",
           "Centre-Forward"
          ],
          [
           "Timo Werner",
           "Chelsea FC",
           "Centre-Forward"
          ],
          [
           "Antonino La Gumina",
           "UC Sampdoria",
           "Centre-Forward"
          ],
          [
           "Gaëtan Laborde",
           "Montpellier HSC",
           "Centre-Forward"
          ],
          [
           "Daniel Ginczek",
           "VfL Wolfsburg",
           "Centre-Forward"
          ],
          [
           "Richarlison",
           "Everton FC",
           "Centre-Forward"
          ],
          [
           "Florin Andone",
           "Brighton & Hove Albion",
           "Centre-Forward"
          ],
          [
           "Giovanni Simeone",
           "Cagliari Calcio",
           "Centre-Forward"
          ]
         ],
         "hovertemplate": "position=%{customdata[2]}<br>prediction=%{x}<br>True Price=%{y}<br>player_name=%{customdata[0]}<br>club_name=%{customdata[1]}<extra></extra>",
         "legendgroup": "Centre-Forward",
         "marker": {
          "color": "#EF553B",
          "symbol": "circle"
         },
         "mode": "markers",
         "name": "Centre-Forward",
         "orientation": "v",
         "showlegend": true,
         "type": "scatter",
         "x": [
          8.665367126464844,
          14.636281967163086,
          3.9212307929992676,
          7.243502616882324,
          0.485334575176239,
          12.038633346557617,
          9.849950790405273,
          19.052780151367188,
          0.3239831328392029,
          3.6099557876586914,
          3.708983898162842,
          12.256850242614746,
          44.76679992675781,
          8.772651672363281,
          3.77883243560791,
          3.087373971939087,
          1.7600045204162598,
          3.983410596847534,
          6.705718040466309,
          17.77773666381836,
          1.3777467012405396,
          1.0085200071334839,
          1.7017167806625366,
          4.89667272567749,
          4.688676834106445,
          1.0588265657424927,
          4.613968372344971,
          6.649816989898682,
          1.442252516746521,
          3.0970489978790283,
          0.7040555477142334,
          2.826063394546509,
          23.18571662902832,
          2.674917221069336,
          15.118029594421387,
          112.2849349975586,
          12.100563049316406,
          35.397159576416016,
          1.5040477514266968,
          7.1735711097717285,
          7.6995415687561035,
          76.61422729492188,
          16.14718246459961,
          0.9730271100997925,
          5.918999671936035,
          1.4724245071411133,
          15.91907787322998,
          4.998952865600586,
          3.807645320892334,
          17.716768264770508,
          4.347397327423096,
          2.9004440307617188,
          75.46202087402344,
          12.440072059631348,
          12.34101390838623,
          2.73732852935791,
          20.655981063842773,
          2.278002977371216,
          3.681859254837036,
          23.677833557128906,
          21.117029190063477,
          1.6875412464141846,
          2.0932228565216064,
          1.6959705352783203,
          13.62675666809082,
          50.79309844970703,
          4.6246256828308105,
          2.777078151702881,
          5.944003105163574,
          3.862809658050537,
          8.665367126464844,
          1.892180323600769,
          14.46711540222168,
          2.387883186340332,
          4.237399578094482,
          5.271319389343262,
          9.993101119995117,
          16.636974334716797,
          1.775934100151062,
          40.909568786621094,
          18.3203182220459,
          121.7955322265625,
          2.917407751083374,
          13.66571044921875,
          3.62518572807312,
          21.28493881225586,
          28.220876693725586,
          0.9966697096824646,
          22.75604248046875,
          1.2737504243850708,
          6.847689151763916,
          9.693432807922363,
          18.27068519592285,
          0.9882344007492065,
          42.68028259277344,
          1.4252097606658936,
          29.865041732788086,
          3.2748830318450928,
          4.540247440338135,
          1.0184481143951416,
          1.8199028968811035,
          2.5086822509765625,
          16.168785095214844,
          20.976192474365234,
          7.922839641571045,
          6.252265930175781,
          1.9600930213928223,
          0.503013014793396,
          12.484549522399902,
          6.968384265899658,
          1.2027226686477661,
          10.000391960144043,
          5.404778003692627,
          1.504149317741394,
          39.19427490234375,
          26.332212448120117,
          6.833769798278809,
          10.936663627624512,
          28.572193145751953,
          8.700663566589355,
          4.603221893310547,
          1.464287281036377,
          10.948183059692383,
          1.410203456878662,
          28.621715545654297,
          4.802781581878662,
          19.33618927001953,
          25.17545509338379,
          11.725082397460938,
          6.475592136383057,
          2.8348617553710938,
          16.831153869628906,
          16.234676361083984,
          1.6839765310287476,
          16.831153869628906,
          2.763814926147461,
          7.155927658081055,
          1.0035494565963745,
          5.233175754547119,
          6.793506145477295,
          38.95189666748047,
          20.370994567871094,
          9.8131103515625,
          51.11776351928711,
          10.872604370117188,
          2.7793915271759033,
          2.424405813217163,
          1.3475213050842285,
          17.951745986938477,
          5.3345627784729,
          8.501856803894043,
          14.372093200683594,
          11.115521430969238,
          2.7823848724365234,
          54.251895904541016,
          5.835501670837402,
          4.187805652618408,
          9.8035888671875,
          40.839622497558594,
          6.4543914794921875,
          2.908736228942871
         ],
         "xaxis": "x",
         "y": [
          1.5611226611226612,
          15.388196030212542,
          3.077639206042509,
          7.285239085239086,
          0.5,
          12,
          11.415337207254796,
          18.733471933471936,
          0.104074844074844,
          2.4621113648340067,
          3.077639206042509,
          12.384906444906449,
          45.85682417003338,
          8.74147443798791,
          4.113635029641369,
          2.0517594706950057,
          1.3009355509355511,
          4.103518941390012,
          6.5,
          18.51135763338616,
          1.0284087574103422,
          0.5203742203742204,
          1.196860706860707,
          5.2037422037422045,
          4.113635029641369,
          1.0284087574103422,
          4.57929313929314,
          6.668218279758769,
          1.5388196030212544,
          2.2,
          0.5,
          2.5,
          23.1391970417327,
          2.564699338368757,
          15,
          113,
          12.48898128898129,
          35.9057907371626,
          1.0258797353475029,
          7.18115814743252,
          8,
          76.94098015106272,
          16,
          0.5,
          6.170452544462053,
          1.0407484407484409,
          14.911926982449964,
          5.2037422037422045,
          3.1222453222453224,
          17.692723492723495,
          4.103518941390012,
          3.077639206042509,
          76.10224804836533,
          12.340905088924108,
          12.340905088924108,
          3.5,
          20.517594706950057,
          2.3653401420437867,
          3.085226272231026,
          23,
          21.596583905617187,
          0.6,
          2.0568175148206844,
          1.248898128898129,
          13.36931384633445,
          51.42043787051711,
          4.103518941390012,
          2.28964656964657,
          6.94175911251981,
          3.59057907371626,
          15.611226611226613,
          2.0814968814968817,
          15.426131361155132,
          2.0568175148206844,
          4.031707359915687,
          4.62783940834654,
          10.258797353475028,
          16.927015633233797,
          2.0814968814968817,
          41.13635029641369,
          18.51135763338616,
          121.76756756756758,
          2.879544520748958,
          12.340905088924108,
          3.1222453222453224,
          21.80226565709925,
          28.28124082878441,
          0.5,
          22.82582411148194,
          1.0284087574103422,
          6.244490644490645,
          10,
          20.004654839276306,
          1,
          43.71143451143452,
          1.0407484407484409,
          30,
          3,
          4.1629937629937634,
          0.5,
          1.5,
          2.3036356165991667,
          18,
          22.364178230575565,
          7.970167869930152,
          8.74147443798791,
          2,
          0.5129398676737514,
          11.284677088822532,
          7.285239085239086,
          1.144823284823285,
          10.258797353475028,
          6.668218279758769,
          0.5142043787051711,
          40,
          27.185812986708825,
          6.684656923167225,
          10.284087574103422,
          28.795445207489585,
          9.25567881669308,
          4,
          1.4570478170478172,
          11.864532224532226,
          1.0284087574103422,
          29.42,
          4.683367983367984,
          19.64260726653754,
          26,
          11.44823284823285,
          6,
          2.0814968814968817,
          14.570478170478172,
          16.651975051975054,
          1,
          19.253846153846155,
          2.5710218935258555,
          7,
          0.5724116424116426,
          5.142043787051711,
          7.285239085239086,
          39.079532781593,
          20.568175148206844,
          9.232917618127528,
          51.293986767375145,
          11,
          2.5710218935258555,
          2.8100207900207903,
          0.5142043787051711,
          18.51135763338616,
          4.1629937629937634,
          8.117837837837838,
          15,
          11.312496331513763,
          3.1222453222453224,
          54.37162597341765,
          5.5,
          3.1222453222453224,
          10.407484407484407,
          40.79733887733889,
          6.244490644490645,
          3.085226272231026
         ],
         "yaxis": "y"
        },
        {
         "customdata": [
          [
           "Moi Gómez",
           "Villarreal CF",
           "Left Winger"
          ],
          [
           "Ramadan Sobhi",
           "Huddersfield Town",
           "Left Winger"
          ],
          [
           "Naïm Sliti",
           "Dijon FCO",
           "Left Winger"
          ],
          [
           "Jadon Sancho",
           "Manchester United",
           "Left Winger"
          ],
          [
           "Casimir Ninga",
           "SCO Angers",
           "Left Winger"
          ],
          [
           "Musa Barrow",
           "Bologna FC 1909",
           "Left Winger"
          ],
          [
           "Stephy Mavididi",
           "Montpellier HSC",
           "Left Winger"
          ],
          [
           "Rafael Leão",
           "AC Milan",
           "Left Winger"
          ],
          [
           "Antonino Ragusa",
           "Hellas Verona",
           "Left Winger"
          ],
          [
           "Moussa Diaby",
           "Bayer 04 Leverkusen",
           "Left Winger"
          ],
          [
           "Leroy Sané",
           "Bayern Munich",
           "Left Winger"
          ],
          [
           "Yann Karamoh",
           "Inter Milan",
           "Left Winger"
          ],
          [
           "Demarai Gray",
           "Bayer 04 Leverkusen",
           "Left Winger"
          ],
          [
           "Thorgan Hazard",
           "Borussia Dortmund",
           "Left Winger"
          ],
          [
           "Karl Toko Ekambi",
           "Villarreal CF",
           "Left Winger"
          ],
          [
           "Nicola Sansone",
           "Bologna FC 1909",
           "Left Winger"
          ],
          [
           "Darwin Machís",
           "Granada CF",
           "Left Winger"
          ],
          [
           "Steven Zuber",
           "VfB Stuttgart",
           "Left Winger"
          ],
          [
           "Vincenzo Grifo",
           "SC Freiburg",
           "Left Winger"
          ],
          [
           "Demarai Gray",
           "Everton FC",
           "Left Winger"
          ],
          [
           "Takashi Inui",
           "SD Eibar",
           "Left Winger"
          ],
          [
           "Paulinho",
           "Bayer 04 Leverkusen",
           "Left Winger"
          ],
          [
           "Daniel James",
           "Leeds United",
           "Left Winger"
          ],
          [
           "Vincenzo Grifo",
           "SC Freiburg",
           "Left Winger"
          ],
          [
           "Marcus Thuram",
           "Borussia Mönchengladbach",
           "Left Winger"
          ],
          [
           "Allan Saint-Maximin",
           "Newcastle United",
           "Left Winger"
          ],
          [
           "Karl Toko Ekambi",
           "Olympique Lyon",
           "Left Winger"
          ],
          [
           "Bebé",
           "Rayo Vallecano",
           "Left Winger"
          ],
          [
           "Ademola Lookman",
           "RB Leipzig",
           "Left Winger"
          ],
          [
           "Jacob Bruun Larsen",
           "TSG 1899 Hoffenheim",
           "Left Winger"
          ],
          [
           "Pablo de Blasis",
           "SD Eibar",
           "Left Winger"
          ],
          [
           "Myziane Maolida",
           "OGC Nice",
           "Left Winger"
          ],
          [
           "Casimir Ninga",
           "SM Caen",
           "Left Winger"
          ],
          [
           "Yann Karamoh",
           "Parma Calcio 1913",
           "Left Winger"
          ],
          [
           "Yannick Carrasco",
           "Atlético de Madrid",
           "Left Winger"
          ],
          [
           "Jack Harrison",
           "Leeds United",
           "Left Winger"
          ],
          [
           "Eden Hazard",
           "Real Madrid",
           "Left Winger"
          ],
          [
           "Nicolás González",
           "ACF Fiorentina",
           "Left Winger"
          ],
          [
           "Josip Brekalo",
           "Torino FC",
           "Left Winger"
          ],
          [
           "Jack Grealish",
           "Manchester City",
           "Left Winger"
          ],
          [
           "Keita Endo",
           "1.FC Union Berlin",
           "Left Winger"
          ],
          [
           "Philippe Coutinho",
           "Bayern Munich",
           "Left Winger"
          ],
          [
           "Martin Terrier",
           "Stade Rennais FC",
           "Left Winger"
          ],
          [
           "Alex Iwobi",
           "Everton FC",
           "Left Winger"
          ],
          [
           "Gerard Deulofeu",
           "Watford FC",
           "Left Winger"
          ],
          [
           "Leon Bailey",
           "Aston Villa",
           "Left Winger"
          ],
          [
           "Álvaro Vadillo",
           "RCD Espanyol Barcelona",
           "Left Winger"
          ],
          [
           "Yoane Wissa",
           "Brentford FC",
           "Left Winger"
          ],
          [
           "Ademola Lookman",
           "Fulham FC",
           "Left Winger"
          ],
          [
           "Adama Diakhaby",
           "Huddersfield Town",
           "Left Winger"
          ],
          [
           "Max Gradel",
           "FC Toulouse",
           "Left Winger"
          ],
          [
           "Wesley Saïd",
           "FC Toulouse",
           "Left Winger"
          ],
          [
           "Valentin Mihaila",
           "Atalanta BC",
           "Left Winger"
          ],
          [
           "Gonçalo Guedes",
           "Valencia CF",
           "Left Winger"
          ],
          [
           "Lucas Ocampos",
           "Sevilla FC",
           "Left Winger"
          ],
          [
           "Denis Cheryshev",
           "Valencia CF",
           "Left Winger"
          ],
          [
           "Justin Kluivert",
           "RB Leipzig",
           "Left Winger"
          ],
          [
           "Álex Berenguer",
           "Athletic Bilbao",
           "Left Winger"
          ],
          [
           "Fabio Borini",
           "AC Milan",
           "Left Winger"
          ]
         ],
         "hovertemplate": "position=%{customdata[2]}<br>prediction=%{x}<br>True Price=%{y}<br>player_name=%{customdata[0]}<br>club_name=%{customdata[1]}<extra></extra>",
         "legendgroup": "Left Winger",
         "marker": {
          "color": "#00cc96",
          "symbol": "circle"
         },
         "mode": "markers",
         "name": "Left Winger",
         "orientation": "v",
         "showlegend": true,
         "type": "scatter",
         "x": [
          3.6175382137298584,
          6.913358211517334,
          2.095477342605591,
          85.12621307373047,
          3.3410754203796387,
          13.99394416809082,
          6.7484660148620605,
          30.07777976989746,
          1.5679829120635986,
          14.950233459472656,
          60.45054244995117,
          6.446639060974121,
          2.918442964553833,
          26.026430130004883,
          19.017831802368164,
          7.782333850860596,
          5.5122270584106445,
          1.7034412622451782,
          1.409388542175293,
          2.7578518390655518,
          2.319627285003662,
          18.9769344329834,
          25.740478515625,
          6.726360321044922,
          9.84130859375,
          19.07933235168457,
          11.670478820800781,
          1.0174647569656372,
          19.120880126953125,
          8.7041654586792,
          1.9640272855758667,
          10.052628517150879,
          2.0626325607299805,
          9.511581420898438,
          25.68631935119629,
          12.81304931640625,
          118.23346710205078,
          22.37790298461914,
          2.2684526443481445,
          117.13060760498047,
          2.6934351921081543,
          8.779731750488281,
          12.128511428833008,
          31.163591384887695,
          13.380555152893066,
          31.83662986755371,
          2.1817328929901123,
          10.108702659606934,
          3.204457998275757,
          9.505437850952148,
          2.337439775466919,
          7.962010860443115,
          1.9200268983840942,
          41.57414627075195,
          15.406386375427246,
          5.5212602615356445,
          1.603603720664978,
          11.074827194213867,
          5.530531883239746
         ],
         "xaxis": "x",
         "y": [
          1.336931384633445,
          6.764864864864865,
          2.0814968814968817,
          85,
          3.085226272231026,
          14.5,
          6.463042332689268,
          30.33805834360509,
          1.0284087574103422,
          15.426131361155132,
          61.55278412085017,
          6.764864864864865,
          2.0517594706950057,
          26.22442331396373,
          18.733471933471936,
          8.227270059282738,
          5.142043787051711,
          0.6244490644490645,
          0.6244490644490645,
          2,
          2.0568175148206844,
          19.253846153846155,
          29.1,
          7.198861301872396,
          9.25567881669308,
          18.51135763338616,
          11.797616956496285,
          0.7805613305613306,
          18.51135763338616,
          9.25567881669308,
          2.0814968814968817,
          10.407484407484407,
          2.0814968814968817,
          8.207037882780023,
          27.698752854382576,
          12.8,
          118.26700710218935,
          23.5,
          1,
          117.5,
          0.9,
          8.74147443798791,
          12.310556824170035,
          31.2636262252744,
          13.52972972972973,
          32,
          1.8,
          10,
          2.0517594706950057,
          10.407484407484407,
          2.0814968814968817,
          8.227270059282738,
          1,
          41.62993762993764,
          15.426131361155132,
          6.170452544462053,
          1.0258797353475029,
          12.310556824170035,
          5.724116424116425
         ],
         "yaxis": "y"
        },
        {
         "customdata": [
          [
           "Mattia Sprocati",
           "Parma Calcio 1913",
           "Right Winger"
          ],
          [
           "Iván Alejo",
           "Getafe CF",
           "Right Winger"
          ],
          [
           "Anwar El Ghazi",
           "Aston Villa",
           "Right Winger"
          ],
          [
           "Hélder Costa",
           "Leeds United",
           "Right Winger"
          ],
          [
           "Rony Lopes",
           "Sevilla FC",
           "Right Winger"
          ],
          [
           "Mathieu Dossevi",
           "FC Toulouse",
           "Right Winger"
          ],
          [
           "Riccardo Orsolini",
           "Bologna FC 1909",
           "Right Winger"
          ],
          [
           "Emanuel Vignato",
           "Bologna FC 1909",
           "Right Winger"
          ],
          [
           "Marco Richter",
           "Hertha BSC",
           "Right Winger"
          ],
          [
           "Adam Ounas",
           "OGC Nice",
           "Right Winger"
          ],
          [
           "Francisco Trincão",
           "Wolverhampton Wanderers",
           "Right Winger"
          ],
          [
           "Cengiz Ünder",
           "Olympique Marseille",
           "Right Winger"
          ],
          [
           "Felipe Anderson",
           "West Ham United",
           "Right Winger"
          ],
          [
           "Milot Rashica",
           "Norwich City",
           "Right Winger"
          ],
          [
           "Marius Wolf",
           "Hertha BSC",
           "Right Winger"
          ],
          [
           "Felipe Anderson",
           "SS Lazio",
           "Right Winger"
          ],
          [
           "Alexis Saelemaekers",
           "AC Milan",
           "Right Winger"
          ],
          [
           "Riyad Mahrez",
           "Manchester City",
           "Right Winger"
          ],
          [
           "Douglas Costa",
           "Juventus FC",
           "Right Winger"
          ],
          [
           "Samuel Kalu",
           "Watford FC",
           "Right Winger"
          ],
          [
           "Martin Harnik",
           "SV Werder Bremen",
           "Right Winger"
          ],
          [
           "Malcom",
           "FC Barcelona",
           "Right Winger"
          ],
          [
           "Franck Honorat",
           "Stade Brestois 29",
           "Right Winger"
          ],
          [
           "Isaac Mbenza",
           "Huddersfield Town",
           "Right Winger"
          ],
          [
           "Emiliano Rigoni",
           "UC Sampdoria",
           "Right Winger"
          ],
          [
           "Alexander Esswein",
           "VfB Stuttgart",
           "Right Winger"
          ],
          [
           "Suso",
           "Sevilla FC",
           "Right Winger"
          ],
          [
           "Suso",
           "Sevilla FC",
           "Right Winger"
          ],
          [
           "Mehdi Léris",
           "UC Sampdoria",
           "Right Winger"
          ],
          [
           "André Hahn",
           "FC Augsburg",
           "Right Winger"
          ],
          [
           "Takuma Asano",
           "Hannover 96",
           "Right Winger"
          ],
          [
           "Daniele Verde",
           "Spezia Calcio",
           "Right Winger"
          ],
          [
           "Nicolas Pépé",
           "Arsenal FC",
           "Right Winger"
          ],
          [
           "Takefusa Kubo",
           "Villarreal CF",
           "Right Winger"
          ],
          [
           "Matteo Politano",
           "SSC Napoli",
           "Right Winger"
          ],
          [
           "Matteo Politano",
           "Inter Milan",
           "Right Winger"
          ],
          [
           "Junior Messias",
           "AC Milan",
           "Right Winger"
          ],
          [
           "Samuel Grandsir",
           "AS Monaco",
           "Right Winger"
          ],
          [
           "Anthony Knockaert",
           "Fulham FC",
           "Right Winger"
          ],
          [
           "Andriy Yarmolenko",
           "West Ham United",
           "Right Winger"
          ],
          [
           "Federico Chiesa",
           "Juventus FC",
           "Right Winger"
          ],
          [
           "Rachid Ghezzal",
           "Leicester City",
           "Right Winger"
          ],
          [
           "Matteo Politano",
           "SSC Napoli",
           "Right Winger"
          ],
          [
           "Carles Pérez",
           "AS Roma",
           "Right Winger"
          ],
          [
           "Chadrac Akolo",
           "Amiens SC",
           "Right Winger"
          ],
          [
           "Yannis Salibur",
           "RCD Mallorca",
           "Right Winger"
          ],
          [
           "Xherdan Shaqiri",
           "Olympique Lyon",
           "Right Winger"
          ],
          [
           "Pablo Sarabia",
           "Paris Saint-Germain",
           "Right Winger"
          ],
          [
           "Daniele Verde",
           "Spezia Calcio",
           "Right Winger"
          ],
          [
           "Cengiz Ünder",
           "Leicester City",
           "Right Winger"
          ],
          [
           "Harrison Manzala",
           "SCO Angers",
           "Right Winger"
          ],
          [
           "Romain Del Castillo",
           "Stade Brestois 29",
           "Right Winger"
          ],
          [
           "Fabián Orellana",
           "SD Eibar",
           "Right Winger"
          ],
          [
           "Robert Snodgrass",
           "West Bromwich Albion",
           "Right Winger"
          ],
          [
           "Sada Thioub",
           "SCO Angers",
           "Right Winger"
          ],
          [
           "Takefusa Kubo",
           "Getafe CF",
           "Right Winger"
          ],
          [
           "Samu Castillejo",
           "AC Milan",
           "Right Winger"
          ],
          [
           "Felix Klaus",
           "VfL Wolfsburg",
           "Right Winger"
          ],
          [
           "Marcus Coco",
           "FC Nantes",
           "Right Winger"
          ],
          [
           "Bertrand Traoré",
           "Aston Villa",
           "Right Winger"
          ]
         ],
         "hovertemplate": "position=%{customdata[2]}<br>prediction=%{x}<br>True Price=%{y}<br>player_name=%{customdata[0]}<br>club_name=%{customdata[1]}<extra></extra>",
         "legendgroup": "Right Winger",
         "marker": {
          "color": "#ab63fa",
          "symbol": "circle"
         },
         "mode": "markers",
         "name": "Right Winger",
         "orientation": "v",
         "showlegend": true,
         "type": "scatter",
         "x": [
          2.6912600994110107,
          4.052888870239258,
          9.060277938842773,
          17.167131423950195,
          24.7722110748291,
          2.6518099308013916,
          15.457866668701172,
          1.1130545139312744,
          7.21375036239624,
          2.218618392944336,
          6.254749774932861,
          0.9388799071311951,
          39.60764694213867,
          11.052112579345703,
          3.402188301086426,
          3.1410977840423584,
          5.703765392303467,
          70.52767181396484,
          41.626548767089844,
          3.4731123447418213,
          2.63958740234375,
          42.75261306762695,
          4.911859512329102,
          2.785555601119995,
          0.5395328402519226,
          0.9008260369300842,
          0.627358078956604,
          21.77371597290039,
          2.799513578414917,
          2.9502782821655273,
          1.6546794176101685,
          0.44459009170532227,
          81.95088958740234,
          1.3926057815551758,
          21.72165870666504,
          5.118054389953613,
          2.6277668476104736,
          3.768427848815918,
          11.573331832885742,
          20.35686683654785,
          12.984630584716797,
          13.229609489440918,
          3.2159671783447266,
          13.1848726272583,
          0.471531480550766,
          2.191476821899414,
          6.469645977020264,
          17.89173126220703,
          0.6265767812728882,
          3.1663496494293213,
          1.8732681274414062,
          1.372127652168274,
          2.477689027786255,
          0.1658134162425995,
          3.6951639652252197,
          1.3926057815551758,
          23.054868698120117,
          4.156588554382324,
          3.027947425842285,
          18.112951278686523
         ],
         "xaxis": "x",
         "y": [
          3.085226272231026,
          4.1629937629937634,
          9.25567881669308,
          18.1580713156508,
          25.71021893525856,
          2.6018711018711023,
          15.426131361155132,
          1.1312496331513766,
          7.1,
          2.262499266302753,
          6,
          0.5,
          39.548440748440754,
          11,
          2.0568175148206844,
          3,
          5.385868610574391,
          70.56274428274429,
          41.62993762993764,
          3,
          2.341683991683992,
          42.67068607068608,
          5.129398676737514,
          2.6018711018711023,
          0.5142043787051711,
          0.4162993762993763,
          1.0078405822621352,
          21.54347444229756,
          2.879544520748958,
          3.1222453222453224,
          1.0407484407484409,
          0.2051759470695006,
          82.27270059282738,
          1.2823496691843783,
          21,
          5.2037422037422045,
          2.6,
          3.1222453222453224,
          12.002792903565783,
          20.814968814968815,
          12.926084665378536,
          14.570478170478172,
          2.5710218935258555,
          13.336436559517535,
          0.5142043787051711,
          2.0568175148206844,
          6,
          18.51135763338616,
          0.6,
          3.59057907371626,
          1.0407484407484409,
          1.5,
          2.0814968814968817,
          0.1128467708882253,
          3.5994306509361977,
          1.2823496691843783,
          22.167941787941796,
          3.1222453222453224,
          3.085226272231026,
          18.87618713039405
         ],
         "yaxis": "y"
        },
        {
         "customdata": [
          [
           "Alfred Duncan",
           "ACF Fiorentina",
           "Central Midfield"
          ],
          [
           "Víctor Camarasa",
           "Crystal Palace",
           "Central Midfield"
          ],
          [
           "Rafinha",
           "Celta de Vigo",
           "Central Midfield"
          ],
          [
           "Francesco Cassata",
           "Genoa CFC",
           "Central Midfield"
          ],
          [
           "Marco Benassi",
           "Hellas Verona",
           "Central Midfield"
          ],
          [
           "Lukas Rupp",
           "Norwich City",
           "Central Midfield"
          ],
          [
           "Fabian Delph",
           "Everton FC",
           "Central Midfield"
          ],
          [
           "Ilaix Moriba",
           "RB Leipzig",
           "Central Midfield"
          ],
          [
           "Florent Mollet",
           "Montpellier HSC",
           "Central Midfield"
          ],
          [
           "Flavien Tait",
           "Stade Rennais FC",
           "Central Midfield"
          ],
          [
           "Tristan Dingomé",
           "Stade Reims",
           "Central Midfield"
          ],
          [
           "Emil Hallfreðsson",
           "Frosinone Calcio",
           "Central Midfield"
          ],
          [
           "Stefano Sensi",
           "Inter Milan",
           "Central Midfield"
          ],
          [
           "Weston McKennie",
           "Juventus FC",
           "Central Midfield"
          ],
          [
           "Franck Kessié",
           "AC Milan",
           "Central Midfield"
          ],
          [
           "Dennis Praet",
           "Torino FC",
           "Central Midfield"
          ],
          [
           "Dominik Kohr",
           "Eintracht Frankfurt",
           "Central Midfield"
          ],
          [
           "Fayçal Fajr",
           "SM Caen",
           "Central Midfield"
          ],
          [
           "Wylan Cyprien",
           "Parma Calcio 1913",
           "Central Midfield"
          ],
          [
           "Vicente Iborra",
           "Villarreal CF",
           "Central Midfield"
          ],
          [
           "Raman Chibsah",
           "Frosinone Calcio",
           "Central Midfield"
          ],
          [
           "Suat Serdar",
           "FC Schalke 04",
           "Central Midfield"
          ],
          [
           "Marcos Llorente",
           "Atlético de Madrid",
           "Central Midfield"
          ],
          [
           "Nabil Bentaleb",
           "Newcastle United",
           "Central Midfield"
          ],
          [
           "Sofian Kiyine",
           "SS Lazio",
           "Central Midfield"
          ],
          [
           "Jordan Veretout",
           "AS Roma",
           "Central Midfield"
          ],
          [
           "Marko Rog",
           "Cagliari Calcio",
           "Central Midfield"
          ],
          [
           "Marko Rog",
           "Sevilla FC",
           "Central Midfield"
          ],
          [
           "Soualiho Meïté",
           "Torino FC",
           "Central Midfield"
          ],
          [
           "Rafinha",
           "Paris Saint-Germain",
           "Central Midfield"
          ],
          [
           "Morgan Sanson",
           "Aston Villa",
           "Central Midfield"
          ],
          [
           "Alberto Grassi",
           "Parma Calcio 1913",
           "Central Midfield"
          ],
          [
           "Alfred Duncan",
           "ACF Fiorentina",
           "Central Midfield"
          ],
          [
           "Soualiho Meïté",
           "AC Milan",
           "Central Midfield"
          ],
          [
           "Kevin Strootman",
           "Olympique Marseille",
           "Central Midfield"
          ],
          [
           "Pierre Lees-Melou",
           "Norwich City",
           "Central Midfield"
          ],
          [
           "Ronaldo Vieira",
           "Hellas Verona",
           "Central Midfield"
          ],
          [
           "Arturo Vidal",
           "FC Barcelona",
           "Central Midfield"
          ],
          [
           "Sebastian Rode",
           "Eintracht Frankfurt",
           "Central Midfield"
          ],
          [
           "Kouadio Koné",
           "Borussia Mönchengladbach",
           "Central Midfield"
          ],
          [
           "Zaydou Youssouf",
           "AS Saint-Étienne",
           "Central Midfield"
          ],
          [
           "Roque Mesa",
           "Sevilla FC",
           "Central Midfield"
          ],
          [
           "Mikel Merino",
           "Real Sociedad",
           "Central Midfield"
          ],
          [
           "Mattia Valoti",
           "SPAL",
           "Central Midfield"
          ],
          [
           "André Gomes",
           "Everton FC",
           "Central Midfield"
          ],
          [
           "Antonin Bobichon",
           "SCO Angers",
           "Central Midfield"
          ],
          [
           "Guessouma Fofana",
           "EA Guingamp",
           "Central Midfield"
          ],
          [
           "Jordan Veretout",
           "AS Roma",
           "Central Midfield"
          ],
          [
           "Marko Rog",
           "Cagliari Calcio",
           "Central Midfield"
          ],
          [
           "Edimilson Fernandes",
           "ACF Fiorentina",
           "Central Midfield"
          ],
          [
           "Arne Maier",
           "Arminia Bielefeld",
           "Central Midfield"
          ],
          [
           "Cesc Fàbregas",
           "AS Monaco",
           "Central Midfield"
          ],
          [
           "Youssouf Fofana",
           "AS Monaco",
           "Central Midfield"
          ],
          [
           "Giovani Lo Celso",
           "Tottenham Hotspur",
           "Central Midfield"
          ],
          [
           "Luca Mazzitelli",
           "Genoa CFC",
           "Central Midfield"
          ],
          [
           "Afriyie Acquah",
           "Empoli FC",
           "Central Midfield"
          ],
          [
           "Carles Aleñá",
           "Getafe CF",
           "Central Midfield"
          ],
          [
           "Recio",
           "CD Leganés",
           "Central Midfield"
          ],
          [
           "Bryan Dabo",
           "Benevento Calcio",
           "Central Midfield"
          ],
          [
           "Joel Obi",
           "Chievo Verona",
           "Central Midfield"
          ],
          [
           "Jordan Ferri",
           "Montpellier HSC",
           "Central Midfield"
          ],
          [
           "Manu Morlanes",
           "Villarreal CF",
           "Central Midfield"
          ],
          [
           "Jonas Martin",
           "Stade Rennais FC",
           "Central Midfield"
          ],
          [
           "Giovanni Crociata",
           "FC Empoli",
           "Central Midfield"
          ],
          [
           "Eduardo Camavinga",
           "Real Madrid",
           "Central Midfield"
          ],
          [
           "Valentin Rongier",
           "Olympique Marseille",
           "Central Midfield"
          ],
          [
           "Dennis Praet",
           "Leicester City",
           "Central Midfield"
          ],
          [
           "Yves Bissouma",
           "Brighton & Hove Albion",
           "Central Midfield"
          ],
          [
           "Sergi Darder",
           "RCD Espanyol Barcelona",
           "Central Midfield"
          ],
          [
           "Robert Andrich",
           "Bayer 04 Leverkusen",
           "Central Midfield"
          ],
          [
           "Moussa Sissoko",
           "Watford FC",
           "Central Midfield"
          ],
          [
           "João Moutinho",
           "Wolverhampton Wanderers",
           "Central Midfield"
          ],
          [
           "Rodrigo Bentancur",
           "Tottenham Hotspur",
           "Central Midfield"
          ],
          [
           "Suat Serdar",
           "Hertha BSC",
           "Central Midfield"
          ],
          [
           "Lukas Lerager",
           "Genoa CFC",
           "Central Midfield"
          ],
          [
           "Stefano Sturaro",
           "Genoa CFC",
           "Central Midfield"
          ],
          [
           "Xavier Chavalerin",
           "ESTAC Troyes",
           "Central Midfield"
          ],
          [
           "Aaron Mooy",
           "Brighton & Hove Albion",
           "Central Midfield"
          ],
          [
           "Kevin Möhwald",
           "1.FC Union Berlin",
           "Central Midfield"
          ],
          [
           "Gerson",
           "ACF Fiorentina",
           "Central Midfield"
          ],
          [
           "Stefano Sturaro",
           "Genoa CFC",
           "Central Midfield"
          ],
          [
           "Philip Billing",
           "AFC Bournemouth",
           "Central Midfield"
          ],
          [
           "Giovani Lo Celso",
           "Real Betis Balompié",
           "Central Midfield"
          ],
          [
           "Sergio Álvarez",
           "SD Eibar",
           "Central Midfield"
          ],
          [
           "Alessandro Murgia",
           "SPAL",
           "Central Midfield"
          ],
          [
           "Abdoulaye Doucouré",
           "Everton FC",
           "Central Midfield"
          ],
          [
           "Sofian Kiyine",
           "Venezia FC",
           "Central Midfield"
          ],
          [
           "Jérôme Gondorf",
           "SC Freiburg",
           "Central Midfield"
          ],
          [
           "Mehdi Bourabia",
           "Spezia Calcio",
           "Central Midfield"
          ],
          [
           "Valon Berisha",
           "Stade Reims",
           "Central Midfield"
          ],
          [
           "Weston McKennie",
           "Juventus FC",
           "Central Midfield"
          ],
          [
           "Joan Jordán",
           "Sevilla FC",
           "Central Midfield"
          ],
          [
           "Dale Stephens",
           "Burnley FC",
           "Central Midfield"
          ],
          [
           "Maximilian Eggestein",
           "SC Freiburg",
           "Central Midfield"
          ],
          [
           "Mikel Merino",
           "Newcastle United",
           "Central Midfield"
          ],
          [
           "Saúl Ñíguez",
           "Chelsea FC",
           "Central Midfield"
          ],
          [
           "Mauro Arambarri",
           "Getafe CF",
           "Central Midfield"
          ],
          [
           "Mattéo Guendouzi",
           "Hertha BSC",
           "Central Midfield"
          ],
          [
           "Daniel Wass",
           "Atlético de Madrid",
           "Central Midfield"
          ],
          [
           "Karol Linetty",
           "Torino FC",
           "Central Midfield"
          ],
          [
           "Eddy Gnahoré",
           "Amiens SC",
           "Central Midfield"
          ],
          [
           "Naby Keïta",
           "Liverpool FC",
           "Central Midfield"
          ],
          [
           "Daniel Wass",
           "Valencia CF",
           "Central Midfield"
          ],
          [
           "Renato Sanches",
           "LOSC Lille",
           "Central Midfield"
          ],
          [
           "Pedro Obiang",
           "US Sassuolo",
           "Central Midfield"
          ],
          [
           "Gonzalo Castro",
           "VfB Stuttgart",
           "Central Midfield"
          ],
          [
           "Téji Savanier",
           "Montpellier HSC",
           "Central Midfield"
          ],
          [
           "Alfred Duncan",
           "Cagliari Calcio",
           "Central Midfield"
          ]
         ],
         "hovertemplate": "position=%{customdata[2]}<br>prediction=%{x}<br>True Price=%{y}<br>player_name=%{customdata[0]}<br>club_name=%{customdata[1]}<extra></extra>",
         "legendgroup": "Central Midfield",
         "marker": {
          "color": "#FFA15A",
          "symbol": "circle"
         },
         "mode": "markers",
         "name": "Central Midfield",
         "orientation": "v",
         "showlegend": true,
         "type": "scatter",
         "x": [
          14.831243515014648,
          1.8182837963104248,
          1.6586252450942993,
          6.825788497924805,
          1.8773256540298462,
          0.5574184060096741,
          9.966559410095215,
          16.184654235839844,
          2.295010805130005,
          9.089926719665527,
          1.2275060415267944,
          0.7370843887329102,
          23.851558685302734,
          19.31572151184082,
          24.595788955688477,
          0.8440454006195068,
          7.765904426574707,
          1.2107869386672974,
          1.8979301452636719,
          9.350499153137207,
          1.33140230178833,
          11.218400955200195,
          30.259172439575195,
          3.2335753440856934,
          1.1671136617660522,
          18.013072967529297,
          2.0541059970855713,
          0.6418980360031128,
          12.57314395904541,
          2.4960203170776367,
          15.391265869140625,
          7.399731636047363,
          3.3769068717956543,
          1.1639684438705444,
          24.53108787536621,
          4.106753826141357,
          1.1192318201065063,
          18.578121185302734,
          3.6461968421936035,
          9.35639476776123,
          2.2882089614868164,
          6.29218053817749,
          9.794473648071289,
          4.011748313903809,
          24.05658531188965,
          2.195730209350586,
          1.105460524559021,
          1.4639949798583984,
          14.480460166931152,
          1.5044946670532227,
          2.5118026733398438,
          9.359901428222656,
          14.807923316955566,
          17.07897186279297,
          1.4099011421203613,
          1.166534662246704,
          5.338963985443115,
          1.0913747549057007,
          1.0453065633773804,
          2.3953137397766113,
          2.5356645584106445,
          4.600543975830078,
          5.345632076263428,
          1.2478251457214355,
          31.017763137817383,
          12.848203659057617,
          20.192638397216797,
          17.671342849731445,
          8.425600051879883,
          5.797509670257568,
          3.3705594539642334,
          5.699658393859863,
          18.643953323364258,
          7.604916095733643,
          5.787075996398926,
          1.5811561346054077,
          1.3233869075775146,
          3.8107972145080566,
          0.9379854798316956,
          0.6323085427284241,
          15.603693962097168,
          14.85338306427002,
          22.717878341674805,
          4.063819408416748,
          3.872774600982666,
          22.640945434570312,
          0.6859510540962219,
          0.8163847923278809,
          0.5348886847496033,
          4.689545154571533,
          6.256202697753906,
          13.999631881713867,
          1.4824331998825073,
          6.044096946716309,
          9.794473648071289,
          5.0757670402526855,
          2.4882912635803223,
          2.693315029144287,
          2.128650188446045,
          8.1946439743042,
          2.3058481216430664,
          62.21253967285156,
          6.125317573547363,
          20.163829803466797,
          6.327732563018799,
          5.054327011108398,
          9.817206382751465,
          1.4798057079315186
         ],
         "xaxis": "x",
         "y": [
          15.388196030212542,
          1.542613136115513,
          1.542613136115513,
          7.18115814743252,
          0.8207037882780024,
          0.5142043787051711,
          9.76988319539825,
          16,
          2.7059459459459463,
          9.25567881669308,
          1.0407484407484409,
          0.5203742203742204,
          25.646993383687573,
          20.5,
          24.681810177848213,
          1,
          8.74147443798791,
          1.5611226611226612,
          1.5388196030212544,
          10.407484407484407,
          1.0407484407484409,
          11.44823284823285,
          30.852262722310265,
          1.0284087574103422,
          1.0284087574103422,
          17.9528953685813,
          2.0568175148206844,
          0.5203742203742204,
          11.96860706860707,
          1.5388196030212544,
          16.208899818490547,
          8.6686837636864,
          2.0568175148206844,
          0.5129398676737514,
          26.01871101871102,
          3.9,
          0.7694098015106272,
          18.733471933471936,
          4.113635029641369,
          9.232917618127528,
          2.0568175148206844,
          6.244490644490645,
          12.48898128898129,
          3.085226272231026,
          25.71021893525856,
          1.542613136115513,
          1.0407484407484409,
          1.0284087574103422,
          15.388196030212542,
          0.9002474012474013,
          0.5129398676737514,
          9.366735966735968,
          15.426131361155132,
          16.454540118565475,
          1.0407484407484409,
          1.0407484407484409,
          5,
          1.5611226611226612,
          0.5129398676737514,
          2.0814968814968817,
          2.0568175148206844,
          4,
          4.113635029641369,
          1,
          31,
          13.36931384633445,
          19.74544814227857,
          17.484573804573806,
          8.325987525987527,
          6.5,
          3.5,
          5.828191268191269,
          19,
          8,
          6.170452544462053,
          1.5611226611226612,
          1,
          3.393748899454129,
          1,
          0.0957488565488565,
          16.968744497270645,
          16.968744497270645,
          22.624992663027527,
          4.1629937629937634,
          4.113635029641369,
          22.569354177645064,
          0.4,
          1.3529729729729731,
          0.5,
          4.616458809063763,
          4.616458809063763,
          14.397722603744793,
          1.1284677088822532,
          5,
          7.285239085239086,
          5,
          2.237609147609148,
          1.0258797353475029,
          2.7,
          7.694098015106271,
          2.5710218935258555,
          62.44490644490645,
          6.244490644490645,
          20.568175148206844,
          7.455963491224981,
          5.2037422037422045,
          9.76988319539825,
          1.0258797353475029
         ],
         "yaxis": "y"
        },
        {
         "customdata": [
          [
           "Mattia Bani",
           "Parma Calcio 1913",
           "Centre-Back"
          ],
          [
           "Mohamed Simakan",
           "RB Leipzig",
           "Centre-Back"
          ],
          [
           "Germán Pezzella",
           "Real Betis Balompié",
           "Centre-Back"
          ],
          [
           "Federico Ceccherini",
           "Hellas Verona",
           "Centre-Back"
          ],
          [
           "Lamine Koné",
           "RC Strasbourg Alsace",
           "Centre-Back"
          ],
          [
           "Ibrahima Konaté",
           "Liverpool FC",
           "Centre-Back"
          ],
          [
           "Harry Maguire",
           "Manchester United",
           "Centre-Back"
          ],
          [
           "Mattia Caldara",
           "Atalanta BC",
           "Centre-Back"
          ],
          [
           "Craig Dawson",
           "Watford FC",
           "Centre-Back"
          ],
          [
           "Cristian Romero",
           "Atalanta BC",
           "Centre-Back"
          ],
          [
           "Dan Burn",
           "Newcastle United",
           "Centre-Back"
          ],
          [
           "Jeison Murillo",
           "Valencia CF",
           "Centre-Back"
          ],
          [
           "Sergi Gómez",
           "RCD Espanyol Barcelona",
           "Centre-Back"
          ],
          [
           "Jonás Ramalho",
           "CA Osasuna",
           "Centre-Back"
          ],
          [
           "Maximilian Wöber",
           "Sevilla FC",
           "Centre-Back"
          ],
          [
           "Lucas Hernández",
           "Bayern Munich",
           "Centre-Back"
          ],
          [
           "Chris Smalling",
           "AS Roma",
           "Centre-Back"
          ],
          [
           "Dayot Upamecano",
           "Bayern Munich",
           "Centre-Back"
          ],
          [
           "Gianluca Mancini",
           "AS Roma",
           "Centre-Back"
          ],
          [
           "Marcel Tisserand",
           "VfL Wolfsburg",
           "Centre-Back"
          ],
          [
           "Issa Diop",
           "West Ham United",
           "Centre-Back"
          ],
          [
           "Timothée Kolodziejczak",
           "AS Saint-Étienne",
           "Centre-Back"
          ],
          [
           "Fikayo Tomori",
           "AC Milan",
           "Centre-Back"
          ],
          [
           "Mattia Caldara",
           "AC Milan",
           "Centre-Back"
          ],
          [
           "Kevin Akpoguma",
           "Hannover 96",
           "Centre-Back"
          ],
          [
           "Leonardo Balerdi",
           "Olympique Marseille",
           "Centre-Back"
          ],
          [
           "Mats Hummels",
           "Borussia Dortmund",
           "Centre-Back"
          ],
          [
           "Naldo",
           "AS Monaco",
           "Centre-Back"
          ],
          [
           "Wesley Fofana",
           "Leicester City",
           "Centre-Back"
          ],
          [
           "Alfie Mawson",
           "Fulham FC",
           "Centre-Back"
          ],
          [
           "Merih Demiral",
           "Atalanta BC",
           "Centre-Back"
          ],
          [
           "Carlos Salcedo",
           "Eintracht Frankfurt",
           "Centre-Back"
          ],
          [
           "Ozan Kabak",
           "FC Schalke 04",
           "Centre-Back"
          ],
          [
           "Yerry Mina",
           "Everton FC",
           "Centre-Back"
          ],
          [
           "Jules Koundé",
           "Sevilla FC",
           "Centre-Back"
          ],
          [
           "Gabriel",
           "Arsenal FC",
           "Centre-Back"
          ],
          [
           "Joris Gnagnon",
           "Sevilla FC",
           "Centre-Back"
          ],
          [
           "Laurent Koscielny",
           "FC Girondins Bordeaux",
           "Centre-Back"
          ],
          [
           "Marvin Friedrich",
           "Borussia Mönchengladbach",
           "Centre-Back"
          ],
          [
           "Martin Erlic",
           "US Sassuolo",
           "Centre-Back"
          ],
          [
           "Kevin Danso",
           "Southampton FC",
           "Centre-Back"
          ],
          [
           "Ömer Toprak",
           "SV Werder Bremen",
           "Centre-Back"
          ],
          [
           "Craig Dawson",
           "West Ham United",
           "Centre-Back"
          ],
          [
           "Jonny Evans",
           "Leicester City",
           "Centre-Back"
          ],
          [
           "Karim Rekik",
           "Sevilla FC",
           "Centre-Back"
          ],
          [
           "Chris Smalling",
           "AS Roma",
           "Centre-Back"
          ],
          [
           "Salif Sané",
           "FC Schalke 04",
           "Centre-Back"
          ],
          [
           "Philipp Lienhart",
           "SC Freiburg",
           "Centre-Back"
          ],
          [
           "Felipe",
           "Atlético de Madrid",
           "Centre-Back"
          ],
          [
           "Fernando Calero",
           "RCD Espanyol Barcelona",
           "Centre-Back"
          ],
          [
           "Koray Günter",
           "Hellas Verona",
           "Centre-Back"
          ],
          [
           "Danilo",
           "Bologna FC 1909",
           "Centre-Back"
          ],
          [
           "Martín Cáceres",
           "Juventus FC",
           "Centre-Back"
          ],
          [
           "Armando Izzo",
           "Torino FC",
           "Centre-Back"
          ],
          [
           "Lilian Brassier",
           "Stade Brestois 29",
           "Centre-Back"
          ],
          [
           "Jeison Murillo",
           "FC Barcelona",
           "Centre-Back"
          ],
          [
           "Cristian Romero",
           "Atalanta BC",
           "Centre-Back"
          ],
          [
           "Joachim Andersen",
           "Olympique Lyon",
           "Centre-Back"
          ],
          [
           "Luca Rossettini",
           "US Lecce",
           "Centre-Back"
          ],
          [
           "Kenneth Omeruo",
           "CD Leganés",
           "Centre-Back"
          ],
          [
           "Marash Kumbulla",
           "AS Roma",
           "Centre-Back"
          ],
          [
           "Cristian Romero",
           "Juventus FC",
           "Centre-Back"
          ],
          [
           "Sebastien De Maio",
           "Udinese Calcio",
           "Centre-Back"
          ],
          [
           "Pascal Stenzel",
           "VfB Stuttgart",
           "Centre-Back"
          ],
          [
           "Ozan Kabak",
           "Norwich City",
           "Centre-Back"
          ],
          [
           "Molla Wagué",
           "FC Nantes",
           "Centre-Back"
          ],
          [
           "Ben White",
           "Arsenal FC",
           "Centre-Back"
          ],
          [
           "Adama Soumaoro",
           "Bologna FC 1909",
           "Centre-Back"
          ],
          [
           "Daniele Rugani",
           "Stade Rennais FC",
           "Centre-Back"
          ],
          [
           "Marco Friedl",
           "SV Werder Bremen",
           "Centre-Back"
          ],
          [
           "Kevin Vogt",
           "SV Werder Bremen",
           "Centre-Back"
          ],
          [
           "Marash Kumbulla",
           "AS Roma",
           "Centre-Back"
          ],
          [
           "Guillermo Maripán",
           "AS Monaco",
           "Centre-Back"
          ],
          [
           "Nathan Aké",
           "Manchester City",
           "Centre-Back"
          ],
          [
           "Robin Koch",
           "Leeds United",
           "Centre-Back"
          ],
          [
           "Federico Ceccherini",
           "ACF Fiorentina",
           "Centre-Back"
          ],
          [
           "William Saliba",
           "Arsenal FC",
           "Centre-Back"
          ],
          [
           "Jannik Vestergaard",
           "Leicester City",
           "Centre-Back"
          ],
          [
           "Ozan Kabak",
           "Liverpool FC",
           "Centre-Back"
          ],
          [
           "Raphaël Varane",
           "Manchester United",
           "Centre-Back"
          ],
          [
           "Martin Hinteregger",
           "Eintracht Frankfurt",
           "Centre-Back"
          ],
          [
           "Riccardo Gagliolo",
           "US Salernitana 1919",
           "Centre-Back"
          ],
          [
           "Martin Hinteregger",
           "Eintracht Frankfurt",
           "Centre-Back"
          ],
          [
           "Christophe Hérelle",
           "Stade Brestois 29",
           "Centre-Back"
          ],
          [
           "Álvaro González",
           "Olympique Marseille",
           "Centre-Back"
          ],
          [
           "Kevin Wimmer",
           "Hannover 96",
           "Centre-Back"
          ],
          [
           "Gianluca Mancini",
           "AS Roma",
           "Centre-Back"
          ],
          [
           "Dominique Heintz",
           "1.FC Union Berlin",
           "Centre-Back"
          ],
          [
           "Julian Chabot",
           "Spezia Calcio",
           "Centre-Back"
          ],
          [
           "Ragnar Klavan",
           "Cagliari Calcio",
           "Centre-Back"
          ],
          [
           "Giangiacomo Magnani",
           "Hellas Verona",
           "Centre-Back"
          ],
          [
           "Lorenzo Tonelli",
           "UC Sampdoria",
           "Centre-Back"
          ],
          [
           "Leandro Cabrera",
           "RCD Espanyol Barcelona",
           "Centre-Back"
          ],
          [
           "Jean-Clair Todibo",
           "OGC Nice",
           "Centre-Back"
          ],
          [
           "Ardian Ismajli",
           "FC Empoli",
           "Centre-Back"
          ],
          [
           "Fabian Schär",
           "Newcastle United",
           "Centre-Back"
          ],
          [
           "Wesley Hoedt",
           "SS Lazio",
           "Centre-Back"
          ],
          [
           "Björn Engels",
           "Stade Reims",
           "Centre-Back"
          ],
          [
           "Joachim Andersen",
           "Fulham FC",
           "Centre-Back"
          ],
          [
           "Rick van Drongelen",
           "1.FC Union Berlin",
           "Centre-Back"
          ],
          [
           "Josip Elez",
           "Hannover 96",
           "Centre-Back"
          ],
          [
           "Francesco Acerbi",
           "SS Lazio",
           "Centre-Back"
          ],
          [
           "Thilo Kehrer",
           "Paris Saint-Germain",
           "Centre-Back"
          ],
          [
           "Danilo",
           "Bologna FC 1909",
           "Centre-Back"
          ],
          [
           "Joachim Andersen",
           "Crystal Palace",
           "Centre-Back"
          ],
          [
           "Ben Godfrey",
           "Everton FC",
           "Centre-Back"
          ],
          [
           "Kurt Zouma",
           "West Ham United",
           "Centre-Back"
          ],
          [
           "Luca Kilian",
           "1. FC Köln",
           "Centre-Back"
          ],
          [
           "Sokratis Papastathopoulos",
           "Arsenal FC",
           "Centre-Back"
          ],
          [
           "Alex Ferrari",
           "UC Sampdoria",
           "Centre-Back"
          ],
          [
           "Craig Dawson",
           "West Ham United",
           "Centre-Back"
          ],
          [
           "Björn Engels",
           "Aston Villa",
           "Centre-Back"
          ],
          [
           "Matteo Lovato",
           "Atalanta BC",
           "Centre-Back"
          ],
          [
           "Daniele Rugani",
           "Cagliari Calcio",
           "Centre-Back"
          ],
          [
           "Dominique Heintz",
           "SC Freiburg",
           "Centre-Back"
          ],
          [
           "Kurt Zouma",
           "Everton FC",
           "Centre-Back"
          ],
          [
           "Lorenzo Tonelli",
           "FC Empoli",
           "Centre-Back"
          ],
          [
           "Pablo Insua",
           "SD Huesca",
           "Centre-Back"
          ],
          [
           "Ignasi Miquel",
           "Getafe CF",
           "Centre-Back"
          ],
          [
           "Mattia Bani",
           "Genoa CFC",
           "Centre-Back"
          ],
          [
           "Kevin Danso",
           "RC Lens",
           "Centre-Back"
          ],
          [
           "Bartosz Salamon",
           "SPAL",
           "Centre-Back"
          ],
          [
           "Mattia Bani",
           "Bologna FC 1909",
           "Centre-Back"
          ],
          [
           "Koffi Djidji",
           "Torino FC",
           "Centre-Back"
          ],
          [
           "Leandro Cabrera",
           "Getafe CF",
           "Centre-Back"
          ],
          [
           "Nayef Aguerd",
           "Stade Rennais FC",
           "Centre-Back"
          ],
          [
           "Reece Oxford",
           "FC Augsburg",
           "Centre-Back"
          ],
          [
           "Leonardo Bonucci",
           "Juventus FC",
           "Centre-Back"
          ],
          [
           "Diego Llorente",
           "Leeds United",
           "Centre-Back"
          ],
          [
           "Sidnei",
           "Real Betis Balompié",
           "Centre-Back"
          ],
          [
           "Clément Lenglet",
           "FC Barcelona",
           "Centre-Back"
          ],
          [
           "Ben Davies",
           "Liverpool FC",
           "Centre-Back"
          ],
          [
           "Merih Demiral",
           "Juventus FC",
           "Centre-Back"
          ],
          [
           "Julian Chabot",
           "1. FC Köln",
           "Centre-Back"
          ],
          [
           "Gerzino Nyamsi",
           "RC Strasbourg Alsace",
           "Centre-Back"
          ],
          [
           "Christophe Hérelle",
           "OGC Nice",
           "Centre-Back"
          ],
          [
           "Filippo Romagna",
           "US Sassuolo",
           "Centre-Back"
          ],
          [
           "Mario Hermoso",
           "Atlético de Madrid",
           "Centre-Back"
          ],
          [
           "Terence Kongolo",
           "Fulham FC",
           "Centre-Back"
          ],
          [
           "Sebastiano Luperto",
           "FC Empoli",
           "Centre-Back"
          ],
          [
           "Kaan Ayhan",
           "US Sassuolo",
           "Centre-Back"
          ],
          [
           "Kevin Bonifazi",
           "Bologna FC 1909",
           "Centre-Back"
          ],
          [
           "Marco Capuano",
           "Frosinone Calcio",
           "Centre-Back"
          ],
          [
           "Kevin Bonifazi",
           "Udinese Calcio",
           "Centre-Back"
          ],
          [
           "Marlon",
           "US Sassuolo",
           "Centre-Back"
          ],
          [
           "Facundo Roncaglia",
           "CA Osasuna",
           "Centre-Back"
          ],
          [
           "Adama Soumaoro",
           "Bologna FC 1909",
           "Centre-Back"
          ],
          [
           "Erick Cabaco",
           "Getafe CF",
           "Centre-Back"
          ],
          [
           "Federico Fernández",
           "Newcastle United",
           "Centre-Back"
          ],
          [
           "Edoardo Goldaniga",
           "Cagliari Calcio",
           "Centre-Back"
          ],
          [
           "Mouctar Diakhaby",
           "Valencia CF",
           "Centre-Back"
          ],
          [
           "Jeison Murillo",
           "Celta de Vigo",
           "Centre-Back"
          ],
          [
           "Merih Demiral",
           "US Sassuolo",
           "Centre-Back"
          ]
         ],
         "hovertemplate": "position=%{customdata[2]}<br>prediction=%{x}<br>True Price=%{y}<br>player_name=%{customdata[0]}<br>club_name=%{customdata[1]}<extra></extra>",
         "legendgroup": "Centre-Back",
         "marker": {
          "color": "#19d3f3",
          "symbol": "circle"
         },
         "mode": "markers",
         "name": "Centre-Back",
         "orientation": "v",
         "showlegend": true,
         "type": "scatter",
         "x": [
          1.2783631086349487,
          15.9108304977417,
          3.747145175933838,
          3.0617799758911133,
          1.358180046081543,
          38.16138458251953,
          88.88330841064453,
          1.1074457168579102,
          6.333162307739258,
          16.330570220947266,
          13.721861839294434,
          7.018901348114014,
          1.021440863609314,
          0.7482450604438782,
          9.636763572692871,
          79.46430969238281,
          15.237200736999512,
          42.28853225708008,
          3.3121285438537598,
          5.349966526031494,
          25.922412872314453,
          5.682891368865967,
          27.726123809814453,
          37.57241439819336,
          0.15604721009731293,
          10.761180877685547,
          31.300512313842773,
          1.9641762971878052,
          36.240562438964844,
          17.66980743408203,
          3.6021697521209717,
          4.73997163772583,
          14.793306350708008,
          30.790924072265625,
          25.71320915222168,
          26.645183563232422,
          14.02436351776123,
          5.073342323303223,
          5.610587120056152,
          3.4482555389404297,
          5.230774879455566,
          1.5298640727996826,
          2.0819311141967773,
          5.10756254196167,
          2.064333438873291,
          3.6322379112243652,
          7.531414985656738,
          2.3994596004486084,
          19.958881378173828,
          8.666257858276367,
          1.967149019241333,
          0.4694400727748871,
          0.35807672142982483,
          10.268670082092285,
          3.245760679244995,
          7.018901348114014,
          3.1766574382781982,
          24.532073974609375,
          0.03895403444766998,
          5.066300392150879,
          26.333194732666016,
          32.02259063720703,
          0.961430549621582,
          1.2384892702102661,
          3.928795576095581,
          1.7375290393829346,
          57.72047805786133,
          0.25458434224128723,
          2.006882905960083,
          3.4452576637268066,
          0.8249342441558838,
          3.4527032375335693,
          17.746440887451172,
          46.19561004638672,
          12.809228897094727,
          3.796800374984741,
          31.214691162109375,
          16.837635040283203,
          1.5286818742752075,
          39.72528839111328,
          0.8798373937606812,
          2.9315004348754883,
          8.72409725189209,
          5.837677478790283,
          4.005310535430908,
          1.747285008430481,
          20.959976196289062,
          0.6196340918540955,
          0.19812315702438354,
          1.613174319267273,
          4.318299293518066,
          0.2154632955789566,
          8.392501831054688,
          8.21036148071289,
          3.055842399597168,
          4.349579334259033,
          2.458052396774292,
          6.219760417938232,
          1.9265220165252686,
          0.873390257358551,
          2.4308104515075684,
          12.589250564575195,
          38.31795883178711,
          0.6878214478492737,
          16.802919387817383,
          27.862823486328125,
          33.842498779296875,
          0.673621416091919,
          16.75882911682129,
          4.223762512207031,
          1.1838175058364868,
          6.219760417938232,
          8.092429161071777,
          0.7401089072227478,
          3.566408157348633,
          8.166318893432617,
          0.887274980545044,
          -0.09334142506122589,
          5.2453413009643555,
          4.636706829071045,
          5.190673351287842,
          2.091278076171875,
          3.0790610313415527,
          3.0803308486938477,
          0.08918005973100662,
          3.9555881023406982,
          2.1069743633270264,
          36.51972579956055,
          20.103607177734375,
          4.686043739318848,
          37.31601333618164,
          2.071814775466919,
          20.207805633544922,
          1.4028702974319458,
          1.776119589805603,
          4.945364475250244,
          4.838928699493408,
          24.900299072265625,
          4.414339542388916,
          0.7216143012046814,
          3.345280408859253,
          5.8425612449646,
          0.39232996106147766,
          1.041954517364502,
          12.769286155700684,
          0.31910082697868347,
          2.077117919921875,
          7.955149173736572,
          6.906787395477295,
          0.4998877942562103,
          15.611750602722168,
          1.0885933637619019,
          8.29195499420166
         ],
         "xaxis": "x",
         "y": [
          1.5388196030212544,
          15,
          3.5,
          3,
          1.542613136115513,
          40,
          89.47156189469978,
          0.925567881669308,
          6.170452544462053,
          16,
          15,
          12.48898128898129,
          1,
          0.7,
          10.798291952808594,
          82.27270059282738,
          15.388196030212542,
          42.5,
          2.0568175148206844,
          7.285239085239086,
          26.01871101871102,
          4.616458809063763,
          28.8,
          38.37239501039501,
          0.2289646569646569,
          11,
          31.36646710101544,
          2.0814968814968817,
          35.9057907371626,
          17.53661122661123,
          3,
          5.2037422037422045,
          15.426131361155132,
          31.482640332640337,
          25.71021893525856,
          26.672873119035074,
          14.050103950103953,
          5.142043787051711,
          5.5,
          3.5,
          4.113635029641369,
          1.0284087574103422,
          2.3,
          4.1629937629937634,
          2.0517594706950057,
          3.085226272231026,
          7.285239085239086,
          2.0814968814968817,
          20.568175148206844,
          8.227270059282738,
          2.0517594706950057,
          0.426789634325292,
          0.6244490644490645,
          11.136008316008317,
          2,
          1.248898128898129,
          2.3800409860062066,
          24.681810177848213,
          0.5142043787051711,
          5.142043787051711,
          26.5,
          32.39487585842578,
          1.542613136115513,
          1.3336436559517535,
          4,
          1.2340905088924106,
          58.5,
          0.1795289536858129,
          1.0874325194683532,
          3.5994306509361977,
          0.7713065680577567,
          3.077639206042509,
          18.51135763338616,
          46.472352011241874,
          13.336436559517535,
          3.7466943866943874,
          30.852262722310265,
          17.6,
          1.1284677088822532,
          40,
          0.8325987525987527,
          2,
          9.25567881669308,
          4.103518941390012,
          4.103518941390012,
          1.5611226611226612,
          21.54347444229756,
          0.15,
          0.2051759470695006,
          1.5819376299376302,
          4,
          0.5203742203742204,
          9.25567881669308,
          8.5,
          2,
          4.1629937629937634,
          1.0258797353475029,
          4.113635029641369,
          1.0258797353475029,
          0.5,
          2.6018711018711023,
          12.48898128898129,
          38.50769230769231,
          0.4319106029106029,
          17.5,
          28.21169272205633,
          35,
          0.25,
          16.651975051975054,
          3.702271526677232,
          1.1284677088822532,
          8.227270059282738,
          8,
          0.8207037882780024,
          3.1222453222453224,
          8.221912681912682,
          1,
          0.2564699338368757,
          5.2037422037422045,
          5.129398676737514,
          5.5,
          2.0814968814968817,
          2.7767036450079243,
          3.085226272231026,
          0.6244490644490645,
          4.103518941390012,
          2.0568175148206844,
          36.42619542619543,
          20.517594706950057,
          4.683367983367984,
          37.36286902286903,
          1.8978775103928804,
          20.053970769501674,
          0.3,
          1.5,
          5.2037422037422045,
          4.103518941390012,
          25.71021893525856,
          4.513870835529013,
          0.5,
          2.564699338368757,
          6,
          0.5203742203742204,
          1.0258797353475029,
          12.48898128898129,
          0.2571021893525855,
          2.5,
          8.227270059282738,
          6.973014553014554,
          0.4,
          15.611226611226613,
          1.0284087574103422,
          8.227270059282738
         ],
         "yaxis": "y"
        },
        {
         "customdata": [
          [
           "Arkadiusz Reca",
           "FC Crotone",
           "Left-Back"
          ],
          [
           "Jetro Willems",
           "Newcastle United",
           "Left-Back"
          ],
          [
           "Aarón Martín",
           "1.FSV Mainz 05",
           "Left-Back"
          ],
          [
           "Luca Netz",
           "Borussia Mönchengladbach",
           "Left-Back"
          ],
          [
           "Marc Cucurella",
           "Getafe CF",
           "Left-Back"
          ],
          [
           "Ludwig Augustinsson",
           "Sevilla FC",
           "Left-Back"
          ],
          [
           "Pervis Estupiñán",
           "Villarreal CF",
           "Left-Back"
          ],
          [
           "Danny Rose",
           "Newcastle United",
           "Left-Back"
          ],
          [
           "Aleksandar Kolarov",
           "Inter Milan",
           "Left-Back"
          ],
          [
           "Jérôme Roussillon",
           "VfL Wolfsburg",
           "Left-Back"
          ],
          [
           "Antonio Barreca",
           "AS Monaco",
           "Left-Back"
          ],
          [
           "Bernardo",
           "Brighton & Hove Albion",
           "Left-Back"
          ],
          [
           "Junior Firpo",
           "Leeds United",
           "Left-Back"
          ],
          [
           "Nacho Monreal",
           "Real Sociedad",
           "Left-Back"
          ],
          [
           "Cristian Ansaldi",
           "Torino FC",
           "Left-Back"
          ],
          [
           "Cristian Dell'Orco",
           "US Lecce",
           "Left-Back"
          ],
          [
           "Johan Mojica",
           "Atalanta BC",
           "Left-Back"
          ],
          [
           "Souleyman Doumbia",
           "SCO Angers",
           "Left-Back"
          ],
          [
           "Leonardo Spinazzola",
           "AS Roma",
           "Left-Back"
          ],
          [
           "Junior Firpo",
           "FC Barcelona",
           "Left-Back"
          ],
          [
           "Melvin Bard",
           "OGC Nice",
           "Left-Back"
          ],
          [
           "Nico Schulz",
           "Borussia Dortmund",
           "Left-Back"
          ],
          [
           "Antonio Barreca",
           "Newcastle United",
           "Left-Back"
          ],
          [
           "Youssouf Koné",
           "Olympique Lyon",
           "Left-Back"
          ],
          [
           "Ismail Jakobs",
           "AS Monaco",
           "Left-Back"
          ],
          [
           "Emerson",
           "Olympique Lyon",
           "Left-Back"
          ],
          [
           "Erik Pieters",
           "Burnley FC",
           "Left-Back"
          ],
          [
           "Marc Cucurella",
           "SD Eibar",
           "Left-Back"
          ],
          [
           "Hamza Mendyl",
           "FC Schalke 04",
           "Left-Back"
          ],
          [
           "Aarón Martín",
           "1.FSV Mainz 05",
           "Left-Back"
          ],
          [
           "Mitchel Bakker",
           "Bayer 04 Leverkusen",
           "Left-Back"
          ],
          [
           "Ferland Mendy",
           "Real Madrid",
           "Left-Back"
          ],
          [
           "Jonathan Silva",
           "Getafe CF",
           "Left-Back"
          ],
          [
           "Diego Laxalt",
           "AC Milan",
           "Left-Back"
          ],
          [
           "Ashley Young",
           "Inter Milan",
           "Left-Back"
          ],
          [
           "Johan Mojica",
           "Girona FC",
           "Left-Back"
          ],
          [
           "Jamal Lewis",
           "Newcastle United",
           "Left-Back"
          ],
          [
           "Juan Bernat",
           "Paris Saint-Germain",
           "Left-Back"
          ],
          [
           "Hassane Kamara",
           "OGC Nice",
           "Left-Back"
          ],
          [
           "Diego Laxalt",
           "Torino FC",
           "Left-Back"
          ],
          [
           "Ramy Bensebaini",
           "Borussia Mönchengladbach",
           "Left-Back"
          ],
          [
           "Lionel Carole",
           "RC Strasbourg Alsace",
           "Left-Back"
          ],
          [
           "Diego Rico",
           "AFC Bournemouth",
           "Left-Back"
          ],
          [
           "Fodé Ballo-Touré",
           "AS Monaco",
           "Left-Back"
          ],
          [
           "Abdou Diallo",
           "Borussia Dortmund",
           "Left-Back"
          ],
          [
           "Matt Targett",
           "Aston Villa",
           "Left-Back"
          ],
          [
           "Diego Rico",
           "Real Sociedad",
           "Left-Back"
          ],
          [
           "Vitorino Antunes",
           "Getafe CF",
           "Left-Back"
          ],
          [
           "Hassane Kamara",
           "Watford FC",
           "Left-Back"
          ],
          [
           "Rogério",
           "US Sassuolo",
           "Left-Back"
          ],
          [
           "Bruno Martella",
           "Brescia Calcio",
           "Left-Back"
          ],
          [
           "Theo Hernández",
           "AC Milan",
           "Left-Back"
          ],
          [
           "Jonathan Silva",
           "CD Leganés",
           "Left-Back"
          ],
          [
           "Ben Chilwell",
           "Chelsea FC",
           "Left-Back"
          ],
          [
           "Adam Masina",
           "Watford FC",
           "Left-Back"
          ],
          [
           "Johan Mojica",
           "Elche CF",
           "Left-Back"
          ],
          [
           "Ricardo Rodríguez",
           "Torino FC",
           "Left-Back"
          ],
          [
           "Fodé Ballo-Touré",
           "AC Milan",
           "Left-Back"
          ],
          [
           "Marc Cucurella",
           "FC Barcelona",
           "Left-Back"
          ],
          [
           "Marvin Zeegelaar",
           "Udinese Calcio",
           "Left-Back"
          ],
          [
           "Lucas Digne",
           "Everton FC",
           "Left-Back"
          ],
          [
           "Jordan Amavi",
           "Olympique Marseille",
           "Left-Back"
          ]
         ],
         "hovertemplate": "position=%{customdata[2]}<br>prediction=%{x}<br>True Price=%{y}<br>player_name=%{customdata[0]}<br>club_name=%{customdata[1]}<extra></extra>",
         "legendgroup": "Left-Back",
         "marker": {
          "color": "#FF6692",
          "symbol": "circle"
         },
         "mode": "markers",
         "name": "Left-Back",
         "orientation": "v",
         "showlegend": true,
         "type": "scatter",
         "x": [
          0.45960646867752075,
          2.3395702838897705,
          6.5874481201171875,
          1.7257893085479736,
          11.634061813354492,
          4.152988910675049,
          16.808198928833008,
          2.0603621006011963,
          1.4483567476272583,
          5.606842994689941,
          6.043282985687256,
          10.936198234558105,
          14.669257164001465,
          1.4174225330352783,
          2.3403334617614746,
          0.3140678405761719,
          0.6780838370323181,
          3.32718825340271,
          28.097639083862305,
          18.977256774902344,
          2.647491693496704,
          26.43221664428711,
          6.043282985687256,
          9.238112449645996,
          7.197364330291748,
          1.4397714138031006,
          1.492375135421753,
          3.0912258625030518,
          6.293247222900391,
          3.3332037925720215,
          7.752717971801758,
          47.28367233276367,
          2.084472179412842,
          19.300540924072266,
          1.6560182571411133,
          5.4608659744262695,
          15.466836929321289,
          5.119978904724121,
          3.0674428939819336,
          1.147118091583252,
          8.308164596557617,
          2.345004081726074,
          15.395940780639648,
          10.940958976745605,
          28.699769973754883,
          15.620182991027832,
          0.5323836803436279,
          2.6527345180511475,
          3.452890157699585,
          7.452926158905029,
          0.6643555164337158,
          20.343196868896484,
          3.2382423877716064,
          50.29146957397461,
          5.127267360687256,
          1.403886318206787,
          3.0285770893096924,
          6.5553879737854,
          3.0912258625030518,
          0.24872374534606934,
          21.15544319152832,
          8.923055648803711
         ],
         "xaxis": "x",
         "y": [
          0.1025879735347503,
          1.0284087574103422,
          6.170452544462053,
          2,
          12.105380877100536,
          5.5,
          16.824427659699047,
          2.0568175148206844,
          1.5388196030212544,
          5.2037422037422045,
          10.407484407484407,
          10.407484407484407,
          15,
          0.2571021893525855,
          2.5710218935258555,
          0.2571021893525855,
          0.5334574623807015,
          3.077639206042509,
          30.33805834360509,
          20.568175148206844,
          3,
          26.22442331396373,
          1.196860706860707,
          9.25567881669308,
          6.5,
          0.5,
          1.1312496331513766,
          2.0568175148206844,
          6.244490644490645,
          3.1222453222453224,
          7,
          49.363620355696426,
          2.5,
          19.774220374220377,
          1.7482948875975817,
          5.2037422037422045,
          16.927015633233797,
          5.2037422037422045,
          4.103518941390012,
          0.5142043787051711,
          8.227270059282738,
          0.7805613305613306,
          15.611226611226613,
          11.44823284823285,
          29.140956340956343,
          15.940335739860304,
          0.5,
          2.6018711018711023,
          4,
          7.147440864001879,
          0.8227270059282739,
          22.11078828432236,
          2.7767036450079243,
          51.49916271444464,
          5.2037422037422045,
          1.2,
          2.0004654839276306,
          5,
          4.113635029641369,
          0.3122245322245322,
          21.023118503118503,
          10.407484407484407
         ],
         "yaxis": "y"
        },
        {
         "customdata": [
          [
           "Roberto Rosales",
           "CD Leganés",
           "Right-Back"
          ],
          [
           "Emil Krafth",
           "Amiens SC",
           "Right-Back"
          ],
          [
           "Ola Aina",
           "Fulham FC",
           "Right-Back"
          ],
          [
           "Allan Nyom",
           "Getafe CF",
           "Right-Back"
          ],
          [
           "Matteo Darmian",
           "Inter Milan",
           "Right-Back"
          ],
          [
           "Giovanni Di Lorenzo",
           "SSC Napoli",
           "Right-Back"
          ],
          [
           "Kieran Trippier",
           "Atlético de Madrid",
           "Right-Back"
          ],
          [
           "Juan Foyth",
           "Villarreal CF",
           "Right-Back"
          ],
          [
           "Alessandro Florenzi",
           "AC Milan",
           "Right-Back"
          ],
          [
           "Emil Krafth",
           "Newcastle United",
           "Right-Back"
          ],
          [
           "Arnaud Souquet",
           "Montpellier HSC",
           "Right-Back"
          ],
          [
           "Pablo Maffeo",
           "RCD Mallorca",
           "Right-Back"
          ],
          [
           "Davide Zappacosta",
           "Atalanta BC",
           "Right-Back"
          ],
          [
           "Djibril Sidibé",
           "Everton FC",
           "Right-Back"
          ],
          [
           "Michael Lang",
           "SV Werder Bremen",
           "Right-Back"
          ],
          [
           "Fabio Depaoli",
           "UC Sampdoria",
           "Right-Back"
          ],
          [
           "Sergi Palencia",
           "AS Saint-Étienne",
           "Right-Back"
          ],
          [
           "Vincent Laurini",
           "ACF Fiorentina",
           "Right-Back"
          ],
          [
           "Álvaro Odriozola",
           "Real Madrid",
           "Right-Back"
          ],
          [
           "Achraf Hakimi",
           "Inter Milan",
           "Right-Back"
          ],
          [
           "Danilo",
           "Juventus FC",
           "Right-Back"
          ],
          [
           "Pol Lirola",
           "Olympique Marseille",
           "Right-Back"
          ],
          [
           "Almamy Touré",
           "Eintracht Frankfurt",
           "Right-Back"
          ],
          [
           "Takehiro Tomiyasu",
           "Arsenal FC",
           "Right-Back"
          ],
          [
           "Pol Lirola",
           "ACF Fiorentina",
           "Right-Back"
          ],
          [
           "Fabrizio Cacciatore",
           "Cagliari Calcio",
           "Right-Back"
          ],
          [
           "Martín Montoya",
           "Brighton & Hove Albion",
           "Right-Back"
          ],
          [
           "Diogo Dalot",
           "AC Milan",
           "Right-Back"
          ],
          [
           "Federico Mattiello",
           "Cagliari Calcio",
           "Right-Back"
          ],
          [
           "Marc Navarro",
           "Watford FC",
           "Right-Back"
          ],
          [
           "Fabrizio Cacciatore",
           "Cagliari Calcio",
           "Right-Back"
          ],
          [
           "Patrick Burner",
           "Nîmes Olympique",
           "Right-Back"
          ],
          [
           "Davide Santon",
           "AS Roma",
           "Right-Back"
          ],
          [
           "Mitchell Weiser",
           "Bayer 04 Leverkusen",
           "Right-Back"
          ],
          [
           "Dimitri Foulquier",
           "Granada CF",
           "Right-Back"
          ],
          [
           "Nordi Mukiele",
           "RB Leipzig",
           "Right-Back"
          ],
          [
           "Brandon Soppy",
           "Udinese Calcio",
           "Right-Back"
          ],
          [
           "Timothy Castagne",
           "Leicester City",
           "Right-Back"
          ],
          [
           "Miguel Layún",
           "Villarreal CF",
           "Right-Back"
          ],
          [
           "Pedro Porro",
           "Manchester City",
           "Right-Back"
          ],
          [
           "Achraf Hakimi",
           "Paris Saint-Germain",
           "Right-Back"
          ],
          [
           "Dimitri Foulquier",
           "Valencia CF",
           "Right-Back"
          ],
          [
           "Bryan Reynolds",
           "AS Roma",
           "Right-Back"
          ],
          [
           "Benjamin Henrichs",
           "AS Monaco",
           "Right-Back"
          ],
          [
           "Vincent Laurini",
           "Parma Calcio 1913",
           "Right-Back"
          ],
          [
           "Manuel Lazzari",
           "SS Lazio",
           "Right-Back"
          ],
          [
           "Alessandro Florenzi",
           "Paris Saint-Germain",
           "Right-Back"
          ],
          [
           "Ola Aina",
           "Torino FC",
           "Right-Back"
          ],
          [
           "Silvan Widmer",
           "1.FSV Mainz 05",
           "Right-Back"
          ],
          [
           "Ezequiel Schelotto",
           "Chievo Verona",
           "Right-Back"
          ],
          [
           "Jeremy Toljan",
           "US Sassuolo",
           "Right-Back"
          ],
          [
           "Ximo Navarro",
           "Deportivo Alavés",
           "Right-Back"
          ],
          [
           "Matteo Darmian",
           "Parma Calcio 1913",
           "Right-Back"
          ],
          [
           "Santiago Arias",
           "Bayer 04 Leverkusen",
           "Right-Back"
          ],
          [
           "Davide Faraoni",
           "Hellas Verona",
           "Right-Back"
          ],
          [
           "Cédric Soares",
           "Inter Milan",
           "Right-Back"
          ],
          [
           "Timothy Fosu-Mensah",
           "Bayer 04 Leverkusen",
           "Right-Back"
          ],
          [
           "Valentino Lazaro",
           "Inter Milan",
           "Right-Back"
          ],
          [
           "Aleix Vidal",
           "Sevilla FC",
           "Right-Back"
          ],
          [
           "Ronaël Pierre-Gabriel",
           "AS Monaco",
           "Right-Back"
          ],
          [
           "João Cancelo",
           "Manchester City",
           "Right-Back"
          ],
          [
           "Pablo Maffeo",
           "VfB Stuttgart",
           "Right-Back"
          ],
          [
           "Matt Doherty",
           "Tottenham Hotspur",
           "Right-Back"
          ],
          [
           "Lukas Klünter",
           "Hertha BSC",
           "Right-Back"
          ],
          [
           "Benjamin Henrichs",
           "RB Leipzig",
           "Right-Back"
          ],
          [
           "Federico Mattiello",
           "Bologna FC 1909",
           "Right-Back"
          ],
          [
           "Pol Lirola",
           "ACF Fiorentina",
           "Right-Back"
          ],
          [
           "Ronaël Pierre-Gabriel",
           "1.FSV Mainz 05",
           "Right-Back"
          ],
          [
           "Saidy Janko",
           "Real Valladolid CF",
           "Right-Back"
          ],
          [
           "Kieran Trippier",
           "Newcastle United",
           "Right-Back"
          ],
          [
           "Junior Sambia",
           "Montpellier HSC",
           "Right-Back"
          ],
          [
           "Juanfran",
           "CD Leganés",
           "Right-Back"
          ],
          [
           "Kelvin Amian",
           "Spezia Calcio",
           "Right-Back"
          ]
         ],
         "hovertemplate": "position=%{customdata[2]}<br>prediction=%{x}<br>True Price=%{y}<br>player_name=%{customdata[0]}<br>club_name=%{customdata[1]}<extra></extra>",
         "legendgroup": "Right-Back",
         "marker": {
          "color": "#B6E880",
          "symbol": "circle"
         },
         "mode": "markers",
         "name": "Right-Back",
         "orientation": "v",
         "showlegend": true,
         "type": "scatter",
         "x": [
          0.6543727517127991,
          3.735374689102173,
          3.479111671447754,
          2.849839210510254,
          2.3433022499084473,
          7.992514610290527,
          22.452451705932617,
          14.905131340026855,
          0.8450729250907898,
          5.4001240730285645,
          3.031019449234009,
          1.8205742835998535,
          8.280064582824707,
          3.5752272605895996,
          0.6110736131668091,
          4.948766708374023,
          2.261446952819824,
          1.9308208227157593,
          30.99254608154297,
          45.18061828613281,
          36.77920150756836,
          6.187429904937744,
          1.2850452661514282,
          18.15340805053711,
          11.641764640808105,
          0.4876880645751953,
          7.13635778427124,
          0.9039937257766724,
          1.8558765649795532,
          2.4033660888671875,
          0.8831080794334412,
          1.7708790302276611,
          9.885988235473633,
          12.625432014465332,
          2.5146262645721436,
          16.529468536376953,
          1.825147032737732,
          20.610694885253906,
          4.117371082305908,
          12.204575538635254,
          65.60928344726562,
          2.7465054988861084,
          6.904905319213867,
          17.923358917236328,
          0.7955471277236938,
          15.30795669555664,
          0.5926924347877502,
          9.981761932373047,
          2.2094428539276123,
          0.4880458116531372,
          3.0391294956207275,
          1.8257555961608887,
          2.194406509399414,
          2.9766571521759033,
          0.34105369448661804,
          0.43199867010116577,
          1.8778142929077148,
          23.248939514160156,
          9.41698932647705,
          6.333086967468262,
          64.70978546142578,
          8.771507263183594,
          17.252962112426758,
          3.3742597103118896,
          13.779522895812988,
          0.9473221302032471,
          3.4238102436065674,
          4.9709882736206055,
          2.341585397720337,
          14.63473892211914,
          1.929263949394226,
          0.6068247556686401,
          3.755030870437622
         ],
         "xaxis": "x",
         "y": [
          1.2340905088924106,
          2.0568175148206844,
          2.564699338368757,
          3.085226272231026,
          3.3,
          8.227270059282738,
          22.624992663027527,
          15,
          1,
          5.553407290015849,
          2.879544520748958,
          0.5,
          9,
          2.5710218935258555,
          0.6170452544462053,
          4.62783940834654,
          2.0568175148206844,
          1.6651975051975054,
          31.222453222453225,
          44.11282861994263,
          38.05112402418266,
          6.5,
          0.7805613305613306,
          18.6,
          11.284677088822532,
          0.104074844074844,
          7.285239085239086,
          0.5129398676737514,
          0.6170452544462053,
          2.0814968814968817,
          0.8227270059282739,
          1.5388196030212544,
          9.887110187110189,
          12.48898128898129,
          2.0517594706950057,
          16.651975051975054,
          2,
          20.517594706950057,
          4.1629937629937634,
          12.340905088924108,
          66.5,
          2.5,
          6.75,
          20.814968814968815,
          0.4524998532605506,
          15.426131361155132,
          0.5129398676737514,
          10.078405822621354,
          2.5,
          0.2289646569646569,
          3.5,
          1.5611226611226612,
          2.550453718377649,
          3.077639206042509,
          0.3085226272231026,
          0.5203742203742204,
          1.743995550090755,
          23.036356165991663,
          9.6789604989605,
          6.244490644490645,
          66.84656923167225,
          9.366735966735968,
          17.23477955383805,
          2.0814968814968817,
          15,
          1.0407484407484409,
          2.0568175148206844,
          5.656248165756882,
          1.9491714971602556,
          15,
          2.0814968814968817,
          0.3122245322245322,
          3.2
         ],
         "yaxis": "y"
        },
        {
         "customdata": [
          [
           "Philipp Tschauner",
           "RB Leipzig",
           "Goalkeeper"
          ],
          [
           "Gerónimo Rulli",
           "Montpellier HSC",
           "Goalkeeper"
          ],
          [
           "Joe Hart",
           "Burnley FC",
           "Goalkeeper"
          ],
          [
           "Gerónimo Rulli",
           "Villarreal CF",
           "Goalkeeper"
          ],
          [
           "Emiliano Martínez",
           "Aston Villa",
           "Goalkeeper"
          ],
          [
           "Alex Meret",
           "SSC Napoli",
           "Goalkeeper"
          ],
          [
           "Sergio Rico",
           "Paris Saint-Germain",
           "Goalkeeper"
          ],
          [
           "Mike Maignan",
           "AC Milan",
           "Goalkeeper"
          ],
          [
           "Alisson",
           "Liverpool FC",
           "Goalkeeper"
          ],
          [
           "Alfred Gomis",
           "Stade Rennais FC",
           "Goalkeeper"
          ],
          [
           "Rúnar Alex Rúnarsson",
           "Arsenal FC",
           "Goalkeeper"
          ],
          [
           "Benjamin Lecomte",
           "AS Monaco",
           "Goalkeeper"
          ],
          [
           "Pierluigi Gollini",
           "Atalanta BC",
           "Goalkeeper"
          ],
          [
           "Pau López",
           "AS Roma",
           "Goalkeeper"
          ],
          [
           "Marco Sportiello",
           "Frosinone Calcio",
           "Goalkeeper"
          ],
          [
           "Marco Silvestri",
           "Udinese Calcio",
           "Goalkeeper"
          ],
          [
           "Antonio Mirante",
           "AS Roma",
           "Goalkeeper"
          ],
          [
           "Mattia Perin",
           "Genoa CFC",
           "Goalkeeper"
          ],
          [
           "Mattia Perin",
           "Juventus FC",
           "Goalkeeper"
          ],
          [
           "Keylor Navas",
           "Paris Saint-Germain",
           "Goalkeeper"
          ],
          [
           "Edouard Mendy",
           "Chelsea FC",
           "Goalkeeper"
          ],
          [
           "Angus Gunn",
           "Norwich City",
           "Goalkeeper"
          ],
          [
           "Aaron Ramsdale",
           "Sheffield United",
           "Goalkeeper"
          ],
          [
           "Alfred Gomis",
           "Dijon FCO",
           "Goalkeeper"
          ],
          [
           "Alban Lafont",
           "FC Nantes",
           "Goalkeeper"
          ],
          [
           "Gregor Kobel",
           "VfB Stuttgart",
           "Goalkeeper"
          ],
          [
           "David Soria",
           "Getafe CF",
           "Goalkeeper"
          ],
          [
           "Bernd Leno",
           "Arsenal FC",
           "Goalkeeper"
          ],
          [
           "Jack Butland",
           "Crystal Palace",
           "Goalkeeper"
          ],
          [
           "Thibaut Courtois",
           "Real Madrid",
           "Goalkeeper"
          ],
          [
           "Gregor Kobel",
           "Borussia Dortmund",
           "Goalkeeper"
          ],
          [
           "Orestis Karnezis",
           "SSC Napoli",
           "Goalkeeper"
          ],
          [
           "Julian Pollersbeck",
           "Olympique Lyon",
           "Goalkeeper"
          ],
          [
           "Aaron Ramsdale",
           "Arsenal FC",
           "Goalkeeper"
          ],
          [
           "David Ospina",
           "SSC Napoli",
           "Goalkeeper"
          ],
          [
           "Álvaro Fernández",
           "Brentford FC",
           "Goalkeeper"
          ],
          [
           "Luigi Sepe",
           "Parma Calcio 1913",
           "Goalkeeper"
          ],
          [
           "Alexander Schwolow",
           "Hertha BSC",
           "Goalkeeper"
          ],
          [
           "Kepa Arrizabalaga",
           "Chelsea FC",
           "Goalkeeper"
          ],
          [
           "Christian Mathenia",
           "1.FC Nuremberg",
           "Goalkeeper"
          ],
          [
           "Paul Bernardoni",
           "SCO Angers",
           "Goalkeeper"
          ],
          [
           "Pepe Reina",
           "Aston Villa",
           "Goalkeeper"
          ],
          [
           "Alban Lafont",
           "ACF Fiorentina",
           "Goalkeeper"
          ],
          [
           "Alphonse Areola",
           "Real Madrid",
           "Goalkeeper"
          ],
          [
           "Ralf Fährmann",
           "Norwich City",
           "Goalkeeper"
          ],
          [
           "Pau López",
           "Olympique Marseille",
           "Goalkeeper"
          ],
          [
           "Alban Lafont",
           "FC Nantes",
           "Goalkeeper"
          ],
          [
           "Alphonse Areola",
           "West Ham United",
           "Goalkeeper"
          ],
          [
           "Edouard Mendy",
           "Stade Rennais FC",
           "Goalkeeper"
          ]
         ],
         "hovertemplate": "position=%{customdata[2]}<br>prediction=%{x}<br>True Price=%{y}<br>player_name=%{customdata[0]}<br>club_name=%{customdata[1]}<extra></extra>",
         "legendgroup": "Goalkeeper",
         "marker": {
          "color": "#FF97FF",
          "symbol": "circle"
         },
         "mode": "markers",
         "name": "Goalkeeper",
         "orientation": "v",
         "showlegend": true,
         "type": "scatter",
         "x": [
          0.20241262018680573,
          1.9284440279006958,
          4.096947193145752,
          4.9490275382995605,
          17.370698928833008,
          26.302448272705078,
          5.903888702392578,
          14.143853187561035,
          64.84165954589844,
          9.622597694396973,
          2.42789626121521,
          13.877965927124023,
          4.830282211303711,
          23.899906158447266,
          0.8628182411193848,
          2.633885383605957,
          4.073988914489746,
          1.0171092748641968,
          14.742260932922363,
          15.28966236114502,
          24.48273277282715,
          5.752969741821289,
          21.150775909423828,
          1.3093719482421875,
          7.541905403137207,
          7.211406707763672,
          4.1510396003723145,
          25.793188095092773,
          1.2024381160736084,
          35.21053695678711,
          14.365445137023926,
          1.5357584953308105,
          0.44023212790489197,
          27.811107635498047,
          3.438507080078125,
          1.5309669971466064,
          5.038750171661377,
          7.204380512237549,
          82.9382553100586,
          0.8265303373336792,
          8.37466049194336,
          0.3472599685192108,
          8.388382911682129,
          2.7898752689361572,
          2.909290313720703,
          0.6110430359840393,
          0.7386347055435181,
          2.249561071395874,
          8.095194816589355
         ],
         "xaxis": "x",
         "y": [
          0.3599430650936197,
          1.542613136115513,
          4.058918918918919,
          5.129398676737514,
          17.85030739504655,
          26.7386276926689,
          6.155278412085018,
          14.3,
          65.04677754677755,
          10.258797353475028,
          2.0517594706950057,
          13.88351822503962,
          4.57929313929314,
          24.167605799143043,
          0.3122245322245322,
          2.5,
          4.1629937629937634,
          0.5358009626107884,
          14.77862785862786,
          15.426131361155132,
          24.62111364834007,
          5.85,
          21.030534574623807,
          1.0284087574103422,
          7.5,
          7.386334094502021,
          3.1222453222453224,
          26.01871101871102,
          1.1284677088822532,
          36.42619542619543,
          15,
          1.542613136115513,
          0.2564699338368757,
          28,
          3.5994306509361977,
          1,
          4.698529187891563,
          7.18115814743252,
          83.25987525987527,
          0.5203742203742204,
          7.694098015106271,
          0.4113635029641369,
          8.325987525987527,
          2.0568175148206844,
          3.085226272231026,
          0.72,
          0.8227270059282739,
          2,
          7.8159065563186
         ],
         "yaxis": "y"
        },
        {
         "customdata": [
          [
           "Yacine Adli",
           "AC Milan",
           "Attacking Midfield"
          ],
          [
           "Simone Verdi",
           "SSC Napoli",
           "Attacking Midfield"
          ],
          [
           "Brahim Díaz",
           "AC Milan",
           "Attacking Midfield"
          ],
          [
           "Yassine Benzia",
           "Dijon FCO",
           "Attacking Midfield"
          ],
          [
           "Ludovic Blas",
           "FC Nantes",
           "Attacking Midfield"
          ],
          [
           "Gaël Kakuta",
           "Amiens SC",
           "Attacking Midfield"
          ],
          [
           "Hamed Junior Traorè",
           "US Sassuolo",
           "Attacking Midfield"
          ],
          [
           "Ryad Boudebouz",
           "AS Saint-Étienne",
           "Attacking Midfield"
          ],
          [
           "Renaud Ripart",
           "ESTAC Troyes",
           "Attacking Midfield"
          ],
          [
           "Matheus Pereira",
           "West Bromwich Albion",
           "Attacking Midfield"
          ],
          [
           "Julian Brandt",
           "Borussia Dortmund",
           "Attacking Midfield"
          ],
          [
           "Lucas Paquetá",
           "Olympique Lyon",
           "Attacking Midfield"
          ],
          [
           "Martin Ødegaard",
           "Arsenal FC",
           "Attacking Midfield"
          ],
          [
           "Quentin Boisgard",
           "FC Lorient",
           "Attacking Midfield"
          ],
          [
           "Mattia Zaccagni",
           "SS Lazio",
           "Attacking Midfield"
          ],
          [
           "Martin Ødegaard",
           "Arsenal FC",
           "Attacking Midfield"
          ],
          [
           "Leonardo Bittencourt",
           "SV Werder Bremen",
           "Attacking Midfield"
          ],
          [
           "Christopher Nkunku",
           "RB Leipzig",
           "Attacking Midfield"
          ],
          [
           "Aymen Barkok",
           "Fortuna Düsseldorf",
           "Attacking Midfield"
          ],
          [
           "Kai Havertz",
           "Chelsea FC",
           "Attacking Midfield"
          ],
          [
           "Riccardo Saponara",
           "UC Sampdoria",
           "Attacking Midfield"
          ],
          [
           "Kevin-Prince Boateng",
           "FC Barcelona",
           "Attacking Midfield"
          ],
          [
           "Thomas Lemar",
           "Atlético de Madrid",
           "Attacking Midfield"
          ],
          [
           "Javier Pastore",
           "AS Roma",
           "Attacking Midfield"
          ],
          [
           "Lucas Castro",
           "Cagliari Calcio",
           "Attacking Midfield"
          ],
          [
           "Jesse Lingard",
           "West Ham United",
           "Attacking Midfield"
          ],
          [
           "Steven Skrzybski",
           "Fortuna Düsseldorf",
           "Attacking Midfield"
          ],
          [
           "Leonardo Bittencourt",
           "SV Werder Bremen",
           "Attacking Midfield"
          ],
          [
           "Christian Eriksen",
           "Inter Milan",
           "Attacking Midfield"
          ],
          [
           "Pablo Fornals",
           "West Ham United",
           "Attacking Midfield"
          ],
          [
           "Amin Younes",
           "Eintracht Frankfurt",
           "Attacking Midfield"
          ],
          [
           "Rémy Cabella",
           "AS Saint-Étienne",
           "Attacking Midfield"
          ],
          [
           "Kevin-Prince Boateng",
           "ACF Fiorentina",
           "Attacking Midfield"
          ],
          [
           "Roberto Soriano",
           "Bologna FC 1909",
           "Attacking Midfield"
          ],
          [
           "Henrikh Mkhitaryan",
           "AS Roma",
           "Attacking Midfield"
          ],
          [
           "Leonardo Bittencourt",
           "TSG 1899 Hoffenheim",
           "Attacking Midfield"
          ],
          [
           "Simone Verdi",
           "Torino FC",
           "Attacking Midfield"
          ],
          [
           "Roberto Soriano",
           "Torino FC",
           "Attacking Midfield"
          ]
         ],
         "hovertemplate": "position=%{customdata[2]}<br>prediction=%{x}<br>True Price=%{y}<br>player_name=%{customdata[0]}<br>club_name=%{customdata[1]}<extra></extra>",
         "legendgroup": "Attacking Midfield",
         "marker": {
          "color": "#FECB52",
          "symbol": "circle"
         },
         "mode": "markers",
         "name": "Attacking Midfield",
         "orientation": "v",
         "showlegend": true,
         "type": "scatter",
         "x": [
          7.29154634475708,
          25.353275299072266,
          3.000535488128662,
          2.445336103439331,
          8.7623929977417,
          4.840465545654297,
          15.330880165100098,
          3.9038941860198975,
          3.414867877960205,
          8.394543647766113,
          25.764795303344727,
          19.85135841369629,
          2.6568968296051025,
          2.588881492614746,
          0.7050706148147583,
          34.880428314208984,
          1.8818777799606323,
          12.659102439880371,
          0.927449107170105,
          82.14701843261719,
          2.117380142211914,
          -0.14771857857704163,
          74.4917984008789,
          24.137142181396484,
          5.338200092315674,
          2.4986822605133057,
          0.3964964747428894,
          6.929854869842529,
          27.485021591186523,
          28.570430755615234,
          1.0817830562591553,
          6.994828224182129,
          1.843651294708252,
          7.5812177658081055,
          3.289219379425049,
          5.365688800811768,
          22.255571365356445,
          1.2223767042160034
         ],
         "xaxis": "x",
         "y": [
          8,
          25.4983367983368,
          3,
          1.542613136115513,
          8.227270059282738,
          3.085226272231026,
          16,
          3.5994306509361977,
          3.3,
          8.463507816616898,
          25.71021893525856,
          20.517594706950057,
          2.0517594706950057,
          2.0517594706950057,
          0.2,
          35,
          0.6170452544462053,
          13.36931384633445,
          0.8325987525987527,
          82.07037882780023,
          2.0814968814968817,
          1.0407484407484409,
          74.93388773388774,
          25.70648648648649,
          6.140415800415801,
          2.3595233912992564,
          0.2056817514820684,
          7.18115814743252,
          27.76703645007924,
          28.795445207489585,
          0.7694098015106272,
          6.244490644490645,
          1.542613136115513,
          8.227270059282738,
          3.188067147972061,
          6.244490644490645,
          22.569354177645064,
          1.0407484407484409
         ],
         "yaxis": "y"
        },
        {
         "customdata": [
          [
           "Joaquín Correa",
           "SS Lazio",
           "Second Striker"
          ],
          [
           "Rodrigo",
           "Leeds United",
           "Second Striker"
          ],
          [
           "Papu Gómez",
           "Sevilla FC",
           "Second Striker"
          ],
          [
           "Diego Farias",
           "Spezia Calcio",
           "Second Striker"
          ],
          [
           "Joaquín Correa",
           "Inter Milan",
           "Second Striker"
          ],
          [
           "Antoine Griezmann",
           "FC Barcelona",
           "Second Striker"
          ],
          [
           "Luca Waldschmidt",
           "SC Freiburg",
           "Second Striker"
          ],
          [
           "Diego Farias",
           "Empoli FC",
           "Second Striker"
          ],
          [
           "Maximilian Philipp",
           "VfL Wolfsburg",
           "Second Striker"
          ],
          [
           "Gianluca Caprari",
           "Parma Calcio 1913",
           "Second Striker"
          ],
          [
           "Gianluca Caprari",
           "Benevento Calcio",
           "Second Striker"
          ],
          [
           "Maximilian Philipp",
           "VfL Wolfsburg",
           "Second Striker"
          ],
          [
           "Diego Farias",
           "US Lecce",
           "Second Striker"
          ],
          [
           "Kevin Volland",
           "AS Monaco",
           "Second Striker"
          ],
          [
           "Enrico Brignola",
           "US Sassuolo",
           "Second Striker"
          ],
          [
           "Ayoze Pérez",
           "Leicester City",
           "Second Striker"
          ],
          [
           "Luca Waldschmidt",
           "VfL Wolfsburg",
           "Second Striker"
          ]
         ],
         "hovertemplate": "position=%{customdata[2]}<br>prediction=%{x}<br>True Price=%{y}<br>player_name=%{customdata[0]}<br>club_name=%{customdata[1]}<extra></extra>",
         "legendgroup": "Second Striker",
         "marker": {
          "color": "#636efa",
          "symbol": "circle"
         },
         "mode": "markers",
         "name": "Second Striker",
         "orientation": "v",
         "showlegend": true,
         "type": "scatter",
         "x": [
          17.657320022583008,
          29.16463851928711,
          5.695685863494873,
          -0.029201243072748184,
          5.206391334533691,
          123.32457733154297,
          5.463866710662842,
          2.875246286392212,
          1.9535659551620483,
          2.5988922119140625,
          2.4872019290924072,
          7.372042655944824,
          1.9341042041778564,
          11.590018272399902,
          4.1662211418151855,
          34.18281173706055,
          11.661579132080078
         ],
         "xaxis": "x",
         "y": [
          18.57735966735967,
          30.776392060425085,
          5.129398676737514,
          0.5129398676737514,
          5,
          123.40905088924106,
          5.2037422037422045,
          2.6018711018711023,
          2.0517594706950057,
          2.159658390561719,
          1.3336436559517535,
          7.5,
          1.0798291952808594,
          11.284677088822532,
          3.1222453222453224,
          34.348852497505426,
          12
         ],
         "yaxis": "y"
        },
        {
         "customdata": [
          [
           "Romain Faivre",
           "Olympique Lyon",
           "Right Midfield"
          ],
          [
           "Antonio Candreva",
           "UC Sampdoria",
           "Right Midfield"
          ],
          [
           "Victor Moses",
           "Inter Milan",
           "Right Midfield"
          ]
         ],
         "hovertemplate": "position=%{customdata[2]}<br>prediction=%{x}<br>True Price=%{y}<br>player_name=%{customdata[0]}<br>club_name=%{customdata[1]}<extra></extra>",
         "legendgroup": "Right Midfield",
         "marker": {
          "color": "#EF553B",
          "symbol": "circle"
         },
         "mode": "markers",
         "name": "Right Midfield",
         "orientation": "v",
         "showlegend": true,
         "type": "scatter",
         "x": [
          14.053582191467285,
          2.497800350189209,
          0.6576482653617859
         ],
         "xaxis": "x",
         "y": [
          15,
          2.5,
          0.2221362916006339
         ],
         "yaxis": "y"
        },
        {
         "customdata": [
          [
           "Erik Thommy",
           "Fortuna Düsseldorf",
           "Left Midfield"
          ],
          [
           "Mohamed Fares",
           "SPAL",
           "Left Midfield"
          ],
          [
           "Ryan Sessegnon",
           "Tottenham Hotspur",
           "Left Midfield"
          ],
          [
           "Jakub Jankto",
           "UC Sampdoria",
           "Left Midfield"
          ],
          [
           "Mohamed Fares",
           "SS Lazio",
           "Left Midfield"
          ],
          [
           "Jakub Jankto",
           "Getafe CF",
           "Left Midfield"
          ]
         ],
         "hovertemplate": "position=%{customdata[2]}<br>prediction=%{x}<br>True Price=%{y}<br>player_name=%{customdata[0]}<br>club_name=%{customdata[1]}<extra></extra>",
         "legendgroup": "Left Midfield",
         "marker": {
          "color": "#00cc96",
          "symbol": "circle"
         },
         "mode": "markers",
         "name": "Left Midfield",
         "orientation": "v",
         "showlegend": true,
         "type": "scatter",
         "x": [
          0.7480244636535645,
          4.771195888519287,
          26.750911712646484,
          14.84985637664795,
          7.482247829437256,
          5.465183258056641
         ],
         "xaxis": "x",
         "y": [
          0.5142043787051711,
          3.5994306509361977,
          27.76703645007924,
          14.911926982449964,
          8.207037882780023,
          6
         ],
         "yaxis": "y"
        }
       ],
       "layout": {
        "legend": {
         "title": {
          "text": "position"
         },
         "tracegroupgap": 0
        },
        "margin": {
         "t": 60
        },
        "template": {
         "data": {
          "bar": [
           {
            "error_x": {
             "color": "#2a3f5f"
            },
            "error_y": {
             "color": "#2a3f5f"
            },
            "marker": {
             "line": {
              "color": "#E5ECF6",
              "width": 0.5
             }
            },
            "type": "bar"
           }
          ],
          "barpolar": [
           {
            "marker": {
             "line": {
              "color": "#E5ECF6",
              "width": 0.5
             }
            },
            "type": "barpolar"
           }
          ],
          "carpet": [
           {
            "aaxis": {
             "endlinecolor": "#2a3f5f",
             "gridcolor": "white",
             "linecolor": "white",
             "minorgridcolor": "white",
             "startlinecolor": "#2a3f5f"
            },
            "baxis": {
             "endlinecolor": "#2a3f5f",
             "gridcolor": "white",
             "linecolor": "white",
             "minorgridcolor": "white",
             "startlinecolor": "#2a3f5f"
            },
            "type": "carpet"
           }
          ],
          "choropleth": [
           {
            "colorbar": {
             "outlinewidth": 0,
             "ticks": ""
            },
            "type": "choropleth"
           }
          ],
          "contour": [
           {
            "colorbar": {
             "outlinewidth": 0,
             "ticks": ""
            },
            "colorscale": [
             [
              0,
              "#0d0887"
             ],
             [
              0.1111111111111111,
              "#46039f"
             ],
             [
              0.2222222222222222,
              "#7201a8"
             ],
             [
              0.3333333333333333,
              "#9c179e"
             ],
             [
              0.4444444444444444,
              "#bd3786"
             ],
             [
              0.5555555555555556,
              "#d8576b"
             ],
             [
              0.6666666666666666,
              "#ed7953"
             ],
             [
              0.7777777777777778,
              "#fb9f3a"
             ],
             [
              0.8888888888888888,
              "#fdca26"
             ],
             [
              1,
              "#f0f921"
             ]
            ],
            "type": "contour"
           }
          ],
          "contourcarpet": [
           {
            "colorbar": {
             "outlinewidth": 0,
             "ticks": ""
            },
            "type": "contourcarpet"
           }
          ],
          "heatmap": [
           {
            "colorbar": {
             "outlinewidth": 0,
             "ticks": ""
            },
            "colorscale": [
             [
              0,
              "#0d0887"
             ],
             [
              0.1111111111111111,
              "#46039f"
             ],
             [
              0.2222222222222222,
              "#7201a8"
             ],
             [
              0.3333333333333333,
              "#9c179e"
             ],
             [
              0.4444444444444444,
              "#bd3786"
             ],
             [
              0.5555555555555556,
              "#d8576b"
             ],
             [
              0.6666666666666666,
              "#ed7953"
             ],
             [
              0.7777777777777778,
              "#fb9f3a"
             ],
             [
              0.8888888888888888,
              "#fdca26"
             ],
             [
              1,
              "#f0f921"
             ]
            ],
            "type": "heatmap"
           }
          ],
          "heatmapgl": [
           {
            "colorbar": {
             "outlinewidth": 0,
             "ticks": ""
            },
            "colorscale": [
             [
              0,
              "#0d0887"
             ],
             [
              0.1111111111111111,
              "#46039f"
             ],
             [
              0.2222222222222222,
              "#7201a8"
             ],
             [
              0.3333333333333333,
              "#9c179e"
             ],
             [
              0.4444444444444444,
              "#bd3786"
             ],
             [
              0.5555555555555556,
              "#d8576b"
             ],
             [
              0.6666666666666666,
              "#ed7953"
             ],
             [
              0.7777777777777778,
              "#fb9f3a"
             ],
             [
              0.8888888888888888,
              "#fdca26"
             ],
             [
              1,
              "#f0f921"
             ]
            ],
            "type": "heatmapgl"
           }
          ],
          "histogram": [
           {
            "marker": {
             "colorbar": {
              "outlinewidth": 0,
              "ticks": ""
             }
            },
            "type": "histogram"
           }
          ],
          "histogram2d": [
           {
            "colorbar": {
             "outlinewidth": 0,
             "ticks": ""
            },
            "colorscale": [
             [
              0,
              "#0d0887"
             ],
             [
              0.1111111111111111,
              "#46039f"
             ],
             [
              0.2222222222222222,
              "#7201a8"
             ],
             [
              0.3333333333333333,
              "#9c179e"
             ],
             [
              0.4444444444444444,
              "#bd3786"
             ],
             [
              0.5555555555555556,
              "#d8576b"
             ],
             [
              0.6666666666666666,
              "#ed7953"
             ],
             [
              0.7777777777777778,
              "#fb9f3a"
             ],
             [
              0.8888888888888888,
              "#fdca26"
             ],
             [
              1,
              "#f0f921"
             ]
            ],
            "type": "histogram2d"
           }
          ],
          "histogram2dcontour": [
           {
            "colorbar": {
             "outlinewidth": 0,
             "ticks": ""
            },
            "colorscale": [
             [
              0,
              "#0d0887"
             ],
             [
              0.1111111111111111,
              "#46039f"
             ],
             [
              0.2222222222222222,
              "#7201a8"
             ],
             [
              0.3333333333333333,
              "#9c179e"
             ],
             [
              0.4444444444444444,
              "#bd3786"
             ],
             [
              0.5555555555555556,
              "#d8576b"
             ],
             [
              0.6666666666666666,
              "#ed7953"
             ],
             [
              0.7777777777777778,
              "#fb9f3a"
             ],
             [
              0.8888888888888888,
              "#fdca26"
             ],
             [
              1,
              "#f0f921"
             ]
            ],
            "type": "histogram2dcontour"
           }
          ],
          "mesh3d": [
           {
            "colorbar": {
             "outlinewidth": 0,
             "ticks": ""
            },
            "type": "mesh3d"
           }
          ],
          "parcoords": [
           {
            "line": {
             "colorbar": {
              "outlinewidth": 0,
              "ticks": ""
             }
            },
            "type": "parcoords"
           }
          ],
          "pie": [
           {
            "automargin": true,
            "type": "pie"
           }
          ],
          "scatter": [
           {
            "marker": {
             "colorbar": {
              "outlinewidth": 0,
              "ticks": ""
             }
            },
            "type": "scatter"
           }
          ],
          "scatter3d": [
           {
            "line": {
             "colorbar": {
              "outlinewidth": 0,
              "ticks": ""
             }
            },
            "marker": {
             "colorbar": {
              "outlinewidth": 0,
              "ticks": ""
             }
            },
            "type": "scatter3d"
           }
          ],
          "scattercarpet": [
           {
            "marker": {
             "colorbar": {
              "outlinewidth": 0,
              "ticks": ""
             }
            },
            "type": "scattercarpet"
           }
          ],
          "scattergeo": [
           {
            "marker": {
             "colorbar": {
              "outlinewidth": 0,
              "ticks": ""
             }
            },
            "type": "scattergeo"
           }
          ],
          "scattergl": [
           {
            "marker": {
             "colorbar": {
              "outlinewidth": 0,
              "ticks": ""
             }
            },
            "type": "scattergl"
           }
          ],
          "scattermapbox": [
           {
            "marker": {
             "colorbar": {
              "outlinewidth": 0,
              "ticks": ""
             }
            },
            "type": "scattermapbox"
           }
          ],
          "scatterpolar": [
           {
            "marker": {
             "colorbar": {
              "outlinewidth": 0,
              "ticks": ""
             }
            },
            "type": "scatterpolar"
           }
          ],
          "scatterpolargl": [
           {
            "marker": {
             "colorbar": {
              "outlinewidth": 0,
              "ticks": ""
             }
            },
            "type": "scatterpolargl"
           }
          ],
          "scatterternary": [
           {
            "marker": {
             "colorbar": {
              "outlinewidth": 0,
              "ticks": ""
             }
            },
            "type": "scatterternary"
           }
          ],
          "surface": [
           {
            "colorbar": {
             "outlinewidth": 0,
             "ticks": ""
            },
            "colorscale": [
             [
              0,
              "#0d0887"
             ],
             [
              0.1111111111111111,
              "#46039f"
             ],
             [
              0.2222222222222222,
              "#7201a8"
             ],
             [
              0.3333333333333333,
              "#9c179e"
             ],
             [
              0.4444444444444444,
              "#bd3786"
             ],
             [
              0.5555555555555556,
              "#d8576b"
             ],
             [
              0.6666666666666666,
              "#ed7953"
             ],
             [
              0.7777777777777778,
              "#fb9f3a"
             ],
             [
              0.8888888888888888,
              "#fdca26"
             ],
             [
              1,
              "#f0f921"
             ]
            ],
            "type": "surface"
           }
          ],
          "table": [
           {
            "cells": {
             "fill": {
              "color": "#EBF0F8"
             },
             "line": {
              "color": "white"
             }
            },
            "header": {
             "fill": {
              "color": "#C8D4E3"
             },
             "line": {
              "color": "white"
             }
            },
            "type": "table"
           }
          ]
         },
         "layout": {
          "annotationdefaults": {
           "arrowcolor": "#2a3f5f",
           "arrowhead": 0,
           "arrowwidth": 1
          },
          "coloraxis": {
           "colorbar": {
            "outlinewidth": 0,
            "ticks": ""
           }
          },
          "colorscale": {
           "diverging": [
            [
             0,
             "#8e0152"
            ],
            [
             0.1,
             "#c51b7d"
            ],
            [
             0.2,
             "#de77ae"
            ],
            [
             0.3,
             "#f1b6da"
            ],
            [
             0.4,
             "#fde0ef"
            ],
            [
             0.5,
             "#f7f7f7"
            ],
            [
             0.6,
             "#e6f5d0"
            ],
            [
             0.7,
             "#b8e186"
            ],
            [
             0.8,
             "#7fbc41"
            ],
            [
             0.9,
             "#4d9221"
            ],
            [
             1,
             "#276419"
            ]
           ],
           "sequential": [
            [
             0,
             "#0d0887"
            ],
            [
             0.1111111111111111,
             "#46039f"
            ],
            [
             0.2222222222222222,
             "#7201a8"
            ],
            [
             0.3333333333333333,
             "#9c179e"
            ],
            [
             0.4444444444444444,
             "#bd3786"
            ],
            [
             0.5555555555555556,
             "#d8576b"
            ],
            [
             0.6666666666666666,
             "#ed7953"
            ],
            [
             0.7777777777777778,
             "#fb9f3a"
            ],
            [
             0.8888888888888888,
             "#fdca26"
            ],
            [
             1,
             "#f0f921"
            ]
           ],
           "sequentialminus": [
            [
             0,
             "#0d0887"
            ],
            [
             0.1111111111111111,
             "#46039f"
            ],
            [
             0.2222222222222222,
             "#7201a8"
            ],
            [
             0.3333333333333333,
             "#9c179e"
            ],
            [
             0.4444444444444444,
             "#bd3786"
            ],
            [
             0.5555555555555556,
             "#d8576b"
            ],
            [
             0.6666666666666666,
             "#ed7953"
            ],
            [
             0.7777777777777778,
             "#fb9f3a"
            ],
            [
             0.8888888888888888,
             "#fdca26"
            ],
            [
             1,
             "#f0f921"
            ]
           ]
          },
          "colorway": [
           "#636efa",
           "#EF553B",
           "#00cc96",
           "#ab63fa",
           "#FFA15A",
           "#19d3f3",
           "#FF6692",
           "#B6E880",
           "#FF97FF",
           "#FECB52"
          ],
          "font": {
           "color": "#2a3f5f"
          },
          "geo": {
           "bgcolor": "white",
           "lakecolor": "white",
           "landcolor": "#E5ECF6",
           "showlakes": true,
           "showland": true,
           "subunitcolor": "white"
          },
          "hoverlabel": {
           "align": "left"
          },
          "hovermode": "closest",
          "mapbox": {
           "style": "light"
          },
          "paper_bgcolor": "white",
          "plot_bgcolor": "#E5ECF6",
          "polar": {
           "angularaxis": {
            "gridcolor": "white",
            "linecolor": "white",
            "ticks": ""
           },
           "bgcolor": "#E5ECF6",
           "radialaxis": {
            "gridcolor": "white",
            "linecolor": "white",
            "ticks": ""
           }
          },
          "scene": {
           "xaxis": {
            "backgroundcolor": "#E5ECF6",
            "gridcolor": "white",
            "gridwidth": 2,
            "linecolor": "white",
            "showbackground": true,
            "ticks": "",
            "zerolinecolor": "white"
           },
           "yaxis": {
            "backgroundcolor": "#E5ECF6",
            "gridcolor": "white",
            "gridwidth": 2,
            "linecolor": "white",
            "showbackground": true,
            "ticks": "",
            "zerolinecolor": "white"
           },
           "zaxis": {
            "backgroundcolor": "#E5ECF6",
            "gridcolor": "white",
            "gridwidth": 2,
            "linecolor": "white",
            "showbackground": true,
            "ticks": "",
            "zerolinecolor": "white"
           }
          },
          "shapedefaults": {
           "line": {
            "color": "#2a3f5f"
           }
          },
          "ternary": {
           "aaxis": {
            "gridcolor": "white",
            "linecolor": "white",
            "ticks": ""
           },
           "baxis": {
            "gridcolor": "white",
            "linecolor": "white",
            "ticks": ""
           },
           "bgcolor": "#E5ECF6",
           "caxis": {
            "gridcolor": "white",
            "linecolor": "white",
            "ticks": ""
           }
          },
          "title": {
           "x": 0.05
          },
          "xaxis": {
           "automargin": true,
           "gridcolor": "white",
           "linecolor": "white",
           "ticks": "",
           "title": {
            "standoff": 15
           },
           "zerolinecolor": "white",
           "zerolinewidth": 2
          },
          "yaxis": {
           "automargin": true,
           "gridcolor": "white",
           "linecolor": "white",
           "ticks": "",
           "title": {
            "standoff": 15
           },
           "zerolinecolor": "white",
           "zerolinewidth": 2
          }
         }
        },
        "xaxis": {
         "anchor": "y",
         "domain": [
          0,
          1
         ],
         "title": {
          "text": "prediction"
         }
        },
        "yaxis": {
         "anchor": "x",
         "domain": [
          0,
          1
         ],
         "title": {
          "text": "True Price"
         }
        }
       }
      },
      "text/html": [
       "<div>                            <div id=\"8a16c9a6-e55e-402c-a77d-6d09110c6ef3\" class=\"plotly-graph-div\" style=\"height:525px; width:100%;\"></div>            <script type=\"text/javascript\">                require([\"plotly\"], function(Plotly) {                    window.PLOTLYENV=window.PLOTLYENV || {};                                    if (document.getElementById(\"8a16c9a6-e55e-402c-a77d-6d09110c6ef3\")) {                    Plotly.newPlot(                        \"8a16c9a6-e55e-402c-a77d-6d09110c6ef3\",                        [{\"customdata\": [[\"Thiago Mendes\", \"Olympique Lyon\", \"Defensive Midfield\"], [\"Lucas Tousart\", \"Hertha BSC\", \"Defensive Midfield\"], [\"Omar Mascarell\", \"FC Schalke 04\", \"Defensive Midfield\"], [\"Steven Nzonzi\", \"AS Roma\", \"Defensive Midfield\"], [\"Ibrahim Amadou\", \"Sevilla FC\", \"Defensive Midfield\"], [\"Facundo P\\u00edriz\", \"Montpellier HSC\", \"Defensive Midfield\"], [\"Francis Coquelin\", \"Villarreal CF\", \"Defensive Midfield\"], [\"Douglas Luiz\", \"Aston Villa\", \"Defensive Midfield\"], [\"Habib Ma\\u00efga\", \"FC Metz\", \"Defensive Midfield\"], [\"Marc Roca\", \"Bayern Munich\", \"Defensive Midfield\"], [\"Fabinho\", \"Liverpool FC\", \"Defensive Midfield\"], [\"Jorginho\", \"Chelsea FC\", \"Defensive Midfield\"], [\"Tom\\u00e1s Rinc\\u00f3n\", \"Torino FC\", \"Defensive Midfield\"], [\"Esteban Rol\\u00f3n\", \"Genoa CFC\", \"Defensive Midfield\"], [\"Ellyes Skhiri\", \"1. FC K\\u00f6ln\", \"Defensive Midfield\"], [\"Bryan Cristante\", \"AS Roma\", \"Defensive Midfield\"], [\"Santiago Ascac\\u00edbar\", \"Hertha BSC\", \"Defensive Midfield\"], [\"Emre Can\", \"Borussia Dortmund\", \"Defensive Midfield\"], [\"Sebastian Rudy\", \"TSG 1899 Hoffenheim\", \"Defensive Midfield\"], [\"Lucas Torreira\", \"ACF Fiorentina\", \"Defensive Midfield\"], [\"Denis Zakaria\", \"Juventus FC\", \"Defensive Midfield\"], [\"Prince Oniangu\\u00e9\", \"SM Caen\", \"Defensive Midfield\"], [\"Erick Pulgar\", \"ACF Fiorentina\", \"Defensive Midfield\"], [\"Baptiste Santamaria\", \"SC Freiburg\", \"Defensive Midfield\"], [\"Maxime Gonalons\", \"Granada CF\", \"Defensive Midfield\"], [\"\\u00c9tienne Capoue\", \"Villarreal CF\", \"Defensive Midfield\"], [\"Bryan Cristante\", \"Atalanta BC\", \"Defensive Midfield\"], [\"Diego Demme\", \"SSC Napoli\", \"Defensive Midfield\"], [\"Emre Can\", \"Borussia Dortmund\", \"Defensive Midfield\"], [\"Allan\", \"Everton FC\", \"Defensive Midfield\"], [\"Milan Badelj\", \"ACF Fiorentina\", \"Defensive Midfield\"], [\"Federico Viviani\", \"Frosinone Calcio\", \"Defensive Midfield\"], [\"Geoffrey Kondogbia\", \"Atl\\u00e9tico de Madrid\", \"Defensive Midfield\"], [\"Mirko Valdifiori\", \"SPAL\", \"Defensive Midfield\"], [\"Amadou Diawara\", \"AS Roma\", \"Defensive Midfield\"], [\"Cheikhou Kouyat\\u00e9\", \"Crystal Palace\", \"Defensive Midfield\"], [\"Boubakary Soumar\\u00e9\", \"Leicester City\", \"Defensive Midfield\"], [\"Vincent Pajot\", \"FC Metz\", \"Defensive Midfield\"], [\"Danilo Pereira\", \"Paris Saint-Germain\", \"Defensive Midfield\"], [\"Tiemou\\u00e9 Bakayoko\", \"AC Milan\", \"Defensive Midfield\"], [\"Mario Lemina\", \"OGC Nice\", \"Defensive Midfield\"], [\"Stanislav Lobotka\", \"SSC Napoli\", \"Defensive Midfield\"], [\"Sebastian Griesbeck\", \"SpVgg Greuther F\\u00fcrth\", \"Defensive Midfield\"], [\"Federico Viviani\", \"SPAL\", \"Defensive Midfield\"], [\"Tiemou\\u00e9 Bakayoko\", \"AC Milan\", \"Defensive Midfield\"], [\"Lucas Torreira\", \"Arsenal FC\", \"Defensive Midfield\"], [\"Thomas Delaney\", \"Sevilla FC\", \"Defensive Midfield\"], [\"Abdoulaye Tour\\u00e9\", \"Genoa CFC\", \"Defensive Midfield\"], [\"Jacopo Petriccione\", \"FC Crotone\", \"Defensive Midfield\"], [\"Tiemou\\u00e9 Bakayoko\", \"AS Monaco\", \"Defensive Midfield\"], [\"Thomas Partey\", \"Arsenal FC\", \"Defensive Midfield\"], [\"Vincent Pajot\", \"SCO Angers\", \"Defensive Midfield\"], [\"L\\u00e9o Sena\", \"Spezia Calcio\", \"Defensive Midfield\"], [\"Mario Lemina\", \"Fulham FC\", \"Defensive Midfield\"], [\"Rodri\", \"Atl\\u00e9tico de Madrid\", \"Defensive Midfield\"], [\"K\\u00e9vin N'Doram\", \"FC Metz\", \"Defensive Midfield\"], [\"Manuel Locatelli\", \"US Sassuolo\", \"Defensive Midfield\"], [\"Sandro Tonali\", \"AC Milan\", \"Defensive Midfield\"], [\"Walace\", \"Udinese Calcio\", \"Defensive Midfield\"], [\"Thomas Monconduit\", \"FC Lorient\", \"Defensive Midfield\"], [\"Omar Mascarell\", \"Real Madrid\", \"Defensive Midfield\"], [\"Jefferson Lerma\", \"AFC Bournemouth\", \"Defensive Midfield\"], [\"Jean-Philippe Gbamin\", \"Everton FC\", \"Defensive Midfield\"], [\"Rolando Mandragora\", \"Udinese Calcio\", \"Defensive Midfield\"], [\"Albin Ekdal\", \"UC Sampdoria\", \"Defensive Midfield\"], [\"Bryan Cristante\", \"AS Roma\", \"Defensive Midfield\"], [\"Geoffrey Kondogbia\", \"Valencia CF\", \"Defensive Midfield\"], [\"Pere Pons\", \"Deportivo Alav\\u00e9s\", \"Defensive Midfield\"], [\"Isma\\u00ebl Bennacer\", \"AC Milan\", \"Defensive Midfield\"]], \"hovertemplate\": \"position=%{customdata[2]}<br>prediction=%{x}<br>True Price=%{y}<br>player_name=%{customdata[0]}<br>club_name=%{customdata[1]}<extra></extra>\", \"legendgroup\": \"Defensive Midfield\", \"marker\": {\"color\": \"#636efa\", \"symbol\": \"circle\"}, \"mode\": \"markers\", \"name\": \"Defensive Midfield\", \"orientation\": \"v\", \"showlegend\": true, \"type\": \"scatter\", \"x\": [21.819738388061523, 25.353708267211914, 7.404417991638184, 27.289655685424805, 14.521036148071289, 1.7657729387283325, 6.856921195983887, 15.315435409545898, 1.1207144260406494, 9.567091941833496, 46.62555694580078, 59.10274887084961, 6.280040740966797, 0.10391682386398315, 6.535569190979004, 7.5242204666137695, 10.499659538269043, 24.05621337890625, 2.9468483924865723, 2.0989232063293457, 9.094311714172363, 1.1745880842208862, 12.450379371643066, 10.173352241516113, 4.274877548217773, 2.2870078086853027, 7.5242204666137695, 11.660557746887207, 1.770058274269104, 24.326885223388672, 1.7018221616744995, 1.869215965270996, 15.005260467529297, 1.2922606468200684, 21.71125602722168, 11.035061836242676, 18.915481567382812, 0.4872601628303528, 15.406505584716797, 2.24617862701416, 5.367703437805176, 21.49071502685547, 0.23677188158035278, 1.869215965270996, 5.420934200286865, 29.81361198425293, 6.311048984527588, 3.254629373550415, 1.688341498374939, 3.0057387351989746, 49.96783447265625, 1.4547908306121826, 1.9438072443008423, 2.9995951652526855, 21.05155372619629, 5.864603042602539, 13.360456466674805, 10.341170310974121, 7.161043643951416, 2.176802396774292, 7.404417991638184, 28.779640197753906, 26.26803970336914, 20.35956382751465, 2.738429546356201, 22.472797393798828, 22.811019897460938, 2.175544261932373, 17.93444061279297], \"xaxis\": \"x\", \"y\": [22.624992663027527, 25.71021893525856, 10.407484407484407, 27.735945945945947, 14.98677754677755, 1.0407484407484409, 7.28374612096727, 17.27726712449375, 1.0284087574103422, 9.232917618127528, 46.83367983367984, 59.32266112266113, 6.140415800415801, 0.104074844074844, 6.170452544462053, 5.2037422037422045, 10.284087574103422, 25.646993383687573, 0.8741474437987908, 1.5, 8.6, 0.5203742203742204, 12.64942771614721, 10.258797353475028, 4.103518941390012, 2.0517594706950057, 9.887110187110189, 10.541189763456009, 1.0284087574103422, 24.21076175420107, 0.7198861301872395, 0.3122245322245322, 15.388196030212542, 1.0407484407484409, 21.596583905617187, 11.136008316008317, 20.0, 0.7181158147432519, 16.0, 2.0, 5.5, 21.596583905617187, 0.25, 3.434469854469855, 5.2037422037422045, 29.81744282744283, 6.0, 3.5, 1.5388196030212544, 3.085226272231026, 51.293986767375145, 1.0407484407484409, 2.0, 2.2569354177645065, 20.814968814968815, 4.616458809063763, 14.397722603744793, 10.258797353475028, 6.170452544462053, 2.0517594706950057, 4.1629937629937634, 29.140956340956343, 25.71021893525856, 20.814968814968815, 2.7059459459459463, 22.624992663027527, 22.8964656964657, 2.0568175148206844, 17.688630627457886], \"yaxis\": \"y\"}, {\"customdata\": [[\"Gr\\u00e9goire Defrel\", \"UC Sampdoria\", \"Centre-Forward\"], [\"Jhon C\\u00f3rdoba\", \"Hertha BSC\", \"Centre-Forward\"], [\"Enric Gallego\", \"CA Osasuna\", \"Centre-Forward\"], [\"Wahbi Khazri\", \"AS Saint-\\u00c9tienne\", \"Centre-Forward\"], [\"Roberto Soldado\", \"Levante UD\", \"Centre-Forward\"], [\"Boulaye Dia\", \"Villarreal CF\", \"Centre-Forward\"], [\"Lys Mousset\", \"Sheffield United\", \"Centre-Forward\"], [\"\\u00c1lvaro Morata\", \"Atl\\u00e9tico de Madrid\", \"Centre-Forward\"], [\"Marco Sau\", \"UC Sampdoria\", \"Centre-Forward\"], [\"Moussa Konat\\u00e9\", \"Dijon FCO\", \"Centre-Forward\"], [\"Andr\\u00e9 Silva\", \"Eintracht Frankfurt\", \"Centre-Forward\"], [\"Manolo Gabbiadini\", \"UC Sampdoria\", \"Centre-Forward\"], [\"Diogo Jota\", \"Liverpool FC\", \"Centre-Forward\"], [\"Ignacio Pussetto\", \"Watford FC\", \"Centre-Forward\"], [\"Sergio Le\\u00f3n\", \"Levante UD\", \"Centre-Forward\"], [\"Thierry Ambrose\", \"FC Metz\", \"Centre-Forward\"], [\"Dawid Kownacki\", \"Fortuna D\\u00fcsseldorf\", \"Centre-Forward\"], [\"Roger Assal\\u00e9\", \"Dijon FCO\", \"Centre-Forward\"], [\"Taiwo Awoniyi\", \"1.FC Union Berlin\", \"Centre-Forward\"], [\"Martin Braithwaite\", \"FC Barcelona\", \"Centre-Forward\"], [\"Khouma Babacar\", \"US Lecce\", \"Centre-Forward\"], [\"Stefano Okaka\", \"Udinese Calcio\", \"Centre-Forward\"], [\"Michy Batshuayi\", \"Crystal Palace\", \"Centre-Forward\"], [\"Rub\\u00e9n Sobrino\", \"Valencia CF\", \"Centre-Forward\"], [\"Jo\\u00e3o Pedro\", \"Watford FC\", \"Centre-Forward\"], [\"Christian Kouam\\u00e9\", \"ACF Fiorentina\", \"Centre-Forward\"], [\"Lucas P\\u00e9rez\", \"West Ham United\", \"Centre-Forward\"], [\"Sebastian Andersson\", \"1. FC K\\u00f6ln\", \"Centre-Forward\"], [\"Federico Bonazzoli\", \"Torino FC\", \"Centre-Forward\"], [\"Landry Dimata\", \"RCD Espanyol Barcelona\", \"Centre-Forward\"], [\"Francesco Caputo\", \"UC Sampdoria\", \"Centre-Forward\"], [\"Sven Michel\", \"1.FC Union Berlin\", \"Centre-Forward\"], [\"Ra\\u00fal de Tom\\u00e1s\", \"RCD Espanyol Barcelona\", \"Centre-Forward\"], [\"Borja Mayoral\", \"AS Roma\", \"Centre-Forward\"], [\"Cristiano Ronaldo\", \"Manchester United\", \"Centre-Forward\"], [\"Romelu Lukaku\", \"Chelsea FC\", \"Centre-Forward\"], [\"M'Baye Niang\", \"Torino FC\", \"Centre-Forward\"], [\"\\u00c1lvaro Morata\", \"Atl\\u00e9tico de Madrid\", \"Centre-Forward\"], [\"Keita Bald\\u00e9\", \"UC Sampdoria\", \"Centre-Forward\"], [\"Luis Su\\u00e1rez\", \"Granada CF\", \"Centre-Forward\"], [\"Ante Budimir\", \"CA Osasuna\", \"Centre-Forward\"], [\"Victor Osimhen\", \"SSC Napoli\", \"Centre-Forward\"], [\"Rafa Mir\", \"Sevilla FC\", \"Centre-Forward\"], [\"Borja Mayoral\", \"Getafe CF\", \"Centre-Forward\"], [\"Enric Gallego\", \"Getafe CF\", \"Centre-Forward\"], [\"Diego Rol\\u00e1n\", \"CD Legan\\u00e9s\", \"Centre-Forward\"], [\"Maxi G\\u00f3mez\", \"Valencia CF\", \"Centre-Forward\"], [\"Keita Bald\\u00e9\", \"Inter Milan\", \"Centre-Forward\"], [\"Enzo Crivelli\", \"SM Caen\", \"Centre-Forward\"], [\"Emiliano Sala\", \"Cardiff City\", \"Centre-Forward\"], [\"Gianluca Lapadula\", \"Benevento Calcio\", \"Centre-Forward\"], [\"Carlos Vin\\u00edcius\", \"Tottenham Hotspur\", \"Centre-Forward\"], [\"Romelu Lukaku\", \"Inter Milan\", \"Centre-Forward\"], [\"Duv\\u00e1n Zapata\", \"Atalanta BC\", \"Centre-Forward\"], [\"Simone Zaza\", \"Torino FC\", \"Centre-Forward\"], [\"Matthew Hoppe\", \"RCD Mallorca\", \"Centre-Forward\"], [\"\\u00c1lvaro Morata\", \"Juventus FC\", \"Centre-Forward\"], [\"Lucas P\\u00e9rez\", \"Deportivo Alav\\u00e9s\", \"Centre-Forward\"], [\"Patrick Cutrone\", \"ACF Fiorentina\", \"Centre-Forward\"], [\"Andr\\u00e9 Silva\", \"RB Leipzig\", \"Centre-Forward\"], [\"Paco Alc\\u00e1cer\", \"Borussia Dortmund\", \"Centre-Forward\"], [\"Marcus Ingvartsen\", \"1.FSV Mainz 05\", \"Centre-Forward\"], [\"Anthony Ujah\", \"1.FC Union Berlin\", \"Centre-Forward\"], [\"Bobby Wood\", \"Hannover 96\", \"Centre-Forward\"], [\"Breel Embolo\", \"Borussia M\\u00f6nchengladbach\", \"Centre-Forward\"], [\"S\\u00e9bastien Haller\", \"West Ham United\", \"Centre-Forward\"], [\"Anastasios Donis\", \"Stade Reims\", \"Centre-Forward\"], [\"Salom\\u00f3n Rond\\u00f3n\", \"Newcastle United\", \"Centre-Forward\"], [\"Dawid Kownacki\", \"Fortuna D\\u00fcsseldorf\", \"Centre-Forward\"], [\"Jean-Philippe Mateta\", \"Crystal Palace\", \"Centre-Forward\"], [\"Gr\\u00e9goire Defrel\", \"AS Roma\", \"Centre-Forward\"], [\"Paco Alc\\u00e1cer\", \"Borussia Dortmund\", \"Centre-Forward\"], [\"M'Baye Niang\", \"Stade Rennais FC\", \"Centre-Forward\"], [\"Borja Mayoral\", \"Levante UD\", \"Centre-Forward\"], [\"Arkadiusz Milik\", \"Olympique Marseille\", \"Centre-Forward\"], [\"Andy Delort\", \"Montpellier HSC\", \"Centre-Forward\"], [\"Habib Diallo\", \"RC Strasbourg Alsace\", \"Centre-Forward\"], [\"Karlan Grant\", \"West Bromwich Albion\", \"Centre-Forward\"], [\"Borja Mayoral\", \"Levante UD\", \"Centre-Forward\"], [\"Wissam Ben Yedder\", \"AS Monaco\", \"Centre-Forward\"], [\"Patrick Cutrone\", \"Wolverhampton Wanderers\", \"Centre-Forward\"], [\"Cristiano Ronaldo\", \"Juventus FC\", \"Centre-Forward\"], [\"Jordan Ayew\", \"Crystal Palace\", \"Centre-Forward\"], [\"Andrea Petagna\", \"SPAL\", \"Centre-Forward\"], [\"Roberto Inglese\", \"Parma Calcio 1913\", \"Centre-Forward\"], [\"Luis Muriel\", \"Atalanta BC\", \"Centre-Forward\"], [\"Moise Kean\", \"Everton FC\", \"Centre-Forward\"], [\"Vedat Muriqi\", \"RCD Mallorca\", \"Centre-Forward\"], [\"Callum Wilson\", \"Newcastle United\", \"Centre-Forward\"], [\"Davie Selke\", \"SV Werder Bremen\", \"Centre-Forward\"], [\"Youssef En-Nesyri\", \"CD Legan\\u00e9s\", \"Centre-Forward\"], [\"Andy Delort\", \"OGC Nice\", \"Centre-Forward\"], [\"Andrea Pinamonti\", \"Genoa CFC\", \"Centre-Forward\"], [\"Olivier Giroud\", \"AC Milan\", \"Centre-Forward\"], [\"Patrik Schick\", \"AS Roma\", \"Centre-Forward\"], [\"Luis Muriel\", \"ACF Fiorentina\", \"Centre-Forward\"], [\"Chris Wood\", \"Newcastle United\", \"Centre-Forward\"], [\"Lucas Boy\\u00e9\", \"Elche CF\", \"Centre-Forward\"], [\"Lebo Mothiba\", \"RC Strasbourg Alsace\", \"Centre-Forward\"], [\"Ishak Belfodil\", \"Hertha BSC\", \"Centre-Forward\"], [\"Giovanni Simeone\", \"Hellas Verona\", \"Centre-Forward\"], [\"Joselu\", \"Deportivo Alav\\u00e9s\", \"Centre-Forward\"], [\"Eldor Shomurodov\", \"AS Roma\", \"Centre-Forward\"], [\"Roberto Inglese\", \"Parma Calcio 1913\", \"Centre-Forward\"], [\"Francesco Caputo\", \"US Sassuolo\", \"Centre-Forward\"], [\"Ihlas Bebou\", \"TSG 1899 Hoffenheim\", \"Centre-Forward\"], [\"Felipe Caicedo\", \"Genoa CFC\", \"Centre-Forward\"], [\"Ernesto Torregrossa\", \"UC Sampdoria\", \"Centre-Forward\"], [\"Christian Kouam\\u00e9\", \"ACF Fiorentina\", \"Centre-Forward\"], [\"Khouma Babacar\", \"US Sassuolo\", \"Centre-Forward\"], [\"Marcello Trotta\", \"Frosinone Calcio\", \"Centre-Forward\"], [\"Gr\\u00e9goire Defrel\", \"US Sassuolo\", \"Centre-Forward\"], [\"Oliver Burke\", \"Sheffield United\", \"Centre-Forward\"], [\"Michael Gregoritsch\", \"FC Schalke 04\", \"Centre-Forward\"], [\"Tammy Abraham\", \"AS Roma\", \"Centre-Forward\"], [\"Patrik Schick\", \"Bayer 04 Leverkusen\", \"Centre-Forward\"], [\"Niclas F\\u00fcllkrug\", \"SV Werder Bremen\", \"Centre-Forward\"], [\"Benito Raman\", \"FC Schalke 04\", \"Centre-Forward\"], [\"Borja Iglesias\", \"Real Betis Balompi\\u00e9\", \"Centre-Forward\"], [\"Alberto Cerri\", \"Cagliari Calcio\", \"Centre-Forward\"], [\"Emmanuel Dennis\", \"Watford FC\", \"Centre-Forward\"], [\"Lo\\u00efc R\\u00e9my\", \"LOSC Lille\", \"Centre-Forward\"], [\"Benik Afobe\", \"Wolverhampton Wanderers\", \"Centre-Forward\"], [\"Anastasios Donis\", \"Stade Reims\", \"Centre-Forward\"], [\"Danny Ings\", \"Aston Villa\", \"Centre-Forward\"], [\"Yuya Osako\", \"SV Werder Bremen\", \"Centre-Forward\"], [\"Oliver McBurnie\", \"Sheffield United\", \"Centre-Forward\"], [\"Matheus Cunha\", \"Atl\\u00e9tico de Madrid\", \"Centre-Forward\"], [\"Gianluca Lapadula\", \"Genoa CFC\", \"Centre-Forward\"], [\"Ernesto Torregrossa\", \"UC Sampdoria\", \"Centre-Forward\"], [\"Simone Zaza\", \"Torino FC\", \"Centre-Forward\"], [\"Duv\\u00e1n Zapata\", \"Atalanta BC\", \"Centre-Forward\"], [\"K\\u00e9vin Gameiro\", \"Valencia CF\", \"Centre-Forward\"], [\"Sandro Ram\\u00edrez\", \"Getafe CF\", \"Centre-Forward\"], [\"Duv\\u00e1n Zapata\", \"UC Sampdoria\", \"Centre-Forward\"], [\"Florian Niederlechner\", \"FC Augsburg\", \"Centre-Forward\"], [\"Moise Kean\", \"Juventus FC\", \"Centre-Forward\"], [\"Antonio Sanabria\", \"Genoa CFC\", \"Centre-Forward\"], [\"Martin Braithwaite\", \"CD Legan\\u00e9s\", \"Centre-Forward\"], [\"Diego Falcinelli\", \"Bologna FC 1909\", \"Centre-Forward\"], [\"Ra\\u00fal Jim\\u00e9nez\", \"Wolverhampton Wanderers\", \"Centre-Forward\"], [\"Youssef En-Nesyri\", \"Sevilla FC\", \"Centre-Forward\"], [\"Enes \\u00dcnal\", \"Getafe CF\", \"Centre-Forward\"], [\"Mauro Icardi\", \"Paris Saint-Germain\", \"Centre-Forward\"], [\"Jean-Philippe Mateta\", \"Crystal Palace\", \"Centre-Forward\"], [\"Marc Cardona\", \"CA Osasuna\", \"Centre-Forward\"], [\"Yacine Bammou\", \"SM Caen\", \"Centre-Forward\"], [\"Andrea Pinamonti\", \"Genoa CFC\", \"Centre-Forward\"], [\"Matheus Cunha\", \"Hertha BSC\", \"Centre-Forward\"], [\"Alberto Paloschi\", \"SPAL\", \"Centre-Forward\"], [\"Gonzalo Higua\\u00edn\", \"Chelsea FC\", \"Centre-Forward\"], [\"Ga\\u00ebtan Laborde\", \"Stade Rennais FC\", \"Centre-Forward\"], [\"Pedro\", \"ACF Fiorentina\", \"Centre-Forward\"], [\"Michy Batshuayi\", \"Valencia CF\", \"Centre-Forward\"], [\"Timo Werner\", \"Chelsea FC\", \"Centre-Forward\"], [\"Antonino La Gumina\", \"UC Sampdoria\", \"Centre-Forward\"], [\"Ga\\u00ebtan Laborde\", \"Montpellier HSC\", \"Centre-Forward\"], [\"Daniel Ginczek\", \"VfL Wolfsburg\", \"Centre-Forward\"], [\"Richarlison\", \"Everton FC\", \"Centre-Forward\"], [\"Florin Andone\", \"Brighton & Hove Albion\", \"Centre-Forward\"], [\"Giovanni Simeone\", \"Cagliari Calcio\", \"Centre-Forward\"]], \"hovertemplate\": \"position=%{customdata[2]}<br>prediction=%{x}<br>True Price=%{y}<br>player_name=%{customdata[0]}<br>club_name=%{customdata[1]}<extra></extra>\", \"legendgroup\": \"Centre-Forward\", \"marker\": {\"color\": \"#EF553B\", \"symbol\": \"circle\"}, \"mode\": \"markers\", \"name\": \"Centre-Forward\", \"orientation\": \"v\", \"showlegend\": true, \"type\": \"scatter\", \"x\": [8.665367126464844, 14.636281967163086, 3.9212307929992676, 7.243502616882324, 0.485334575176239, 12.038633346557617, 9.849950790405273, 19.052780151367188, 0.3239831328392029, 3.6099557876586914, 3.708983898162842, 12.256850242614746, 44.76679992675781, 8.772651672363281, 3.77883243560791, 3.087373971939087, 1.7600045204162598, 3.983410596847534, 6.705718040466309, 17.77773666381836, 1.3777467012405396, 1.0085200071334839, 1.7017167806625366, 4.89667272567749, 4.688676834106445, 1.0588265657424927, 4.613968372344971, 6.649816989898682, 1.442252516746521, 3.0970489978790283, 0.7040555477142334, 2.826063394546509, 23.18571662902832, 2.674917221069336, 15.118029594421387, 112.2849349975586, 12.100563049316406, 35.397159576416016, 1.5040477514266968, 7.1735711097717285, 7.6995415687561035, 76.61422729492188, 16.14718246459961, 0.9730271100997925, 5.918999671936035, 1.4724245071411133, 15.91907787322998, 4.998952865600586, 3.807645320892334, 17.716768264770508, 4.347397327423096, 2.9004440307617188, 75.46202087402344, 12.440072059631348, 12.34101390838623, 2.73732852935791, 20.655981063842773, 2.278002977371216, 3.681859254837036, 23.677833557128906, 21.117029190063477, 1.6875412464141846, 2.0932228565216064, 1.6959705352783203, 13.62675666809082, 50.79309844970703, 4.6246256828308105, 2.777078151702881, 5.944003105163574, 3.862809658050537, 8.665367126464844, 1.892180323600769, 14.46711540222168, 2.387883186340332, 4.237399578094482, 5.271319389343262, 9.993101119995117, 16.636974334716797, 1.775934100151062, 40.909568786621094, 18.3203182220459, 121.7955322265625, 2.917407751083374, 13.66571044921875, 3.62518572807312, 21.28493881225586, 28.220876693725586, 0.9966697096824646, 22.75604248046875, 1.2737504243850708, 6.847689151763916, 9.693432807922363, 18.27068519592285, 0.9882344007492065, 42.68028259277344, 1.4252097606658936, 29.865041732788086, 3.2748830318450928, 4.540247440338135, 1.0184481143951416, 1.8199028968811035, 2.5086822509765625, 16.168785095214844, 20.976192474365234, 7.922839641571045, 6.252265930175781, 1.9600930213928223, 0.503013014793396, 12.484549522399902, 6.968384265899658, 1.2027226686477661, 10.000391960144043, 5.404778003692627, 1.504149317741394, 39.19427490234375, 26.332212448120117, 6.833769798278809, 10.936663627624512, 28.572193145751953, 8.700663566589355, 4.603221893310547, 1.464287281036377, 10.948183059692383, 1.410203456878662, 28.621715545654297, 4.802781581878662, 19.33618927001953, 25.17545509338379, 11.725082397460938, 6.475592136383057, 2.8348617553710938, 16.831153869628906, 16.234676361083984, 1.6839765310287476, 16.831153869628906, 2.763814926147461, 7.155927658081055, 1.0035494565963745, 5.233175754547119, 6.793506145477295, 38.95189666748047, 20.370994567871094, 9.8131103515625, 51.11776351928711, 10.872604370117188, 2.7793915271759033, 2.424405813217163, 1.3475213050842285, 17.951745986938477, 5.3345627784729, 8.501856803894043, 14.372093200683594, 11.115521430969238, 2.7823848724365234, 54.251895904541016, 5.835501670837402, 4.187805652618408, 9.8035888671875, 40.839622497558594, 6.4543914794921875, 2.908736228942871], \"xaxis\": \"x\", \"y\": [1.5611226611226612, 15.388196030212542, 3.077639206042509, 7.285239085239086, 0.5, 12.0, 11.415337207254796, 18.733471933471936, 0.104074844074844, 2.4621113648340067, 3.077639206042509, 12.384906444906449, 45.85682417003338, 8.74147443798791, 4.113635029641369, 2.0517594706950057, 1.3009355509355511, 4.103518941390012, 6.5, 18.51135763338616, 1.0284087574103422, 0.5203742203742204, 1.196860706860707, 5.2037422037422045, 4.113635029641369, 1.0284087574103422, 4.57929313929314, 6.668218279758769, 1.5388196030212544, 2.2, 0.5, 2.5, 23.1391970417327, 2.564699338368757, 15.0, 113.0, 12.48898128898129, 35.9057907371626, 1.0258797353475029, 7.18115814743252, 8.0, 76.94098015106272, 16.0, 0.5, 6.170452544462053, 1.0407484407484409, 14.911926982449964, 5.2037422037422045, 3.1222453222453224, 17.692723492723495, 4.103518941390012, 3.077639206042509, 76.10224804836533, 12.340905088924108, 12.340905088924108, 3.5, 20.517594706950057, 2.3653401420437867, 3.085226272231026, 23.0, 21.596583905617187, 0.6, 2.0568175148206844, 1.248898128898129, 13.36931384633445, 51.42043787051711, 4.103518941390012, 2.28964656964657, 6.94175911251981, 3.59057907371626, 15.611226611226613, 2.0814968814968817, 15.426131361155132, 2.0568175148206844, 4.031707359915687, 4.62783940834654, 10.258797353475028, 16.927015633233797, 2.0814968814968817, 41.13635029641369, 18.51135763338616, 121.76756756756758, 2.879544520748958, 12.340905088924108, 3.1222453222453224, 21.80226565709925, 28.28124082878441, 0.5, 22.82582411148194, 1.0284087574103422, 6.244490644490645, 10.0, 20.004654839276306, 1.0, 43.71143451143452, 1.0407484407484409, 30.0, 3.0, 4.1629937629937634, 0.5, 1.5, 2.3036356165991667, 18.0, 22.364178230575565, 7.970167869930152, 8.74147443798791, 2.0, 0.5129398676737514, 11.284677088822532, 7.285239085239086, 1.144823284823285, 10.258797353475028, 6.668218279758769, 0.5142043787051711, 40.0, 27.185812986708825, 6.684656923167225, 10.284087574103422, 28.795445207489585, 9.25567881669308, 4.0, 1.4570478170478172, 11.864532224532226, 1.0284087574103422, 29.42, 4.683367983367984, 19.64260726653754, 26.0, 11.44823284823285, 6.0, 2.0814968814968817, 14.570478170478172, 16.651975051975054, 1.0, 19.253846153846155, 2.5710218935258555, 7.0, 0.5724116424116426, 5.142043787051711, 7.285239085239086, 39.079532781593, 20.568175148206844, 9.232917618127528, 51.293986767375145, 11.0, 2.5710218935258555, 2.8100207900207903, 0.5142043787051711, 18.51135763338616, 4.1629937629937634, 8.117837837837838, 15.0, 11.312496331513763, 3.1222453222453224, 54.37162597341765, 5.5, 3.1222453222453224, 10.407484407484407, 40.79733887733889, 6.244490644490645, 3.085226272231026], \"yaxis\": \"y\"}, {\"customdata\": [[\"Moi G\\u00f3mez\", \"Villarreal CF\", \"Left Winger\"], [\"Ramadan Sobhi\", \"Huddersfield Town\", \"Left Winger\"], [\"Na\\u00efm Sliti\", \"Dijon FCO\", \"Left Winger\"], [\"Jadon Sancho\", \"Manchester United\", \"Left Winger\"], [\"Casimir Ninga\", \"SCO Angers\", \"Left Winger\"], [\"Musa Barrow\", \"Bologna FC 1909\", \"Left Winger\"], [\"Stephy Mavididi\", \"Montpellier HSC\", \"Left Winger\"], [\"Rafael Le\\u00e3o\", \"AC Milan\", \"Left Winger\"], [\"Antonino Ragusa\", \"Hellas Verona\", \"Left Winger\"], [\"Moussa Diaby\", \"Bayer 04 Leverkusen\", \"Left Winger\"], [\"Leroy San\\u00e9\", \"Bayern Munich\", \"Left Winger\"], [\"Yann Karamoh\", \"Inter Milan\", \"Left Winger\"], [\"Demarai Gray\", \"Bayer 04 Leverkusen\", \"Left Winger\"], [\"Thorgan Hazard\", \"Borussia Dortmund\", \"Left Winger\"], [\"Karl Toko Ekambi\", \"Villarreal CF\", \"Left Winger\"], [\"Nicola Sansone\", \"Bologna FC 1909\", \"Left Winger\"], [\"Darwin Mach\\u00eds\", \"Granada CF\", \"Left Winger\"], [\"Steven Zuber\", \"VfB Stuttgart\", \"Left Winger\"], [\"Vincenzo Grifo\", \"SC Freiburg\", \"Left Winger\"], [\"Demarai Gray\", \"Everton FC\", \"Left Winger\"], [\"Takashi Inui\", \"SD Eibar\", \"Left Winger\"], [\"Paulinho\", \"Bayer 04 Leverkusen\", \"Left Winger\"], [\"Daniel James\", \"Leeds United\", \"Left Winger\"], [\"Vincenzo Grifo\", \"SC Freiburg\", \"Left Winger\"], [\"Marcus Thuram\", \"Borussia M\\u00f6nchengladbach\", \"Left Winger\"], [\"Allan Saint-Maximin\", \"Newcastle United\", \"Left Winger\"], [\"Karl Toko Ekambi\", \"Olympique Lyon\", \"Left Winger\"], [\"Beb\\u00e9\", \"Rayo Vallecano\", \"Left Winger\"], [\"Ademola Lookman\", \"RB Leipzig\", \"Left Winger\"], [\"Jacob Bruun Larsen\", \"TSG 1899 Hoffenheim\", \"Left Winger\"], [\"Pablo de Blasis\", \"SD Eibar\", \"Left Winger\"], [\"Myziane Maolida\", \"OGC Nice\", \"Left Winger\"], [\"Casimir Ninga\", \"SM Caen\", \"Left Winger\"], [\"Yann Karamoh\", \"Parma Calcio 1913\", \"Left Winger\"], [\"Yannick Carrasco\", \"Atl\\u00e9tico de Madrid\", \"Left Winger\"], [\"Jack Harrison\", \"Leeds United\", \"Left Winger\"], [\"Eden Hazard\", \"Real Madrid\", \"Left Winger\"], [\"Nicol\\u00e1s Gonz\\u00e1lez\", \"ACF Fiorentina\", \"Left Winger\"], [\"Josip Brekalo\", \"Torino FC\", \"Left Winger\"], [\"Jack Grealish\", \"Manchester City\", \"Left Winger\"], [\"Keita Endo\", \"1.FC Union Berlin\", \"Left Winger\"], [\"Philippe Coutinho\", \"Bayern Munich\", \"Left Winger\"], [\"Martin Terrier\", \"Stade Rennais FC\", \"Left Winger\"], [\"Alex Iwobi\", \"Everton FC\", \"Left Winger\"], [\"Gerard Deulofeu\", \"Watford FC\", \"Left Winger\"], [\"Leon Bailey\", \"Aston Villa\", \"Left Winger\"], [\"\\u00c1lvaro Vadillo\", \"RCD Espanyol Barcelona\", \"Left Winger\"], [\"Yoane Wissa\", \"Brentford FC\", \"Left Winger\"], [\"Ademola Lookman\", \"Fulham FC\", \"Left Winger\"], [\"Adama Diakhaby\", \"Huddersfield Town\", \"Left Winger\"], [\"Max Gradel\", \"FC Toulouse\", \"Left Winger\"], [\"Wesley Sa\\u00efd\", \"FC Toulouse\", \"Left Winger\"], [\"Valentin Mihaila\", \"Atalanta BC\", \"Left Winger\"], [\"Gon\\u00e7alo Guedes\", \"Valencia CF\", \"Left Winger\"], [\"Lucas Ocampos\", \"Sevilla FC\", \"Left Winger\"], [\"Denis Cheryshev\", \"Valencia CF\", \"Left Winger\"], [\"Justin Kluivert\", \"RB Leipzig\", \"Left Winger\"], [\"\\u00c1lex Berenguer\", \"Athletic Bilbao\", \"Left Winger\"], [\"Fabio Borini\", \"AC Milan\", \"Left Winger\"]], \"hovertemplate\": \"position=%{customdata[2]}<br>prediction=%{x}<br>True Price=%{y}<br>player_name=%{customdata[0]}<br>club_name=%{customdata[1]}<extra></extra>\", \"legendgroup\": \"Left Winger\", \"marker\": {\"color\": \"#00cc96\", \"symbol\": \"circle\"}, \"mode\": \"markers\", \"name\": \"Left Winger\", \"orientation\": \"v\", \"showlegend\": true, \"type\": \"scatter\", \"x\": [3.6175382137298584, 6.913358211517334, 2.095477342605591, 85.12621307373047, 3.3410754203796387, 13.99394416809082, 6.7484660148620605, 30.07777976989746, 1.5679829120635986, 14.950233459472656, 60.45054244995117, 6.446639060974121, 2.918442964553833, 26.026430130004883, 19.017831802368164, 7.782333850860596, 5.5122270584106445, 1.7034412622451782, 1.409388542175293, 2.7578518390655518, 2.319627285003662, 18.9769344329834, 25.740478515625, 6.726360321044922, 9.84130859375, 19.07933235168457, 11.670478820800781, 1.0174647569656372, 19.120880126953125, 8.7041654586792, 1.9640272855758667, 10.052628517150879, 2.0626325607299805, 9.511581420898438, 25.68631935119629, 12.81304931640625, 118.23346710205078, 22.37790298461914, 2.2684526443481445, 117.13060760498047, 2.6934351921081543, 8.779731750488281, 12.128511428833008, 31.163591384887695, 13.380555152893066, 31.83662986755371, 2.1817328929901123, 10.108702659606934, 3.204457998275757, 9.505437850952148, 2.337439775466919, 7.962010860443115, 1.9200268983840942, 41.57414627075195, 15.406386375427246, 5.5212602615356445, 1.603603720664978, 11.074827194213867, 5.530531883239746], \"xaxis\": \"x\", \"y\": [1.336931384633445, 6.764864864864865, 2.0814968814968817, 85.0, 3.085226272231026, 14.5, 6.463042332689268, 30.33805834360509, 1.0284087574103422, 15.426131361155132, 61.55278412085017, 6.764864864864865, 2.0517594706950057, 26.22442331396373, 18.733471933471936, 8.227270059282738, 5.142043787051711, 0.6244490644490645, 0.6244490644490645, 2.0, 2.0568175148206844, 19.253846153846155, 29.1, 7.198861301872396, 9.25567881669308, 18.51135763338616, 11.797616956496285, 0.7805613305613306, 18.51135763338616, 9.25567881669308, 2.0814968814968817, 10.407484407484407, 2.0814968814968817, 8.207037882780023, 27.698752854382576, 12.8, 118.26700710218935, 23.5, 1.0, 117.5, 0.9, 8.74147443798791, 12.310556824170035, 31.2636262252744, 13.52972972972973, 32.0, 1.8, 10.0, 2.0517594706950057, 10.407484407484407, 2.0814968814968817, 8.227270059282738, 1.0, 41.62993762993764, 15.426131361155132, 6.170452544462053, 1.0258797353475029, 12.310556824170035, 5.724116424116425], \"yaxis\": \"y\"}, {\"customdata\": [[\"Mattia Sprocati\", \"Parma Calcio 1913\", \"Right Winger\"], [\"Iv\\u00e1n Alejo\", \"Getafe CF\", \"Right Winger\"], [\"Anwar El Ghazi\", \"Aston Villa\", \"Right Winger\"], [\"H\\u00e9lder Costa\", \"Leeds United\", \"Right Winger\"], [\"Rony Lopes\", \"Sevilla FC\", \"Right Winger\"], [\"Mathieu Dossevi\", \"FC Toulouse\", \"Right Winger\"], [\"Riccardo Orsolini\", \"Bologna FC 1909\", \"Right Winger\"], [\"Emanuel Vignato\", \"Bologna FC 1909\", \"Right Winger\"], [\"Marco Richter\", \"Hertha BSC\", \"Right Winger\"], [\"Adam Ounas\", \"OGC Nice\", \"Right Winger\"], [\"Francisco Trinc\\u00e3o\", \"Wolverhampton Wanderers\", \"Right Winger\"], [\"Cengiz \\u00dcnder\", \"Olympique Marseille\", \"Right Winger\"], [\"Felipe Anderson\", \"West Ham United\", \"Right Winger\"], [\"Milot Rashica\", \"Norwich City\", \"Right Winger\"], [\"Marius Wolf\", \"Hertha BSC\", \"Right Winger\"], [\"Felipe Anderson\", \"SS Lazio\", \"Right Winger\"], [\"Alexis Saelemaekers\", \"AC Milan\", \"Right Winger\"], [\"Riyad Mahrez\", \"Manchester City\", \"Right Winger\"], [\"Douglas Costa\", \"Juventus FC\", \"Right Winger\"], [\"Samuel Kalu\", \"Watford FC\", \"Right Winger\"], [\"Martin Harnik\", \"SV Werder Bremen\", \"Right Winger\"], [\"Malcom\", \"FC Barcelona\", \"Right Winger\"], [\"Franck Honorat\", \"Stade Brestois 29\", \"Right Winger\"], [\"Isaac Mbenza\", \"Huddersfield Town\", \"Right Winger\"], [\"Emiliano Rigoni\", \"UC Sampdoria\", \"Right Winger\"], [\"Alexander Esswein\", \"VfB Stuttgart\", \"Right Winger\"], [\"Suso\", \"Sevilla FC\", \"Right Winger\"], [\"Suso\", \"Sevilla FC\", \"Right Winger\"], [\"Mehdi L\\u00e9ris\", \"UC Sampdoria\", \"Right Winger\"], [\"Andr\\u00e9 Hahn\", \"FC Augsburg\", \"Right Winger\"], [\"Takuma Asano\", \"Hannover 96\", \"Right Winger\"], [\"Daniele Verde\", \"Spezia Calcio\", \"Right Winger\"], [\"Nicolas P\\u00e9p\\u00e9\", \"Arsenal FC\", \"Right Winger\"], [\"Takefusa Kubo\", \"Villarreal CF\", \"Right Winger\"], [\"Matteo Politano\", \"SSC Napoli\", \"Right Winger\"], [\"Matteo Politano\", \"Inter Milan\", \"Right Winger\"], [\"Junior Messias\", \"AC Milan\", \"Right Winger\"], [\"Samuel Grandsir\", \"AS Monaco\", \"Right Winger\"], [\"Anthony Knockaert\", \"Fulham FC\", \"Right Winger\"], [\"Andriy Yarmolenko\", \"West Ham United\", \"Right Winger\"], [\"Federico Chiesa\", \"Juventus FC\", \"Right Winger\"], [\"Rachid Ghezzal\", \"Leicester City\", \"Right Winger\"], [\"Matteo Politano\", \"SSC Napoli\", \"Right Winger\"], [\"Carles P\\u00e9rez\", \"AS Roma\", \"Right Winger\"], [\"Chadrac Akolo\", \"Amiens SC\", \"Right Winger\"], [\"Yannis Salibur\", \"RCD Mallorca\", \"Right Winger\"], [\"Xherdan Shaqiri\", \"Olympique Lyon\", \"Right Winger\"], [\"Pablo Sarabia\", \"Paris Saint-Germain\", \"Right Winger\"], [\"Daniele Verde\", \"Spezia Calcio\", \"Right Winger\"], [\"Cengiz \\u00dcnder\", \"Leicester City\", \"Right Winger\"], [\"Harrison Manzala\", \"SCO Angers\", \"Right Winger\"], [\"Romain Del Castillo\", \"Stade Brestois 29\", \"Right Winger\"], [\"Fabi\\u00e1n Orellana\", \"SD Eibar\", \"Right Winger\"], [\"Robert Snodgrass\", \"West Bromwich Albion\", \"Right Winger\"], [\"Sada Thioub\", \"SCO Angers\", \"Right Winger\"], [\"Takefusa Kubo\", \"Getafe CF\", \"Right Winger\"], [\"Samu Castillejo\", \"AC Milan\", \"Right Winger\"], [\"Felix Klaus\", \"VfL Wolfsburg\", \"Right Winger\"], [\"Marcus Coco\", \"FC Nantes\", \"Right Winger\"], [\"Bertrand Traor\\u00e9\", \"Aston Villa\", \"Right Winger\"]], \"hovertemplate\": \"position=%{customdata[2]}<br>prediction=%{x}<br>True Price=%{y}<br>player_name=%{customdata[0]}<br>club_name=%{customdata[1]}<extra></extra>\", \"legendgroup\": \"Right Winger\", \"marker\": {\"color\": \"#ab63fa\", \"symbol\": \"circle\"}, \"mode\": \"markers\", \"name\": \"Right Winger\", \"orientation\": \"v\", \"showlegend\": true, \"type\": \"scatter\", \"x\": [2.6912600994110107, 4.052888870239258, 9.060277938842773, 17.167131423950195, 24.7722110748291, 2.6518099308013916, 15.457866668701172, 1.1130545139312744, 7.21375036239624, 2.218618392944336, 6.254749774932861, 0.9388799071311951, 39.60764694213867, 11.052112579345703, 3.402188301086426, 3.1410977840423584, 5.703765392303467, 70.52767181396484, 41.626548767089844, 3.4731123447418213, 2.63958740234375, 42.75261306762695, 4.911859512329102, 2.785555601119995, 0.5395328402519226, 0.9008260369300842, 0.627358078956604, 21.77371597290039, 2.799513578414917, 2.9502782821655273, 1.6546794176101685, 0.44459009170532227, 81.95088958740234, 1.3926057815551758, 21.72165870666504, 5.118054389953613, 2.6277668476104736, 3.768427848815918, 11.573331832885742, 20.35686683654785, 12.984630584716797, 13.229609489440918, 3.2159671783447266, 13.1848726272583, 0.471531480550766, 2.191476821899414, 6.469645977020264, 17.89173126220703, 0.6265767812728882, 3.1663496494293213, 1.8732681274414062, 1.372127652168274, 2.477689027786255, 0.1658134162425995, 3.6951639652252197, 1.3926057815551758, 23.054868698120117, 4.156588554382324, 3.027947425842285, 18.112951278686523], \"xaxis\": \"x\", \"y\": [3.085226272231026, 4.1629937629937634, 9.25567881669308, 18.1580713156508, 25.71021893525856, 2.6018711018711023, 15.426131361155132, 1.1312496331513766, 7.1, 2.262499266302753, 6.0, 0.5, 39.548440748440754, 11.0, 2.0568175148206844, 3.0, 5.385868610574391, 70.56274428274429, 41.62993762993764, 3.0, 2.341683991683992, 42.67068607068608, 5.129398676737514, 2.6018711018711023, 0.5142043787051711, 0.4162993762993763, 1.0078405822621352, 21.54347444229756, 2.879544520748958, 3.1222453222453224, 1.0407484407484409, 0.2051759470695006, 82.27270059282738, 1.2823496691843783, 21.0, 5.2037422037422045, 2.6, 3.1222453222453224, 12.002792903565783, 20.814968814968815, 12.926084665378536, 14.570478170478172, 2.5710218935258555, 13.336436559517535, 0.5142043787051711, 2.0568175148206844, 6.0, 18.51135763338616, 0.6, 3.59057907371626, 1.0407484407484409, 1.5, 2.0814968814968817, 0.1128467708882253, 3.5994306509361977, 1.2823496691843783, 22.167941787941796, 3.1222453222453224, 3.085226272231026, 18.87618713039405], \"yaxis\": \"y\"}, {\"customdata\": [[\"Alfred Duncan\", \"ACF Fiorentina\", \"Central Midfield\"], [\"V\\u00edctor Camarasa\", \"Crystal Palace\", \"Central Midfield\"], [\"Rafinha\", \"Celta de Vigo\", \"Central Midfield\"], [\"Francesco Cassata\", \"Genoa CFC\", \"Central Midfield\"], [\"Marco Benassi\", \"Hellas Verona\", \"Central Midfield\"], [\"Lukas Rupp\", \"Norwich City\", \"Central Midfield\"], [\"Fabian Delph\", \"Everton FC\", \"Central Midfield\"], [\"Ilaix Moriba\", \"RB Leipzig\", \"Central Midfield\"], [\"Florent Mollet\", \"Montpellier HSC\", \"Central Midfield\"], [\"Flavien Tait\", \"Stade Rennais FC\", \"Central Midfield\"], [\"Tristan Dingom\\u00e9\", \"Stade Reims\", \"Central Midfield\"], [\"Emil Hallfre\\u00f0sson\", \"Frosinone Calcio\", \"Central Midfield\"], [\"Stefano Sensi\", \"Inter Milan\", \"Central Midfield\"], [\"Weston McKennie\", \"Juventus FC\", \"Central Midfield\"], [\"Franck Kessi\\u00e9\", \"AC Milan\", \"Central Midfield\"], [\"Dennis Praet\", \"Torino FC\", \"Central Midfield\"], [\"Dominik Kohr\", \"Eintracht Frankfurt\", \"Central Midfield\"], [\"Fay\\u00e7al Fajr\", \"SM Caen\", \"Central Midfield\"], [\"Wylan Cyprien\", \"Parma Calcio 1913\", \"Central Midfield\"], [\"Vicente Iborra\", \"Villarreal CF\", \"Central Midfield\"], [\"Raman Chibsah\", \"Frosinone Calcio\", \"Central Midfield\"], [\"Suat Serdar\", \"FC Schalke 04\", \"Central Midfield\"], [\"Marcos Llorente\", \"Atl\\u00e9tico de Madrid\", \"Central Midfield\"], [\"Nabil Bentaleb\", \"Newcastle United\", \"Central Midfield\"], [\"Sofian Kiyine\", \"SS Lazio\", \"Central Midfield\"], [\"Jordan Veretout\", \"AS Roma\", \"Central Midfield\"], [\"Marko Rog\", \"Cagliari Calcio\", \"Central Midfield\"], [\"Marko Rog\", \"Sevilla FC\", \"Central Midfield\"], [\"Soualiho Me\\u00eft\\u00e9\", \"Torino FC\", \"Central Midfield\"], [\"Rafinha\", \"Paris Saint-Germain\", \"Central Midfield\"], [\"Morgan Sanson\", \"Aston Villa\", \"Central Midfield\"], [\"Alberto Grassi\", \"Parma Calcio 1913\", \"Central Midfield\"], [\"Alfred Duncan\", \"ACF Fiorentina\", \"Central Midfield\"], [\"Soualiho Me\\u00eft\\u00e9\", \"AC Milan\", \"Central Midfield\"], [\"Kevin Strootman\", \"Olympique Marseille\", \"Central Midfield\"], [\"Pierre Lees-Melou\", \"Norwich City\", \"Central Midfield\"], [\"Ronaldo Vieira\", \"Hellas Verona\", \"Central Midfield\"], [\"Arturo Vidal\", \"FC Barcelona\", \"Central Midfield\"], [\"Sebastian Rode\", \"Eintracht Frankfurt\", \"Central Midfield\"], [\"Kouadio Kon\\u00e9\", \"Borussia M\\u00f6nchengladbach\", \"Central Midfield\"], [\"Zaydou Youssouf\", \"AS Saint-\\u00c9tienne\", \"Central Midfield\"], [\"Roque Mesa\", \"Sevilla FC\", \"Central Midfield\"], [\"Mikel Merino\", \"Real Sociedad\", \"Central Midfield\"], [\"Mattia Valoti\", \"SPAL\", \"Central Midfield\"], [\"Andr\\u00e9 Gomes\", \"Everton FC\", \"Central Midfield\"], [\"Antonin Bobichon\", \"SCO Angers\", \"Central Midfield\"], [\"Guessouma Fofana\", \"EA Guingamp\", \"Central Midfield\"], [\"Jordan Veretout\", \"AS Roma\", \"Central Midfield\"], [\"Marko Rog\", \"Cagliari Calcio\", \"Central Midfield\"], [\"Edimilson Fernandes\", \"ACF Fiorentina\", \"Central Midfield\"], [\"Arne Maier\", \"Arminia Bielefeld\", \"Central Midfield\"], [\"Cesc F\\u00e0bregas\", \"AS Monaco\", \"Central Midfield\"], [\"Youssouf Fofana\", \"AS Monaco\", \"Central Midfield\"], [\"Giovani Lo Celso\", \"Tottenham Hotspur\", \"Central Midfield\"], [\"Luca Mazzitelli\", \"Genoa CFC\", \"Central Midfield\"], [\"Afriyie Acquah\", \"Empoli FC\", \"Central Midfield\"], [\"Carles Ale\\u00f1\\u00e1\", \"Getafe CF\", \"Central Midfield\"], [\"Recio\", \"CD Legan\\u00e9s\", \"Central Midfield\"], [\"Bryan Dabo\", \"Benevento Calcio\", \"Central Midfield\"], [\"Joel Obi\", \"Chievo Verona\", \"Central Midfield\"], [\"Jordan Ferri\", \"Montpellier HSC\", \"Central Midfield\"], [\"Manu Morlanes\", \"Villarreal CF\", \"Central Midfield\"], [\"Jonas Martin\", \"Stade Rennais FC\", \"Central Midfield\"], [\"Giovanni Crociata\", \"FC Empoli\", \"Central Midfield\"], [\"Eduardo Camavinga\", \"Real Madrid\", \"Central Midfield\"], [\"Valentin Rongier\", \"Olympique Marseille\", \"Central Midfield\"], [\"Dennis Praet\", \"Leicester City\", \"Central Midfield\"], [\"Yves Bissouma\", \"Brighton & Hove Albion\", \"Central Midfield\"], [\"Sergi Darder\", \"RCD Espanyol Barcelona\", \"Central Midfield\"], [\"Robert Andrich\", \"Bayer 04 Leverkusen\", \"Central Midfield\"], [\"Moussa Sissoko\", \"Watford FC\", \"Central Midfield\"], [\"Jo\\u00e3o Moutinho\", \"Wolverhampton Wanderers\", \"Central Midfield\"], [\"Rodrigo Bentancur\", \"Tottenham Hotspur\", \"Central Midfield\"], [\"Suat Serdar\", \"Hertha BSC\", \"Central Midfield\"], [\"Lukas Lerager\", \"Genoa CFC\", \"Central Midfield\"], [\"Stefano Sturaro\", \"Genoa CFC\", \"Central Midfield\"], [\"Xavier Chavalerin\", \"ESTAC Troyes\", \"Central Midfield\"], [\"Aaron Mooy\", \"Brighton & Hove Albion\", \"Central Midfield\"], [\"Kevin M\\u00f6hwald\", \"1.FC Union Berlin\", \"Central Midfield\"], [\"Gerson\", \"ACF Fiorentina\", \"Central Midfield\"], [\"Stefano Sturaro\", \"Genoa CFC\", \"Central Midfield\"], [\"Philip Billing\", \"AFC Bournemouth\", \"Central Midfield\"], [\"Giovani Lo Celso\", \"Real Betis Balompi\\u00e9\", \"Central Midfield\"], [\"Sergio \\u00c1lvarez\", \"SD Eibar\", \"Central Midfield\"], [\"Alessandro Murgia\", \"SPAL\", \"Central Midfield\"], [\"Abdoulaye Doucour\\u00e9\", \"Everton FC\", \"Central Midfield\"], [\"Sofian Kiyine\", \"Venezia FC\", \"Central Midfield\"], [\"J\\u00e9r\\u00f4me Gondorf\", \"SC Freiburg\", \"Central Midfield\"], [\"Mehdi Bourabia\", \"Spezia Calcio\", \"Central Midfield\"], [\"Valon Berisha\", \"Stade Reims\", \"Central Midfield\"], [\"Weston McKennie\", \"Juventus FC\", \"Central Midfield\"], [\"Joan Jord\\u00e1n\", \"Sevilla FC\", \"Central Midfield\"], [\"Dale Stephens\", \"Burnley FC\", \"Central Midfield\"], [\"Maximilian Eggestein\", \"SC Freiburg\", \"Central Midfield\"], [\"Mikel Merino\", \"Newcastle United\", \"Central Midfield\"], [\"Sa\\u00fal \\u00d1\\u00edguez\", \"Chelsea FC\", \"Central Midfield\"], [\"Mauro Arambarri\", \"Getafe CF\", \"Central Midfield\"], [\"Matt\\u00e9o Guendouzi\", \"Hertha BSC\", \"Central Midfield\"], [\"Daniel Wass\", \"Atl\\u00e9tico de Madrid\", \"Central Midfield\"], [\"Karol Linetty\", \"Torino FC\", \"Central Midfield\"], [\"Eddy Gnahor\\u00e9\", \"Amiens SC\", \"Central Midfield\"], [\"Naby Ke\\u00efta\", \"Liverpool FC\", \"Central Midfield\"], [\"Daniel Wass\", \"Valencia CF\", \"Central Midfield\"], [\"Renato Sanches\", \"LOSC Lille\", \"Central Midfield\"], [\"Pedro Obiang\", \"US Sassuolo\", \"Central Midfield\"], [\"Gonzalo Castro\", \"VfB Stuttgart\", \"Central Midfield\"], [\"T\\u00e9ji Savanier\", \"Montpellier HSC\", \"Central Midfield\"], [\"Alfred Duncan\", \"Cagliari Calcio\", \"Central Midfield\"]], \"hovertemplate\": \"position=%{customdata[2]}<br>prediction=%{x}<br>True Price=%{y}<br>player_name=%{customdata[0]}<br>club_name=%{customdata[1]}<extra></extra>\", \"legendgroup\": \"Central Midfield\", \"marker\": {\"color\": \"#FFA15A\", \"symbol\": \"circle\"}, \"mode\": \"markers\", \"name\": \"Central Midfield\", \"orientation\": \"v\", \"showlegend\": true, \"type\": \"scatter\", \"x\": [14.831243515014648, 1.8182837963104248, 1.6586252450942993, 6.825788497924805, 1.8773256540298462, 0.5574184060096741, 9.966559410095215, 16.184654235839844, 2.295010805130005, 9.089926719665527, 1.2275060415267944, 0.7370843887329102, 23.851558685302734, 19.31572151184082, 24.595788955688477, 0.8440454006195068, 7.765904426574707, 1.2107869386672974, 1.8979301452636719, 9.350499153137207, 1.33140230178833, 11.218400955200195, 30.259172439575195, 3.2335753440856934, 1.1671136617660522, 18.013072967529297, 2.0541059970855713, 0.6418980360031128, 12.57314395904541, 2.4960203170776367, 15.391265869140625, 7.399731636047363, 3.3769068717956543, 1.1639684438705444, 24.53108787536621, 4.106753826141357, 1.1192318201065063, 18.578121185302734, 3.6461968421936035, 9.35639476776123, 2.2882089614868164, 6.29218053817749, 9.794473648071289, 4.011748313903809, 24.05658531188965, 2.195730209350586, 1.105460524559021, 1.4639949798583984, 14.480460166931152, 1.5044946670532227, 2.5118026733398438, 9.359901428222656, 14.807923316955566, 17.07897186279297, 1.4099011421203613, 1.166534662246704, 5.338963985443115, 1.0913747549057007, 1.0453065633773804, 2.3953137397766113, 2.5356645584106445, 4.600543975830078, 5.345632076263428, 1.2478251457214355, 31.017763137817383, 12.848203659057617, 20.192638397216797, 17.671342849731445, 8.425600051879883, 5.797509670257568, 3.3705594539642334, 5.699658393859863, 18.643953323364258, 7.604916095733643, 5.787075996398926, 1.5811561346054077, 1.3233869075775146, 3.8107972145080566, 0.9379854798316956, 0.6323085427284241, 15.603693962097168, 14.85338306427002, 22.717878341674805, 4.063819408416748, 3.872774600982666, 22.640945434570312, 0.6859510540962219, 0.8163847923278809, 0.5348886847496033, 4.689545154571533, 6.256202697753906, 13.999631881713867, 1.4824331998825073, 6.044096946716309, 9.794473648071289, 5.0757670402526855, 2.4882912635803223, 2.693315029144287, 2.128650188446045, 8.1946439743042, 2.3058481216430664, 62.21253967285156, 6.125317573547363, 20.163829803466797, 6.327732563018799, 5.054327011108398, 9.817206382751465, 1.4798057079315186], \"xaxis\": \"x\", \"y\": [15.388196030212542, 1.542613136115513, 1.542613136115513, 7.18115814743252, 0.8207037882780024, 0.5142043787051711, 9.76988319539825, 16.0, 2.7059459459459463, 9.25567881669308, 1.0407484407484409, 0.5203742203742204, 25.646993383687573, 20.5, 24.681810177848213, 1.0, 8.74147443798791, 1.5611226611226612, 1.5388196030212544, 10.407484407484407, 1.0407484407484409, 11.44823284823285, 30.852262722310265, 1.0284087574103422, 1.0284087574103422, 17.9528953685813, 2.0568175148206844, 0.5203742203742204, 11.96860706860707, 1.5388196030212544, 16.208899818490547, 8.6686837636864, 2.0568175148206844, 0.5129398676737514, 26.01871101871102, 3.9, 0.7694098015106272, 18.733471933471936, 4.113635029641369, 9.232917618127528, 2.0568175148206844, 6.244490644490645, 12.48898128898129, 3.085226272231026, 25.71021893525856, 1.542613136115513, 1.0407484407484409, 1.0284087574103422, 15.388196030212542, 0.9002474012474013, 0.5129398676737514, 9.366735966735968, 15.426131361155132, 16.454540118565475, 1.0407484407484409, 1.0407484407484409, 5.0, 1.5611226611226612, 0.5129398676737514, 2.0814968814968817, 2.0568175148206844, 4.0, 4.113635029641369, 1.0, 31.0, 13.36931384633445, 19.74544814227857, 17.484573804573806, 8.325987525987527, 6.5, 3.5, 5.828191268191269, 19.0, 8.0, 6.170452544462053, 1.5611226611226612, 1.0, 3.393748899454129, 1.0, 0.0957488565488565, 16.968744497270645, 16.968744497270645, 22.624992663027527, 4.1629937629937634, 4.113635029641369, 22.569354177645064, 0.4, 1.3529729729729731, 0.5, 4.616458809063763, 4.616458809063763, 14.397722603744793, 1.1284677088822532, 5.0, 7.285239085239086, 5.0, 2.237609147609148, 1.0258797353475029, 2.7, 7.694098015106271, 2.5710218935258555, 62.44490644490645, 6.244490644490645, 20.568175148206844, 7.455963491224981, 5.2037422037422045, 9.76988319539825, 1.0258797353475029], \"yaxis\": \"y\"}, {\"customdata\": [[\"Mattia Bani\", \"Parma Calcio 1913\", \"Centre-Back\"], [\"Mohamed Simakan\", \"RB Leipzig\", \"Centre-Back\"], [\"Germ\\u00e1n Pezzella\", \"Real Betis Balompi\\u00e9\", \"Centre-Back\"], [\"Federico Ceccherini\", \"Hellas Verona\", \"Centre-Back\"], [\"Lamine Kon\\u00e9\", \"RC Strasbourg Alsace\", \"Centre-Back\"], [\"Ibrahima Konat\\u00e9\", \"Liverpool FC\", \"Centre-Back\"], [\"Harry Maguire\", \"Manchester United\", \"Centre-Back\"], [\"Mattia Caldara\", \"Atalanta BC\", \"Centre-Back\"], [\"Craig Dawson\", \"Watford FC\", \"Centre-Back\"], [\"Cristian Romero\", \"Atalanta BC\", \"Centre-Back\"], [\"Dan Burn\", \"Newcastle United\", \"Centre-Back\"], [\"Jeison Murillo\", \"Valencia CF\", \"Centre-Back\"], [\"Sergi G\\u00f3mez\", \"RCD Espanyol Barcelona\", \"Centre-Back\"], [\"Jon\\u00e1s Ramalho\", \"CA Osasuna\", \"Centre-Back\"], [\"Maximilian W\\u00f6ber\", \"Sevilla FC\", \"Centre-Back\"], [\"Lucas Hern\\u00e1ndez\", \"Bayern Munich\", \"Centre-Back\"], [\"Chris Smalling\", \"AS Roma\", \"Centre-Back\"], [\"Dayot Upamecano\", \"Bayern Munich\", \"Centre-Back\"], [\"Gianluca Mancini\", \"AS Roma\", \"Centre-Back\"], [\"Marcel Tisserand\", \"VfL Wolfsburg\", \"Centre-Back\"], [\"Issa Diop\", \"West Ham United\", \"Centre-Back\"], [\"Timoth\\u00e9e Kolodziejczak\", \"AS Saint-\\u00c9tienne\", \"Centre-Back\"], [\"Fikayo Tomori\", \"AC Milan\", \"Centre-Back\"], [\"Mattia Caldara\", \"AC Milan\", \"Centre-Back\"], [\"Kevin Akpoguma\", \"Hannover 96\", \"Centre-Back\"], [\"Leonardo Balerdi\", \"Olympique Marseille\", \"Centre-Back\"], [\"Mats Hummels\", \"Borussia Dortmund\", \"Centre-Back\"], [\"Naldo\", \"AS Monaco\", \"Centre-Back\"], [\"Wesley Fofana\", \"Leicester City\", \"Centre-Back\"], [\"Alfie Mawson\", \"Fulham FC\", \"Centre-Back\"], [\"Merih Demiral\", \"Atalanta BC\", \"Centre-Back\"], [\"Carlos Salcedo\", \"Eintracht Frankfurt\", \"Centre-Back\"], [\"Ozan Kabak\", \"FC Schalke 04\", \"Centre-Back\"], [\"Yerry Mina\", \"Everton FC\", \"Centre-Back\"], [\"Jules Kound\\u00e9\", \"Sevilla FC\", \"Centre-Back\"], [\"Gabriel\", \"Arsenal FC\", \"Centre-Back\"], [\"Joris Gnagnon\", \"Sevilla FC\", \"Centre-Back\"], [\"Laurent Koscielny\", \"FC Girondins Bordeaux\", \"Centre-Back\"], [\"Marvin Friedrich\", \"Borussia M\\u00f6nchengladbach\", \"Centre-Back\"], [\"Martin Erlic\", \"US Sassuolo\", \"Centre-Back\"], [\"Kevin Danso\", \"Southampton FC\", \"Centre-Back\"], [\"\\u00d6mer Toprak\", \"SV Werder Bremen\", \"Centre-Back\"], [\"Craig Dawson\", \"West Ham United\", \"Centre-Back\"], [\"Jonny Evans\", \"Leicester City\", \"Centre-Back\"], [\"Karim Rekik\", \"Sevilla FC\", \"Centre-Back\"], [\"Chris Smalling\", \"AS Roma\", \"Centre-Back\"], [\"Salif San\\u00e9\", \"FC Schalke 04\", \"Centre-Back\"], [\"Philipp Lienhart\", \"SC Freiburg\", \"Centre-Back\"], [\"Felipe\", \"Atl\\u00e9tico de Madrid\", \"Centre-Back\"], [\"Fernando Calero\", \"RCD Espanyol Barcelona\", \"Centre-Back\"], [\"Koray G\\u00fcnter\", \"Hellas Verona\", \"Centre-Back\"], [\"Danilo\", \"Bologna FC 1909\", \"Centre-Back\"], [\"Mart\\u00edn C\\u00e1ceres\", \"Juventus FC\", \"Centre-Back\"], [\"Armando Izzo\", \"Torino FC\", \"Centre-Back\"], [\"Lilian Brassier\", \"Stade Brestois 29\", \"Centre-Back\"], [\"Jeison Murillo\", \"FC Barcelona\", \"Centre-Back\"], [\"Cristian Romero\", \"Atalanta BC\", \"Centre-Back\"], [\"Joachim Andersen\", \"Olympique Lyon\", \"Centre-Back\"], [\"Luca Rossettini\", \"US Lecce\", \"Centre-Back\"], [\"Kenneth Omeruo\", \"CD Legan\\u00e9s\", \"Centre-Back\"], [\"Marash Kumbulla\", \"AS Roma\", \"Centre-Back\"], [\"Cristian Romero\", \"Juventus FC\", \"Centre-Back\"], [\"Sebastien De Maio\", \"Udinese Calcio\", \"Centre-Back\"], [\"Pascal Stenzel\", \"VfB Stuttgart\", \"Centre-Back\"], [\"Ozan Kabak\", \"Norwich City\", \"Centre-Back\"], [\"Molla Wagu\\u00e9\", \"FC Nantes\", \"Centre-Back\"], [\"Ben White\", \"Arsenal FC\", \"Centre-Back\"], [\"Adama Soumaoro\", \"Bologna FC 1909\", \"Centre-Back\"], [\"Daniele Rugani\", \"Stade Rennais FC\", \"Centre-Back\"], [\"Marco Friedl\", \"SV Werder Bremen\", \"Centre-Back\"], [\"Kevin Vogt\", \"SV Werder Bremen\", \"Centre-Back\"], [\"Marash Kumbulla\", \"AS Roma\", \"Centre-Back\"], [\"Guillermo Marip\\u00e1n\", \"AS Monaco\", \"Centre-Back\"], [\"Nathan Ak\\u00e9\", \"Manchester City\", \"Centre-Back\"], [\"Robin Koch\", \"Leeds United\", \"Centre-Back\"], [\"Federico Ceccherini\", \"ACF Fiorentina\", \"Centre-Back\"], [\"William Saliba\", \"Arsenal FC\", \"Centre-Back\"], [\"Jannik Vestergaard\", \"Leicester City\", \"Centre-Back\"], [\"Ozan Kabak\", \"Liverpool FC\", \"Centre-Back\"], [\"Rapha\\u00ebl Varane\", \"Manchester United\", \"Centre-Back\"], [\"Martin Hinteregger\", \"Eintracht Frankfurt\", \"Centre-Back\"], [\"Riccardo Gagliolo\", \"US Salernitana 1919\", \"Centre-Back\"], [\"Martin Hinteregger\", \"Eintracht Frankfurt\", \"Centre-Back\"], [\"Christophe H\\u00e9relle\", \"Stade Brestois 29\", \"Centre-Back\"], [\"\\u00c1lvaro Gonz\\u00e1lez\", \"Olympique Marseille\", \"Centre-Back\"], [\"Kevin Wimmer\", \"Hannover 96\", \"Centre-Back\"], [\"Gianluca Mancini\", \"AS Roma\", \"Centre-Back\"], [\"Dominique Heintz\", \"1.FC Union Berlin\", \"Centre-Back\"], [\"Julian Chabot\", \"Spezia Calcio\", \"Centre-Back\"], [\"Ragnar Klavan\", \"Cagliari Calcio\", \"Centre-Back\"], [\"Giangiacomo Magnani\", \"Hellas Verona\", \"Centre-Back\"], [\"Lorenzo Tonelli\", \"UC Sampdoria\", \"Centre-Back\"], [\"Leandro Cabrera\", \"RCD Espanyol Barcelona\", \"Centre-Back\"], [\"Jean-Clair Todibo\", \"OGC Nice\", \"Centre-Back\"], [\"Ardian Ismajli\", \"FC Empoli\", \"Centre-Back\"], [\"Fabian Sch\\u00e4r\", \"Newcastle United\", \"Centre-Back\"], [\"Wesley Hoedt\", \"SS Lazio\", \"Centre-Back\"], [\"Bj\\u00f6rn Engels\", \"Stade Reims\", \"Centre-Back\"], [\"Joachim Andersen\", \"Fulham FC\", \"Centre-Back\"], [\"Rick van Drongelen\", \"1.FC Union Berlin\", \"Centre-Back\"], [\"Josip Elez\", \"Hannover 96\", \"Centre-Back\"], [\"Francesco Acerbi\", \"SS Lazio\", \"Centre-Back\"], [\"Thilo Kehrer\", \"Paris Saint-Germain\", \"Centre-Back\"], [\"Danilo\", \"Bologna FC 1909\", \"Centre-Back\"], [\"Joachim Andersen\", \"Crystal Palace\", \"Centre-Back\"], [\"Ben Godfrey\", \"Everton FC\", \"Centre-Back\"], [\"Kurt Zouma\", \"West Ham United\", \"Centre-Back\"], [\"Luca Kilian\", \"1. FC K\\u00f6ln\", \"Centre-Back\"], [\"Sokratis Papastathopoulos\", \"Arsenal FC\", \"Centre-Back\"], [\"Alex Ferrari\", \"UC Sampdoria\", \"Centre-Back\"], [\"Craig Dawson\", \"West Ham United\", \"Centre-Back\"], [\"Bj\\u00f6rn Engels\", \"Aston Villa\", \"Centre-Back\"], [\"Matteo Lovato\", \"Atalanta BC\", \"Centre-Back\"], [\"Daniele Rugani\", \"Cagliari Calcio\", \"Centre-Back\"], [\"Dominique Heintz\", \"SC Freiburg\", \"Centre-Back\"], [\"Kurt Zouma\", \"Everton FC\", \"Centre-Back\"], [\"Lorenzo Tonelli\", \"FC Empoli\", \"Centre-Back\"], [\"Pablo Insua\", \"SD Huesca\", \"Centre-Back\"], [\"Ignasi Miquel\", \"Getafe CF\", \"Centre-Back\"], [\"Mattia Bani\", \"Genoa CFC\", \"Centre-Back\"], [\"Kevin Danso\", \"RC Lens\", \"Centre-Back\"], [\"Bartosz Salamon\", \"SPAL\", \"Centre-Back\"], [\"Mattia Bani\", \"Bologna FC 1909\", \"Centre-Back\"], [\"Koffi Djidji\", \"Torino FC\", \"Centre-Back\"], [\"Leandro Cabrera\", \"Getafe CF\", \"Centre-Back\"], [\"Nayef Aguerd\", \"Stade Rennais FC\", \"Centre-Back\"], [\"Reece Oxford\", \"FC Augsburg\", \"Centre-Back\"], [\"Leonardo Bonucci\", \"Juventus FC\", \"Centre-Back\"], [\"Diego Llorente\", \"Leeds United\", \"Centre-Back\"], [\"Sidnei\", \"Real Betis Balompi\\u00e9\", \"Centre-Back\"], [\"Cl\\u00e9ment Lenglet\", \"FC Barcelona\", \"Centre-Back\"], [\"Ben Davies\", \"Liverpool FC\", \"Centre-Back\"], [\"Merih Demiral\", \"Juventus FC\", \"Centre-Back\"], [\"Julian Chabot\", \"1. FC K\\u00f6ln\", \"Centre-Back\"], [\"Gerzino Nyamsi\", \"RC Strasbourg Alsace\", \"Centre-Back\"], [\"Christophe H\\u00e9relle\", \"OGC Nice\", \"Centre-Back\"], [\"Filippo Romagna\", \"US Sassuolo\", \"Centre-Back\"], [\"Mario Hermoso\", \"Atl\\u00e9tico de Madrid\", \"Centre-Back\"], [\"Terence Kongolo\", \"Fulham FC\", \"Centre-Back\"], [\"Sebastiano Luperto\", \"FC Empoli\", \"Centre-Back\"], [\"Kaan Ayhan\", \"US Sassuolo\", \"Centre-Back\"], [\"Kevin Bonifazi\", \"Bologna FC 1909\", \"Centre-Back\"], [\"Marco Capuano\", \"Frosinone Calcio\", \"Centre-Back\"], [\"Kevin Bonifazi\", \"Udinese Calcio\", \"Centre-Back\"], [\"Marlon\", \"US Sassuolo\", \"Centre-Back\"], [\"Facundo Roncaglia\", \"CA Osasuna\", \"Centre-Back\"], [\"Adama Soumaoro\", \"Bologna FC 1909\", \"Centre-Back\"], [\"Erick Cabaco\", \"Getafe CF\", \"Centre-Back\"], [\"Federico Fern\\u00e1ndez\", \"Newcastle United\", \"Centre-Back\"], [\"Edoardo Goldaniga\", \"Cagliari Calcio\", \"Centre-Back\"], [\"Mouctar Diakhaby\", \"Valencia CF\", \"Centre-Back\"], [\"Jeison Murillo\", \"Celta de Vigo\", \"Centre-Back\"], [\"Merih Demiral\", \"US Sassuolo\", \"Centre-Back\"]], \"hovertemplate\": \"position=%{customdata[2]}<br>prediction=%{x}<br>True Price=%{y}<br>player_name=%{customdata[0]}<br>club_name=%{customdata[1]}<extra></extra>\", \"legendgroup\": \"Centre-Back\", \"marker\": {\"color\": \"#19d3f3\", \"symbol\": \"circle\"}, \"mode\": \"markers\", \"name\": \"Centre-Back\", \"orientation\": \"v\", \"showlegend\": true, \"type\": \"scatter\", \"x\": [1.2783631086349487, 15.9108304977417, 3.747145175933838, 3.0617799758911133, 1.358180046081543, 38.16138458251953, 88.88330841064453, 1.1074457168579102, 6.333162307739258, 16.330570220947266, 13.721861839294434, 7.018901348114014, 1.021440863609314, 0.7482450604438782, 9.636763572692871, 79.46430969238281, 15.237200736999512, 42.28853225708008, 3.3121285438537598, 5.349966526031494, 25.922412872314453, 5.682891368865967, 27.726123809814453, 37.57241439819336, 0.15604721009731293, 10.761180877685547, 31.300512313842773, 1.9641762971878052, 36.240562438964844, 17.66980743408203, 3.6021697521209717, 4.73997163772583, 14.793306350708008, 30.790924072265625, 25.71320915222168, 26.645183563232422, 14.02436351776123, 5.073342323303223, 5.610587120056152, 3.4482555389404297, 5.230774879455566, 1.5298640727996826, 2.0819311141967773, 5.10756254196167, 2.064333438873291, 3.6322379112243652, 7.531414985656738, 2.3994596004486084, 19.958881378173828, 8.666257858276367, 1.967149019241333, 0.4694400727748871, 0.35807672142982483, 10.268670082092285, 3.245760679244995, 7.018901348114014, 3.1766574382781982, 24.532073974609375, 0.03895403444766998, 5.066300392150879, 26.333194732666016, 32.02259063720703, 0.961430549621582, 1.2384892702102661, 3.928795576095581, 1.7375290393829346, 57.72047805786133, 0.25458434224128723, 2.006882905960083, 3.4452576637268066, 0.8249342441558838, 3.4527032375335693, 17.746440887451172, 46.19561004638672, 12.809228897094727, 3.796800374984741, 31.214691162109375, 16.837635040283203, 1.5286818742752075, 39.72528839111328, 0.8798373937606812, 2.9315004348754883, 8.72409725189209, 5.837677478790283, 4.005310535430908, 1.747285008430481, 20.959976196289062, 0.6196340918540955, 0.19812315702438354, 1.613174319267273, 4.318299293518066, 0.2154632955789566, 8.392501831054688, 8.21036148071289, 3.055842399597168, 4.349579334259033, 2.458052396774292, 6.219760417938232, 1.9265220165252686, 0.873390257358551, 2.4308104515075684, 12.589250564575195, 38.31795883178711, 0.6878214478492737, 16.802919387817383, 27.862823486328125, 33.842498779296875, 0.673621416091919, 16.75882911682129, 4.223762512207031, 1.1838175058364868, 6.219760417938232, 8.092429161071777, 0.7401089072227478, 3.566408157348633, 8.166318893432617, 0.887274980545044, -0.09334142506122589, 5.2453413009643555, 4.636706829071045, 5.190673351287842, 2.091278076171875, 3.0790610313415527, 3.0803308486938477, 0.08918005973100662, 3.9555881023406982, 2.1069743633270264, 36.51972579956055, 20.103607177734375, 4.686043739318848, 37.31601333618164, 2.071814775466919, 20.207805633544922, 1.4028702974319458, 1.776119589805603, 4.945364475250244, 4.838928699493408, 24.900299072265625, 4.414339542388916, 0.7216143012046814, 3.345280408859253, 5.8425612449646, 0.39232996106147766, 1.041954517364502, 12.769286155700684, 0.31910082697868347, 2.077117919921875, 7.955149173736572, 6.906787395477295, 0.4998877942562103, 15.611750602722168, 1.0885933637619019, 8.29195499420166], \"xaxis\": \"x\", \"y\": [1.5388196030212544, 15.0, 3.5, 3.0, 1.542613136115513, 40.0, 89.47156189469978, 0.925567881669308, 6.170452544462053, 16.0, 15.0, 12.48898128898129, 1.0, 0.7, 10.798291952808594, 82.27270059282738, 15.388196030212542, 42.5, 2.0568175148206844, 7.285239085239086, 26.01871101871102, 4.616458809063763, 28.8, 38.37239501039501, 0.2289646569646569, 11.0, 31.36646710101544, 2.0814968814968817, 35.9057907371626, 17.53661122661123, 3.0, 5.2037422037422045, 15.426131361155132, 31.482640332640337, 25.71021893525856, 26.672873119035074, 14.050103950103953, 5.142043787051711, 5.5, 3.5, 4.113635029641369, 1.0284087574103422, 2.3, 4.1629937629937634, 2.0517594706950057, 3.085226272231026, 7.285239085239086, 2.0814968814968817, 20.568175148206844, 8.227270059282738, 2.0517594706950057, 0.426789634325292, 0.6244490644490645, 11.136008316008317, 2.0, 1.248898128898129, 2.3800409860062066, 24.681810177848213, 0.5142043787051711, 5.142043787051711, 26.5, 32.39487585842578, 1.542613136115513, 1.3336436559517535, 4.0, 1.2340905088924106, 58.5, 0.1795289536858129, 1.0874325194683532, 3.5994306509361977, 0.7713065680577567, 3.077639206042509, 18.51135763338616, 46.472352011241874, 13.336436559517535, 3.7466943866943874, 30.852262722310265, 17.6, 1.1284677088822532, 40.0, 0.8325987525987527, 2.0, 9.25567881669308, 4.103518941390012, 4.103518941390012, 1.5611226611226612, 21.54347444229756, 0.15, 0.2051759470695006, 1.5819376299376302, 4.0, 0.5203742203742204, 9.25567881669308, 8.5, 2.0, 4.1629937629937634, 1.0258797353475029, 4.113635029641369, 1.0258797353475029, 0.5, 2.6018711018711023, 12.48898128898129, 38.50769230769231, 0.4319106029106029, 17.5, 28.21169272205633, 35.0, 0.25, 16.651975051975054, 3.702271526677232, 1.1284677088822532, 8.227270059282738, 8.0, 0.8207037882780024, 3.1222453222453224, 8.221912681912682, 1.0, 0.2564699338368757, 5.2037422037422045, 5.129398676737514, 5.5, 2.0814968814968817, 2.7767036450079243, 3.085226272231026, 0.6244490644490645, 4.103518941390012, 2.0568175148206844, 36.42619542619543, 20.517594706950057, 4.683367983367984, 37.36286902286903, 1.8978775103928804, 20.053970769501674, 0.3, 1.5, 5.2037422037422045, 4.103518941390012, 25.71021893525856, 4.513870835529013, 0.5, 2.564699338368757, 6.0, 0.5203742203742204, 1.0258797353475029, 12.48898128898129, 0.2571021893525855, 2.5, 8.227270059282738, 6.973014553014554, 0.4, 15.611226611226613, 1.0284087574103422, 8.227270059282738], \"yaxis\": \"y\"}, {\"customdata\": [[\"Arkadiusz Reca\", \"FC Crotone\", \"Left-Back\"], [\"Jetro Willems\", \"Newcastle United\", \"Left-Back\"], [\"Aar\\u00f3n Mart\\u00edn\", \"1.FSV Mainz 05\", \"Left-Back\"], [\"Luca Netz\", \"Borussia M\\u00f6nchengladbach\", \"Left-Back\"], [\"Marc Cucurella\", \"Getafe CF\", \"Left-Back\"], [\"Ludwig Augustinsson\", \"Sevilla FC\", \"Left-Back\"], [\"Pervis Estupi\\u00f1\\u00e1n\", \"Villarreal CF\", \"Left-Back\"], [\"Danny Rose\", \"Newcastle United\", \"Left-Back\"], [\"Aleksandar Kolarov\", \"Inter Milan\", \"Left-Back\"], [\"J\\u00e9r\\u00f4me Roussillon\", \"VfL Wolfsburg\", \"Left-Back\"], [\"Antonio Barreca\", \"AS Monaco\", \"Left-Back\"], [\"Bernardo\", \"Brighton & Hove Albion\", \"Left-Back\"], [\"Junior Firpo\", \"Leeds United\", \"Left-Back\"], [\"Nacho Monreal\", \"Real Sociedad\", \"Left-Back\"], [\"Cristian Ansaldi\", \"Torino FC\", \"Left-Back\"], [\"Cristian Dell'Orco\", \"US Lecce\", \"Left-Back\"], [\"Johan Mojica\", \"Atalanta BC\", \"Left-Back\"], [\"Souleyman Doumbia\", \"SCO Angers\", \"Left-Back\"], [\"Leonardo Spinazzola\", \"AS Roma\", \"Left-Back\"], [\"Junior Firpo\", \"FC Barcelona\", \"Left-Back\"], [\"Melvin Bard\", \"OGC Nice\", \"Left-Back\"], [\"Nico Schulz\", \"Borussia Dortmund\", \"Left-Back\"], [\"Antonio Barreca\", \"Newcastle United\", \"Left-Back\"], [\"Youssouf Kon\\u00e9\", \"Olympique Lyon\", \"Left-Back\"], [\"Ismail Jakobs\", \"AS Monaco\", \"Left-Back\"], [\"Emerson\", \"Olympique Lyon\", \"Left-Back\"], [\"Erik Pieters\", \"Burnley FC\", \"Left-Back\"], [\"Marc Cucurella\", \"SD Eibar\", \"Left-Back\"], [\"Hamza Mendyl\", \"FC Schalke 04\", \"Left-Back\"], [\"Aar\\u00f3n Mart\\u00edn\", \"1.FSV Mainz 05\", \"Left-Back\"], [\"Mitchel Bakker\", \"Bayer 04 Leverkusen\", \"Left-Back\"], [\"Ferland Mendy\", \"Real Madrid\", \"Left-Back\"], [\"Jonathan Silva\", \"Getafe CF\", \"Left-Back\"], [\"Diego Laxalt\", \"AC Milan\", \"Left-Back\"], [\"Ashley Young\", \"Inter Milan\", \"Left-Back\"], [\"Johan Mojica\", \"Girona FC\", \"Left-Back\"], [\"Jamal Lewis\", \"Newcastle United\", \"Left-Back\"], [\"Juan Bernat\", \"Paris Saint-Germain\", \"Left-Back\"], [\"Hassane Kamara\", \"OGC Nice\", \"Left-Back\"], [\"Diego Laxalt\", \"Torino FC\", \"Left-Back\"], [\"Ramy Bensebaini\", \"Borussia M\\u00f6nchengladbach\", \"Left-Back\"], [\"Lionel Carole\", \"RC Strasbourg Alsace\", \"Left-Back\"], [\"Diego Rico\", \"AFC Bournemouth\", \"Left-Back\"], [\"Fod\\u00e9 Ballo-Tour\\u00e9\", \"AS Monaco\", \"Left-Back\"], [\"Abdou Diallo\", \"Borussia Dortmund\", \"Left-Back\"], [\"Matt Targett\", \"Aston Villa\", \"Left-Back\"], [\"Diego Rico\", \"Real Sociedad\", \"Left-Back\"], [\"Vitorino Antunes\", \"Getafe CF\", \"Left-Back\"], [\"Hassane Kamara\", \"Watford FC\", \"Left-Back\"], [\"Rog\\u00e9rio\", \"US Sassuolo\", \"Left-Back\"], [\"Bruno Martella\", \"Brescia Calcio\", \"Left-Back\"], [\"Theo Hern\\u00e1ndez\", \"AC Milan\", \"Left-Back\"], [\"Jonathan Silva\", \"CD Legan\\u00e9s\", \"Left-Back\"], [\"Ben Chilwell\", \"Chelsea FC\", \"Left-Back\"], [\"Adam Masina\", \"Watford FC\", \"Left-Back\"], [\"Johan Mojica\", \"Elche CF\", \"Left-Back\"], [\"Ricardo Rodr\\u00edguez\", \"Torino FC\", \"Left-Back\"], [\"Fod\\u00e9 Ballo-Tour\\u00e9\", \"AC Milan\", \"Left-Back\"], [\"Marc Cucurella\", \"FC Barcelona\", \"Left-Back\"], [\"Marvin Zeegelaar\", \"Udinese Calcio\", \"Left-Back\"], [\"Lucas Digne\", \"Everton FC\", \"Left-Back\"], [\"Jordan Amavi\", \"Olympique Marseille\", \"Left-Back\"]], \"hovertemplate\": \"position=%{customdata[2]}<br>prediction=%{x}<br>True Price=%{y}<br>player_name=%{customdata[0]}<br>club_name=%{customdata[1]}<extra></extra>\", \"legendgroup\": \"Left-Back\", \"marker\": {\"color\": \"#FF6692\", \"symbol\": \"circle\"}, \"mode\": \"markers\", \"name\": \"Left-Back\", \"orientation\": \"v\", \"showlegend\": true, \"type\": \"scatter\", \"x\": [0.45960646867752075, 2.3395702838897705, 6.5874481201171875, 1.7257893085479736, 11.634061813354492, 4.152988910675049, 16.808198928833008, 2.0603621006011963, 1.4483567476272583, 5.606842994689941, 6.043282985687256, 10.936198234558105, 14.669257164001465, 1.4174225330352783, 2.3403334617614746, 0.3140678405761719, 0.6780838370323181, 3.32718825340271, 28.097639083862305, 18.977256774902344, 2.647491693496704, 26.43221664428711, 6.043282985687256, 9.238112449645996, 7.197364330291748, 1.4397714138031006, 1.492375135421753, 3.0912258625030518, 6.293247222900391, 3.3332037925720215, 7.752717971801758, 47.28367233276367, 2.084472179412842, 19.300540924072266, 1.6560182571411133, 5.4608659744262695, 15.466836929321289, 5.119978904724121, 3.0674428939819336, 1.147118091583252, 8.308164596557617, 2.345004081726074, 15.395940780639648, 10.940958976745605, 28.699769973754883, 15.620182991027832, 0.5323836803436279, 2.6527345180511475, 3.452890157699585, 7.452926158905029, 0.6643555164337158, 20.343196868896484, 3.2382423877716064, 50.29146957397461, 5.127267360687256, 1.403886318206787, 3.0285770893096924, 6.5553879737854, 3.0912258625030518, 0.24872374534606934, 21.15544319152832, 8.923055648803711], \"xaxis\": \"x\", \"y\": [0.1025879735347503, 1.0284087574103422, 6.170452544462053, 2.0, 12.105380877100536, 5.5, 16.824427659699047, 2.0568175148206844, 1.5388196030212544, 5.2037422037422045, 10.407484407484407, 10.407484407484407, 15.0, 0.2571021893525855, 2.5710218935258555, 0.2571021893525855, 0.5334574623807015, 3.077639206042509, 30.33805834360509, 20.568175148206844, 3.0, 26.22442331396373, 1.196860706860707, 9.25567881669308, 6.5, 0.5, 1.1312496331513766, 2.0568175148206844, 6.244490644490645, 3.1222453222453224, 7.0, 49.363620355696426, 2.5, 19.774220374220377, 1.7482948875975817, 5.2037422037422045, 16.927015633233797, 5.2037422037422045, 4.103518941390012, 0.5142043787051711, 8.227270059282738, 0.7805613305613306, 15.611226611226613, 11.44823284823285, 29.140956340956343, 15.940335739860304, 0.5, 2.6018711018711023, 4.0, 7.147440864001879, 0.8227270059282739, 22.11078828432236, 2.7767036450079243, 51.49916271444464, 5.2037422037422045, 1.2, 2.0004654839276306, 5.0, 4.113635029641369, 0.3122245322245322, 21.023118503118503, 10.407484407484407], \"yaxis\": \"y\"}, {\"customdata\": [[\"Roberto Rosales\", \"CD Legan\\u00e9s\", \"Right-Back\"], [\"Emil Krafth\", \"Amiens SC\", \"Right-Back\"], [\"Ola Aina\", \"Fulham FC\", \"Right-Back\"], [\"Allan Nyom\", \"Getafe CF\", \"Right-Back\"], [\"Matteo Darmian\", \"Inter Milan\", \"Right-Back\"], [\"Giovanni Di Lorenzo\", \"SSC Napoli\", \"Right-Back\"], [\"Kieran Trippier\", \"Atl\\u00e9tico de Madrid\", \"Right-Back\"], [\"Juan Foyth\", \"Villarreal CF\", \"Right-Back\"], [\"Alessandro Florenzi\", \"AC Milan\", \"Right-Back\"], [\"Emil Krafth\", \"Newcastle United\", \"Right-Back\"], [\"Arnaud Souquet\", \"Montpellier HSC\", \"Right-Back\"], [\"Pablo Maffeo\", \"RCD Mallorca\", \"Right-Back\"], [\"Davide Zappacosta\", \"Atalanta BC\", \"Right-Back\"], [\"Djibril Sidib\\u00e9\", \"Everton FC\", \"Right-Back\"], [\"Michael Lang\", \"SV Werder Bremen\", \"Right-Back\"], [\"Fabio Depaoli\", \"UC Sampdoria\", \"Right-Back\"], [\"Sergi Palencia\", \"AS Saint-\\u00c9tienne\", \"Right-Back\"], [\"Vincent Laurini\", \"ACF Fiorentina\", \"Right-Back\"], [\"\\u00c1lvaro Odriozola\", \"Real Madrid\", \"Right-Back\"], [\"Achraf Hakimi\", \"Inter Milan\", \"Right-Back\"], [\"Danilo\", \"Juventus FC\", \"Right-Back\"], [\"Pol Lirola\", \"Olympique Marseille\", \"Right-Back\"], [\"Almamy Tour\\u00e9\", \"Eintracht Frankfurt\", \"Right-Back\"], [\"Takehiro Tomiyasu\", \"Arsenal FC\", \"Right-Back\"], [\"Pol Lirola\", \"ACF Fiorentina\", \"Right-Back\"], [\"Fabrizio Cacciatore\", \"Cagliari Calcio\", \"Right-Back\"], [\"Mart\\u00edn Montoya\", \"Brighton & Hove Albion\", \"Right-Back\"], [\"Diogo Dalot\", \"AC Milan\", \"Right-Back\"], [\"Federico Mattiello\", \"Cagliari Calcio\", \"Right-Back\"], [\"Marc Navarro\", \"Watford FC\", \"Right-Back\"], [\"Fabrizio Cacciatore\", \"Cagliari Calcio\", \"Right-Back\"], [\"Patrick Burner\", \"N\\u00eemes Olympique\", \"Right-Back\"], [\"Davide Santon\", \"AS Roma\", \"Right-Back\"], [\"Mitchell Weiser\", \"Bayer 04 Leverkusen\", \"Right-Back\"], [\"Dimitri Foulquier\", \"Granada CF\", \"Right-Back\"], [\"Nordi Mukiele\", \"RB Leipzig\", \"Right-Back\"], [\"Brandon Soppy\", \"Udinese Calcio\", \"Right-Back\"], [\"Timothy Castagne\", \"Leicester City\", \"Right-Back\"], [\"Miguel Lay\\u00fan\", \"Villarreal CF\", \"Right-Back\"], [\"Pedro Porro\", \"Manchester City\", \"Right-Back\"], [\"Achraf Hakimi\", \"Paris Saint-Germain\", \"Right-Back\"], [\"Dimitri Foulquier\", \"Valencia CF\", \"Right-Back\"], [\"Bryan Reynolds\", \"AS Roma\", \"Right-Back\"], [\"Benjamin Henrichs\", \"AS Monaco\", \"Right-Back\"], [\"Vincent Laurini\", \"Parma Calcio 1913\", \"Right-Back\"], [\"Manuel Lazzari\", \"SS Lazio\", \"Right-Back\"], [\"Alessandro Florenzi\", \"Paris Saint-Germain\", \"Right-Back\"], [\"Ola Aina\", \"Torino FC\", \"Right-Back\"], [\"Silvan Widmer\", \"1.FSV Mainz 05\", \"Right-Back\"], [\"Ezequiel Schelotto\", \"Chievo Verona\", \"Right-Back\"], [\"Jeremy Toljan\", \"US Sassuolo\", \"Right-Back\"], [\"Ximo Navarro\", \"Deportivo Alav\\u00e9s\", \"Right-Back\"], [\"Matteo Darmian\", \"Parma Calcio 1913\", \"Right-Back\"], [\"Santiago Arias\", \"Bayer 04 Leverkusen\", \"Right-Back\"], [\"Davide Faraoni\", \"Hellas Verona\", \"Right-Back\"], [\"C\\u00e9dric Soares\", \"Inter Milan\", \"Right-Back\"], [\"Timothy Fosu-Mensah\", \"Bayer 04 Leverkusen\", \"Right-Back\"], [\"Valentino Lazaro\", \"Inter Milan\", \"Right-Back\"], [\"Aleix Vidal\", \"Sevilla FC\", \"Right-Back\"], [\"Rona\\u00ebl Pierre-Gabriel\", \"AS Monaco\", \"Right-Back\"], [\"Jo\\u00e3o Cancelo\", \"Manchester City\", \"Right-Back\"], [\"Pablo Maffeo\", \"VfB Stuttgart\", \"Right-Back\"], [\"Matt Doherty\", \"Tottenham Hotspur\", \"Right-Back\"], [\"Lukas Kl\\u00fcnter\", \"Hertha BSC\", \"Right-Back\"], [\"Benjamin Henrichs\", \"RB Leipzig\", \"Right-Back\"], [\"Federico Mattiello\", \"Bologna FC 1909\", \"Right-Back\"], [\"Pol Lirola\", \"ACF Fiorentina\", \"Right-Back\"], [\"Rona\\u00ebl Pierre-Gabriel\", \"1.FSV Mainz 05\", \"Right-Back\"], [\"Saidy Janko\", \"Real Valladolid CF\", \"Right-Back\"], [\"Kieran Trippier\", \"Newcastle United\", \"Right-Back\"], [\"Junior Sambia\", \"Montpellier HSC\", \"Right-Back\"], [\"Juanfran\", \"CD Legan\\u00e9s\", \"Right-Back\"], [\"Kelvin Amian\", \"Spezia Calcio\", \"Right-Back\"]], \"hovertemplate\": \"position=%{customdata[2]}<br>prediction=%{x}<br>True Price=%{y}<br>player_name=%{customdata[0]}<br>club_name=%{customdata[1]}<extra></extra>\", \"legendgroup\": \"Right-Back\", \"marker\": {\"color\": \"#B6E880\", \"symbol\": \"circle\"}, \"mode\": \"markers\", \"name\": \"Right-Back\", \"orientation\": \"v\", \"showlegend\": true, \"type\": \"scatter\", \"x\": [0.6543727517127991, 3.735374689102173, 3.479111671447754, 2.849839210510254, 2.3433022499084473, 7.992514610290527, 22.452451705932617, 14.905131340026855, 0.8450729250907898, 5.4001240730285645, 3.031019449234009, 1.8205742835998535, 8.280064582824707, 3.5752272605895996, 0.6110736131668091, 4.948766708374023, 2.261446952819824, 1.9308208227157593, 30.99254608154297, 45.18061828613281, 36.77920150756836, 6.187429904937744, 1.2850452661514282, 18.15340805053711, 11.641764640808105, 0.4876880645751953, 7.13635778427124, 0.9039937257766724, 1.8558765649795532, 2.4033660888671875, 0.8831080794334412, 1.7708790302276611, 9.885988235473633, 12.625432014465332, 2.5146262645721436, 16.529468536376953, 1.825147032737732, 20.610694885253906, 4.117371082305908, 12.204575538635254, 65.60928344726562, 2.7465054988861084, 6.904905319213867, 17.923358917236328, 0.7955471277236938, 15.30795669555664, 0.5926924347877502, 9.981761932373047, 2.2094428539276123, 0.4880458116531372, 3.0391294956207275, 1.8257555961608887, 2.194406509399414, 2.9766571521759033, 0.34105369448661804, 0.43199867010116577, 1.8778142929077148, 23.248939514160156, 9.41698932647705, 6.333086967468262, 64.70978546142578, 8.771507263183594, 17.252962112426758, 3.3742597103118896, 13.779522895812988, 0.9473221302032471, 3.4238102436065674, 4.9709882736206055, 2.341585397720337, 14.63473892211914, 1.929263949394226, 0.6068247556686401, 3.755030870437622], \"xaxis\": \"x\", \"y\": [1.2340905088924106, 2.0568175148206844, 2.564699338368757, 3.085226272231026, 3.3, 8.227270059282738, 22.624992663027527, 15.0, 1.0, 5.553407290015849, 2.879544520748958, 0.5, 9.0, 2.5710218935258555, 0.6170452544462053, 4.62783940834654, 2.0568175148206844, 1.6651975051975054, 31.222453222453225, 44.11282861994263, 38.05112402418266, 6.5, 0.7805613305613306, 18.6, 11.284677088822532, 0.104074844074844, 7.285239085239086, 0.5129398676737514, 0.6170452544462053, 2.0814968814968817, 0.8227270059282739, 1.5388196030212544, 9.887110187110189, 12.48898128898129, 2.0517594706950057, 16.651975051975054, 2.0, 20.517594706950057, 4.1629937629937634, 12.340905088924108, 66.5, 2.5, 6.75, 20.814968814968815, 0.4524998532605506, 15.426131361155132, 0.5129398676737514, 10.078405822621354, 2.5, 0.2289646569646569, 3.5, 1.5611226611226612, 2.550453718377649, 3.077639206042509, 0.3085226272231026, 0.5203742203742204, 1.743995550090755, 23.036356165991663, 9.6789604989605, 6.244490644490645, 66.84656923167225, 9.366735966735968, 17.23477955383805, 2.0814968814968817, 15.0, 1.0407484407484409, 2.0568175148206844, 5.656248165756882, 1.9491714971602556, 15.0, 2.0814968814968817, 0.3122245322245322, 3.2], \"yaxis\": \"y\"}, {\"customdata\": [[\"Philipp Tschauner\", \"RB Leipzig\", \"Goalkeeper\"], [\"Ger\\u00f3nimo Rulli\", \"Montpellier HSC\", \"Goalkeeper\"], [\"Joe Hart\", \"Burnley FC\", \"Goalkeeper\"], [\"Ger\\u00f3nimo Rulli\", \"Villarreal CF\", \"Goalkeeper\"], [\"Emiliano Mart\\u00ednez\", \"Aston Villa\", \"Goalkeeper\"], [\"Alex Meret\", \"SSC Napoli\", \"Goalkeeper\"], [\"Sergio Rico\", \"Paris Saint-Germain\", \"Goalkeeper\"], [\"Mike Maignan\", \"AC Milan\", \"Goalkeeper\"], [\"Alisson\", \"Liverpool FC\", \"Goalkeeper\"], [\"Alfred Gomis\", \"Stade Rennais FC\", \"Goalkeeper\"], [\"R\\u00fanar Alex R\\u00fanarsson\", \"Arsenal FC\", \"Goalkeeper\"], [\"Benjamin Lecomte\", \"AS Monaco\", \"Goalkeeper\"], [\"Pierluigi Gollini\", \"Atalanta BC\", \"Goalkeeper\"], [\"Pau L\\u00f3pez\", \"AS Roma\", \"Goalkeeper\"], [\"Marco Sportiello\", \"Frosinone Calcio\", \"Goalkeeper\"], [\"Marco Silvestri\", \"Udinese Calcio\", \"Goalkeeper\"], [\"Antonio Mirante\", \"AS Roma\", \"Goalkeeper\"], [\"Mattia Perin\", \"Genoa CFC\", \"Goalkeeper\"], [\"Mattia Perin\", \"Juventus FC\", \"Goalkeeper\"], [\"Keylor Navas\", \"Paris Saint-Germain\", \"Goalkeeper\"], [\"Edouard Mendy\", \"Chelsea FC\", \"Goalkeeper\"], [\"Angus Gunn\", \"Norwich City\", \"Goalkeeper\"], [\"Aaron Ramsdale\", \"Sheffield United\", \"Goalkeeper\"], [\"Alfred Gomis\", \"Dijon FCO\", \"Goalkeeper\"], [\"Alban Lafont\", \"FC Nantes\", \"Goalkeeper\"], [\"Gregor Kobel\", \"VfB Stuttgart\", \"Goalkeeper\"], [\"David Soria\", \"Getafe CF\", \"Goalkeeper\"], [\"Bernd Leno\", \"Arsenal FC\", \"Goalkeeper\"], [\"Jack Butland\", \"Crystal Palace\", \"Goalkeeper\"], [\"Thibaut Courtois\", \"Real Madrid\", \"Goalkeeper\"], [\"Gregor Kobel\", \"Borussia Dortmund\", \"Goalkeeper\"], [\"Orestis Karnezis\", \"SSC Napoli\", \"Goalkeeper\"], [\"Julian Pollersbeck\", \"Olympique Lyon\", \"Goalkeeper\"], [\"Aaron Ramsdale\", \"Arsenal FC\", \"Goalkeeper\"], [\"David Ospina\", \"SSC Napoli\", \"Goalkeeper\"], [\"\\u00c1lvaro Fern\\u00e1ndez\", \"Brentford FC\", \"Goalkeeper\"], [\"Luigi Sepe\", \"Parma Calcio 1913\", \"Goalkeeper\"], [\"Alexander Schwolow\", \"Hertha BSC\", \"Goalkeeper\"], [\"Kepa Arrizabalaga\", \"Chelsea FC\", \"Goalkeeper\"], [\"Christian Mathenia\", \"1.FC Nuremberg\", \"Goalkeeper\"], [\"Paul Bernardoni\", \"SCO Angers\", \"Goalkeeper\"], [\"Pepe Reina\", \"Aston Villa\", \"Goalkeeper\"], [\"Alban Lafont\", \"ACF Fiorentina\", \"Goalkeeper\"], [\"Alphonse Areola\", \"Real Madrid\", \"Goalkeeper\"], [\"Ralf F\\u00e4hrmann\", \"Norwich City\", \"Goalkeeper\"], [\"Pau L\\u00f3pez\", \"Olympique Marseille\", \"Goalkeeper\"], [\"Alban Lafont\", \"FC Nantes\", \"Goalkeeper\"], [\"Alphonse Areola\", \"West Ham United\", \"Goalkeeper\"], [\"Edouard Mendy\", \"Stade Rennais FC\", \"Goalkeeper\"]], \"hovertemplate\": \"position=%{customdata[2]}<br>prediction=%{x}<br>True Price=%{y}<br>player_name=%{customdata[0]}<br>club_name=%{customdata[1]}<extra></extra>\", \"legendgroup\": \"Goalkeeper\", \"marker\": {\"color\": \"#FF97FF\", \"symbol\": \"circle\"}, \"mode\": \"markers\", \"name\": \"Goalkeeper\", \"orientation\": \"v\", \"showlegend\": true, \"type\": \"scatter\", \"x\": [0.20241262018680573, 1.9284440279006958, 4.096947193145752, 4.9490275382995605, 17.370698928833008, 26.302448272705078, 5.903888702392578, 14.143853187561035, 64.84165954589844, 9.622597694396973, 2.42789626121521, 13.877965927124023, 4.830282211303711, 23.899906158447266, 0.8628182411193848, 2.633885383605957, 4.073988914489746, 1.0171092748641968, 14.742260932922363, 15.28966236114502, 24.48273277282715, 5.752969741821289, 21.150775909423828, 1.3093719482421875, 7.541905403137207, 7.211406707763672, 4.1510396003723145, 25.793188095092773, 1.2024381160736084, 35.21053695678711, 14.365445137023926, 1.5357584953308105, 0.44023212790489197, 27.811107635498047, 3.438507080078125, 1.5309669971466064, 5.038750171661377, 7.204380512237549, 82.9382553100586, 0.8265303373336792, 8.37466049194336, 0.3472599685192108, 8.388382911682129, 2.7898752689361572, 2.909290313720703, 0.6110430359840393, 0.7386347055435181, 2.249561071395874, 8.095194816589355], \"xaxis\": \"x\", \"y\": [0.3599430650936197, 1.542613136115513, 4.058918918918919, 5.129398676737514, 17.85030739504655, 26.7386276926689, 6.155278412085018, 14.3, 65.04677754677755, 10.258797353475028, 2.0517594706950057, 13.88351822503962, 4.57929313929314, 24.167605799143043, 0.3122245322245322, 2.5, 4.1629937629937634, 0.5358009626107884, 14.77862785862786, 15.426131361155132, 24.62111364834007, 5.85, 21.030534574623807, 1.0284087574103422, 7.5, 7.386334094502021, 3.1222453222453224, 26.01871101871102, 1.1284677088822532, 36.42619542619543, 15.0, 1.542613136115513, 0.2564699338368757, 28.0, 3.5994306509361977, 1.0, 4.698529187891563, 7.18115814743252, 83.25987525987527, 0.5203742203742204, 7.694098015106271, 0.4113635029641369, 8.325987525987527, 2.0568175148206844, 3.085226272231026, 0.72, 0.8227270059282739, 2.0, 7.8159065563186], \"yaxis\": \"y\"}, {\"customdata\": [[\"Yacine Adli\", \"AC Milan\", \"Attacking Midfield\"], [\"Simone Verdi\", \"SSC Napoli\", \"Attacking Midfield\"], [\"Brahim D\\u00edaz\", \"AC Milan\", \"Attacking Midfield\"], [\"Yassine Benzia\", \"Dijon FCO\", \"Attacking Midfield\"], [\"Ludovic Blas\", \"FC Nantes\", \"Attacking Midfield\"], [\"Ga\\u00ebl Kakuta\", \"Amiens SC\", \"Attacking Midfield\"], [\"Hamed Junior Traor\\u00e8\", \"US Sassuolo\", \"Attacking Midfield\"], [\"Ryad Boudebouz\", \"AS Saint-\\u00c9tienne\", \"Attacking Midfield\"], [\"Renaud Ripart\", \"ESTAC Troyes\", \"Attacking Midfield\"], [\"Matheus Pereira\", \"West Bromwich Albion\", \"Attacking Midfield\"], [\"Julian Brandt\", \"Borussia Dortmund\", \"Attacking Midfield\"], [\"Lucas Paquet\\u00e1\", \"Olympique Lyon\", \"Attacking Midfield\"], [\"Martin \\u00d8degaard\", \"Arsenal FC\", \"Attacking Midfield\"], [\"Quentin Boisgard\", \"FC Lorient\", \"Attacking Midfield\"], [\"Mattia Zaccagni\", \"SS Lazio\", \"Attacking Midfield\"], [\"Martin \\u00d8degaard\", \"Arsenal FC\", \"Attacking Midfield\"], [\"Leonardo Bittencourt\", \"SV Werder Bremen\", \"Attacking Midfield\"], [\"Christopher Nkunku\", \"RB Leipzig\", \"Attacking Midfield\"], [\"Aymen Barkok\", \"Fortuna D\\u00fcsseldorf\", \"Attacking Midfield\"], [\"Kai Havertz\", \"Chelsea FC\", \"Attacking Midfield\"], [\"Riccardo Saponara\", \"UC Sampdoria\", \"Attacking Midfield\"], [\"Kevin-Prince Boateng\", \"FC Barcelona\", \"Attacking Midfield\"], [\"Thomas Lemar\", \"Atl\\u00e9tico de Madrid\", \"Attacking Midfield\"], [\"Javier Pastore\", \"AS Roma\", \"Attacking Midfield\"], [\"Lucas Castro\", \"Cagliari Calcio\", \"Attacking Midfield\"], [\"Jesse Lingard\", \"West Ham United\", \"Attacking Midfield\"], [\"Steven Skrzybski\", \"Fortuna D\\u00fcsseldorf\", \"Attacking Midfield\"], [\"Leonardo Bittencourt\", \"SV Werder Bremen\", \"Attacking Midfield\"], [\"Christian Eriksen\", \"Inter Milan\", \"Attacking Midfield\"], [\"Pablo Fornals\", \"West Ham United\", \"Attacking Midfield\"], [\"Amin Younes\", \"Eintracht Frankfurt\", \"Attacking Midfield\"], [\"R\\u00e9my Cabella\", \"AS Saint-\\u00c9tienne\", \"Attacking Midfield\"], [\"Kevin-Prince Boateng\", \"ACF Fiorentina\", \"Attacking Midfield\"], [\"Roberto Soriano\", \"Bologna FC 1909\", \"Attacking Midfield\"], [\"Henrikh Mkhitaryan\", \"AS Roma\", \"Attacking Midfield\"], [\"Leonardo Bittencourt\", \"TSG 1899 Hoffenheim\", \"Attacking Midfield\"], [\"Simone Verdi\", \"Torino FC\", \"Attacking Midfield\"], [\"Roberto Soriano\", \"Torino FC\", \"Attacking Midfield\"]], \"hovertemplate\": \"position=%{customdata[2]}<br>prediction=%{x}<br>True Price=%{y}<br>player_name=%{customdata[0]}<br>club_name=%{customdata[1]}<extra></extra>\", \"legendgroup\": \"Attacking Midfield\", \"marker\": {\"color\": \"#FECB52\", \"symbol\": \"circle\"}, \"mode\": \"markers\", \"name\": \"Attacking Midfield\", \"orientation\": \"v\", \"showlegend\": true, \"type\": \"scatter\", \"x\": [7.29154634475708, 25.353275299072266, 3.000535488128662, 2.445336103439331, 8.7623929977417, 4.840465545654297, 15.330880165100098, 3.9038941860198975, 3.414867877960205, 8.394543647766113, 25.764795303344727, 19.85135841369629, 2.6568968296051025, 2.588881492614746, 0.7050706148147583, 34.880428314208984, 1.8818777799606323, 12.659102439880371, 0.927449107170105, 82.14701843261719, 2.117380142211914, -0.14771857857704163, 74.4917984008789, 24.137142181396484, 5.338200092315674, 2.4986822605133057, 0.3964964747428894, 6.929854869842529, 27.485021591186523, 28.570430755615234, 1.0817830562591553, 6.994828224182129, 1.843651294708252, 7.5812177658081055, 3.289219379425049, 5.365688800811768, 22.255571365356445, 1.2223767042160034], \"xaxis\": \"x\", \"y\": [8.0, 25.4983367983368, 3.0, 1.542613136115513, 8.227270059282738, 3.085226272231026, 16.0, 3.5994306509361977, 3.3, 8.463507816616898, 25.71021893525856, 20.517594706950057, 2.0517594706950057, 2.0517594706950057, 0.2, 35.0, 0.6170452544462053, 13.36931384633445, 0.8325987525987527, 82.07037882780023, 2.0814968814968817, 1.0407484407484409, 74.93388773388774, 25.70648648648649, 6.140415800415801, 2.3595233912992564, 0.2056817514820684, 7.18115814743252, 27.76703645007924, 28.795445207489585, 0.7694098015106272, 6.244490644490645, 1.542613136115513, 8.227270059282738, 3.188067147972061, 6.244490644490645, 22.569354177645064, 1.0407484407484409], \"yaxis\": \"y\"}, {\"customdata\": [[\"Joaqu\\u00edn Correa\", \"SS Lazio\", \"Second Striker\"], [\"Rodrigo\", \"Leeds United\", \"Second Striker\"], [\"Papu G\\u00f3mez\", \"Sevilla FC\", \"Second Striker\"], [\"Diego Farias\", \"Spezia Calcio\", \"Second Striker\"], [\"Joaqu\\u00edn Correa\", \"Inter Milan\", \"Second Striker\"], [\"Antoine Griezmann\", \"FC Barcelona\", \"Second Striker\"], [\"Luca Waldschmidt\", \"SC Freiburg\", \"Second Striker\"], [\"Diego Farias\", \"Empoli FC\", \"Second Striker\"], [\"Maximilian Philipp\", \"VfL Wolfsburg\", \"Second Striker\"], [\"Gianluca Caprari\", \"Parma Calcio 1913\", \"Second Striker\"], [\"Gianluca Caprari\", \"Benevento Calcio\", \"Second Striker\"], [\"Maximilian Philipp\", \"VfL Wolfsburg\", \"Second Striker\"], [\"Diego Farias\", \"US Lecce\", \"Second Striker\"], [\"Kevin Volland\", \"AS Monaco\", \"Second Striker\"], [\"Enrico Brignola\", \"US Sassuolo\", \"Second Striker\"], [\"Ayoze P\\u00e9rez\", \"Leicester City\", \"Second Striker\"], [\"Luca Waldschmidt\", \"VfL Wolfsburg\", \"Second Striker\"]], \"hovertemplate\": \"position=%{customdata[2]}<br>prediction=%{x}<br>True Price=%{y}<br>player_name=%{customdata[0]}<br>club_name=%{customdata[1]}<extra></extra>\", \"legendgroup\": \"Second Striker\", \"marker\": {\"color\": \"#636efa\", \"symbol\": \"circle\"}, \"mode\": \"markers\", \"name\": \"Second Striker\", \"orientation\": \"v\", \"showlegend\": true, \"type\": \"scatter\", \"x\": [17.657320022583008, 29.16463851928711, 5.695685863494873, -0.029201243072748184, 5.206391334533691, 123.32457733154297, 5.463866710662842, 2.875246286392212, 1.9535659551620483, 2.5988922119140625, 2.4872019290924072, 7.372042655944824, 1.9341042041778564, 11.590018272399902, 4.1662211418151855, 34.18281173706055, 11.661579132080078], \"xaxis\": \"x\", \"y\": [18.57735966735967, 30.776392060425085, 5.129398676737514, 0.5129398676737514, 5.0, 123.40905088924106, 5.2037422037422045, 2.6018711018711023, 2.0517594706950057, 2.159658390561719, 1.3336436559517535, 7.5, 1.0798291952808594, 11.284677088822532, 3.1222453222453224, 34.348852497505426, 12.0], \"yaxis\": \"y\"}, {\"customdata\": [[\"Romain Faivre\", \"Olympique Lyon\", \"Right Midfield\"], [\"Antonio Candreva\", \"UC Sampdoria\", \"Right Midfield\"], [\"Victor Moses\", \"Inter Milan\", \"Right Midfield\"]], \"hovertemplate\": \"position=%{customdata[2]}<br>prediction=%{x}<br>True Price=%{y}<br>player_name=%{customdata[0]}<br>club_name=%{customdata[1]}<extra></extra>\", \"legendgroup\": \"Right Midfield\", \"marker\": {\"color\": \"#EF553B\", \"symbol\": \"circle\"}, \"mode\": \"markers\", \"name\": \"Right Midfield\", \"orientation\": \"v\", \"showlegend\": true, \"type\": \"scatter\", \"x\": [14.053582191467285, 2.497800350189209, 0.6576482653617859], \"xaxis\": \"x\", \"y\": [15.0, 2.5, 0.2221362916006339], \"yaxis\": \"y\"}, {\"customdata\": [[\"Erik Thommy\", \"Fortuna D\\u00fcsseldorf\", \"Left Midfield\"], [\"Mohamed Fares\", \"SPAL\", \"Left Midfield\"], [\"Ryan Sessegnon\", \"Tottenham Hotspur\", \"Left Midfield\"], [\"Jakub Jankto\", \"UC Sampdoria\", \"Left Midfield\"], [\"Mohamed Fares\", \"SS Lazio\", \"Left Midfield\"], [\"Jakub Jankto\", \"Getafe CF\", \"Left Midfield\"]], \"hovertemplate\": \"position=%{customdata[2]}<br>prediction=%{x}<br>True Price=%{y}<br>player_name=%{customdata[0]}<br>club_name=%{customdata[1]}<extra></extra>\", \"legendgroup\": \"Left Midfield\", \"marker\": {\"color\": \"#00cc96\", \"symbol\": \"circle\"}, \"mode\": \"markers\", \"name\": \"Left Midfield\", \"orientation\": \"v\", \"showlegend\": true, \"type\": \"scatter\", \"x\": [0.7480244636535645, 4.771195888519287, 26.750911712646484, 14.84985637664795, 7.482247829437256, 5.465183258056641], \"xaxis\": \"x\", \"y\": [0.5142043787051711, 3.5994306509361977, 27.76703645007924, 14.911926982449964, 8.207037882780023, 6.0], \"yaxis\": \"y\"}],                        {\"legend\": {\"title\": {\"text\": \"position\"}, \"tracegroupgap\": 0}, \"margin\": {\"t\": 60}, \"template\": {\"data\": {\"bar\": [{\"error_x\": {\"color\": \"#2a3f5f\"}, \"error_y\": {\"color\": \"#2a3f5f\"}, \"marker\": {\"line\": {\"color\": \"#E5ECF6\", \"width\": 0.5}}, \"type\": \"bar\"}], \"barpolar\": [{\"marker\": {\"line\": {\"color\": \"#E5ECF6\", \"width\": 0.5}}, \"type\": \"barpolar\"}], \"carpet\": [{\"aaxis\": {\"endlinecolor\": \"#2a3f5f\", \"gridcolor\": \"white\", \"linecolor\": \"white\", \"minorgridcolor\": \"white\", \"startlinecolor\": \"#2a3f5f\"}, \"baxis\": {\"endlinecolor\": \"#2a3f5f\", \"gridcolor\": \"white\", \"linecolor\": \"white\", \"minorgridcolor\": \"white\", \"startlinecolor\": \"#2a3f5f\"}, \"type\": \"carpet\"}], \"choropleth\": [{\"colorbar\": {\"outlinewidth\": 0, \"ticks\": \"\"}, \"type\": \"choropleth\"}], \"contour\": [{\"colorbar\": {\"outlinewidth\": 0, \"ticks\": \"\"}, \"colorscale\": [[0.0, \"#0d0887\"], [0.1111111111111111, \"#46039f\"], [0.2222222222222222, \"#7201a8\"], [0.3333333333333333, \"#9c179e\"], [0.4444444444444444, \"#bd3786\"], [0.5555555555555556, \"#d8576b\"], [0.6666666666666666, \"#ed7953\"], [0.7777777777777778, \"#fb9f3a\"], [0.8888888888888888, \"#fdca26\"], [1.0, \"#f0f921\"]], \"type\": \"contour\"}], \"contourcarpet\": [{\"colorbar\": {\"outlinewidth\": 0, \"ticks\": \"\"}, \"type\": \"contourcarpet\"}], \"heatmap\": [{\"colorbar\": {\"outlinewidth\": 0, \"ticks\": \"\"}, \"colorscale\": [[0.0, \"#0d0887\"], [0.1111111111111111, \"#46039f\"], [0.2222222222222222, \"#7201a8\"], [0.3333333333333333, \"#9c179e\"], [0.4444444444444444, \"#bd3786\"], [0.5555555555555556, \"#d8576b\"], [0.6666666666666666, \"#ed7953\"], [0.7777777777777778, \"#fb9f3a\"], [0.8888888888888888, \"#fdca26\"], [1.0, \"#f0f921\"]], \"type\": \"heatmap\"}], \"heatmapgl\": [{\"colorbar\": {\"outlinewidth\": 0, \"ticks\": \"\"}, \"colorscale\": [[0.0, \"#0d0887\"], [0.1111111111111111, \"#46039f\"], [0.2222222222222222, \"#7201a8\"], [0.3333333333333333, \"#9c179e\"], [0.4444444444444444, \"#bd3786\"], [0.5555555555555556, \"#d8576b\"], [0.6666666666666666, \"#ed7953\"], [0.7777777777777778, \"#fb9f3a\"], [0.8888888888888888, \"#fdca26\"], [1.0, \"#f0f921\"]], \"type\": \"heatmapgl\"}], \"histogram\": [{\"marker\": {\"colorbar\": {\"outlinewidth\": 0, \"ticks\": \"\"}}, \"type\": \"histogram\"}], \"histogram2d\": [{\"colorbar\": {\"outlinewidth\": 0, \"ticks\": \"\"}, \"colorscale\": [[0.0, \"#0d0887\"], [0.1111111111111111, \"#46039f\"], [0.2222222222222222, \"#7201a8\"], [0.3333333333333333, \"#9c179e\"], [0.4444444444444444, \"#bd3786\"], [0.5555555555555556, \"#d8576b\"], [0.6666666666666666, \"#ed7953\"], [0.7777777777777778, \"#fb9f3a\"], [0.8888888888888888, \"#fdca26\"], [1.0, \"#f0f921\"]], \"type\": \"histogram2d\"}], \"histogram2dcontour\": [{\"colorbar\": {\"outlinewidth\": 0, \"ticks\": \"\"}, \"colorscale\": [[0.0, \"#0d0887\"], [0.1111111111111111, \"#46039f\"], [0.2222222222222222, \"#7201a8\"], [0.3333333333333333, \"#9c179e\"], [0.4444444444444444, \"#bd3786\"], [0.5555555555555556, \"#d8576b\"], [0.6666666666666666, \"#ed7953\"], [0.7777777777777778, \"#fb9f3a\"], [0.8888888888888888, \"#fdca26\"], [1.0, \"#f0f921\"]], \"type\": \"histogram2dcontour\"}], \"mesh3d\": [{\"colorbar\": {\"outlinewidth\": 0, \"ticks\": \"\"}, \"type\": \"mesh3d\"}], \"parcoords\": [{\"line\": {\"colorbar\": {\"outlinewidth\": 0, \"ticks\": \"\"}}, \"type\": \"parcoords\"}], \"pie\": [{\"automargin\": true, \"type\": \"pie\"}], \"scatter\": [{\"marker\": {\"colorbar\": {\"outlinewidth\": 0, \"ticks\": \"\"}}, \"type\": \"scatter\"}], \"scatter3d\": [{\"line\": {\"colorbar\": {\"outlinewidth\": 0, \"ticks\": \"\"}}, \"marker\": {\"colorbar\": {\"outlinewidth\": 0, \"ticks\": \"\"}}, \"type\": \"scatter3d\"}], \"scattercarpet\": [{\"marker\": {\"colorbar\": {\"outlinewidth\": 0, \"ticks\": \"\"}}, \"type\": \"scattercarpet\"}], \"scattergeo\": [{\"marker\": {\"colorbar\": {\"outlinewidth\": 0, \"ticks\": \"\"}}, \"type\": \"scattergeo\"}], \"scattergl\": [{\"marker\": {\"colorbar\": {\"outlinewidth\": 0, \"ticks\": \"\"}}, \"type\": \"scattergl\"}], \"scattermapbox\": [{\"marker\": {\"colorbar\": {\"outlinewidth\": 0, \"ticks\": \"\"}}, \"type\": \"scattermapbox\"}], \"scatterpolar\": [{\"marker\": {\"colorbar\": {\"outlinewidth\": 0, \"ticks\": \"\"}}, \"type\": \"scatterpolar\"}], \"scatterpolargl\": [{\"marker\": {\"colorbar\": {\"outlinewidth\": 0, \"ticks\": \"\"}}, \"type\": \"scatterpolargl\"}], \"scatterternary\": [{\"marker\": {\"colorbar\": {\"outlinewidth\": 0, \"ticks\": \"\"}}, \"type\": \"scatterternary\"}], \"surface\": [{\"colorbar\": {\"outlinewidth\": 0, \"ticks\": \"\"}, \"colorscale\": [[0.0, \"#0d0887\"], [0.1111111111111111, \"#46039f\"], [0.2222222222222222, \"#7201a8\"], [0.3333333333333333, \"#9c179e\"], [0.4444444444444444, \"#bd3786\"], [0.5555555555555556, \"#d8576b\"], [0.6666666666666666, \"#ed7953\"], [0.7777777777777778, \"#fb9f3a\"], [0.8888888888888888, \"#fdca26\"], [1.0, \"#f0f921\"]], \"type\": \"surface\"}], \"table\": [{\"cells\": {\"fill\": {\"color\": \"#EBF0F8\"}, \"line\": {\"color\": \"white\"}}, \"header\": {\"fill\": {\"color\": \"#C8D4E3\"}, \"line\": {\"color\": \"white\"}}, \"type\": \"table\"}]}, \"layout\": {\"annotationdefaults\": {\"arrowcolor\": \"#2a3f5f\", \"arrowhead\": 0, \"arrowwidth\": 1}, \"coloraxis\": {\"colorbar\": {\"outlinewidth\": 0, \"ticks\": \"\"}}, \"colorscale\": {\"diverging\": [[0, \"#8e0152\"], [0.1, \"#c51b7d\"], [0.2, \"#de77ae\"], [0.3, \"#f1b6da\"], [0.4, \"#fde0ef\"], [0.5, \"#f7f7f7\"], [0.6, \"#e6f5d0\"], [0.7, \"#b8e186\"], [0.8, \"#7fbc41\"], [0.9, \"#4d9221\"], [1, \"#276419\"]], \"sequential\": [[0.0, \"#0d0887\"], [0.1111111111111111, \"#46039f\"], [0.2222222222222222, \"#7201a8\"], [0.3333333333333333, \"#9c179e\"], [0.4444444444444444, \"#bd3786\"], [0.5555555555555556, \"#d8576b\"], [0.6666666666666666, \"#ed7953\"], [0.7777777777777778, \"#fb9f3a\"], [0.8888888888888888, \"#fdca26\"], [1.0, \"#f0f921\"]], \"sequentialminus\": [[0.0, \"#0d0887\"], [0.1111111111111111, \"#46039f\"], [0.2222222222222222, \"#7201a8\"], [0.3333333333333333, \"#9c179e\"], [0.4444444444444444, \"#bd3786\"], [0.5555555555555556, \"#d8576b\"], [0.6666666666666666, \"#ed7953\"], [0.7777777777777778, \"#fb9f3a\"], [0.8888888888888888, \"#fdca26\"], [1.0, \"#f0f921\"]]}, \"colorway\": [\"#636efa\", \"#EF553B\", \"#00cc96\", \"#ab63fa\", \"#FFA15A\", \"#19d3f3\", \"#FF6692\", \"#B6E880\", \"#FF97FF\", \"#FECB52\"], \"font\": {\"color\": \"#2a3f5f\"}, \"geo\": {\"bgcolor\": \"white\", \"lakecolor\": \"white\", \"landcolor\": \"#E5ECF6\", \"showlakes\": true, \"showland\": true, \"subunitcolor\": \"white\"}, \"hoverlabel\": {\"align\": \"left\"}, \"hovermode\": \"closest\", \"mapbox\": {\"style\": \"light\"}, \"paper_bgcolor\": \"white\", \"plot_bgcolor\": \"#E5ECF6\", \"polar\": {\"angularaxis\": {\"gridcolor\": \"white\", \"linecolor\": \"white\", \"ticks\": \"\"}, \"bgcolor\": \"#E5ECF6\", \"radialaxis\": {\"gridcolor\": \"white\", \"linecolor\": \"white\", \"ticks\": \"\"}}, \"scene\": {\"xaxis\": {\"backgroundcolor\": \"#E5ECF6\", \"gridcolor\": \"white\", \"gridwidth\": 2, \"linecolor\": \"white\", \"showbackground\": true, \"ticks\": \"\", \"zerolinecolor\": \"white\"}, \"yaxis\": {\"backgroundcolor\": \"#E5ECF6\", \"gridcolor\": \"white\", \"gridwidth\": 2, \"linecolor\": \"white\", \"showbackground\": true, \"ticks\": \"\", \"zerolinecolor\": \"white\"}, \"zaxis\": {\"backgroundcolor\": \"#E5ECF6\", \"gridcolor\": \"white\", \"gridwidth\": 2, \"linecolor\": \"white\", \"showbackground\": true, \"ticks\": \"\", \"zerolinecolor\": \"white\"}}, \"shapedefaults\": {\"line\": {\"color\": \"#2a3f5f\"}}, \"ternary\": {\"aaxis\": {\"gridcolor\": \"white\", \"linecolor\": \"white\", \"ticks\": \"\"}, \"baxis\": {\"gridcolor\": \"white\", \"linecolor\": \"white\", \"ticks\": \"\"}, \"bgcolor\": \"#E5ECF6\", \"caxis\": {\"gridcolor\": \"white\", \"linecolor\": \"white\", \"ticks\": \"\"}}, \"title\": {\"x\": 0.05}, \"xaxis\": {\"automargin\": true, \"gridcolor\": \"white\", \"linecolor\": \"white\", \"ticks\": \"\", \"title\": {\"standoff\": 15}, \"zerolinecolor\": \"white\", \"zerolinewidth\": 2}, \"yaxis\": {\"automargin\": true, \"gridcolor\": \"white\", \"linecolor\": \"white\", \"ticks\": \"\", \"title\": {\"standoff\": 15}, \"zerolinecolor\": \"white\", \"zerolinewidth\": 2}}}, \"xaxis\": {\"anchor\": \"y\", \"domain\": [0.0, 1.0], \"title\": {\"text\": \"prediction\"}}, \"yaxis\": {\"anchor\": \"x\", \"domain\": [0.0, 1.0], \"title\": {\"text\": \"True Price\"}}},                        {\"responsive\": true}                    ).then(function(){\n",
       "                            \n",
       "var gd = document.getElementById('8a16c9a6-e55e-402c-a77d-6d09110c6ef3');\n",
       "var x = new MutationObserver(function (mutations, observer) {{\n",
       "        var display = window.getComputedStyle(gd).display;\n",
       "        if (!display || display === 'none') {{\n",
       "            console.log([gd, 'removed!']);\n",
       "            Plotly.purge(gd);\n",
       "            observer.disconnect();\n",
       "        }}\n",
       "}});\n",
       "\n",
       "// Listen for the removal of the full notebook cells\n",
       "var notebookContainer = gd.closest('#notebook-container');\n",
       "if (notebookContainer) {{\n",
       "    x.observe(notebookContainer, {childList: true});\n",
       "}}\n",
       "\n",
       "// Listen for the clearing of the current output cell\n",
       "var outputEl = gd.closest('.output');\n",
       "if (outputEl) {{\n",
       "    x.observe(outputEl, {childList: true});\n",
       "}}\n",
       "\n",
       "                        })                };                });            </script>        </div>"
      ]
     },
     "metadata": {},
     "output_type": "display_data"
    }
   ],
   "source": [
    "import plotly.express as px\n",
    "\n",
    "y_hat_df = pd.concat([pd.DataFrame(y_hat, columns = [\"prediction\"]), y_train], axis=1)\n",
    "\n",
    "\n",
    "\n",
    "y_hat_df.rename(columns = {'fee_infladj':'True Price'}, inplace = True)\n",
    "\n",
    "fig = px.scatter(y_hat_df,\n",
    "                 x=\"prediction\",\n",
    "                 y=\"True Price\",\n",
    "                 color=\"position\",\n",
    "                 hover_data=['player_name', 'club_name', 'position'])\n",
    "fig.show()"
   ]
  },
  {
   "cell_type": "markdown",
   "metadata": {},
   "source": [
    "Finding best parameters"
   ]
  },
  {
   "cell_type": "code",
   "execution_count": 531,
   "metadata": {
    "scrolled": true
   },
   "outputs": [
    {
     "name": "stdout",
     "output_type": "stream",
     "text": [
      "Fitting 5 folds for each of 54 candidates, totalling 270 fits\n"
     ]
    },
    {
     "name": "stderr",
     "output_type": "stream",
     "text": [
      "[Parallel(n_jobs=1)]: Using backend SequentialBackend with 1 concurrent workers.\n"
     ]
    },
    {
     "name": "stdout",
     "output_type": "stream",
     "text": [
      "Best parameters: {'colsample_bytree': 0.3, 'learning_rate': 0.01, 'max_depth': 3, 'n_estimators': 500}\n",
      "Lowest RMSE:  15.26549102336541\n",
      "XGBRegressor(base_score=None, booster=None, callbacks=None,\n",
      "             colsample_bylevel=None, colsample_bynode=None,\n",
      "             colsample_bytree=None, early_stopping_rounds=None,\n",
      "             enable_categorical=False, eval_metric=None, gamma=None,\n",
      "             gpu_id=None, grow_policy=None, importance_type=None,\n",
      "             interaction_constraints=None, learning_rate=None, max_bin=None,\n",
      "             max_cat_to_onehot=None, max_delta_step=None, max_depth=None,\n",
      "             max_leaves=None, min_child_weight=None, missing=nan,\n",
      "             monotone_constraints=None, n_estimators=100, n_jobs=None,\n",
      "             num_parallel_tree=None, predictor=None, random_state=None,\n",
      "             reg_alpha=None, reg_lambda=None, ...)\n"
     ]
    },
    {
     "name": "stderr",
     "output_type": "stream",
     "text": [
      "[Parallel(n_jobs=1)]: Done 270 out of 270 | elapsed:  1.0min finished\n"
     ]
    }
   ],
   "source": [
    "from sklearn.model_selection import GridSearchCV\n",
    "\n",
    "\n",
    "params = { 'max_depth': [3,6,10],\n",
    "           'learning_rate': [0.01, 0.05, 0.1],\n",
    "           'n_estimators': [100, 500, 1000],\n",
    "           'colsample_bytree': [0.3, 0.7]}\n",
    "\n",
    "\n",
    "xgbr = xgb.XGBRegressor(verbosity=0) \n",
    "\n",
    "clf = GridSearchCV(estimator=xgbr, \n",
    "                   param_grid=params,\n",
    "                   scoring='neg_mean_squared_error', \n",
    "                   verbose=1)\n",
    "\n",
    "\n",
    "clf.fit(Xpca_tr, ynp_tr)\n",
    "print(\"Best parameters:\", clf.best_params_)\n",
    "print(\"Lowest RMSE: \", (-clf.best_score_)**(1/2.0))"
   ]
  },
  {
   "cell_type": "code",
   "execution_count": 570,
   "metadata": {},
   "outputs": [
    {
     "name": "stdout",
     "output_type": "stream",
     "text": [
      "[0]\tvalidation_0-rmse:16.54678\tvalidation_1-rmse:12.61626\n",
      "[1]\tvalidation_0-rmse:14.77401\tvalidation_1-rmse:11.92021\n",
      "[2]\tvalidation_0-rmse:13.55025\tvalidation_1-rmse:11.85310\n",
      "[3]\tvalidation_0-rmse:12.71539\tvalidation_1-rmse:11.69659\n",
      "[4]\tvalidation_0-rmse:12.20422\tvalidation_1-rmse:11.81463\n",
      "[5]\tvalidation_0-rmse:11.79850\tvalidation_1-rmse:11.69039\n",
      "[6]\tvalidation_0-rmse:11.49603\tvalidation_1-rmse:11.63121\n",
      "[7]\tvalidation_0-rmse:11.29688\tvalidation_1-rmse:11.68341\n",
      "[8]\tvalidation_0-rmse:11.12966\tvalidation_1-rmse:11.70796\n",
      "[9]\tvalidation_0-rmse:11.02798\tvalidation_1-rmse:11.76443\n",
      "[10]\tvalidation_0-rmse:10.90371\tvalidation_1-rmse:11.75655\n",
      "[11]\tvalidation_0-rmse:10.74476\tvalidation_1-rmse:11.74080\n",
      "[12]\tvalidation_0-rmse:10.63531\tvalidation_1-rmse:11.82097\n",
      "[13]\tvalidation_0-rmse:10.52792\tvalidation_1-rmse:11.77783\n",
      "[14]\tvalidation_0-rmse:10.42501\tvalidation_1-rmse:11.80895\n",
      "[15]\tvalidation_0-rmse:10.37364\tvalidation_1-rmse:11.76219\n",
      "[16]\tvalidation_0-rmse:10.32192\tvalidation_1-rmse:11.79962\n",
      "[17]\tvalidation_0-rmse:10.18513\tvalidation_1-rmse:11.82421\n",
      "[18]\tvalidation_0-rmse:10.10586\tvalidation_1-rmse:11.83865\n",
      "[19]\tvalidation_0-rmse:9.91310\tvalidation_1-rmse:11.82391\n",
      "[20]\tvalidation_0-rmse:9.81984\tvalidation_1-rmse:11.81691\n",
      "[21]\tvalidation_0-rmse:9.75694\tvalidation_1-rmse:11.77780\n",
      "[22]\tvalidation_0-rmse:9.68253\tvalidation_1-rmse:11.77206\n",
      "[23]\tvalidation_0-rmse:9.63213\tvalidation_1-rmse:11.79169\n",
      "[24]\tvalidation_0-rmse:9.56583\tvalidation_1-rmse:11.79261\n",
      "[25]\tvalidation_0-rmse:9.50894\tvalidation_1-rmse:11.83802\n",
      "[26]\tvalidation_0-rmse:9.47611\tvalidation_1-rmse:11.82437\n",
      "[27]\tvalidation_0-rmse:9.40044\tvalidation_1-rmse:11.85319\n",
      "[28]\tvalidation_0-rmse:9.35064\tvalidation_1-rmse:11.86584\n",
      "[29]\tvalidation_0-rmse:9.23356\tvalidation_1-rmse:11.92740\n",
      "[30]\tvalidation_0-rmse:9.10521\tvalidation_1-rmse:11.97027\n",
      "[31]\tvalidation_0-rmse:8.96802\tvalidation_1-rmse:12.28434\n",
      "[32]\tvalidation_0-rmse:8.89082\tvalidation_1-rmse:12.31843\n",
      "[33]\tvalidation_0-rmse:8.81502\tvalidation_1-rmse:12.30198\n",
      "[34]\tvalidation_0-rmse:8.73179\tvalidation_1-rmse:12.30941\n",
      "[35]\tvalidation_0-rmse:8.67860\tvalidation_1-rmse:12.32716\n",
      "[36]\tvalidation_0-rmse:8.62530\tvalidation_1-rmse:12.30524\n",
      "[37]\tvalidation_0-rmse:8.59910\tvalidation_1-rmse:12.30354\n",
      "[38]\tvalidation_0-rmse:8.50790\tvalidation_1-rmse:12.37486\n",
      "[39]\tvalidation_0-rmse:8.46607\tvalidation_1-rmse:12.42567\n",
      "[40]\tvalidation_0-rmse:8.38843\tvalidation_1-rmse:12.51709\n",
      "[41]\tvalidation_0-rmse:8.34900\tvalidation_1-rmse:12.54583\n",
      "[42]\tvalidation_0-rmse:8.27215\tvalidation_1-rmse:12.59874\n",
      "[43]\tvalidation_0-rmse:8.20206\tvalidation_1-rmse:12.70888\n",
      "[44]\tvalidation_0-rmse:8.16816\tvalidation_1-rmse:12.71070\n",
      "[45]\tvalidation_0-rmse:8.14767\tvalidation_1-rmse:12.70759\n",
      "[46]\tvalidation_0-rmse:8.05613\tvalidation_1-rmse:12.73187\n",
      "[47]\tvalidation_0-rmse:7.99172\tvalidation_1-rmse:12.73942\n",
      "[48]\tvalidation_0-rmse:7.86403\tvalidation_1-rmse:12.63320\n",
      "[49]\tvalidation_0-rmse:7.83887\tvalidation_1-rmse:12.63897\n",
      "[50]\tvalidation_0-rmse:7.79301\tvalidation_1-rmse:12.64069\n",
      "[51]\tvalidation_0-rmse:7.71913\tvalidation_1-rmse:12.69263\n",
      "[52]\tvalidation_0-rmse:7.59811\tvalidation_1-rmse:12.70496\n",
      "[53]\tvalidation_0-rmse:7.56575\tvalidation_1-rmse:12.69988\n",
      "[54]\tvalidation_0-rmse:7.54688\tvalidation_1-rmse:12.69812\n",
      "[55]\tvalidation_0-rmse:7.51517\tvalidation_1-rmse:12.76292\n",
      "[56]\tvalidation_0-rmse:7.47849\tvalidation_1-rmse:12.78263\n",
      "[57]\tvalidation_0-rmse:7.41177\tvalidation_1-rmse:12.82515\n",
      "[58]\tvalidation_0-rmse:7.36857\tvalidation_1-rmse:12.87428\n",
      "[59]\tvalidation_0-rmse:7.30437\tvalidation_1-rmse:12.84347\n",
      "[60]\tvalidation_0-rmse:7.25498\tvalidation_1-rmse:12.83951\n",
      "[61]\tvalidation_0-rmse:7.11017\tvalidation_1-rmse:12.81423\n",
      "[62]\tvalidation_0-rmse:7.03608\tvalidation_1-rmse:12.81755\n",
      "[63]\tvalidation_0-rmse:7.00325\tvalidation_1-rmse:12.83523\n",
      "[64]\tvalidation_0-rmse:6.98967\tvalidation_1-rmse:12.83802\n",
      "[65]\tvalidation_0-rmse:6.94521\tvalidation_1-rmse:12.86327\n",
      "[66]\tvalidation_0-rmse:6.86814\tvalidation_1-rmse:12.78523\n",
      "[67]\tvalidation_0-rmse:6.84688\tvalidation_1-rmse:12.78827\n",
      "[68]\tvalidation_0-rmse:6.79056\tvalidation_1-rmse:12.77261\n",
      "[69]\tvalidation_0-rmse:6.73525\tvalidation_1-rmse:12.74611\n",
      "[70]\tvalidation_0-rmse:6.71031\tvalidation_1-rmse:12.73360\n",
      "[71]\tvalidation_0-rmse:6.69101\tvalidation_1-rmse:12.72602\n",
      "[72]\tvalidation_0-rmse:6.66516\tvalidation_1-rmse:12.78805\n",
      "[73]\tvalidation_0-rmse:6.57962\tvalidation_1-rmse:12.79915\n",
      "[74]\tvalidation_0-rmse:6.53161\tvalidation_1-rmse:12.78966\n",
      "[75]\tvalidation_0-rmse:6.46216\tvalidation_1-rmse:12.77182\n",
      "[76]\tvalidation_0-rmse:6.40283\tvalidation_1-rmse:12.83138\n",
      "[77]\tvalidation_0-rmse:6.33590\tvalidation_1-rmse:12.88763\n",
      "[78]\tvalidation_0-rmse:6.29691\tvalidation_1-rmse:12.86582\n",
      "[79]\tvalidation_0-rmse:6.27923\tvalidation_1-rmse:12.87645\n",
      "[80]\tvalidation_0-rmse:6.19891\tvalidation_1-rmse:12.87395\n",
      "[81]\tvalidation_0-rmse:6.15105\tvalidation_1-rmse:12.89703\n",
      "[82]\tvalidation_0-rmse:6.09287\tvalidation_1-rmse:12.90922\n",
      "[83]\tvalidation_0-rmse:6.07123\tvalidation_1-rmse:12.92954\n",
      "[84]\tvalidation_0-rmse:6.04234\tvalidation_1-rmse:12.95089\n",
      "[85]\tvalidation_0-rmse:5.99062\tvalidation_1-rmse:12.95864\n",
      "[86]\tvalidation_0-rmse:5.97656\tvalidation_1-rmse:12.95319\n",
      "[87]\tvalidation_0-rmse:5.93377\tvalidation_1-rmse:12.95389\n",
      "[88]\tvalidation_0-rmse:5.87246\tvalidation_1-rmse:12.97683\n",
      "[89]\tvalidation_0-rmse:5.81263\tvalidation_1-rmse:13.04956\n",
      "[90]\tvalidation_0-rmse:5.75793\tvalidation_1-rmse:13.02712\n",
      "[91]\tvalidation_0-rmse:5.72735\tvalidation_1-rmse:12.98777\n",
      "[92]\tvalidation_0-rmse:5.67207\tvalidation_1-rmse:13.04505\n",
      "[93]\tvalidation_0-rmse:5.62854\tvalidation_1-rmse:13.08023\n",
      "[94]\tvalidation_0-rmse:5.59106\tvalidation_1-rmse:13.07470\n",
      "[95]\tvalidation_0-rmse:5.55552\tvalidation_1-rmse:13.11962\n",
      "[96]\tvalidation_0-rmse:5.54322\tvalidation_1-rmse:13.13474\n",
      "[97]\tvalidation_0-rmse:5.50213\tvalidation_1-rmse:13.14809\n",
      "[98]\tvalidation_0-rmse:5.48316\tvalidation_1-rmse:13.17534\n",
      "[99]\tvalidation_0-rmse:5.45123\tvalidation_1-rmse:13.16314\n",
      "[100]\tvalidation_0-rmse:5.38117\tvalidation_1-rmse:13.12639\n",
      "[101]\tvalidation_0-rmse:5.34245\tvalidation_1-rmse:13.13652\n",
      "[102]\tvalidation_0-rmse:5.33292\tvalidation_1-rmse:13.12720\n",
      "[103]\tvalidation_0-rmse:5.30859\tvalidation_1-rmse:13.12949\n",
      "[104]\tvalidation_0-rmse:5.29673\tvalidation_1-rmse:13.12514\n",
      "[105]\tvalidation_0-rmse:5.27615\tvalidation_1-rmse:13.13226\n",
      "[106]\tvalidation_0-rmse:5.26812\tvalidation_1-rmse:13.12976\n",
      "[107]\tvalidation_0-rmse:5.25525\tvalidation_1-rmse:13.13842\n",
      "[108]\tvalidation_0-rmse:5.20570\tvalidation_1-rmse:13.13146\n",
      "[109]\tvalidation_0-rmse:5.16724\tvalidation_1-rmse:13.17741\n",
      "[110]\tvalidation_0-rmse:5.14027\tvalidation_1-rmse:13.19569\n",
      "[111]\tvalidation_0-rmse:5.11170\tvalidation_1-rmse:13.24236\n",
      "[112]\tvalidation_0-rmse:5.08433\tvalidation_1-rmse:13.18696\n",
      "[113]\tvalidation_0-rmse:5.05248\tvalidation_1-rmse:13.20298\n",
      "[114]\tvalidation_0-rmse:5.01624\tvalidation_1-rmse:13.20778\n",
      "[115]\tvalidation_0-rmse:4.98693\tvalidation_1-rmse:13.23305\n",
      "[116]\tvalidation_0-rmse:4.93791\tvalidation_1-rmse:13.23149\n",
      "[117]\tvalidation_0-rmse:4.91483\tvalidation_1-rmse:13.23626\n",
      "[118]\tvalidation_0-rmse:4.87545\tvalidation_1-rmse:13.25431\n",
      "[119]\tvalidation_0-rmse:4.83178\tvalidation_1-rmse:13.23164\n",
      "[120]\tvalidation_0-rmse:4.80256\tvalidation_1-rmse:13.21785\n",
      "[121]\tvalidation_0-rmse:4.79605\tvalidation_1-rmse:13.20671\n",
      "[122]\tvalidation_0-rmse:4.76218\tvalidation_1-rmse:13.21353\n",
      "[123]\tvalidation_0-rmse:4.74236\tvalidation_1-rmse:13.19508\n",
      "[124]\tvalidation_0-rmse:4.73398\tvalidation_1-rmse:13.18537\n",
      "[125]\tvalidation_0-rmse:4.72725\tvalidation_1-rmse:13.18552\n",
      "[126]\tvalidation_0-rmse:4.69997\tvalidation_1-rmse:13.15859\n",
      "[127]\tvalidation_0-rmse:4.64653\tvalidation_1-rmse:13.22513\n",
      "[128]\tvalidation_0-rmse:4.63081\tvalidation_1-rmse:13.23097\n",
      "[129]\tvalidation_0-rmse:4.59527\tvalidation_1-rmse:13.22832\n",
      "[130]\tvalidation_0-rmse:4.56663\tvalidation_1-rmse:13.21612\n",
      "[131]\tvalidation_0-rmse:4.55298\tvalidation_1-rmse:13.23104\n",
      "[132]\tvalidation_0-rmse:4.54020\tvalidation_1-rmse:13.22536\n",
      "[133]\tvalidation_0-rmse:4.51146\tvalidation_1-rmse:13.25229\n",
      "[134]\tvalidation_0-rmse:4.49534\tvalidation_1-rmse:13.25288\n"
     ]
    },
    {
     "name": "stderr",
     "output_type": "stream",
     "text": [
      "C:\\Users\\Jesterbtw\\Anaconda3\\envs\\tensorflow\\lib\\site-packages\\xgboost\\sklearn.py:797: UserWarning:\n",
      "\n",
      "`eval_metric` in `fit` method is deprecated for better compatibility with scikit-learn, use `eval_metric` in constructor or`set_params` instead.\n",
      "\n"
     ]
    },
    {
     "name": "stdout",
     "output_type": "stream",
     "text": [
      "[135]\tvalidation_0-rmse:4.46151\tvalidation_1-rmse:13.27077\n",
      "[136]\tvalidation_0-rmse:4.43038\tvalidation_1-rmse:13.30491\n",
      "[137]\tvalidation_0-rmse:4.41331\tvalidation_1-rmse:13.32340\n",
      "[138]\tvalidation_0-rmse:4.40194\tvalidation_1-rmse:13.33936\n",
      "[139]\tvalidation_0-rmse:4.37775\tvalidation_1-rmse:13.33034\n",
      "[140]\tvalidation_0-rmse:4.37181\tvalidation_1-rmse:13.33186\n",
      "[141]\tvalidation_0-rmse:4.34891\tvalidation_1-rmse:13.35328\n",
      "[142]\tvalidation_0-rmse:4.33578\tvalidation_1-rmse:13.33754\n",
      "[143]\tvalidation_0-rmse:4.29313\tvalidation_1-rmse:13.36351\n",
      "[144]\tvalidation_0-rmse:4.27700\tvalidation_1-rmse:13.34756\n",
      "[145]\tvalidation_0-rmse:4.25627\tvalidation_1-rmse:13.35597\n",
      "[146]\tvalidation_0-rmse:4.22632\tvalidation_1-rmse:13.37491\n",
      "[147]\tvalidation_0-rmse:4.18438\tvalidation_1-rmse:13.38297\n",
      "[148]\tvalidation_0-rmse:4.16930\tvalidation_1-rmse:13.38264\n",
      "[149]\tvalidation_0-rmse:4.12823\tvalidation_1-rmse:13.41193\n",
      "[150]\tvalidation_0-rmse:4.09611\tvalidation_1-rmse:13.42012\n",
      "[151]\tvalidation_0-rmse:4.06965\tvalidation_1-rmse:13.42598\n",
      "[152]\tvalidation_0-rmse:4.05645\tvalidation_1-rmse:13.43373\n",
      "[153]\tvalidation_0-rmse:4.03174\tvalidation_1-rmse:13.44350\n",
      "[154]\tvalidation_0-rmse:4.02022\tvalidation_1-rmse:13.42066\n",
      "[155]\tvalidation_0-rmse:4.00269\tvalidation_1-rmse:13.40640\n",
      "[156]\tvalidation_0-rmse:3.99223\tvalidation_1-rmse:13.41562\n",
      "[157]\tvalidation_0-rmse:3.98376\tvalidation_1-rmse:13.40225\n",
      "[158]\tvalidation_0-rmse:3.94916\tvalidation_1-rmse:13.38640\n",
      "[159]\tvalidation_0-rmse:3.91654\tvalidation_1-rmse:13.41455\n",
      "[160]\tvalidation_0-rmse:3.90512\tvalidation_1-rmse:13.41609\n",
      "[161]\tvalidation_0-rmse:3.86994\tvalidation_1-rmse:13.40847\n",
      "[162]\tvalidation_0-rmse:3.85049\tvalidation_1-rmse:13.42438\n",
      "[163]\tvalidation_0-rmse:3.83803\tvalidation_1-rmse:13.43247\n",
      "[164]\tvalidation_0-rmse:3.81456\tvalidation_1-rmse:13.44473\n",
      "[165]\tvalidation_0-rmse:3.79973\tvalidation_1-rmse:13.44761\n",
      "[166]\tvalidation_0-rmse:3.79220\tvalidation_1-rmse:13.44484\n",
      "[167]\tvalidation_0-rmse:3.76003\tvalidation_1-rmse:13.45123\n",
      "[168]\tvalidation_0-rmse:3.73784\tvalidation_1-rmse:13.45358\n",
      "[169]\tvalidation_0-rmse:3.72746\tvalidation_1-rmse:13.44973\n",
      "[170]\tvalidation_0-rmse:3.69268\tvalidation_1-rmse:13.45362\n",
      "[171]\tvalidation_0-rmse:3.67934\tvalidation_1-rmse:13.45946\n",
      "[172]\tvalidation_0-rmse:3.67392\tvalidation_1-rmse:13.45945\n",
      "[173]\tvalidation_0-rmse:3.66476\tvalidation_1-rmse:13.45558\n",
      "[174]\tvalidation_0-rmse:3.65047\tvalidation_1-rmse:13.47567\n",
      "[175]\tvalidation_0-rmse:3.63939\tvalidation_1-rmse:13.47794\n",
      "[176]\tvalidation_0-rmse:3.61329\tvalidation_1-rmse:13.47952\n",
      "[177]\tvalidation_0-rmse:3.59238\tvalidation_1-rmse:13.48802\n",
      "[178]\tvalidation_0-rmse:3.57502\tvalidation_1-rmse:13.50773\n",
      "[179]\tvalidation_0-rmse:3.54814\tvalidation_1-rmse:13.50255\n",
      "[180]\tvalidation_0-rmse:3.51878\tvalidation_1-rmse:13.48907\n",
      "[181]\tvalidation_0-rmse:3.50096\tvalidation_1-rmse:13.50513\n",
      "[182]\tvalidation_0-rmse:3.47736\tvalidation_1-rmse:13.51043\n",
      "[183]\tvalidation_0-rmse:3.46298\tvalidation_1-rmse:13.49984\n",
      "[184]\tvalidation_0-rmse:3.43416\tvalidation_1-rmse:13.51478\n",
      "[185]\tvalidation_0-rmse:3.42072\tvalidation_1-rmse:13.51609\n",
      "[186]\tvalidation_0-rmse:3.39412\tvalidation_1-rmse:13.52582\n",
      "[187]\tvalidation_0-rmse:3.37461\tvalidation_1-rmse:13.52843\n",
      "[188]\tvalidation_0-rmse:3.36187\tvalidation_1-rmse:13.53011\n",
      "[189]\tvalidation_0-rmse:3.34404\tvalidation_1-rmse:13.53150\n",
      "[190]\tvalidation_0-rmse:3.33667\tvalidation_1-rmse:13.53216\n",
      "[191]\tvalidation_0-rmse:3.31418\tvalidation_1-rmse:13.51512\n",
      "[192]\tvalidation_0-rmse:3.29818\tvalidation_1-rmse:13.52368\n",
      "[193]\tvalidation_0-rmse:3.27620\tvalidation_1-rmse:13.54076\n",
      "[194]\tvalidation_0-rmse:3.25905\tvalidation_1-rmse:13.53814\n",
      "[195]\tvalidation_0-rmse:3.24233\tvalidation_1-rmse:13.55171\n",
      "[196]\tvalidation_0-rmse:3.24018\tvalidation_1-rmse:13.54645\n",
      "[197]\tvalidation_0-rmse:3.23598\tvalidation_1-rmse:13.54124\n",
      "[198]\tvalidation_0-rmse:3.21234\tvalidation_1-rmse:13.53469\n",
      "[199]\tvalidation_0-rmse:3.19262\tvalidation_1-rmse:13.55401\n",
      "[200]\tvalidation_0-rmse:3.17830\tvalidation_1-rmse:13.55778\n",
      "[201]\tvalidation_0-rmse:3.16633\tvalidation_1-rmse:13.55818\n",
      "[202]\tvalidation_0-rmse:3.15590\tvalidation_1-rmse:13.55670\n",
      "[203]\tvalidation_0-rmse:3.14478\tvalidation_1-rmse:13.55085\n",
      "[204]\tvalidation_0-rmse:3.12533\tvalidation_1-rmse:13.55084\n",
      "[205]\tvalidation_0-rmse:3.11697\tvalidation_1-rmse:13.53562\n",
      "[206]\tvalidation_0-rmse:3.09308\tvalidation_1-rmse:13.54200\n",
      "[207]\tvalidation_0-rmse:3.06833\tvalidation_1-rmse:13.53666\n",
      "[208]\tvalidation_0-rmse:3.05938\tvalidation_1-rmse:13.53855\n",
      "[209]\tvalidation_0-rmse:3.04324\tvalidation_1-rmse:13.53918\n",
      "[210]\tvalidation_0-rmse:3.02299\tvalidation_1-rmse:13.54535\n",
      "[211]\tvalidation_0-rmse:3.00428\tvalidation_1-rmse:13.55750\n",
      "[212]\tvalidation_0-rmse:2.98269\tvalidation_1-rmse:13.54915\n",
      "[213]\tvalidation_0-rmse:2.97646\tvalidation_1-rmse:13.55136\n",
      "[214]\tvalidation_0-rmse:2.97269\tvalidation_1-rmse:13.55710\n",
      "[215]\tvalidation_0-rmse:2.96731\tvalidation_1-rmse:13.54937\n",
      "[216]\tvalidation_0-rmse:2.95302\tvalidation_1-rmse:13.55232\n",
      "[217]\tvalidation_0-rmse:2.94473\tvalidation_1-rmse:13.54939\n",
      "[218]\tvalidation_0-rmse:2.92616\tvalidation_1-rmse:13.55349\n",
      "[219]\tvalidation_0-rmse:2.92046\tvalidation_1-rmse:13.55338\n",
      "[220]\tvalidation_0-rmse:2.89928\tvalidation_1-rmse:13.55284\n",
      "[221]\tvalidation_0-rmse:2.89445\tvalidation_1-rmse:13.55824\n",
      "[222]\tvalidation_0-rmse:2.88105\tvalidation_1-rmse:13.55604\n",
      "[223]\tvalidation_0-rmse:2.86008\tvalidation_1-rmse:13.56749\n",
      "[224]\tvalidation_0-rmse:2.84580\tvalidation_1-rmse:13.59221\n",
      "[225]\tvalidation_0-rmse:2.82793\tvalidation_1-rmse:13.60588\n",
      "[226]\tvalidation_0-rmse:2.81829\tvalidation_1-rmse:13.60889\n",
      "[227]\tvalidation_0-rmse:2.81538\tvalidation_1-rmse:13.60985\n",
      "[228]\tvalidation_0-rmse:2.79615\tvalidation_1-rmse:13.62520\n",
      "[229]\tvalidation_0-rmse:2.78218\tvalidation_1-rmse:13.62767\n",
      "[230]\tvalidation_0-rmse:2.75776\tvalidation_1-rmse:13.64525\n",
      "[231]\tvalidation_0-rmse:2.73001\tvalidation_1-rmse:13.63317\n",
      "[232]\tvalidation_0-rmse:2.71654\tvalidation_1-rmse:13.64100\n",
      "[233]\tvalidation_0-rmse:2.71043\tvalidation_1-rmse:13.63211\n",
      "[234]\tvalidation_0-rmse:2.70176\tvalidation_1-rmse:13.63966\n",
      "[235]\tvalidation_0-rmse:2.69671\tvalidation_1-rmse:13.64206\n",
      "[236]\tvalidation_0-rmse:2.68585\tvalidation_1-rmse:13.64299\n",
      "[237]\tvalidation_0-rmse:2.67454\tvalidation_1-rmse:13.65009\n",
      "[238]\tvalidation_0-rmse:2.67258\tvalidation_1-rmse:13.64737\n",
      "[239]\tvalidation_0-rmse:2.65786\tvalidation_1-rmse:13.65139\n",
      "[240]\tvalidation_0-rmse:2.64925\tvalidation_1-rmse:13.65951\n",
      "[241]\tvalidation_0-rmse:2.64005\tvalidation_1-rmse:13.66069\n",
      "[242]\tvalidation_0-rmse:2.61894\tvalidation_1-rmse:13.66038\n",
      "[243]\tvalidation_0-rmse:2.60094\tvalidation_1-rmse:13.65956\n",
      "[244]\tvalidation_0-rmse:2.58945\tvalidation_1-rmse:13.66212\n",
      "[245]\tvalidation_0-rmse:2.58692\tvalidation_1-rmse:13.66091\n",
      "[246]\tvalidation_0-rmse:2.57815\tvalidation_1-rmse:13.66007\n",
      "[247]\tvalidation_0-rmse:2.56428\tvalidation_1-rmse:13.66547\n",
      "[248]\tvalidation_0-rmse:2.55938\tvalidation_1-rmse:13.67060\n",
      "[249]\tvalidation_0-rmse:2.55260\tvalidation_1-rmse:13.66978\n",
      "[250]\tvalidation_0-rmse:2.54367\tvalidation_1-rmse:13.67248\n",
      "[251]\tvalidation_0-rmse:2.52836\tvalidation_1-rmse:13.67309\n",
      "[252]\tvalidation_0-rmse:2.52183\tvalidation_1-rmse:13.68381\n",
      "[253]\tvalidation_0-rmse:2.51948\tvalidation_1-rmse:13.68417\n",
      "[254]\tvalidation_0-rmse:2.50718\tvalidation_1-rmse:13.68770\n",
      "[255]\tvalidation_0-rmse:2.48800\tvalidation_1-rmse:13.68743\n",
      "[256]\tvalidation_0-rmse:2.47301\tvalidation_1-rmse:13.68714\n",
      "[257]\tvalidation_0-rmse:2.45870\tvalidation_1-rmse:13.68307\n",
      "[258]\tvalidation_0-rmse:2.44369\tvalidation_1-rmse:13.66196\n",
      "[259]\tvalidation_0-rmse:2.43758\tvalidation_1-rmse:13.65469\n",
      "[260]\tvalidation_0-rmse:2.42413\tvalidation_1-rmse:13.66131\n",
      "[261]\tvalidation_0-rmse:2.41292\tvalidation_1-rmse:13.66666\n",
      "[262]\tvalidation_0-rmse:2.39880\tvalidation_1-rmse:13.66977\n",
      "[263]\tvalidation_0-rmse:2.38635\tvalidation_1-rmse:13.67974\n",
      "[264]\tvalidation_0-rmse:2.37601\tvalidation_1-rmse:13.66759\n",
      "[265]\tvalidation_0-rmse:2.36653\tvalidation_1-rmse:13.66447\n",
      "[266]\tvalidation_0-rmse:2.35569\tvalidation_1-rmse:13.66913\n",
      "[267]\tvalidation_0-rmse:2.33915\tvalidation_1-rmse:13.67090\n",
      "[268]\tvalidation_0-rmse:2.32495\tvalidation_1-rmse:13.67475\n",
      "[269]\tvalidation_0-rmse:2.32276\tvalidation_1-rmse:13.66937\n",
      "[270]\tvalidation_0-rmse:2.31725\tvalidation_1-rmse:13.66735\n",
      "[271]\tvalidation_0-rmse:2.30965\tvalidation_1-rmse:13.66804\n",
      "[272]\tvalidation_0-rmse:2.30159\tvalidation_1-rmse:13.66325\n",
      "[273]\tvalidation_0-rmse:2.28754\tvalidation_1-rmse:13.65518\n"
     ]
    },
    {
     "name": "stdout",
     "output_type": "stream",
     "text": [
      "[274]\tvalidation_0-rmse:2.28239\tvalidation_1-rmse:13.65636\n",
      "[275]\tvalidation_0-rmse:2.26945\tvalidation_1-rmse:13.66251\n",
      "[276]\tvalidation_0-rmse:2.26039\tvalidation_1-rmse:13.66782\n",
      "[277]\tvalidation_0-rmse:2.25696\tvalidation_1-rmse:13.66647\n",
      "[278]\tvalidation_0-rmse:2.24454\tvalidation_1-rmse:13.67498\n",
      "[279]\tvalidation_0-rmse:2.23260\tvalidation_1-rmse:13.67505\n",
      "[280]\tvalidation_0-rmse:2.22774\tvalidation_1-rmse:13.67660\n",
      "[281]\tvalidation_0-rmse:2.21303\tvalidation_1-rmse:13.68257\n",
      "[282]\tvalidation_0-rmse:2.20125\tvalidation_1-rmse:13.68750\n",
      "[283]\tvalidation_0-rmse:2.19497\tvalidation_1-rmse:13.68699\n",
      "[284]\tvalidation_0-rmse:2.18571\tvalidation_1-rmse:13.68958\n",
      "[285]\tvalidation_0-rmse:2.17578\tvalidation_1-rmse:13.68263\n",
      "[286]\tvalidation_0-rmse:2.16319\tvalidation_1-rmse:13.68015\n",
      "[287]\tvalidation_0-rmse:2.15598\tvalidation_1-rmse:13.67836\n",
      "[288]\tvalidation_0-rmse:2.14659\tvalidation_1-rmse:13.67703\n",
      "[289]\tvalidation_0-rmse:2.13610\tvalidation_1-rmse:13.67710\n",
      "[290]\tvalidation_0-rmse:2.12410\tvalidation_1-rmse:13.65692\n",
      "[291]\tvalidation_0-rmse:2.11200\tvalidation_1-rmse:13.65693\n",
      "[292]\tvalidation_0-rmse:2.10688\tvalidation_1-rmse:13.65221\n",
      "[293]\tvalidation_0-rmse:2.09497\tvalidation_1-rmse:13.65293\n",
      "[294]\tvalidation_0-rmse:2.08778\tvalidation_1-rmse:13.65335\n",
      "[295]\tvalidation_0-rmse:2.08166\tvalidation_1-rmse:13.65070\n",
      "[296]\tvalidation_0-rmse:2.07441\tvalidation_1-rmse:13.65657\n",
      "[297]\tvalidation_0-rmse:2.06744\tvalidation_1-rmse:13.65318\n",
      "[298]\tvalidation_0-rmse:2.06296\tvalidation_1-rmse:13.65102\n",
      "[299]\tvalidation_0-rmse:2.05512\tvalidation_1-rmse:13.65699\n",
      "[300]\tvalidation_0-rmse:2.05250\tvalidation_1-rmse:13.65954\n",
      "[301]\tvalidation_0-rmse:2.04432\tvalidation_1-rmse:13.66957\n",
      "[302]\tvalidation_0-rmse:2.03366\tvalidation_1-rmse:13.66998\n",
      "[303]\tvalidation_0-rmse:2.02661\tvalidation_1-rmse:13.67463\n",
      "[304]\tvalidation_0-rmse:2.01408\tvalidation_1-rmse:13.68012\n",
      "[305]\tvalidation_0-rmse:2.00317\tvalidation_1-rmse:13.68125\n",
      "[306]\tvalidation_0-rmse:2.00072\tvalidation_1-rmse:13.68522\n",
      "[307]\tvalidation_0-rmse:1.99413\tvalidation_1-rmse:13.68586\n",
      "[308]\tvalidation_0-rmse:1.98441\tvalidation_1-rmse:13.68509\n",
      "[309]\tvalidation_0-rmse:1.97871\tvalidation_1-rmse:13.68664\n",
      "[310]\tvalidation_0-rmse:1.96989\tvalidation_1-rmse:13.69042\n",
      "[311]\tvalidation_0-rmse:1.96178\tvalidation_1-rmse:13.69284\n",
      "[312]\tvalidation_0-rmse:1.95660\tvalidation_1-rmse:13.68950\n",
      "[313]\tvalidation_0-rmse:1.95063\tvalidation_1-rmse:13.68797\n",
      "[314]\tvalidation_0-rmse:1.94390\tvalidation_1-rmse:13.68391\n",
      "[315]\tvalidation_0-rmse:1.93970\tvalidation_1-rmse:13.68614\n",
      "[316]\tvalidation_0-rmse:1.92438\tvalidation_1-rmse:13.68836\n",
      "[317]\tvalidation_0-rmse:1.92244\tvalidation_1-rmse:13.68807\n",
      "[318]\tvalidation_0-rmse:1.91547\tvalidation_1-rmse:13.69497\n",
      "[319]\tvalidation_0-rmse:1.91234\tvalidation_1-rmse:13.69512\n",
      "[320]\tvalidation_0-rmse:1.90979\tvalidation_1-rmse:13.69590\n",
      "[321]\tvalidation_0-rmse:1.90165\tvalidation_1-rmse:13.68954\n",
      "[322]\tvalidation_0-rmse:1.89306\tvalidation_1-rmse:13.68652\n",
      "[323]\tvalidation_0-rmse:1.88389\tvalidation_1-rmse:13.68434\n",
      "[324]\tvalidation_0-rmse:1.87320\tvalidation_1-rmse:13.68531\n",
      "[325]\tvalidation_0-rmse:1.86360\tvalidation_1-rmse:13.68920\n",
      "[326]\tvalidation_0-rmse:1.85808\tvalidation_1-rmse:13.69125\n",
      "[327]\tvalidation_0-rmse:1.85300\tvalidation_1-rmse:13.69565\n",
      "[328]\tvalidation_0-rmse:1.84834\tvalidation_1-rmse:13.69153\n",
      "[329]\tvalidation_0-rmse:1.83797\tvalidation_1-rmse:13.69503\n",
      "[330]\tvalidation_0-rmse:1.83547\tvalidation_1-rmse:13.69544\n",
      "[331]\tvalidation_0-rmse:1.82846\tvalidation_1-rmse:13.69608\n",
      "[332]\tvalidation_0-rmse:1.82324\tvalidation_1-rmse:13.69889\n",
      "[333]\tvalidation_0-rmse:1.80789\tvalidation_1-rmse:13.69182\n",
      "[334]\tvalidation_0-rmse:1.80221\tvalidation_1-rmse:13.68595\n",
      "[335]\tvalidation_0-rmse:1.79357\tvalidation_1-rmse:13.69489\n",
      "[336]\tvalidation_0-rmse:1.78801\tvalidation_1-rmse:13.69195\n",
      "[337]\tvalidation_0-rmse:1.78138\tvalidation_1-rmse:13.70228\n",
      "[338]\tvalidation_0-rmse:1.78013\tvalidation_1-rmse:13.70132\n",
      "[339]\tvalidation_0-rmse:1.77620\tvalidation_1-rmse:13.70729\n",
      "[340]\tvalidation_0-rmse:1.77104\tvalidation_1-rmse:13.71241\n",
      "[341]\tvalidation_0-rmse:1.76728\tvalidation_1-rmse:13.71038\n",
      "[342]\tvalidation_0-rmse:1.75969\tvalidation_1-rmse:13.71220\n",
      "[343]\tvalidation_0-rmse:1.75329\tvalidation_1-rmse:13.71270\n",
      "[344]\tvalidation_0-rmse:1.74695\tvalidation_1-rmse:13.71795\n",
      "[345]\tvalidation_0-rmse:1.73687\tvalidation_1-rmse:13.71690\n",
      "[346]\tvalidation_0-rmse:1.73227\tvalidation_1-rmse:13.71562\n",
      "[347]\tvalidation_0-rmse:1.72849\tvalidation_1-rmse:13.71434\n",
      "[348]\tvalidation_0-rmse:1.72214\tvalidation_1-rmse:13.71134\n",
      "[349]\tvalidation_0-rmse:1.71151\tvalidation_1-rmse:13.70364\n",
      "[350]\tvalidation_0-rmse:1.70363\tvalidation_1-rmse:13.70300\n",
      "[351]\tvalidation_0-rmse:1.69869\tvalidation_1-rmse:13.71095\n",
      "[352]\tvalidation_0-rmse:1.68965\tvalidation_1-rmse:13.70529\n",
      "[353]\tvalidation_0-rmse:1.68247\tvalidation_1-rmse:13.70763\n",
      "[354]\tvalidation_0-rmse:1.67511\tvalidation_1-rmse:13.69577\n",
      "[355]\tvalidation_0-rmse:1.66935\tvalidation_1-rmse:13.69286\n",
      "[356]\tvalidation_0-rmse:1.66290\tvalidation_1-rmse:13.69855\n",
      "[357]\tvalidation_0-rmse:1.65885\tvalidation_1-rmse:13.69565\n",
      "[358]\tvalidation_0-rmse:1.64970\tvalidation_1-rmse:13.70187\n",
      "[359]\tvalidation_0-rmse:1.64104\tvalidation_1-rmse:13.70435\n",
      "[360]\tvalidation_0-rmse:1.63361\tvalidation_1-rmse:13.69905\n",
      "[361]\tvalidation_0-rmse:1.63047\tvalidation_1-rmse:13.70642\n",
      "[362]\tvalidation_0-rmse:1.62323\tvalidation_1-rmse:13.70911\n",
      "[363]\tvalidation_0-rmse:1.61750\tvalidation_1-rmse:13.72059\n",
      "[364]\tvalidation_0-rmse:1.61498\tvalidation_1-rmse:13.71966\n",
      "[365]\tvalidation_0-rmse:1.60673\tvalidation_1-rmse:13.72240\n",
      "[366]\tvalidation_0-rmse:1.60130\tvalidation_1-rmse:13.71947\n",
      "[367]\tvalidation_0-rmse:1.59502\tvalidation_1-rmse:13.72123\n",
      "[368]\tvalidation_0-rmse:1.58953\tvalidation_1-rmse:13.72582\n",
      "[369]\tvalidation_0-rmse:1.58311\tvalidation_1-rmse:13.72567\n",
      "[370]\tvalidation_0-rmse:1.57632\tvalidation_1-rmse:13.72279\n",
      "[371]\tvalidation_0-rmse:1.56952\tvalidation_1-rmse:13.72216\n",
      "[372]\tvalidation_0-rmse:1.56359\tvalidation_1-rmse:13.72341\n",
      "[373]\tvalidation_0-rmse:1.55807\tvalidation_1-rmse:13.72693\n",
      "[374]\tvalidation_0-rmse:1.55564\tvalidation_1-rmse:13.72683\n",
      "[375]\tvalidation_0-rmse:1.55417\tvalidation_1-rmse:13.72918\n",
      "[376]\tvalidation_0-rmse:1.54854\tvalidation_1-rmse:13.73159\n",
      "[377]\tvalidation_0-rmse:1.54452\tvalidation_1-rmse:13.73165\n",
      "[378]\tvalidation_0-rmse:1.53980\tvalidation_1-rmse:13.73431\n",
      "[379]\tvalidation_0-rmse:1.53011\tvalidation_1-rmse:13.73554\n",
      "[380]\tvalidation_0-rmse:1.52431\tvalidation_1-rmse:13.72562\n",
      "[381]\tvalidation_0-rmse:1.51470\tvalidation_1-rmse:13.72725\n",
      "[382]\tvalidation_0-rmse:1.50580\tvalidation_1-rmse:13.72537\n",
      "[383]\tvalidation_0-rmse:1.49967\tvalidation_1-rmse:13.72741\n",
      "[384]\tvalidation_0-rmse:1.49515\tvalidation_1-rmse:13.72936\n",
      "[385]\tvalidation_0-rmse:1.48436\tvalidation_1-rmse:13.72193\n",
      "[386]\tvalidation_0-rmse:1.47819\tvalidation_1-rmse:13.72889\n",
      "[387]\tvalidation_0-rmse:1.47229\tvalidation_1-rmse:13.73170\n",
      "[388]\tvalidation_0-rmse:1.46936\tvalidation_1-rmse:13.73085\n",
      "[389]\tvalidation_0-rmse:1.46770\tvalidation_1-rmse:13.73132\n",
      "[390]\tvalidation_0-rmse:1.46381\tvalidation_1-rmse:13.73579\n",
      "[391]\tvalidation_0-rmse:1.46132\tvalidation_1-rmse:13.73676\n",
      "[392]\tvalidation_0-rmse:1.45541\tvalidation_1-rmse:13.74668\n",
      "[393]\tvalidation_0-rmse:1.44912\tvalidation_1-rmse:13.75121\n",
      "[394]\tvalidation_0-rmse:1.44703\tvalidation_1-rmse:13.74988\n",
      "[395]\tvalidation_0-rmse:1.44143\tvalidation_1-rmse:13.74835\n",
      "[396]\tvalidation_0-rmse:1.43718\tvalidation_1-rmse:13.75081\n",
      "[397]\tvalidation_0-rmse:1.43272\tvalidation_1-rmse:13.74802\n",
      "[398]\tvalidation_0-rmse:1.43128\tvalidation_1-rmse:13.74993\n",
      "[399]\tvalidation_0-rmse:1.42699\tvalidation_1-rmse:13.74973\n",
      "[400]\tvalidation_0-rmse:1.42189\tvalidation_1-rmse:13.75231\n",
      "[401]\tvalidation_0-rmse:1.41709\tvalidation_1-rmse:13.75612\n",
      "[402]\tvalidation_0-rmse:1.40683\tvalidation_1-rmse:13.75523\n",
      "[403]\tvalidation_0-rmse:1.40163\tvalidation_1-rmse:13.75372\n",
      "[404]\tvalidation_0-rmse:1.39746\tvalidation_1-rmse:13.75254\n",
      "[405]\tvalidation_0-rmse:1.39049\tvalidation_1-rmse:13.75631\n",
      "[406]\tvalidation_0-rmse:1.38485\tvalidation_1-rmse:13.75705\n",
      "[407]\tvalidation_0-rmse:1.37977\tvalidation_1-rmse:13.75089\n",
      "[408]\tvalidation_0-rmse:1.37500\tvalidation_1-rmse:13.75330\n",
      "[409]\tvalidation_0-rmse:1.36981\tvalidation_1-rmse:13.75377\n",
      "[410]\tvalidation_0-rmse:1.36271\tvalidation_1-rmse:13.75929\n",
      "[411]\tvalidation_0-rmse:1.35467\tvalidation_1-rmse:13.76090\n",
      "[412]\tvalidation_0-rmse:1.35163\tvalidation_1-rmse:13.75961\n"
     ]
    },
    {
     "name": "stdout",
     "output_type": "stream",
     "text": [
      "[413]\tvalidation_0-rmse:1.34829\tvalidation_1-rmse:13.75774\n",
      "[414]\tvalidation_0-rmse:1.34496\tvalidation_1-rmse:13.76004\n",
      "[415]\tvalidation_0-rmse:1.33531\tvalidation_1-rmse:13.76575\n",
      "[416]\tvalidation_0-rmse:1.33068\tvalidation_1-rmse:13.76415\n",
      "[417]\tvalidation_0-rmse:1.32961\tvalidation_1-rmse:13.76567\n",
      "[418]\tvalidation_0-rmse:1.32388\tvalidation_1-rmse:13.76184\n",
      "[419]\tvalidation_0-rmse:1.32096\tvalidation_1-rmse:13.76286\n",
      "[420]\tvalidation_0-rmse:1.31859\tvalidation_1-rmse:13.76457\n",
      "[421]\tvalidation_0-rmse:1.31079\tvalidation_1-rmse:13.76420\n",
      "[422]\tvalidation_0-rmse:1.30548\tvalidation_1-rmse:13.76642\n",
      "[423]\tvalidation_0-rmse:1.29221\tvalidation_1-rmse:13.76633\n",
      "[424]\tvalidation_0-rmse:1.28725\tvalidation_1-rmse:13.76265\n",
      "[425]\tvalidation_0-rmse:1.28217\tvalidation_1-rmse:13.76551\n",
      "[426]\tvalidation_0-rmse:1.27673\tvalidation_1-rmse:13.76787\n",
      "[427]\tvalidation_0-rmse:1.27514\tvalidation_1-rmse:13.76531\n",
      "[428]\tvalidation_0-rmse:1.27034\tvalidation_1-rmse:13.76354\n",
      "[429]\tvalidation_0-rmse:1.26450\tvalidation_1-rmse:13.76551\n",
      "[430]\tvalidation_0-rmse:1.26024\tvalidation_1-rmse:13.76536\n",
      "[431]\tvalidation_0-rmse:1.25363\tvalidation_1-rmse:13.76750\n",
      "[432]\tvalidation_0-rmse:1.25198\tvalidation_1-rmse:13.76472\n",
      "[433]\tvalidation_0-rmse:1.24832\tvalidation_1-rmse:13.76264\n",
      "[434]\tvalidation_0-rmse:1.24384\tvalidation_1-rmse:13.75750\n",
      "[435]\tvalidation_0-rmse:1.24024\tvalidation_1-rmse:13.75985\n",
      "[436]\tvalidation_0-rmse:1.23954\tvalidation_1-rmse:13.76185\n",
      "[437]\tvalidation_0-rmse:1.23903\tvalidation_1-rmse:13.76200\n",
      "[438]\tvalidation_0-rmse:1.23579\tvalidation_1-rmse:13.76182\n",
      "[439]\tvalidation_0-rmse:1.23325\tvalidation_1-rmse:13.76304\n",
      "[440]\tvalidation_0-rmse:1.23179\tvalidation_1-rmse:13.76110\n",
      "[441]\tvalidation_0-rmse:1.22541\tvalidation_1-rmse:13.76095\n",
      "[442]\tvalidation_0-rmse:1.22188\tvalidation_1-rmse:13.76332\n",
      "[443]\tvalidation_0-rmse:1.21974\tvalidation_1-rmse:13.76424\n",
      "[444]\tvalidation_0-rmse:1.21892\tvalidation_1-rmse:13.76334\n",
      "[445]\tvalidation_0-rmse:1.21338\tvalidation_1-rmse:13.76560\n",
      "[446]\tvalidation_0-rmse:1.20849\tvalidation_1-rmse:13.76458\n",
      "[447]\tvalidation_0-rmse:1.20456\tvalidation_1-rmse:13.76368\n",
      "[448]\tvalidation_0-rmse:1.20017\tvalidation_1-rmse:13.76489\n",
      "[449]\tvalidation_0-rmse:1.19694\tvalidation_1-rmse:13.75579\n",
      "[450]\tvalidation_0-rmse:1.19324\tvalidation_1-rmse:13.76076\n",
      "[451]\tvalidation_0-rmse:1.18757\tvalidation_1-rmse:13.76071\n",
      "[452]\tvalidation_0-rmse:1.18426\tvalidation_1-rmse:13.76403\n",
      "[453]\tvalidation_0-rmse:1.17741\tvalidation_1-rmse:13.76905\n",
      "[454]\tvalidation_0-rmse:1.17433\tvalidation_1-rmse:13.77070\n",
      "[455]\tvalidation_0-rmse:1.17072\tvalidation_1-rmse:13.76591\n",
      "[456]\tvalidation_0-rmse:1.16293\tvalidation_1-rmse:13.76875\n",
      "[457]\tvalidation_0-rmse:1.15744\tvalidation_1-rmse:13.77066\n",
      "[458]\tvalidation_0-rmse:1.15177\tvalidation_1-rmse:13.77135\n",
      "[459]\tvalidation_0-rmse:1.14994\tvalidation_1-rmse:13.77171\n",
      "[460]\tvalidation_0-rmse:1.14278\tvalidation_1-rmse:13.76856\n",
      "[461]\tvalidation_0-rmse:1.13782\tvalidation_1-rmse:13.76723\n",
      "[462]\tvalidation_0-rmse:1.13699\tvalidation_1-rmse:13.76781\n",
      "[463]\tvalidation_0-rmse:1.13480\tvalidation_1-rmse:13.76908\n",
      "[464]\tvalidation_0-rmse:1.13163\tvalidation_1-rmse:13.76869\n",
      "[465]\tvalidation_0-rmse:1.12919\tvalidation_1-rmse:13.77253\n",
      "[466]\tvalidation_0-rmse:1.12462\tvalidation_1-rmse:13.76997\n",
      "[467]\tvalidation_0-rmse:1.12082\tvalidation_1-rmse:13.77268\n",
      "[468]\tvalidation_0-rmse:1.11523\tvalidation_1-rmse:13.77140\n",
      "[469]\tvalidation_0-rmse:1.11321\tvalidation_1-rmse:13.76992\n",
      "[470]\tvalidation_0-rmse:1.11224\tvalidation_1-rmse:13.77400\n",
      "[471]\tvalidation_0-rmse:1.10514\tvalidation_1-rmse:13.77356\n",
      "[472]\tvalidation_0-rmse:1.10346\tvalidation_1-rmse:13.77700\n",
      "[473]\tvalidation_0-rmse:1.10168\tvalidation_1-rmse:13.77559\n",
      "[474]\tvalidation_0-rmse:1.10138\tvalidation_1-rmse:13.77736\n",
      "[475]\tvalidation_0-rmse:1.09541\tvalidation_1-rmse:13.78107\n",
      "[476]\tvalidation_0-rmse:1.09099\tvalidation_1-rmse:13.78115\n",
      "[477]\tvalidation_0-rmse:1.08723\tvalidation_1-rmse:13.78122\n",
      "[478]\tvalidation_0-rmse:1.08333\tvalidation_1-rmse:13.77527\n",
      "[479]\tvalidation_0-rmse:1.08163\tvalidation_1-rmse:13.77558\n",
      "[480]\tvalidation_0-rmse:1.08000\tvalidation_1-rmse:13.77237\n",
      "[481]\tvalidation_0-rmse:1.07803\tvalidation_1-rmse:13.77403\n",
      "[482]\tvalidation_0-rmse:1.07402\tvalidation_1-rmse:13.77729\n",
      "[483]\tvalidation_0-rmse:1.06895\tvalidation_1-rmse:13.76907\n",
      "[484]\tvalidation_0-rmse:1.06782\tvalidation_1-rmse:13.76673\n",
      "[485]\tvalidation_0-rmse:1.06483\tvalidation_1-rmse:13.76702\n",
      "[486]\tvalidation_0-rmse:1.06330\tvalidation_1-rmse:13.76233\n",
      "[487]\tvalidation_0-rmse:1.05983\tvalidation_1-rmse:13.76376\n",
      "[488]\tvalidation_0-rmse:1.05571\tvalidation_1-rmse:13.76551\n",
      "[489]\tvalidation_0-rmse:1.05098\tvalidation_1-rmse:13.76468\n",
      "[490]\tvalidation_0-rmse:1.04635\tvalidation_1-rmse:13.76269\n",
      "[491]\tvalidation_0-rmse:1.04498\tvalidation_1-rmse:13.76372\n",
      "[492]\tvalidation_0-rmse:1.04150\tvalidation_1-rmse:13.76525\n",
      "[493]\tvalidation_0-rmse:1.03666\tvalidation_1-rmse:13.76337\n",
      "[494]\tvalidation_0-rmse:1.03279\tvalidation_1-rmse:13.76027\n",
      "[495]\tvalidation_0-rmse:1.02968\tvalidation_1-rmse:13.76101\n",
      "[496]\tvalidation_0-rmse:1.02866\tvalidation_1-rmse:13.75992\n",
      "[497]\tvalidation_0-rmse:1.02769\tvalidation_1-rmse:13.75936\n",
      "[498]\tvalidation_0-rmse:1.02655\tvalidation_1-rmse:13.75764\n",
      "[499]\tvalidation_0-rmse:1.02301\tvalidation_1-rmse:13.76096\n"
     ]
    }
   ],
   "source": [
    "model = xgb.XGBRegressor(\n",
    "    cossample_bytree= 0.3,\n",
    "    learninetag_rate = 0.01,\n",
    "    max_depth=3,\n",
    "    n_estimators  = 500)\n",
    "\n",
    "model.fit(\n",
    "    Xpca_tr, \n",
    "    ynp_tr,\n",
    "    eval_metric=\"rmse\", \n",
    "    eval_set=[(Xpca_tr, ynp_tr),\n",
    "               (Xpca_te, ynp_te)], \n",
    "    verbose=True)\n",
    "\n",
    "# Testing\n",
    "y_pred = model.predict(Xpca_te)"
   ]
  },
  {
   "cell_type": "code",
   "execution_count": 571,
   "metadata": {
    "scrolled": false
   },
   "outputs": [
    {
     "data": {
      "text/plain": [
       "{'f0': 22.055744171142578,\n",
       " 'f1': 16.891159057617188,\n",
       " 'f2': 43.08696365356445,\n",
       " 'f3': 30.5233154296875,\n",
       " 'f4': 33.070953369140625,\n",
       " 'f5': 19.850740432739258,\n",
       " 'f6': 24.4453067779541,\n",
       " 'f7': 12.253007888793945}"
      ]
     },
     "execution_count": 571,
     "metadata": {},
     "output_type": "execute_result"
    },
    {
     "data": {
      "image/png": "[encoded data removed]",
      "text/plain": [
       "<Figure size 432x288 with 1 Axes>"
      ]
     },
     "metadata": {
      "needs_background": "light"
     },
     "output_type": "display_data"
    }
   ],
   "source": [
    "from xgboost import plot_importance\n",
    "plot_importance(bst)\n",
    "\n",
    "bst.get_score(importance_type='gain')\n"
   ]
  },
  {
   "cell_type": "markdown",
   "metadata": {},
   "source": [
    "### Interactive plot of predictions"
   ]
  },
  {
   "cell_type": "code",
   "execution_count": 572,
   "metadata": {},
   "outputs": [
    {
     "data": {
      "application/vnd.plotly.v1+json": {
       "config": {
        "plotlyServerURL": "https://plot.ly"
       },
       "data": [
        {
         "customdata": [
          [
           "Josh Sargent",
           "Norwich City",
           "Centre-Forward"
          ],
          [
           "Ante Budimir",
           "RCD Mallorca",
           "Centre-Forward"
          ],
          [
           "Patrik Schick",
           "RB Leipzig",
           "Centre-Forward"
          ],
          [
           "Gerard Moreno",
           "Villarreal CF",
           "Centre-Forward"
          ],
          [
           "Carlos Fernández",
           "Real Sociedad",
           "Centre-Forward"
          ],
          [
           "Luis Suárez",
           "Atlético de Madrid",
           "Centre-Forward"
          ],
          [
           "Dominic Solanke",
           "AFC Bournemouth",
           "Centre-Forward"
          ],
          [
           "Antonio Sanabria",
           "Torino FC",
           "Centre-Forward"
          ],
          [
           "Wout Weghorst",
           "Burnley FC",
           "Centre-Forward"
          ],
          [
           "Felipe Avenatti",
           "Bologna FC 1909",
           "Centre-Forward"
          ],
          [
           "Andrea Pinamonti",
           "Inter Milan",
           "Centre-Forward"
          ],
          [
           "Moussa Dembélé",
           "Atlético de Madrid",
           "Centre-Forward"
          ],
          [
           "Jean-Kévin Augustin",
           "AS Monaco",
           "Centre-Forward"
          ],
          [
           "Grégoire Defrel",
           "US Sassuolo",
           "Centre-Forward"
          ],
          [
           "Paco Alcácer",
           "Villarreal CF",
           "Centre-Forward"
          ],
          [
           "Victor Osimhen",
           "LOSC Lille",
           "Centre-Forward"
          ],
          [
           "Giovanni Simeone",
           "Cagliari Calcio",
           "Centre-Forward"
          ],
          [
           "André Silva",
           "Sevilla FC",
           "Centre-Forward"
          ],
          [
           "Willian José",
           "Wolverhampton Wanderers",
           "Centre-Forward"
          ],
          [
           "Danny Ings",
           "Southampton FC",
           "Centre-Forward"
          ],
          [
           "Gonçalo Paciência",
           "FC Schalke 04",
           "Centre-Forward"
          ],
          [
           "Andreas Cornelius",
           "FC Girondins Bordeaux",
           "Centre-Forward"
          ],
          [
           "Isaac Success",
           "Udinese Calcio",
           "Centre-Forward"
          ],
          [
           "Steve Mounié",
           "Stade Brestois 29",
           "Centre-Forward"
          ],
          [
           "Lucas Pérez",
           "Cádiz CF",
           "Centre-Forward"
          ],
          [
           "Andrea Petagna",
           "SPAL",
           "Centre-Forward"
          ],
          [
           "Ishak Belfodil",
           "TSG 1899 Hoffenheim",
           "Centre-Forward"
          ],
          [
           "Ignatius Ganago",
           "RC Lens",
           "Centre-Forward"
          ],
          [
           "Munir El Haddadi",
           "Sevilla FC",
           "Centre-Forward"
          ],
          [
           "Andrea Petagna",
           "SSC Napoli",
           "Centre-Forward"
          ],
          [
           "Carlos Bacca",
           "Villarreal CF",
           "Centre-Forward"
          ],
          [
           "Gonzalo Higuaín",
           "AC Milan",
           "Centre-Forward"
          ],
          [
           "Corentin Jean",
           "RC Lens",
           "Centre-Forward"
          ]
         ],
         "hovertemplate": "position=%{customdata[2]}<br>prediction=%{x}<br>True Price=%{y}<br>player_name=%{customdata[0]}<br>club_name=%{customdata[1]}<extra></extra>",
         "legendgroup": "Centre-Forward",
         "marker": {
          "color": "#636efa",
          "symbol": "circle"
         },
         "mode": "markers",
         "name": "Centre-Forward",
         "orientation": "v",
         "showlegend": true,
         "type": "scatter",
         "x": [
          12.642951011657715,
          14.380546569824219,
          8.458694458007812,
          2.301943778991699,
          12.773149490356445,
          32.94585418701172,
          6.622019290924072,
          3.12520432472229,
          25.313827514648438,
          -0.2755606770515442,
          19.52022933959961,
          24.999271392822266,
          4.891355991363525,
          20.18097686767578,
          15.829889297485352,
          9.41342544555664,
          10.898175239562988,
          13.539164543151855,
          18.82235336303711,
          7.0989179611206055,
          39.09238815307617,
          9.1483736038208,
          5.108061790466309,
          14.966398239135742,
          25.123598098754883,
          19.32489013671875,
          15.92807388305664,
          15.179795265197754,
          7.872283935546875,
          21.19405746459961,
          21.674306869506836,
          18.556119918823242,
          4.068191051483154
         ],
         "xaxis": "x",
         "y": [
          9.5,
          2.262499266302753,
          3.5994306509361977,
          20.814968814968815,
          10.258797353475028,
          7.18115814743252,
          22.063866943866945,
          7.18115814743252,
          14,
          2.6018711018711023,
          21.54347444229756,
          1.5388196030212544,
          4.113635029641369,
          3.085226272231026,
          23.65340142043787,
          23.036356165991663,
          13.336436559517535,
          3.954844074844075,
          3.077639206042509,
          25.81305981099959,
          2.0517594706950057,
          1.4466403326403328,
          1.8,
          5.129398676737514,
          0.2,
          3.1222453222453224,
          5.724116424116425,
          6.155278412085018,
          1.0927858627858629,
          17.071585373011683,
          7.285239085239086,
          10.615634095634096,
          1.0258797353475029
         ],
         "yaxis": "y"
        },
        {
         "customdata": [
          [
           "Jeremías Ledesma",
           "Cádiz CF",
           "Goalkeeper"
          ],
          [
           "Alfred Gomis",
           "SPAL",
           "Goalkeeper"
          ],
          [
           "Baptiste Reynet",
           "Nîmes Olympique",
           "Goalkeeper"
          ],
          [
           "Juan Musso",
           "Atalanta BC",
           "Goalkeeper"
          ],
          [
           "Ben Foster",
           "Watford FC",
           "Goalkeeper"
          ],
          [
           "David Button",
           "West Bromwich Albion",
           "Goalkeeper"
          ],
          [
           "Florian Müller",
           "SC Freiburg",
           "Goalkeeper"
          ],
          [
           "Baptiste Reynet",
           "FC Toulouse",
           "Goalkeeper"
          ],
          [
           "Tom Heaton",
           "Aston Villa",
           "Goalkeeper"
          ],
          [
           "Florian Müller",
           "VfB Stuttgart",
           "Goalkeeper"
          ],
          [
           "Andrés Fernández",
           "SD Huesca",
           "Goalkeeper"
          ],
          [
           "Oier Olazábal",
           "RCD Espanyol Barcelona",
           "Goalkeeper"
          ],
          [
           "Orestis Karnezis",
           "LOSC Lille",
           "Goalkeeper"
          ],
          [
           "Antonio Adán",
           "Atlético de Madrid",
           "Goalkeeper"
          ],
          [
           "Emil Audero",
           "UC Sampdoria",
           "Goalkeeper"
          ],
          [
           "Jonas Lössl",
           "Huddersfield Town",
           "Goalkeeper"
          ],
          [
           "Rui Patrício",
           "AS Roma",
           "Goalkeeper"
          ],
          [
           "Kevin Trapp",
           "Eintracht Frankfurt",
           "Goalkeeper"
          ],
          [
           "Neto",
           "FC Barcelona",
           "Goalkeeper"
          ]
         ],
         "hovertemplate": "position=%{customdata[2]}<br>prediction=%{x}<br>True Price=%{y}<br>player_name=%{customdata[0]}<br>club_name=%{customdata[1]}<extra></extra>",
         "legendgroup": "Goalkeeper",
         "marker": {
          "color": "#EF553B",
          "symbol": "circle"
         },
         "mode": "markers",
         "name": "Goalkeeper",
         "orientation": "v",
         "showlegend": true,
         "type": "scatter",
         "x": [
          -3.311753034591675,
          37.04210662841797,
          18.515453338623047,
          -5.0566325187683105,
          2.164036273956299,
          1.1756675243377686,
          18.27398109436035,
          31.924514770507812,
          9.351655960083008,
          12.112662315368652,
          1.8608795404434204,
          1.7513177394866943,
          1.4967501163482666,
          39.17588806152344,
          11.536925315856934,
          36.33308792114258,
          3.8256680965423584,
          -1.0488755702972412,
          33.70689392089844
         ],
         "xaxis": "x",
         "y": [
          1.8,
          1.5611226611226612,
          0.3590579073716259,
          20,
          2.9140956340956343,
          1.1284677088822532,
          0.2051759470695006,
          4.1629937629937634,
          9.049997065211013,
          5,
          0.5129398676737514,
          1.542613136115513,
          5.26276304233269,
          1.5611226611226612,
          20.568175148206844,
          2.6018711018711023,
          11.8,
          7.198861301872396,
          26.7386276926689
         ],
         "yaxis": "y"
        },
        {
         "customdata": [
          [
           "Kévin Malcuit",
           "SSC Napoli",
           "Right-Back"
          ],
          [
           "Jonathan Schmid",
           "SC Freiburg",
           "Right-Back"
          ],
          [
           "Benjamin Pavard",
           "Bayern Munich",
           "Right-Back"
          ],
          [
           "Nélson Semedo",
           "Wolverhampton Wanderers",
           "Right-Back"
          ],
          [
           "Kenny Tete",
           "Fulham FC",
           "Right-Back"
          ],
          [
           "Gabriele Zappa",
           "Cagliari Calcio",
           "Right-Back"
          ],
          [
           "Ruben Aguilar",
           "AS Monaco",
           "Right-Back"
          ],
          [
           "Valentino Lazaro",
           "Hertha BSC",
           "Right-Back"
          ],
          [
           "Kyle Walker-Peters",
           "Southampton FC",
           "Right-Back"
          ],
          [
           "Fabio Depaoli",
           "Atalanta BC",
           "Right-Back"
          ],
          [
           "Valentino Lazaro",
           "Borussia Mönchengladbach",
           "Right-Back"
          ],
          [
           "Florent Hadergjonaj",
           "Huddersfield Town",
           "Right-Back"
          ],
          [
           "Aaron Wan-Bissaka",
           "Manchester United",
           "Right-Back"
          ],
          [
           "Valentino Lazaro",
           "Newcastle United",
           "Right-Back"
          ],
          [
           "Rubén Peña",
           "Villarreal CF",
           "Right-Back"
          ],
          [
           "Ander Capa",
           "Athletic Bilbao",
           "Right-Back"
          ],
          [
           "Bouna Sarr",
           "Bayern Munich",
           "Right-Back"
          ],
          [
           "Antonio Barragán",
           "Real Betis Balompié",
           "Right-Back"
          ]
         ],
         "hovertemplate": "position=%{customdata[2]}<br>prediction=%{x}<br>True Price=%{y}<br>player_name=%{customdata[0]}<br>club_name=%{customdata[1]}<extra></extra>",
         "legendgroup": "Right-Back",
         "marker": {
          "color": "#00cc96",
          "symbol": "circle"
         },
         "mode": "markers",
         "name": "Right-Back",
         "orientation": "v",
         "showlegend": true,
         "type": "scatter",
         "x": [
          8.562899589538574,
          0.8178236484527588,
          29.452030181884766,
          31.589942932128906,
          9.635345458984375,
          15.688127517700195,
          14.3317289352417,
          8.262563705444336,
          2.0921387672424316,
          6.238116264343262,
          5.582444667816162,
          20.30375862121582,
          27.44898223876953,
          21.836336135864258,
          7.007834434509277,
          1.6276291608810425,
          7.161529064178467,
          0.5436830520629883
         ],
         "xaxis": "x",
         "y": [
          12.48898128898129,
          4.113635029641369,
          35.99430650936198,
          32.82815153112009,
          3.2828151531120096,
          3.5,
          8.227270059282738,
          10.92785862785863,
          13.644200480121787,
          0.6155278412085017,
          1.2310556824170034,
          5.2037422037422045,
          56.56248165756882,
          1.542613136115513,
          8.227270059282738,
          3.1222453222453224,
          8.207037882780023,
          1.0407484407484409
         ],
         "yaxis": "y"
        },
        {
         "customdata": [
          [
           "Marius Bülter",
           "1.FC Union Berlin",
           "Second Striker"
          ],
          [
           "Antoine Griezmann",
           "Atlético de Madrid",
           "Second Striker"
          ],
          [
           "Federico Di Francesco",
           "US Sassuolo",
           "Second Striker"
          ],
          [
           "Max Kruse",
           "VfL Wolfsburg",
           "Second Striker"
          ]
         ],
         "hovertemplate": "position=%{customdata[2]}<br>prediction=%{x}<br>True Price=%{y}<br>player_name=%{customdata[0]}<br>club_name=%{customdata[1]}<extra></extra>",
         "legendgroup": "Second Striker",
         "marker": {
          "color": "#ab63fa",
          "symbol": "circle"
         },
         "mode": "markers",
         "name": "Second Striker",
         "orientation": "v",
         "showlegend": true,
         "type": "scatter",
         "x": [
          16.460153579711914,
          42.21099090576172,
          4.352736949920654,
          55.14533996582031
         ],
         "xaxis": "x",
         "y": [
          1.5388196030212544,
          10,
          7.753575883575885,
          5
         ],
         "yaxis": "y"
        },
        {
         "customdata": [
          [
           "Rene Krhin",
           "FC Nantes",
           "Central Midfield"
          ],
          [
           "Hernani",
           "Parma Calcio 1913",
           "Central Midfield"
          ],
          [
           "André Gomes",
           "Everton FC",
           "Central Midfield"
          ],
          [
           "Arne Maier",
           "FC Augsburg",
           "Central Midfield"
          ],
          [
           "Nadiem Amiri",
           "Bayer 04 Leverkusen",
           "Central Midfield"
          ],
          [
           "Gerson",
           "Olympique Marseille",
           "Central Midfield"
          ],
          [
           "Will Hughes",
           "Crystal Palace",
           "Central Midfield"
          ],
          [
           "Kerem Demirbay",
           "Bayer 04 Leverkusen",
           "Central Midfield"
          ],
          [
           "Marcel Sabitzer",
           "Bayern Munich",
           "Central Midfield"
          ],
          [
           "Giovani Lo Celso",
           "Tottenham Hotspur",
           "Central Midfield"
          ],
          [
           "Edimilson Fernandes",
           "1.FSV Mainz 05",
           "Central Midfield"
          ],
          [
           "Gonzalo Melero",
           "Levante UD",
           "Central Midfield"
          ],
          [
           "Jean-Victor Makengo",
           "Udinese Calcio",
           "Central Midfield"
          ],
          [
           "Radja Nainggolan",
           "Inter Milan",
           "Central Midfield"
          ],
          [
           "Seko Fofana",
           "RC Lens",
           "Central Midfield"
          ],
          [
           "Nicolò Barella",
           "Inter Milan",
           "Central Midfield"
          ],
          [
           "Eduard Löwen",
           "Hertha BSC",
           "Central Midfield"
          ],
          [
           "Stefano Sensi",
           "Inter Milan",
           "Central Midfield"
          ],
          [
           "Giovani Lo Celso",
           "Real Betis Balompié",
           "Central Midfield"
          ],
          [
           "Youri Tielemans",
           "Leicester City",
           "Central Midfield"
          ],
          [
           "Fayçal Fajr",
           "Getafe CF",
           "Central Midfield"
          ],
          [
           "Nicolò Barella",
           "Inter Milan",
           "Central Midfield"
          ],
          [
           "Joe Willock",
           "Newcastle United",
           "Central Midfield"
          ]
         ],
         "hovertemplate": "position=%{customdata[2]}<br>prediction=%{x}<br>True Price=%{y}<br>player_name=%{customdata[0]}<br>club_name=%{customdata[1]}<extra></extra>",
         "legendgroup": "Central Midfield",
         "marker": {
          "color": "#FFA15A",
          "symbol": "circle"
         },
         "mode": "markers",
         "name": "Central Midfield",
         "orientation": "v",
         "showlegend": true,
         "type": "scatter",
         "x": [
          11.090599060058594,
          5.672253608703613,
          -0.8175011873245239,
          9.264103889465332,
          6.207582473754883,
          1.9022071361541748,
          7.228909969329834,
          7.246767997741699,
          19.253135681152344,
          27.671865463256836,
          8.708057403564453,
          9.711043357849121,
          9.94658088684082,
          2.7050092220306396,
          12.36002254486084,
          15.437383651733398,
          8.741127967834473,
          1.9199047088623047,
          41.269596099853516,
          25.787368774414062,
          9.714733123779297,
          27.893596649169922,
          3.039848566055298
         ],
         "xaxis": "x",
         "y": [
          0.3122245322245322,
          6.637441887698343,
          2.341683991683992,
          0.5,
          9.25567881669308,
          20,
          7,
          32.90908023713095,
          15,
          32.82815153112009,
          7.713065680577566,
          3.702271526677232,
          3.59057907371626,
          39.548440748440754,
          8.719977750453774,
          12.340905088924108,
          7.198861301872396,
          2.262499266302753,
          3.1222453222453224,
          46.2783940834654,
          1.542613136115513,
          33.34109139879384,
          29.4
         ],
         "yaxis": "y"
        },
        {
         "customdata": [
          [
           "Rúben Vezo",
           "Levante UD",
           "Centre-Back"
          ],
          [
           "Waldemar Anton",
           "VfB Stuttgart",
           "Centre-Back"
          ],
          [
           "Raúl Albiol",
           "Villarreal CF",
           "Centre-Back"
          ],
          [
           "Luca Kilian",
           "1.FSV Mainz 05",
           "Centre-Back"
          ],
          [
           "Pedro Bigas",
           "SD Eibar",
           "Centre-Back"
          ],
          [
           "Javi Sánchez",
           "Real Valladolid CF",
           "Centre-Back"
          ],
          [
           "Sergi Gómez",
           "Sevilla FC",
           "Centre-Back"
          ],
          [
           "Raúl Navas",
           "CA Osasuna",
           "Centre-Back"
          ],
          [
           "Igor",
           "ACF Fiorentina",
           "Centre-Back"
          ],
          [
           "Sebastiano Luperto",
           "FC Crotone",
           "Centre-Back"
          ],
          [
           "Axel Tuanzebe",
           "SSC Napoli",
           "Centre-Back"
          ],
          [
           "Fikayo Tomori",
           "AC Milan",
           "Centre-Back"
          ],
          [
           "Jordi Amat",
           "Rayo Vallecano",
           "Centre-Back"
          ],
          [
           "Lorenzo Tonelli",
           "UC Sampdoria",
           "Centre-Back"
          ],
          [
           "Jawad El Yamiq",
           "Real Valladolid CF",
           "Centre-Back"
          ],
          [
           "Ömer Toprak",
           "SV Werder Bremen",
           "Centre-Back"
          ],
          [
           "Mohammed Salisu",
           "Southampton FC",
           "Centre-Back"
          ],
          [
           "David Luiz",
           "Arsenal FC",
           "Centre-Back"
          ],
          [
           "Axel Disasi",
           "AS Monaco",
           "Centre-Back"
          ],
          [
           "Germán Pezzella",
           "ACF Fiorentina",
           "Centre-Back"
          ],
          [
           "Reece Oxford",
           "FC Augsburg",
           "Centre-Back"
          ],
          [
           "Marc Muniesa",
           "Girona FC",
           "Centre-Back"
          ],
          [
           "Jannik Vestergaard",
           "Southampton FC",
           "Centre-Back"
          ],
          [
           "Lyanco",
           "Southampton FC",
           "Centre-Back"
          ],
          [
           "Maxime Le Marchand",
           "Fulham FC",
           "Centre-Back"
          ],
          [
           "Alexander Djiku",
           "RC Strasbourg Alsace",
           "Centre-Back"
          ],
          [
           "Kamil Glik",
           "Benevento Calcio",
           "Centre-Back"
          ],
          [
           "Erick Cabaco",
           "Levante UD",
           "Centre-Back"
          ],
          [
           "Bruno Ecuele Manga",
           "Dijon FCO",
           "Centre-Back"
          ],
          [
           "Alex Ferrari",
           "UC Sampdoria",
           "Centre-Back"
          ],
          [
           "Sebastiaan Bornauw",
           "VfL Wolfsburg",
           "Centre-Back"
          ],
          [
           "Robert Bauer",
           "1.FC Nuremberg",
           "Centre-Back"
          ],
          [
           "Jeison Murillo",
           "UC Sampdoria",
           "Centre-Back"
          ],
          [
           "Diego Carlos",
           "Sevilla FC",
           "Centre-Back"
          ]
         ],
         "hovertemplate": "position=%{customdata[2]}<br>prediction=%{x}<br>True Price=%{y}<br>player_name=%{customdata[0]}<br>club_name=%{customdata[1]}<extra></extra>",
         "legendgroup": "Centre-Back",
         "marker": {
          "color": "#19d3f3",
          "symbol": "circle"
         },
         "mode": "markers",
         "name": "Centre-Back",
         "orientation": "v",
         "showlegend": true,
         "type": "scatter",
         "x": [
          -0.7257101535797119,
          7.917964458465576,
          22.937429428100586,
          8.592691421508789,
          2.076772451400757,
          2.6397924423217773,
          29.61418914794922,
          2.603733539581299,
          4.862255096435547,
          11.450973510742188,
          9.238243103027344,
          7.231603622436523,
          17.429889678955078,
          -4.10184907913208,
          4.7732253074646,
          -0.693318247795105,
          7.039484024047852,
          28.002729415893555,
          21.80146026611328,
          38.19100570678711,
          4.173035621643066,
          7.238327503204346,
          30.629634857177734,
          12.133198738098145,
          3.389220714569092,
          8.68108081817627,
          15.419313430786133,
          9.962501525878906,
          -7.373672962188721,
          6.44744348526001,
          20.989776611328125,
          3.404778242111206,
          -3.9638352394104004,
          21.715587615966797
         ],
         "xaxis": "x",
         "y": [
          5.142043787051711,
          4.103518941390012,
          4.113635029641369,
          2.0517594706950057,
          3.085226272231026,
          3.077639206042509,
          5.724116424116425,
          0.2564699338368757,
          5,
          0.5129398676737514,
          0.6,
          0.6155278412085017,
          1.0407484407484409,
          2.0517594706950057,
          0.2564699338368757,
          4.103518941390012,
          12.310556824170035,
          8.947156189469977,
          13.336436559517535,
          10.147297297297298,
          0.5203742203742204,
          5.2037422037422045,
          26.01871101871102,
          7.5,
          4.1629937629937634,
          4.62783940834654,
          3.077639206042509,
          2.0814968814968817,
          2.0568175148206844,
          0.2601871101871102,
          13.5,
          0.2081496881496881,
          13.677836473557551,
          15.426131361155132
         ],
         "yaxis": "y"
        },
        {
         "customdata": [
          [
           "Brahim Díaz",
           "AC Milan",
           "Attacking Midfield"
          ],
          [
           "Nabil Fekir",
           "Real Betis Balompié",
           "Attacking Midfield"
          ],
          [
           "Ondrej Duda",
           "1. FC Köln",
           "Attacking Midfield"
          ],
          [
           "Denis Suárez",
           "Arsenal FC",
           "Attacking Midfield"
          ],
          [
           "Gaël Kakuta",
           "Rayo Vallecano",
           "Attacking Midfield"
          ],
          [
           "Borja García",
           "SD Huesca",
           "Attacking Midfield"
          ],
          [
           "Jeff Reine-Adélaïde",
           "SCO Angers",
           "Attacking Midfield"
          ],
          [
           "Gaël Kakuta",
           "RC Lens",
           "Attacking Midfield"
          ],
          [
           "Joelinton",
           "Newcastle United",
           "Attacking Midfield"
          ],
          [
           "Hannes Wolf",
           "Borussia Mönchengladbach",
           "Attacking Midfield"
          ],
          [
           "Denis Suárez",
           "Celta de Vigo",
           "Attacking Midfield"
          ],
          [
           "Valter Birsa",
           "Cagliari Calcio",
           "Attacking Midfield"
          ],
          [
           "Masaya Okugawa",
           "Arminia Bielefeld",
           "Attacking Midfield"
          ],
          [
           "Riccardo Saponara",
           "ACF Fiorentina",
           "Attacking Midfield"
          ],
          [
           "Jeff Reine-Adélaïde",
           "Olympique Lyon",
           "Attacking Midfield"
          ]
         ],
         "hovertemplate": "position=%{customdata[2]}<br>prediction=%{x}<br>True Price=%{y}<br>player_name=%{customdata[0]}<br>club_name=%{customdata[1]}<extra></extra>",
         "legendgroup": "Attacking Midfield",
         "marker": {
          "color": "#FF6692",
          "symbol": "circle"
         },
         "mode": "markers",
         "name": "Attacking Midfield",
         "orientation": "v",
         "showlegend": true,
         "type": "scatter",
         "x": [
          15.463091850280762,
          65.0368423461914,
          4.727546691894531,
          12.375992774963379,
          10.496373176574707,
          0.8749890327453613,
          4.5158772468566895,
          12.157424926757812,
          24.647167205810547,
          9.82591438293457,
          5.8298726081848145,
          9.988778114318848,
          0.6579785346984863,
          2.345186233520508,
          4.792036056518555
         ],
         "xaxis": "x",
         "y": [
          0.2051759470695006,
          20.311072958854258,
          7.18115814743252,
          2.6018711018711023,
          2.0814968814968817,
          1.5388196030212544,
          1.6651975051975054,
          5,
          45.249985326055054,
          9.5,
          13.266472970593416,
          0.3122245322245322,
          1,
          9.366735966735968,
          25.71021893525856
         ],
         "yaxis": "y"
        },
        {
         "customdata": [
          [
           "Benjamin André",
           "LOSC Lille",
           "Defensive Midfield"
          ],
          [
           "Morgan Schneiderlin",
           "OGC Nice",
           "Defensive Midfield"
          ],
          [
           "Lucas Deaux",
           "Nîmes Olympique",
           "Defensive Midfield"
          ],
          [
           "Sandro Tonali",
           "AC Milan",
           "Defensive Midfield"
          ],
          [
           "Jean-Eudes Aholou",
           "AS Monaco",
           "Defensive Midfield"
          ],
          [
           "Rolando Mandragora",
           "Juventus FC",
           "Defensive Midfield"
          ],
          [
           "Bruno Guimarães",
           "Newcastle United",
           "Defensive Midfield"
          ],
          [
           "Baptiste Santamaria",
           "Stade Rennais FC",
           "Defensive Midfield"
          ],
          [
           "Walace",
           "Hannover 96",
           "Defensive Midfield"
          ],
          [
           "Alexis Blin",
           "Amiens SC",
           "Defensive Midfield"
          ],
          [
           "Stefan Ilsanker",
           "Eintracht Frankfurt",
           "Defensive Midfield"
          ],
          [
           "Sandro",
           "Udinese Calcio",
           "Defensive Midfield"
          ],
          [
           "Thomas Delaney",
           "Borussia Dortmund",
           "Defensive Midfield"
          ],
          [
           "Lucas Torró",
           "CA Osasuna",
           "Defensive Midfield"
          ],
          [
           "Rodri",
           "Manchester City",
           "Defensive Midfield"
          ],
          [
           "Sandro",
           "Genoa CFC",
           "Defensive Midfield"
          ],
          [
           "Leander Dendoncker",
           "Wolverhampton Wanderers",
           "Defensive Midfield"
          ],
          [
           "Tiemoué Bakayoko",
           "SSC Napoli",
           "Defensive Midfield"
          ],
          [
           "Sebastian Rudy",
           "FC Schalke 04",
           "Defensive Midfield"
          ],
          [
           "Iván Marcone",
           "Elche CF",
           "Defensive Midfield"
          ],
          [
           "Ibrahima Diallo",
           "Southampton FC",
           "Defensive Midfield"
          ],
          [
           "Milan Badelj",
           "Genoa CFC",
           "Defensive Midfield"
          ]
         ],
         "hovertemplate": "position=%{customdata[2]}<br>prediction=%{x}<br>True Price=%{y}<br>player_name=%{customdata[0]}<br>club_name=%{customdata[1]}<extra></extra>",
         "legendgroup": "Defensive Midfield",
         "marker": {
          "color": "#B6E880",
          "symbol": "circle"
         },
         "mode": "markers",
         "name": "Defensive Midfield",
         "orientation": "v",
         "showlegend": true,
         "type": "scatter",
         "x": [
          12.594161987304688,
          7.7619218826293945,
          10.409748077392578,
          13.597722053527832,
          17.486738204956055,
          13.190320014953613,
          17.715131759643555,
          11.010575294494629,
          13.723998069763184,
          23.076467514038086,
          0.7303732633590698,
          3.5084729194641113,
          4.594644546508789,
          -0.8188655376434326,
          23.544301986694336,
          3.5084729194641113,
          -0.6186357140541077,
          17.234411239624023,
          6.78879451751709,
          1.8538280725479126,
          7.024780750274658,
          3.7979559898376465
         ],
         "xaxis": "x",
         "y": [
          7.198861301872396,
          2.2877118098249314,
          1.0284087574103422,
          6.9,
          14.570478170478172,
          15.388196030212542,
          42.1,
          14,
          6.244490644490645,
          1.6968744497270645,
          0.5142043787051711,
          0.5203742203742204,
          20.814968814968815,
          2.0517594706950057,
          64.48122908962846,
          2.393721413721414,
          14.192040852262725,
          2.0517594706950057,
          16.651975051975054,
          4,
          12.310556824170035,
          2.0004654839276306
         ],
         "yaxis": "y"
        },
        {
         "customdata": [
          [
           "Tommaso Augello",
           "UC Sampdoria",
           "Left-Back"
          ],
          [
           "Romain Perraud",
           "Southampton FC",
           "Left-Back"
          ],
          [
           "Giuseppe Pezzella",
           "Parma Calcio 1913",
           "Left-Back"
          ],
          [
           "Lucas Olaza",
           "Real Valladolid CF",
           "Left-Back"
          ],
          [
           "Birger Meling",
           "Stade Rennais FC",
           "Left-Back"
          ],
          [
           "Sergio Reguilón",
           "Tottenham Hotspur",
           "Left-Back"
          ],
          [
           "Yuri Berchiche",
           "Athletic Bilbao",
           "Left-Back"
          ],
          [
           "Marc Cucurella",
           "Brighton & Hove Albion",
           "Left-Back"
          ],
          [
           "Álex Moreno",
           "Real Betis Balompié",
           "Left-Back"
          ],
          [
           "Lucas Digne",
           "Aston Villa",
           "Left-Back"
          ],
          [
           "Cristiano Biraghi",
           "ACF Fiorentina",
           "Left-Back"
          ],
          [
           "Javi Galán",
           "Celta de Vigo",
           "Left-Back"
          ],
          [
           "Reinildo Mandava",
           "Atlético de Madrid",
           "Left-Back"
          ],
          [
           "Marvin Zeegelaar",
           "Udinese Calcio",
           "Left-Back"
          ],
          [
           "Riza Durmisi",
           "SS Lazio",
           "Left-Back"
          ],
          [
           "Filippo Costa",
           "SSC Napoli",
           "Left-Back"
          ],
          [
           "Hamza Mendyl",
           "Dijon FCO",
           "Left-Back"
          ],
          [
           "Abdou Diallo",
           "Paris Saint-Germain",
           "Left-Back"
          ]
         ],
         "hovertemplate": "position=%{customdata[2]}<br>prediction=%{x}<br>True Price=%{y}<br>player_name=%{customdata[0]}<br>club_name=%{customdata[1]}<extra></extra>",
         "legendgroup": "Left-Back",
         "marker": {
          "color": "#FF97FF",
          "symbol": "circle"
         },
         "mode": "markers",
         "name": "Left-Back",
         "orientation": "v",
         "showlegend": true,
         "type": "scatter",
         "x": [
          5.599524974822998,
          12.31601333618164,
          7.9456939697265625,
          2.809495687484741,
          4.306517124176025,
          9.268209457397461,
          22.24959945678711,
          19.594301223754883,
          15.553377151489258,
          4.606311798095703,
          2.2840330600738525,
          0.17438440024852753,
          6.4269514083862305,
          5.785531997680664,
          9.587746620178223,
          6.660257816314697,
          4.328151702880859,
          25.87508201599121
         ],
         "xaxis": "x",
         "y": [
          1.5388196030212544,
          12,
          5.898808478248141,
          0.5129398676737514,
          3,
          30.776392060425085,
          24.97796257796258,
          18,
          7.198861301872396,
          30,
          2.0814968814968817,
          4,
          3,
          2.0568175148206844,
          7.805613305613306,
          1.491192698244996,
          0.5142043787051711,
          32.90908023713095
         ],
         "yaxis": "y"
        },
        {
         "customdata": [
          [
           "Myziane Maolida",
           "Hertha BSC",
           "Left Winger"
          ],
          [
           "Steven Zuber",
           "Eintracht Frankfurt",
           "Left Winger"
          ],
          [
           "André Schürrle",
           "Fulham FC",
           "Left Winger"
          ],
          [
           "Karl Toko Ekambi",
           "Olympique Lyon",
           "Left Winger"
          ],
          [
           "Romain Philippoteaux",
           "Stade Brestois 29",
           "Left Winger"
          ],
          [
           "Moses Simon",
           "FC Nantes",
           "Left Winger"
          ],
          [
           "Denis Bouanga",
           "AS Saint-Étienne",
           "Left Winger"
          ],
          [
           "Juanmi",
           "Real Betis Balompié",
           "Left Winger"
          ],
          [
           "Jony",
           "SS Lazio",
           "Left Winger"
          ],
          [
           "Vincenzo Grifo",
           "TSG 1899 Hoffenheim",
           "Left Winger"
          ],
          [
           "Maxwel Cornet",
           "Burnley FC",
           "Left Winger"
          ],
          [
           "Gerard Deulofeu",
           "Udinese Calcio",
           "Left Winger"
          ],
          [
           "Antonio Di Gaudio",
           "Hellas Verona",
           "Left Winger"
          ]
         ],
         "hovertemplate": "position=%{customdata[2]}<br>prediction=%{x}<br>True Price=%{y}<br>player_name=%{customdata[0]}<br>club_name=%{customdata[1]}<extra></extra>",
         "legendgroup": "Left Winger",
         "marker": {
          "color": "#FECB52",
          "symbol": "circle"
         },
         "mode": "markers",
         "name": "Left Winger",
         "orientation": "v",
         "showlegend": true,
         "type": "scatter",
         "x": [
          -0.4198148250579834,
          1.6187063455581665,
          4.827024459838867,
          23.190162658691406,
          2.046712636947632,
          6.7302398681640625,
          8.053093910217285,
          6.291118144989014,
          10.566779136657715,
          1.1661057472229004,
          6.219221115112305,
          15.701349258422852,
          4.772176265716553
         ],
         "xaxis": "x",
         "y": [
          4,
          3.077639206042509,
          0.4162993762993763,
          4.113635029641369,
          0.5129398676737514,
          5.129398676737514,
          4.62783940834654,
          8.227270059282738,
          1.491192698244996,
          5.724116424116425,
          15,
          17.439955500907548,
          0.4113635029641369
         ],
         "yaxis": "y"
        },
        {
         "customdata": [
          [
           "Xherdan Shaqiri",
           "Liverpool FC",
           "Right Winger"
          ],
          [
           "Dejan Kulusevski",
           "Tottenham Hotspur",
           "Right Winger"
          ],
          [
           "Portu",
           "Real Sociedad",
           "Right Winger"
          ],
          [
           "Christian Pulisic",
           "Chelsea FC",
           "Right Winger"
          ],
          [
           "Ibai Gómez",
           "Athletic Bilbao",
           "Right Winger"
          ],
          [
           "Marius Wolf",
           "Borussia Dortmund",
           "Right Winger"
          ],
          [
           "Matteo Politano",
           "Inter Milan",
           "Right Winger"
          ],
          [
           "Douglas Costa",
           "Bayern Munich",
           "Right Winger"
          ],
          [
           "Iván Alejo",
           "Cádiz CF",
           "Right Winger"
          ],
          [
           "Emiliano Rigoni",
           "Elche CF",
           "Right Winger"
          ],
          [
           "Marius Wolf",
           "Eintracht Frankfurt",
           "Right Winger"
          ],
          [
           "Iago Falque",
           "Benevento Calcio",
           "Right Winger"
          ],
          [
           "Grady Diangana",
           "West Bromwich Albion",
           "Right Winger"
          ]
         ],
         "hovertemplate": "position=%{customdata[2]}<br>prediction=%{x}<br>True Price=%{y}<br>player_name=%{customdata[0]}<br>club_name=%{customdata[1]}<extra></extra>",
         "legendgroup": "Right Winger",
         "marker": {
          "color": "#636efa",
          "symbol": "circle"
         },
         "mode": "markers",
         "name": "Right Winger",
         "orientation": "v",
         "showlegend": true,
         "type": "scatter",
         "x": [
          21.448068618774414,
          6.449001789093018,
          14.8829984664917,
          14.203182220458984,
          19.82738494873047,
          17.631996154785156,
          8.465843200683594,
          4.818697929382324,
          6.565826416015625,
          0.7051841616630554,
          17.631996154785156,
          0.06382527202367783,
          6.24267053604126
         ],
         "xaxis": "x",
         "y": [
          15.29900207900208,
          10,
          10.284087574103422,
          66.60790020790022,
          4.1629937629937634,
          5.2037422037422045,
          21.69942478135822,
          0.2564699338368757,
          2.0517594706950057,
          0.1025879735347503,
          0.5203742203742204,
          0.5129398676737514,
          13.849376427191288
         ],
         "yaxis": "y"
        },
        {
         "customdata": [
          [
           "Angeliño",
           "RB Leipzig",
           "Left Midfield"
          ]
         ],
         "hovertemplate": "position=%{customdata[2]}<br>prediction=%{x}<br>True Price=%{y}<br>player_name=%{customdata[0]}<br>club_name=%{customdata[1]}<extra></extra>",
         "legendgroup": "Left Midfield",
         "marker": {
          "color": "#EF553B",
          "symbol": "circle"
         },
         "mode": "markers",
         "name": "Left Midfield",
         "orientation": "v",
         "showlegend": true,
         "type": "scatter",
         "x": [
          8.789509773254395
         ],
         "xaxis": "x",
         "y": [
          18
         ],
         "yaxis": "y"
        },
        {
         "customdata": [
          [
           "Ainsley Maitland-Niles",
           "AS Roma",
           "Right Midfield"
          ],
          [
           "Ridle Baku",
           "VfL Wolfsburg",
           "Right Midfield"
          ]
         ],
         "hovertemplate": "position=%{customdata[2]}<br>prediction=%{x}<br>True Price=%{y}<br>player_name=%{customdata[0]}<br>club_name=%{customdata[1]}<extra></extra>",
         "legendgroup": "Right Midfield",
         "marker": {
          "color": "#00cc96",
          "symbol": "circle"
         },
         "mode": "markers",
         "name": "Right Midfield",
         "orientation": "v",
         "showlegend": true,
         "type": "scatter",
         "x": [
          10.036027908325195,
          7.61557149887085
         ],
         "xaxis": "x",
         "y": [
          0.5,
          10.258797353475028
         ],
         "yaxis": "y"
        }
       ],
       "layout": {
        "legend": {
         "title": {
          "text": "position"
         },
         "tracegroupgap": 0
        },
        "margin": {
         "t": 60
        },
        "template": {
         "data": {
          "bar": [
           {
            "error_x": {
             "color": "#2a3f5f"
            },
            "error_y": {
             "color": "#2a3f5f"
            },
            "marker": {
             "line": {
              "color": "#E5ECF6",
              "width": 0.5
             }
            },
            "type": "bar"
           }
          ],
          "barpolar": [
           {
            "marker": {
             "line": {
              "color": "#E5ECF6",
              "width": 0.5
             }
            },
            "type": "barpolar"
           }
          ],
          "carpet": [
           {
            "aaxis": {
             "endlinecolor": "#2a3f5f",
             "gridcolor": "white",
             "linecolor": "white",
             "minorgridcolor": "white",
             "startlinecolor": "#2a3f5f"
            },
            "baxis": {
             "endlinecolor": "#2a3f5f",
             "gridcolor": "white",
             "linecolor": "white",
             "minorgridcolor": "white",
             "startlinecolor": "#2a3f5f"
            },
            "type": "carpet"
           }
          ],
          "choropleth": [
           {
            "colorbar": {
             "outlinewidth": 0,
             "ticks": ""
            },
            "type": "choropleth"
           }
          ],
          "contour": [
           {
            "colorbar": {
             "outlinewidth": 0,
             "ticks": ""
            },
            "colorscale": [
             [
              0,
              "#0d0887"
             ],
             [
              0.1111111111111111,
              "#46039f"
             ],
             [
              0.2222222222222222,
              "#7201a8"
             ],
             [
              0.3333333333333333,
              "#9c179e"
             ],
             [
              0.4444444444444444,
              "#bd3786"
             ],
             [
              0.5555555555555556,
              "#d8576b"
             ],
             [
              0.6666666666666666,
              "#ed7953"
             ],
             [
              0.7777777777777778,
              "#fb9f3a"
             ],
             [
              0.8888888888888888,
              "#fdca26"
             ],
             [
              1,
              "#f0f921"
             ]
            ],
            "type": "contour"
           }
          ],
          "contourcarpet": [
           {
            "colorbar": {
             "outlinewidth": 0,
             "ticks": ""
            },
            "type": "contourcarpet"
           }
          ],
          "heatmap": [
           {
            "colorbar": {
             "outlinewidth": 0,
             "ticks": ""
            },
            "colorscale": [
             [
              0,
              "#0d0887"
             ],
             [
              0.1111111111111111,
              "#46039f"
             ],
             [
              0.2222222222222222,
              "#7201a8"
             ],
             [
              0.3333333333333333,
              "#9c179e"
             ],
             [
              0.4444444444444444,
              "#bd3786"
             ],
             [
              0.5555555555555556,
              "#d8576b"
             ],
             [
              0.6666666666666666,
              "#ed7953"
             ],
             [
              0.7777777777777778,
              "#fb9f3a"
             ],
             [
              0.8888888888888888,
              "#fdca26"
             ],
             [
              1,
              "#f0f921"
             ]
            ],
            "type": "heatmap"
           }
          ],
          "heatmapgl": [
           {
            "colorbar": {
             "outlinewidth": 0,
             "ticks": ""
            },
            "colorscale": [
             [
              0,
              "#0d0887"
             ],
             [
              0.1111111111111111,
              "#46039f"
             ],
             [
              0.2222222222222222,
              "#7201a8"
             ],
             [
              0.3333333333333333,
              "#9c179e"
             ],
             [
              0.4444444444444444,
              "#bd3786"
             ],
             [
              0.5555555555555556,
              "#d8576b"
             ],
             [
              0.6666666666666666,
              "#ed7953"
             ],
             [
              0.7777777777777778,
              "#fb9f3a"
             ],
             [
              0.8888888888888888,
              "#fdca26"
             ],
             [
              1,
              "#f0f921"
             ]
            ],
            "type": "heatmapgl"
           }
          ],
          "histogram": [
           {
            "marker": {
             "colorbar": {
              "outlinewidth": 0,
              "ticks": ""
             }
            },
            "type": "histogram"
           }
          ],
          "histogram2d": [
           {
            "colorbar": {
             "outlinewidth": 0,
             "ticks": ""
            },
            "colorscale": [
             [
              0,
              "#0d0887"
             ],
             [
              0.1111111111111111,
              "#46039f"
             ],
             [
              0.2222222222222222,
              "#7201a8"
             ],
             [
              0.3333333333333333,
              "#9c179e"
             ],
             [
              0.4444444444444444,
              "#bd3786"
             ],
             [
              0.5555555555555556,
              "#d8576b"
             ],
             [
              0.6666666666666666,
              "#ed7953"
             ],
             [
              0.7777777777777778,
              "#fb9f3a"
             ],
             [
              0.8888888888888888,
              "#fdca26"
             ],
             [
              1,
              "#f0f921"
             ]
            ],
            "type": "histogram2d"
           }
          ],
          "histogram2dcontour": [
           {
            "colorbar": {
             "outlinewidth": 0,
             "ticks": ""
            },
            "colorscale": [
             [
              0,
              "#0d0887"
             ],
             [
              0.1111111111111111,
              "#46039f"
             ],
             [
              0.2222222222222222,
              "#7201a8"
             ],
             [
              0.3333333333333333,
              "#9c179e"
             ],
             [
              0.4444444444444444,
              "#bd3786"
             ],
             [
              0.5555555555555556,
              "#d8576b"
             ],
             [
              0.6666666666666666,
              "#ed7953"
             ],
             [
              0.7777777777777778,
              "#fb9f3a"
             ],
             [
              0.8888888888888888,
              "#fdca26"
             ],
             [
              1,
              "#f0f921"
             ]
            ],
            "type": "histogram2dcontour"
           }
          ],
          "mesh3d": [
           {
            "colorbar": {
             "outlinewidth": 0,
             "ticks": ""
            },
            "type": "mesh3d"
           }
          ],
          "parcoords": [
           {
            "line": {
             "colorbar": {
              "outlinewidth": 0,
              "ticks": ""
             }
            },
            "type": "parcoords"
           }
          ],
          "pie": [
           {
            "automargin": true,
            "type": "pie"
           }
          ],
          "scatter": [
           {
            "marker": {
             "colorbar": {
              "outlinewidth": 0,
              "ticks": ""
             }
            },
            "type": "scatter"
           }
          ],
          "scatter3d": [
           {
            "line": {
             "colorbar": {
              "outlinewidth": 0,
              "ticks": ""
             }
            },
            "marker": {
             "colorbar": {
              "outlinewidth": 0,
              "ticks": ""
             }
            },
            "type": "scatter3d"
           }
          ],
          "scattercarpet": [
           {
            "marker": {
             "colorbar": {
              "outlinewidth": 0,
              "ticks": ""
             }
            },
            "type": "scattercarpet"
           }
          ],
          "scattergeo": [
           {
            "marker": {
             "colorbar": {
              "outlinewidth": 0,
              "ticks": ""
             }
            },
            "type": "scattergeo"
           }
          ],
          "scattergl": [
           {
            "marker": {
             "colorbar": {
              "outlinewidth": 0,
              "ticks": ""
             }
            },
            "type": "scattergl"
           }
          ],
          "scattermapbox": [
           {
            "marker": {
             "colorbar": {
              "outlinewidth": 0,
              "ticks": ""
             }
            },
            "type": "scattermapbox"
           }
          ],
          "scatterpolar": [
           {
            "marker": {
             "colorbar": {
              "outlinewidth": 0,
              "ticks": ""
             }
            },
            "type": "scatterpolar"
           }
          ],
          "scatterpolargl": [
           {
            "marker": {
             "colorbar": {
              "outlinewidth": 0,
              "ticks": ""
             }
            },
            "type": "scatterpolargl"
           }
          ],
          "scatterternary": [
           {
            "marker": {
             "colorbar": {
              "outlinewidth": 0,
              "ticks": ""
             }
            },
            "type": "scatterternary"
           }
          ],
          "surface": [
           {
            "colorbar": {
             "outlinewidth": 0,
             "ticks": ""
            },
            "colorscale": [
             [
              0,
              "#0d0887"
             ],
             [
              0.1111111111111111,
              "#46039f"
             ],
             [
              0.2222222222222222,
              "#7201a8"
             ],
             [
              0.3333333333333333,
              "#9c179e"
             ],
             [
              0.4444444444444444,
              "#bd3786"
             ],
             [
              0.5555555555555556,
              "#d8576b"
             ],
             [
              0.6666666666666666,
              "#ed7953"
             ],
             [
              0.7777777777777778,
              "#fb9f3a"
             ],
             [
              0.8888888888888888,
              "#fdca26"
             ],
             [
              1,
              "#f0f921"
             ]
            ],
            "type": "surface"
           }
          ],
          "table": [
           {
            "cells": {
             "fill": {
              "color": "#EBF0F8"
             },
             "line": {
              "color": "white"
             }
            },
            "header": {
             "fill": {
              "color": "#C8D4E3"
             },
             "line": {
              "color": "white"
             }
            },
            "type": "table"
           }
          ]
         },
         "layout": {
          "annotationdefaults": {
           "arrowcolor": "#2a3f5f",
           "arrowhead": 0,
           "arrowwidth": 1
          },
          "coloraxis": {
           "colorbar": {
            "outlinewidth": 0,
            "ticks": ""
           }
          },
          "colorscale": {
           "diverging": [
            [
             0,
             "#8e0152"
            ],
            [
             0.1,
             "#c51b7d"
            ],
            [
             0.2,
             "#de77ae"
            ],
            [
             0.3,
             "#f1b6da"
            ],
            [
             0.4,
             "#fde0ef"
            ],
            [
             0.5,
             "#f7f7f7"
            ],
            [
             0.6,
             "#e6f5d0"
            ],
            [
             0.7,
             "#b8e186"
            ],
            [
             0.8,
             "#7fbc41"
            ],
            [
             0.9,
             "#4d9221"
            ],
            [
             1,
             "#276419"
            ]
           ],
           "sequential": [
            [
             0,
             "#0d0887"
            ],
            [
             0.1111111111111111,
             "#46039f"
            ],
            [
             0.2222222222222222,
             "#7201a8"
            ],
            [
             0.3333333333333333,
             "#9c179e"
            ],
            [
             0.4444444444444444,
             "#bd3786"
            ],
            [
             0.5555555555555556,
             "#d8576b"
            ],
            [
             0.6666666666666666,
             "#ed7953"
            ],
            [
             0.7777777777777778,
             "#fb9f3a"
            ],
            [
             0.8888888888888888,
             "#fdca26"
            ],
            [
             1,
             "#f0f921"
            ]
           ],
           "sequentialminus": [
            [
             0,
             "#0d0887"
            ],
            [
             0.1111111111111111,
             "#46039f"
            ],
            [
             0.2222222222222222,
             "#7201a8"
            ],
            [
             0.3333333333333333,
             "#9c179e"
            ],
            [
             0.4444444444444444,
             "#bd3786"
            ],
            [
             0.5555555555555556,
             "#d8576b"
            ],
            [
             0.6666666666666666,
             "#ed7953"
            ],
            [
             0.7777777777777778,
             "#fb9f3a"
            ],
            [
             0.8888888888888888,
             "#fdca26"
            ],
            [
             1,
             "#f0f921"
            ]
           ]
          },
          "colorway": [
           "#636efa",
           "#EF553B",
           "#00cc96",
           "#ab63fa",
           "#FFA15A",
           "#19d3f3",
           "#FF6692",
           "#B6E880",
           "#FF97FF",
           "#FECB52"
          ],
          "font": {
           "color": "#2a3f5f"
          },
          "geo": {
           "bgcolor": "white",
           "lakecolor": "white",
           "landcolor": "#E5ECF6",
           "showlakes": true,
           "showland": true,
           "subunitcolor": "white"
          },
          "hoverlabel": {
           "align": "left"
          },
          "hovermode": "closest",
          "mapbox": {
           "style": "light"
          },
          "paper_bgcolor": "white",
          "plot_bgcolor": "#E5ECF6",
          "polar": {
           "angularaxis": {
            "gridcolor": "white",
            "linecolor": "white",
            "ticks": ""
           },
           "bgcolor": "#E5ECF6",
           "radialaxis": {
            "gridcolor": "white",
            "linecolor": "white",
            "ticks": ""
           }
          },
          "scene": {
           "xaxis": {
            "backgroundcolor": "#E5ECF6",
            "gridcolor": "white",
            "gridwidth": 2,
            "linecolor": "white",
            "showbackground": true,
            "ticks": "",
            "zerolinecolor": "white"
           },
           "yaxis": {
            "backgroundcolor": "#E5ECF6",
            "gridcolor": "white",
            "gridwidth": 2,
            "linecolor": "white",
            "showbackground": true,
            "ticks": "",
            "zerolinecolor": "white"
           },
           "zaxis": {
            "backgroundcolor": "#E5ECF6",
            "gridcolor": "white",
            "gridwidth": 2,
            "linecolor": "white",
            "showbackground": true,
            "ticks": "",
            "zerolinecolor": "white"
           }
          },
          "shapedefaults": {
           "line": {
            "color": "#2a3f5f"
           }
          },
          "ternary": {
           "aaxis": {
            "gridcolor": "white",
            "linecolor": "white",
            "ticks": ""
           },
           "baxis": {
            "gridcolor": "white",
            "linecolor": "white",
            "ticks": ""
           },
           "bgcolor": "#E5ECF6",
           "caxis": {
            "gridcolor": "white",
            "linecolor": "white",
            "ticks": ""
           }
          },
          "title": {
           "x": 0.05
          },
          "xaxis": {
           "automargin": true,
           "gridcolor": "white",
           "linecolor": "white",
           "ticks": "",
           "title": {
            "standoff": 15
           },
           "zerolinecolor": "white",
           "zerolinewidth": 2
          },
          "yaxis": {
           "automargin": true,
           "gridcolor": "white",
           "linecolor": "white",
           "ticks": "",
           "title": {
            "standoff": 15
           },
           "zerolinecolor": "white",
           "zerolinewidth": 2
          }
         }
        },
        "xaxis": {
         "anchor": "y",
         "domain": [
          0,
          1
         ],
         "title": {
          "text": "prediction"
         }
        },
        "yaxis": {
         "anchor": "x",
         "domain": [
          0,
          1
         ],
         "title": {
          "text": "True Price"
         }
        }
       }
      },
      "text/html": [
       "<div>                            <div id=\"97509940-529d-4d57-bc2c-6a694bf85fc7\" class=\"plotly-graph-div\" style=\"height:525px; width:100%;\"></div>            <script type=\"text/javascript\">                require([\"plotly\"], function(Plotly) {                    window.PLOTLYENV=window.PLOTLYENV || {};                                    if (document.getElementById(\"97509940-529d-4d57-bc2c-6a694bf85fc7\")) {                    Plotly.newPlot(                        \"97509940-529d-4d57-bc2c-6a694bf85fc7\",                        [{\"customdata\": [[\"Josh Sargent\", \"Norwich City\", \"Centre-Forward\"], [\"Ante Budimir\", \"RCD Mallorca\", \"Centre-Forward\"], [\"Patrik Schick\", \"RB Leipzig\", \"Centre-Forward\"], [\"Gerard Moreno\", \"Villarreal CF\", \"Centre-Forward\"], [\"Carlos Fern\\u00e1ndez\", \"Real Sociedad\", \"Centre-Forward\"], [\"Luis Su\\u00e1rez\", \"Atl\\u00e9tico de Madrid\", \"Centre-Forward\"], [\"Dominic Solanke\", \"AFC Bournemouth\", \"Centre-Forward\"], [\"Antonio Sanabria\", \"Torino FC\", \"Centre-Forward\"], [\"Wout Weghorst\", \"Burnley FC\", \"Centre-Forward\"], [\"Felipe Avenatti\", \"Bologna FC 1909\", \"Centre-Forward\"], [\"Andrea Pinamonti\", \"Inter Milan\", \"Centre-Forward\"], [\"Moussa Demb\\u00e9l\\u00e9\", \"Atl\\u00e9tico de Madrid\", \"Centre-Forward\"], [\"Jean-K\\u00e9vin Augustin\", \"AS Monaco\", \"Centre-Forward\"], [\"Gr\\u00e9goire Defrel\", \"US Sassuolo\", \"Centre-Forward\"], [\"Paco Alc\\u00e1cer\", \"Villarreal CF\", \"Centre-Forward\"], [\"Victor Osimhen\", \"LOSC Lille\", \"Centre-Forward\"], [\"Giovanni Simeone\", \"Cagliari Calcio\", \"Centre-Forward\"], [\"Andr\\u00e9 Silva\", \"Sevilla FC\", \"Centre-Forward\"], [\"Willian Jos\\u00e9\", \"Wolverhampton Wanderers\", \"Centre-Forward\"], [\"Danny Ings\", \"Southampton FC\", \"Centre-Forward\"], [\"Gon\\u00e7alo Paci\\u00eancia\", \"FC Schalke 04\", \"Centre-Forward\"], [\"Andreas Cornelius\", \"FC Girondins Bordeaux\", \"Centre-Forward\"], [\"Isaac Success\", \"Udinese Calcio\", \"Centre-Forward\"], [\"Steve Mouni\\u00e9\", \"Stade Brestois 29\", \"Centre-Forward\"], [\"Lucas P\\u00e9rez\", \"C\\u00e1diz CF\", \"Centre-Forward\"], [\"Andrea Petagna\", \"SPAL\", \"Centre-Forward\"], [\"Ishak Belfodil\", \"TSG 1899 Hoffenheim\", \"Centre-Forward\"], [\"Ignatius Ganago\", \"RC Lens\", \"Centre-Forward\"], [\"Munir El Haddadi\", \"Sevilla FC\", \"Centre-Forward\"], [\"Andrea Petagna\", \"SSC Napoli\", \"Centre-Forward\"], [\"Carlos Bacca\", \"Villarreal CF\", \"Centre-Forward\"], [\"Gonzalo Higua\\u00edn\", \"AC Milan\", \"Centre-Forward\"], [\"Corentin Jean\", \"RC Lens\", \"Centre-Forward\"]], \"hovertemplate\": \"position=%{customdata[2]}<br>prediction=%{x}<br>True Price=%{y}<br>player_name=%{customdata[0]}<br>club_name=%{customdata[1]}<extra></extra>\", \"legendgroup\": \"Centre-Forward\", \"marker\": {\"color\": \"#636efa\", \"symbol\": \"circle\"}, \"mode\": \"markers\", \"name\": \"Centre-Forward\", \"orientation\": \"v\", \"showlegend\": true, \"type\": \"scatter\", \"x\": [12.642951011657715, 14.380546569824219, 8.458694458007812, 2.301943778991699, 12.773149490356445, 32.94585418701172, 6.622019290924072, 3.12520432472229, 25.313827514648438, -0.2755606770515442, 19.52022933959961, 24.999271392822266, 4.891355991363525, 20.18097686767578, 15.829889297485352, 9.41342544555664, 10.898175239562988, 13.539164543151855, 18.82235336303711, 7.0989179611206055, 39.09238815307617, 9.1483736038208, 5.108061790466309, 14.966398239135742, 25.123598098754883, 19.32489013671875, 15.92807388305664, 15.179795265197754, 7.872283935546875, 21.19405746459961, 21.674306869506836, 18.556119918823242, 4.068191051483154], \"xaxis\": \"x\", \"y\": [9.5, 2.262499266302753, 3.5994306509361977, 20.814968814968815, 10.258797353475028, 7.18115814743252, 22.063866943866945, 7.18115814743252, 14.0, 2.6018711018711023, 21.54347444229756, 1.5388196030212544, 4.113635029641369, 3.085226272231026, 23.65340142043787, 23.036356165991663, 13.336436559517535, 3.954844074844075, 3.077639206042509, 25.81305981099959, 2.0517594706950057, 1.4466403326403328, 1.8, 5.129398676737514, 0.2, 3.1222453222453224, 5.724116424116425, 6.155278412085018, 1.0927858627858629, 17.071585373011683, 7.285239085239086, 10.615634095634096, 1.0258797353475029], \"yaxis\": \"y\"}, {\"customdata\": [[\"Jerem\\u00edas Ledesma\", \"C\\u00e1diz CF\", \"Goalkeeper\"], [\"Alfred Gomis\", \"SPAL\", \"Goalkeeper\"], [\"Baptiste Reynet\", \"N\\u00eemes Olympique\", \"Goalkeeper\"], [\"Juan Musso\", \"Atalanta BC\", \"Goalkeeper\"], [\"Ben Foster\", \"Watford FC\", \"Goalkeeper\"], [\"David Button\", \"West Bromwich Albion\", \"Goalkeeper\"], [\"Florian M\\u00fcller\", \"SC Freiburg\", \"Goalkeeper\"], [\"Baptiste Reynet\", \"FC Toulouse\", \"Goalkeeper\"], [\"Tom Heaton\", \"Aston Villa\", \"Goalkeeper\"], [\"Florian M\\u00fcller\", \"VfB Stuttgart\", \"Goalkeeper\"], [\"Andr\\u00e9s Fern\\u00e1ndez\", \"SD Huesca\", \"Goalkeeper\"], [\"Oier Olaz\\u00e1bal\", \"RCD Espanyol Barcelona\", \"Goalkeeper\"], [\"Orestis Karnezis\", \"LOSC Lille\", \"Goalkeeper\"], [\"Antonio Ad\\u00e1n\", \"Atl\\u00e9tico de Madrid\", \"Goalkeeper\"], [\"Emil Audero\", \"UC Sampdoria\", \"Goalkeeper\"], [\"Jonas L\\u00f6ssl\", \"Huddersfield Town\", \"Goalkeeper\"], [\"Rui Patr\\u00edcio\", \"AS Roma\", \"Goalkeeper\"], [\"Kevin Trapp\", \"Eintracht Frankfurt\", \"Goalkeeper\"], [\"Neto\", \"FC Barcelona\", \"Goalkeeper\"]], \"hovertemplate\": \"position=%{customdata[2]}<br>prediction=%{x}<br>True Price=%{y}<br>player_name=%{customdata[0]}<br>club_name=%{customdata[1]}<extra></extra>\", \"legendgroup\": \"Goalkeeper\", \"marker\": {\"color\": \"#EF553B\", \"symbol\": \"circle\"}, \"mode\": \"markers\", \"name\": \"Goalkeeper\", \"orientation\": \"v\", \"showlegend\": true, \"type\": \"scatter\", \"x\": [-3.311753034591675, 37.04210662841797, 18.515453338623047, -5.0566325187683105, 2.164036273956299, 1.1756675243377686, 18.27398109436035, 31.924514770507812, 9.351655960083008, 12.112662315368652, 1.8608795404434204, 1.7513177394866943, 1.4967501163482666, 39.17588806152344, 11.536925315856934, 36.33308792114258, 3.8256680965423584, -1.0488755702972412, 33.70689392089844], \"xaxis\": \"x\", \"y\": [1.8, 1.5611226611226612, 0.3590579073716259, 20.0, 2.9140956340956343, 1.1284677088822532, 0.2051759470695006, 4.1629937629937634, 9.049997065211013, 5.0, 0.5129398676737514, 1.542613136115513, 5.26276304233269, 1.5611226611226612, 20.568175148206844, 2.6018711018711023, 11.8, 7.198861301872396, 26.7386276926689], \"yaxis\": \"y\"}, {\"customdata\": [[\"K\\u00e9vin Malcuit\", \"SSC Napoli\", \"Right-Back\"], [\"Jonathan Schmid\", \"SC Freiburg\", \"Right-Back\"], [\"Benjamin Pavard\", \"Bayern Munich\", \"Right-Back\"], [\"N\\u00e9lson Semedo\", \"Wolverhampton Wanderers\", \"Right-Back\"], [\"Kenny Tete\", \"Fulham FC\", \"Right-Back\"], [\"Gabriele Zappa\", \"Cagliari Calcio\", \"Right-Back\"], [\"Ruben Aguilar\", \"AS Monaco\", \"Right-Back\"], [\"Valentino Lazaro\", \"Hertha BSC\", \"Right-Back\"], [\"Kyle Walker-Peters\", \"Southampton FC\", \"Right-Back\"], [\"Fabio Depaoli\", \"Atalanta BC\", \"Right-Back\"], [\"Valentino Lazaro\", \"Borussia M\\u00f6nchengladbach\", \"Right-Back\"], [\"Florent Hadergjonaj\", \"Huddersfield Town\", \"Right-Back\"], [\"Aaron Wan-Bissaka\", \"Manchester United\", \"Right-Back\"], [\"Valentino Lazaro\", \"Newcastle United\", \"Right-Back\"], [\"Rub\\u00e9n Pe\\u00f1a\", \"Villarreal CF\", \"Right-Back\"], [\"Ander Capa\", \"Athletic Bilbao\", \"Right-Back\"], [\"Bouna Sarr\", \"Bayern Munich\", \"Right-Back\"], [\"Antonio Barrag\\u00e1n\", \"Real Betis Balompi\\u00e9\", \"Right-Back\"]], \"hovertemplate\": \"position=%{customdata[2]}<br>prediction=%{x}<br>True Price=%{y}<br>player_name=%{customdata[0]}<br>club_name=%{customdata[1]}<extra></extra>\", \"legendgroup\": \"Right-Back\", \"marker\": {\"color\": \"#00cc96\", \"symbol\": \"circle\"}, \"mode\": \"markers\", \"name\": \"Right-Back\", \"orientation\": \"v\", \"showlegend\": true, \"type\": \"scatter\", \"x\": [8.562899589538574, 0.8178236484527588, 29.452030181884766, 31.589942932128906, 9.635345458984375, 15.688127517700195, 14.3317289352417, 8.262563705444336, 2.0921387672424316, 6.238116264343262, 5.582444667816162, 20.30375862121582, 27.44898223876953, 21.836336135864258, 7.007834434509277, 1.6276291608810425, 7.161529064178467, 0.5436830520629883], \"xaxis\": \"x\", \"y\": [12.48898128898129, 4.113635029641369, 35.99430650936198, 32.82815153112009, 3.2828151531120096, 3.5, 8.227270059282738, 10.92785862785863, 13.644200480121787, 0.6155278412085017, 1.2310556824170034, 5.2037422037422045, 56.56248165756882, 1.542613136115513, 8.227270059282738, 3.1222453222453224, 8.207037882780023, 1.0407484407484409], \"yaxis\": \"y\"}, {\"customdata\": [[\"Marius B\\u00fclter\", \"1.FC Union Berlin\", \"Second Striker\"], [\"Antoine Griezmann\", \"Atl\\u00e9tico de Madrid\", \"Second Striker\"], [\"Federico Di Francesco\", \"US Sassuolo\", \"Second Striker\"], [\"Max Kruse\", \"VfL Wolfsburg\", \"Second Striker\"]], \"hovertemplate\": \"position=%{customdata[2]}<br>prediction=%{x}<br>True Price=%{y}<br>player_name=%{customdata[0]}<br>club_name=%{customdata[1]}<extra></extra>\", \"legendgroup\": \"Second Striker\", \"marker\": {\"color\": \"#ab63fa\", \"symbol\": \"circle\"}, \"mode\": \"markers\", \"name\": \"Second Striker\", \"orientation\": \"v\", \"showlegend\": true, \"type\": \"scatter\", \"x\": [16.460153579711914, 42.21099090576172, 4.352736949920654, 55.14533996582031], \"xaxis\": \"x\", \"y\": [1.5388196030212544, 10.0, 7.753575883575885, 5.0], \"yaxis\": \"y\"}, {\"customdata\": [[\"Rene Krhin\", \"FC Nantes\", \"Central Midfield\"], [\"Hernani\", \"Parma Calcio 1913\", \"Central Midfield\"], [\"Andr\\u00e9 Gomes\", \"Everton FC\", \"Central Midfield\"], [\"Arne Maier\", \"FC Augsburg\", \"Central Midfield\"], [\"Nadiem Amiri\", \"Bayer 04 Leverkusen\", \"Central Midfield\"], [\"Gerson\", \"Olympique Marseille\", \"Central Midfield\"], [\"Will Hughes\", \"Crystal Palace\", \"Central Midfield\"], [\"Kerem Demirbay\", \"Bayer 04 Leverkusen\", \"Central Midfield\"], [\"Marcel Sabitzer\", \"Bayern Munich\", \"Central Midfield\"], [\"Giovani Lo Celso\", \"Tottenham Hotspur\", \"Central Midfield\"], [\"Edimilson Fernandes\", \"1.FSV Mainz 05\", \"Central Midfield\"], [\"Gonzalo Melero\", \"Levante UD\", \"Central Midfield\"], [\"Jean-Victor Makengo\", \"Udinese Calcio\", \"Central Midfield\"], [\"Radja Nainggolan\", \"Inter Milan\", \"Central Midfield\"], [\"Seko Fofana\", \"RC Lens\", \"Central Midfield\"], [\"Nicol\\u00f2 Barella\", \"Inter Milan\", \"Central Midfield\"], [\"Eduard L\\u00f6wen\", \"Hertha BSC\", \"Central Midfield\"], [\"Stefano Sensi\", \"Inter Milan\", \"Central Midfield\"], [\"Giovani Lo Celso\", \"Real Betis Balompi\\u00e9\", \"Central Midfield\"], [\"Youri Tielemans\", \"Leicester City\", \"Central Midfield\"], [\"Fay\\u00e7al Fajr\", \"Getafe CF\", \"Central Midfield\"], [\"Nicol\\u00f2 Barella\", \"Inter Milan\", \"Central Midfield\"], [\"Joe Willock\", \"Newcastle United\", \"Central Midfield\"]], \"hovertemplate\": \"position=%{customdata[2]}<br>prediction=%{x}<br>True Price=%{y}<br>player_name=%{customdata[0]}<br>club_name=%{customdata[1]}<extra></extra>\", \"legendgroup\": \"Central Midfield\", \"marker\": {\"color\": \"#FFA15A\", \"symbol\": \"circle\"}, \"mode\": \"markers\", \"name\": \"Central Midfield\", \"orientation\": \"v\", \"showlegend\": true, \"type\": \"scatter\", \"x\": [11.090599060058594, 5.672253608703613, -0.8175011873245239, 9.264103889465332, 6.207582473754883, 1.9022071361541748, 7.228909969329834, 7.246767997741699, 19.253135681152344, 27.671865463256836, 8.708057403564453, 9.711043357849121, 9.94658088684082, 2.7050092220306396, 12.36002254486084, 15.437383651733398, 8.741127967834473, 1.9199047088623047, 41.269596099853516, 25.787368774414062, 9.714733123779297, 27.893596649169922, 3.039848566055298], \"xaxis\": \"x\", \"y\": [0.3122245322245322, 6.637441887698343, 2.341683991683992, 0.5, 9.25567881669308, 20.0, 7.0, 32.90908023713095, 15.0, 32.82815153112009, 7.713065680577566, 3.702271526677232, 3.59057907371626, 39.548440748440754, 8.719977750453774, 12.340905088924108, 7.198861301872396, 2.262499266302753, 3.1222453222453224, 46.2783940834654, 1.542613136115513, 33.34109139879384, 29.4], \"yaxis\": \"y\"}, {\"customdata\": [[\"R\\u00faben Vezo\", \"Levante UD\", \"Centre-Back\"], [\"Waldemar Anton\", \"VfB Stuttgart\", \"Centre-Back\"], [\"Ra\\u00fal Albiol\", \"Villarreal CF\", \"Centre-Back\"], [\"Luca Kilian\", \"1.FSV Mainz 05\", \"Centre-Back\"], [\"Pedro Bigas\", \"SD Eibar\", \"Centre-Back\"], [\"Javi S\\u00e1nchez\", \"Real Valladolid CF\", \"Centre-Back\"], [\"Sergi G\\u00f3mez\", \"Sevilla FC\", \"Centre-Back\"], [\"Ra\\u00fal Navas\", \"CA Osasuna\", \"Centre-Back\"], [\"Igor\", \"ACF Fiorentina\", \"Centre-Back\"], [\"Sebastiano Luperto\", \"FC Crotone\", \"Centre-Back\"], [\"Axel Tuanzebe\", \"SSC Napoli\", \"Centre-Back\"], [\"Fikayo Tomori\", \"AC Milan\", \"Centre-Back\"], [\"Jordi Amat\", \"Rayo Vallecano\", \"Centre-Back\"], [\"Lorenzo Tonelli\", \"UC Sampdoria\", \"Centre-Back\"], [\"Jawad El Yamiq\", \"Real Valladolid CF\", \"Centre-Back\"], [\"\\u00d6mer Toprak\", \"SV Werder Bremen\", \"Centre-Back\"], [\"Mohammed Salisu\", \"Southampton FC\", \"Centre-Back\"], [\"David Luiz\", \"Arsenal FC\", \"Centre-Back\"], [\"Axel Disasi\", \"AS Monaco\", \"Centre-Back\"], [\"Germ\\u00e1n Pezzella\", \"ACF Fiorentina\", \"Centre-Back\"], [\"Reece Oxford\", \"FC Augsburg\", \"Centre-Back\"], [\"Marc Muniesa\", \"Girona FC\", \"Centre-Back\"], [\"Jannik Vestergaard\", \"Southampton FC\", \"Centre-Back\"], [\"Lyanco\", \"Southampton FC\", \"Centre-Back\"], [\"Maxime Le Marchand\", \"Fulham FC\", \"Centre-Back\"], [\"Alexander Djiku\", \"RC Strasbourg Alsace\", \"Centre-Back\"], [\"Kamil Glik\", \"Benevento Calcio\", \"Centre-Back\"], [\"Erick Cabaco\", \"Levante UD\", \"Centre-Back\"], [\"Bruno Ecuele Manga\", \"Dijon FCO\", \"Centre-Back\"], [\"Alex Ferrari\", \"UC Sampdoria\", \"Centre-Back\"], [\"Sebastiaan Bornauw\", \"VfL Wolfsburg\", \"Centre-Back\"], [\"Robert Bauer\", \"1.FC Nuremberg\", \"Centre-Back\"], [\"Jeison Murillo\", \"UC Sampdoria\", \"Centre-Back\"], [\"Diego Carlos\", \"Sevilla FC\", \"Centre-Back\"]], \"hovertemplate\": \"position=%{customdata[2]}<br>prediction=%{x}<br>True Price=%{y}<br>player_name=%{customdata[0]}<br>club_name=%{customdata[1]}<extra></extra>\", \"legendgroup\": \"Centre-Back\", \"marker\": {\"color\": \"#19d3f3\", \"symbol\": \"circle\"}, \"mode\": \"markers\", \"name\": \"Centre-Back\", \"orientation\": \"v\", \"showlegend\": true, \"type\": \"scatter\", \"x\": [-0.7257101535797119, 7.917964458465576, 22.937429428100586, 8.592691421508789, 2.076772451400757, 2.6397924423217773, 29.61418914794922, 2.603733539581299, 4.862255096435547, 11.450973510742188, 9.238243103027344, 7.231603622436523, 17.429889678955078, -4.10184907913208, 4.7732253074646, -0.693318247795105, 7.039484024047852, 28.002729415893555, 21.80146026611328, 38.19100570678711, 4.173035621643066, 7.238327503204346, 30.629634857177734, 12.133198738098145, 3.389220714569092, 8.68108081817627, 15.419313430786133, 9.962501525878906, -7.373672962188721, 6.44744348526001, 20.989776611328125, 3.404778242111206, -3.9638352394104004, 21.715587615966797], \"xaxis\": \"x\", \"y\": [5.142043787051711, 4.103518941390012, 4.113635029641369, 2.0517594706950057, 3.085226272231026, 3.077639206042509, 5.724116424116425, 0.2564699338368757, 5.0, 0.5129398676737514, 0.6, 0.6155278412085017, 1.0407484407484409, 2.0517594706950057, 0.2564699338368757, 4.103518941390012, 12.310556824170035, 8.947156189469977, 13.336436559517535, 10.147297297297298, 0.5203742203742204, 5.2037422037422045, 26.01871101871102, 7.5, 4.1629937629937634, 4.62783940834654, 3.077639206042509, 2.0814968814968817, 2.0568175148206844, 0.2601871101871102, 13.5, 0.2081496881496881, 13.677836473557551, 15.426131361155132], \"yaxis\": \"y\"}, {\"customdata\": [[\"Brahim D\\u00edaz\", \"AC Milan\", \"Attacking Midfield\"], [\"Nabil Fekir\", \"Real Betis Balompi\\u00e9\", \"Attacking Midfield\"], [\"Ondrej Duda\", \"1. FC K\\u00f6ln\", \"Attacking Midfield\"], [\"Denis Su\\u00e1rez\", \"Arsenal FC\", \"Attacking Midfield\"], [\"Ga\\u00ebl Kakuta\", \"Rayo Vallecano\", \"Attacking Midfield\"], [\"Borja Garc\\u00eda\", \"SD Huesca\", \"Attacking Midfield\"], [\"Jeff Reine-Ad\\u00e9la\\u00efde\", \"SCO Angers\", \"Attacking Midfield\"], [\"Ga\\u00ebl Kakuta\", \"RC Lens\", \"Attacking Midfield\"], [\"Joelinton\", \"Newcastle United\", \"Attacking Midfield\"], [\"Hannes Wolf\", \"Borussia M\\u00f6nchengladbach\", \"Attacking Midfield\"], [\"Denis Su\\u00e1rez\", \"Celta de Vigo\", \"Attacking Midfield\"], [\"Valter Birsa\", \"Cagliari Calcio\", \"Attacking Midfield\"], [\"Masaya Okugawa\", \"Arminia Bielefeld\", \"Attacking Midfield\"], [\"Riccardo Saponara\", \"ACF Fiorentina\", \"Attacking Midfield\"], [\"Jeff Reine-Ad\\u00e9la\\u00efde\", \"Olympique Lyon\", \"Attacking Midfield\"]], \"hovertemplate\": \"position=%{customdata[2]}<br>prediction=%{x}<br>True Price=%{y}<br>player_name=%{customdata[0]}<br>club_name=%{customdata[1]}<extra></extra>\", \"legendgroup\": \"Attacking Midfield\", \"marker\": {\"color\": \"#FF6692\", \"symbol\": \"circle\"}, \"mode\": \"markers\", \"name\": \"Attacking Midfield\", \"orientation\": \"v\", \"showlegend\": true, \"type\": \"scatter\", \"x\": [15.463091850280762, 65.0368423461914, 4.727546691894531, 12.375992774963379, 10.496373176574707, 0.8749890327453613, 4.5158772468566895, 12.157424926757812, 24.647167205810547, 9.82591438293457, 5.8298726081848145, 9.988778114318848, 0.6579785346984863, 2.345186233520508, 4.792036056518555], \"xaxis\": \"x\", \"y\": [0.2051759470695006, 20.311072958854258, 7.18115814743252, 2.6018711018711023, 2.0814968814968817, 1.5388196030212544, 1.6651975051975054, 5.0, 45.249985326055054, 9.5, 13.266472970593416, 0.3122245322245322, 1.0, 9.366735966735968, 25.71021893525856], \"yaxis\": \"y\"}, {\"customdata\": [[\"Benjamin Andr\\u00e9\", \"LOSC Lille\", \"Defensive Midfield\"], [\"Morgan Schneiderlin\", \"OGC Nice\", \"Defensive Midfield\"], [\"Lucas Deaux\", \"N\\u00eemes Olympique\", \"Defensive Midfield\"], [\"Sandro Tonali\", \"AC Milan\", \"Defensive Midfield\"], [\"Jean-Eudes Aholou\", \"AS Monaco\", \"Defensive Midfield\"], [\"Rolando Mandragora\", \"Juventus FC\", \"Defensive Midfield\"], [\"Bruno Guimar\\u00e3es\", \"Newcastle United\", \"Defensive Midfield\"], [\"Baptiste Santamaria\", \"Stade Rennais FC\", \"Defensive Midfield\"], [\"Walace\", \"Hannover 96\", \"Defensive Midfield\"], [\"Alexis Blin\", \"Amiens SC\", \"Defensive Midfield\"], [\"Stefan Ilsanker\", \"Eintracht Frankfurt\", \"Defensive Midfield\"], [\"Sandro\", \"Udinese Calcio\", \"Defensive Midfield\"], [\"Thomas Delaney\", \"Borussia Dortmund\", \"Defensive Midfield\"], [\"Lucas Torr\\u00f3\", \"CA Osasuna\", \"Defensive Midfield\"], [\"Rodri\", \"Manchester City\", \"Defensive Midfield\"], [\"Sandro\", \"Genoa CFC\", \"Defensive Midfield\"], [\"Leander Dendoncker\", \"Wolverhampton Wanderers\", \"Defensive Midfield\"], [\"Tiemou\\u00e9 Bakayoko\", \"SSC Napoli\", \"Defensive Midfield\"], [\"Sebastian Rudy\", \"FC Schalke 04\", \"Defensive Midfield\"], [\"Iv\\u00e1n Marcone\", \"Elche CF\", \"Defensive Midfield\"], [\"Ibrahima Diallo\", \"Southampton FC\", \"Defensive Midfield\"], [\"Milan Badelj\", \"Genoa CFC\", \"Defensive Midfield\"]], \"hovertemplate\": \"position=%{customdata[2]}<br>prediction=%{x}<br>True Price=%{y}<br>player_name=%{customdata[0]}<br>club_name=%{customdata[1]}<extra></extra>\", \"legendgroup\": \"Defensive Midfield\", \"marker\": {\"color\": \"#B6E880\", \"symbol\": \"circle\"}, \"mode\": \"markers\", \"name\": \"Defensive Midfield\", \"orientation\": \"v\", \"showlegend\": true, \"type\": \"scatter\", \"x\": [12.594161987304688, 7.7619218826293945, 10.409748077392578, 13.597722053527832, 17.486738204956055, 13.190320014953613, 17.715131759643555, 11.010575294494629, 13.723998069763184, 23.076467514038086, 0.7303732633590698, 3.5084729194641113, 4.594644546508789, -0.8188655376434326, 23.544301986694336, 3.5084729194641113, -0.6186357140541077, 17.234411239624023, 6.78879451751709, 1.8538280725479126, 7.024780750274658, 3.7979559898376465], \"xaxis\": \"x\", \"y\": [7.198861301872396, 2.2877118098249314, 1.0284087574103422, 6.9, 14.570478170478172, 15.388196030212542, 42.1, 14.0, 6.244490644490645, 1.6968744497270645, 0.5142043787051711, 0.5203742203742204, 20.814968814968815, 2.0517594706950057, 64.48122908962846, 2.393721413721414, 14.192040852262725, 2.0517594706950057, 16.651975051975054, 4.0, 12.310556824170035, 2.0004654839276306], \"yaxis\": \"y\"}, {\"customdata\": [[\"Tommaso Augello\", \"UC Sampdoria\", \"Left-Back\"], [\"Romain Perraud\", \"Southampton FC\", \"Left-Back\"], [\"Giuseppe Pezzella\", \"Parma Calcio 1913\", \"Left-Back\"], [\"Lucas Olaza\", \"Real Valladolid CF\", \"Left-Back\"], [\"Birger Meling\", \"Stade Rennais FC\", \"Left-Back\"], [\"Sergio Reguil\\u00f3n\", \"Tottenham Hotspur\", \"Left-Back\"], [\"Yuri Berchiche\", \"Athletic Bilbao\", \"Left-Back\"], [\"Marc Cucurella\", \"Brighton & Hove Albion\", \"Left-Back\"], [\"\\u00c1lex Moreno\", \"Real Betis Balompi\\u00e9\", \"Left-Back\"], [\"Lucas Digne\", \"Aston Villa\", \"Left-Back\"], [\"Cristiano Biraghi\", \"ACF Fiorentina\", \"Left-Back\"], [\"Javi Gal\\u00e1n\", \"Celta de Vigo\", \"Left-Back\"], [\"Reinildo Mandava\", \"Atl\\u00e9tico de Madrid\", \"Left-Back\"], [\"Marvin Zeegelaar\", \"Udinese Calcio\", \"Left-Back\"], [\"Riza Durmisi\", \"SS Lazio\", \"Left-Back\"], [\"Filippo Costa\", \"SSC Napoli\", \"Left-Back\"], [\"Hamza Mendyl\", \"Dijon FCO\", \"Left-Back\"], [\"Abdou Diallo\", \"Paris Saint-Germain\", \"Left-Back\"]], \"hovertemplate\": \"position=%{customdata[2]}<br>prediction=%{x}<br>True Price=%{y}<br>player_name=%{customdata[0]}<br>club_name=%{customdata[1]}<extra></extra>\", \"legendgroup\": \"Left-Back\", \"marker\": {\"color\": \"#FF97FF\", \"symbol\": \"circle\"}, \"mode\": \"markers\", \"name\": \"Left-Back\", \"orientation\": \"v\", \"showlegend\": true, \"type\": \"scatter\", \"x\": [5.599524974822998, 12.31601333618164, 7.9456939697265625, 2.809495687484741, 4.306517124176025, 9.268209457397461, 22.24959945678711, 19.594301223754883, 15.553377151489258, 4.606311798095703, 2.2840330600738525, 0.17438440024852753, 6.4269514083862305, 5.785531997680664, 9.587746620178223, 6.660257816314697, 4.328151702880859, 25.87508201599121], \"xaxis\": \"x\", \"y\": [1.5388196030212544, 12.0, 5.898808478248141, 0.5129398676737514, 3.0, 30.776392060425085, 24.97796257796258, 18.0, 7.198861301872396, 30.0, 2.0814968814968817, 4.0, 3.0, 2.0568175148206844, 7.805613305613306, 1.491192698244996, 0.5142043787051711, 32.90908023713095], \"yaxis\": \"y\"}, {\"customdata\": [[\"Myziane Maolida\", \"Hertha BSC\", \"Left Winger\"], [\"Steven Zuber\", \"Eintracht Frankfurt\", \"Left Winger\"], [\"Andr\\u00e9 Sch\\u00fcrrle\", \"Fulham FC\", \"Left Winger\"], [\"Karl Toko Ekambi\", \"Olympique Lyon\", \"Left Winger\"], [\"Romain Philippoteaux\", \"Stade Brestois 29\", \"Left Winger\"], [\"Moses Simon\", \"FC Nantes\", \"Left Winger\"], [\"Denis Bouanga\", \"AS Saint-\\u00c9tienne\", \"Left Winger\"], [\"Juanmi\", \"Real Betis Balompi\\u00e9\", \"Left Winger\"], [\"Jony\", \"SS Lazio\", \"Left Winger\"], [\"Vincenzo Grifo\", \"TSG 1899 Hoffenheim\", \"Left Winger\"], [\"Maxwel Cornet\", \"Burnley FC\", \"Left Winger\"], [\"Gerard Deulofeu\", \"Udinese Calcio\", \"Left Winger\"], [\"Antonio Di Gaudio\", \"Hellas Verona\", \"Left Winger\"]], \"hovertemplate\": \"position=%{customdata[2]}<br>prediction=%{x}<br>True Price=%{y}<br>player_name=%{customdata[0]}<br>club_name=%{customdata[1]}<extra></extra>\", \"legendgroup\": \"Left Winger\", \"marker\": {\"color\": \"#FECB52\", \"symbol\": \"circle\"}, \"mode\": \"markers\", \"name\": \"Left Winger\", \"orientation\": \"v\", \"showlegend\": true, \"type\": \"scatter\", \"x\": [-0.4198148250579834, 1.6187063455581665, 4.827024459838867, 23.190162658691406, 2.046712636947632, 6.7302398681640625, 8.053093910217285, 6.291118144989014, 10.566779136657715, 1.1661057472229004, 6.219221115112305, 15.701349258422852, 4.772176265716553], \"xaxis\": \"x\", \"y\": [4.0, 3.077639206042509, 0.4162993762993763, 4.113635029641369, 0.5129398676737514, 5.129398676737514, 4.62783940834654, 8.227270059282738, 1.491192698244996, 5.724116424116425, 15.0, 17.439955500907548, 0.4113635029641369], \"yaxis\": \"y\"}, {\"customdata\": [[\"Xherdan Shaqiri\", \"Liverpool FC\", \"Right Winger\"], [\"Dejan Kulusevski\", \"Tottenham Hotspur\", \"Right Winger\"], [\"Portu\", \"Real Sociedad\", \"Right Winger\"], [\"Christian Pulisic\", \"Chelsea FC\", \"Right Winger\"], [\"Ibai G\\u00f3mez\", \"Athletic Bilbao\", \"Right Winger\"], [\"Marius Wolf\", \"Borussia Dortmund\", \"Right Winger\"], [\"Matteo Politano\", \"Inter Milan\", \"Right Winger\"], [\"Douglas Costa\", \"Bayern Munich\", \"Right Winger\"], [\"Iv\\u00e1n Alejo\", \"C\\u00e1diz CF\", \"Right Winger\"], [\"Emiliano Rigoni\", \"Elche CF\", \"Right Winger\"], [\"Marius Wolf\", \"Eintracht Frankfurt\", \"Right Winger\"], [\"Iago Falque\", \"Benevento Calcio\", \"Right Winger\"], [\"Grady Diangana\", \"West Bromwich Albion\", \"Right Winger\"]], \"hovertemplate\": \"position=%{customdata[2]}<br>prediction=%{x}<br>True Price=%{y}<br>player_name=%{customdata[0]}<br>club_name=%{customdata[1]}<extra></extra>\", \"legendgroup\": \"Right Winger\", \"marker\": {\"color\": \"#636efa\", \"symbol\": \"circle\"}, \"mode\": \"markers\", \"name\": \"Right Winger\", \"orientation\": \"v\", \"showlegend\": true, \"type\": \"scatter\", \"x\": [21.448068618774414, 6.449001789093018, 14.8829984664917, 14.203182220458984, 19.82738494873047, 17.631996154785156, 8.465843200683594, 4.818697929382324, 6.565826416015625, 0.7051841616630554, 17.631996154785156, 0.06382527202367783, 6.24267053604126], \"xaxis\": \"x\", \"y\": [15.29900207900208, 10.0, 10.284087574103422, 66.60790020790022, 4.1629937629937634, 5.2037422037422045, 21.69942478135822, 0.2564699338368757, 2.0517594706950057, 0.1025879735347503, 0.5203742203742204, 0.5129398676737514, 13.849376427191288], \"yaxis\": \"y\"}, {\"customdata\": [[\"Angeli\\u00f1o\", \"RB Leipzig\", \"Left Midfield\"]], \"hovertemplate\": \"position=%{customdata[2]}<br>prediction=%{x}<br>True Price=%{y}<br>player_name=%{customdata[0]}<br>club_name=%{customdata[1]}<extra></extra>\", \"legendgroup\": \"Left Midfield\", \"marker\": {\"color\": \"#EF553B\", \"symbol\": \"circle\"}, \"mode\": \"markers\", \"name\": \"Left Midfield\", \"orientation\": \"v\", \"showlegend\": true, \"type\": \"scatter\", \"x\": [8.789509773254395], \"xaxis\": \"x\", \"y\": [18.0], \"yaxis\": \"y\"}, {\"customdata\": [[\"Ainsley Maitland-Niles\", \"AS Roma\", \"Right Midfield\"], [\"Ridle Baku\", \"VfL Wolfsburg\", \"Right Midfield\"]], \"hovertemplate\": \"position=%{customdata[2]}<br>prediction=%{x}<br>True Price=%{y}<br>player_name=%{customdata[0]}<br>club_name=%{customdata[1]}<extra></extra>\", \"legendgroup\": \"Right Midfield\", \"marker\": {\"color\": \"#00cc96\", \"symbol\": \"circle\"}, \"mode\": \"markers\", \"name\": \"Right Midfield\", \"orientation\": \"v\", \"showlegend\": true, \"type\": \"scatter\", \"x\": [10.036027908325195, 7.61557149887085], \"xaxis\": \"x\", \"y\": [0.5, 10.258797353475028], \"yaxis\": \"y\"}],                        {\"legend\": {\"title\": {\"text\": \"position\"}, \"tracegroupgap\": 0}, \"margin\": {\"t\": 60}, \"template\": {\"data\": {\"bar\": [{\"error_x\": {\"color\": \"#2a3f5f\"}, \"error_y\": {\"color\": \"#2a3f5f\"}, \"marker\": {\"line\": {\"color\": \"#E5ECF6\", \"width\": 0.5}}, \"type\": \"bar\"}], \"barpolar\": [{\"marker\": {\"line\": {\"color\": \"#E5ECF6\", \"width\": 0.5}}, \"type\": \"barpolar\"}], \"carpet\": [{\"aaxis\": {\"endlinecolor\": \"#2a3f5f\", \"gridcolor\": \"white\", \"linecolor\": \"white\", \"minorgridcolor\": \"white\", \"startlinecolor\": \"#2a3f5f\"}, \"baxis\": {\"endlinecolor\": \"#2a3f5f\", \"gridcolor\": \"white\", \"linecolor\": \"white\", \"minorgridcolor\": \"white\", \"startlinecolor\": \"#2a3f5f\"}, \"type\": \"carpet\"}], \"choropleth\": [{\"colorbar\": {\"outlinewidth\": 0, \"ticks\": \"\"}, \"type\": \"choropleth\"}], \"contour\": [{\"colorbar\": {\"outlinewidth\": 0, \"ticks\": \"\"}, \"colorscale\": [[0.0, \"#0d0887\"], [0.1111111111111111, \"#46039f\"], [0.2222222222222222, \"#7201a8\"], [0.3333333333333333, \"#9c179e\"], [0.4444444444444444, \"#bd3786\"], [0.5555555555555556, \"#d8576b\"], [0.6666666666666666, \"#ed7953\"], [0.7777777777777778, \"#fb9f3a\"], [0.8888888888888888, \"#fdca26\"], [1.0, \"#f0f921\"]], \"type\": \"contour\"}], \"contourcarpet\": [{\"colorbar\": {\"outlinewidth\": 0, \"ticks\": \"\"}, \"type\": \"contourcarpet\"}], \"heatmap\": [{\"colorbar\": {\"outlinewidth\": 0, \"ticks\": \"\"}, \"colorscale\": [[0.0, \"#0d0887\"], [0.1111111111111111, \"#46039f\"], [0.2222222222222222, \"#7201a8\"], [0.3333333333333333, \"#9c179e\"], [0.4444444444444444, \"#bd3786\"], [0.5555555555555556, \"#d8576b\"], [0.6666666666666666, \"#ed7953\"], [0.7777777777777778, \"#fb9f3a\"], [0.8888888888888888, \"#fdca26\"], [1.0, \"#f0f921\"]], \"type\": \"heatmap\"}], \"heatmapgl\": [{\"colorbar\": {\"outlinewidth\": 0, \"ticks\": \"\"}, \"colorscale\": [[0.0, \"#0d0887\"], [0.1111111111111111, \"#46039f\"], [0.2222222222222222, \"#7201a8\"], [0.3333333333333333, \"#9c179e\"], [0.4444444444444444, \"#bd3786\"], [0.5555555555555556, \"#d8576b\"], [0.6666666666666666, \"#ed7953\"], [0.7777777777777778, \"#fb9f3a\"], [0.8888888888888888, \"#fdca26\"], [1.0, \"#f0f921\"]], \"type\": \"heatmapgl\"}], \"histogram\": [{\"marker\": {\"colorbar\": {\"outlinewidth\": 0, \"ticks\": \"\"}}, \"type\": \"histogram\"}], \"histogram2d\": [{\"colorbar\": {\"outlinewidth\": 0, \"ticks\": \"\"}, \"colorscale\": [[0.0, \"#0d0887\"], [0.1111111111111111, \"#46039f\"], [0.2222222222222222, \"#7201a8\"], [0.3333333333333333, \"#9c179e\"], [0.4444444444444444, \"#bd3786\"], [0.5555555555555556, \"#d8576b\"], [0.6666666666666666, \"#ed7953\"], [0.7777777777777778, \"#fb9f3a\"], [0.8888888888888888, \"#fdca26\"], [1.0, \"#f0f921\"]], \"type\": \"histogram2d\"}], \"histogram2dcontour\": [{\"colorbar\": {\"outlinewidth\": 0, \"ticks\": \"\"}, \"colorscale\": [[0.0, \"#0d0887\"], [0.1111111111111111, \"#46039f\"], [0.2222222222222222, \"#7201a8\"], [0.3333333333333333, \"#9c179e\"], [0.4444444444444444, \"#bd3786\"], [0.5555555555555556, \"#d8576b\"], [0.6666666666666666, \"#ed7953\"], [0.7777777777777778, \"#fb9f3a\"], [0.8888888888888888, \"#fdca26\"], [1.0, \"#f0f921\"]], \"type\": \"histogram2dcontour\"}], \"mesh3d\": [{\"colorbar\": {\"outlinewidth\": 0, \"ticks\": \"\"}, \"type\": \"mesh3d\"}], \"parcoords\": [{\"line\": {\"colorbar\": {\"outlinewidth\": 0, \"ticks\": \"\"}}, \"type\": \"parcoords\"}], \"pie\": [{\"automargin\": true, \"type\": \"pie\"}], \"scatter\": [{\"marker\": {\"colorbar\": {\"outlinewidth\": 0, \"ticks\": \"\"}}, \"type\": \"scatter\"}], \"scatter3d\": [{\"line\": {\"colorbar\": {\"outlinewidth\": 0, \"ticks\": \"\"}}, \"marker\": {\"colorbar\": {\"outlinewidth\": 0, \"ticks\": \"\"}}, \"type\": \"scatter3d\"}], \"scattercarpet\": [{\"marker\": {\"colorbar\": {\"outlinewidth\": 0, \"ticks\": \"\"}}, \"type\": \"scattercarpet\"}], \"scattergeo\": [{\"marker\": {\"colorbar\": {\"outlinewidth\": 0, \"ticks\": \"\"}}, \"type\": \"scattergeo\"}], \"scattergl\": [{\"marker\": {\"colorbar\": {\"outlinewidth\": 0, \"ticks\": \"\"}}, \"type\": \"scattergl\"}], \"scattermapbox\": [{\"marker\": {\"colorbar\": {\"outlinewidth\": 0, \"ticks\": \"\"}}, \"type\": \"scattermapbox\"}], \"scatterpolar\": [{\"marker\": {\"colorbar\": {\"outlinewidth\": 0, \"ticks\": \"\"}}, \"type\": \"scatterpolar\"}], \"scatterpolargl\": [{\"marker\": {\"colorbar\": {\"outlinewidth\": 0, \"ticks\": \"\"}}, \"type\": \"scatterpolargl\"}], \"scatterternary\": [{\"marker\": {\"colorbar\": {\"outlinewidth\": 0, \"ticks\": \"\"}}, \"type\": \"scatterternary\"}], \"surface\": [{\"colorbar\": {\"outlinewidth\": 0, \"ticks\": \"\"}, \"colorscale\": [[0.0, \"#0d0887\"], [0.1111111111111111, \"#46039f\"], [0.2222222222222222, \"#7201a8\"], [0.3333333333333333, \"#9c179e\"], [0.4444444444444444, \"#bd3786\"], [0.5555555555555556, \"#d8576b\"], [0.6666666666666666, \"#ed7953\"], [0.7777777777777778, \"#fb9f3a\"], [0.8888888888888888, \"#fdca26\"], [1.0, \"#f0f921\"]], \"type\": \"surface\"}], \"table\": [{\"cells\": {\"fill\": {\"color\": \"#EBF0F8\"}, \"line\": {\"color\": \"white\"}}, \"header\": {\"fill\": {\"color\": \"#C8D4E3\"}, \"line\": {\"color\": \"white\"}}, \"type\": \"table\"}]}, \"layout\": {\"annotationdefaults\": {\"arrowcolor\": \"#2a3f5f\", \"arrowhead\": 0, \"arrowwidth\": 1}, \"coloraxis\": {\"colorbar\": {\"outlinewidth\": 0, \"ticks\": \"\"}}, \"colorscale\": {\"diverging\": [[0, \"#8e0152\"], [0.1, \"#c51b7d\"], [0.2, \"#de77ae\"], [0.3, \"#f1b6da\"], [0.4, \"#fde0ef\"], [0.5, \"#f7f7f7\"], [0.6, \"#e6f5d0\"], [0.7, \"#b8e186\"], [0.8, \"#7fbc41\"], [0.9, \"#4d9221\"], [1, \"#276419\"]], \"sequential\": [[0.0, \"#0d0887\"], [0.1111111111111111, \"#46039f\"], [0.2222222222222222, \"#7201a8\"], [0.3333333333333333, \"#9c179e\"], [0.4444444444444444, \"#bd3786\"], [0.5555555555555556, \"#d8576b\"], [0.6666666666666666, \"#ed7953\"], [0.7777777777777778, \"#fb9f3a\"], [0.8888888888888888, \"#fdca26\"], [1.0, \"#f0f921\"]], \"sequentialminus\": [[0.0, \"#0d0887\"], [0.1111111111111111, \"#46039f\"], [0.2222222222222222, \"#7201a8\"], [0.3333333333333333, \"#9c179e\"], [0.4444444444444444, \"#bd3786\"], [0.5555555555555556, \"#d8576b\"], [0.6666666666666666, \"#ed7953\"], [0.7777777777777778, \"#fb9f3a\"], [0.8888888888888888, \"#fdca26\"], [1.0, \"#f0f921\"]]}, \"colorway\": [\"#636efa\", \"#EF553B\", \"#00cc96\", \"#ab63fa\", \"#FFA15A\", \"#19d3f3\", \"#FF6692\", \"#B6E880\", \"#FF97FF\", \"#FECB52\"], \"font\": {\"color\": \"#2a3f5f\"}, \"geo\": {\"bgcolor\": \"white\", \"lakecolor\": \"white\", \"landcolor\": \"#E5ECF6\", \"showlakes\": true, \"showland\": true, \"subunitcolor\": \"white\"}, \"hoverlabel\": {\"align\": \"left\"}, \"hovermode\": \"closest\", \"mapbox\": {\"style\": \"light\"}, \"paper_bgcolor\": \"white\", \"plot_bgcolor\": \"#E5ECF6\", \"polar\": {\"angularaxis\": {\"gridcolor\": \"white\", \"linecolor\": \"white\", \"ticks\": \"\"}, \"bgcolor\": \"#E5ECF6\", \"radialaxis\": {\"gridcolor\": \"white\", \"linecolor\": \"white\", \"ticks\": \"\"}}, \"scene\": {\"xaxis\": {\"backgroundcolor\": \"#E5ECF6\", \"gridcolor\": \"white\", \"gridwidth\": 2, \"linecolor\": \"white\", \"showbackground\": true, \"ticks\": \"\", \"zerolinecolor\": \"white\"}, \"yaxis\": {\"backgroundcolor\": \"#E5ECF6\", \"gridcolor\": \"white\", \"gridwidth\": 2, \"linecolor\": \"white\", \"showbackground\": true, \"ticks\": \"\", \"zerolinecolor\": \"white\"}, \"zaxis\": {\"backgroundcolor\": \"#E5ECF6\", \"gridcolor\": \"white\", \"gridwidth\": 2, \"linecolor\": \"white\", \"showbackground\": true, \"ticks\": \"\", \"zerolinecolor\": \"white\"}}, \"shapedefaults\": {\"line\": {\"color\": \"#2a3f5f\"}}, \"ternary\": {\"aaxis\": {\"gridcolor\": \"white\", \"linecolor\": \"white\", \"ticks\": \"\"}, \"baxis\": {\"gridcolor\": \"white\", \"linecolor\": \"white\", \"ticks\": \"\"}, \"bgcolor\": \"#E5ECF6\", \"caxis\": {\"gridcolor\": \"white\", \"linecolor\": \"white\", \"ticks\": \"\"}}, \"title\": {\"x\": 0.05}, \"xaxis\": {\"automargin\": true, \"gridcolor\": \"white\", \"linecolor\": \"white\", \"ticks\": \"\", \"title\": {\"standoff\": 15}, \"zerolinecolor\": \"white\", \"zerolinewidth\": 2}, \"yaxis\": {\"automargin\": true, \"gridcolor\": \"white\", \"linecolor\": \"white\", \"ticks\": \"\", \"title\": {\"standoff\": 15}, \"zerolinecolor\": \"white\", \"zerolinewidth\": 2}}}, \"xaxis\": {\"anchor\": \"y\", \"domain\": [0.0, 1.0], \"title\": {\"text\": \"prediction\"}}, \"yaxis\": {\"anchor\": \"x\", \"domain\": [0.0, 1.0], \"title\": {\"text\": \"True Price\"}}},                        {\"responsive\": true}                    ).then(function(){\n",
       "                            \n",
       "var gd = document.getElementById('97509940-529d-4d57-bc2c-6a694bf85fc7');\n",
       "var x = new MutationObserver(function (mutations, observer) {{\n",
       "        var display = window.getComputedStyle(gd).display;\n",
       "        if (!display || display === 'none') {{\n",
       "            console.log([gd, 'removed!']);\n",
       "            Plotly.purge(gd);\n",
       "            observer.disconnect();\n",
       "        }}\n",
       "}});\n",
       "\n",
       "// Listen for the removal of the full notebook cells\n",
       "var notebookContainer = gd.closest('#notebook-container');\n",
       "if (notebookContainer) {{\n",
       "    x.observe(notebookContainer, {childList: true});\n",
       "}}\n",
       "\n",
       "// Listen for the clearing of the current output cell\n",
       "var outputEl = gd.closest('.output');\n",
       "if (outputEl) {{\n",
       "    x.observe(outputEl, {childList: true});\n",
       "}}\n",
       "\n",
       "                        })                };                });            </script>        </div>"
      ]
     },
     "metadata": {},
     "output_type": "display_data"
    }
   ],
   "source": [
    "import plotly.express as px\n",
    "\n",
    "pred_df = pd.concat([pd.DataFrame(y_pred, columns = [\"prediction\"]), y_test], axis=1)\n",
    "\n",
    "\n",
    "\n",
    "pred_df.rename(columns = {'fee_infladj':'True Price'}, inplace = True)\n",
    "\n",
    "fig = px.scatter(pred_df,\n",
    "                 x=\"prediction\",\n",
    "                 y=\"True Price\",\n",
    "                 color=\"position\",\n",
    "                 hover_data=['player_name', 'club_name', 'position'])\n",
    "fig.show()\n"
   ]
  },
  {
   "cell_type": "code",
   "execution_count": null,
   "metadata": {},
   "outputs": [],
   "source": []
  }
 ],
 "metadata": {
  "kernelspec": {
   "display_name": "Python 3",
   "language": "python",
   "name": "python3"
  },
  "language_info": {
   "codemirror_mode": {
    "name": "ipython",
    "version": 3
   },
   "file_extension": ".py",
   "mimetype": "text/x-python",
   "name": "python",
   "nbconvert_exporter": "python",
   "pygments_lexer": "ipython3",
   "version": "3.7.1"
  }
 },
 "nbformat": 4,
 "nbformat_minor": 4
}
