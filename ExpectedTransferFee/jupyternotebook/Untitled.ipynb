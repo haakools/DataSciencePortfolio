{
 "cells": [
  {
   "cell_type": "code",
   "execution_count": 59,
   "metadata": {},
   "outputs": [],
   "source": [
    "import numpy as np\n",
    "import pandas as pd\n",
    "import seaborn as sns\n",
    "import matplotlib.pyplot as plt\n",
    "import os"
   ]
  },
  {
   "cell_type": "code",
   "execution_count": 24,
   "metadata": {},
   "outputs": [],
   "source": [
    "directory = os.path.join(os.path.dirname(os.getcwd()), \"csvfiles\")\n",
    "\n",
    "epl_df = pd.read_csv(os.path.join(directory, \"england-premier-league-players-2018-to-2019-stats (1).csv\"))\n"
   ]
  },
  {
   "cell_type": "code",
   "execution_count": 53,
   "metadata": {},
   "outputs": [
    {
     "data": {
      "text/plain": [
       "<AxesSubplot:ylabel='Density'>"
      ]
     },
     "execution_count": 53,
     "metadata": {},
     "output_type": "execute_result"
    },
    {
     "data": {
      "image/png": "[encoded data removed]",
      "text/plain": [
       "<Figure size 432x288 with 1 Axes>"
      ]
     },
     "metadata": {
      "needs_background": "light"
     },
     "output_type": "display_data"
    }
   ],
   "source": [
    "# Age distribution\n",
    "ages = epl_df[\"age\"]\n",
    "age_range = [i for i in range(min(ages), max(ages))]\n",
    "ages.plot.kde(ind=age_range)"
   ]
  },
  {
   "cell_type": "code",
   "execution_count": 75,
   "metadata": {
    "scrolled": true
   },
   "outputs": [
    {
     "data": {
      "text/plain": [
       "<AxesSubplot:>"
      ]
     },
     "execution_count": 75,
     "metadata": {},
     "output_type": "execute_result"
    },
    {
     "data": {
      "image/png": "[encoded data removed]",
      "text/plain": [
       "<Figure size 432x288 with 1 Axes>"
      ]
     },
     "metadata": {
      "needs_background": "light"
     },
     "output_type": "display_data"
    }
   ],
   "source": [
    "# How many different players per position?\n",
    "positions = [\"Goalkeeper\", \"Defender\", \"Midfielder\", \"Forward\"]\n",
    "pos_count = []\n",
    "for pos in positions:\n",
    "    pos_count.append(len(epl_df[epl_df[\"position\"] == pos]))\n",
    "sns.barplot(x=np.array(positions), y=np.array(pos_count))"
   ]
  },
  {
   "cell_type": "code",
   "execution_count": 68,
   "metadata": {
    "scrolled": true
   },
   "outputs": [
    {
     "data": {
      "text/plain": [
       "189"
      ]
     },
     "execution_count": 68,
     "metadata": {},
     "output_type": "execute_result"
    }
   ],
   "source": [
    "pos_count[0][]"
   ]
  },
  {
   "cell_type": "code",
   "execution_count": 88,
   "metadata": {},
   "outputs": [
    {
     "data": {
      "application/vnd.plotly.v1+json": {
       "config": {
        "plotlyServerURL": "https://plot.ly"
       },
       "data": [
        {
         "customdata": [
          [
           "Aaron Cresswell"
          ],
          [
           "Adam Masina"
          ],
          [
           "Adam Smith"
          ],
          [
           "Adrian Mariappa"
          ],
          [
           "Alberto Moreno"
          ],
          [
           "Alfie Jones"
          ],
          [
           "Alfie Mawson"
          ],
          [
           "Ali Koiki"
          ],
          [
           "Andreas Christensen"
          ],
          [
           "Andrew Robertson"
          ],
          [
           "Angelo Ogbonna"
          ],
          [
           "Anthony Driscoll-Glennon"
          ],
          [
           "Antonio Barreca"
          ],
          [
           "Antonio Rüdiger"
          ],
          [
           "Antonio Valencia"
          ],
          [
           "Arthur Masuaku"
          ],
          [
           "Aymeric Laporte"
          ],
          [
           "Ben Chilwell"
          ],
          [
           "Ben Davies"
          ],
          [
           "Ben Gibson"
          ],
          [
           "Ben Mee"
          ],
          [
           "Ben White"
          ],
          [
           "Ben Wilmot"
          ],
          [
           "Benjamin Mendy"
          ],
          [
           "Bernardo"
          ],
          [
           "Bruno Écuélé Manga"
          ],
          [
           "Bruno Saltor Grau"
          ],
          [
           "Caglar Söyüncü"
          ],
          [
           "Callum Paterson"
          ],
          [
           "Calum Chambers"
          ],
          [
           "Cameron John"
          ],
          [
           "Carl Jenkinson"
          ],
          [
           "Cedric Soares"
          ],
          [
           "Cesar Azpilicueta"
          ],
          [
           "Charlie Daniels"
          ],
          [
           "Charlie Taylor"
          ],
          [
           "Chris Löwe"
          ],
          [
           "Chris Mepham"
          ],
          [
           "Chris Smalling"
          ],
          [
           "Christian Fuchs"
          ],
          [
           "Christian Kabasele"
          ],
          [
           "Christopher Schindler"
          ],
          [
           "Ciaran Clark"
          ],
          [
           "Craig Cathcart"
          ],
          [
           "Cyrus Christie"
          ],
          [
           "Dan Burn"
          ],
          [
           "Danilo"
          ],
          [
           "Danny Rose"
          ],
          [
           "Danny Simpson"
          ],
          [
           "Daryl Janmaat"
          ],
          [
           "David Luiz"
          ],
          [
           "Davide Zappacosta"
          ],
          [
           "Davinson Sánchez Mina"
          ],
          [
           "DeAndre Yedlin"
          ],
          [
           "Dejan Lovren"
          ],
          [
           "Demeaco Duhaney"
          ],
          [
           "Denis Odoi"
          ],
          [
           "Diego Rico"
          ],
          [
           "Emerson Palmieri dos Santos"
          ],
          [
           "Eric Bertrand Bailly"
          ],
          [
           "Erik Durm"
          ],
          [
           "Fabián Cornelio Balbuena González"
          ],
          [
           "Fabian Schär"
          ],
          [
           "Faustino Marcos Alberto Rojo"
          ],
          [
           "Federico Fernández"
          ],
          [
           "Florent Hadergjonaj"
          ],
          [
           "Florian Lejeune"
          ],
          [
           "Gaëtan Bong Songo"
          ],
          [
           "Gary Cahill"
          ],
          [
           "Greg Cunningham"
          ],
          [
           "Harry Maguire"
          ],
          [
           "Hector Bellerin"
          ],
          [
           "Issa Diop"
          ],
          [
           "Jack Simpson"
          ],
          [
           "Jack Stephens"
          ],
          [
           "Jaïro Riedewald"
          ],
          [
           "Jamal Lascelles"
          ],
          [
           "James Garner"
          ],
          [
           "James Tarkowski"
          ],
          [
           "James Tomkins"
          ],
          [
           "Jamie Sterry"
          ],
          [
           "Jan Bednarek"
          ],
          [
           "Jan Vertonghen"
          ],
          [
           "Jannik Vestergaard"
          ],
          [
           "Javier Manquillo Gaitán"
          ],
          [
           "Jazz Richards"
          ],
          [
           "Jeffrey Schlupp"
          ],
          [
           "Joe Bennett"
          ],
          [
           "Joe Bryan"
          ],
          [
           "Joe Gomez"
          ],
          [
           "Joel Matip"
          ],
          [
           "Joel Ward"
          ],
          [
           "John Stones"
          ],
          [
           "Jon Gorenc Stankovič"
          ],
          [
           "Jonjoe Kenny"
          ],
          [
           "Jonny"
          ],
          [
           "Jonny Evans"
          ],
          [
           "José Diogo Dalot Teixeira"
          ],
          [
           "José Holebas"
          ],
          [
           "Josh Knight"
          ],
          [
           "Juan Marcos Foyth"
          ],
          [
           "Kevin Long"
          ],
          [
           "Kieran Trippier"
          ],
          [
           "Konstantinos Mavropanos"
          ],
          [
           "Kortney Hause"
          ],
          [
           "Kurt Zouma"
          ],
          [
           "Kyle Walker"
          ],
          [
           "Kyle Walker-Peters"
          ],
          [
           "Laurent Koscielny"
          ],
          [
           "Lee Peltier"
          ],
          [
           "Leighton Baines"
          ],
          [
           "Leon Balogun"
          ],
          [
           "Lewis Cass"
          ],
          [
           "Lewis Dunk"
          ],
          [
           "Lucas Digne"
          ],
          [
           "Luke Shaw"
          ],
          [
           "Mamadou Sakho"
          ],
          [
           "Marc Guehi"
          ],
          [
           "Marc Navarro Ceciliano"
          ],
          [
           "Marcos Alonso"
          ],
          [
           "Markus Suttner"
          ],
          [
           "Martin Kelly"
          ],
          [
           "Martín Montoya"
          ],
          [
           "Mason Holgate"
          ],
          [
           "Mathias Jattah-Njie Jørgensen"
          ],
          [
           "Matt Doherty"
          ],
          [
           "Matt Targett"
          ],
          [
           "Matteo Darmian"
          ],
          [
           "Matthew Connolly"
          ],
          [
           "Matthew Lowton"
          ],
          [
           "Max Kilman"
          ],
          [
           "Maxime Le Marchand"
          ],
          [
           "Maya Yoshida"
          ],
          [
           "Michael Keane"
          ],
          [
           "Miguel Ángel Britos Cabrera"
          ],
          [
           "Nacho Monreal"
          ],
          [
           "Nathan Aké"
          ],
          [
           "Nathaniel Clyne"
          ],
          [
           "Nicolas Otamendi"
          ],
          [
           "Nikola Tavares"
          ],
          [
           "Pablo Zabaleta"
          ],
          [
           "Pape N'Diaye Souaré"
          ],
          [
           "Patrick van Aanholt"
          ],
          [
           "Paul Dummett"
          ],
          [
           "Phil Bardsley"
          ],
          [
           "Phil Jagielka"
          ],
          [
           "Phil Jones"
          ],
          [
           "Philippe Sandler"
          ],
          [
           "Ricardo Domingos Barbosa Pereira"
          ],
          [
           "Rob Holding"
          ],
          [
           "Rúben Gonçalo Silva Nascimento Vinagre"
          ],
          [
           "Ryan Bennett"
          ],
          [
           "Ryan Bertrand"
          ],
          [
           "Ryan Sessegnon"
          ],
          [
           "Sam Woods"
          ],
          [
           "Scott Dann"
          ],
          [
           "Sead Kolašinac"
          ],
          [
           "Séamus Coleman"
          ],
          [
           "Sean Morrison"
          ],
          [
           "Sebastian Prödl"
          ],
          [
           "Serge Aurier"
          ],
          [
           "Shane Duffy"
          ],
          [
           "Shkodran Mustafi"
          ],
          [
           "Simon Francis"
          ],
          [
           "Sokratis Papastathopoulos"
          ],
          [
           "Souleymane Bamba"
          ],
          [
           "Stephan Lichtsteiner"
          ],
          [
           "Stephen Ward"
          ],
          [
           "Steve Cook"
          ],
          [
           "Terence Kongolo"
          ],
          [
           "Tim Ream"
          ],
          [
           "Timothy Eyoma"
          ],
          [
           "Timothy Fosu-Mensah"
          ],
          [
           "Toby Alderweireld"
          ],
          [
           "Tom Smith"
          ],
          [
           "Trent Alexander-Arnold"
          ],
          [
           "Tyias Browning"
          ],
          [
           "Tyreke Johnson"
          ],
          [
           "Tyrone Mings"
          ],
          [
           "Victor Nilsson Lindelöf"
          ],
          [
           "Vincent Kompany"
          ],
          [
           "Virgil van Dijk"
          ],
          [
           "Wes Morgan"
          ],
          [
           "Wesley Hoedt"
          ],
          [
           "Willy Boly"
          ],
          [
           "Yann Valery"
          ],
          [
           "Yerry Fernando Mina González"
          ],
          [
           "Zechariah Medley"
          ],
          [
           "Zeze Steven Sessegnon"
          ]
         ],
         "hovertemplate": "rank_in_league_top_attackers=%{x}<br>rank_in_league_top_midfielders=%{y}<br>min_per_match=%{marker.size}<br>full_name=%{customdata[0]}<br>rank_in_league_top_defenders=%{marker.color}<extra></extra>",
         "legendgroup": "",
         "marker": {
          "color": [
           80,
           144,
           85,
           94,
           -1,
           -1,
           161,
           -1,
           35,
           2,
           124,
           -1,
           -1,
           38,
           29,
           89,
           14,
           44,
           60,
           -1,
           118,
           -1,
           -1,
           12,
           107,
           126,
           92,
           16,
           137,
           143,
           -1,
           -1,
           127,
           33,
           152,
           111,
           169,
           142,
           106,
           -1,
           101,
           157,
           113,
           119,
           155,
           -1,
           18,
           11,
           73,
           84,
           27,
           -1,
           26,
           93,
           15,
           -1,
           166,
           172,
           96,
           141,
           156,
           66,
           23,
           -1,
           90,
           135,
           36,
           132,
           -1,
           170,
           78,
           61,
           55,
           163,
           130,
           -1,
           41,
           -1,
           121,
           63,
           -1,
           98,
           31,
           65,
           30,
           -1,
           86,
           112,
           158,
           1,
           8,
           159,
           17,
           171,
           129,
           59,
           32,
           131,
           105,
           -1,
           28,
           70,
           19,
           -1,
           -1,
           83,
           10,
           25,
           103,
           72,
           109,
           97,
           -1,
           120,
           42,
           77,
           64,
           -1,
           -1,
           22,
           -1,
           110,
           128,
           160,
           125,
           46,
           151,
           102,
           -1,
           150,
           -1,
           162,
           133,
           49,
           -1,
           37,
           148,
           146,
           4,
           -1,
           99,
           -1,
           53,
           69,
           62,
           9,
           51,
           -1,
           52,
           47,
           54,
           40,
           117,
           168,
           -1,
           24,
           75,
           34,
           140,
           -1,
           108,
           115,
           74,
           138,
           82,
           136,
           147,
           -1,
           145,
           165,
           167,
           -1,
           164,
           20,
           173,
           6,
           -1,
           -1,
           -1,
           88,
           7,
           5,
           48,
           123,
           43,
           95,
           67,
           -1,
           -1
          ],
          "coloraxis": "coloraxis",
          "size": [
           79,
           72,
           83,
           74,
           78,
           0,
           75,
           0,
           77,
           89,
           78,
           0,
           4,
           87,
           78,
           76,
           87,
           90,
           68,
           63,
           90,
           0,
           13,
           90,
           80,
           89,
           81,
           62,
           74,
           83,
           0,
           55,
           83,
           90,
           75,
           85,
           71,
           65,
           89,
           69,
           76,
           88,
           78,
           86,
           69,
           0,
           73,
           69,
           49,
           85,
           90,
           31,
           84,
           85,
           76,
           46,
           84,
           51,
           66,
           53,
           73,
           88,
           83,
           42,
           78,
           77,
           88,
           82,
           11,
           90,
           84,
           81,
           90,
           67,
           71,
           0,
           86,
           0,
           88,
           88,
           0,
           86,
           87,
           88,
           61,
           32,
           56,
           88,
           84,
           66,
           70,
           79,
           73,
           65,
           79,
           84,
           83,
           63,
           86,
           0,
           78,
           86,
           84,
           38,
           0,
           82,
           84,
           62,
           78,
           77,
           63,
           74,
           0,
           88,
           85,
           89,
           90,
           0,
           42,
           89,
           0,
           85,
           87,
           81,
           90,
           83,
           74,
           74,
           0,
           83,
           0,
           87,
           89,
           90,
           62,
           85,
           90,
           70,
           69,
           0,
           80,
           0,
           89,
           76,
           88,
           47,
           70,
           0,
           89,
           81,
           41,
           90,
           90,
           66,
           0,
           66,
           79,
           88,
           89,
           13,
           71,
           88,
           84,
           72,
           88,
           88,
           67,
           77,
           90,
           85,
           79,
           0,
           66,
           86,
           76,
           85,
           0,
           0,
           28,
           87,
           72,
           89,
           88,
           90,
           88,
           75,
           68,
           0,
           0
          ],
          "sizemode": "area",
          "sizeref": 0.225,
          "symbol": "circle"
         },
         "mode": "markers",
         "name": "",
         "orientation": "v",
         "showlegend": false,
         "type": "scatter",
         "x": [
          290,
          397,
          227,
          396,
          -1,
          -1,
          307,
          -1,
          338,
          418,
          226,
          -1,
          -1,
          259,
          300,
          368,
          176,
          344,
          353,
          -1,
          380,
          -1,
          -1,
          311,
          400,
          337,
          399,
          267,
          108,
          198,
          -1,
          -1,
          204,
          260,
          208,
          381,
          328,
          279,
          246,
          -1,
          393,
          252,
          56,
          177,
          315,
          -1,
          151,
          287,
          269,
          395,
          186,
          -1,
          221,
          237,
          173,
          -1,
          286,
          306,
          274,
          340,
          305,
          231,
          110,
          -1,
          297,
          329,
          278,
          401,
          -1,
          313,
          165,
          385,
          248,
          272,
          223,
          -1,
          346,
          -1,
          170,
          235,
          -1,
          377,
          225,
          373,
          350,
          -1,
          89,
          324,
          316,
          407,
          215,
          114,
          309,
          139,
          289,
          257,
          224,
          283,
          153,
          -1,
          157,
          293,
          230,
          -1,
          -1,
          192,
          250,
          357,
          93,
          352,
          410,
          121,
          -1,
          203,
          147,
          262,
          322,
          -1,
          -1,
          191,
          -1,
          326,
          294,
          414,
          129,
          155,
          183,
          411,
          -1,
          378,
          -1,
          314,
          308,
          251,
          -1,
          222,
          150,
          392,
          273,
          -1,
          370,
          -1,
          184,
          347,
          383,
          71,
          299,
          -1,
          214,
          389,
          406,
          256,
          245,
          182,
          -1,
          276,
          285,
          197,
          255,
          -1,
          351,
          123,
          201,
          360,
          234,
          118,
          387,
          -1,
          254,
          261,
          265,
          -1,
          319,
          356,
          334,
          233,
          -1,
          -1,
          -1,
          263,
          194,
          152,
          125,
          374,
          148,
          162,
          161,
          -1,
          -1
         ],
         "xaxis": "x",
         "y": [
          191,
          155,
          228,
          414,
          -1,
          -1,
          255,
          -1,
          346,
          19,
          207,
          -1,
          -1,
          374,
          256,
          203,
          158,
          139,
          274,
          -1,
          211,
          -1,
          -1,
          3,
          200,
          242,
          175,
          330,
          202,
          399,
          -1,
          -1,
          124,
          116,
          254,
          239,
          163,
          133,
          294,
          -1,
          402,
          345,
          315,
          400,
          205,
          -1,
          318,
          95,
          333,
          121,
          198,
          -1,
          208,
          177,
          324,
          -1,
          244,
          261,
          296,
          310,
          232,
          356,
          230,
          -1,
          194,
          376,
          301,
          336,
          -1,
          381,
          299,
          26,
          364,
          314,
          369,
          -1,
          245,
          -1,
          238,
          215,
          -1,
          225,
          282,
          367,
          40,
          -1,
          209,
          241,
          218,
          398,
          286,
          358,
          418,
          291,
          143,
          237,
          319,
          77,
          49,
          -1,
          334,
          72,
          122,
          -1,
          -1,
          185,
          248,
          1,
          295,
          391,
          287,
          292,
          -1,
          252,
          125,
          105,
          403,
          -1,
          -1,
          112,
          -1,
          350,
          229,
          390,
          235,
          100,
          51,
          280,
          -1,
          342,
          -1,
          219,
          192,
          196,
          -1,
          98,
          337,
          180,
          385,
          -1,
          223,
          -1,
          199,
          269,
          355,
          272,
          189,
          -1,
          84,
          411,
          323,
          304,
          366,
          53,
          -1,
          101,
          45,
          178,
          164,
          -1,
          15,
          253,
          378,
          99,
          173,
          222,
          407,
          -1,
          243,
          236,
          320,
          -1,
          408,
          275,
          360,
          6,
          -1,
          -1,
          -1,
          246,
          384,
          201,
          300,
          370,
          312,
          214,
          329,
          -1,
          -1
         ],
         "yaxis": "y"
        }
       ],
       "layout": {
        "coloraxis": {
         "colorbar": {
          "title": {
           "text": "rank_in_league_top_defenders"
          }
         },
         "colorscale": [
          [
           0,
           "#0d0887"
          ],
          [
           0.1111111111111111,
           "#46039f"
          ],
          [
           0.2222222222222222,
           "#7201a8"
          ],
          [
           0.3333333333333333,
           "#9c179e"
          ],
          [
           0.4444444444444444,
           "#bd3786"
          ],
          [
           0.5555555555555556,
           "#d8576b"
          ],
          [
           0.6666666666666666,
           "#ed7953"
          ],
          [
           0.7777777777777778,
           "#fb9f3a"
          ],
          [
           0.8888888888888888,
           "#fdca26"
          ],
          [
           1,
           "#f0f921"
          ]
         ]
        },
        "legend": {
         "itemsizing": "constant",
         "tracegroupgap": 0
        },
        "margin": {
         "t": 60
        },
        "template": {
         "data": {
          "bar": [
           {
            "error_x": {
             "color": "#2a3f5f"
            },
            "error_y": {
             "color": "#2a3f5f"
            },
            "marker": {
             "line": {
              "color": "#E5ECF6",
              "width": 0.5
             },
             "pattern": {
              "fillmode": "overlay",
              "size": 10,
              "solidity": 0.2
             }
            },
            "type": "bar"
           }
          ],
          "barpolar": [
           {
            "marker": {
             "line": {
              "color": "#E5ECF6",
              "width": 0.5
             },
             "pattern": {
              "fillmode": "overlay",
              "size": 10,
              "solidity": 0.2
             }
            },
            "type": "barpolar"
           }
          ],
          "carpet": [
           {
            "aaxis": {
             "endlinecolor": "#2a3f5f",
             "gridcolor": "white",
             "linecolor": "white",
             "minorgridcolor": "white",
             "startlinecolor": "#2a3f5f"
            },
            "baxis": {
             "endlinecolor": "#2a3f5f",
             "gridcolor": "white",
             "linecolor": "white",
             "minorgridcolor": "white",
             "startlinecolor": "#2a3f5f"
            },
            "type": "carpet"
           }
          ],
          "choropleth": [
           {
            "colorbar": {
             "outlinewidth": 0,
             "ticks": ""
            },
            "type": "choropleth"
           }
          ],
          "contour": [
           {
            "colorbar": {
             "outlinewidth": 0,
             "ticks": ""
            },
            "colorscale": [
             [
              0,
              "#0d0887"
             ],
             [
              0.1111111111111111,
              "#46039f"
             ],
             [
              0.2222222222222222,
              "#7201a8"
             ],
             [
              0.3333333333333333,
              "#9c179e"
             ],
             [
              0.4444444444444444,
              "#bd3786"
             ],
             [
              0.5555555555555556,
              "#d8576b"
             ],
             [
              0.6666666666666666,
              "#ed7953"
             ],
             [
              0.7777777777777778,
              "#fb9f3a"
             ],
             [
              0.8888888888888888,
              "#fdca26"
             ],
             [
              1,
              "#f0f921"
             ]
            ],
            "type": "contour"
           }
          ],
          "contourcarpet": [
           {
            "colorbar": {
             "outlinewidth": 0,
             "ticks": ""
            },
            "type": "contourcarpet"
           }
          ],
          "heatmap": [
           {
            "colorbar": {
             "outlinewidth": 0,
             "ticks": ""
            },
            "colorscale": [
             [
              0,
              "#0d0887"
             ],
             [
              0.1111111111111111,
              "#46039f"
             ],
             [
              0.2222222222222222,
              "#7201a8"
             ],
             [
              0.3333333333333333,
              "#9c179e"
             ],
             [
              0.4444444444444444,
              "#bd3786"
             ],
             [
              0.5555555555555556,
              "#d8576b"
             ],
             [
              0.6666666666666666,
              "#ed7953"
             ],
             [
              0.7777777777777778,
              "#fb9f3a"
             ],
             [
              0.8888888888888888,
              "#fdca26"
             ],
             [
              1,
              "#f0f921"
             ]
            ],
            "type": "heatmap"
           }
          ],
          "heatmapgl": [
           {
            "colorbar": {
             "outlinewidth": 0,
             "ticks": ""
            },
            "colorscale": [
             [
              0,
              "#0d0887"
             ],
             [
              0.1111111111111111,
              "#46039f"
             ],
             [
              0.2222222222222222,
              "#7201a8"
             ],
             [
              0.3333333333333333,
              "#9c179e"
             ],
             [
              0.4444444444444444,
              "#bd3786"
             ],
             [
              0.5555555555555556,
              "#d8576b"
             ],
             [
              0.6666666666666666,
              "#ed7953"
             ],
             [
              0.7777777777777778,
              "#fb9f3a"
             ],
             [
              0.8888888888888888,
              "#fdca26"
             ],
             [
              1,
              "#f0f921"
             ]
            ],
            "type": "heatmapgl"
           }
          ],
          "histogram": [
           {
            "marker": {
             "pattern": {
              "fillmode": "overlay",
              "size": 10,
              "solidity": 0.2
             }
            },
            "type": "histogram"
           }
          ],
          "histogram2d": [
           {
            "colorbar": {
             "outlinewidth": 0,
             "ticks": ""
            },
            "colorscale": [
             [
              0,
              "#0d0887"
             ],
             [
              0.1111111111111111,
              "#46039f"
             ],
             [
              0.2222222222222222,
              "#7201a8"
             ],
             [
              0.3333333333333333,
              "#9c179e"
             ],
             [
              0.4444444444444444,
              "#bd3786"
             ],
             [
              0.5555555555555556,
              "#d8576b"
             ],
             [
              0.6666666666666666,
              "#ed7953"
             ],
             [
              0.7777777777777778,
              "#fb9f3a"
             ],
             [
              0.8888888888888888,
              "#fdca26"
             ],
             [
              1,
              "#f0f921"
             ]
            ],
            "type": "histogram2d"
           }
          ],
          "histogram2dcontour": [
           {
            "colorbar": {
             "outlinewidth": 0,
             "ticks": ""
            },
            "colorscale": [
             [
              0,
              "#0d0887"
             ],
             [
              0.1111111111111111,
              "#46039f"
             ],
             [
              0.2222222222222222,
              "#7201a8"
             ],
             [
              0.3333333333333333,
              "#9c179e"
             ],
             [
              0.4444444444444444,
              "#bd3786"
             ],
             [
              0.5555555555555556,
              "#d8576b"
             ],
             [
              0.6666666666666666,
              "#ed7953"
             ],
             [
              0.7777777777777778,
              "#fb9f3a"
             ],
             [
              0.8888888888888888,
              "#fdca26"
             ],
             [
              1,
              "#f0f921"
             ]
            ],
            "type": "histogram2dcontour"
           }
          ],
          "mesh3d": [
           {
            "colorbar": {
             "outlinewidth": 0,
             "ticks": ""
            },
            "type": "mesh3d"
           }
          ],
          "parcoords": [
           {
            "line": {
             "colorbar": {
              "outlinewidth": 0,
              "ticks": ""
             }
            },
            "type": "parcoords"
           }
          ],
          "pie": [
           {
            "automargin": true,
            "type": "pie"
           }
          ],
          "scatter": [
           {
            "marker": {
             "colorbar": {
              "outlinewidth": 0,
              "ticks": ""
             }
            },
            "type": "scatter"
           }
          ],
          "scatter3d": [
           {
            "line": {
             "colorbar": {
              "outlinewidth": 0,
              "ticks": ""
             }
            },
            "marker": {
             "colorbar": {
              "outlinewidth": 0,
              "ticks": ""
             }
            },
            "type": "scatter3d"
           }
          ],
          "scattercarpet": [
           {
            "marker": {
             "colorbar": {
              "outlinewidth": 0,
              "ticks": ""
             }
            },
            "type": "scattercarpet"
           }
          ],
          "scattergeo": [
           {
            "marker": {
             "colorbar": {
              "outlinewidth": 0,
              "ticks": ""
             }
            },
            "type": "scattergeo"
           }
          ],
          "scattergl": [
           {
            "marker": {
             "colorbar": {
              "outlinewidth": 0,
              "ticks": ""
             }
            },
            "type": "scattergl"
           }
          ],
          "scattermapbox": [
           {
            "marker": {
             "colorbar": {
              "outlinewidth": 0,
              "ticks": ""
             }
            },
            "type": "scattermapbox"
           }
          ],
          "scatterpolar": [
           {
            "marker": {
             "colorbar": {
              "outlinewidth": 0,
              "ticks": ""
             }
            },
            "type": "scatterpolar"
           }
          ],
          "scatterpolargl": [
           {
            "marker": {
             "colorbar": {
              "outlinewidth": 0,
              "ticks": ""
             }
            },
            "type": "scatterpolargl"
           }
          ],
          "scatterternary": [
           {
            "marker": {
             "colorbar": {
              "outlinewidth": 0,
              "ticks": ""
             }
            },
            "type": "scatterternary"
           }
          ],
          "surface": [
           {
            "colorbar": {
             "outlinewidth": 0,
             "ticks": ""
            },
            "colorscale": [
             [
              0,
              "#0d0887"
             ],
             [
              0.1111111111111111,
              "#46039f"
             ],
             [
              0.2222222222222222,
              "#7201a8"
             ],
             [
              0.3333333333333333,
              "#9c179e"
             ],
             [
              0.4444444444444444,
              "#bd3786"
             ],
             [
              0.5555555555555556,
              "#d8576b"
             ],
             [
              0.6666666666666666,
              "#ed7953"
             ],
             [
              0.7777777777777778,
              "#fb9f3a"
             ],
             [
              0.8888888888888888,
              "#fdca26"
             ],
             [
              1,
              "#f0f921"
             ]
            ],
            "type": "surface"
           }
          ],
          "table": [
           {
            "cells": {
             "fill": {
              "color": "#EBF0F8"
             },
             "line": {
              "color": "white"
             }
            },
            "header": {
             "fill": {
              "color": "#C8D4E3"
             },
             "line": {
              "color": "white"
             }
            },
            "type": "table"
           }
          ]
         },
         "layout": {
          "annotationdefaults": {
           "arrowcolor": "#2a3f5f",
           "arrowhead": 0,
           "arrowwidth": 1
          },
          "autotypenumbers": "strict",
          "coloraxis": {
           "colorbar": {
            "outlinewidth": 0,
            "ticks": ""
           }
          },
          "colorscale": {
           "diverging": [
            [
             0,
             "#8e0152"
            ],
            [
             0.1,
             "#c51b7d"
            ],
            [
             0.2,
             "#de77ae"
            ],
            [
             0.3,
             "#f1b6da"
            ],
            [
             0.4,
             "#fde0ef"
            ],
            [
             0.5,
             "#f7f7f7"
            ],
            [
             0.6,
             "#e6f5d0"
            ],
            [
             0.7,
             "#b8e186"
            ],
            [
             0.8,
             "#7fbc41"
            ],
            [
             0.9,
             "#4d9221"
            ],
            [
             1,
             "#276419"
            ]
           ],
           "sequential": [
            [
             0,
             "#0d0887"
            ],
            [
             0.1111111111111111,
             "#46039f"
            ],
            [
             0.2222222222222222,
             "#7201a8"
            ],
            [
             0.3333333333333333,
             "#9c179e"
            ],
            [
             0.4444444444444444,
             "#bd3786"
            ],
            [
             0.5555555555555556,
             "#d8576b"
            ],
            [
             0.6666666666666666,
             "#ed7953"
            ],
            [
             0.7777777777777778,
             "#fb9f3a"
            ],
            [
             0.8888888888888888,
             "#fdca26"
            ],
            [
             1,
             "#f0f921"
            ]
           ],
           "sequentialminus": [
            [
             0,
             "#0d0887"
            ],
            [
             0.1111111111111111,
             "#46039f"
            ],
            [
             0.2222222222222222,
             "#7201a8"
            ],
            [
             0.3333333333333333,
             "#9c179e"
            ],
            [
             0.4444444444444444,
             "#bd3786"
            ],
            [
             0.5555555555555556,
             "#d8576b"
            ],
            [
             0.6666666666666666,
             "#ed7953"
            ],
            [
             0.7777777777777778,
             "#fb9f3a"
            ],
            [
             0.8888888888888888,
             "#fdca26"
            ],
            [
             1,
             "#f0f921"
            ]
           ]
          },
          "colorway": [
           "#636efa",
           "#EF553B",
           "#00cc96",
           "#ab63fa",
           "#FFA15A",
           "#19d3f3",
           "#FF6692",
           "#B6E880",
           "#FF97FF",
           "#FECB52"
          ],
          "font": {
           "color": "#2a3f5f"
          },
          "geo": {
           "bgcolor": "white",
           "lakecolor": "white",
           "landcolor": "#E5ECF6",
           "showlakes": true,
           "showland": true,
           "subunitcolor": "white"
          },
          "hoverlabel": {
           "align": "left"
          },
          "hovermode": "closest",
          "mapbox": {
           "style": "light"
          },
          "paper_bgcolor": "white",
          "plot_bgcolor": "#E5ECF6",
          "polar": {
           "angularaxis": {
            "gridcolor": "white",
            "linecolor": "white",
            "ticks": ""
           },
           "bgcolor": "#E5ECF6",
           "radialaxis": {
            "gridcolor": "white",
            "linecolor": "white",
            "ticks": ""
           }
          },
          "scene": {
           "xaxis": {
            "backgroundcolor": "#E5ECF6",
            "gridcolor": "white",
            "gridwidth": 2,
            "linecolor": "white",
            "showbackground": true,
            "ticks": "",
            "zerolinecolor": "white"
           },
           "yaxis": {
            "backgroundcolor": "#E5ECF6",
            "gridcolor": "white",
            "gridwidth": 2,
            "linecolor": "white",
            "showbackground": true,
            "ticks": "",
            "zerolinecolor": "white"
           },
           "zaxis": {
            "backgroundcolor": "#E5ECF6",
            "gridcolor": "white",
            "gridwidth": 2,
            "linecolor": "white",
            "showbackground": true,
            "ticks": "",
            "zerolinecolor": "white"
           }
          },
          "shapedefaults": {
           "line": {
            "color": "#2a3f5f"
           }
          },
          "ternary": {
           "aaxis": {
            "gridcolor": "white",
            "linecolor": "white",
            "ticks": ""
           },
           "baxis": {
            "gridcolor": "white",
            "linecolor": "white",
            "ticks": ""
           },
           "bgcolor": "#E5ECF6",
           "caxis": {
            "gridcolor": "white",
            "linecolor": "white",
            "ticks": ""
           }
          },
          "title": {
           "x": 0.05
          },
          "xaxis": {
           "automargin": true,
           "gridcolor": "white",
           "linecolor": "white",
           "ticks": "",
           "title": {
            "standoff": 15
           },
           "zerolinecolor": "white",
           "zerolinewidth": 2
          },
          "yaxis": {
           "automargin": true,
           "gridcolor": "white",
           "linecolor": "white",
           "ticks": "",
           "title": {
            "standoff": 15
           },
           "zerolinecolor": "white",
           "zerolinewidth": 2
          }
         }
        },
        "xaxis": {
         "anchor": "y",
         "domain": [
          0,
          1
         ],
         "title": {
          "text": "rank_in_league_top_attackers"
         }
        },
        "yaxis": {
         "anchor": "x",
         "domain": [
          0,
          1
         ],
         "title": {
          "text": "rank_in_league_top_midfielders"
         }
        }
       }
      },
      "text/html": [
       "<div>                            <div id=\"f92e8386-7e13-404c-ba3a-7119e2f2301d\" class=\"plotly-graph-div\" style=\"height:525px; width:100%;\"></div>            <script type=\"text/javascript\">                require([\"plotly\"], function(Plotly) {                    window.PLOTLYENV=window.PLOTLYENV || {};                                    if (document.getElementById(\"f92e8386-7e13-404c-ba3a-7119e2f2301d\")) {                    Plotly.newPlot(                        \"f92e8386-7e13-404c-ba3a-7119e2f2301d\",                        [{\"customdata\":[[\"Aaron Cresswell\"],[\"Adam Masina\"],[\"Adam Smith\"],[\"Adrian Mariappa\"],[\"Alberto Moreno\"],[\"Alfie Jones\"],[\"Alfie Mawson\"],[\"Ali Koiki\"],[\"Andreas Christensen\"],[\"Andrew Robertson\"],[\"Angelo Ogbonna\"],[\"Anthony Driscoll-Glennon\"],[\"Antonio Barreca\"],[\"Antonio R\\u00fcdiger\"],[\"Antonio Valencia\"],[\"Arthur Masuaku\"],[\"Aymeric Laporte\"],[\"Ben Chilwell\"],[\"Ben Davies\"],[\"Ben Gibson\"],[\"Ben Mee\"],[\"Ben White\"],[\"Ben Wilmot\"],[\"Benjamin Mendy\"],[\"Bernardo\"],[\"Bruno \\u00c9cu\\u00e9l\\u00e9 Manga\"],[\"Bruno Saltor Grau\"],[\"Caglar S\\u00f6y\\u00fcnc\\u00fc\"],[\"Callum Paterson\"],[\"Calum Chambers\"],[\"Cameron John\"],[\"Carl Jenkinson\"],[\"Cedric Soares\"],[\"Cesar Azpilicueta\"],[\"Charlie Daniels\"],[\"Charlie Taylor\"],[\"Chris L\\u00f6we\"],[\"Chris Mepham\"],[\"Chris Smalling\"],[\"Christian Fuchs\"],[\"Christian Kabasele\"],[\"Christopher Schindler\"],[\"Ciaran Clark\"],[\"Craig Cathcart\"],[\"Cyrus Christie\"],[\"Dan Burn\"],[\"Danilo\"],[\"Danny Rose\"],[\"Danny Simpson\"],[\"Daryl Janmaat\"],[\"David Luiz\"],[\"Davide Zappacosta\"],[\"Davinson S\\u00e1nchez Mina\"],[\"DeAndre Yedlin\"],[\"Dejan Lovren\"],[\"Demeaco Duhaney\"],[\"Denis Odoi\"],[\"Diego Rico\"],[\"Emerson Palmieri dos Santos\"],[\"Eric Bertrand Bailly\"],[\"Erik Durm\"],[\"Fabi\\u00e1n Cornelio Balbuena Gonz\\u00e1lez\"],[\"Fabian Sch\\u00e4r\"],[\"Faustino Marcos Alberto Rojo\"],[\"Federico Fern\\u00e1ndez\"],[\"Florent Hadergjonaj\"],[\"Florian Lejeune\"],[\"Ga\\u00ebtan Bong Songo\"],[\"Gary Cahill\"],[\"Greg Cunningham\"],[\"Harry Maguire\"],[\"Hector Bellerin\"],[\"Issa Diop\"],[\"Jack Simpson\"],[\"Jack Stephens\"],[\"Ja\\u00efro Riedewald\"],[\"Jamal Lascelles\"],[\"James Garner\"],[\"James Tarkowski\"],[\"James Tomkins\"],[\"Jamie Sterry\"],[\"Jan Bednarek\"],[\"Jan Vertonghen\"],[\"Jannik Vestergaard\"],[\"Javier Manquillo Gait\\u00e1n\"],[\"Jazz Richards\"],[\"Jeffrey Schlupp\"],[\"Joe Bennett\"],[\"Joe Bryan\"],[\"Joe Gomez\"],[\"Joel Matip\"],[\"Joel Ward\"],[\"John Stones\"],[\"Jon Gorenc Stankovi\\u010d\"],[\"Jonjoe Kenny\"],[\"Jonny\"],[\"Jonny Evans\"],[\"Jos\\u00e9 Diogo Dalot Teixeira\"],[\"Jos\\u00e9 Holebas\"],[\"Josh Knight\"],[\"Juan Marcos Foyth\"],[\"Kevin Long\"],[\"Kieran Trippier\"],[\"Konstantinos Mavropanos\"],[\"Kortney Hause\"],[\"Kurt Zouma\"],[\"Kyle Walker\"],[\"Kyle Walker-Peters\"],[\"Laurent Koscielny\"],[\"Lee Peltier\"],[\"Leighton Baines\"],[\"Leon Balogun\"],[\"Lewis Cass\"],[\"Lewis Dunk\"],[\"Lucas Digne\"],[\"Luke Shaw\"],[\"Mamadou Sakho\"],[\"Marc Guehi\"],[\"Marc Navarro Ceciliano\"],[\"Marcos Alonso\"],[\"Markus Suttner\"],[\"Martin Kelly\"],[\"Mart\\u00edn Montoya\"],[\"Mason Holgate\"],[\"Mathias Jattah-Njie J\\u00f8rgensen\"],[\"Matt Doherty\"],[\"Matt Targett\"],[\"Matteo Darmian\"],[\"Matthew Connolly\"],[\"Matthew Lowton\"],[\"Max Kilman\"],[\"Maxime Le Marchand\"],[\"Maya Yoshida\"],[\"Michael Keane\"],[\"Miguel \\u00c1ngel Britos Cabrera\"],[\"Nacho Monreal\"],[\"Nathan Ak\\u00e9\"],[\"Nathaniel Clyne\"],[\"Nicolas Otamendi\"],[\"Nikola Tavares\"],[\"Pablo Zabaleta\"],[\"Pape N'Diaye Souar\\u00e9\"],[\"Patrick van Aanholt\"],[\"Paul Dummett\"],[\"Phil Bardsley\"],[\"Phil Jagielka\"],[\"Phil Jones\"],[\"Philippe Sandler\"],[\"Ricardo Domingos Barbosa Pereira\"],[\"Rob Holding\"],[\"R\\u00faben Gon\\u00e7alo Silva Nascimento Vinagre\"],[\"Ryan Bennett\"],[\"Ryan Bertrand\"],[\"Ryan Sessegnon\"],[\"Sam Woods\"],[\"Scott Dann\"],[\"Sead Kola\\u0161inac\"],[\"S\\u00e9amus Coleman\"],[\"Sean Morrison\"],[\"Sebastian Pr\\u00f6dl\"],[\"Serge Aurier\"],[\"Shane Duffy\"],[\"Shkodran Mustafi\"],[\"Simon Francis\"],[\"Sokratis Papastathopoulos\"],[\"Souleymane Bamba\"],[\"Stephan Lichtsteiner\"],[\"Stephen Ward\"],[\"Steve Cook\"],[\"Terence Kongolo\"],[\"Tim Ream\"],[\"Timothy Eyoma\"],[\"Timothy Fosu-Mensah\"],[\"Toby Alderweireld\"],[\"Tom Smith\"],[\"Trent Alexander-Arnold\"],[\"Tyias Browning\"],[\"Tyreke Johnson\"],[\"Tyrone Mings\"],[\"Victor Nilsson Lindel\\u00f6f\"],[\"Vincent Kompany\"],[\"Virgil van Dijk\"],[\"Wes Morgan\"],[\"Wesley Hoedt\"],[\"Willy Boly\"],[\"Yann Valery\"],[\"Yerry Fernando Mina Gonz\\u00e1lez\"],[\"Zechariah Medley\"],[\"Zeze Steven Sessegnon\"]],\"hovertemplate\":\"rank_in_league_top_attackers=%{x}<br>rank_in_league_top_midfielders=%{y}<br>min_per_match=%{marker.size}<br>full_name=%{customdata[0]}<br>rank_in_league_top_defenders=%{marker.color}<extra></extra>\",\"legendgroup\":\"\",\"marker\":{\"color\":[80,144,85,94,-1,-1,161,-1,35,2,124,-1,-1,38,29,89,14,44,60,-1,118,-1,-1,12,107,126,92,16,137,143,-1,-1,127,33,152,111,169,142,106,-1,101,157,113,119,155,-1,18,11,73,84,27,-1,26,93,15,-1,166,172,96,141,156,66,23,-1,90,135,36,132,-1,170,78,61,55,163,130,-1,41,-1,121,63,-1,98,31,65,30,-1,86,112,158,1,8,159,17,171,129,59,32,131,105,-1,28,70,19,-1,-1,83,10,25,103,72,109,97,-1,120,42,77,64,-1,-1,22,-1,110,128,160,125,46,151,102,-1,150,-1,162,133,49,-1,37,148,146,4,-1,99,-1,53,69,62,9,51,-1,52,47,54,40,117,168,-1,24,75,34,140,-1,108,115,74,138,82,136,147,-1,145,165,167,-1,164,20,173,6,-1,-1,-1,88,7,5,48,123,43,95,67,-1,-1],\"coloraxis\":\"coloraxis\",\"size\":[79,72,83,74,78,0,75,0,77,89,78,0,4,87,78,76,87,90,68,63,90,0,13,90,80,89,81,62,74,83,0,55,83,90,75,85,71,65,89,69,76,88,78,86,69,0,73,69,49,85,90,31,84,85,76,46,84,51,66,53,73,88,83,42,78,77,88,82,11,90,84,81,90,67,71,0,86,0,88,88,0,86,87,88,61,32,56,88,84,66,70,79,73,65,79,84,83,63,86,0,78,86,84,38,0,82,84,62,78,77,63,74,0,88,85,89,90,0,42,89,0,85,87,81,90,83,74,74,0,83,0,87,89,90,62,85,90,70,69,0,80,0,89,76,88,47,70,0,89,81,41,90,90,66,0,66,79,88,89,13,71,88,84,72,88,88,67,77,90,85,79,0,66,86,76,85,0,0,28,87,72,89,88,90,88,75,68,0,0],\"sizemode\":\"area\",\"sizeref\":0.225,\"symbol\":\"circle\"},\"mode\":\"markers\",\"name\":\"\",\"orientation\":\"v\",\"showlegend\":false,\"x\":[290,397,227,396,-1,-1,307,-1,338,418,226,-1,-1,259,300,368,176,344,353,-1,380,-1,-1,311,400,337,399,267,108,198,-1,-1,204,260,208,381,328,279,246,-1,393,252,56,177,315,-1,151,287,269,395,186,-1,221,237,173,-1,286,306,274,340,305,231,110,-1,297,329,278,401,-1,313,165,385,248,272,223,-1,346,-1,170,235,-1,377,225,373,350,-1,89,324,316,407,215,114,309,139,289,257,224,283,153,-1,157,293,230,-1,-1,192,250,357,93,352,410,121,-1,203,147,262,322,-1,-1,191,-1,326,294,414,129,155,183,411,-1,378,-1,314,308,251,-1,222,150,392,273,-1,370,-1,184,347,383,71,299,-1,214,389,406,256,245,182,-1,276,285,197,255,-1,351,123,201,360,234,118,387,-1,254,261,265,-1,319,356,334,233,-1,-1,-1,263,194,152,125,374,148,162,161,-1,-1],\"xaxis\":\"x\",\"y\":[191,155,228,414,-1,-1,255,-1,346,19,207,-1,-1,374,256,203,158,139,274,-1,211,-1,-1,3,200,242,175,330,202,399,-1,-1,124,116,254,239,163,133,294,-1,402,345,315,400,205,-1,318,95,333,121,198,-1,208,177,324,-1,244,261,296,310,232,356,230,-1,194,376,301,336,-1,381,299,26,364,314,369,-1,245,-1,238,215,-1,225,282,367,40,-1,209,241,218,398,286,358,418,291,143,237,319,77,49,-1,334,72,122,-1,-1,185,248,1,295,391,287,292,-1,252,125,105,403,-1,-1,112,-1,350,229,390,235,100,51,280,-1,342,-1,219,192,196,-1,98,337,180,385,-1,223,-1,199,269,355,272,189,-1,84,411,323,304,366,53,-1,101,45,178,164,-1,15,253,378,99,173,222,407,-1,243,236,320,-1,408,275,360,6,-1,-1,-1,246,384,201,300,370,312,214,329,-1,-1],\"yaxis\":\"y\",\"type\":\"scatter\"}],                        {\"template\":{\"data\":{\"bar\":[{\"error_x\":{\"color\":\"#2a3f5f\"},\"error_y\":{\"color\":\"#2a3f5f\"},\"marker\":{\"line\":{\"color\":\"#E5ECF6\",\"width\":0.5},\"pattern\":{\"fillmode\":\"overlay\",\"size\":10,\"solidity\":0.2}},\"type\":\"bar\"}],\"barpolar\":[{\"marker\":{\"line\":{\"color\":\"#E5ECF6\",\"width\":0.5},\"pattern\":{\"fillmode\":\"overlay\",\"size\":10,\"solidity\":0.2}},\"type\":\"barpolar\"}],\"carpet\":[{\"aaxis\":{\"endlinecolor\":\"#2a3f5f\",\"gridcolor\":\"white\",\"linecolor\":\"white\",\"minorgridcolor\":\"white\",\"startlinecolor\":\"#2a3f5f\"},\"baxis\":{\"endlinecolor\":\"#2a3f5f\",\"gridcolor\":\"white\",\"linecolor\":\"white\",\"minorgridcolor\":\"white\",\"startlinecolor\":\"#2a3f5f\"},\"type\":\"carpet\"}],\"choropleth\":[{\"colorbar\":{\"outlinewidth\":0,\"ticks\":\"\"},\"type\":\"choropleth\"}],\"contour\":[{\"colorbar\":{\"outlinewidth\":0,\"ticks\":\"\"},\"colorscale\":[[0.0,\"#0d0887\"],[0.1111111111111111,\"#46039f\"],[0.2222222222222222,\"#7201a8\"],[0.3333333333333333,\"#9c179e\"],[0.4444444444444444,\"#bd3786\"],[0.5555555555555556,\"#d8576b\"],[0.6666666666666666,\"#ed7953\"],[0.7777777777777778,\"#fb9f3a\"],[0.8888888888888888,\"#fdca26\"],[1.0,\"#f0f921\"]],\"type\":\"contour\"}],\"contourcarpet\":[{\"colorbar\":{\"outlinewidth\":0,\"ticks\":\"\"},\"type\":\"contourcarpet\"}],\"heatmap\":[{\"colorbar\":{\"outlinewidth\":0,\"ticks\":\"\"},\"colorscale\":[[0.0,\"#0d0887\"],[0.1111111111111111,\"#46039f\"],[0.2222222222222222,\"#7201a8\"],[0.3333333333333333,\"#9c179e\"],[0.4444444444444444,\"#bd3786\"],[0.5555555555555556,\"#d8576b\"],[0.6666666666666666,\"#ed7953\"],[0.7777777777777778,\"#fb9f3a\"],[0.8888888888888888,\"#fdca26\"],[1.0,\"#f0f921\"]],\"type\":\"heatmap\"}],\"heatmapgl\":[{\"colorbar\":{\"outlinewidth\":0,\"ticks\":\"\"},\"colorscale\":[[0.0,\"#0d0887\"],[0.1111111111111111,\"#46039f\"],[0.2222222222222222,\"#7201a8\"],[0.3333333333333333,\"#9c179e\"],[0.4444444444444444,\"#bd3786\"],[0.5555555555555556,\"#d8576b\"],[0.6666666666666666,\"#ed7953\"],[0.7777777777777778,\"#fb9f3a\"],[0.8888888888888888,\"#fdca26\"],[1.0,\"#f0f921\"]],\"type\":\"heatmapgl\"}],\"histogram\":[{\"marker\":{\"pattern\":{\"fillmode\":\"overlay\",\"size\":10,\"solidity\":0.2}},\"type\":\"histogram\"}],\"histogram2d\":[{\"colorbar\":{\"outlinewidth\":0,\"ticks\":\"\"},\"colorscale\":[[0.0,\"#0d0887\"],[0.1111111111111111,\"#46039f\"],[0.2222222222222222,\"#7201a8\"],[0.3333333333333333,\"#9c179e\"],[0.4444444444444444,\"#bd3786\"],[0.5555555555555556,\"#d8576b\"],[0.6666666666666666,\"#ed7953\"],[0.7777777777777778,\"#fb9f3a\"],[0.8888888888888888,\"#fdca26\"],[1.0,\"#f0f921\"]],\"type\":\"histogram2d\"}],\"histogram2dcontour\":[{\"colorbar\":{\"outlinewidth\":0,\"ticks\":\"\"},\"colorscale\":[[0.0,\"#0d0887\"],[0.1111111111111111,\"#46039f\"],[0.2222222222222222,\"#7201a8\"],[0.3333333333333333,\"#9c179e\"],[0.4444444444444444,\"#bd3786\"],[0.5555555555555556,\"#d8576b\"],[0.6666666666666666,\"#ed7953\"],[0.7777777777777778,\"#fb9f3a\"],[0.8888888888888888,\"#fdca26\"],[1.0,\"#f0f921\"]],\"type\":\"histogram2dcontour\"}],\"mesh3d\":[{\"colorbar\":{\"outlinewidth\":0,\"ticks\":\"\"},\"type\":\"mesh3d\"}],\"parcoords\":[{\"line\":{\"colorbar\":{\"outlinewidth\":0,\"ticks\":\"\"}},\"type\":\"parcoords\"}],\"pie\":[{\"automargin\":true,\"type\":\"pie\"}],\"scatter\":[{\"marker\":{\"colorbar\":{\"outlinewidth\":0,\"ticks\":\"\"}},\"type\":\"scatter\"}],\"scatter3d\":[{\"line\":{\"colorbar\":{\"outlinewidth\":0,\"ticks\":\"\"}},\"marker\":{\"colorbar\":{\"outlinewidth\":0,\"ticks\":\"\"}},\"type\":\"scatter3d\"}],\"scattercarpet\":[{\"marker\":{\"colorbar\":{\"outlinewidth\":0,\"ticks\":\"\"}},\"type\":\"scattercarpet\"}],\"scattergeo\":[{\"marker\":{\"colorbar\":{\"outlinewidth\":0,\"ticks\":\"\"}},\"type\":\"scattergeo\"}],\"scattergl\":[{\"marker\":{\"colorbar\":{\"outlinewidth\":0,\"ticks\":\"\"}},\"type\":\"scattergl\"}],\"scattermapbox\":[{\"marker\":{\"colorbar\":{\"outlinewidth\":0,\"ticks\":\"\"}},\"type\":\"scattermapbox\"}],\"scatterpolar\":[{\"marker\":{\"colorbar\":{\"outlinewidth\":0,\"ticks\":\"\"}},\"type\":\"scatterpolar\"}],\"scatterpolargl\":[{\"marker\":{\"colorbar\":{\"outlinewidth\":0,\"ticks\":\"\"}},\"type\":\"scatterpolargl\"}],\"scatterternary\":[{\"marker\":{\"colorbar\":{\"outlinewidth\":0,\"ticks\":\"\"}},\"type\":\"scatterternary\"}],\"surface\":[{\"colorbar\":{\"outlinewidth\":0,\"ticks\":\"\"},\"colorscale\":[[0.0,\"#0d0887\"],[0.1111111111111111,\"#46039f\"],[0.2222222222222222,\"#7201a8\"],[0.3333333333333333,\"#9c179e\"],[0.4444444444444444,\"#bd3786\"],[0.5555555555555556,\"#d8576b\"],[0.6666666666666666,\"#ed7953\"],[0.7777777777777778,\"#fb9f3a\"],[0.8888888888888888,\"#fdca26\"],[1.0,\"#f0f921\"]],\"type\":\"surface\"}],\"table\":[{\"cells\":{\"fill\":{\"color\":\"#EBF0F8\"},\"line\":{\"color\":\"white\"}},\"header\":{\"fill\":{\"color\":\"#C8D4E3\"},\"line\":{\"color\":\"white\"}},\"type\":\"table\"}]},\"layout\":{\"annotationdefaults\":{\"arrowcolor\":\"#2a3f5f\",\"arrowhead\":0,\"arrowwidth\":1},\"autotypenumbers\":\"strict\",\"coloraxis\":{\"colorbar\":{\"outlinewidth\":0,\"ticks\":\"\"}},\"colorscale\":{\"diverging\":[[0,\"#8e0152\"],[0.1,\"#c51b7d\"],[0.2,\"#de77ae\"],[0.3,\"#f1b6da\"],[0.4,\"#fde0ef\"],[0.5,\"#f7f7f7\"],[0.6,\"#e6f5d0\"],[0.7,\"#b8e186\"],[0.8,\"#7fbc41\"],[0.9,\"#4d9221\"],[1,\"#276419\"]],\"sequential\":[[0.0,\"#0d0887\"],[0.1111111111111111,\"#46039f\"],[0.2222222222222222,\"#7201a8\"],[0.3333333333333333,\"#9c179e\"],[0.4444444444444444,\"#bd3786\"],[0.5555555555555556,\"#d8576b\"],[0.6666666666666666,\"#ed7953\"],[0.7777777777777778,\"#fb9f3a\"],[0.8888888888888888,\"#fdca26\"],[1.0,\"#f0f921\"]],\"sequentialminus\":[[0.0,\"#0d0887\"],[0.1111111111111111,\"#46039f\"],[0.2222222222222222,\"#7201a8\"],[0.3333333333333333,\"#9c179e\"],[0.4444444444444444,\"#bd3786\"],[0.5555555555555556,\"#d8576b\"],[0.6666666666666666,\"#ed7953\"],[0.7777777777777778,\"#fb9f3a\"],[0.8888888888888888,\"#fdca26\"],[1.0,\"#f0f921\"]]},\"colorway\":[\"#636efa\",\"#EF553B\",\"#00cc96\",\"#ab63fa\",\"#FFA15A\",\"#19d3f3\",\"#FF6692\",\"#B6E880\",\"#FF97FF\",\"#FECB52\"],\"font\":{\"color\":\"#2a3f5f\"},\"geo\":{\"bgcolor\":\"white\",\"lakecolor\":\"white\",\"landcolor\":\"#E5ECF6\",\"showlakes\":true,\"showland\":true,\"subunitcolor\":\"white\"},\"hoverlabel\":{\"align\":\"left\"},\"hovermode\":\"closest\",\"mapbox\":{\"style\":\"light\"},\"paper_bgcolor\":\"white\",\"plot_bgcolor\":\"#E5ECF6\",\"polar\":{\"angularaxis\":{\"gridcolor\":\"white\",\"linecolor\":\"white\",\"ticks\":\"\"},\"bgcolor\":\"#E5ECF6\",\"radialaxis\":{\"gridcolor\":\"white\",\"linecolor\":\"white\",\"ticks\":\"\"}},\"scene\":{\"xaxis\":{\"backgroundcolor\":\"#E5ECF6\",\"gridcolor\":\"white\",\"gridwidth\":2,\"linecolor\":\"white\",\"showbackground\":true,\"ticks\":\"\",\"zerolinecolor\":\"white\"},\"yaxis\":{\"backgroundcolor\":\"#E5ECF6\",\"gridcolor\":\"white\",\"gridwidth\":2,\"linecolor\":\"white\",\"showbackground\":true,\"ticks\":\"\",\"zerolinecolor\":\"white\"},\"zaxis\":{\"backgroundcolor\":\"#E5ECF6\",\"gridcolor\":\"white\",\"gridwidth\":2,\"linecolor\":\"white\",\"showbackground\":true,\"ticks\":\"\",\"zerolinecolor\":\"white\"}},\"shapedefaults\":{\"line\":{\"color\":\"#2a3f5f\"}},\"ternary\":{\"aaxis\":{\"gridcolor\":\"white\",\"linecolor\":\"white\",\"ticks\":\"\"},\"baxis\":{\"gridcolor\":\"white\",\"linecolor\":\"white\",\"ticks\":\"\"},\"bgcolor\":\"#E5ECF6\",\"caxis\":{\"gridcolor\":\"white\",\"linecolor\":\"white\",\"ticks\":\"\"}},\"title\":{\"x\":0.05},\"xaxis\":{\"automargin\":true,\"gridcolor\":\"white\",\"linecolor\":\"white\",\"ticks\":\"\",\"title\":{\"standoff\":15},\"zerolinecolor\":\"white\",\"zerolinewidth\":2},\"yaxis\":{\"automargin\":true,\"gridcolor\":\"white\",\"linecolor\":\"white\",\"ticks\":\"\",\"title\":{\"standoff\":15},\"zerolinecolor\":\"white\",\"zerolinewidth\":2}}},\"xaxis\":{\"anchor\":\"y\",\"domain\":[0.0,1.0],\"title\":{\"text\":\"rank_in_league_top_attackers\"}},\"yaxis\":{\"anchor\":\"x\",\"domain\":[0.0,1.0],\"title\":{\"text\":\"rank_in_league_top_midfielders\"}},\"coloraxis\":{\"colorbar\":{\"title\":{\"text\":\"rank_in_league_top_defenders\"}},\"colorscale\":[[0.0,\"#0d0887\"],[0.1111111111111111,\"#46039f\"],[0.2222222222222222,\"#7201a8\"],[0.3333333333333333,\"#9c179e\"],[0.4444444444444444,\"#bd3786\"],[0.5555555555555556,\"#d8576b\"],[0.6666666666666666,\"#ed7953\"],[0.7777777777777778,\"#fb9f3a\"],[0.8888888888888888,\"#fdca26\"],[1.0,\"#f0f921\"]]},\"legend\":{\"tracegroupgap\":0,\"itemsizing\":\"constant\"},\"margin\":{\"t\":60}},                        {\"responsive\": true}                    ).then(function(){\n",
       "                            \n",
       "var gd = document.getElementById('f92e8386-7e13-404c-ba3a-7119e2f2301d');\n",
       "var x = new MutationObserver(function (mutations, observer) {{\n",
       "        var display = window.getComputedStyle(gd).display;\n",
       "        if (!display || display === 'none') {{\n",
       "            console.log([gd, 'removed!']);\n",
       "            Plotly.purge(gd);\n",
       "            observer.disconnect();\n",
       "        }}\n",
       "}});\n",
       "\n",
       "// Listen for the removal of the full notebook cells\n",
       "var notebookContainer = gd.closest('#notebook-container');\n",
       "if (notebookContainer) {{\n",
       "    x.observe(notebookContainer, {childList: true});\n",
       "}}\n",
       "\n",
       "// Listen for the clearing of the current output cell\n",
       "var outputEl = gd.closest('.output');\n",
       "if (outputEl) {{\n",
       "    x.observe(outputEl, {childList: true});\n",
       "}}\n",
       "\n",
       "                        })                };                });            </script>        </div>"
      ]
     },
     "metadata": {},
     "output_type": "display_data"
    }
   ],
   "source": [
    "import plotly.express as px\n",
    "\n",
    "defenders = epl_df[epl_df[\"position\"] == \"Defender\"]\n",
    "\n",
    "fig = px.scatter(defenders, x=\"rank_in_league_top_attackers\", y=\"rank_in_league_top_midfielders\",\n",
    "                size=\"min_per_match\",\n",
    "                 color=\"rank_in_league_top_defenders\",\n",
    "                 hover_data=[\"full_name\"])\n",
    "fig.show()\n",
    "\n",
    "\n",
    "fig = px"
   ]
  },
  {
   "cell_type": "code",
   "execution_count": 85,
   "metadata": {},
   "outputs": [
    {
     "data": {
      "text/html": [
       "<div>\n",
       "<style scoped>\n",
       "    .dataframe tbody tr th:only-of-type {\n",
       "        vertical-align: middle;\n",
       "    }\n",
       "\n",
       "    .dataframe tbody tr th {\n",
       "        vertical-align: top;\n",
       "    }\n",
       "\n",
       "    .dataframe thead th {\n",
       "        text-align: right;\n",
       "    }\n",
       "</style>\n",
       "<table border=\"1\" class=\"dataframe\">\n",
       "  <thead>\n",
       "    <tr style=\"text-align: right;\">\n",
       "      <th></th>\n",
       "      <th>full_name</th>\n",
       "      <th>age</th>\n",
       "      <th>birthday</th>\n",
       "      <th>birthday_GMT</th>\n",
       "      <th>league</th>\n",
       "      <th>season</th>\n",
       "      <th>position</th>\n",
       "      <th>Current Club</th>\n",
       "      <th>minutes_played_overall</th>\n",
       "      <th>minutes_played_home</th>\n",
       "      <th>...</th>\n",
       "      <th>conceded_per_90_overall</th>\n",
       "      <th>min_per_conceded_overall</th>\n",
       "      <th>min_per_match</th>\n",
       "      <th>min_per_card_overall</th>\n",
       "      <th>min_per_assist_overall</th>\n",
       "      <th>cards_per_90_overall</th>\n",
       "      <th>rank_in_league_top_attackers</th>\n",
       "      <th>rank_in_league_top_midfielders</th>\n",
       "      <th>rank_in_league_top_defenders</th>\n",
       "      <th>rank_in_club_top_scorer</th>\n",
       "    </tr>\n",
       "  </thead>\n",
       "  <tbody>\n",
       "    <tr>\n",
       "      <th>0</th>\n",
       "      <td>Aaron Cresswell</td>\n",
       "      <td>32</td>\n",
       "      <td>629683200</td>\n",
       "      <td>1989/12/15</td>\n",
       "      <td>Premier League</td>\n",
       "      <td>2018/2019</td>\n",
       "      <td>Defender</td>\n",
       "      <td>West Ham United</td>\n",
       "      <td>1589</td>\n",
       "      <td>888</td>\n",
       "      <td>...</td>\n",
       "      <td>1.25</td>\n",
       "      <td>72</td>\n",
       "      <td>79</td>\n",
       "      <td>1589</td>\n",
       "      <td>1589</td>\n",
       "      <td>0.06</td>\n",
       "      <td>290</td>\n",
       "      <td>191</td>\n",
       "      <td>80</td>\n",
       "      <td>20</td>\n",
       "    </tr>\n",
       "    <tr>\n",
       "      <th>11</th>\n",
       "      <td>Adam Masina</td>\n",
       "      <td>28</td>\n",
       "      <td>757468800</td>\n",
       "      <td>1994/01/02</td>\n",
       "      <td>Premier League</td>\n",
       "      <td>2018/2019</td>\n",
       "      <td>Defender</td>\n",
       "      <td>Watford</td>\n",
       "      <td>1003</td>\n",
       "      <td>463</td>\n",
       "      <td>...</td>\n",
       "      <td>1.70</td>\n",
       "      <td>53</td>\n",
       "      <td>72</td>\n",
       "      <td>201</td>\n",
       "      <td>1003</td>\n",
       "      <td>0.45</td>\n",
       "      <td>397</td>\n",
       "      <td>155</td>\n",
       "      <td>144</td>\n",
       "      <td>20</td>\n",
       "    </tr>\n",
       "    <tr>\n",
       "      <th>12</th>\n",
       "      <td>Adam Smith</td>\n",
       "      <td>30</td>\n",
       "      <td>672883200</td>\n",
       "      <td>1991/04/29</td>\n",
       "      <td>Premier League</td>\n",
       "      <td>2018/2019</td>\n",
       "      <td>Defender</td>\n",
       "      <td>AFC Bournemouth</td>\n",
       "      <td>2073</td>\n",
       "      <td>1051</td>\n",
       "      <td>...</td>\n",
       "      <td>1.30</td>\n",
       "      <td>69</td>\n",
       "      <td>83</td>\n",
       "      <td>296</td>\n",
       "      <td>2073</td>\n",
       "      <td>0.30</td>\n",
       "      <td>227</td>\n",
       "      <td>228</td>\n",
       "      <td>85</td>\n",
       "      <td>10</td>\n",
       "    </tr>\n",
       "    <tr>\n",
       "      <th>16</th>\n",
       "      <td>Adrian Mariappa</td>\n",
       "      <td>35</td>\n",
       "      <td>528681600</td>\n",
       "      <td>1986/10/03</td>\n",
       "      <td>Premier League</td>\n",
       "      <td>2018/2019</td>\n",
       "      <td>Defender</td>\n",
       "      <td>Watford</td>\n",
       "      <td>1921</td>\n",
       "      <td>841</td>\n",
       "      <td>...</td>\n",
       "      <td>1.36</td>\n",
       "      <td>66</td>\n",
       "      <td>74</td>\n",
       "      <td>640</td>\n",
       "      <td>0</td>\n",
       "      <td>0.14</td>\n",
       "      <td>396</td>\n",
       "      <td>414</td>\n",
       "      <td>94</td>\n",
       "      <td>21</td>\n",
       "    </tr>\n",
       "    <tr>\n",
       "      <th>20</th>\n",
       "      <td>Alberto Moreno</td>\n",
       "      <td>29</td>\n",
       "      <td>710294400</td>\n",
       "      <td>1992/07/05</td>\n",
       "      <td>Premier League</td>\n",
       "      <td>2018/2019</td>\n",
       "      <td>Defender</td>\n",
       "      <td>Liverpool</td>\n",
       "      <td>155</td>\n",
       "      <td>90</td>\n",
       "      <td>...</td>\n",
       "      <td>1.16</td>\n",
       "      <td>78</td>\n",
       "      <td>78</td>\n",
       "      <td>0</td>\n",
       "      <td>0</td>\n",
       "      <td>0.00</td>\n",
       "      <td>-1</td>\n",
       "      <td>-1</td>\n",
       "      <td>-1</td>\n",
       "      <td>17</td>\n",
       "    </tr>\n",
       "    <tr>\n",
       "      <th>...</th>\n",
       "      <td>...</td>\n",
       "      <td>...</td>\n",
       "      <td>...</td>\n",
       "      <td>...</td>\n",
       "      <td>...</td>\n",
       "      <td>...</td>\n",
       "      <td>...</td>\n",
       "      <td>...</td>\n",
       "      <td>...</td>\n",
       "      <td>...</td>\n",
       "      <td>...</td>\n",
       "      <td>...</td>\n",
       "      <td>...</td>\n",
       "      <td>...</td>\n",
       "      <td>...</td>\n",
       "      <td>...</td>\n",
       "      <td>...</td>\n",
       "      <td>...</td>\n",
       "      <td>...</td>\n",
       "      <td>...</td>\n",
       "      <td>...</td>\n",
       "    </tr>\n",
       "    <tr>\n",
       "      <th>562</th>\n",
       "      <td>Willy Boly</td>\n",
       "      <td>30</td>\n",
       "      <td>665539200</td>\n",
       "      <td>1991/02/03</td>\n",
       "      <td>Premier League</td>\n",
       "      <td>2018/2019</td>\n",
       "      <td>Defender</td>\n",
       "      <td>Wolverhampton Wanderers</td>\n",
       "      <td>3169</td>\n",
       "      <td>1530</td>\n",
       "      <td>...</td>\n",
       "      <td>1.08</td>\n",
       "      <td>83</td>\n",
       "      <td>88</td>\n",
       "      <td>792</td>\n",
       "      <td>0</td>\n",
       "      <td>0.11</td>\n",
       "      <td>148</td>\n",
       "      <td>312</td>\n",
       "      <td>43</td>\n",
       "      <td>4</td>\n",
       "    </tr>\n",
       "    <tr>\n",
       "      <th>564</th>\n",
       "      <td>Yann Valery</td>\n",
       "      <td>22</td>\n",
       "      <td>919641600</td>\n",
       "      <td>1999/02/22</td>\n",
       "      <td>Premier League</td>\n",
       "      <td>2018/2019</td>\n",
       "      <td>Defender</td>\n",
       "      <td>Southampton</td>\n",
       "      <td>1715</td>\n",
       "      <td>1070</td>\n",
       "      <td>...</td>\n",
       "      <td>1.36</td>\n",
       "      <td>66</td>\n",
       "      <td>75</td>\n",
       "      <td>343</td>\n",
       "      <td>1715</td>\n",
       "      <td>0.26</td>\n",
       "      <td>162</td>\n",
       "      <td>214</td>\n",
       "      <td>95</td>\n",
       "      <td>7</td>\n",
       "    </tr>\n",
       "    <tr>\n",
       "      <th>565</th>\n",
       "      <td>Yerry Fernando Mina González</td>\n",
       "      <td>27</td>\n",
       "      <td>780278400</td>\n",
       "      <td>1994/09/23</td>\n",
       "      <td>Premier League</td>\n",
       "      <td>2018/2019</td>\n",
       "      <td>Defender</td>\n",
       "      <td>Everton</td>\n",
       "      <td>890</td>\n",
       "      <td>360</td>\n",
       "      <td>...</td>\n",
       "      <td>1.21</td>\n",
       "      <td>74</td>\n",
       "      <td>68</td>\n",
       "      <td>297</td>\n",
       "      <td>0</td>\n",
       "      <td>0.30</td>\n",
       "      <td>161</td>\n",
       "      <td>329</td>\n",
       "      <td>67</td>\n",
       "      <td>9</td>\n",
       "    </tr>\n",
       "    <tr>\n",
       "      <th>569</th>\n",
       "      <td>Zechariah Medley</td>\n",
       "      <td>21</td>\n",
       "      <td>962928000</td>\n",
       "      <td>2000/07/07</td>\n",
       "      <td>Premier League</td>\n",
       "      <td>2018/2019</td>\n",
       "      <td>Defender</td>\n",
       "      <td>Arsenal</td>\n",
       "      <td>0</td>\n",
       "      <td>0</td>\n",
       "      <td>...</td>\n",
       "      <td>0.00</td>\n",
       "      <td>0</td>\n",
       "      <td>0</td>\n",
       "      <td>0</td>\n",
       "      <td>0</td>\n",
       "      <td>0.00</td>\n",
       "      <td>-1</td>\n",
       "      <td>-1</td>\n",
       "      <td>-1</td>\n",
       "      <td>-1</td>\n",
       "    </tr>\n",
       "    <tr>\n",
       "      <th>570</th>\n",
       "      <td>Zeze Steven Sessegnon</td>\n",
       "      <td>21</td>\n",
       "      <td>958608000</td>\n",
       "      <td>2000/05/18</td>\n",
       "      <td>Premier League</td>\n",
       "      <td>2018/2019</td>\n",
       "      <td>Defender</td>\n",
       "      <td>Fulham</td>\n",
       "      <td>0</td>\n",
       "      <td>0</td>\n",
       "      <td>...</td>\n",
       "      <td>0.00</td>\n",
       "      <td>0</td>\n",
       "      <td>0</td>\n",
       "      <td>0</td>\n",
       "      <td>0</td>\n",
       "      <td>0.00</td>\n",
       "      <td>-1</td>\n",
       "      <td>-1</td>\n",
       "      <td>-1</td>\n",
       "      <td>-1</td>\n",
       "    </tr>\n",
       "  </tbody>\n",
       "</table>\n",
       "<p>189 rows × 47 columns</p>\n",
       "</div>"
      ],
      "text/plain": [
       "                        full_name  age   birthday birthday_GMT  \\\n",
       "0                 Aaron Cresswell   32  629683200   1989/12/15   \n",
       "11                    Adam Masina   28  757468800   1994/01/02   \n",
       "12                     Adam Smith   30  672883200   1991/04/29   \n",
       "16                Adrian Mariappa   35  528681600   1986/10/03   \n",
       "20                 Alberto Moreno   29  710294400   1992/07/05   \n",
       "..                            ...  ...        ...          ...   \n",
       "562                    Willy Boly   30  665539200   1991/02/03   \n",
       "564                   Yann Valery   22  919641600   1999/02/22   \n",
       "565  Yerry Fernando Mina González   27  780278400   1994/09/23   \n",
       "569              Zechariah Medley   21  962928000   2000/07/07   \n",
       "570         Zeze Steven Sessegnon   21  958608000   2000/05/18   \n",
       "\n",
       "             league     season  position             Current Club  \\\n",
       "0    Premier League  2018/2019  Defender          West Ham United   \n",
       "11   Premier League  2018/2019  Defender                  Watford   \n",
       "12   Premier League  2018/2019  Defender          AFC Bournemouth   \n",
       "16   Premier League  2018/2019  Defender                  Watford   \n",
       "20   Premier League  2018/2019  Defender                Liverpool   \n",
       "..              ...        ...       ...                      ...   \n",
       "562  Premier League  2018/2019  Defender  Wolverhampton Wanderers   \n",
       "564  Premier League  2018/2019  Defender              Southampton   \n",
       "565  Premier League  2018/2019  Defender                  Everton   \n",
       "569  Premier League  2018/2019  Defender                  Arsenal   \n",
       "570  Premier League  2018/2019  Defender                   Fulham   \n",
       "\n",
       "     minutes_played_overall  minutes_played_home  ...  \\\n",
       "0                      1589                  888  ...   \n",
       "11                     1003                  463  ...   \n",
       "12                     2073                 1051  ...   \n",
       "16                     1921                  841  ...   \n",
       "20                      155                   90  ...   \n",
       "..                      ...                  ...  ...   \n",
       "562                    3169                 1530  ...   \n",
       "564                    1715                 1070  ...   \n",
       "565                     890                  360  ...   \n",
       "569                       0                    0  ...   \n",
       "570                       0                    0  ...   \n",
       "\n",
       "     conceded_per_90_overall min_per_conceded_overall  min_per_match  \\\n",
       "0                       1.25                       72             79   \n",
       "11                      1.70                       53             72   \n",
       "12                      1.30                       69             83   \n",
       "16                      1.36                       66             74   \n",
       "20                      1.16                       78             78   \n",
       "..                       ...                      ...            ...   \n",
       "562                     1.08                       83             88   \n",
       "564                     1.36                       66             75   \n",
       "565                     1.21                       74             68   \n",
       "569                     0.00                        0              0   \n",
       "570                     0.00                        0              0   \n",
       "\n",
       "     min_per_card_overall  min_per_assist_overall  cards_per_90_overall  \\\n",
       "0                    1589                    1589                  0.06   \n",
       "11                    201                    1003                  0.45   \n",
       "12                    296                    2073                  0.30   \n",
       "16                    640                       0                  0.14   \n",
       "20                      0                       0                  0.00   \n",
       "..                    ...                     ...                   ...   \n",
       "562                   792                       0                  0.11   \n",
       "564                   343                    1715                  0.26   \n",
       "565                   297                       0                  0.30   \n",
       "569                     0                       0                  0.00   \n",
       "570                     0                       0                  0.00   \n",
       "\n",
       "     rank_in_league_top_attackers  rank_in_league_top_midfielders  \\\n",
       "0                             290                             191   \n",
       "11                            397                             155   \n",
       "12                            227                             228   \n",
       "16                            396                             414   \n",
       "20                             -1                              -1   \n",
       "..                            ...                             ...   \n",
       "562                           148                             312   \n",
       "564                           162                             214   \n",
       "565                           161                             329   \n",
       "569                            -1                              -1   \n",
       "570                            -1                              -1   \n",
       "\n",
       "     rank_in_league_top_defenders  rank_in_club_top_scorer  \n",
       "0                              80                       20  \n",
       "11                            144                       20  \n",
       "12                             85                       10  \n",
       "16                             94                       21  \n",
       "20                             -1                       17  \n",
       "..                            ...                      ...  \n",
       "562                            43                        4  \n",
       "564                            95                        7  \n",
       "565                            67                        9  \n",
       "569                            -1                       -1  \n",
       "570                            -1                       -1  \n",
       "\n",
       "[189 rows x 47 columns]"
      ]
     },
     "execution_count": 85,
     "metadata": {},
     "output_type": "execute_result"
    }
   ],
   "source": [
    "defenders"
   ]
  },
  {
   "cell_type": "code",
   "execution_count": null,
   "metadata": {},
   "outputs": [],
   "source": []
  }
 ],
 "metadata": {
  "kernelspec": {
   "display_name": "Python 3",
   "language": "python",
   "name": "python3"
  },
  "language_info": {
   "codemirror_mode": {
    "name": "ipython",
    "version": 3
   },
   "file_extension": ".py",
   "mimetype": "text/x-python",
   "name": "python",
   "nbconvert_exporter": "python",
   "pygments_lexer": "ipython3",
   "version": "3.8.5"
  }
 },
 "nbformat": 4,
 "nbformat_minor": 4
}
