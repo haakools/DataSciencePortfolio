{
 "cells": [
  {
   "cell_type": "code",
   "execution_count": 1,
   "metadata": {},
   "outputs": [],
   "source": [
    "import time\n",
    "from selenium import webdriver\n",
    "from datetime import datetime\n",
    "import os\n",
    "from bs4 import BeautifulSoup\n",
    "import pandas as pd"
   ]
  },
  {
   "cell_type": "markdown",
   "metadata": {},
   "source": [
    "# Webscraping of fbref.com for football stats"
   ]
  },
  {
   "cell_type": "code",
   "execution_count": 60,
   "metadata": {},
   "outputs": [],
   "source": [
    "# Path to the chromedriver.exe\n",
    "WEBDRIVER_PATH = os.getcwd() + '\\\\chromedriver.exe'"
   ]
  },
  {
   "cell_type": "code",
   "execution_count": 61,
   "metadata": {
    "scrolled": true
   },
   "outputs": [
    {
     "name": "stderr",
     "output_type": "stream",
     "text": [
      "<ipython-input-61-1ee50004c406>:2: DeprecationWarning: executable_path has been deprecated, please pass in a Service object\n",
      "  driver = webdriver.Chrome(executable_path=WEBDRIVER_PATH)\n"
     ]
    }
   ],
   "source": [
    "# Opening the driver\n",
    "driver = webdriver.Chrome(executable_path=WEBDRIVER_PATH)\n",
    "\n",
    "# Url of premier league stats\n",
    "url = 'https://fbref.com/en/comps/9/stats/Premier-League-Stats'\n",
    "driver.get(url)"
   ]
  },
  {
   "cell_type": "code",
   "execution_count": 62,
   "metadata": {},
   "outputs": [
    {
     "name": "stderr",
     "output_type": "stream",
     "text": [
      "<ipython-input-62-d4e1698a6ea5>:2: DeprecationWarning: find_element_by_css_selector is deprecated. Please use find_element(by=By.CSS_SELECTOR, value=css_selector) instead\n",
      "  content = driver.find_element_by_css_selector('#div_stats_standard')\n"
     ]
    }
   ],
   "source": [
    "# Getting the table\n",
    "content = driver.find_element_by_css_selector('#div_stats_standard') \n",
    "\n",
    "# Making soup\n",
    "soup = BeautifulSoup(content.get_attribute('innerHTML'))"
   ]
  },
  {
   "cell_type": "markdown",
   "metadata": {},
   "source": [
    "## All the functions used"
   ]
  },
  {
   "cell_type": "code",
   "execution_count": 114,
   "metadata": {},
   "outputs": [],
   "source": [
    "def init_selenium(chrome_path):\n",
    "    # Opening the driver\n",
    "    driver = webdriver.Chrome(executable_path=WEBDRIVER_PATH)\n",
    "    return driver\n",
    "\n",
    "def webscraper(url, chrome_path, league_name, year_stop):\n",
    "    \"\"\"\n",
    "    Enter in the url and this will click around and scrape the data on fbref.com for the particular league chosen.  \n",
    "    \n",
    "    Input:\n",
    "        url             : Url for the current season webpage to start extracting from\n",
    "        chrome_path     : path to the chromium webdriver\n",
    "        league_name     : Name of the league the url is scraping from. This creates folder and filenames\n",
    "        year_stop       : The last season the webscraper goes to (Premier league goes to 92, Ligue 1 goes to 95(?))\n",
    "    \"\"\"\n",
    "    \n",
    "    # Starting webdriver\n",
    "    driver = init_selenium(chrome_path)\n",
    "    driver.get(url)\n",
    "    \n",
    "    # Click \"disagree cookies\" - button\n",
    "    disagree = driver.find_element_by_css_selector(\"#qc-cmp2-ui > div.qc-cmp2-footer.qc-cmp2-footer-overlay.qc-cmp2-footer-scrolled > div > button:nth-child(1)\")\n",
    "    disagree.click()\n",
    "    print(\"Disagree with cookies.\")\n",
    "    \n",
    "    \n",
    "    # Emulate human behaviour\n",
    "    time.sleep(random.randint(0, 3))\n",
    "\n",
    "    \n",
    "    # Looping through all the seasons for that league\n",
    "    while True:\n",
    "        \n",
    "        # Get seasons\n",
    "        info = driver.find_element_by_css_selector('#info')\n",
    "        info_soup = BeautifulSoup(info.get_attribute('innerHTML'))\n",
    "        season = info_soup.find('h1').text.split()[0]\n",
    "        print(\"Fetching data for season \" + season)\n",
    "\n",
    "        \n",
    "        # Getting the table under #div_stats_standard\n",
    "        content = driver.find_element_by_css_selector('#div_stats_standard') \n",
    "        soup = BeautifulSoup(content.get_attribute('innerHTML'))\n",
    "\n",
    "        # Extract table and tbody (table body)\n",
    "        table = soup.find('table')\n",
    "        tbody = table.find('tbody')\n",
    "\n",
    "        # Appending every cell of data to a list\n",
    "        data = []\n",
    "        for tr_body in tbody.find_all('tr'):\n",
    "            row = []\n",
    "            for td in tr_body.find_all('td'):\n",
    "                row.append(td.get_text())\n",
    "            data.append(row)\n",
    "        \n",
    "        # Saving the table to a dataframe\n",
    "        df = pd.DataFrame(data)\n",
    "\n",
    "        # Get header\n",
    "        header = table.find('thead').find_all('tr')[1].get_text().split('\\n')[2:-1]\n",
    "        df.columns=header\n",
    "        df = df.dropna() # Dropping Nan rows\n",
    "        df[\"Season\"] = season \n",
    "\n",
    "        # Saving each season as a separate csv\n",
    "        save_data(df, season, league_name)\n",
    "        \n",
    "        \n",
    "        # Setting \n",
    "        if \"92\" in season:\n",
    "            print(\"Last season found, 1992/1993\")\n",
    "            return \n",
    "        \n",
    "        \n",
    "        # Go to next page\n",
    "        try:\n",
    "            # For the first \"previous button\"\n",
    "            prev_button = driver.find_element_by_css_selector(\"#meta > div:nth-child(2) > div > a\")\n",
    "            prev_button.click()\n",
    "            print(\"Going to next season\")\n",
    "        except:\n",
    "            print(\"Did not find click button\")\n",
    "            \n",
    "        \n",
    "        # Emulate human behaviour\n",
    "        time.sleep(random.randint(0, 3))\n",
    "\n",
    "    return \n",
    "\n",
    "def save_data(df,season, league_name):\n",
    "    data_path = os.path.join(os.getcwd(), 'data')\n",
    "    \n",
    "    # Checking if data path exists or not\n",
    "    if os.path.exists(data_path) == False:\n",
    "        os.mkdir(data_path)\n",
    "    \n",
    "    league_folder = os.path.join(data_path, league_name)\n",
    "    \n",
    "    if os.path.exists(league_folder) == False:\n",
    "        print(\"Creating league folder\")\n",
    "        os.mkdir(league_folder)\n",
    "    else:\n",
    "        print(\"Folder for \"+  league_name + \" found.\")\n",
    "        \n",
    "    # Saving the dataframe as csv\n",
    "    file_name = league_name + \"_\" + season + \".csv\"\n",
    "    file_path = os.path.join(data_path, file_name)\n",
    "    print(\"Saving data to: \\n\" + file_path)\n",
    "\n",
    "    df.to_csv(file_path)\n",
    "    "
   ]
  },
  {
   "cell_type": "code",
   "execution_count": 119,
   "metadata": {},
   "outputs": [
    {
     "name": "stderr",
     "output_type": "stream",
     "text": [
      "<ipython-input-114-59a948df01a6>:3: DeprecationWarning: executable_path has been deprecated, please pass in a Service object\n",
      "  driver = webdriver.Chrome(executable_path=WEBDRIVER_PATH)\n",
      "<ipython-input-114-59a948df01a6>:16: DeprecationWarning: find_element_by_css_selector is deprecated. Please use find_element(by=By.CSS_SELECTOR, value=css_selector) instead\n",
      "  disagree = driver.find_element_by_css_selector(\"#qc-cmp2-ui > div.qc-cmp2-footer.qc-cmp2-footer-overlay.qc-cmp2-footer-scrolled > div > button:nth-child(1)\")\n"
     ]
    },
    {
     "name": "stdout",
     "output_type": "stream",
     "text": [
      "Disagree with cookies.\n"
     ]
    },
    {
     "name": "stderr",
     "output_type": "stream",
     "text": [
      "<ipython-input-114-59a948df01a6>:24: DeprecationWarning: find_element_by_css_selector is deprecated. Please use find_element(by=By.CSS_SELECTOR, value=css_selector) instead\n",
      "  info = driver.find_element_by_css_selector('#info')\n",
      "<ipython-input-114-59a948df01a6>:32: DeprecationWarning: find_element_by_css_selector is deprecated. Please use find_element(by=By.CSS_SELECTOR, value=css_selector) instead\n",
      "  content = driver.find_element_by_css_selector('#div_stats_standard')\n"
     ]
    },
    {
     "name": "stdout",
     "output_type": "stream",
     "text": [
      "Fetching data for season 2020-2021\n",
      "Saving data to: \n",
      "C:\\Users\\hakon\\Documents\\GitHub\\DataSciencePortfolio\\ExpectedTransferFee\\WebScraping\\data\\La Liga_2020-2021.csv\n"
     ]
    },
    {
     "name": "stderr",
     "output_type": "stream",
     "text": [
      "<ipython-input-114-59a948df01a6>:68: DeprecationWarning: find_element_by_css_selector is deprecated. Please use find_element(by=By.CSS_SELECTOR, value=css_selector) instead\n",
      "  prev_button = driver.find_element_by_css_selector(\"#meta > div:nth-child(2) > div > a\")\n"
     ]
    },
    {
     "name": "stdout",
     "output_type": "stream",
     "text": [
      "Going to next season\n"
     ]
    },
    {
     "name": "stderr",
     "output_type": "stream",
     "text": [
      "<ipython-input-114-59a948df01a6>:24: DeprecationWarning: find_element_by_css_selector is deprecated. Please use find_element(by=By.CSS_SELECTOR, value=css_selector) instead\n",
      "  info = driver.find_element_by_css_selector('#info')\n",
      "<ipython-input-114-59a948df01a6>:32: DeprecationWarning: find_element_by_css_selector is deprecated. Please use find_element(by=By.CSS_SELECTOR, value=css_selector) instead\n",
      "  content = driver.find_element_by_css_selector('#div_stats_standard')\n"
     ]
    },
    {
     "name": "stdout",
     "output_type": "stream",
     "text": [
      "Fetching data for season 2019-2020\n",
      "Saving data to: \n",
      "C:\\Users\\hakon\\Documents\\GitHub\\DataSciencePortfolio\\ExpectedTransferFee\\WebScraping\\data\\La Liga_2019-2020.csv\n"
     ]
    },
    {
     "name": "stderr",
     "output_type": "stream",
     "text": [
      "<ipython-input-114-59a948df01a6>:68: DeprecationWarning: find_element_by_css_selector is deprecated. Please use find_element(by=By.CSS_SELECTOR, value=css_selector) instead\n",
      "  prev_button = driver.find_element_by_css_selector(\"#meta > div:nth-child(2) > div > a\")\n"
     ]
    },
    {
     "name": "stdout",
     "output_type": "stream",
     "text": [
      "Going to next season\n"
     ]
    },
    {
     "name": "stderr",
     "output_type": "stream",
     "text": [
      "<ipython-input-114-59a948df01a6>:24: DeprecationWarning: find_element_by_css_selector is deprecated. Please use find_element(by=By.CSS_SELECTOR, value=css_selector) instead\n",
      "  info = driver.find_element_by_css_selector('#info')\n",
      "<ipython-input-114-59a948df01a6>:32: DeprecationWarning: find_element_by_css_selector is deprecated. Please use find_element(by=By.CSS_SELECTOR, value=css_selector) instead\n",
      "  content = driver.find_element_by_css_selector('#div_stats_standard')\n"
     ]
    },
    {
     "name": "stdout",
     "output_type": "stream",
     "text": [
      "Fetching data for season 2018-2019\n",
      "Saving data to: \n",
      "C:\\Users\\hakon\\Documents\\GitHub\\DataSciencePortfolio\\ExpectedTransferFee\\WebScraping\\data\\La Liga_2018-2019.csv\n"
     ]
    },
    {
     "name": "stderr",
     "output_type": "stream",
     "text": [
      "<ipython-input-114-59a948df01a6>:68: DeprecationWarning: find_element_by_css_selector is deprecated. Please use find_element(by=By.CSS_SELECTOR, value=css_selector) instead\n",
      "  prev_button = driver.find_element_by_css_selector(\"#meta > div:nth-child(2) > div > a\")\n"
     ]
    },
    {
     "name": "stdout",
     "output_type": "stream",
     "text": [
      "Going to next season\n"
     ]
    },
    {
     "name": "stderr",
     "output_type": "stream",
     "text": [
      "<ipython-input-114-59a948df01a6>:24: DeprecationWarning: find_element_by_css_selector is deprecated. Please use find_element(by=By.CSS_SELECTOR, value=css_selector) instead\n",
      "  info = driver.find_element_by_css_selector('#info')\n",
      "<ipython-input-114-59a948df01a6>:32: DeprecationWarning: find_element_by_css_selector is deprecated. Please use find_element(by=By.CSS_SELECTOR, value=css_selector) instead\n",
      "  content = driver.find_element_by_css_selector('#div_stats_standard')\n"
     ]
    },
    {
     "name": "stdout",
     "output_type": "stream",
     "text": [
      "Fetching data for season 2017-2018\n",
      "Saving data to: \n",
      "C:\\Users\\hakon\\Documents\\GitHub\\DataSciencePortfolio\\ExpectedTransferFee\\WebScraping\\data\\La Liga_2017-2018.csv\n"
     ]
    },
    {
     "name": "stderr",
     "output_type": "stream",
     "text": [
      "<ipython-input-114-59a948df01a6>:68: DeprecationWarning: find_element_by_css_selector is deprecated. Please use find_element(by=By.CSS_SELECTOR, value=css_selector) instead\n",
      "  prev_button = driver.find_element_by_css_selector(\"#meta > div:nth-child(2) > div > a\")\n"
     ]
    },
    {
     "name": "stdout",
     "output_type": "stream",
     "text": [
      "Going to next season\n"
     ]
    },
    {
     "name": "stderr",
     "output_type": "stream",
     "text": [
      "<ipython-input-114-59a948df01a6>:24: DeprecationWarning: find_element_by_css_selector is deprecated. Please use find_element(by=By.CSS_SELECTOR, value=css_selector) instead\n",
      "  info = driver.find_element_by_css_selector('#info')\n",
      "<ipython-input-114-59a948df01a6>:32: DeprecationWarning: find_element_by_css_selector is deprecated. Please use find_element(by=By.CSS_SELECTOR, value=css_selector) instead\n",
      "  content = driver.find_element_by_css_selector('#div_stats_standard')\n"
     ]
    },
    {
     "name": "stdout",
     "output_type": "stream",
     "text": [
      "Fetching data for season 2016-2017\n",
      "Saving data to: \n",
      "C:\\Users\\hakon\\Documents\\GitHub\\DataSciencePortfolio\\ExpectedTransferFee\\WebScraping\\data\\La Liga_2016-2017.csv\n"
     ]
    },
    {
     "name": "stderr",
     "output_type": "stream",
     "text": [
      "<ipython-input-114-59a948df01a6>:68: DeprecationWarning: find_element_by_css_selector is deprecated. Please use find_element(by=By.CSS_SELECTOR, value=css_selector) instead\n",
      "  prev_button = driver.find_element_by_css_selector(\"#meta > div:nth-child(2) > div > a\")\n"
     ]
    },
    {
     "name": "stdout",
     "output_type": "stream",
     "text": [
      "Going to next season\n"
     ]
    },
    {
     "name": "stderr",
     "output_type": "stream",
     "text": [
      "<ipython-input-114-59a948df01a6>:24: DeprecationWarning: find_element_by_css_selector is deprecated. Please use find_element(by=By.CSS_SELECTOR, value=css_selector) instead\n",
      "  info = driver.find_element_by_css_selector('#info')\n",
      "<ipython-input-114-59a948df01a6>:32: DeprecationWarning: find_element_by_css_selector is deprecated. Please use find_element(by=By.CSS_SELECTOR, value=css_selector) instead\n",
      "  content = driver.find_element_by_css_selector('#div_stats_standard')\n"
     ]
    },
    {
     "name": "stdout",
     "output_type": "stream",
     "text": [
      "Fetching data for season 2015-2016\n",
      "Saving data to: \n",
      "C:\\Users\\hakon\\Documents\\GitHub\\DataSciencePortfolio\\ExpectedTransferFee\\WebScraping\\data\\La Liga_2015-2016.csv\n"
     ]
    },
    {
     "name": "stderr",
     "output_type": "stream",
     "text": [
      "<ipython-input-114-59a948df01a6>:68: DeprecationWarning: find_element_by_css_selector is deprecated. Please use find_element(by=By.CSS_SELECTOR, value=css_selector) instead\n",
      "  prev_button = driver.find_element_by_css_selector(\"#meta > div:nth-child(2) > div > a\")\n"
     ]
    },
    {
     "name": "stdout",
     "output_type": "stream",
     "text": [
      "Going to next season\n"
     ]
    },
    {
     "name": "stderr",
     "output_type": "stream",
     "text": [
      "<ipython-input-114-59a948df01a6>:24: DeprecationWarning: find_element_by_css_selector is deprecated. Please use find_element(by=By.CSS_SELECTOR, value=css_selector) instead\n",
      "  info = driver.find_element_by_css_selector('#info')\n",
      "<ipython-input-114-59a948df01a6>:32: DeprecationWarning: find_element_by_css_selector is deprecated. Please use find_element(by=By.CSS_SELECTOR, value=css_selector) instead\n",
      "  content = driver.find_element_by_css_selector('#div_stats_standard')\n"
     ]
    },
    {
     "name": "stdout",
     "output_type": "stream",
     "text": [
      "Fetching data for season 2014-2015\n",
      "Saving data to: \n",
      "C:\\Users\\hakon\\Documents\\GitHub\\DataSciencePortfolio\\ExpectedTransferFee\\WebScraping\\data\\La Liga_2014-2015.csv\n"
     ]
    },
    {
     "name": "stderr",
     "output_type": "stream",
     "text": [
      "<ipython-input-114-59a948df01a6>:68: DeprecationWarning: find_element_by_css_selector is deprecated. Please use find_element(by=By.CSS_SELECTOR, value=css_selector) instead\n",
      "  prev_button = driver.find_element_by_css_selector(\"#meta > div:nth-child(2) > div > a\")\n"
     ]
    },
    {
     "name": "stdout",
     "output_type": "stream",
     "text": [
      "Going to next season\n"
     ]
    },
    {
     "name": "stderr",
     "output_type": "stream",
     "text": [
      "<ipython-input-114-59a948df01a6>:24: DeprecationWarning: find_element_by_css_selector is deprecated. Please use find_element(by=By.CSS_SELECTOR, value=css_selector) instead\n",
      "  info = driver.find_element_by_css_selector('#info')\n",
      "<ipython-input-114-59a948df01a6>:32: DeprecationWarning: find_element_by_css_selector is deprecated. Please use find_element(by=By.CSS_SELECTOR, value=css_selector) instead\n",
      "  content = driver.find_element_by_css_selector('#div_stats_standard')\n"
     ]
    },
    {
     "name": "stdout",
     "output_type": "stream",
     "text": [
      "Fetching data for season 2013-2014\n",
      "Saving data to: \n",
      "C:\\Users\\hakon\\Documents\\GitHub\\DataSciencePortfolio\\ExpectedTransferFee\\WebScraping\\data\\La Liga_2013-2014.csv\n"
     ]
    },
    {
     "name": "stderr",
     "output_type": "stream",
     "text": [
      "<ipython-input-114-59a948df01a6>:68: DeprecationWarning: find_element_by_css_selector is deprecated. Please use find_element(by=By.CSS_SELECTOR, value=css_selector) instead\n",
      "  prev_button = driver.find_element_by_css_selector(\"#meta > div:nth-child(2) > div > a\")\n"
     ]
    },
    {
     "name": "stdout",
     "output_type": "stream",
     "text": [
      "Going to next season\n"
     ]
    },
    {
     "name": "stderr",
     "output_type": "stream",
     "text": [
      "<ipython-input-114-59a948df01a6>:24: DeprecationWarning: find_element_by_css_selector is deprecated. Please use find_element(by=By.CSS_SELECTOR, value=css_selector) instead\n",
      "  info = driver.find_element_by_css_selector('#info')\n",
      "<ipython-input-114-59a948df01a6>:32: DeprecationWarning: find_element_by_css_selector is deprecated. Please use find_element(by=By.CSS_SELECTOR, value=css_selector) instead\n",
      "  content = driver.find_element_by_css_selector('#div_stats_standard')\n"
     ]
    },
    {
     "name": "stdout",
     "output_type": "stream",
     "text": [
      "Fetching data for season 2012-2013\n",
      "Saving data to: \n",
      "C:\\Users\\hakon\\Documents\\GitHub\\DataSciencePortfolio\\ExpectedTransferFee\\WebScraping\\data\\La Liga_2012-2013.csv\n"
     ]
    },
    {
     "name": "stderr",
     "output_type": "stream",
     "text": [
      "<ipython-input-114-59a948df01a6>:68: DeprecationWarning: find_element_by_css_selector is deprecated. Please use find_element(by=By.CSS_SELECTOR, value=css_selector) instead\n",
      "  prev_button = driver.find_element_by_css_selector(\"#meta > div:nth-child(2) > div > a\")\n"
     ]
    },
    {
     "name": "stdout",
     "output_type": "stream",
     "text": [
      "Going to next season\n"
     ]
    },
    {
     "name": "stderr",
     "output_type": "stream",
     "text": [
      "<ipython-input-114-59a948df01a6>:24: DeprecationWarning: find_element_by_css_selector is deprecated. Please use find_element(by=By.CSS_SELECTOR, value=css_selector) instead\n",
      "  info = driver.find_element_by_css_selector('#info')\n",
      "<ipython-input-114-59a948df01a6>:32: DeprecationWarning: find_element_by_css_selector is deprecated. Please use find_element(by=By.CSS_SELECTOR, value=css_selector) instead\n",
      "  content = driver.find_element_by_css_selector('#div_stats_standard')\n"
     ]
    },
    {
     "name": "stdout",
     "output_type": "stream",
     "text": [
      "Fetching data for season 2011-2012\n",
      "Saving data to: \n",
      "C:\\Users\\hakon\\Documents\\GitHub\\DataSciencePortfolio\\ExpectedTransferFee\\WebScraping\\data\\La Liga_2011-2012.csv\n"
     ]
    },
    {
     "name": "stderr",
     "output_type": "stream",
     "text": [
      "<ipython-input-114-59a948df01a6>:68: DeprecationWarning: find_element_by_css_selector is deprecated. Please use find_element(by=By.CSS_SELECTOR, value=css_selector) instead\n",
      "  prev_button = driver.find_element_by_css_selector(\"#meta > div:nth-child(2) > div > a\")\n"
     ]
    },
    {
     "name": "stdout",
     "output_type": "stream",
     "text": [
      "Going to next season\n"
     ]
    },
    {
     "name": "stderr",
     "output_type": "stream",
     "text": [
      "<ipython-input-114-59a948df01a6>:24: DeprecationWarning: find_element_by_css_selector is deprecated. Please use find_element(by=By.CSS_SELECTOR, value=css_selector) instead\n",
      "  info = driver.find_element_by_css_selector('#info')\n",
      "<ipython-input-114-59a948df01a6>:32: DeprecationWarning: find_element_by_css_selector is deprecated. Please use find_element(by=By.CSS_SELECTOR, value=css_selector) instead\n",
      "  content = driver.find_element_by_css_selector('#div_stats_standard')\n"
     ]
    },
    {
     "name": "stdout",
     "output_type": "stream",
     "text": [
      "Fetching data for season 2010-2011\n",
      "Saving data to: \n",
      "C:\\Users\\hakon\\Documents\\GitHub\\DataSciencePortfolio\\ExpectedTransferFee\\WebScraping\\data\\La Liga_2010-2011.csv\n"
     ]
    },
    {
     "name": "stderr",
     "output_type": "stream",
     "text": [
      "<ipython-input-114-59a948df01a6>:68: DeprecationWarning: find_element_by_css_selector is deprecated. Please use find_element(by=By.CSS_SELECTOR, value=css_selector) instead\n",
      "  prev_button = driver.find_element_by_css_selector(\"#meta > div:nth-child(2) > div > a\")\n"
     ]
    },
    {
     "name": "stdout",
     "output_type": "stream",
     "text": [
      "Going to next season\n"
     ]
    },
    {
     "name": "stderr",
     "output_type": "stream",
     "text": [
      "<ipython-input-114-59a948df01a6>:24: DeprecationWarning: find_element_by_css_selector is deprecated. Please use find_element(by=By.CSS_SELECTOR, value=css_selector) instead\n",
      "  info = driver.find_element_by_css_selector('#info')\n",
      "<ipython-input-114-59a948df01a6>:32: DeprecationWarning: find_element_by_css_selector is deprecated. Please use find_element(by=By.CSS_SELECTOR, value=css_selector) instead\n",
      "  content = driver.find_element_by_css_selector('#div_stats_standard')\n"
     ]
    },
    {
     "name": "stdout",
     "output_type": "stream",
     "text": [
      "Fetching data for season 2009-2010\n",
      "Saving data to: \n",
      "C:\\Users\\hakon\\Documents\\GitHub\\DataSciencePortfolio\\ExpectedTransferFee\\WebScraping\\data\\La Liga_2009-2010.csv\n"
     ]
    },
    {
     "name": "stderr",
     "output_type": "stream",
     "text": [
      "<ipython-input-114-59a948df01a6>:68: DeprecationWarning: find_element_by_css_selector is deprecated. Please use find_element(by=By.CSS_SELECTOR, value=css_selector) instead\n",
      "  prev_button = driver.find_element_by_css_selector(\"#meta > div:nth-child(2) > div > a\")\n"
     ]
    },
    {
     "name": "stdout",
     "output_type": "stream",
     "text": [
      "Going to next season\n"
     ]
    },
    {
     "name": "stderr",
     "output_type": "stream",
     "text": [
      "<ipython-input-114-59a948df01a6>:24: DeprecationWarning: find_element_by_css_selector is deprecated. Please use find_element(by=By.CSS_SELECTOR, value=css_selector) instead\n",
      "  info = driver.find_element_by_css_selector('#info')\n",
      "<ipython-input-114-59a948df01a6>:32: DeprecationWarning: find_element_by_css_selector is deprecated. Please use find_element(by=By.CSS_SELECTOR, value=css_selector) instead\n",
      "  content = driver.find_element_by_css_selector('#div_stats_standard')\n"
     ]
    },
    {
     "name": "stdout",
     "output_type": "stream",
     "text": [
      "Fetching data for season 2008-2009\n",
      "Saving data to: \n",
      "C:\\Users\\hakon\\Documents\\GitHub\\DataSciencePortfolio\\ExpectedTransferFee\\WebScraping\\data\\La Liga_2008-2009.csv\n"
     ]
    },
    {
     "name": "stderr",
     "output_type": "stream",
     "text": [
      "<ipython-input-114-59a948df01a6>:68: DeprecationWarning: find_element_by_css_selector is deprecated. Please use find_element(by=By.CSS_SELECTOR, value=css_selector) instead\n",
      "  prev_button = driver.find_element_by_css_selector(\"#meta > div:nth-child(2) > div > a\")\n"
     ]
    },
    {
     "name": "stdout",
     "output_type": "stream",
     "text": [
      "Going to next season\n"
     ]
    },
    {
     "name": "stderr",
     "output_type": "stream",
     "text": [
      "<ipython-input-114-59a948df01a6>:24: DeprecationWarning: find_element_by_css_selector is deprecated. Please use find_element(by=By.CSS_SELECTOR, value=css_selector) instead\n",
      "  info = driver.find_element_by_css_selector('#info')\n",
      "<ipython-input-114-59a948df01a6>:32: DeprecationWarning: find_element_by_css_selector is deprecated. Please use find_element(by=By.CSS_SELECTOR, value=css_selector) instead\n",
      "  content = driver.find_element_by_css_selector('#div_stats_standard')\n"
     ]
    },
    {
     "name": "stdout",
     "output_type": "stream",
     "text": [
      "Fetching data for season 2007-2008\n",
      "Saving data to: \n",
      "C:\\Users\\hakon\\Documents\\GitHub\\DataSciencePortfolio\\ExpectedTransferFee\\WebScraping\\data\\La Liga_2007-2008.csv\n"
     ]
    },
    {
     "name": "stderr",
     "output_type": "stream",
     "text": [
      "<ipython-input-114-59a948df01a6>:68: DeprecationWarning: find_element_by_css_selector is deprecated. Please use find_element(by=By.CSS_SELECTOR, value=css_selector) instead\n",
      "  prev_button = driver.find_element_by_css_selector(\"#meta > div:nth-child(2) > div > a\")\n"
     ]
    },
    {
     "name": "stdout",
     "output_type": "stream",
     "text": [
      "Going to next season\n"
     ]
    },
    {
     "name": "stderr",
     "output_type": "stream",
     "text": [
      "<ipython-input-114-59a948df01a6>:24: DeprecationWarning: find_element_by_css_selector is deprecated. Please use find_element(by=By.CSS_SELECTOR, value=css_selector) instead\n",
      "  info = driver.find_element_by_css_selector('#info')\n",
      "<ipython-input-114-59a948df01a6>:32: DeprecationWarning: find_element_by_css_selector is deprecated. Please use find_element(by=By.CSS_SELECTOR, value=css_selector) instead\n",
      "  content = driver.find_element_by_css_selector('#div_stats_standard')\n"
     ]
    },
    {
     "name": "stdout",
     "output_type": "stream",
     "text": [
      "Fetching data for season 2006-2007\n",
      "Saving data to: \n",
      "C:\\Users\\hakon\\Documents\\GitHub\\DataSciencePortfolio\\ExpectedTransferFee\\WebScraping\\data\\La Liga_2006-2007.csv\n"
     ]
    },
    {
     "name": "stderr",
     "output_type": "stream",
     "text": [
      "<ipython-input-114-59a948df01a6>:68: DeprecationWarning: find_element_by_css_selector is deprecated. Please use find_element(by=By.CSS_SELECTOR, value=css_selector) instead\n",
      "  prev_button = driver.find_element_by_css_selector(\"#meta > div:nth-child(2) > div > a\")\n"
     ]
    },
    {
     "name": "stdout",
     "output_type": "stream",
     "text": [
      "Going to next season\n"
     ]
    },
    {
     "name": "stderr",
     "output_type": "stream",
     "text": [
      "<ipython-input-114-59a948df01a6>:24: DeprecationWarning: find_element_by_css_selector is deprecated. Please use find_element(by=By.CSS_SELECTOR, value=css_selector) instead\n",
      "  info = driver.find_element_by_css_selector('#info')\n",
      "<ipython-input-114-59a948df01a6>:32: DeprecationWarning: find_element_by_css_selector is deprecated. Please use find_element(by=By.CSS_SELECTOR, value=css_selector) instead\n",
      "  content = driver.find_element_by_css_selector('#div_stats_standard')\n"
     ]
    },
    {
     "name": "stdout",
     "output_type": "stream",
     "text": [
      "Fetching data for season 2005-2006\n",
      "Saving data to: \n",
      "C:\\Users\\hakon\\Documents\\GitHub\\DataSciencePortfolio\\ExpectedTransferFee\\WebScraping\\data\\La Liga_2005-2006.csv\n"
     ]
    },
    {
     "name": "stderr",
     "output_type": "stream",
     "text": [
      "<ipython-input-114-59a948df01a6>:68: DeprecationWarning: find_element_by_css_selector is deprecated. Please use find_element(by=By.CSS_SELECTOR, value=css_selector) instead\n",
      "  prev_button = driver.find_element_by_css_selector(\"#meta > div:nth-child(2) > div > a\")\n"
     ]
    },
    {
     "name": "stdout",
     "output_type": "stream",
     "text": [
      "Going to next season\n"
     ]
    },
    {
     "name": "stderr",
     "output_type": "stream",
     "text": [
      "<ipython-input-114-59a948df01a6>:24: DeprecationWarning: find_element_by_css_selector is deprecated. Please use find_element(by=By.CSS_SELECTOR, value=css_selector) instead\n",
      "  info = driver.find_element_by_css_selector('#info')\n",
      "<ipython-input-114-59a948df01a6>:32: DeprecationWarning: find_element_by_css_selector is deprecated. Please use find_element(by=By.CSS_SELECTOR, value=css_selector) instead\n",
      "  content = driver.find_element_by_css_selector('#div_stats_standard')\n"
     ]
    },
    {
     "name": "stdout",
     "output_type": "stream",
     "text": [
      "Fetching data for season 2004-2005\n",
      "Saving data to: \n",
      "C:\\Users\\hakon\\Documents\\GitHub\\DataSciencePortfolio\\ExpectedTransferFee\\WebScraping\\data\\La Liga_2004-2005.csv\n"
     ]
    },
    {
     "name": "stderr",
     "output_type": "stream",
     "text": [
      "<ipython-input-114-59a948df01a6>:68: DeprecationWarning: find_element_by_css_selector is deprecated. Please use find_element(by=By.CSS_SELECTOR, value=css_selector) instead\n",
      "  prev_button = driver.find_element_by_css_selector(\"#meta > div:nth-child(2) > div > a\")\n"
     ]
    },
    {
     "name": "stdout",
     "output_type": "stream",
     "text": [
      "Going to next season\n"
     ]
    },
    {
     "name": "stderr",
     "output_type": "stream",
     "text": [
      "<ipython-input-114-59a948df01a6>:24: DeprecationWarning: find_element_by_css_selector is deprecated. Please use find_element(by=By.CSS_SELECTOR, value=css_selector) instead\n",
      "  info = driver.find_element_by_css_selector('#info')\n",
      "<ipython-input-114-59a948df01a6>:32: DeprecationWarning: find_element_by_css_selector is deprecated. Please use find_element(by=By.CSS_SELECTOR, value=css_selector) instead\n",
      "  content = driver.find_element_by_css_selector('#div_stats_standard')\n"
     ]
    },
    {
     "name": "stdout",
     "output_type": "stream",
     "text": [
      "Fetching data for season 2003-2004\n",
      "Saving data to: \n",
      "C:\\Users\\hakon\\Documents\\GitHub\\DataSciencePortfolio\\ExpectedTransferFee\\WebScraping\\data\\La Liga_2003-2004.csv\n"
     ]
    },
    {
     "name": "stderr",
     "output_type": "stream",
     "text": [
      "<ipython-input-114-59a948df01a6>:68: DeprecationWarning: find_element_by_css_selector is deprecated. Please use find_element(by=By.CSS_SELECTOR, value=css_selector) instead\n",
      "  prev_button = driver.find_element_by_css_selector(\"#meta > div:nth-child(2) > div > a\")\n"
     ]
    },
    {
     "name": "stdout",
     "output_type": "stream",
     "text": [
      "Going to next season\n"
     ]
    },
    {
     "name": "stderr",
     "output_type": "stream",
     "text": [
      "<ipython-input-114-59a948df01a6>:24: DeprecationWarning: find_element_by_css_selector is deprecated. Please use find_element(by=By.CSS_SELECTOR, value=css_selector) instead\n",
      "  info = driver.find_element_by_css_selector('#info')\n",
      "<ipython-input-114-59a948df01a6>:32: DeprecationWarning: find_element_by_css_selector is deprecated. Please use find_element(by=By.CSS_SELECTOR, value=css_selector) instead\n",
      "  content = driver.find_element_by_css_selector('#div_stats_standard')\n"
     ]
    },
    {
     "name": "stdout",
     "output_type": "stream",
     "text": [
      "Fetching data for season 2002-2003\n",
      "Saving data to: \n",
      "C:\\Users\\hakon\\Documents\\GitHub\\DataSciencePortfolio\\ExpectedTransferFee\\WebScraping\\data\\La Liga_2002-2003.csv\n"
     ]
    },
    {
     "name": "stderr",
     "output_type": "stream",
     "text": [
      "<ipython-input-114-59a948df01a6>:68: DeprecationWarning: find_element_by_css_selector is deprecated. Please use find_element(by=By.CSS_SELECTOR, value=css_selector) instead\n",
      "  prev_button = driver.find_element_by_css_selector(\"#meta > div:nth-child(2) > div > a\")\n"
     ]
    },
    {
     "name": "stdout",
     "output_type": "stream",
     "text": [
      "Going to next season\n"
     ]
    },
    {
     "name": "stderr",
     "output_type": "stream",
     "text": [
      "<ipython-input-114-59a948df01a6>:24: DeprecationWarning: find_element_by_css_selector is deprecated. Please use find_element(by=By.CSS_SELECTOR, value=css_selector) instead\n",
      "  info = driver.find_element_by_css_selector('#info')\n",
      "<ipython-input-114-59a948df01a6>:32: DeprecationWarning: find_element_by_css_selector is deprecated. Please use find_element(by=By.CSS_SELECTOR, value=css_selector) instead\n",
      "  content = driver.find_element_by_css_selector('#div_stats_standard')\n"
     ]
    },
    {
     "name": "stdout",
     "output_type": "stream",
     "text": [
      "Fetching data for season 2001-2002\n",
      "Saving data to: \n",
      "C:\\Users\\hakon\\Documents\\GitHub\\DataSciencePortfolio\\ExpectedTransferFee\\WebScraping\\data\\La Liga_2001-2002.csv\n"
     ]
    },
    {
     "name": "stderr",
     "output_type": "stream",
     "text": [
      "<ipython-input-114-59a948df01a6>:68: DeprecationWarning: find_element_by_css_selector is deprecated. Please use find_element(by=By.CSS_SELECTOR, value=css_selector) instead\n",
      "  prev_button = driver.find_element_by_css_selector(\"#meta > div:nth-child(2) > div > a\")\n"
     ]
    },
    {
     "name": "stdout",
     "output_type": "stream",
     "text": [
      "Going to next season\n"
     ]
    },
    {
     "name": "stderr",
     "output_type": "stream",
     "text": [
      "<ipython-input-114-59a948df01a6>:24: DeprecationWarning: find_element_by_css_selector is deprecated. Please use find_element(by=By.CSS_SELECTOR, value=css_selector) instead\n",
      "  info = driver.find_element_by_css_selector('#info')\n",
      "<ipython-input-114-59a948df01a6>:32: DeprecationWarning: find_element_by_css_selector is deprecated. Please use find_element(by=By.CSS_SELECTOR, value=css_selector) instead\n",
      "  content = driver.find_element_by_css_selector('#div_stats_standard')\n"
     ]
    },
    {
     "name": "stdout",
     "output_type": "stream",
     "text": [
      "Fetching data for season 2000-2001\n",
      "Saving data to: \n",
      "C:\\Users\\hakon\\Documents\\GitHub\\DataSciencePortfolio\\ExpectedTransferFee\\WebScraping\\data\\La Liga_2000-2001.csv\n"
     ]
    },
    {
     "name": "stderr",
     "output_type": "stream",
     "text": [
      "<ipython-input-114-59a948df01a6>:68: DeprecationWarning: find_element_by_css_selector is deprecated. Please use find_element(by=By.CSS_SELECTOR, value=css_selector) instead\n",
      "  prev_button = driver.find_element_by_css_selector(\"#meta > div:nth-child(2) > div > a\")\n"
     ]
    },
    {
     "name": "stdout",
     "output_type": "stream",
     "text": [
      "Going to next season\n"
     ]
    },
    {
     "name": "stderr",
     "output_type": "stream",
     "text": [
      "<ipython-input-114-59a948df01a6>:24: DeprecationWarning: find_element_by_css_selector is deprecated. Please use find_element(by=By.CSS_SELECTOR, value=css_selector) instead\n",
      "  info = driver.find_element_by_css_selector('#info')\n",
      "<ipython-input-114-59a948df01a6>:32: DeprecationWarning: find_element_by_css_selector is deprecated. Please use find_element(by=By.CSS_SELECTOR, value=css_selector) instead\n",
      "  content = driver.find_element_by_css_selector('#div_stats_standard')\n"
     ]
    },
    {
     "name": "stdout",
     "output_type": "stream",
     "text": [
      "Fetching data for season 1999-2000\n",
      "Saving data to: \n",
      "C:\\Users\\hakon\\Documents\\GitHub\\DataSciencePortfolio\\ExpectedTransferFee\\WebScraping\\data\\La Liga_1999-2000.csv\n"
     ]
    },
    {
     "name": "stderr",
     "output_type": "stream",
     "text": [
      "<ipython-input-114-59a948df01a6>:68: DeprecationWarning: find_element_by_css_selector is deprecated. Please use find_element(by=By.CSS_SELECTOR, value=css_selector) instead\n",
      "  prev_button = driver.find_element_by_css_selector(\"#meta > div:nth-child(2) > div > a\")\n"
     ]
    },
    {
     "name": "stdout",
     "output_type": "stream",
     "text": [
      "Going to next season\n"
     ]
    },
    {
     "name": "stderr",
     "output_type": "stream",
     "text": [
      "<ipython-input-114-59a948df01a6>:24: DeprecationWarning: find_element_by_css_selector is deprecated. Please use find_element(by=By.CSS_SELECTOR, value=css_selector) instead\n",
      "  info = driver.find_element_by_css_selector('#info')\n",
      "<ipython-input-114-59a948df01a6>:32: DeprecationWarning: find_element_by_css_selector is deprecated. Please use find_element(by=By.CSS_SELECTOR, value=css_selector) instead\n",
      "  content = driver.find_element_by_css_selector('#div_stats_standard')\n"
     ]
    },
    {
     "name": "stdout",
     "output_type": "stream",
     "text": [
      "Fetching data for season 1998-1999\n",
      "Saving data to: \n",
      "C:\\Users\\hakon\\Documents\\GitHub\\DataSciencePortfolio\\ExpectedTransferFee\\WebScraping\\data\\La Liga_1998-1999.csv\n"
     ]
    },
    {
     "name": "stderr",
     "output_type": "stream",
     "text": [
      "<ipython-input-114-59a948df01a6>:68: DeprecationWarning: find_element_by_css_selector is deprecated. Please use find_element(by=By.CSS_SELECTOR, value=css_selector) instead\n",
      "  prev_button = driver.find_element_by_css_selector(\"#meta > div:nth-child(2) > div > a\")\n"
     ]
    },
    {
     "name": "stdout",
     "output_type": "stream",
     "text": [
      "Going to next season\n"
     ]
    },
    {
     "name": "stderr",
     "output_type": "stream",
     "text": [
      "<ipython-input-114-59a948df01a6>:24: DeprecationWarning: find_element_by_css_selector is deprecated. Please use find_element(by=By.CSS_SELECTOR, value=css_selector) instead\n",
      "  info = driver.find_element_by_css_selector('#info')\n",
      "<ipython-input-114-59a948df01a6>:32: DeprecationWarning: find_element_by_css_selector is deprecated. Please use find_element(by=By.CSS_SELECTOR, value=css_selector) instead\n",
      "  content = driver.find_element_by_css_selector('#div_stats_standard')\n"
     ]
    },
    {
     "name": "stdout",
     "output_type": "stream",
     "text": [
      "Fetching data for season 1997-1998\n",
      "Saving data to: \n",
      "C:\\Users\\hakon\\Documents\\GitHub\\DataSciencePortfolio\\ExpectedTransferFee\\WebScraping\\data\\La Liga_1997-1998.csv\n"
     ]
    },
    {
     "name": "stderr",
     "output_type": "stream",
     "text": [
      "<ipython-input-114-59a948df01a6>:68: DeprecationWarning: find_element_by_css_selector is deprecated. Please use find_element(by=By.CSS_SELECTOR, value=css_selector) instead\n",
      "  prev_button = driver.find_element_by_css_selector(\"#meta > div:nth-child(2) > div > a\")\n"
     ]
    },
    {
     "name": "stdout",
     "output_type": "stream",
     "text": [
      "Going to next season\n"
     ]
    },
    {
     "name": "stderr",
     "output_type": "stream",
     "text": [
      "<ipython-input-114-59a948df01a6>:24: DeprecationWarning: find_element_by_css_selector is deprecated. Please use find_element(by=By.CSS_SELECTOR, value=css_selector) instead\n",
      "  info = driver.find_element_by_css_selector('#info')\n",
      "<ipython-input-114-59a948df01a6>:32: DeprecationWarning: find_element_by_css_selector is deprecated. Please use find_element(by=By.CSS_SELECTOR, value=css_selector) instead\n",
      "  content = driver.find_element_by_css_selector('#div_stats_standard')\n"
     ]
    },
    {
     "name": "stdout",
     "output_type": "stream",
     "text": [
      "Fetching data for season 1996-1997\n",
      "Saving data to: \n",
      "C:\\Users\\hakon\\Documents\\GitHub\\DataSciencePortfolio\\ExpectedTransferFee\\WebScraping\\data\\La Liga_1996-1997.csv\n"
     ]
    },
    {
     "name": "stderr",
     "output_type": "stream",
     "text": [
      "<ipython-input-114-59a948df01a6>:68: DeprecationWarning: find_element_by_css_selector is deprecated. Please use find_element(by=By.CSS_SELECTOR, value=css_selector) instead\n",
      "  prev_button = driver.find_element_by_css_selector(\"#meta > div:nth-child(2) > div > a\")\n"
     ]
    },
    {
     "name": "stdout",
     "output_type": "stream",
     "text": [
      "Going to next season\n"
     ]
    },
    {
     "name": "stderr",
     "output_type": "stream",
     "text": [
      "<ipython-input-114-59a948df01a6>:24: DeprecationWarning: find_element_by_css_selector is deprecated. Please use find_element(by=By.CSS_SELECTOR, value=css_selector) instead\n",
      "  info = driver.find_element_by_css_selector('#info')\n",
      "<ipython-input-114-59a948df01a6>:32: DeprecationWarning: find_element_by_css_selector is deprecated. Please use find_element(by=By.CSS_SELECTOR, value=css_selector) instead\n",
      "  content = driver.find_element_by_css_selector('#div_stats_standard')\n"
     ]
    },
    {
     "name": "stdout",
     "output_type": "stream",
     "text": [
      "Fetching data for season 1995-1996\n",
      "Saving data to: \n",
      "C:\\Users\\hakon\\Documents\\GitHub\\DataSciencePortfolio\\ExpectedTransferFee\\WebScraping\\data\\La Liga_1995-1996.csv\n"
     ]
    },
    {
     "name": "stderr",
     "output_type": "stream",
     "text": [
      "<ipython-input-114-59a948df01a6>:68: DeprecationWarning: find_element_by_css_selector is deprecated. Please use find_element(by=By.CSS_SELECTOR, value=css_selector) instead\n",
      "  prev_button = driver.find_element_by_css_selector(\"#meta > div:nth-child(2) > div > a\")\n"
     ]
    },
    {
     "name": "stdout",
     "output_type": "stream",
     "text": [
      "Going to next season\n"
     ]
    },
    {
     "name": "stderr",
     "output_type": "stream",
     "text": [
      "<ipython-input-114-59a948df01a6>:24: DeprecationWarning: find_element_by_css_selector is deprecated. Please use find_element(by=By.CSS_SELECTOR, value=css_selector) instead\n",
      "  info = driver.find_element_by_css_selector('#info')\n",
      "<ipython-input-114-59a948df01a6>:32: DeprecationWarning: find_element_by_css_selector is deprecated. Please use find_element(by=By.CSS_SELECTOR, value=css_selector) instead\n",
      "  content = driver.find_element_by_css_selector('#div_stats_standard')\n"
     ]
    },
    {
     "name": "stdout",
     "output_type": "stream",
     "text": [
      "Fetching data for season 1994-1995\n",
      "Saving data to: \n",
      "C:\\Users\\hakon\\Documents\\GitHub\\DataSciencePortfolio\\ExpectedTransferFee\\WebScraping\\data\\La Liga_1994-1995.csv\n"
     ]
    },
    {
     "name": "stderr",
     "output_type": "stream",
     "text": [
      "<ipython-input-114-59a948df01a6>:68: DeprecationWarning: find_element_by_css_selector is deprecated. Please use find_element(by=By.CSS_SELECTOR, value=css_selector) instead\n",
      "  prev_button = driver.find_element_by_css_selector(\"#meta > div:nth-child(2) > div > a\")\n"
     ]
    },
    {
     "name": "stdout",
     "output_type": "stream",
     "text": [
      "Going to next season\n"
     ]
    },
    {
     "name": "stderr",
     "output_type": "stream",
     "text": [
      "<ipython-input-114-59a948df01a6>:24: DeprecationWarning: find_element_by_css_selector is deprecated. Please use find_element(by=By.CSS_SELECTOR, value=css_selector) instead\n",
      "  info = driver.find_element_by_css_selector('#info')\n",
      "<ipython-input-114-59a948df01a6>:32: DeprecationWarning: find_element_by_css_selector is deprecated. Please use find_element(by=By.CSS_SELECTOR, value=css_selector) instead\n",
      "  content = driver.find_element_by_css_selector('#div_stats_standard')\n"
     ]
    },
    {
     "name": "stdout",
     "output_type": "stream",
     "text": [
      "Fetching data for season 1993-1994\n",
      "Saving data to: \n",
      "C:\\Users\\hakon\\Documents\\GitHub\\DataSciencePortfolio\\ExpectedTransferFee\\WebScraping\\data\\La Liga_1993-1994.csv\n"
     ]
    },
    {
     "name": "stderr",
     "output_type": "stream",
     "text": [
      "<ipython-input-114-59a948df01a6>:68: DeprecationWarning: find_element_by_css_selector is deprecated. Please use find_element(by=By.CSS_SELECTOR, value=css_selector) instead\n",
      "  prev_button = driver.find_element_by_css_selector(\"#meta > div:nth-child(2) > div > a\")\n"
     ]
    },
    {
     "name": "stdout",
     "output_type": "stream",
     "text": [
      "Going to next season\n"
     ]
    },
    {
     "name": "stderr",
     "output_type": "stream",
     "text": [
      "<ipython-input-114-59a948df01a6>:24: DeprecationWarning: find_element_by_css_selector is deprecated. Please use find_element(by=By.CSS_SELECTOR, value=css_selector) instead\n",
      "  info = driver.find_element_by_css_selector('#info')\n",
      "<ipython-input-114-59a948df01a6>:32: DeprecationWarning: find_element_by_css_selector is deprecated. Please use find_element(by=By.CSS_SELECTOR, value=css_selector) instead\n",
      "  content = driver.find_element_by_css_selector('#div_stats_standard')\n"
     ]
    },
    {
     "name": "stdout",
     "output_type": "stream",
     "text": [
      "Fetching data for season 1992-1993\n",
      "Saving data to: \n",
      "C:\\Users\\hakon\\Documents\\GitHub\\DataSciencePortfolio\\ExpectedTransferFee\\WebScraping\\data\\La Liga_1992-1993.csv\n",
      "Last season found, 1992/1993\n"
     ]
    },
    {
     "ename": "NameError",
     "evalue": "name 'final_df' is not defined",
     "output_type": "error",
     "traceback": [
      "\u001b[1;31m---------------------------------------------------------------------------\u001b[0m",
      "\u001b[1;31mNameError\u001b[0m                                 Traceback (most recent call last)",
      "\u001b[1;32m<ipython-input-119-63c5641ff1ec>\u001b[0m in \u001b[0;36m<module>\u001b[1;34m\u001b[0m\n\u001b[0;32m      9\u001b[0m \u001b[1;33m\u001b[0m\u001b[0m\n\u001b[0;32m     10\u001b[0m \u001b[1;33m\u001b[0m\u001b[0m\n\u001b[1;32m---> 11\u001b[1;33m \u001b[0mwebscraper\u001b[0m\u001b[1;33m(\u001b[0m\u001b[0murl\u001b[0m\u001b[1;33m,\u001b[0m \u001b[0mchrome_path\u001b[0m\u001b[1;33m,\u001b[0m \u001b[1;34m\"La Liga\"\u001b[0m\u001b[1;33m)\u001b[0m\u001b[1;33m\u001b[0m\u001b[1;33m\u001b[0m\u001b[0m\n\u001b[0m\u001b[0;32m     12\u001b[0m \u001b[1;33m\u001b[0m\u001b[0m\n",
      "\u001b[1;32m<ipython-input-114-59a948df01a6>\u001b[0m in \u001b[0;36mwebscraper\u001b[1;34m(url, chrome_path, league_name)\u001b[0m\n\u001b[0;32m     62\u001b[0m         \u001b[1;32mif\u001b[0m \u001b[1;34m\"92\"\u001b[0m \u001b[1;32min\u001b[0m \u001b[0mseason\u001b[0m\u001b[1;33m:\u001b[0m\u001b[1;33m\u001b[0m\u001b[1;33m\u001b[0m\u001b[0m\n\u001b[0;32m     63\u001b[0m             \u001b[0mprint\u001b[0m\u001b[1;33m(\u001b[0m\u001b[1;34m\"Last season found, 1992/1993\"\u001b[0m\u001b[1;33m)\u001b[0m\u001b[1;33m\u001b[0m\u001b[1;33m\u001b[0m\u001b[0m\n\u001b[1;32m---> 64\u001b[1;33m             \u001b[1;32mreturn\u001b[0m \u001b[0mfinal_df\u001b[0m\u001b[1;33m\u001b[0m\u001b[1;33m\u001b[0m\u001b[0m\n\u001b[0m\u001b[0;32m     65\u001b[0m         \u001b[1;31m# Go to next page\u001b[0m\u001b[1;33m\u001b[0m\u001b[1;33m\u001b[0m\u001b[1;33m\u001b[0m\u001b[0m\n\u001b[0;32m     66\u001b[0m         \u001b[1;32mtry\u001b[0m\u001b[1;33m:\u001b[0m\u001b[1;33m\u001b[0m\u001b[1;33m\u001b[0m\u001b[0m\n",
      "\u001b[1;31mNameError\u001b[0m: name 'final_df' is not defined"
     ]
    }
   ],
   "source": [
    "# Initializing inputs\n",
    "\n",
    "chrome_path = os.getcwd() + '\\\\chromedriver.exe'\n",
    "\n",
    "url = 'https://fbref.com/en/comps/12/10731/stats/2020-2021-La-Liga-Stats'\n",
    "\n",
    "league_name = \"La Liga\"\n",
    "\n",
    "year_stop = \"95\"\n",
    "\n",
    "\n",
    "webscraper(url, chrome_path, \"La Liga\", \"95\")\n",
    "\n"
   ]
  },
  {
   "cell_type": "code",
   "execution_count": 5,
   "metadata": {},
   "outputs": [],
   "source": [
    "# Extract table\n",
    "table = soup.find('table')\n",
    "\n",
    "# Get body\n",
    "tbody = table.find('tbody')\n"
   ]
  },
  {
   "cell_type": "code",
   "execution_count": 8,
   "metadata": {},
   "outputs": [],
   "source": [
    "# Extract table\n",
    "table = soup.find('table')\n",
    "\n",
    "# Appending every cell of data to a list\n",
    "data = []\n",
    "for tr_body in tbody.find_all('tr'):\n",
    "    row = []\n",
    "    for td in tr_body.find_all('td'):\n",
    "        row.append(td.get_text())\n",
    "    data.append(row)"
   ]
  },
  {
   "cell_type": "code",
   "execution_count": 9,
   "metadata": {},
   "outputs": [
    {
     "data": {
      "text/html": [
       "<div>\n",
       "<style scoped>\n",
       "    .dataframe tbody tr th:only-of-type {\n",
       "        vertical-align: middle;\n",
       "    }\n",
       "\n",
       "    .dataframe tbody tr th {\n",
       "        vertical-align: top;\n",
       "    }\n",
       "\n",
       "    .dataframe thead th {\n",
       "        text-align: right;\n",
       "    }\n",
       "</style>\n",
       "<table border=\"1\" class=\"dataframe\">\n",
       "  <thead>\n",
       "    <tr style=\"text-align: right;\">\n",
       "      <th></th>\n",
       "      <th>Player</th>\n",
       "      <th>Nation</th>\n",
       "      <th>Pos</th>\n",
       "      <th>Squad</th>\n",
       "      <th>Age</th>\n",
       "      <th>Born</th>\n",
       "      <th>MP</th>\n",
       "      <th>Starts</th>\n",
       "      <th>Min</th>\n",
       "      <th>90s</th>\n",
       "      <th>...</th>\n",
       "      <th>xG</th>\n",
       "      <th>npxG</th>\n",
       "      <th>xA</th>\n",
       "      <th>npxG+xA</th>\n",
       "      <th>xG</th>\n",
       "      <th>xA</th>\n",
       "      <th>xG+xA</th>\n",
       "      <th>npxG</th>\n",
       "      <th>npxG+xA</th>\n",
       "      <th>Matches</th>\n",
       "    </tr>\n",
       "  </thead>\n",
       "  <tbody>\n",
       "    <tr>\n",
       "      <th>24</th>\n",
       "      <td>Pierre-Emerick Aubameyang</td>\n",
       "      <td>ga GAB</td>\n",
       "      <td>FW</td>\n",
       "      <td>Arsenal</td>\n",
       "      <td>32-305</td>\n",
       "      <td>1989</td>\n",
       "      <td>14</td>\n",
       "      <td>12</td>\n",
       "      <td>1,037</td>\n",
       "      <td>11.5</td>\n",
       "      <td>...</td>\n",
       "      <td>5.8</td>\n",
       "      <td>4.1</td>\n",
       "      <td>0.8</td>\n",
       "      <td>5.0</td>\n",
       "      <td>0.50</td>\n",
       "      <td>0.07</td>\n",
       "      <td>0.57</td>\n",
       "      <td>0.36</td>\n",
       "      <td>0.43</td>\n",
       "      <td>Matches</td>\n",
       "    </tr>\n",
       "    <tr>\n",
       "      <th>26</th>\n",
       "      <td>Jordan Ayew</td>\n",
       "      <td>gh GHA</td>\n",
       "      <td>FW</td>\n",
       "      <td>Crystal Palace</td>\n",
       "      <td>30-220</td>\n",
       "      <td>1991</td>\n",
       "      <td>27</td>\n",
       "      <td>20</td>\n",
       "      <td>1,722</td>\n",
       "      <td>19.1</td>\n",
       "      <td>...</td>\n",
       "      <td>2.9</td>\n",
       "      <td>2.9</td>\n",
       "      <td>2.2</td>\n",
       "      <td>5.2</td>\n",
       "      <td>0.15</td>\n",
       "      <td>0.12</td>\n",
       "      <td>0.27</td>\n",
       "      <td>0.15</td>\n",
       "      <td>0.27</td>\n",
       "      <td>Matches</td>\n",
       "    </tr>\n",
       "    <tr>\n",
       "      <th>27</th>\n",
       "      <td>Luke Ayling</td>\n",
       "      <td>eng ENG</td>\n",
       "      <td>DF</td>\n",
       "      <td>Leeds United</td>\n",
       "      <td>30-237</td>\n",
       "      <td>1991</td>\n",
       "      <td>23</td>\n",
       "      <td>23</td>\n",
       "      <td>2,066</td>\n",
       "      <td>23.0</td>\n",
       "      <td>...</td>\n",
       "      <td>1.5</td>\n",
       "      <td>1.5</td>\n",
       "      <td>0.8</td>\n",
       "      <td>2.3</td>\n",
       "      <td>0.07</td>\n",
       "      <td>0.03</td>\n",
       "      <td>0.10</td>\n",
       "      <td>0.07</td>\n",
       "      <td>0.10</td>\n",
       "      <td>Matches</td>\n",
       "    </tr>\n",
       "  </tbody>\n",
       "</table>\n",
       "<p>3 rows × 32 columns</p>\n",
       "</div>"
      ],
      "text/plain": [
       "                       Player   Nation Pos           Squad     Age  Born  MP  \\\n",
       "24  Pierre-Emerick Aubameyang   ga GAB  FW         Arsenal  32-305  1989  14   \n",
       "26                Jordan Ayew   gh GHA  FW  Crystal Palace  30-220  1991  27   \n",
       "27                Luke Ayling  eng ENG  DF    Leeds United  30-237  1991  23   \n",
       "\n",
       "   Starts    Min   90s  ...   xG npxG   xA npxG+xA    xG    xA xG+xA  npxG  \\\n",
       "24     12  1,037  11.5  ...  5.8  4.1  0.8     5.0  0.50  0.07  0.57  0.36   \n",
       "26     20  1,722  19.1  ...  2.9  2.9  2.2     5.2  0.15  0.12  0.27  0.15   \n",
       "27     23  2,066  23.0  ...  1.5  1.5  0.8     2.3  0.07  0.03  0.10  0.07   \n",
       "\n",
       "   npxG+xA  Matches  \n",
       "24    0.43  Matches  \n",
       "26    0.27  Matches  \n",
       "27    0.10  Matches  \n",
       "\n",
       "[3 rows x 32 columns]"
      ]
     },
     "execution_count": 9,
     "metadata": {},
     "output_type": "execute_result"
    }
   ],
   "source": [
    "df = pd.DataFrame(data)\n",
    "\n",
    "# Get header\n",
    "header = table.find('thead').find_all('tr')[1].get_text().split('\\n')[2:-1]\n",
    "df.columns=header\n",
    "df = df.dropna() # Dropping Nan rows\n",
    "df.loc[24:27] # Showing that the NaN rows are dropped"
   ]
  }
 ],
 "metadata": {
  "kernelspec": {
   "display_name": "Python 3",
   "language": "python",
   "name": "python3"
  },
  "language_info": {
   "codemirror_mode": {
    "name": "ipython",
    "version": 3
   },
   "file_extension": ".py",
   "mimetype": "text/x-python",
   "name": "python",
   "nbconvert_exporter": "python",
   "pygments_lexer": "ipython3",
   "version": "3.8.5"
  }
 },
 "nbformat": 4,
 "nbformat_minor": 4
}
